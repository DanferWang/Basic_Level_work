{
 "cells": [
  {
   "cell_type": "code",
   "execution_count": 1,
   "outputs": [],
   "source": "import pandas as pd\nimport numpy as np\n\nfrom sklearn.model_selection import StratifiedKFold\nfrom imblearn.over_sampling import SMOTE\nfrom sklearn.ensemble import RandomForestClassifier\nfrom imblearn.pipeline import make_pipeline\nfrom sklearn.metrics import classification_report, cohen_kappa_score, balanced_accuracy_score\nfrom itertools import combinations\n\nimport warnings\nwarnings.filterwarnings(\"ignore\")",
   "metadata": {
    "collapsed": false,
    "pycharm": {
     "name": "#%%\n"
    },
    "trusted": false
   }
  },
  {
   "cell_type": "code",
   "execution_count": 2,
   "outputs": [
    {
     "data": {
      "text/plain": "                              Synsets domain_x  nrdirhypers_x  nrhypos_x  \\\n0    Synset('adjustable_wrench.n.01')     tool              1          7   \n1         Synset('allen_wrench.n.01')     tool              1          0   \n2     Synset('alligator_wrench.n.01')     tool              1          0   \n3                  Synset('awl.n.01')     tool              1          2   \n4              Synset('backsaw.n.01')     tool              1          0   \n..                                ...      ...            ...        ...   \n834       Synset('ballet_skirt.n.01')     garm              1          0   \n835        Synset('mess_jacket.n.01')     garm              1          0   \n836         Synset('long_johns.n.01')     garm              1          0   \n837             Synset('undies.n.01')     garm              1          0   \n838           Synset('lingerie.n.01')     garm              1          2   \n\n     nrpartrels_normalised_x  depthfromtopsynset_normalised_x  \\\n0                        0.0                         1.012903   \n1                        0.0                         1.012903   \n2                        0.0                         1.012903   \n3                       15.7                         0.911613   \n4                        0.0                         1.114194   \n..                       ...                              ...   \n834                      0.0                         0.947552   \n835                      0.0                         1.158120   \n836                      0.0                         1.052836   \n837                      0.0                         1.158120   \n838                      0.0                         1.052836   \n\n     glosslength_normalised_x  minwordlength_x  nroflemmas_x  polyscore_max_x  \\\n0                    0.563173               17             2                1   \n1                    0.391092               12             1                1   \n2                    1.517437               16             1                1   \n3                    0.985552                3             1                1   \n4                    1.110701                7             2                1   \n..                        ...              ...           ...              ...   \n834                  0.578283                4             2                2   \n835                  1.652238               11             3                1   \n836                  0.479149               10             1                1   \n837                  0.280880                6             1                1   \n838                  0.561761                8             2                1   \n\n     ... ngram_50y_mean  ngram_50y_max  ngram_100y_mean  ngram_100y_max  \\\n0    ...   2.667275e-08   5.067315e-08     2.252890e-08    5.067315e-08   \n1    ...   2.025710e-08   6.483798e-08     1.515313e-08    6.483798e-08   \n2    ...   1.955061e-10   5.970550e-10     6.184165e-10    7.804026e-09   \n3    ...   2.895038e-07   3.752697e-07     3.562540e-07    6.002532e-07   \n4    ...   1.620242e-08   2.446695e-08     1.704462e-08    2.446695e-08   \n..   ...            ...            ...              ...             ...   \n834  ...   4.059229e-07   8.004256e-07     2.485961e-07    8.004256e-07   \n835  ...   9.969528e-09   8.272560e-09     1.233276e-08    2.136213e-08   \n836  ...   4.974292e-08   1.103470e-07     2.680743e-08    1.103470e-07   \n837  ...   7.986401e-08   2.565946e-07     5.787213e-08    2.565946e-07   \n838  ...   5.858985e-07   1.126403e-06     4.927242e-07    1.126403e-06   \n\n     ngram_200y_mean  ngram_200y_max  ngram_400y_mean  ngram_400y_max  \\\n0       1.380492e-08    5.067315e-08     6.919673e-09    5.067315e-08   \n1       7.715051e-09    6.483798e-08     3.867145e-09    6.483798e-08   \n2       1.237592e-09    1.499339e-08     6.203393e-10    1.499339e-08   \n3       5.869817e-07    2.510665e-06     6.210211e-07    6.602901e-06   \n4       1.451245e-08    3.507272e-08     9.018908e-09    2.260505e-07   \n..               ...             ...              ...             ...   \n834     1.531570e-07    8.004256e-07     1.136149e-07    8.004256e-07   \n835     1.358353e-08    5.083992e-08     6.963715e-09    5.547362e-08   \n836     1.393969e-08    1.103470e-07     6.987224e-09    1.103470e-07   \n837     3.095668e-08    2.565946e-07     2.025520e-08    3.896998e-07   \n838     2.835355e-07    1.126403e-06     1.440483e-07    1.126403e-06   \n\n     ngram_500y_mean  ngram_500y_max  \n0       5.336133e-09    5.067315e-08  \n1       2.982164e-09    6.483798e-08  \n2       4.783770e-10    1.499339e-08  \n3       5.069033e-07    6.602901e-06  \n4       6.954965e-09    2.260505e-07  \n..               ...             ...  \n834     9.223624e-08    1.686392e-06  \n835     5.370096e-09    5.547362e-08  \n836     5.388225e-09    1.103470e-07  \n837     1.561987e-08    3.896998e-07  \n838     1.351753e-07    8.808865e-06  \n\n[839 rows x 29 columns]",
      "text/html": "<div>\n<style scoped>\n    .dataframe tbody tr th:only-of-type {\n        vertical-align: middle;\n    }\n\n    .dataframe tbody tr th {\n        vertical-align: top;\n    }\n\n    .dataframe thead th {\n        text-align: right;\n    }\n</style>\n<table border=\"1\" class=\"dataframe\">\n  <thead>\n    <tr style=\"text-align: right;\">\n      <th></th>\n      <th>Synsets</th>\n      <th>domain_x</th>\n      <th>nrdirhypers_x</th>\n      <th>nrhypos_x</th>\n      <th>nrpartrels_normalised_x</th>\n      <th>depthfromtopsynset_normalised_x</th>\n      <th>glosslength_normalised_x</th>\n      <th>minwordlength_x</th>\n      <th>nroflemmas_x</th>\n      <th>polyscore_max_x</th>\n      <th>...</th>\n      <th>ngram_50y_mean</th>\n      <th>ngram_50y_max</th>\n      <th>ngram_100y_mean</th>\n      <th>ngram_100y_max</th>\n      <th>ngram_200y_mean</th>\n      <th>ngram_200y_max</th>\n      <th>ngram_400y_mean</th>\n      <th>ngram_400y_max</th>\n      <th>ngram_500y_mean</th>\n      <th>ngram_500y_max</th>\n    </tr>\n  </thead>\n  <tbody>\n    <tr>\n      <th>0</th>\n      <td>Synset('adjustable_wrench.n.01')</td>\n      <td>tool</td>\n      <td>1</td>\n      <td>7</td>\n      <td>0.0</td>\n      <td>1.012903</td>\n      <td>0.563173</td>\n      <td>17</td>\n      <td>2</td>\n      <td>1</td>\n      <td>...</td>\n      <td>2.667275e-08</td>\n      <td>5.067315e-08</td>\n      <td>2.252890e-08</td>\n      <td>5.067315e-08</td>\n      <td>1.380492e-08</td>\n      <td>5.067315e-08</td>\n      <td>6.919673e-09</td>\n      <td>5.067315e-08</td>\n      <td>5.336133e-09</td>\n      <td>5.067315e-08</td>\n    </tr>\n    <tr>\n      <th>1</th>\n      <td>Synset('allen_wrench.n.01')</td>\n      <td>tool</td>\n      <td>1</td>\n      <td>0</td>\n      <td>0.0</td>\n      <td>1.012903</td>\n      <td>0.391092</td>\n      <td>12</td>\n      <td>1</td>\n      <td>1</td>\n      <td>...</td>\n      <td>2.025710e-08</td>\n      <td>6.483798e-08</td>\n      <td>1.515313e-08</td>\n      <td>6.483798e-08</td>\n      <td>7.715051e-09</td>\n      <td>6.483798e-08</td>\n      <td>3.867145e-09</td>\n      <td>6.483798e-08</td>\n      <td>2.982164e-09</td>\n      <td>6.483798e-08</td>\n    </tr>\n    <tr>\n      <th>2</th>\n      <td>Synset('alligator_wrench.n.01')</td>\n      <td>tool</td>\n      <td>1</td>\n      <td>0</td>\n      <td>0.0</td>\n      <td>1.012903</td>\n      <td>1.517437</td>\n      <td>16</td>\n      <td>1</td>\n      <td>1</td>\n      <td>...</td>\n      <td>1.955061e-10</td>\n      <td>5.970550e-10</td>\n      <td>6.184165e-10</td>\n      <td>7.804026e-09</td>\n      <td>1.237592e-09</td>\n      <td>1.499339e-08</td>\n      <td>6.203393e-10</td>\n      <td>1.499339e-08</td>\n      <td>4.783770e-10</td>\n      <td>1.499339e-08</td>\n    </tr>\n    <tr>\n      <th>3</th>\n      <td>Synset('awl.n.01')</td>\n      <td>tool</td>\n      <td>1</td>\n      <td>2</td>\n      <td>15.7</td>\n      <td>0.911613</td>\n      <td>0.985552</td>\n      <td>3</td>\n      <td>1</td>\n      <td>1</td>\n      <td>...</td>\n      <td>2.895038e-07</td>\n      <td>3.752697e-07</td>\n      <td>3.562540e-07</td>\n      <td>6.002532e-07</td>\n      <td>5.869817e-07</td>\n      <td>2.510665e-06</td>\n      <td>6.210211e-07</td>\n      <td>6.602901e-06</td>\n      <td>5.069033e-07</td>\n      <td>6.602901e-06</td>\n    </tr>\n    <tr>\n      <th>4</th>\n      <td>Synset('backsaw.n.01')</td>\n      <td>tool</td>\n      <td>1</td>\n      <td>0</td>\n      <td>0.0</td>\n      <td>1.114194</td>\n      <td>1.110701</td>\n      <td>7</td>\n      <td>2</td>\n      <td>1</td>\n      <td>...</td>\n      <td>1.620242e-08</td>\n      <td>2.446695e-08</td>\n      <td>1.704462e-08</td>\n      <td>2.446695e-08</td>\n      <td>1.451245e-08</td>\n      <td>3.507272e-08</td>\n      <td>9.018908e-09</td>\n      <td>2.260505e-07</td>\n      <td>6.954965e-09</td>\n      <td>2.260505e-07</td>\n    </tr>\n    <tr>\n      <th>...</th>\n      <td>...</td>\n      <td>...</td>\n      <td>...</td>\n      <td>...</td>\n      <td>...</td>\n      <td>...</td>\n      <td>...</td>\n      <td>...</td>\n      <td>...</td>\n      <td>...</td>\n      <td>...</td>\n      <td>...</td>\n      <td>...</td>\n      <td>...</td>\n      <td>...</td>\n      <td>...</td>\n      <td>...</td>\n      <td>...</td>\n      <td>...</td>\n      <td>...</td>\n      <td>...</td>\n    </tr>\n    <tr>\n      <th>834</th>\n      <td>Synset('ballet_skirt.n.01')</td>\n      <td>garm</td>\n      <td>1</td>\n      <td>0</td>\n      <td>0.0</td>\n      <td>0.947552</td>\n      <td>0.578283</td>\n      <td>4</td>\n      <td>2</td>\n      <td>2</td>\n      <td>...</td>\n      <td>4.059229e-07</td>\n      <td>8.004256e-07</td>\n      <td>2.485961e-07</td>\n      <td>8.004256e-07</td>\n      <td>1.531570e-07</td>\n      <td>8.004256e-07</td>\n      <td>1.136149e-07</td>\n      <td>8.004256e-07</td>\n      <td>9.223624e-08</td>\n      <td>1.686392e-06</td>\n    </tr>\n    <tr>\n      <th>835</th>\n      <td>Synset('mess_jacket.n.01')</td>\n      <td>garm</td>\n      <td>1</td>\n      <td>0</td>\n      <td>0.0</td>\n      <td>1.158120</td>\n      <td>1.652238</td>\n      <td>11</td>\n      <td>3</td>\n      <td>1</td>\n      <td>...</td>\n      <td>9.969528e-09</td>\n      <td>8.272560e-09</td>\n      <td>1.233276e-08</td>\n      <td>2.136213e-08</td>\n      <td>1.358353e-08</td>\n      <td>5.083992e-08</td>\n      <td>6.963715e-09</td>\n      <td>5.547362e-08</td>\n      <td>5.370096e-09</td>\n      <td>5.547362e-08</td>\n    </tr>\n    <tr>\n      <th>836</th>\n      <td>Synset('long_johns.n.01')</td>\n      <td>garm</td>\n      <td>1</td>\n      <td>0</td>\n      <td>0.0</td>\n      <td>1.052836</td>\n      <td>0.479149</td>\n      <td>10</td>\n      <td>1</td>\n      <td>1</td>\n      <td>...</td>\n      <td>4.974292e-08</td>\n      <td>1.103470e-07</td>\n      <td>2.680743e-08</td>\n      <td>1.103470e-07</td>\n      <td>1.393969e-08</td>\n      <td>1.103470e-07</td>\n      <td>6.987224e-09</td>\n      <td>1.103470e-07</td>\n      <td>5.388225e-09</td>\n      <td>1.103470e-07</td>\n    </tr>\n    <tr>\n      <th>837</th>\n      <td>Synset('undies.n.01')</td>\n      <td>garm</td>\n      <td>1</td>\n      <td>0</td>\n      <td>0.0</td>\n      <td>1.158120</td>\n      <td>0.280880</td>\n      <td>6</td>\n      <td>1</td>\n      <td>1</td>\n      <td>...</td>\n      <td>7.986401e-08</td>\n      <td>2.565946e-07</td>\n      <td>5.787213e-08</td>\n      <td>2.565946e-07</td>\n      <td>3.095668e-08</td>\n      <td>2.565946e-07</td>\n      <td>2.025520e-08</td>\n      <td>3.896998e-07</td>\n      <td>1.561987e-08</td>\n      <td>3.896998e-07</td>\n    </tr>\n    <tr>\n      <th>838</th>\n      <td>Synset('lingerie.n.01')</td>\n      <td>garm</td>\n      <td>1</td>\n      <td>2</td>\n      <td>0.0</td>\n      <td>1.052836</td>\n      <td>0.561761</td>\n      <td>8</td>\n      <td>2</td>\n      <td>1</td>\n      <td>...</td>\n      <td>5.858985e-07</td>\n      <td>1.126403e-06</td>\n      <td>4.927242e-07</td>\n      <td>1.126403e-06</td>\n      <td>2.835355e-07</td>\n      <td>1.126403e-06</td>\n      <td>1.440483e-07</td>\n      <td>1.126403e-06</td>\n      <td>1.351753e-07</td>\n      <td>8.808865e-06</td>\n    </tr>\n  </tbody>\n</table>\n<p>839 rows × 29 columns</p>\n</div>"
     },
     "execution_count": 2,
     "metadata": {},
     "output_type": "execute_result"
    }
   ],
   "source": "# read the pre-processed data all agreed\ndata = pd.read_csv('./features_google_ngram.csv', index_col=None)\nbase_feature = ['nrdirhypers_x',\n                'nrhypos_x',\n                'nrpartrels_normalised_x',\n                'depthfromtopsynset_normalised_x',\n                'glosslength_normalised_x',\n                'minwordlength_x',\n                'nroflemmas_x',\n                'polyscore_max_x']\n\ntarget = ['vote_x']\n\ndata",
   "metadata": {
    "collapsed": false,
    "pycharm": {
     "name": "#%%\n"
    },
    "trusted": false
   }
  },
  {
   "cell_type": "markdown",
   "source": "## Selection for GlobalModel",
   "metadata": {
    "collapsed": false
   }
  },
  {
   "cell_type": "code",
   "execution_count": 27,
   "outputs": [],
   "source": "candidate_feature_list = ['ngram_1y_mean', 'ngram_1y_max',\n                      'ngram_5y_mean', 'ngram_5y_max',\n                      'ngram_10y_mean', 'ngram_10y_max',\n                      'ngram_20y_mean', 'ngram_20y_max',\n                      'ngram_50y_mean', 'ngram_50y_max',\n                      'ngram_100y_mean', 'ngram_100y_max',\n                      'ngram_200y_mean', 'ngram_200y_max',\n                      'ngram_400y_mean', 'ngram_400y_max',\n                      'ngram_500y_mean', 'ngram_500y_max']",
   "metadata": {
    "collapsed": false,
    "pycharm": {
     "name": "#%%\n"
    },
    "trusted": false
   }
  },
  {
   "cell_type": "code",
   "execution_count": 26,
   "outputs": [],
   "source": "# split training set and testing set using K-Flod\ndef new_features_global_model_test(dataset, feature, new_features, target):\n    K = 10\n    random_seed = 7 # R\n    data = dataset.reset_index()\n    if new_features is None:\n        feature_list = feature\n    else:\n        feature_list = feature + [new_features]\n    X = data[feature_list]\n    y = data[target]\n\n    K_Flod = StratifiedKFold(n_splits=K, shuffle=True, random_state=random_seed)\n    K_Flod.get_n_splits(X, y)\n    cohen_kappa = []\n    balanced_acc = []\n    for train_index, test_index in K_Flod.split(X, y):\n        X_train, X_test = X.iloc[train_index], X.iloc[test_index]\n        y_train, y_test = y.iloc[train_index], y.iloc[test_index]\n\n        # SMOTE algorithm\n        smote = SMOTE(random_state=random_seed, k_neighbors=2)\n        X_train, y_train = smote.fit_resample(X_train, y_train)\n\n        # define random forest model\n        rf = RandomForestClassifier(random_state=random_seed, max_features='sqrt', n_estimators=1400, min_samples_split=2, min_samples_leaf=1, max_depth=50, oob_score=True, criterion='gini', bootstrap=True).fit(X_train, y_train)\n\n        # predict and make score\n        pipeline = make_pipeline(smote, rf)\n        y_pred = pipeline.predict(X_test)\n\n        kappa = cohen_kappa_score(y_test, y_pred)\n        cohen_kappa.append(kappa)\n        balanced_accuracy = balanced_accuracy_score(y_test, y_pred)\n        balanced_acc.append(balanced_accuracy)\n\n    result_kappa = np.mean(cohen_kappa)\n    results_acc = np.mean(balanced_acc)\n\n    # importance of features\n    importance = rf.feature_importances_\n    importance = pd.DataFrame([feature_list, importance]).transpose()\n    importance = importance.rename(columns={0:'feature', 1:'importance'}).sort_values('importance', ascending=False)\n\n    return result_kappa, importance",
   "metadata": {
    "collapsed": false,
    "pycharm": {
     "name": "#%%\n"
    },
    "trusted": false
   }
  },
  {
   "cell_type": "markdown",
   "source": "### Bottom-up",
   "metadata": {
    "collapsed": false,
    "pycharm": {
     "name": "#%% md\n"
    }
   }
  },
  {
   "cell_type": "code",
   "execution_count": 7,
   "outputs": [
    {
     "name": "stdout",
     "output_type": "stream",
     "text": "ngram_1y_mean: kappa=0.6895131395336889\nngram_1y_max skipped\nngram_5y_mean skipped\nngram_5y_max: kappa=0.6974403198307233\nngram_10y_mean skipped\nngram_10y_max skipped\nngram_20y_mean skipped\nngram_20y_max skipped\nngram_50y_mean skipped\nngram_50y_max skipped\nngram_100y_mean skipped\nngram_100y_max: kappa=0.6996241732892688\nngram_200y_mean skipped\nngram_200y_max skipped\nngram_400y_mean skipped\nngram_400y_max skipped\nngram_500y_mean skipped\nngram_500y_max skipped\nFinish!\n"
    },
    {
     "data": {
      "text/plain": "                           feature importance\n3  depthfromtopsynset_normalised_x    0.41506\n4         glosslength_normalised_x   0.158386\n5                  minwordlength_x   0.118692\n8                   ngram_100y_max   0.086342\n2          nrpartrels_normalised_x   0.076907\n1                        nrhypos_x    0.05546\n7                  polyscore_max_x   0.052343\n6                     nroflemmas_x   0.033962\n0                    nrdirhypers_x   0.002849",
      "text/html": "<div>\n<style scoped>\n    .dataframe tbody tr th:only-of-type {\n        vertical-align: middle;\n    }\n\n    .dataframe tbody tr th {\n        vertical-align: top;\n    }\n\n    .dataframe thead th {\n        text-align: right;\n    }\n</style>\n<table border=\"1\" class=\"dataframe\">\n  <thead>\n    <tr style=\"text-align: right;\">\n      <th></th>\n      <th>feature</th>\n      <th>importance</th>\n    </tr>\n  </thead>\n  <tbody>\n    <tr>\n      <th>3</th>\n      <td>depthfromtopsynset_normalised_x</td>\n      <td>0.41506</td>\n    </tr>\n    <tr>\n      <th>4</th>\n      <td>glosslength_normalised_x</td>\n      <td>0.158386</td>\n    </tr>\n    <tr>\n      <th>5</th>\n      <td>minwordlength_x</td>\n      <td>0.118692</td>\n    </tr>\n    <tr>\n      <th>8</th>\n      <td>ngram_100y_max</td>\n      <td>0.086342</td>\n    </tr>\n    <tr>\n      <th>2</th>\n      <td>nrpartrels_normalised_x</td>\n      <td>0.076907</td>\n    </tr>\n    <tr>\n      <th>1</th>\n      <td>nrhypos_x</td>\n      <td>0.05546</td>\n    </tr>\n    <tr>\n      <th>7</th>\n      <td>polyscore_max_x</td>\n      <td>0.052343</td>\n    </tr>\n    <tr>\n      <th>6</th>\n      <td>nroflemmas_x</td>\n      <td>0.033962</td>\n    </tr>\n    <tr>\n      <th>0</th>\n      <td>nrdirhypers_x</td>\n      <td>0.002849</td>\n    </tr>\n  </tbody>\n</table>\n</div>"
     },
     "execution_count": 7,
     "metadata": {},
     "output_type": "execute_result"
    }
   ],
   "source": "base_feature_0 = base_feature\ncandidate_feature_list_0 = candidate_feature_list\n\nbest_kappa = 0\nbest_importance = None\n\nfor candidate in candidate_feature_list_0:\n    kappa, importance = new_features_global_model_test(data, base_feature_0, candidate, target)\n    if kappa > best_kappa:\n        best_kappa = kappa\n        best_importance = importance\n        print(candidate + ': kappa=' + str(best_kappa))\n    else:\n        print(candidate + ' skipped')\n\nprint('Finish!')\nbest_importance",
   "metadata": {
    "collapsed": false,
    "pycharm": {
     "name": "#%%\n"
    },
    "trusted": false
   }
  },
  {
   "cell_type": "code",
   "execution_count": 16,
   "outputs": [
    {
     "name": "stdout",
     "output_type": "stream",
     "text": "ngram_1y_mean skipped\nngram_1y_max skipped\nngram_5y_mean: kappa=0.6997501816644983\nngram_5y_max skipped\nngram_10y_mean skipped\nngram_10y_max skipped\nngram_20y_mean skipped\nngram_20y_max skipped\nngram_50y_mean skipped\nngram_50y_max skipped\nngram_100y_mean skipped\nngram_200y_mean skipped\nngram_200y_max: kappa=0.7020794893980835\nngram_400y_mean skipped\nngram_400y_max skipped\nngram_500y_mean skipped\nngram_500y_max skipped\nFinish!\n"
    },
    {
     "data": {
      "text/plain": "                           feature importance\n3  depthfromtopsynset_normalised_x   0.390578\n4         glosslength_normalised_x   0.152431\n5                  minwordlength_x   0.113088\n2          nrpartrels_normalised_x   0.078705\n8                   ngram_100y_max   0.067032\n9                   ngram_200y_max   0.066912\n1                        nrhypos_x   0.050239\n7                  polyscore_max_x   0.047436\n6                     nroflemmas_x   0.030826\n0                    nrdirhypers_x   0.002753",
      "text/html": "<div>\n<style scoped>\n    .dataframe tbody tr th:only-of-type {\n        vertical-align: middle;\n    }\n\n    .dataframe tbody tr th {\n        vertical-align: top;\n    }\n\n    .dataframe thead th {\n        text-align: right;\n    }\n</style>\n<table border=\"1\" class=\"dataframe\">\n  <thead>\n    <tr style=\"text-align: right;\">\n      <th></th>\n      <th>feature</th>\n      <th>importance</th>\n    </tr>\n  </thead>\n  <tbody>\n    <tr>\n      <th>3</th>\n      <td>depthfromtopsynset_normalised_x</td>\n      <td>0.390578</td>\n    </tr>\n    <tr>\n      <th>4</th>\n      <td>glosslength_normalised_x</td>\n      <td>0.152431</td>\n    </tr>\n    <tr>\n      <th>5</th>\n      <td>minwordlength_x</td>\n      <td>0.113088</td>\n    </tr>\n    <tr>\n      <th>2</th>\n      <td>nrpartrels_normalised_x</td>\n      <td>0.078705</td>\n    </tr>\n    <tr>\n      <th>8</th>\n      <td>ngram_100y_max</td>\n      <td>0.067032</td>\n    </tr>\n    <tr>\n      <th>9</th>\n      <td>ngram_200y_max</td>\n      <td>0.066912</td>\n    </tr>\n    <tr>\n      <th>1</th>\n      <td>nrhypos_x</td>\n      <td>0.050239</td>\n    </tr>\n    <tr>\n      <th>7</th>\n      <td>polyscore_max_x</td>\n      <td>0.047436</td>\n    </tr>\n    <tr>\n      <th>6</th>\n      <td>nroflemmas_x</td>\n      <td>0.030826</td>\n    </tr>\n    <tr>\n      <th>0</th>\n      <td>nrdirhypers_x</td>\n      <td>0.002753</td>\n    </tr>\n  </tbody>\n</table>\n</div>"
     },
     "execution_count": 16,
     "metadata": {},
     "output_type": "execute_result"
    }
   ],
   "source": "base_feature_1 = base_feature + ['ngram_100y_max']\ncandidate_feature_list_1 = candidate_feature_list\ncandidate_feature_list_1.remove('ngram_100y_max')\n\n\nbest_kappa = 0.69962\nbest_importance = None\n\nfor candidate in candidate_feature_list_1:\n    kappa, importance = new_features_global_model_test(data, base_feature_1, candidate, target)\n    if kappa > best_kappa:\n        best_kappa = kappa\n        best_importance = importance\n        print(candidate + ': kappa=' + str(best_kappa))\n    else:\n        print(candidate + ' skipped')\n\nprint('Finish!')\nbest_importance",
   "metadata": {
    "collapsed": false,
    "pycharm": {
     "name": "#%%\n"
    },
    "trusted": false
   }
  },
  {
   "cell_type": "code",
   "execution_count": 34,
   "outputs": [
    {
     "name": "stdout",
     "output_type": "stream",
     "text": "ngram_1y_mean skipped\nngram_1y_max skipped\nngram_5y_mean skipped\nngram_5y_max skipped\nngram_10y_mean skipped\nngram_10y_max skipped\nngram_20y_mean skipped\nngram_20y_max skipped\nngram_50y_mean skipped\nngram_50y_max skipped\nngram_100y_mean skipped\nngram_200y_mean skipped\nngram_400y_mean skipped\nngram_400y_max skipped\nngram_500y_mean skipped\nngram_500y_max skipped\nFinish!\n"
    }
   ],
   "source": "base_feature_2 = base_feature + ['ngram_100y_max', 'ngram_200y_max']\ncandidate_feature_list_2 = candidate_feature_list_1\ncandidate_feature_list_2.remove('ngram_200y_max')\n\nbest_kappa = 0.70208\nbest_importance = None\n\nfor candidate in candidate_feature_list_2:\n    kappa, importance = new_features_global_model_test(data, base_feature_2, candidate, target)\n    if kappa > best_kappa:\n        best_kappa = kappa\n        best_importance = importance\n        print(candidate + ': kappa=' + str(best_kappa))\n    else:\n        print(candidate + ' skipped')\n\nprint('Finish!')\nbest_importance",
   "metadata": {
    "collapsed": false,
    "pycharm": {
     "name": "#%%\n"
    },
    "trusted": false
   }
  },
  {
   "cell_type": "markdown",
   "source": "Bottom-up best features: ['ngram_100y_max', 'ngram_200y_max']\nBest kappa = 0.70208",
   "metadata": {
    "collapsed": false
   }
  },
  {
   "cell_type": "markdown",
   "source": "### Top-down",
   "metadata": {
    "collapsed": false
   }
  },
  {
   "cell_type": "code",
   "execution_count": 28,
   "outputs": [],
   "source": "candidate_feature_list = ['ngram_1y_mean', 'ngram_1y_max',\n                          'ngram_5y_mean', 'ngram_5y_max',\n                          'ngram_10y_mean', 'ngram_10y_max',\n                          'ngram_20y_mean', 'ngram_20y_max',\n                          'ngram_50y_mean', 'ngram_50y_max',\n                          'ngram_100y_mean', 'ngram_100y_max',\n                          'ngram_200y_mean', 'ngram_200y_max',\n                          'ngram_400y_mean', 'ngram_400y_max',\n                          'ngram_500y_mean', 'ngram_500y_max']",
   "metadata": {
    "collapsed": false,
    "pycharm": {
     "name": "#%%\n"
    },
    "trusted": false
   }
  },
  {
   "cell_type": "code",
   "execution_count": 29,
   "outputs": [
    {
     "name": "stdout",
     "output_type": "stream",
     "text": "kappa=0.6790285516625253\n"
    },
    {
     "data": {
      "text/plain": "                            feature importance\n3   depthfromtopsynset_normalised_x   0.323682\n4          glosslength_normalised_x   0.122123\n5                   minwordlength_x   0.085529\n2           nrpartrels_normalised_x   0.066154\n25                   ngram_500y_max   0.050918\n23                   ngram_400y_max   0.031575\n7                   polyscore_max_x    0.03134\n1                         nrhypos_x   0.031194\n19                   ngram_100y_max   0.023715\n21                   ngram_200y_max   0.022607\n6                      nroflemmas_x   0.021951\n11                     ngram_5y_max   0.016488\n17                    ngram_50y_max   0.015576\n15                    ngram_20y_max   0.015338\n9                      ngram_1y_max   0.015082\n13                    ngram_10y_max   0.014044\n8                     ngram_1y_mean   0.013682\n10                    ngram_5y_mean   0.013155\n22                  ngram_400y_mean   0.012918\n20                  ngram_200y_mean   0.012049\n12                   ngram_10y_mean   0.012004\n16                   ngram_50y_mean   0.011863\n24                  ngram_500y_mean   0.011822\n18                  ngram_100y_mean   0.011541\n14                   ngram_20y_mean   0.011157\n0                     nrdirhypers_x   0.002492",
      "text/html": "<div>\n<style scoped>\n    .dataframe tbody tr th:only-of-type {\n        vertical-align: middle;\n    }\n\n    .dataframe tbody tr th {\n        vertical-align: top;\n    }\n\n    .dataframe thead th {\n        text-align: right;\n    }\n</style>\n<table border=\"1\" class=\"dataframe\">\n  <thead>\n    <tr style=\"text-align: right;\">\n      <th></th>\n      <th>feature</th>\n      <th>importance</th>\n    </tr>\n  </thead>\n  <tbody>\n    <tr>\n      <th>3</th>\n      <td>depthfromtopsynset_normalised_x</td>\n      <td>0.323682</td>\n    </tr>\n    <tr>\n      <th>4</th>\n      <td>glosslength_normalised_x</td>\n      <td>0.122123</td>\n    </tr>\n    <tr>\n      <th>5</th>\n      <td>minwordlength_x</td>\n      <td>0.085529</td>\n    </tr>\n    <tr>\n      <th>2</th>\n      <td>nrpartrels_normalised_x</td>\n      <td>0.066154</td>\n    </tr>\n    <tr>\n      <th>25</th>\n      <td>ngram_500y_max</td>\n      <td>0.050918</td>\n    </tr>\n    <tr>\n      <th>23</th>\n      <td>ngram_400y_max</td>\n      <td>0.031575</td>\n    </tr>\n    <tr>\n      <th>7</th>\n      <td>polyscore_max_x</td>\n      <td>0.03134</td>\n    </tr>\n    <tr>\n      <th>1</th>\n      <td>nrhypos_x</td>\n      <td>0.031194</td>\n    </tr>\n    <tr>\n      <th>19</th>\n      <td>ngram_100y_max</td>\n      <td>0.023715</td>\n    </tr>\n    <tr>\n      <th>21</th>\n      <td>ngram_200y_max</td>\n      <td>0.022607</td>\n    </tr>\n    <tr>\n      <th>6</th>\n      <td>nroflemmas_x</td>\n      <td>0.021951</td>\n    </tr>\n    <tr>\n      <th>11</th>\n      <td>ngram_5y_max</td>\n      <td>0.016488</td>\n    </tr>\n    <tr>\n      <th>17</th>\n      <td>ngram_50y_max</td>\n      <td>0.015576</td>\n    </tr>\n    <tr>\n      <th>15</th>\n      <td>ngram_20y_max</td>\n      <td>0.015338</td>\n    </tr>\n    <tr>\n      <th>9</th>\n      <td>ngram_1y_max</td>\n      <td>0.015082</td>\n    </tr>\n    <tr>\n      <th>13</th>\n      <td>ngram_10y_max</td>\n      <td>0.014044</td>\n    </tr>\n    <tr>\n      <th>8</th>\n      <td>ngram_1y_mean</td>\n      <td>0.013682</td>\n    </tr>\n    <tr>\n      <th>10</th>\n      <td>ngram_5y_mean</td>\n      <td>0.013155</td>\n    </tr>\n    <tr>\n      <th>22</th>\n      <td>ngram_400y_mean</td>\n      <td>0.012918</td>\n    </tr>\n    <tr>\n      <th>20</th>\n      <td>ngram_200y_mean</td>\n      <td>0.012049</td>\n    </tr>\n    <tr>\n      <th>12</th>\n      <td>ngram_10y_mean</td>\n      <td>0.012004</td>\n    </tr>\n    <tr>\n      <th>16</th>\n      <td>ngram_50y_mean</td>\n      <td>0.011863</td>\n    </tr>\n    <tr>\n      <th>24</th>\n      <td>ngram_500y_mean</td>\n      <td>0.011822</td>\n    </tr>\n    <tr>\n      <th>18</th>\n      <td>ngram_100y_mean</td>\n      <td>0.011541</td>\n    </tr>\n    <tr>\n      <th>14</th>\n      <td>ngram_20y_mean</td>\n      <td>0.011157</td>\n    </tr>\n    <tr>\n      <th>0</th>\n      <td>nrdirhypers_x</td>\n      <td>0.002492</td>\n    </tr>\n  </tbody>\n</table>\n</div>"
     },
     "execution_count": 29,
     "metadata": {},
     "output_type": "execute_result"
    }
   ],
   "source": "training_features_0 = base_feature + candidate_feature_list\n\nbest_kappa, importance = new_features_global_model_test(data, training_features_0, None, target)\nprint('kappa=' + str(best_kappa))\nimportance",
   "metadata": {
    "collapsed": false,
    "pycharm": {
     "name": "#%%\n"
    },
    "trusted": false
   }
  },
  {
   "cell_type": "code",
   "execution_count": 82,
   "outputs": [
    {
     "name": "stdout",
     "output_type": "stream",
     "text": "eliminate ngram_1y_mean: kappa=0.6886693939459642\neliminate ngram_1y_max skipped\neliminate ngram_5y_mean skipped\neliminate ngram_5y_max skipped\neliminate ngram_10y_mean: kappa=0.6907976036343442\neliminate ngram_10y_max skipped\neliminate ngram_20y_mean: kappa=0.6910372700097922\neliminate ngram_20y_max: kappa=0.6921216413820298\neliminate ngram_50y_mean skipped\neliminate ngram_50y_max skipped\neliminate ngram_100y_mean skipped\neliminate ngram_100y_max skipped\neliminate ngram_200y_mean: kappa=0.6992525027107436\neliminate ngram_200y_max skipped\neliminate ngram_400y_mean skipped\neliminate ngram_400y_max skipped\neliminate ngram_500y_mean skipped\neliminate ngram_500y_max skipped\n"
    },
    {
     "data": {
      "text/plain": "                            feature importance\n3   depthfromtopsynset_normalised_x   0.322882\n4          glosslength_normalised_x   0.125023\n5                   minwordlength_x   0.085909\n2           nrpartrels_normalised_x   0.069496\n24                   ngram_500y_max   0.049746\n1                         nrhypos_x   0.031885\n22                   ngram_400y_max   0.031766\n7                   polyscore_max_x   0.029908\n19                   ngram_100y_max     0.0239\n20                   ngram_200y_max    0.02339\n6                      nroflemmas_x   0.022488\n17                    ngram_50y_max   0.016483\n11                     ngram_5y_max   0.016481\n9                      ngram_1y_max   0.016045\n15                    ngram_20y_max   0.015947\n8                     ngram_1y_mean   0.014342\n13                    ngram_10y_max   0.014059\n10                    ngram_5y_mean   0.013772\n21                  ngram_400y_mean   0.013606\n18                  ngram_100y_mean   0.012761\n12                   ngram_10y_mean   0.012401\n16                   ngram_50y_mean   0.012392\n23                  ngram_500y_mean   0.012062\n14                   ngram_20y_mean   0.010859\n0                     nrdirhypers_x   0.002399",
      "text/html": "<div>\n<style scoped>\n    .dataframe tbody tr th:only-of-type {\n        vertical-align: middle;\n    }\n\n    .dataframe tbody tr th {\n        vertical-align: top;\n    }\n\n    .dataframe thead th {\n        text-align: right;\n    }\n</style>\n<table border=\"1\" class=\"dataframe\">\n  <thead>\n    <tr style=\"text-align: right;\">\n      <th></th>\n      <th>feature</th>\n      <th>importance</th>\n    </tr>\n  </thead>\n  <tbody>\n    <tr>\n      <th>3</th>\n      <td>depthfromtopsynset_normalised_x</td>\n      <td>0.322882</td>\n    </tr>\n    <tr>\n      <th>4</th>\n      <td>glosslength_normalised_x</td>\n      <td>0.125023</td>\n    </tr>\n    <tr>\n      <th>5</th>\n      <td>minwordlength_x</td>\n      <td>0.085909</td>\n    </tr>\n    <tr>\n      <th>2</th>\n      <td>nrpartrels_normalised_x</td>\n      <td>0.069496</td>\n    </tr>\n    <tr>\n      <th>24</th>\n      <td>ngram_500y_max</td>\n      <td>0.049746</td>\n    </tr>\n    <tr>\n      <th>1</th>\n      <td>nrhypos_x</td>\n      <td>0.031885</td>\n    </tr>\n    <tr>\n      <th>22</th>\n      <td>ngram_400y_max</td>\n      <td>0.031766</td>\n    </tr>\n    <tr>\n      <th>7</th>\n      <td>polyscore_max_x</td>\n      <td>0.029908</td>\n    </tr>\n    <tr>\n      <th>19</th>\n      <td>ngram_100y_max</td>\n      <td>0.0239</td>\n    </tr>\n    <tr>\n      <th>20</th>\n      <td>ngram_200y_max</td>\n      <td>0.02339</td>\n    </tr>\n    <tr>\n      <th>6</th>\n      <td>nroflemmas_x</td>\n      <td>0.022488</td>\n    </tr>\n    <tr>\n      <th>17</th>\n      <td>ngram_50y_max</td>\n      <td>0.016483</td>\n    </tr>\n    <tr>\n      <th>11</th>\n      <td>ngram_5y_max</td>\n      <td>0.016481</td>\n    </tr>\n    <tr>\n      <th>9</th>\n      <td>ngram_1y_max</td>\n      <td>0.016045</td>\n    </tr>\n    <tr>\n      <th>15</th>\n      <td>ngram_20y_max</td>\n      <td>0.015947</td>\n    </tr>\n    <tr>\n      <th>8</th>\n      <td>ngram_1y_mean</td>\n      <td>0.014342</td>\n    </tr>\n    <tr>\n      <th>13</th>\n      <td>ngram_10y_max</td>\n      <td>0.014059</td>\n    </tr>\n    <tr>\n      <th>10</th>\n      <td>ngram_5y_mean</td>\n      <td>0.013772</td>\n    </tr>\n    <tr>\n      <th>21</th>\n      <td>ngram_400y_mean</td>\n      <td>0.013606</td>\n    </tr>\n    <tr>\n      <th>18</th>\n      <td>ngram_100y_mean</td>\n      <td>0.012761</td>\n    </tr>\n    <tr>\n      <th>12</th>\n      <td>ngram_10y_mean</td>\n      <td>0.012401</td>\n    </tr>\n    <tr>\n      <th>16</th>\n      <td>ngram_50y_mean</td>\n      <td>0.012392</td>\n    </tr>\n    <tr>\n      <th>23</th>\n      <td>ngram_500y_mean</td>\n      <td>0.012062</td>\n    </tr>\n    <tr>\n      <th>14</th>\n      <td>ngram_20y_mean</td>\n      <td>0.010859</td>\n    </tr>\n    <tr>\n      <th>0</th>\n      <td>nrdirhypers_x</td>\n      <td>0.002399</td>\n    </tr>\n  </tbody>\n</table>\n</div>"
     },
     "execution_count": 82,
     "metadata": {},
     "output_type": "execute_result"
    }
   ],
   "source": "candidate_feature_list_1 = candidate_feature_list\n\nbest_kappa = 0.67903\nbest_importance = None\nfor idx in range(len(candidate_feature_list_1)):\n    input_candidates = candidate_feature_list_1[0:idx] + candidate_feature_list_1[idx+1:]\n    training_features_1 = base_feature + input_candidates\n    kappa, importance = new_features_global_model_test(data, training_features_1, None, target)\n    if kappa > best_kappa:\n        best_kappa = kappa\n        best_importance = importance\n        print('eliminate ' + candidate_feature_list_1[idx] + ': kappa=' + str(best_kappa))\n    else:\n        print('eliminate ' + candidate_feature_list_1[idx] + ' skipped')\n\nprint('Finish!')\nbest_importance",
   "metadata": {
    "collapsed": false,
    "pycharm": {
     "name": "#%%\n"
    },
    "trusted": false
   }
  },
  {
   "cell_type": "code",
   "execution_count": 84,
   "outputs": [
    {
     "name": "stdout",
     "output_type": "stream",
     "text": "eliminate ngram_1y_mean skipped\neliminate ngram_1y_max skipped\neliminate ngram_5y_mean skipped\neliminate ngram_5y_max skipped\neliminate ngram_10y_mean skipped\neliminate ngram_10y_max skipped\neliminate ngram_20y_mean skipped\neliminate ngram_20y_max skipped\neliminate ngram_50y_mean skipped\neliminate ngram_50y_max skipped\neliminate ngram_100y_mean skipped\neliminate ngram_100y_max skipped\neliminate ngram_200y_max skipped\neliminate ngram_400y_mean skipped\neliminate ngram_400y_max skipped\neliminate ngram_500y_mean skipped\neliminate ngram_500y_max skipped\n"
    }
   ],
   "source": "candidate_feature_list_1.remove('ngram_200y_mean')\ncandidate_feature_list_2 = candidate_feature_list_1\n\nbest_kappa = 0.69925\nbest_importance = None\n\nfor idx in range(len(candidate_feature_list_2)):\n    input_candidates = candidate_feature_list_2[0:idx] + candidate_feature_list_2[idx+1:]\n    training_features_1 = base_feature + input_candidates\n    kappa, importance = new_features_global_model_test(data, training_features_1, None, target)\n    if kappa > best_kappa:\n        best_kappa = kappa\n        best_importance = importance\n        print('eliminate ' + candidate_feature_list_2[idx] + ': kappa=' + str(best_kappa))\n    else:\n        print('eliminate ' + candidate_feature_list_2[idx] + ' skipped')\n\nprint('Finish!')\nbest_importance",
   "metadata": {
    "collapsed": false,
    "pycharm": {
     "name": "#%%\n"
    },
    "trusted": false
   }
  },
  {
   "cell_type": "markdown",
   "source": "### Grid search\n\nrun in Python script",
   "metadata": {
    "collapsed": false,
    "pycharm": {
     "name": "#%% md\n"
    }
   }
  },
  {
   "cell_type": "code",
   "execution_count": null,
   "outputs": [],
   "source": "grid_base = base_feature\ngrid_candidate = candidate_feature_list\n\nbest_kappa = 0\nbest_importance = None\n\nprint('Start...')\nfor candidate_num in range(len(grid_candidate)):\n    candidate_num += 1\n    candidate_sets = list(combinations(candidate_feature_list, candidate_num))\n    for candidate_group in candidate_sets:\n        candidate_group = list(candidate_group)\n        training_features = grid_base + candidate_group\n        kappa, importance = new_features_global_model_test(data, training_features, None, target)\n        if kappa > best_kappa:\n            best_kappa = kappa\n            best_importance = importance\n            string = 'Features: ' + str(candidate_group) + ' kappa=' + str(best_kappa) + '\\n'\n            with open('./grid_search_GlobalModel.txt', 'a+') as f:\n                f.write(string)\n            print(string)\nwith open('./grid_search_GlobalModel.txt', 'a+') as f:\n        f.write(importance)\nprint('Finish!')",
   "metadata": {
    "collapsed": false,
    "pycharm": {
     "name": "#%%\n"
    },
    "trusted": false
   }
  },
  {
   "cell_type": "markdown",
   "source": "## Selection for LocalModel",
   "metadata": {
    "collapsed": false
   }
  },
  {
   "cell_type": "code",
   "execution_count": 3,
   "outputs": [],
   "source": "candidate_feature_list = ['ngram_1y_mean', 'ngram_1y_max',\n                          'ngram_5y_mean', 'ngram_5y_max',\n                          'ngram_10y_mean', 'ngram_10y_max',\n                          'ngram_20y_mean', 'ngram_20y_max',\n                          'ngram_50y_mean', 'ngram_50y_max',\n                          'ngram_100y_mean', 'ngram_100y_max',\n                          'ngram_200y_mean', 'ngram_200y_max',\n                          'ngram_400y_mean', 'ngram_400y_max',\n                          'ngram_500y_mean', 'ngram_500y_max']",
   "metadata": {
    "collapsed": false,
    "pycharm": {
     "name": "#%%\n"
    },
    "trusted": false
   }
  },
  {
   "cell_type": "code",
   "execution_count": 4,
   "outputs": [],
   "source": "# generate the local dataframe for different domains\nlocal_fruit = data.loc[data['domain_x']=='fruit']\nlocal_tool = data.loc[data['domain_x']=='tool']\nlocal_music = data.loc[data['domain_x']=='music']\nlocal_furniture = data.loc[data['domain_x']=='furn']\nlocal_garments = data.loc[data['domain_x']=='garm']\n\nlocal_list = [local_fruit, local_tool, local_music, local_furniture, local_garments]\n\ndef new_feature_local_model_test(dataset_list, base_feature, new_feature, target):\n    random_seed = 7 # R\n    K = 10\n    if new_feature is None:\n        feature_list = base_feature\n    else:\n        feature_list = base_feature + [new_feature]\n\n    local_kappa_list = []\n    # local_balancedAcc_list = []\n    for dataset in dataset_list:\n        X = dataset[feature_list]\n        y = dataset[target]\n        K_Flod = StratifiedKFold(n_splits=K, shuffle=True, random_state=random_seed)\n        K_Flod.get_n_splits(X, y)\n        cohen_kappa = []\n        balanced_acc = []\n        for train_index, test_index in K_Flod.split(X, y):\n            X_train, X_test = X.iloc[train_index], X.iloc[test_index]\n            y_train, y_test = y.iloc[train_index], y.iloc[test_index]\n\n            # SMOTE algorithm\n            smote = SMOTE(random_state=random_seed, k_neighbors=2)\n            X_train, y_train = smote.fit_resample(X_train, y_train)\n\n            # define random forest model\n            rf = RandomForestClassifier(random_state=random_seed, max_features='sqrt', n_estimators=1400, min_samples_split=2, min_samples_leaf=1, max_depth=50, oob_score=True, criterion='gini', bootstrap=True).fit(X_train, y_train)\n\n            # predict and make score\n            pipeline = make_pipeline(smote, rf)\n            y_pred = pipeline.predict(X_test)\n\n            kappa = cohen_kappa_score(y_test, y_pred)\n            cohen_kappa.append(kappa)\n            balanced_accuracy = balanced_accuracy_score(y_test, y_pred)\n            balanced_acc.append(balanced_accuracy)\n\n        cohen_kappa_mean = np.mean(cohen_kappa)\n        # balanced_acc_mean = np.mean(balanced_acc)\n        local_kappa_list.append(cohen_kappa_mean)\n        # local_balancedAcc_list.append(balanced_acc_mean)\n\n    local_kappa = np.mean(local_kappa_list)\n    # local_acc = np.mean(local_balancedAcc_list)\n\n    # importance of features\n    importance = rf.feature_importances_\n    importance = pd.DataFrame([feature_list, importance]).transpose()\n    importance = importance.rename(columns={0:'feature', 1:'importance'}).sort_values('importance', ascending=False)\n\n    return local_kappa, importance",
   "metadata": {
    "collapsed": false,
    "pycharm": {
     "name": "#%%\n"
    },
    "trusted": false
   }
  },
  {
   "cell_type": "markdown",
   "source": "### Bottom-up",
   "metadata": {
    "collapsed": false
   }
  },
  {
   "cell_type": "code",
   "execution_count": 7,
   "outputs": [
    {
     "name": "stdout",
     "output_type": "stream",
     "text": "ngram_1y_mean: kappa=0.6567146798792984\nngram_1y_max skipped\nngram_5y_mean: kappa=0.6724061180707366\nngram_5y_max skipped\nngram_10y_mean skipped\nngram_10y_max skipped\nngram_20y_mean: kappa=0.6798979095646819\nngram_20y_max skipped\nngram_50y_mean skipped\nngram_50y_max skipped\nngram_100y_mean skipped\nngram_100y_max skipped\nngram_200y_mean skipped\nngram_200y_max skipped\nngram_400y_mean skipped\nngram_400y_max skipped\nngram_500y_mean skipped\nngram_500y_max skipped\nFinish!\n"
    },
    {
     "data": {
      "text/plain": "                           feature importance\n3  depthfromtopsynset_normalised_x   0.273267\n5                  minwordlength_x   0.185142\n4         glosslength_normalised_x    0.17422\n1                        nrhypos_x   0.171676\n8                   ngram_20y_mean   0.092765\n7                  polyscore_max_x   0.058391\n6                     nroflemmas_x   0.030873\n2          nrpartrels_normalised_x   0.011504\n0                    nrdirhypers_x   0.002162",
      "text/html": "<div>\n<style scoped>\n    .dataframe tbody tr th:only-of-type {\n        vertical-align: middle;\n    }\n\n    .dataframe tbody tr th {\n        vertical-align: top;\n    }\n\n    .dataframe thead th {\n        text-align: right;\n    }\n</style>\n<table border=\"1\" class=\"dataframe\">\n  <thead>\n    <tr style=\"text-align: right;\">\n      <th></th>\n      <th>feature</th>\n      <th>importance</th>\n    </tr>\n  </thead>\n  <tbody>\n    <tr>\n      <th>3</th>\n      <td>depthfromtopsynset_normalised_x</td>\n      <td>0.273267</td>\n    </tr>\n    <tr>\n      <th>5</th>\n      <td>minwordlength_x</td>\n      <td>0.185142</td>\n    </tr>\n    <tr>\n      <th>4</th>\n      <td>glosslength_normalised_x</td>\n      <td>0.17422</td>\n    </tr>\n    <tr>\n      <th>1</th>\n      <td>nrhypos_x</td>\n      <td>0.171676</td>\n    </tr>\n    <tr>\n      <th>8</th>\n      <td>ngram_20y_mean</td>\n      <td>0.092765</td>\n    </tr>\n    <tr>\n      <th>7</th>\n      <td>polyscore_max_x</td>\n      <td>0.058391</td>\n    </tr>\n    <tr>\n      <th>6</th>\n      <td>nroflemmas_x</td>\n      <td>0.030873</td>\n    </tr>\n    <tr>\n      <th>2</th>\n      <td>nrpartrels_normalised_x</td>\n      <td>0.011504</td>\n    </tr>\n    <tr>\n      <th>0</th>\n      <td>nrdirhypers_x</td>\n      <td>0.002162</td>\n    </tr>\n  </tbody>\n</table>\n</div>"
     },
     "execution_count": 7,
     "metadata": {},
     "output_type": "execute_result"
    }
   ],
   "source": "base_feature_0 = base_feature\ncandidate_feature_list_0 = candidate_feature_list\n\nbest_kappa = 0\nbest_importance = None\n\nfor candidate in candidate_feature_list_0:\n    kappa, importance = new_feature_local_model_test(local_list, base_feature_0, candidate, target)\n    if kappa > best_kappa:\n        best_kappa = kappa\n        best_importance = importance\n        print(candidate + ': kappa=' + str(best_kappa))\n    else:\n        print(candidate + ' skipped')\n\nprint('Finish!')\nbest_importance",
   "metadata": {
    "collapsed": false,
    "pycharm": {
     "name": "#%%\n"
    },
    "trusted": false
   }
  },
  {
   "cell_type": "code",
   "execution_count": 8,
   "outputs": [
    {
     "name": "stdout",
     "output_type": "stream",
     "text": "ngram_1y_mean skipped\nngram_1y_max skipped\nngram_5y_mean skipped\nngram_5y_max: kappa=0.6847148871531882\nngram_10y_mean skipped\nngram_10y_max skipped\nngram_20y_max skipped\nngram_50y_mean skipped\nngram_50y_max skipped\nngram_100y_mean skipped\nngram_100y_max: kappa=0.6893742970279654\nngram_200y_mean skipped\nngram_200y_max skipped\nngram_400y_mean skipped\nngram_400y_max skipped\nngram_500y_mean skipped\nngram_500y_max skipped\nFinish!\n"
    },
    {
     "data": {
      "text/plain": "                           feature importance\n3  depthfromtopsynset_normalised_x   0.257575\n5                  minwordlength_x   0.170382\n1                        nrhypos_x   0.164066\n4         glosslength_normalised_x   0.160209\n8                   ngram_20y_mean   0.076773\n9                   ngram_100y_max   0.076011\n7                  polyscore_max_x   0.053664\n6                     nroflemmas_x   0.029404\n2          nrpartrels_normalised_x   0.010025\n0                    nrdirhypers_x   0.001891",
      "text/html": "<div>\n<style scoped>\n    .dataframe tbody tr th:only-of-type {\n        vertical-align: middle;\n    }\n\n    .dataframe tbody tr th {\n        vertical-align: top;\n    }\n\n    .dataframe thead th {\n        text-align: right;\n    }\n</style>\n<table border=\"1\" class=\"dataframe\">\n  <thead>\n    <tr style=\"text-align: right;\">\n      <th></th>\n      <th>feature</th>\n      <th>importance</th>\n    </tr>\n  </thead>\n  <tbody>\n    <tr>\n      <th>3</th>\n      <td>depthfromtopsynset_normalised_x</td>\n      <td>0.257575</td>\n    </tr>\n    <tr>\n      <th>5</th>\n      <td>minwordlength_x</td>\n      <td>0.170382</td>\n    </tr>\n    <tr>\n      <th>1</th>\n      <td>nrhypos_x</td>\n      <td>0.164066</td>\n    </tr>\n    <tr>\n      <th>4</th>\n      <td>glosslength_normalised_x</td>\n      <td>0.160209</td>\n    </tr>\n    <tr>\n      <th>8</th>\n      <td>ngram_20y_mean</td>\n      <td>0.076773</td>\n    </tr>\n    <tr>\n      <th>9</th>\n      <td>ngram_100y_max</td>\n      <td>0.076011</td>\n    </tr>\n    <tr>\n      <th>7</th>\n      <td>polyscore_max_x</td>\n      <td>0.053664</td>\n    </tr>\n    <tr>\n      <th>6</th>\n      <td>nroflemmas_x</td>\n      <td>0.029404</td>\n    </tr>\n    <tr>\n      <th>2</th>\n      <td>nrpartrels_normalised_x</td>\n      <td>0.010025</td>\n    </tr>\n    <tr>\n      <th>0</th>\n      <td>nrdirhypers_x</td>\n      <td>0.001891</td>\n    </tr>\n  </tbody>\n</table>\n</div>"
     },
     "execution_count": 8,
     "metadata": {},
     "output_type": "execute_result"
    }
   ],
   "source": "base_feature_1 = base_feature + ['ngram_20y_mean']\ncandidate_feature_list_0.remove('ngram_20y_mean')\ncandidate_feature_list_1 = candidate_feature_list_0\n\nbest_kappa = 0.67990\nbest_importance = None\n\nfor candidate in candidate_feature_list_1:\n    kappa, importance = new_feature_local_model_test(local_list, base_feature_1, candidate, target)\n    if kappa > best_kappa:\n        best_kappa = kappa\n        best_importance = importance\n        print(candidate + ': kappa=' + str(best_kappa))\n    else:\n        print(candidate + ' skipped')\n\nprint('Finish!')\nbest_importance",
   "metadata": {
    "collapsed": false,
    "pycharm": {
     "name": "#%%\n"
    },
    "trusted": false
   }
  },
  {
   "cell_type": "code",
   "execution_count": 10,
   "outputs": [
    {
     "name": "stdout",
     "output_type": "stream",
     "text": "ngram_1y_mean skipped\nngram_1y_max skipped\nngram_5y_mean skipped\nngram_5y_max skipped\nngram_10y_mean skipped\nngram_10y_max skipped\nngram_20y_max skipped\nngram_50y_mean skipped\nngram_50y_max skipped\nngram_100y_mean skipped\nngram_200y_mean skipped\nngram_200y_max: kappa=0.700161288230784\nngram_400y_mean: kappa=0.7115015229441634\nngram_400y_max skipped\nngram_500y_mean skipped\nngram_500y_max skipped\nFinish!\n"
    },
    {
     "data": {
      "text/plain": "                           feature importance\n3  depthfromtopsynset_normalised_x   0.264289\n5                  minwordlength_x   0.173495\n4         glosslength_normalised_x   0.166164\n1                        nrhypos_x   0.165204\n8                   ngram_100y_max   0.088688\n7                  polyscore_max_x   0.052278\n9                  ngram_400y_mean    0.04684\n6                     nroflemmas_x   0.029758\n2          nrpartrels_normalised_x   0.010771\n0                    nrdirhypers_x   0.002513",
      "text/html": "<div>\n<style scoped>\n    .dataframe tbody tr th:only-of-type {\n        vertical-align: middle;\n    }\n\n    .dataframe tbody tr th {\n        vertical-align: top;\n    }\n\n    .dataframe thead th {\n        text-align: right;\n    }\n</style>\n<table border=\"1\" class=\"dataframe\">\n  <thead>\n    <tr style=\"text-align: right;\">\n      <th></th>\n      <th>feature</th>\n      <th>importance</th>\n    </tr>\n  </thead>\n  <tbody>\n    <tr>\n      <th>3</th>\n      <td>depthfromtopsynset_normalised_x</td>\n      <td>0.264289</td>\n    </tr>\n    <tr>\n      <th>5</th>\n      <td>minwordlength_x</td>\n      <td>0.173495</td>\n    </tr>\n    <tr>\n      <th>4</th>\n      <td>glosslength_normalised_x</td>\n      <td>0.166164</td>\n    </tr>\n    <tr>\n      <th>1</th>\n      <td>nrhypos_x</td>\n      <td>0.165204</td>\n    </tr>\n    <tr>\n      <th>8</th>\n      <td>ngram_100y_max</td>\n      <td>0.088688</td>\n    </tr>\n    <tr>\n      <th>7</th>\n      <td>polyscore_max_x</td>\n      <td>0.052278</td>\n    </tr>\n    <tr>\n      <th>9</th>\n      <td>ngram_400y_mean</td>\n      <td>0.04684</td>\n    </tr>\n    <tr>\n      <th>6</th>\n      <td>nroflemmas_x</td>\n      <td>0.029758</td>\n    </tr>\n    <tr>\n      <th>2</th>\n      <td>nrpartrels_normalised_x</td>\n      <td>0.010771</td>\n    </tr>\n    <tr>\n      <th>0</th>\n      <td>nrdirhypers_x</td>\n      <td>0.002513</td>\n    </tr>\n  </tbody>\n</table>\n</div>"
     },
     "execution_count": 10,
     "metadata": {},
     "output_type": "execute_result"
    }
   ],
   "source": "base_feature_2 = base_feature + ['ngram_100y_max']\ncandidate_feature_list_1.remove('ngram_100y_max')\ncandidate_feature_list_2 = candidate_feature_list_1\n\nbest_kappa = 0.68937\nbest_importance = None\n\nfor candidate in candidate_feature_list_2:\n    kappa, importance = new_feature_local_model_test(local_list, base_feature_2, candidate, target)\n    if kappa > best_kappa:\n        best_kappa = kappa\n        best_importance = importance\n        print(candidate + ': kappa=' + str(best_kappa))\n    else:\n        print(candidate + ' skipped')\n\nprint('Finish!')\nbest_importance",
   "metadata": {
    "collapsed": false,
    "pycharm": {
     "name": "#%%\n"
    },
    "trusted": false
   }
  },
  {
   "cell_type": "code",
   "execution_count": 11,
   "outputs": [
    {
     "name": "stdout",
     "output_type": "stream",
     "text": "ngram_1y_mean skipped\nngram_1y_max skipped\nngram_5y_mean skipped\nngram_5y_max skipped\nngram_10y_mean skipped\nngram_10y_max skipped\nngram_20y_max skipped\nngram_50y_mean skipped\nngram_50y_max skipped\nngram_100y_mean skipped\nngram_200y_mean skipped\nngram_200y_max skipped\nngram_400y_max skipped\nngram_500y_mean skipped\nngram_500y_max skipped\nFinish!\n"
    }
   ],
   "source": "base_feature_3 = base_feature + ['ngram_400y_mean']\ncandidate_feature_list_2.remove('ngram_400y_mean')\ncandidate_feature_list_3 = candidate_feature_list_2\n\nbest_kappa = 0.71150\nbest_importance = None\n\nfor candidate in candidate_feature_list_3:\n    kappa, importance = new_feature_local_model_test(local_list, base_feature_3, candidate, target)\n    if kappa > best_kappa:\n        best_kappa = kappa\n        best_importance = importance\n        print(candidate + ': kappa=' + str(best_kappa))\n    else:\n        print(candidate + ' skipped')\n\nprint('Finish!')\nbest_importance",
   "metadata": {
    "collapsed": false,
    "pycharm": {
     "name": "#%%\n"
    },
    "trusted": false
   }
  },
  {
   "cell_type": "markdown",
   "source": "### Top-down",
   "metadata": {
    "collapsed": false
   }
  },
  {
   "cell_type": "code",
   "execution_count": 12,
   "outputs": [],
   "source": "candidate_feature_list = ['ngram_1y_mean', 'ngram_1y_max',\n                          'ngram_5y_mean', 'ngram_5y_max',\n                          'ngram_10y_mean', 'ngram_10y_max',\n                          'ngram_20y_mean', 'ngram_20y_max',\n                          'ngram_50y_mean', 'ngram_50y_max',\n                          'ngram_100y_mean', 'ngram_100y_max',\n                          'ngram_200y_mean', 'ngram_200y_max',\n                          'ngram_400y_mean', 'ngram_400y_max',\n                          'ngram_500y_mean', 'ngram_500y_max']",
   "metadata": {
    "collapsed": false,
    "pycharm": {
     "name": "#%%\n"
    },
    "trusted": false
   }
  },
  {
   "cell_type": "code",
   "execution_count": 13,
   "outputs": [
    {
     "name": "stdout",
     "output_type": "stream",
     "text": "kappa=0.6598485207395978\n"
    },
    {
     "data": {
      "text/plain": "                            feature importance\n3   depthfromtopsynset_normalised_x   0.191351\n5                   minwordlength_x   0.122385\n1                         nrhypos_x   0.114978\n4          glosslength_normalised_x   0.113005\n8                     ngram_1y_mean   0.041377\n7                   polyscore_max_x   0.034202\n10                    ngram_5y_mean   0.033819\n23                   ngram_400y_max    0.03004\n25                   ngram_500y_max   0.029216\n12                   ngram_10y_mean    0.02779\n11                     ngram_5y_max     0.0264\n9                      ngram_1y_max   0.025815\n13                    ngram_10y_max   0.025767\n21                   ngram_200y_max   0.025559\n15                    ngram_20y_max   0.022522\n6                      nroflemmas_x   0.021029\n19                   ngram_100y_max   0.018778\n17                    ngram_50y_max   0.018294\n14                   ngram_20y_mean   0.016162\n16                   ngram_50y_mean    0.01193\n20                  ngram_200y_mean   0.011506\n22                  ngram_400y_mean   0.011498\n18                  ngram_100y_mean   0.011076\n24                  ngram_500y_mean    0.00948\n2           nrpartrels_normalised_x    0.00502\n0                     nrdirhypers_x   0.001004",
      "text/html": "<div>\n<style scoped>\n    .dataframe tbody tr th:only-of-type {\n        vertical-align: middle;\n    }\n\n    .dataframe tbody tr th {\n        vertical-align: top;\n    }\n\n    .dataframe thead th {\n        text-align: right;\n    }\n</style>\n<table border=\"1\" class=\"dataframe\">\n  <thead>\n    <tr style=\"text-align: right;\">\n      <th></th>\n      <th>feature</th>\n      <th>importance</th>\n    </tr>\n  </thead>\n  <tbody>\n    <tr>\n      <th>3</th>\n      <td>depthfromtopsynset_normalised_x</td>\n      <td>0.191351</td>\n    </tr>\n    <tr>\n      <th>5</th>\n      <td>minwordlength_x</td>\n      <td>0.122385</td>\n    </tr>\n    <tr>\n      <th>1</th>\n      <td>nrhypos_x</td>\n      <td>0.114978</td>\n    </tr>\n    <tr>\n      <th>4</th>\n      <td>glosslength_normalised_x</td>\n      <td>0.113005</td>\n    </tr>\n    <tr>\n      <th>8</th>\n      <td>ngram_1y_mean</td>\n      <td>0.041377</td>\n    </tr>\n    <tr>\n      <th>7</th>\n      <td>polyscore_max_x</td>\n      <td>0.034202</td>\n    </tr>\n    <tr>\n      <th>10</th>\n      <td>ngram_5y_mean</td>\n      <td>0.033819</td>\n    </tr>\n    <tr>\n      <th>23</th>\n      <td>ngram_400y_max</td>\n      <td>0.03004</td>\n    </tr>\n    <tr>\n      <th>25</th>\n      <td>ngram_500y_max</td>\n      <td>0.029216</td>\n    </tr>\n    <tr>\n      <th>12</th>\n      <td>ngram_10y_mean</td>\n      <td>0.02779</td>\n    </tr>\n    <tr>\n      <th>11</th>\n      <td>ngram_5y_max</td>\n      <td>0.0264</td>\n    </tr>\n    <tr>\n      <th>9</th>\n      <td>ngram_1y_max</td>\n      <td>0.025815</td>\n    </tr>\n    <tr>\n      <th>13</th>\n      <td>ngram_10y_max</td>\n      <td>0.025767</td>\n    </tr>\n    <tr>\n      <th>21</th>\n      <td>ngram_200y_max</td>\n      <td>0.025559</td>\n    </tr>\n    <tr>\n      <th>15</th>\n      <td>ngram_20y_max</td>\n      <td>0.022522</td>\n    </tr>\n    <tr>\n      <th>6</th>\n      <td>nroflemmas_x</td>\n      <td>0.021029</td>\n    </tr>\n    <tr>\n      <th>19</th>\n      <td>ngram_100y_max</td>\n      <td>0.018778</td>\n    </tr>\n    <tr>\n      <th>17</th>\n      <td>ngram_50y_max</td>\n      <td>0.018294</td>\n    </tr>\n    <tr>\n      <th>14</th>\n      <td>ngram_20y_mean</td>\n      <td>0.016162</td>\n    </tr>\n    <tr>\n      <th>16</th>\n      <td>ngram_50y_mean</td>\n      <td>0.01193</td>\n    </tr>\n    <tr>\n      <th>20</th>\n      <td>ngram_200y_mean</td>\n      <td>0.011506</td>\n    </tr>\n    <tr>\n      <th>22</th>\n      <td>ngram_400y_mean</td>\n      <td>0.011498</td>\n    </tr>\n    <tr>\n      <th>18</th>\n      <td>ngram_100y_mean</td>\n      <td>0.011076</td>\n    </tr>\n    <tr>\n      <th>24</th>\n      <td>ngram_500y_mean</td>\n      <td>0.00948</td>\n    </tr>\n    <tr>\n      <th>2</th>\n      <td>nrpartrels_normalised_x</td>\n      <td>0.00502</td>\n    </tr>\n    <tr>\n      <th>0</th>\n      <td>nrdirhypers_x</td>\n      <td>0.001004</td>\n    </tr>\n  </tbody>\n</table>\n</div>"
     },
     "execution_count": 13,
     "metadata": {},
     "output_type": "execute_result"
    }
   ],
   "source": "training_features_0 = base_feature + candidate_feature_list\n\nbest_kappa, importance = new_feature_local_model_test(local_list, training_features_0, None, target)\nprint('kappa=' + str(best_kappa))\nimportance",
   "metadata": {
    "collapsed": false,
    "pycharm": {
     "name": "#%%\n"
    },
    "trusted": false
   }
  },
  {
   "cell_type": "code",
   "execution_count": 14,
   "outputs": [
    {
     "name": "stdout",
     "output_type": "stream",
     "text": "eliminate ngram_1y_mean skipped\neliminate ngram_1y_max: kappa=0.6688014159106257\neliminate ngram_5y_mean skipped\neliminate ngram_5y_max skipped\neliminate ngram_10y_mean skipped\neliminate ngram_10y_max skipped\neliminate ngram_20y_mean skipped\neliminate ngram_20y_max skipped\neliminate ngram_50y_mean skipped\neliminate ngram_50y_max skipped\neliminate ngram_100y_mean skipped\neliminate ngram_100y_max skipped\neliminate ngram_200y_mean skipped\neliminate ngram_200y_max: kappa=0.6707992748317102\neliminate ngram_400y_mean skipped\neliminate ngram_400y_max skipped\neliminate ngram_500y_mean skipped\neliminate ngram_500y_max skipped\nFinish!\n"
    },
    {
     "data": {
      "text/plain": "                            feature importance\n3   depthfromtopsynset_normalised_x   0.187932\n5                   minwordlength_x   0.120714\n4          glosslength_normalised_x   0.114982\n1                         nrhypos_x   0.107681\n8                     ngram_1y_mean   0.042818\n10                    ngram_5y_mean   0.036929\n7                   polyscore_max_x    0.03499\n12                   ngram_10y_mean   0.032827\n24                   ngram_500y_max   0.030779\n22                   ngram_400y_max   0.030221\n11                     ngram_5y_max   0.029122\n13                    ngram_10y_max   0.027743\n9                      ngram_1y_max   0.026216\n15                    ngram_20y_max   0.023382\n6                      nroflemmas_x   0.022476\n19                   ngram_100y_max   0.020803\n17                    ngram_50y_max   0.019848\n14                   ngram_20y_mean   0.018645\n20                  ngram_200y_mean   0.014033\n18                  ngram_100y_mean   0.013713\n21                  ngram_400y_mean   0.013184\n16                   ngram_50y_mean   0.012931\n23                  ngram_500y_mean   0.011762\n2           nrpartrels_normalised_x   0.005322\n0                     nrdirhypers_x   0.000949",
      "text/html": "<div>\n<style scoped>\n    .dataframe tbody tr th:only-of-type {\n        vertical-align: middle;\n    }\n\n    .dataframe tbody tr th {\n        vertical-align: top;\n    }\n\n    .dataframe thead th {\n        text-align: right;\n    }\n</style>\n<table border=\"1\" class=\"dataframe\">\n  <thead>\n    <tr style=\"text-align: right;\">\n      <th></th>\n      <th>feature</th>\n      <th>importance</th>\n    </tr>\n  </thead>\n  <tbody>\n    <tr>\n      <th>3</th>\n      <td>depthfromtopsynset_normalised_x</td>\n      <td>0.187932</td>\n    </tr>\n    <tr>\n      <th>5</th>\n      <td>minwordlength_x</td>\n      <td>0.120714</td>\n    </tr>\n    <tr>\n      <th>4</th>\n      <td>glosslength_normalised_x</td>\n      <td>0.114982</td>\n    </tr>\n    <tr>\n      <th>1</th>\n      <td>nrhypos_x</td>\n      <td>0.107681</td>\n    </tr>\n    <tr>\n      <th>8</th>\n      <td>ngram_1y_mean</td>\n      <td>0.042818</td>\n    </tr>\n    <tr>\n      <th>10</th>\n      <td>ngram_5y_mean</td>\n      <td>0.036929</td>\n    </tr>\n    <tr>\n      <th>7</th>\n      <td>polyscore_max_x</td>\n      <td>0.03499</td>\n    </tr>\n    <tr>\n      <th>12</th>\n      <td>ngram_10y_mean</td>\n      <td>0.032827</td>\n    </tr>\n    <tr>\n      <th>24</th>\n      <td>ngram_500y_max</td>\n      <td>0.030779</td>\n    </tr>\n    <tr>\n      <th>22</th>\n      <td>ngram_400y_max</td>\n      <td>0.030221</td>\n    </tr>\n    <tr>\n      <th>11</th>\n      <td>ngram_5y_max</td>\n      <td>0.029122</td>\n    </tr>\n    <tr>\n      <th>13</th>\n      <td>ngram_10y_max</td>\n      <td>0.027743</td>\n    </tr>\n    <tr>\n      <th>9</th>\n      <td>ngram_1y_max</td>\n      <td>0.026216</td>\n    </tr>\n    <tr>\n      <th>15</th>\n      <td>ngram_20y_max</td>\n      <td>0.023382</td>\n    </tr>\n    <tr>\n      <th>6</th>\n      <td>nroflemmas_x</td>\n      <td>0.022476</td>\n    </tr>\n    <tr>\n      <th>19</th>\n      <td>ngram_100y_max</td>\n      <td>0.020803</td>\n    </tr>\n    <tr>\n      <th>17</th>\n      <td>ngram_50y_max</td>\n      <td>0.019848</td>\n    </tr>\n    <tr>\n      <th>14</th>\n      <td>ngram_20y_mean</td>\n      <td>0.018645</td>\n    </tr>\n    <tr>\n      <th>20</th>\n      <td>ngram_200y_mean</td>\n      <td>0.014033</td>\n    </tr>\n    <tr>\n      <th>18</th>\n      <td>ngram_100y_mean</td>\n      <td>0.013713</td>\n    </tr>\n    <tr>\n      <th>21</th>\n      <td>ngram_400y_mean</td>\n      <td>0.013184</td>\n    </tr>\n    <tr>\n      <th>16</th>\n      <td>ngram_50y_mean</td>\n      <td>0.012931</td>\n    </tr>\n    <tr>\n      <th>23</th>\n      <td>ngram_500y_mean</td>\n      <td>0.011762</td>\n    </tr>\n    <tr>\n      <th>2</th>\n      <td>nrpartrels_normalised_x</td>\n      <td>0.005322</td>\n    </tr>\n    <tr>\n      <th>0</th>\n      <td>nrdirhypers_x</td>\n      <td>0.000949</td>\n    </tr>\n  </tbody>\n</table>\n</div>"
     },
     "execution_count": 14,
     "metadata": {},
     "output_type": "execute_result"
    }
   ],
   "source": "candidate_feature_list_1 = candidate_feature_list\n\nbest_kappa = 0.65985\nbest_importance = None\nfor idx in range(len(candidate_feature_list_1)):\n    input_candidates = candidate_feature_list_1[0:idx] + candidate_feature_list_1[idx+1:]\n    training_features_1 = base_feature + input_candidates\n    kappa, importance = new_feature_local_model_test(local_list, training_features_1, None, target)\n    if kappa > best_kappa:\n        best_kappa = kappa\n        best_importance = importance\n        print('eliminate ' + candidate_feature_list_1[idx] + ': kappa=' + str(best_kappa))\n    else:\n        print('eliminate ' + candidate_feature_list_1[idx] + ' skipped')\n\nprint('Finish!')\nbest_importance",
   "metadata": {
    "collapsed": false,
    "pycharm": {
     "name": "#%%\n"
    },
    "trusted": false
   }
  },
  {
   "cell_type": "code",
   "execution_count": null,
   "outputs": [
    {
     "name": "stdout",
     "output_type": "stream",
     "text": "eliminate ngram_1y_mean skipped\neliminate ngram_1y_max: kappa=0.6747325849074625\neliminate ngram_5y_mean skipped\neliminate ngram_5y_max: kappa=0.6772453047532967\neliminate ngram_10y_mean: kappa=0.6777361050689039\neliminate ngram_10y_max: kappa=0.6829072095152015\n"
    }
   ],
   "source": "candidate_feature_list_1.remove('ngram_200y_max')\ncandidate_feature_list_2 = candidate_feature_list_1\n\nbest_kappa = 0.67080\nbest_importance = None\nfor idx in range(len(candidate_feature_list_2)):\n    input_candidates = candidate_feature_list_2[0:idx] + candidate_feature_list_2[idx+1:]\n    training_features_2 = base_feature + input_candidates\n    kappa, importance = new_feature_local_model_test(local_list, training_features_2, None, target)\n    if kappa > best_kappa:\n        best_kappa = kappa\n        best_importance = importance\n        print('eliminate ' + candidate_feature_list_2[idx] + ': kappa=' + str(best_kappa))\n    else:\n        print('eliminate ' + candidate_feature_list_2[idx] + ' skipped')\n\nprint('Finish!')\nbest_importance",
   "metadata": {
    "collapsed": false,
    "pycharm": {
     "name": "#%%\n",
     "is_executing": true
    },
    "trusted": false
   }
  },
  {
   "cell_type": "code",
   "execution_count": 16,
   "outputs": [
    {
     "name": "stdout",
     "output_type": "stream",
     "text": "eliminate ngram_1y_mean skipped\neliminate ngram_1y_max skipped\neliminate ngram_5y_mean skipped\neliminate ngram_5y_max skipped\neliminate ngram_10y_mean skipped\neliminate ngram_20y_mean skipped\neliminate ngram_20y_max skipped\neliminate ngram_50y_mean skipped\neliminate ngram_50y_max skipped\neliminate ngram_100y_mean: kappa=0.6841312481897445\neliminate ngram_100y_max skipped\neliminate ngram_200y_mean skipped\neliminate ngram_400y_mean skipped\neliminate ngram_400y_max skipped\neliminate ngram_500y_mean skipped\neliminate ngram_500y_max skipped\nFinish!\n"
    },
    {
     "data": {
      "text/plain": "                            feature importance\n3   depthfromtopsynset_normalised_x   0.181616\n4          glosslength_normalised_x   0.117104\n5                   minwordlength_x   0.113387\n1                         nrhypos_x   0.111377\n10                    ngram_5y_mean   0.044512\n8                     ngram_1y_mean   0.042664\n7                   polyscore_max_x   0.036716\n22                   ngram_500y_max   0.034169\n12                   ngram_10y_mean   0.033796\n20                   ngram_400y_max   0.033067\n11                     ngram_5y_max   0.031893\n9                      ngram_1y_max   0.031687\n14                    ngram_20y_max   0.028077\n16                    ngram_50y_max    0.02684\n17                   ngram_100y_max    0.02457\n6                      nroflemmas_x   0.022669\n13                   ngram_20y_mean   0.021913\n18                  ngram_200y_mean   0.015319\n15                   ngram_50y_mean   0.014737\n19                  ngram_400y_mean   0.013967\n21                  ngram_500y_mean   0.012609\n2           nrpartrels_normalised_x   0.006045\n0                     nrdirhypers_x   0.001266",
      "text/html": "<div>\n<style scoped>\n    .dataframe tbody tr th:only-of-type {\n        vertical-align: middle;\n    }\n\n    .dataframe tbody tr th {\n        vertical-align: top;\n    }\n\n    .dataframe thead th {\n        text-align: right;\n    }\n</style>\n<table border=\"1\" class=\"dataframe\">\n  <thead>\n    <tr style=\"text-align: right;\">\n      <th></th>\n      <th>feature</th>\n      <th>importance</th>\n    </tr>\n  </thead>\n  <tbody>\n    <tr>\n      <th>3</th>\n      <td>depthfromtopsynset_normalised_x</td>\n      <td>0.181616</td>\n    </tr>\n    <tr>\n      <th>4</th>\n      <td>glosslength_normalised_x</td>\n      <td>0.117104</td>\n    </tr>\n    <tr>\n      <th>5</th>\n      <td>minwordlength_x</td>\n      <td>0.113387</td>\n    </tr>\n    <tr>\n      <th>1</th>\n      <td>nrhypos_x</td>\n      <td>0.111377</td>\n    </tr>\n    <tr>\n      <th>10</th>\n      <td>ngram_5y_mean</td>\n      <td>0.044512</td>\n    </tr>\n    <tr>\n      <th>8</th>\n      <td>ngram_1y_mean</td>\n      <td>0.042664</td>\n    </tr>\n    <tr>\n      <th>7</th>\n      <td>polyscore_max_x</td>\n      <td>0.036716</td>\n    </tr>\n    <tr>\n      <th>22</th>\n      <td>ngram_500y_max</td>\n      <td>0.034169</td>\n    </tr>\n    <tr>\n      <th>12</th>\n      <td>ngram_10y_mean</td>\n      <td>0.033796</td>\n    </tr>\n    <tr>\n      <th>20</th>\n      <td>ngram_400y_max</td>\n      <td>0.033067</td>\n    </tr>\n    <tr>\n      <th>11</th>\n      <td>ngram_5y_max</td>\n      <td>0.031893</td>\n    </tr>\n    <tr>\n      <th>9</th>\n      <td>ngram_1y_max</td>\n      <td>0.031687</td>\n    </tr>\n    <tr>\n      <th>14</th>\n      <td>ngram_20y_max</td>\n      <td>0.028077</td>\n    </tr>\n    <tr>\n      <th>16</th>\n      <td>ngram_50y_max</td>\n      <td>0.02684</td>\n    </tr>\n    <tr>\n      <th>17</th>\n      <td>ngram_100y_max</td>\n      <td>0.02457</td>\n    </tr>\n    <tr>\n      <th>6</th>\n      <td>nroflemmas_x</td>\n      <td>0.022669</td>\n    </tr>\n    <tr>\n      <th>13</th>\n      <td>ngram_20y_mean</td>\n      <td>0.021913</td>\n    </tr>\n    <tr>\n      <th>18</th>\n      <td>ngram_200y_mean</td>\n      <td>0.015319</td>\n    </tr>\n    <tr>\n      <th>15</th>\n      <td>ngram_50y_mean</td>\n      <td>0.014737</td>\n    </tr>\n    <tr>\n      <th>19</th>\n      <td>ngram_400y_mean</td>\n      <td>0.013967</td>\n    </tr>\n    <tr>\n      <th>21</th>\n      <td>ngram_500y_mean</td>\n      <td>0.012609</td>\n    </tr>\n    <tr>\n      <th>2</th>\n      <td>nrpartrels_normalised_x</td>\n      <td>0.006045</td>\n    </tr>\n    <tr>\n      <th>0</th>\n      <td>nrdirhypers_x</td>\n      <td>0.001266</td>\n    </tr>\n  </tbody>\n</table>\n</div>"
     },
     "execution_count": 16,
     "metadata": {},
     "output_type": "execute_result"
    }
   ],
   "source": "candidate_feature_list_2.remove('ngram_10y_max')\ncandidate_feature_list_3 = candidate_feature_list_2\n\nbest_kappa = 0.68291\nbest_importance = None\nfor idx in range(len(candidate_feature_list_3)):\n    input_candidates = candidate_feature_list_3[0:idx] + candidate_feature_list_3[idx+1:]\n    training_features_3 = base_feature + input_candidates\n    kappa, importance = new_feature_local_model_test(local_list, training_features_3, None, target)\n    if kappa > best_kappa:\n        best_kappa = kappa\n        best_importance = importance\n        print('eliminate ' + candidate_feature_list_3[idx] + ': kappa=' + str(best_kappa))\n    else:\n        print('eliminate ' + candidate_feature_list_3[idx] + ' skipped')\n\nprint('Finish!')\nbest_importance",
   "metadata": {
    "collapsed": false,
    "pycharm": {
     "name": "#%%\n"
    },
    "trusted": false
   }
  },
  {
   "cell_type": "code",
   "execution_count": null,
   "outputs": [
    {
     "name": "stdout",
     "output_type": "stream",
     "text": "eliminate ngram_1y_mean skipped\neliminate ngram_1y_max skipped\neliminate ngram_5y_mean skipped\neliminate ngram_5y_max skipped\neliminate ngram_10y_mean: kappa=0.68450636706036\neliminate ngram_20y_mean skipped\neliminate ngram_20y_max skipped\neliminate ngram_50y_mean skipped\neliminate ngram_50y_max skipped\neliminate ngram_100y_max skipped\neliminate ngram_200y_mean skipped\neliminate ngram_400y_mean skipped\n"
    }
   ],
   "source": "candidate_feature_list_3.remove('ngram_100y_mean')\ncandidate_feature_list_4 = candidate_feature_list_3\n\nbest_kappa = 0.68413\nbest_importance = None\nfor idx in range(len(candidate_feature_list_4)):\n    input_candidates = candidate_feature_list_4[0:idx] + candidate_feature_list_4[idx+1:]\n    training_features_4 = base_feature + input_candidates\n    kappa, importance = new_feature_local_model_test(local_list, training_features_4, None, target)\n    if kappa > best_kappa:\n        best_kappa = kappa\n        best_importance = importance\n        print('eliminate ' + candidate_feature_list_4[idx] + ': kappa=' + str(best_kappa))\n    else:\n        print('eliminate ' + candidate_feature_list_4[idx] + ' skipped')\n\nprint('Finish!')\nbest_importance",
   "metadata": {
    "collapsed": false,
    "pycharm": {
     "name": "#%%\n",
     "is_executing": true
    },
    "trusted": false
   }
  },
  {
   "cell_type": "code",
   "execution_count": 19,
   "outputs": [
    {
     "name": "stdout",
     "output_type": "stream",
     "text": "eliminate ngram_1y_mean skipped\neliminate ngram_1y_max skipped\neliminate ngram_5y_mean skipped\neliminate ngram_5y_max skipped\neliminate ngram_20y_mean skipped\neliminate ngram_20y_max skipped\neliminate ngram_50y_mean skipped\neliminate ngram_50y_max skipped\neliminate ngram_100y_max skipped\neliminate ngram_200y_mean skipped\neliminate ngram_400y_mean skipped\neliminate ngram_400y_max skipped\neliminate ngram_500y_mean skipped\neliminate ngram_500y_max skipped\nFinish!\n"
    }
   ],
   "source": "candidate_feature_list_4.remove('ngram_10y_mean')\ncandidate_feature_list_5 = candidate_feature_list_4\n\nbest_kappa = 0.68451\nbest_importance = None\nfor idx in range(len(candidate_feature_list_5)):\n    input_candidates = candidate_feature_list_5[0:idx] + candidate_feature_list_5[idx+1:]\n    training_features_5 = base_feature + input_candidates\n    kappa, importance = new_feature_local_model_test(local_list, training_features_5, None, target)\n    if kappa > best_kappa:\n        best_kappa = kappa\n        best_importance = importance\n        print('eliminate ' + candidate_feature_list_5[idx] + ': kappa=' + str(best_kappa))\n    else:\n        print('eliminate ' + candidate_feature_list_5[idx] + ' skipped')\n\nprint('Finish!')\nbest_importance",
   "metadata": {
    "collapsed": false,
    "pycharm": {
     "name": "#%%\n"
    },
    "trusted": false
   }
  },
  {
   "cell_type": "code",
   "execution_count": 20,
   "outputs": [],
   "source": "training_features_5 = base_feature + candidate_feature_list_5\nkappa, importance = new_feature_local_model_test(local_list, training_features_5, None, target)\nkappa, importance",
   "metadata": {
    "collapsed": false,
    "pycharm": {
     "name": "#%%\n"
    },
    "trusted": false
   }
  },
  {
   "cell_type": "code",
   "execution_count": 22,
   "outputs": [
    {
     "data": {
      "text/plain": "                            feature importance\n3   depthfromtopsynset_normalised_x   0.184621\n5                   minwordlength_x    0.12032\n4          glosslength_normalised_x   0.116253\n1                         nrhypos_x   0.107713\n8                     ngram_1y_mean   0.050102\n10                    ngram_5y_mean   0.042889\n11                     ngram_5y_max   0.038203\n7                   polyscore_max_x   0.037909\n19                   ngram_400y_max   0.035455\n21                   ngram_500y_max   0.034278\n9                      ngram_1y_max   0.031795\n13                    ngram_20y_max   0.030439\n15                    ngram_50y_max   0.027937\n16                   ngram_100y_max   0.025723\n12                   ngram_20y_mean   0.025324\n6                      nroflemmas_x   0.023035\n14                   ngram_50y_mean   0.017522\n17                  ngram_200y_mean   0.014718\n18                  ngram_400y_mean   0.014466\n20                  ngram_500y_mean   0.014122\n2           nrpartrels_normalised_x   0.006009\n0                     nrdirhypers_x   0.001169",
      "text/html": "<div>\n<style scoped>\n    .dataframe tbody tr th:only-of-type {\n        vertical-align: middle;\n    }\n\n    .dataframe tbody tr th {\n        vertical-align: top;\n    }\n\n    .dataframe thead th {\n        text-align: right;\n    }\n</style>\n<table border=\"1\" class=\"dataframe\">\n  <thead>\n    <tr style=\"text-align: right;\">\n      <th></th>\n      <th>feature</th>\n      <th>importance</th>\n    </tr>\n  </thead>\n  <tbody>\n    <tr>\n      <th>3</th>\n      <td>depthfromtopsynset_normalised_x</td>\n      <td>0.184621</td>\n    </tr>\n    <tr>\n      <th>5</th>\n      <td>minwordlength_x</td>\n      <td>0.12032</td>\n    </tr>\n    <tr>\n      <th>4</th>\n      <td>glosslength_normalised_x</td>\n      <td>0.116253</td>\n    </tr>\n    <tr>\n      <th>1</th>\n      <td>nrhypos_x</td>\n      <td>0.107713</td>\n    </tr>\n    <tr>\n      <th>8</th>\n      <td>ngram_1y_mean</td>\n      <td>0.050102</td>\n    </tr>\n    <tr>\n      <th>10</th>\n      <td>ngram_5y_mean</td>\n      <td>0.042889</td>\n    </tr>\n    <tr>\n      <th>11</th>\n      <td>ngram_5y_max</td>\n      <td>0.038203</td>\n    </tr>\n    <tr>\n      <th>7</th>\n      <td>polyscore_max_x</td>\n      <td>0.037909</td>\n    </tr>\n    <tr>\n      <th>19</th>\n      <td>ngram_400y_max</td>\n      <td>0.035455</td>\n    </tr>\n    <tr>\n      <th>21</th>\n      <td>ngram_500y_max</td>\n      <td>0.034278</td>\n    </tr>\n    <tr>\n      <th>9</th>\n      <td>ngram_1y_max</td>\n      <td>0.031795</td>\n    </tr>\n    <tr>\n      <th>13</th>\n      <td>ngram_20y_max</td>\n      <td>0.030439</td>\n    </tr>\n    <tr>\n      <th>15</th>\n      <td>ngram_50y_max</td>\n      <td>0.027937</td>\n    </tr>\n    <tr>\n      <th>16</th>\n      <td>ngram_100y_max</td>\n      <td>0.025723</td>\n    </tr>\n    <tr>\n      <th>12</th>\n      <td>ngram_20y_mean</td>\n      <td>0.025324</td>\n    </tr>\n    <tr>\n      <th>6</th>\n      <td>nroflemmas_x</td>\n      <td>0.023035</td>\n    </tr>\n    <tr>\n      <th>14</th>\n      <td>ngram_50y_mean</td>\n      <td>0.017522</td>\n    </tr>\n    <tr>\n      <th>17</th>\n      <td>ngram_200y_mean</td>\n      <td>0.014718</td>\n    </tr>\n    <tr>\n      <th>18</th>\n      <td>ngram_400y_mean</td>\n      <td>0.014466</td>\n    </tr>\n    <tr>\n      <th>20</th>\n      <td>ngram_500y_mean</td>\n      <td>0.014122</td>\n    </tr>\n    <tr>\n      <th>2</th>\n      <td>nrpartrels_normalised_x</td>\n      <td>0.006009</td>\n    </tr>\n    <tr>\n      <th>0</th>\n      <td>nrdirhypers_x</td>\n      <td>0.001169</td>\n    </tr>\n  </tbody>\n</table>\n</div>"
     },
     "execution_count": 22,
     "metadata": {},
     "output_type": "execute_result"
    }
   ],
   "source": "importance",
   "metadata": {
    "collapsed": false,
    "pycharm": {
     "name": "#%%\n"
    },
    "trusted": false
   }
  },
  {
   "cell_type": "markdown",
   "source": "## Selection for TransferModel",
   "metadata": {
    "collapsed": false
   }
  },
  {
   "cell_type": "code",
   "execution_count": 3,
   "outputs": [],
   "source": "candidate_feature_list = ['ngram_1y_mean', 'ngram_1y_max',\n                          'ngram_5y_mean', 'ngram_5y_max',\n                          'ngram_10y_mean', 'ngram_10y_max',\n                          'ngram_20y_mean', 'ngram_20y_max',\n                          'ngram_50y_mean', 'ngram_50y_max',\n                          'ngram_100y_mean', 'ngram_100y_max',\n                          'ngram_200y_mean', 'ngram_200y_max',\n                          'ngram_400y_mean', 'ngram_400y_max',\n                          'ngram_500y_mean', 'ngram_500y_max']",
   "metadata": {
    "collapsed": false,
    "pycharm": {
     "name": "#%%\n"
    },
    "trusted": false
   }
  },
  {
   "cell_type": "code",
   "execution_count": 20,
   "outputs": [],
   "source": "# generate the local dataframe for different domains\nlocal_fruit = data.loc[data['domain_x']=='fruit']\nlocal_tool = data.loc[data['domain_x']=='tool']\nlocal_music = data.loc[data['domain_x']=='music']\nlocal_furniture = data.loc[data['domain_x']=='furn']\nlocal_garments = data.loc[data['domain_x']=='garm']\n\nlocal_list = [local_fruit, local_tool, local_music, local_furniture, local_garments]\n\n# generate the unseen(transfer) dataframe for different domains\nunseen_fruit = data.loc[data['domain_x']!='fruit']\nunseen_tool = data.loc[data['domain_x']!='tool']\nunseen_music = data.loc[data['domain_x']!='music']\nunseen_furniture = data.loc[data['domain_x']!='furn']\nunseen_garments = data.loc[data['domain_x']!='garm']\n\nunseen_list = [unseen_fruit, unseen_tool, unseen_music, unseen_furniture, unseen_garments]\n\ndef new_feature_transfer_model_test(train_list, test_list, base_feature, new_feature, target):\n    random_seed = 7 # R\n    transfer_kappa_list = []\n    # transfer_balancedAcc_list = []\n    for counter in range(len(train_list)):\n        training_data = train_list[counter].reset_index()\n        testing_data = test_list[counter].reset_index()\n        if new_feature is None:\n            feature_list = base_feature\n        else:\n            feature_list = base_feature + [new_feature]\n        X_train = training_data[feature_list]\n        y_train = training_data[target]\n        X_test = testing_data[feature_list]\n        y_test = testing_data[target]\n\n        # SMOTE algorithm\n        smote = SMOTE(random_state=random_seed, k_neighbors=2)\n        X_train, y_train = smote.fit_resample(X_train, y_train)\n\n        # define random forest model\n        rf = RandomForestClassifier(random_state=random_seed, max_features='sqrt', n_estimators=1400, min_samples_split=2, min_samples_leaf=1, max_depth=50, oob_score=True, criterion='gini', bootstrap=True).fit(X_train, y_train)\n\n        # predict and make score\n        pipeline = make_pipeline(smote, rf)\n        y_pred = pipeline.predict(X_test)\n\n        kappa = cohen_kappa_score(y_test, y_pred)\n        # balanced_accuracy = balanced_accuracy_score(y_test, y_pred)\n\n        transfer_kappa_list.append(kappa)\n        # transfer_balancedAcc_list.append(balanced_accuracy)\n\n    transfer_kappa = np.mean(transfer_kappa_list) #, np.mean(transfer_balancedAcc_list)\n\n    # importance of features\n    importance = rf.feature_importances_\n    importance = pd.DataFrame([feature_list, importance]).transpose()\n    importance = importance.rename(columns={0:'feature', 1:'importance'}).sort_values('importance', ascending=False)\n\n    return transfer_kappa, importance",
   "metadata": {
    "collapsed": false,
    "pycharm": {
     "name": "#%%\n"
    },
    "trusted": false
   }
  },
  {
   "cell_type": "markdown",
   "source": "### Bottom-up",
   "metadata": {
    "collapsed": false,
    "pycharm": {
     "name": "#%% md\n"
    }
   }
  },
  {
   "cell_type": "code",
   "execution_count": 9,
   "outputs": [
    {
     "name": "stdout",
     "output_type": "stream",
     "text": "ngram_1y_mean: kappa=0.517128430230662\nngram_1y_max: kappa=0.5209915138998674\nngram_5y_mean skipped\nngram_5y_max skipped\nngram_10y_mean skipped\nngram_10y_max skipped\nngram_20y_mean: kappa=0.5291173660047429\nngram_20y_max skipped\nngram_50y_mean skipped\nngram_50y_max skipped\nngram_100y_mean skipped\nngram_100y_max skipped\nngram_200y_mean skipped\nngram_200y_max skipped\nngram_400y_mean skipped\nngram_400y_max skipped\nngram_500y_mean skipped\nngram_500y_max skipped\nFinish!\n"
    },
    {
     "data": {
      "text/plain": "                           feature importance\n3  depthfromtopsynset_normalised_x   0.430008\n4         glosslength_normalised_x   0.163903\n5                  minwordlength_x   0.139732\n8                   ngram_20y_mean   0.073956\n2          nrpartrels_normalised_x   0.069051\n7                  polyscore_max_x   0.052717\n1                        nrhypos_x   0.040303\n6                     nroflemmas_x    0.02767\n0                    nrdirhypers_x   0.002661",
      "text/html": "<div>\n<style scoped>\n    .dataframe tbody tr th:only-of-type {\n        vertical-align: middle;\n    }\n\n    .dataframe tbody tr th {\n        vertical-align: top;\n    }\n\n    .dataframe thead th {\n        text-align: right;\n    }\n</style>\n<table border=\"1\" class=\"dataframe\">\n  <thead>\n    <tr style=\"text-align: right;\">\n      <th></th>\n      <th>feature</th>\n      <th>importance</th>\n    </tr>\n  </thead>\n  <tbody>\n    <tr>\n      <th>3</th>\n      <td>depthfromtopsynset_normalised_x</td>\n      <td>0.430008</td>\n    </tr>\n    <tr>\n      <th>4</th>\n      <td>glosslength_normalised_x</td>\n      <td>0.163903</td>\n    </tr>\n    <tr>\n      <th>5</th>\n      <td>minwordlength_x</td>\n      <td>0.139732</td>\n    </tr>\n    <tr>\n      <th>8</th>\n      <td>ngram_20y_mean</td>\n      <td>0.073956</td>\n    </tr>\n    <tr>\n      <th>2</th>\n      <td>nrpartrels_normalised_x</td>\n      <td>0.069051</td>\n    </tr>\n    <tr>\n      <th>7</th>\n      <td>polyscore_max_x</td>\n      <td>0.052717</td>\n    </tr>\n    <tr>\n      <th>1</th>\n      <td>nrhypos_x</td>\n      <td>0.040303</td>\n    </tr>\n    <tr>\n      <th>6</th>\n      <td>nroflemmas_x</td>\n      <td>0.02767</td>\n    </tr>\n    <tr>\n      <th>0</th>\n      <td>nrdirhypers_x</td>\n      <td>0.002661</td>\n    </tr>\n  </tbody>\n</table>\n</div>"
     },
     "execution_count": 9,
     "metadata": {},
     "output_type": "execute_result"
    }
   ],
   "source": "base_feature_0 = base_feature\ncandidate_feature_list_0 = candidate_feature_list\n\nbest_kappa = 0\nbest_importance = None\n\nfor candidate in candidate_feature_list_0:\n    kappa, importance = new_feature_transfer_model_test(unseen_list, local_list, base_feature_0, candidate, target)\n    if kappa > best_kappa:\n        best_kappa = kappa\n        best_importance = importance\n        print(candidate + ': kappa=' + str(best_kappa))\n    else:\n        print(candidate + ' skipped')\n\nprint('Finish!')\nbest_importance",
   "metadata": {
    "collapsed": false,
    "pycharm": {
     "name": "#%%\n"
    },
    "trusted": false
   }
  },
  {
   "cell_type": "code",
   "execution_count": 10,
   "outputs": [
    {
     "name": "stdout",
     "output_type": "stream",
     "text": "ngram_1y_mean: kappa=0.5326302374414598\nngram_1y_max skipped\nngram_5y_mean skipped\nngram_5y_max: kappa=0.5447861909550551\nngram_10y_mean skipped\nngram_10y_max skipped\nngram_20y_max skipped\nngram_50y_mean skipped\nngram_50y_max skipped\nngram_100y_mean skipped\nngram_100y_max skipped\nngram_200y_mean skipped\nngram_200y_max skipped\nngram_400y_mean skipped\nngram_400y_max: kappa=0.5472816259425761\nngram_500y_mean skipped\nngram_500y_max: kappa=0.5550029583470298\nFinish!\n"
    },
    {
     "data": {
      "text/plain": "                           feature importance\n3  depthfromtopsynset_normalised_x   0.389121\n4         glosslength_normalised_x   0.152968\n5                  minwordlength_x   0.129752\n9                   ngram_500y_max     0.0899\n2          nrpartrels_normalised_x   0.067162\n8                   ngram_20y_mean    0.05662\n7                  polyscore_max_x   0.047386\n1                        nrhypos_x   0.037951\n6                     nroflemmas_x    0.02669\n0                    nrdirhypers_x   0.002449",
      "text/html": "<div>\n<style scoped>\n    .dataframe tbody tr th:only-of-type {\n        vertical-align: middle;\n    }\n\n    .dataframe tbody tr th {\n        vertical-align: top;\n    }\n\n    .dataframe thead th {\n        text-align: right;\n    }\n</style>\n<table border=\"1\" class=\"dataframe\">\n  <thead>\n    <tr style=\"text-align: right;\">\n      <th></th>\n      <th>feature</th>\n      <th>importance</th>\n    </tr>\n  </thead>\n  <tbody>\n    <tr>\n      <th>3</th>\n      <td>depthfromtopsynset_normalised_x</td>\n      <td>0.389121</td>\n    </tr>\n    <tr>\n      <th>4</th>\n      <td>glosslength_normalised_x</td>\n      <td>0.152968</td>\n    </tr>\n    <tr>\n      <th>5</th>\n      <td>minwordlength_x</td>\n      <td>0.129752</td>\n    </tr>\n    <tr>\n      <th>9</th>\n      <td>ngram_500y_max</td>\n      <td>0.0899</td>\n    </tr>\n    <tr>\n      <th>2</th>\n      <td>nrpartrels_normalised_x</td>\n      <td>0.067162</td>\n    </tr>\n    <tr>\n      <th>8</th>\n      <td>ngram_20y_mean</td>\n      <td>0.05662</td>\n    </tr>\n    <tr>\n      <th>7</th>\n      <td>polyscore_max_x</td>\n      <td>0.047386</td>\n    </tr>\n    <tr>\n      <th>1</th>\n      <td>nrhypos_x</td>\n      <td>0.037951</td>\n    </tr>\n    <tr>\n      <th>6</th>\n      <td>nroflemmas_x</td>\n      <td>0.02669</td>\n    </tr>\n    <tr>\n      <th>0</th>\n      <td>nrdirhypers_x</td>\n      <td>0.002449</td>\n    </tr>\n  </tbody>\n</table>\n</div>"
     },
     "execution_count": 10,
     "metadata": {},
     "output_type": "execute_result"
    }
   ],
   "source": "base_feature_1 = base_feature + ['ngram_20y_mean']\ncandidate_feature_list_0.remove('ngram_20y_mean')\ncandidate_feature_list_1 = candidate_feature_list_0\n\nbest_kappa = 0.52912\nbest_importance = None\n\nfor candidate in candidate_feature_list_1:\n    kappa, importance = new_feature_transfer_model_test(unseen_list, local_list, base_feature_1, candidate, target)\n    if kappa > best_kappa:\n        best_kappa = kappa\n        best_importance = importance\n        print(candidate + ': kappa=' + str(best_kappa))\n    else:\n        print(candidate + ' skipped')\n\nprint('Finish!')\nbest_importance",
   "metadata": {
    "collapsed": false,
    "pycharm": {
     "name": "#%%\n"
    },
    "trusted": false
   }
  },
  {
   "cell_type": "code",
   "execution_count": 16,
   "outputs": [
    {
     "name": "stdout",
     "output_type": "stream",
     "text": "ngram_1y_mean: kappa=0.5649742509642828\nngram_1y_max: kappa=0.5669489134087916\nngram_5y_mean: kappa=0.568112495259719\nngram_5y_max skipped\nngram_10y_mean: kappa=0.5711109974680693\nngram_10y_max skipped\nngram_20y_max skipped\nngram_50y_mean: kappa=0.5724325009051144\nngram_50y_max skipped\nngram_100y_mean skipped\nngram_100y_max skipped\nngram_200y_mean skipped\nngram_200y_max skipped\nngram_400y_mean skipped\nngram_400y_max skipped\nngram_500y_mean skipped\nFinish!\n"
    },
    {
     "data": {
      "text/plain": "                            feature importance\n3   depthfromtopsynset_normalised_x   0.372388\n4          glosslength_normalised_x   0.150071\n5                   minwordlength_x   0.124423\n9                    ngram_500y_max   0.086107\n2           nrpartrels_normalised_x   0.067835\n10                   ngram_50y_mean   0.047381\n7                   polyscore_max_x   0.044868\n8                    ngram_20y_mean   0.044585\n1                         nrhypos_x   0.034223\n6                      nroflemmas_x   0.025774\n0                     nrdirhypers_x   0.002346",
      "text/html": "<div>\n<style scoped>\n    .dataframe tbody tr th:only-of-type {\n        vertical-align: middle;\n    }\n\n    .dataframe tbody tr th {\n        vertical-align: top;\n    }\n\n    .dataframe thead th {\n        text-align: right;\n    }\n</style>\n<table border=\"1\" class=\"dataframe\">\n  <thead>\n    <tr style=\"text-align: right;\">\n      <th></th>\n      <th>feature</th>\n      <th>importance</th>\n    </tr>\n  </thead>\n  <tbody>\n    <tr>\n      <th>3</th>\n      <td>depthfromtopsynset_normalised_x</td>\n      <td>0.372388</td>\n    </tr>\n    <tr>\n      <th>4</th>\n      <td>glosslength_normalised_x</td>\n      <td>0.150071</td>\n    </tr>\n    <tr>\n      <th>5</th>\n      <td>minwordlength_x</td>\n      <td>0.124423</td>\n    </tr>\n    <tr>\n      <th>9</th>\n      <td>ngram_500y_max</td>\n      <td>0.086107</td>\n    </tr>\n    <tr>\n      <th>2</th>\n      <td>nrpartrels_normalised_x</td>\n      <td>0.067835</td>\n    </tr>\n    <tr>\n      <th>10</th>\n      <td>ngram_50y_mean</td>\n      <td>0.047381</td>\n    </tr>\n    <tr>\n      <th>7</th>\n      <td>polyscore_max_x</td>\n      <td>0.044868</td>\n    </tr>\n    <tr>\n      <th>8</th>\n      <td>ngram_20y_mean</td>\n      <td>0.044585</td>\n    </tr>\n    <tr>\n      <th>1</th>\n      <td>nrhypos_x</td>\n      <td>0.034223</td>\n    </tr>\n    <tr>\n      <th>6</th>\n      <td>nroflemmas_x</td>\n      <td>0.025774</td>\n    </tr>\n    <tr>\n      <th>0</th>\n      <td>nrdirhypers_x</td>\n      <td>0.002346</td>\n    </tr>\n  </tbody>\n</table>\n</div>"
     },
     "execution_count": 16,
     "metadata": {},
     "output_type": "execute_result"
    }
   ],
   "source": "base_feature_2 = base_feature + ['ngram_20y_mean', 'ngram_500y_max']\ncandidate_feature_list_1.remove('ngram_500y_max')\ncandidate_feature_list_2 = candidate_feature_list_1\n\nbest_kappa = 0.55500\nbest_importance = None\n\nfor candidate in candidate_feature_list_2:\n    kappa, importance = new_feature_transfer_model_test(unseen_list, local_list, base_feature_2, candidate, target)\n    if kappa > best_kappa:\n        best_kappa = kappa\n        best_importance = importance\n        print(candidate + ': kappa=' + str(best_kappa))\n    else:\n        print(candidate + ' skipped')\n\nprint('Finish!')\nbest_importance",
   "metadata": {
    "collapsed": false,
    "pycharm": {
     "name": "#%%\n"
    },
    "trusted": false
   }
  },
  {
   "cell_type": "code",
   "execution_count": 17,
   "outputs": [
    {
     "name": "stdout",
     "output_type": "stream",
     "text": "ngram_1y_mean: kappa=0.575006597466071\nngram_1y_max skipped\nngram_5y_mean skipped\nngram_5y_max skipped\nngram_10y_mean skipped\nngram_10y_max: kappa=0.5778146359717877\nngram_20y_max skipped\nngram_50y_max skipped\nngram_100y_mean: kappa=0.5882386158426376\nngram_100y_max skipped\nngram_200y_mean skipped\nngram_200y_max skipped\nngram_400y_mean skipped\nngram_400y_max skipped\nngram_500y_mean skipped\nFinish!\n"
    },
    {
     "data": {
      "text/plain": "                            feature importance\n3   depthfromtopsynset_normalised_x   0.358703\n4          glosslength_normalised_x   0.148257\n5                   minwordlength_x   0.120077\n9                    ngram_500y_max   0.084109\n2           nrpartrels_normalised_x   0.067515\n7                   polyscore_max_x   0.043433\n11                  ngram_100y_mean   0.039635\n10                   ngram_50y_mean   0.039492\n8                    ngram_20y_mean   0.038272\n1                         nrhypos_x    0.03214\n6                      nroflemmas_x   0.025976\n0                     nrdirhypers_x   0.002391",
      "text/html": "<div>\n<style scoped>\n    .dataframe tbody tr th:only-of-type {\n        vertical-align: middle;\n    }\n\n    .dataframe tbody tr th {\n        vertical-align: top;\n    }\n\n    .dataframe thead th {\n        text-align: right;\n    }\n</style>\n<table border=\"1\" class=\"dataframe\">\n  <thead>\n    <tr style=\"text-align: right;\">\n      <th></th>\n      <th>feature</th>\n      <th>importance</th>\n    </tr>\n  </thead>\n  <tbody>\n    <tr>\n      <th>3</th>\n      <td>depthfromtopsynset_normalised_x</td>\n      <td>0.358703</td>\n    </tr>\n    <tr>\n      <th>4</th>\n      <td>glosslength_normalised_x</td>\n      <td>0.148257</td>\n    </tr>\n    <tr>\n      <th>5</th>\n      <td>minwordlength_x</td>\n      <td>0.120077</td>\n    </tr>\n    <tr>\n      <th>9</th>\n      <td>ngram_500y_max</td>\n      <td>0.084109</td>\n    </tr>\n    <tr>\n      <th>2</th>\n      <td>nrpartrels_normalised_x</td>\n      <td>0.067515</td>\n    </tr>\n    <tr>\n      <th>7</th>\n      <td>polyscore_max_x</td>\n      <td>0.043433</td>\n    </tr>\n    <tr>\n      <th>11</th>\n      <td>ngram_100y_mean</td>\n      <td>0.039635</td>\n    </tr>\n    <tr>\n      <th>10</th>\n      <td>ngram_50y_mean</td>\n      <td>0.039492</td>\n    </tr>\n    <tr>\n      <th>8</th>\n      <td>ngram_20y_mean</td>\n      <td>0.038272</td>\n    </tr>\n    <tr>\n      <th>1</th>\n      <td>nrhypos_x</td>\n      <td>0.03214</td>\n    </tr>\n    <tr>\n      <th>6</th>\n      <td>nroflemmas_x</td>\n      <td>0.025976</td>\n    </tr>\n    <tr>\n      <th>0</th>\n      <td>nrdirhypers_x</td>\n      <td>0.002391</td>\n    </tr>\n  </tbody>\n</table>\n</div>"
     },
     "execution_count": 17,
     "metadata": {},
     "output_type": "execute_result"
    }
   ],
   "source": "base_feature_3 = base_feature + ['ngram_20y_mean', 'ngram_500y_max', 'ngram_50y_mean']\ncandidate_feature_list_2.remove('ngram_50y_mean')\ncandidate_feature_list_3 = candidate_feature_list_2\n\nbest_kappa = 0.57243\nbest_importance = None\n\nfor candidate in candidate_feature_list_3:\n    kappa, importance = new_feature_transfer_model_test(unseen_list, local_list, base_feature_3, candidate, target)\n    if kappa > best_kappa:\n        best_kappa = kappa\n        best_importance = importance\n        print(candidate + ': kappa=' + str(best_kappa))\n    else:\n        print(candidate + ' skipped')\n\nprint('Finish!')\nbest_importance",
   "metadata": {
    "collapsed": false,
    "pycharm": {
     "name": "#%%\n"
    },
    "trusted": false
   }
  },
  {
   "cell_type": "code",
   "execution_count": 18,
   "outputs": [
    {
     "name": "stdout",
     "output_type": "stream",
     "text": "ngram_1y_mean skipped\nngram_1y_max skipped\nngram_5y_mean skipped\nngram_5y_max skipped\nngram_10y_mean skipped\nngram_10y_max skipped\nngram_20y_max skipped\nngram_50y_max skipped\nngram_100y_max skipped\nngram_200y_mean skipped\nngram_200y_max skipped\nngram_400y_mean skipped\nngram_400y_max skipped\nngram_500y_mean skipped\nFinish!\n"
    }
   ],
   "source": "base_feature_4 = base_feature + ['ngram_20y_mean', 'ngram_500y_max', 'ngram_50y_mean', 'ngram_100y_mean']\ncandidate_feature_list_3.remove('ngram_100y_mean')\ncandidate_feature_list_4 = candidate_feature_list_3\n\nbest_kappa = 0.58824\nbest_importance = None\n\nfor candidate in candidate_feature_list_4:\n    kappa, importance = new_feature_transfer_model_test(unseen_list, local_list, base_feature_4, candidate, target)\n    if kappa > best_kappa:\n        best_kappa = kappa\n        best_importance = importance\n        print(candidate + ': kappa=' + str(best_kappa))\n    else:\n        print(candidate + ' skipped')\n\nprint('Finish!')\nbest_importance",
   "metadata": {
    "collapsed": false,
    "pycharm": {
     "name": "#%%\n"
    },
    "trusted": false
   }
  },
  {
   "cell_type": "markdown",
   "source": "### Top-down",
   "metadata": {
    "collapsed": false,
    "pycharm": {
     "name": "#%% md\n"
    }
   }
  },
  {
   "cell_type": "code",
   "execution_count": 49,
   "outputs": [],
   "source": "candidate_feature_list = ['ngram_1y_mean', 'ngram_1y_max',\n                          'ngram_5y_mean', 'ngram_5y_max',\n                          'ngram_10y_mean', 'ngram_10y_max',\n                          'ngram_20y_mean', 'ngram_20y_max',\n                          'ngram_50y_mean', 'ngram_50y_max',\n                          'ngram_100y_mean', 'ngram_100y_max',\n                          'ngram_200y_mean', 'ngram_200y_max',\n                          'ngram_400y_mean', 'ngram_400y_max',\n                          'ngram_500y_mean', 'ngram_500y_max']",
   "metadata": {
    "collapsed": false,
    "pycharm": {
     "name": "#%%\n"
    },
    "trusted": false
   }
  },
  {
   "cell_type": "code",
   "execution_count": 42,
   "outputs": [
    {
     "name": "stdout",
     "output_type": "stream",
     "text": "kappa=0.5454277398666727\n"
    },
    {
     "data": {
      "text/plain": "                            feature importance\n3   depthfromtopsynset_normalised_x   0.327384\n4          glosslength_normalised_x   0.123668\n5                   minwordlength_x   0.096627\n2           nrpartrels_normalised_x   0.062742\n25                   ngram_500y_max   0.057736\n7                   polyscore_max_x   0.033729\n23                   ngram_400y_max   0.031416\n1                         nrhypos_x   0.024179\n19                   ngram_100y_max   0.023001\n21                   ngram_200y_max   0.022751\n6                      nroflemmas_x   0.019575\n17                    ngram_50y_max   0.019097\n15                    ngram_20y_max   0.016106\n18                  ngram_100y_mean   0.015673\n16                   ngram_50y_mean   0.014405\n14                   ngram_20y_mean   0.012592\n11                     ngram_5y_max   0.012127\n13                    ngram_10y_max   0.011357\n20                  ngram_200y_mean   0.011231\n24                  ngram_500y_mean   0.010573\n22                  ngram_400y_mean   0.010569\n12                   ngram_10y_mean   0.010562\n9                      ngram_1y_max   0.010509\n10                    ngram_5y_mean   0.010502\n8                     ngram_1y_mean   0.010165\n0                     nrdirhypers_x   0.001727",
      "text/html": "<div>\n<style scoped>\n    .dataframe tbody tr th:only-of-type {\n        vertical-align: middle;\n    }\n\n    .dataframe tbody tr th {\n        vertical-align: top;\n    }\n\n    .dataframe thead th {\n        text-align: right;\n    }\n</style>\n<table border=\"1\" class=\"dataframe\">\n  <thead>\n    <tr style=\"text-align: right;\">\n      <th></th>\n      <th>feature</th>\n      <th>importance</th>\n    </tr>\n  </thead>\n  <tbody>\n    <tr>\n      <th>3</th>\n      <td>depthfromtopsynset_normalised_x</td>\n      <td>0.327384</td>\n    </tr>\n    <tr>\n      <th>4</th>\n      <td>glosslength_normalised_x</td>\n      <td>0.123668</td>\n    </tr>\n    <tr>\n      <th>5</th>\n      <td>minwordlength_x</td>\n      <td>0.096627</td>\n    </tr>\n    <tr>\n      <th>2</th>\n      <td>nrpartrels_normalised_x</td>\n      <td>0.062742</td>\n    </tr>\n    <tr>\n      <th>25</th>\n      <td>ngram_500y_max</td>\n      <td>0.057736</td>\n    </tr>\n    <tr>\n      <th>7</th>\n      <td>polyscore_max_x</td>\n      <td>0.033729</td>\n    </tr>\n    <tr>\n      <th>23</th>\n      <td>ngram_400y_max</td>\n      <td>0.031416</td>\n    </tr>\n    <tr>\n      <th>1</th>\n      <td>nrhypos_x</td>\n      <td>0.024179</td>\n    </tr>\n    <tr>\n      <th>19</th>\n      <td>ngram_100y_max</td>\n      <td>0.023001</td>\n    </tr>\n    <tr>\n      <th>21</th>\n      <td>ngram_200y_max</td>\n      <td>0.022751</td>\n    </tr>\n    <tr>\n      <th>6</th>\n      <td>nroflemmas_x</td>\n      <td>0.019575</td>\n    </tr>\n    <tr>\n      <th>17</th>\n      <td>ngram_50y_max</td>\n      <td>0.019097</td>\n    </tr>\n    <tr>\n      <th>15</th>\n      <td>ngram_20y_max</td>\n      <td>0.016106</td>\n    </tr>\n    <tr>\n      <th>18</th>\n      <td>ngram_100y_mean</td>\n      <td>0.015673</td>\n    </tr>\n    <tr>\n      <th>16</th>\n      <td>ngram_50y_mean</td>\n      <td>0.014405</td>\n    </tr>\n    <tr>\n      <th>14</th>\n      <td>ngram_20y_mean</td>\n      <td>0.012592</td>\n    </tr>\n    <tr>\n      <th>11</th>\n      <td>ngram_5y_max</td>\n      <td>0.012127</td>\n    </tr>\n    <tr>\n      <th>13</th>\n      <td>ngram_10y_max</td>\n      <td>0.011357</td>\n    </tr>\n    <tr>\n      <th>20</th>\n      <td>ngram_200y_mean</td>\n      <td>0.011231</td>\n    </tr>\n    <tr>\n      <th>24</th>\n      <td>ngram_500y_mean</td>\n      <td>0.010573</td>\n    </tr>\n    <tr>\n      <th>22</th>\n      <td>ngram_400y_mean</td>\n      <td>0.010569</td>\n    </tr>\n    <tr>\n      <th>12</th>\n      <td>ngram_10y_mean</td>\n      <td>0.010562</td>\n    </tr>\n    <tr>\n      <th>9</th>\n      <td>ngram_1y_max</td>\n      <td>0.010509</td>\n    </tr>\n    <tr>\n      <th>10</th>\n      <td>ngram_5y_mean</td>\n      <td>0.010502</td>\n    </tr>\n    <tr>\n      <th>8</th>\n      <td>ngram_1y_mean</td>\n      <td>0.010165</td>\n    </tr>\n    <tr>\n      <th>0</th>\n      <td>nrdirhypers_x</td>\n      <td>0.001727</td>\n    </tr>\n  </tbody>\n</table>\n</div>"
     },
     "execution_count": 42,
     "metadata": {},
     "output_type": "execute_result"
    }
   ],
   "source": "training_features_0 = base_feature + candidate_feature_list\n\nbest_kappa, importance = new_feature_transfer_model_test(unseen_list, local_list, training_features_0, None, target)\nprint('kappa=' + str(best_kappa))\nimportance",
   "metadata": {
    "collapsed": false,
    "pycharm": {
     "name": "#%%\n"
    },
    "trusted": false
   }
  },
  {
   "cell_type": "code",
   "execution_count": 43,
   "outputs": [
    {
     "name": "stdout",
     "output_type": "stream",
     "text": "eliminate ngram_1y_mean: kappa=0.5607984344501324\neliminate ngram_1y_max skipped\neliminate ngram_5y_mean skipped\neliminate ngram_5y_max skipped\neliminate ngram_10y_mean skipped\neliminate ngram_10y_max skipped\neliminate ngram_20y_mean skipped\neliminate ngram_20y_max skipped\neliminate ngram_50y_mean skipped\neliminate ngram_50y_max skipped\neliminate ngram_100y_mean skipped\neliminate ngram_100y_max skipped\neliminate ngram_200y_mean skipped\neliminate ngram_200y_max skipped\neliminate ngram_400y_mean skipped\neliminate ngram_400y_max skipped\neliminate ngram_500y_mean skipped\neliminate ngram_500y_max skipped\nFinish!\n"
    },
    {
     "data": {
      "text/plain": "                            feature importance\n3   depthfromtopsynset_normalised_x   0.320249\n4          glosslength_normalised_x   0.126163\n5                   minwordlength_x   0.099407\n2           nrpartrels_normalised_x    0.06474\n24                   ngram_500y_max   0.056364\n7                   polyscore_max_x   0.034213\n22                   ngram_400y_max   0.033618\n18                   ngram_100y_max   0.024503\n1                         nrhypos_x   0.023866\n20                   ngram_200y_max   0.021981\n6                      nroflemmas_x   0.020688\n16                    ngram_50y_max   0.019217\n14                    ngram_20y_max    0.01853\n17                  ngram_100y_mean   0.017548\n15                   ngram_50y_mean   0.013995\n13                   ngram_20y_mean    0.01229\n10                     ngram_5y_max   0.011924\n8                      ngram_1y_max     0.0118\n11                   ngram_10y_mean   0.011783\n19                  ngram_200y_mean   0.011599\n12                    ngram_10y_max   0.011587\n23                  ngram_500y_mean    0.01108\n21                  ngram_400y_mean    0.01069\n9                     ngram_5y_mean   0.010338\n0                     nrdirhypers_x   0.001829",
      "text/html": "<div>\n<style scoped>\n    .dataframe tbody tr th:only-of-type {\n        vertical-align: middle;\n    }\n\n    .dataframe tbody tr th {\n        vertical-align: top;\n    }\n\n    .dataframe thead th {\n        text-align: right;\n    }\n</style>\n<table border=\"1\" class=\"dataframe\">\n  <thead>\n    <tr style=\"text-align: right;\">\n      <th></th>\n      <th>feature</th>\n      <th>importance</th>\n    </tr>\n  </thead>\n  <tbody>\n    <tr>\n      <th>3</th>\n      <td>depthfromtopsynset_normalised_x</td>\n      <td>0.320249</td>\n    </tr>\n    <tr>\n      <th>4</th>\n      <td>glosslength_normalised_x</td>\n      <td>0.126163</td>\n    </tr>\n    <tr>\n      <th>5</th>\n      <td>minwordlength_x</td>\n      <td>0.099407</td>\n    </tr>\n    <tr>\n      <th>2</th>\n      <td>nrpartrels_normalised_x</td>\n      <td>0.06474</td>\n    </tr>\n    <tr>\n      <th>24</th>\n      <td>ngram_500y_max</td>\n      <td>0.056364</td>\n    </tr>\n    <tr>\n      <th>7</th>\n      <td>polyscore_max_x</td>\n      <td>0.034213</td>\n    </tr>\n    <tr>\n      <th>22</th>\n      <td>ngram_400y_max</td>\n      <td>0.033618</td>\n    </tr>\n    <tr>\n      <th>18</th>\n      <td>ngram_100y_max</td>\n      <td>0.024503</td>\n    </tr>\n    <tr>\n      <th>1</th>\n      <td>nrhypos_x</td>\n      <td>0.023866</td>\n    </tr>\n    <tr>\n      <th>20</th>\n      <td>ngram_200y_max</td>\n      <td>0.021981</td>\n    </tr>\n    <tr>\n      <th>6</th>\n      <td>nroflemmas_x</td>\n      <td>0.020688</td>\n    </tr>\n    <tr>\n      <th>16</th>\n      <td>ngram_50y_max</td>\n      <td>0.019217</td>\n    </tr>\n    <tr>\n      <th>14</th>\n      <td>ngram_20y_max</td>\n      <td>0.01853</td>\n    </tr>\n    <tr>\n      <th>17</th>\n      <td>ngram_100y_mean</td>\n      <td>0.017548</td>\n    </tr>\n    <tr>\n      <th>15</th>\n      <td>ngram_50y_mean</td>\n      <td>0.013995</td>\n    </tr>\n    <tr>\n      <th>13</th>\n      <td>ngram_20y_mean</td>\n      <td>0.01229</td>\n    </tr>\n    <tr>\n      <th>10</th>\n      <td>ngram_5y_max</td>\n      <td>0.011924</td>\n    </tr>\n    <tr>\n      <th>8</th>\n      <td>ngram_1y_max</td>\n      <td>0.0118</td>\n    </tr>\n    <tr>\n      <th>11</th>\n      <td>ngram_10y_mean</td>\n      <td>0.011783</td>\n    </tr>\n    <tr>\n      <th>19</th>\n      <td>ngram_200y_mean</td>\n      <td>0.011599</td>\n    </tr>\n    <tr>\n      <th>12</th>\n      <td>ngram_10y_max</td>\n      <td>0.011587</td>\n    </tr>\n    <tr>\n      <th>23</th>\n      <td>ngram_500y_mean</td>\n      <td>0.01108</td>\n    </tr>\n    <tr>\n      <th>21</th>\n      <td>ngram_400y_mean</td>\n      <td>0.01069</td>\n    </tr>\n    <tr>\n      <th>9</th>\n      <td>ngram_5y_mean</td>\n      <td>0.010338</td>\n    </tr>\n    <tr>\n      <th>0</th>\n      <td>nrdirhypers_x</td>\n      <td>0.001829</td>\n    </tr>\n  </tbody>\n</table>\n</div>"
     },
     "execution_count": 43,
     "metadata": {},
     "output_type": "execute_result"
    }
   ],
   "source": "candidate_feature_list_1 = candidate_feature_list\n\nbest_kappa = 0.54543\nbest_importance = None\nfor idx in range(len(candidate_feature_list_1)):\n    input_candidates = candidate_feature_list_1[0:idx] + candidate_feature_list_1[idx+1:]\n    training_features_1 = base_feature + input_candidates\n    kappa, importance = new_feature_transfer_model_test(unseen_list, local_list, training_features_1, None, target)\n    if kappa > best_kappa:\n        best_kappa = kappa\n        best_importance = importance\n        print('eliminate ' + candidate_feature_list_1[idx] + ': kappa=' + str(best_kappa))\n    else:\n        print('eliminate ' + candidate_feature_list_1[idx] + ' skipped')\n\nprint('Finish!')\nbest_importance",
   "metadata": {
    "collapsed": false,
    "pycharm": {
     "name": "#%%\n"
    },
    "trusted": false
   }
  },
  {
   "cell_type": "code",
   "execution_count": 44,
   "outputs": [
    {
     "name": "stdout",
     "output_type": "stream",
     "text": "eliminate ngram_1y_max skipped\neliminate ngram_5y_mean skipped\neliminate ngram_5y_max skipped\neliminate ngram_10y_mean skipped\neliminate ngram_10y_max skipped\neliminate ngram_20y_mean skipped\neliminate ngram_20y_max skipped\neliminate ngram_50y_mean skipped\neliminate ngram_50y_max: kappa=0.5638420936580545\neliminate ngram_100y_mean skipped\neliminate ngram_100y_max: kappa=0.565434553015804\neliminate ngram_200y_mean skipped\neliminate ngram_200y_max: kappa=0.5661291486650522\neliminate ngram_400y_mean skipped\neliminate ngram_400y_max skipped\neliminate ngram_500y_mean skipped\neliminate ngram_500y_max skipped\nFinish!\n"
    },
    {
     "data": {
      "text/plain": "                            feature importance\n3   depthfromtopsynset_normalised_x   0.303483\n4          glosslength_normalised_x   0.125231\n5                   minwordlength_x   0.096131\n2           nrpartrels_normalised_x   0.066593\n23                   ngram_500y_max   0.060014\n7                   polyscore_max_x   0.036545\n21                   ngram_400y_max   0.036499\n18                   ngram_100y_max   0.024823\n1                         nrhypos_x   0.024126\n16                    ngram_50y_max   0.022817\n14                    ngram_20y_max   0.021523\n6                      nroflemmas_x   0.020673\n17                  ngram_100y_mean   0.018449\n15                   ngram_50y_mean   0.015865\n8                      ngram_1y_max    0.01483\n13                   ngram_20y_mean   0.014799\n12                    ngram_10y_max   0.014457\n10                     ngram_5y_max   0.014225\n19                  ngram_200y_mean   0.014197\n20                  ngram_400y_mean   0.013858\n11                   ngram_10y_mean   0.013452\n22                  ngram_500y_mean   0.012753\n9                     ngram_5y_mean    0.01229\n0                     nrdirhypers_x   0.002365",
      "text/html": "<div>\n<style scoped>\n    .dataframe tbody tr th:only-of-type {\n        vertical-align: middle;\n    }\n\n    .dataframe tbody tr th {\n        vertical-align: top;\n    }\n\n    .dataframe thead th {\n        text-align: right;\n    }\n</style>\n<table border=\"1\" class=\"dataframe\">\n  <thead>\n    <tr style=\"text-align: right;\">\n      <th></th>\n      <th>feature</th>\n      <th>importance</th>\n    </tr>\n  </thead>\n  <tbody>\n    <tr>\n      <th>3</th>\n      <td>depthfromtopsynset_normalised_x</td>\n      <td>0.303483</td>\n    </tr>\n    <tr>\n      <th>4</th>\n      <td>glosslength_normalised_x</td>\n      <td>0.125231</td>\n    </tr>\n    <tr>\n      <th>5</th>\n      <td>minwordlength_x</td>\n      <td>0.096131</td>\n    </tr>\n    <tr>\n      <th>2</th>\n      <td>nrpartrels_normalised_x</td>\n      <td>0.066593</td>\n    </tr>\n    <tr>\n      <th>23</th>\n      <td>ngram_500y_max</td>\n      <td>0.060014</td>\n    </tr>\n    <tr>\n      <th>7</th>\n      <td>polyscore_max_x</td>\n      <td>0.036545</td>\n    </tr>\n    <tr>\n      <th>21</th>\n      <td>ngram_400y_max</td>\n      <td>0.036499</td>\n    </tr>\n    <tr>\n      <th>18</th>\n      <td>ngram_100y_max</td>\n      <td>0.024823</td>\n    </tr>\n    <tr>\n      <th>1</th>\n      <td>nrhypos_x</td>\n      <td>0.024126</td>\n    </tr>\n    <tr>\n      <th>16</th>\n      <td>ngram_50y_max</td>\n      <td>0.022817</td>\n    </tr>\n    <tr>\n      <th>14</th>\n      <td>ngram_20y_max</td>\n      <td>0.021523</td>\n    </tr>\n    <tr>\n      <th>6</th>\n      <td>nroflemmas_x</td>\n      <td>0.020673</td>\n    </tr>\n    <tr>\n      <th>17</th>\n      <td>ngram_100y_mean</td>\n      <td>0.018449</td>\n    </tr>\n    <tr>\n      <th>15</th>\n      <td>ngram_50y_mean</td>\n      <td>0.015865</td>\n    </tr>\n    <tr>\n      <th>8</th>\n      <td>ngram_1y_max</td>\n      <td>0.01483</td>\n    </tr>\n    <tr>\n      <th>13</th>\n      <td>ngram_20y_mean</td>\n      <td>0.014799</td>\n    </tr>\n    <tr>\n      <th>12</th>\n      <td>ngram_10y_max</td>\n      <td>0.014457</td>\n    </tr>\n    <tr>\n      <th>10</th>\n      <td>ngram_5y_max</td>\n      <td>0.014225</td>\n    </tr>\n    <tr>\n      <th>19</th>\n      <td>ngram_200y_mean</td>\n      <td>0.014197</td>\n    </tr>\n    <tr>\n      <th>20</th>\n      <td>ngram_400y_mean</td>\n      <td>0.013858</td>\n    </tr>\n    <tr>\n      <th>11</th>\n      <td>ngram_10y_mean</td>\n      <td>0.013452</td>\n    </tr>\n    <tr>\n      <th>22</th>\n      <td>ngram_500y_mean</td>\n      <td>0.012753</td>\n    </tr>\n    <tr>\n      <th>9</th>\n      <td>ngram_5y_mean</td>\n      <td>0.01229</td>\n    </tr>\n    <tr>\n      <th>0</th>\n      <td>nrdirhypers_x</td>\n      <td>0.002365</td>\n    </tr>\n  </tbody>\n</table>\n</div>"
     },
     "execution_count": 44,
     "metadata": {},
     "output_type": "execute_result"
    }
   ],
   "source": "candidate_feature_list_1.remove('ngram_1y_mean')\ncandidate_feature_list_2 = candidate_feature_list_1\n\nbest_kappa = 0.56080\nbest_importance = None\n\nfor idx in range(len(candidate_feature_list_2)):\n    input_candidates = candidate_feature_list_2[0:idx] + candidate_feature_list_2[idx+1:]\n    training_features_2 = base_feature + input_candidates\n    kappa, importance = new_feature_transfer_model_test(unseen_list, local_list, training_features_2, None, target)\n    if kappa > best_kappa:\n        best_kappa = kappa\n        best_importance = importance\n        print('eliminate ' + candidate_feature_list_2[idx] + ': kappa=' + str(best_kappa))\n    else:\n        print('eliminate ' + candidate_feature_list_2[idx] + ' skipped')\n\nprint('Finish!')\nbest_importance",
   "metadata": {
    "collapsed": false,
    "pycharm": {
     "name": "#%%\n"
    },
    "trusted": false
   }
  },
  {
   "cell_type": "code",
   "execution_count": 45,
   "outputs": [
    {
     "name": "stdout",
     "output_type": "stream",
     "text": "eliminate ngram_1y_max skipped\neliminate ngram_5y_mean skipped\neliminate ngram_5y_max skipped\neliminate ngram_10y_mean skipped\neliminate ngram_10y_max skipped\neliminate ngram_20y_mean skipped\neliminate ngram_20y_max: kappa=0.5673287516952442\neliminate ngram_50y_mean skipped\neliminate ngram_50y_max skipped\neliminate ngram_100y_mean skipped\neliminate ngram_100y_max skipped\neliminate ngram_200y_mean skipped\neliminate ngram_400y_mean skipped\neliminate ngram_400y_max skipped\neliminate ngram_500y_mean skipped\neliminate ngram_500y_max skipped\nFinish!\n"
    },
    {
     "data": {
      "text/plain": "                            feature importance\n3   depthfromtopsynset_normalised_x   0.308986\n4          glosslength_normalised_x   0.128062\n5                   minwordlength_x   0.096385\n2           nrpartrels_normalised_x   0.063676\n22                   ngram_500y_max   0.063057\n20                   ngram_400y_max   0.037596\n7                   polyscore_max_x   0.036322\n17                   ngram_100y_max   0.028247\n1                         nrhypos_x   0.024926\n15                    ngram_50y_max   0.023527\n6                      nroflemmas_x   0.021734\n16                  ngram_100y_mean   0.018765\n14                   ngram_50y_mean   0.017523\n13                   ngram_20y_mean   0.015709\n10                     ngram_5y_max   0.015233\n12                    ngram_10y_max   0.015135\n8                      ngram_1y_max   0.014643\n11                   ngram_10y_mean   0.014173\n18                  ngram_200y_mean   0.013825\n9                     ngram_5y_mean   0.013822\n19                  ngram_400y_mean   0.013632\n21                  ngram_500y_mean   0.012914\n0                     nrdirhypers_x   0.002108",
      "text/html": "<div>\n<style scoped>\n    .dataframe tbody tr th:only-of-type {\n        vertical-align: middle;\n    }\n\n    .dataframe tbody tr th {\n        vertical-align: top;\n    }\n\n    .dataframe thead th {\n        text-align: right;\n    }\n</style>\n<table border=\"1\" class=\"dataframe\">\n  <thead>\n    <tr style=\"text-align: right;\">\n      <th></th>\n      <th>feature</th>\n      <th>importance</th>\n    </tr>\n  </thead>\n  <tbody>\n    <tr>\n      <th>3</th>\n      <td>depthfromtopsynset_normalised_x</td>\n      <td>0.308986</td>\n    </tr>\n    <tr>\n      <th>4</th>\n      <td>glosslength_normalised_x</td>\n      <td>0.128062</td>\n    </tr>\n    <tr>\n      <th>5</th>\n      <td>minwordlength_x</td>\n      <td>0.096385</td>\n    </tr>\n    <tr>\n      <th>2</th>\n      <td>nrpartrels_normalised_x</td>\n      <td>0.063676</td>\n    </tr>\n    <tr>\n      <th>22</th>\n      <td>ngram_500y_max</td>\n      <td>0.063057</td>\n    </tr>\n    <tr>\n      <th>20</th>\n      <td>ngram_400y_max</td>\n      <td>0.037596</td>\n    </tr>\n    <tr>\n      <th>7</th>\n      <td>polyscore_max_x</td>\n      <td>0.036322</td>\n    </tr>\n    <tr>\n      <th>17</th>\n      <td>ngram_100y_max</td>\n      <td>0.028247</td>\n    </tr>\n    <tr>\n      <th>1</th>\n      <td>nrhypos_x</td>\n      <td>0.024926</td>\n    </tr>\n    <tr>\n      <th>15</th>\n      <td>ngram_50y_max</td>\n      <td>0.023527</td>\n    </tr>\n    <tr>\n      <th>6</th>\n      <td>nroflemmas_x</td>\n      <td>0.021734</td>\n    </tr>\n    <tr>\n      <th>16</th>\n      <td>ngram_100y_mean</td>\n      <td>0.018765</td>\n    </tr>\n    <tr>\n      <th>14</th>\n      <td>ngram_50y_mean</td>\n      <td>0.017523</td>\n    </tr>\n    <tr>\n      <th>13</th>\n      <td>ngram_20y_mean</td>\n      <td>0.015709</td>\n    </tr>\n    <tr>\n      <th>10</th>\n      <td>ngram_5y_max</td>\n      <td>0.015233</td>\n    </tr>\n    <tr>\n      <th>12</th>\n      <td>ngram_10y_max</td>\n      <td>0.015135</td>\n    </tr>\n    <tr>\n      <th>8</th>\n      <td>ngram_1y_max</td>\n      <td>0.014643</td>\n    </tr>\n    <tr>\n      <th>11</th>\n      <td>ngram_10y_mean</td>\n      <td>0.014173</td>\n    </tr>\n    <tr>\n      <th>18</th>\n      <td>ngram_200y_mean</td>\n      <td>0.013825</td>\n    </tr>\n    <tr>\n      <th>9</th>\n      <td>ngram_5y_mean</td>\n      <td>0.013822</td>\n    </tr>\n    <tr>\n      <th>19</th>\n      <td>ngram_400y_mean</td>\n      <td>0.013632</td>\n    </tr>\n    <tr>\n      <th>21</th>\n      <td>ngram_500y_mean</td>\n      <td>0.012914</td>\n    </tr>\n    <tr>\n      <th>0</th>\n      <td>nrdirhypers_x</td>\n      <td>0.002108</td>\n    </tr>\n  </tbody>\n</table>\n</div>"
     },
     "execution_count": 45,
     "metadata": {},
     "output_type": "execute_result"
    }
   ],
   "source": "candidate_feature_list_2.remove('ngram_200y_max')\ncandidate_feature_list_3 = candidate_feature_list_2\n\nbest_kappa = 0.56613\nbest_importance = None\n\nfor idx in range(len(candidate_feature_list_3)):\n    input_candidates = candidate_feature_list_3[0:idx] + candidate_feature_list_3[idx+1:]\n    training_features_3 = base_feature + input_candidates\n    kappa, importance = new_feature_transfer_model_test(unseen_list, local_list, training_features_3, None, target)\n    if kappa > best_kappa:\n        best_kappa = kappa\n        best_importance = importance\n        print('eliminate ' + candidate_feature_list_3[idx] + ': kappa=' + str(best_kappa))\n    else:\n        print('eliminate ' + candidate_feature_list_3[idx] + ' skipped')\n\nprint('Finish!')\nbest_importance",
   "metadata": {
    "collapsed": false,
    "pycharm": {
     "name": "#%%\n"
    },
    "trusted": false
   }
  },
  {
   "cell_type": "code",
   "execution_count": 51,
   "outputs": [
    {
     "name": "stdout",
     "output_type": "stream",
     "text": "eliminate ngram_1y_max skipped\neliminate ngram_5y_mean skipped\neliminate ngram_5y_max skipped\neliminate ngram_10y_mean skipped\neliminate ngram_10y_max: kappa=0.5677018550015113\neliminate ngram_20y_mean skipped\neliminate ngram_50y_mean skipped\neliminate ngram_50y_max skipped\neliminate ngram_100y_mean skipped\neliminate ngram_100y_max skipped\neliminate ngram_200y_mean skipped\neliminate ngram_400y_mean skipped\neliminate ngram_400y_max skipped\neliminate ngram_500y_mean skipped\neliminate ngram_500y_max skipped\nFinish!\n"
    },
    {
     "data": {
      "text/plain": "                            feature importance\n3   depthfromtopsynset_normalised_x   0.316314\n4          glosslength_normalised_x    0.12769\n5                   minwordlength_x   0.103259\n2           nrpartrels_normalised_x   0.063286\n21                   ngram_500y_max   0.062404\n19                   ngram_400y_max   0.035758\n7                   polyscore_max_x   0.035731\n16                   ngram_100y_max   0.028829\n14                    ngram_50y_max   0.025003\n1                         nrhypos_x   0.024197\n6                      nroflemmas_x   0.021074\n15                  ngram_100y_mean   0.019479\n13                   ngram_50y_mean   0.017551\n12                   ngram_20y_mean   0.016958\n10                     ngram_5y_max    0.01606\n11                   ngram_10y_mean   0.014886\n9                     ngram_5y_mean   0.014471\n8                      ngram_1y_max   0.014209\n17                  ngram_200y_mean   0.014131\n18                  ngram_400y_mean   0.013981\n20                  ngram_500y_mean   0.012632\n0                     nrdirhypers_x   0.002096",
      "text/html": "<div>\n<style scoped>\n    .dataframe tbody tr th:only-of-type {\n        vertical-align: middle;\n    }\n\n    .dataframe tbody tr th {\n        vertical-align: top;\n    }\n\n    .dataframe thead th {\n        text-align: right;\n    }\n</style>\n<table border=\"1\" class=\"dataframe\">\n  <thead>\n    <tr style=\"text-align: right;\">\n      <th></th>\n      <th>feature</th>\n      <th>importance</th>\n    </tr>\n  </thead>\n  <tbody>\n    <tr>\n      <th>3</th>\n      <td>depthfromtopsynset_normalised_x</td>\n      <td>0.316314</td>\n    </tr>\n    <tr>\n      <th>4</th>\n      <td>glosslength_normalised_x</td>\n      <td>0.12769</td>\n    </tr>\n    <tr>\n      <th>5</th>\n      <td>minwordlength_x</td>\n      <td>0.103259</td>\n    </tr>\n    <tr>\n      <th>2</th>\n      <td>nrpartrels_normalised_x</td>\n      <td>0.063286</td>\n    </tr>\n    <tr>\n      <th>21</th>\n      <td>ngram_500y_max</td>\n      <td>0.062404</td>\n    </tr>\n    <tr>\n      <th>19</th>\n      <td>ngram_400y_max</td>\n      <td>0.035758</td>\n    </tr>\n    <tr>\n      <th>7</th>\n      <td>polyscore_max_x</td>\n      <td>0.035731</td>\n    </tr>\n    <tr>\n      <th>16</th>\n      <td>ngram_100y_max</td>\n      <td>0.028829</td>\n    </tr>\n    <tr>\n      <th>14</th>\n      <td>ngram_50y_max</td>\n      <td>0.025003</td>\n    </tr>\n    <tr>\n      <th>1</th>\n      <td>nrhypos_x</td>\n      <td>0.024197</td>\n    </tr>\n    <tr>\n      <th>6</th>\n      <td>nroflemmas_x</td>\n      <td>0.021074</td>\n    </tr>\n    <tr>\n      <th>15</th>\n      <td>ngram_100y_mean</td>\n      <td>0.019479</td>\n    </tr>\n    <tr>\n      <th>13</th>\n      <td>ngram_50y_mean</td>\n      <td>0.017551</td>\n    </tr>\n    <tr>\n      <th>12</th>\n      <td>ngram_20y_mean</td>\n      <td>0.016958</td>\n    </tr>\n    <tr>\n      <th>10</th>\n      <td>ngram_5y_max</td>\n      <td>0.01606</td>\n    </tr>\n    <tr>\n      <th>11</th>\n      <td>ngram_10y_mean</td>\n      <td>0.014886</td>\n    </tr>\n    <tr>\n      <th>9</th>\n      <td>ngram_5y_mean</td>\n      <td>0.014471</td>\n    </tr>\n    <tr>\n      <th>8</th>\n      <td>ngram_1y_max</td>\n      <td>0.014209</td>\n    </tr>\n    <tr>\n      <th>17</th>\n      <td>ngram_200y_mean</td>\n      <td>0.014131</td>\n    </tr>\n    <tr>\n      <th>18</th>\n      <td>ngram_400y_mean</td>\n      <td>0.013981</td>\n    </tr>\n    <tr>\n      <th>20</th>\n      <td>ngram_500y_mean</td>\n      <td>0.012632</td>\n    </tr>\n    <tr>\n      <th>0</th>\n      <td>nrdirhypers_x</td>\n      <td>0.002096</td>\n    </tr>\n  </tbody>\n</table>\n</div>"
     },
     "execution_count": 51,
     "metadata": {},
     "output_type": "execute_result"
    }
   ],
   "source": "candidate_feature_list_3.remove('ngram_20y_max')\ncandidate_feature_list_4 = candidate_feature_list_3\n\nbest_kappa = 0.56733\nbest_importance = None\n\nfor idx in range(len(candidate_feature_list_4)):\n    input_candidates = candidate_feature_list_4[0:idx] + candidate_feature_list_4[idx+1:]\n    training_features_4 = base_feature + input_candidates\n    kappa, importance = new_feature_transfer_model_test(unseen_list, local_list, training_features_4, None, target)\n    if kappa > best_kappa:\n        best_kappa = kappa\n        best_importance = importance\n        print('eliminate ' + candidate_feature_list_4[idx] + ': kappa=' + str(best_kappa))\n    else:\n        print('eliminate ' + candidate_feature_list_4[idx] + ' skipped')\n\nprint('Finish!')\nbest_importance",
   "metadata": {
    "collapsed": false,
    "pycharm": {
     "name": "#%%\n"
    },
    "trusted": false
   }
  },
  {
   "cell_type": "code",
   "execution_count": 52,
   "outputs": [
    {
     "name": "stdout",
     "output_type": "stream",
     "text": "eliminate ngram_1y_max skipped\neliminate ngram_5y_mean skipped\neliminate ngram_5y_max skipped\neliminate ngram_10y_mean skipped\neliminate ngram_20y_mean skipped\neliminate ngram_50y_mean skipped\neliminate ngram_50y_max skipped\neliminate ngram_100y_mean skipped\neliminate ngram_100y_max skipped\neliminate ngram_200y_mean: kappa=0.5791685392334059\neliminate ngram_400y_mean skipped\neliminate ngram_400y_max skipped\neliminate ngram_500y_mean skipped\neliminate ngram_500y_max skipped\nFinish!\n"
    },
    {
     "data": {
      "text/plain": "                            feature importance\n3   depthfromtopsynset_normalised_x   0.320935\n4          glosslength_normalised_x   0.125125\n5                   minwordlength_x    0.10098\n2           nrpartrels_normalised_x   0.066373\n20                   ngram_500y_max   0.062737\n7                   polyscore_max_x   0.037328\n18                   ngram_400y_max   0.036271\n16                   ngram_100y_max   0.028851\n14                    ngram_50y_max   0.025109\n1                         nrhypos_x   0.024781\n6                      nroflemmas_x   0.021241\n15                  ngram_100y_mean   0.019917\n13                   ngram_50y_mean   0.018713\n8                      ngram_1y_max   0.017252\n10                     ngram_5y_max   0.017231\n12                   ngram_20y_mean   0.016845\n17                  ngram_400y_mean   0.015457\n11                   ngram_10y_mean   0.015255\n9                     ngram_5y_mean   0.014274\n19                  ngram_500y_mean   0.013333\n0                     nrdirhypers_x   0.001993",
      "text/html": "<div>\n<style scoped>\n    .dataframe tbody tr th:only-of-type {\n        vertical-align: middle;\n    }\n\n    .dataframe tbody tr th {\n        vertical-align: top;\n    }\n\n    .dataframe thead th {\n        text-align: right;\n    }\n</style>\n<table border=\"1\" class=\"dataframe\">\n  <thead>\n    <tr style=\"text-align: right;\">\n      <th></th>\n      <th>feature</th>\n      <th>importance</th>\n    </tr>\n  </thead>\n  <tbody>\n    <tr>\n      <th>3</th>\n      <td>depthfromtopsynset_normalised_x</td>\n      <td>0.320935</td>\n    </tr>\n    <tr>\n      <th>4</th>\n      <td>glosslength_normalised_x</td>\n      <td>0.125125</td>\n    </tr>\n    <tr>\n      <th>5</th>\n      <td>minwordlength_x</td>\n      <td>0.10098</td>\n    </tr>\n    <tr>\n      <th>2</th>\n      <td>nrpartrels_normalised_x</td>\n      <td>0.066373</td>\n    </tr>\n    <tr>\n      <th>20</th>\n      <td>ngram_500y_max</td>\n      <td>0.062737</td>\n    </tr>\n    <tr>\n      <th>7</th>\n      <td>polyscore_max_x</td>\n      <td>0.037328</td>\n    </tr>\n    <tr>\n      <th>18</th>\n      <td>ngram_400y_max</td>\n      <td>0.036271</td>\n    </tr>\n    <tr>\n      <th>16</th>\n      <td>ngram_100y_max</td>\n      <td>0.028851</td>\n    </tr>\n    <tr>\n      <th>14</th>\n      <td>ngram_50y_max</td>\n      <td>0.025109</td>\n    </tr>\n    <tr>\n      <th>1</th>\n      <td>nrhypos_x</td>\n      <td>0.024781</td>\n    </tr>\n    <tr>\n      <th>6</th>\n      <td>nroflemmas_x</td>\n      <td>0.021241</td>\n    </tr>\n    <tr>\n      <th>15</th>\n      <td>ngram_100y_mean</td>\n      <td>0.019917</td>\n    </tr>\n    <tr>\n      <th>13</th>\n      <td>ngram_50y_mean</td>\n      <td>0.018713</td>\n    </tr>\n    <tr>\n      <th>8</th>\n      <td>ngram_1y_max</td>\n      <td>0.017252</td>\n    </tr>\n    <tr>\n      <th>10</th>\n      <td>ngram_5y_max</td>\n      <td>0.017231</td>\n    </tr>\n    <tr>\n      <th>12</th>\n      <td>ngram_20y_mean</td>\n      <td>0.016845</td>\n    </tr>\n    <tr>\n      <th>17</th>\n      <td>ngram_400y_mean</td>\n      <td>0.015457</td>\n    </tr>\n    <tr>\n      <th>11</th>\n      <td>ngram_10y_mean</td>\n      <td>0.015255</td>\n    </tr>\n    <tr>\n      <th>9</th>\n      <td>ngram_5y_mean</td>\n      <td>0.014274</td>\n    </tr>\n    <tr>\n      <th>19</th>\n      <td>ngram_500y_mean</td>\n      <td>0.013333</td>\n    </tr>\n    <tr>\n      <th>0</th>\n      <td>nrdirhypers_x</td>\n      <td>0.001993</td>\n    </tr>\n  </tbody>\n</table>\n</div>"
     },
     "execution_count": 52,
     "metadata": {},
     "output_type": "execute_result"
    }
   ],
   "source": "candidate_feature_list_4.remove('ngram_10y_max')\ncandidate_feature_list_5 = candidate_feature_list_4\n\nbest_kappa = 0.56770\nbest_importance = None\n\nfor idx in range(len(candidate_feature_list_5)):\n    input_candidates = candidate_feature_list_5[0:idx] + candidate_feature_list_5[idx+1:]\n    training_features_5 = base_feature + input_candidates\n    kappa, importance = new_feature_transfer_model_test(unseen_list, local_list, training_features_5, None, target)\n    if kappa > best_kappa:\n        best_kappa = kappa\n        best_importance = importance\n        print('eliminate ' + candidate_feature_list_5[idx] + ': kappa=' + str(best_kappa))\n    else:\n        print('eliminate ' + candidate_feature_list_5[idx] + ' skipped')\n\nprint('Finish!')\nbest_importance",
   "metadata": {
    "collapsed": false,
    "pycharm": {
     "name": "#%%\n"
    },
    "trusted": false
   }
  },
  {
   "cell_type": "code",
   "execution_count": 54,
   "outputs": [
    {
     "name": "stdout",
     "output_type": "stream",
     "text": "eliminate ngram_1y_max skipped\neliminate ngram_5y_mean skipped\neliminate ngram_5y_max skipped\neliminate ngram_10y_mean skipped\neliminate ngram_20y_mean skipped\neliminate ngram_50y_mean skipped\neliminate ngram_50y_max skipped\neliminate ngram_100y_mean skipped\neliminate ngram_100y_max skipped\neliminate ngram_400y_mean skipped\neliminate ngram_400y_max skipped\neliminate ngram_500y_mean skipped\neliminate ngram_500y_max skipped\nFinish!\n"
    }
   ],
   "source": "candidate_feature_list_5.remove('ngram_200y_mean')\ncandidate_feature_list_6 = candidate_feature_list_5\n\nbest_kappa = 0.57917\nbest_importance = None\n\nfor idx in range(len(candidate_feature_list_6)):\n    input_candidates = candidate_feature_list_6[0:idx] + candidate_feature_list_6[idx+1:]\n    training_features_6 = base_feature + input_candidates\n    kappa, importance = new_feature_transfer_model_test(unseen_list, local_list, training_features_6, None, target)\n    if kappa > best_kappa:\n        best_kappa = kappa\n        best_importance = importance\n        print('eliminate ' + candidate_feature_list_6[idx] + ': kappa=' + str(best_kappa))\n    else:\n        print('eliminate ' + candidate_feature_list_6[idx] + ' skipped')\n\nprint('Finish!')\nbest_importance",
   "metadata": {
    "collapsed": false,
    "pycharm": {
     "name": "#%%\n"
    },
    "trusted": false
   }
  },
  {
   "cell_type": "markdown",
   "source": "### Grid search\nrun in Python script",
   "metadata": {
    "collapsed": false,
    "pycharm": {
     "name": "#%% md\n"
    }
   }
  },
  {
   "cell_type": "code",
   "execution_count": null,
   "outputs": [],
   "source": "grid_base = base_feature\ngrid_candidate = candidate_feature_list\n\nbest_kappa = 0\nbest_importance = None\n\nprint('Start...')\nfor candidate_num in range(len(grid_candidate)):\n    candidate_num += 1\n    candidate_sets = list(combinations(candidate_feature_list, candidate_num))\n    for candidate_group in candidate_sets:\n        candidate_group = list(candidate_group)\n        training_features = grid_base + candidate_group\n        kappa, importance = new_feature_transfer_model_test(unseen_list, local_list, training_features, None, target)\n        if kappa > best_kappa:\n            best_kappa = kappa\n            best_importance = importance\n            string = 'Features: ' + str(candidate_group) + ' kappa=' + str(best_kappa) + '\\n'\n            with open('./grid_search_TransferModel.txt', 'a+') as f:\n                f.write(string)\n            print(string)\nwith open('./grid_search_TransferModel.txt', 'a+') as f:\n    f.write(importance)\nprint('Finish!')",
   "metadata": {
    "collapsed": false,
    "pycharm": {
     "name": "#%%\n"
    },
    "trusted": false
   }
  }
 ],
 "metadata": {
  "kernelspec": {
   "display_name": "Python 3",
   "language": "python",
   "name": "python3"
  },
  "language_info": {
   "codemirror_mode": {
    "name": "ipython",
    "version": 2
   },
   "file_extension": ".py",
   "mimetype": "text/x-python",
   "name": "python",
   "nbconvert_exporter": "python",
   "pygments_lexer": "ipython2",
   "version": "2.7.6"
  }
 },
 "nbformat": 4,
 "nbformat_minor": 0
}