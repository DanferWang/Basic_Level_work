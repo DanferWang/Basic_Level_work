{
 "cells": [
  {
   "cell_type": "code",
   "execution_count": 16,
   "metadata": {
    "collapsed": true
   },
   "outputs": [],
   "source": [
    "import pandas as pd\n",
    "\n",
    "from sklearn.model_selection import train_test_split\n",
    "from imblearn.over_sampling import SMOTE\n",
    "from sklearn.ensemble import RandomForestClassifier\n",
    "from imblearn.pipeline import make_pipeline\n",
    "from sklearn.metrics import classification_report, cohen_kappa_score, balanced_accuracy_score\n",
    "\n",
    "import warnings\n",
    "warnings.filterwarnings(\"ignore\")"
   ]
  },
  {
   "cell_type": "code",
   "execution_count": 17,
   "outputs": [],
   "source": [
    "# read the pre-processed data all agreed\n",
    "data = pd.read_csv('EX1_Input_AllAgreed.csv', index_col=0)\n",
    "\n",
    "# generate the local dataframe for different domains\n",
    "local_fruit = data.loc[data['Domain']=='fruit']\n",
    "local_tool = data.loc[data['Domain']=='tool']\n",
    "local_music = data.loc[data['Domain']=='music']\n",
    "local_furniture = data.loc[data['Domain']=='furn']\n",
    "local_garments = data.loc[data['Domain']=='garm']"
   ],
   "metadata": {
    "collapsed": false,
    "pycharm": {
     "name": "#%%\n"
    }
   }
  },
  {
   "cell_type": "code",
   "execution_count": 18,
   "outputs": [],
   "source": [
    "# define features and target\n",
    "features = ['ngrams_last_mean',\n",
    "            'nrdirhypers',\n",
    "            'nrhypos',\n",
    "            'nrpartrels_normalised',\n",
    "            'depthfromtopsynset_normalised',\n",
    "            'glosslength_normalised',\n",
    "            'minwordlength',\n",
    "            'nroflemmas',\n",
    "            'polyscore_max']\n",
    "target = ['vote'] # nb / b"
   ],
   "metadata": {
    "collapsed": false,
    "pycharm": {
     "name": "#%%\n"
    }
   }
  },
  {
   "cell_type": "code",
   "execution_count": 19,
   "outputs": [],
   "source": [
    "# split training set and testing set\n",
    "split_ratio = 0.8\n",
    "random_seed = 7 # R\n",
    "# data_in = pd.concat([local_fruit, local_tool, local_music])\n",
    "data_in = data\n",
    "\n",
    "X_train, X_test, y_train, y_test = train_test_split(data_in[features], data_in[target], train_size=split_ratio, random_state=random_seed)"
   ],
   "metadata": {
    "collapsed": false,
    "pycharm": {
     "name": "#%%\n"
    }
   }
  },
  {
   "cell_type": "code",
   "execution_count": 20,
   "outputs": [
    {
     "name": "stdout",
     "output_type": "stream",
     "text": [
      "Shape of oversampled data: (1074, 9)\n",
      "Shape of Y: (1074, 1)\n"
     ]
    }
   ],
   "source": [
    "# SMOTE algorithm\n",
    "smote = SMOTE(random_state=random_seed, k_neighbors=2)\n",
    "X_train, y_train = smote.fit_resample(X_train, y_train)\n",
    "print ('Shape of oversampled data: {}'.format(X_train.shape))\n",
    "print ('Shape of Y: {}'.format(y_train.shape))"
   ],
   "metadata": {
    "collapsed": false,
    "pycharm": {
     "name": "#%%\n"
    }
   }
  },
  {
   "cell_type": "code",
   "execution_count": 21,
   "outputs": [
    {
     "name": "stderr",
     "output_type": "stream",
     "text": [
      "<ipython-input-21-0db4f61b13cf>:2: DataConversionWarning: A column-vector y was passed when a 1d array was expected. Please change the shape of y to (n_samples,), for example using ravel().\n",
      "  rf = RandomForestClassifier(random_state=random_seed, max_features=\"sqrt\", n_estimators=500, oob_score=True, criterion='gini', bootstrap=True).fit(X_train, y_train)\n"
     ]
    }
   ],
   "source": [
    "# define random forest model\n",
    "rf = RandomForestClassifier(random_state=random_seed, max_features=\"sqrt\", n_estimators=500, oob_score=True, criterion='gini', bootstrap=True).fit(X_train, y_train)"
   ],
   "metadata": {
    "collapsed": false,
    "pycharm": {
     "name": "#%%\n"
    }
   }
  },
  {
   "cell_type": "code",
   "execution_count": 22,
   "outputs": [],
   "source": [
    "# predict and make score\n",
    "pipeline = make_pipeline(smote, rf)\n",
    "\n",
    "y_pred = pipeline.predict(X_test)\n",
    "results = classification_report(y_test, y_pred, output_dict=True)\n",
    "results = pd.DataFrame(results).transpose()\n",
    "\n",
    "kappa = cohen_kappa_score(y_test, y_pred)\n",
    "balanced_accuracy = balanced_accuracy_score(y_test, y_pred)\n",
    "results['cohen kappa'] = kappa\n",
    "results['balanced acc'] = balanced_accuracy\n",
    "results['global'] = 5"
   ],
   "metadata": {
    "collapsed": false,
    "pycharm": {
     "name": "#%%\n"
    }
   }
  },
  {
   "cell_type": "code",
   "execution_count": 23,
   "outputs": [
    {
     "data": {
      "text/plain": "              precision    recall  f1-score     support  cohen kappa  \\\nb              0.756098  0.756098  0.756098   41.000000     0.677357   \nnb             0.921260  0.921260  0.921260  127.000000     0.677357   \naccuracy       0.880952  0.880952  0.880952    0.880952     0.677357   \nmacro avg      0.838679  0.838679  0.838679  168.000000     0.677357   \nweighted avg   0.880952  0.880952  0.880952  168.000000     0.677357   \n\n              balanced acc  global  \nb                 0.838679       5  \nnb                0.838679       5  \naccuracy          0.838679       5  \nmacro avg         0.838679       5  \nweighted avg      0.838679       5  ",
      "text/html": "<div>\n<style scoped>\n    .dataframe tbody tr th:only-of-type {\n        vertical-align: middle;\n    }\n\n    .dataframe tbody tr th {\n        vertical-align: top;\n    }\n\n    .dataframe thead th {\n        text-align: right;\n    }\n</style>\n<table border=\"1\" class=\"dataframe\">\n  <thead>\n    <tr style=\"text-align: right;\">\n      <th></th>\n      <th>precision</th>\n      <th>recall</th>\n      <th>f1-score</th>\n      <th>support</th>\n      <th>cohen kappa</th>\n      <th>balanced acc</th>\n      <th>global</th>\n    </tr>\n  </thead>\n  <tbody>\n    <tr>\n      <th>b</th>\n      <td>0.756098</td>\n      <td>0.756098</td>\n      <td>0.756098</td>\n      <td>41.000000</td>\n      <td>0.677357</td>\n      <td>0.838679</td>\n      <td>5</td>\n    </tr>\n    <tr>\n      <th>nb</th>\n      <td>0.921260</td>\n      <td>0.921260</td>\n      <td>0.921260</td>\n      <td>127.000000</td>\n      <td>0.677357</td>\n      <td>0.838679</td>\n      <td>5</td>\n    </tr>\n    <tr>\n      <th>accuracy</th>\n      <td>0.880952</td>\n      <td>0.880952</td>\n      <td>0.880952</td>\n      <td>0.880952</td>\n      <td>0.677357</td>\n      <td>0.838679</td>\n      <td>5</td>\n    </tr>\n    <tr>\n      <th>macro avg</th>\n      <td>0.838679</td>\n      <td>0.838679</td>\n      <td>0.838679</td>\n      <td>168.000000</td>\n      <td>0.677357</td>\n      <td>0.838679</td>\n      <td>5</td>\n    </tr>\n    <tr>\n      <th>weighted avg</th>\n      <td>0.880952</td>\n      <td>0.880952</td>\n      <td>0.880952</td>\n      <td>168.000000</td>\n      <td>0.677357</td>\n      <td>0.838679</td>\n      <td>5</td>\n    </tr>\n  </tbody>\n</table>\n</div>"
     },
     "execution_count": 23,
     "metadata": {},
     "output_type": "execute_result"
    }
   ],
   "source": [
    "results"
   ],
   "metadata": {
    "collapsed": false,
    "pycharm": {
     "name": "#%%\n"
    }
   }
  },
  {
   "cell_type": "code",
   "execution_count": 24,
   "outputs": [],
   "source": [
    "# importance of features\n",
    "importance = rf.feature_importances_\n",
    "\n",
    "importance = pd.DataFrame([features, importance]).transpose()\n",
    "importance = importance.rename(columns={0:'feature', 1:'importance'}).sort_values('importance', ascending=False)"
   ],
   "metadata": {
    "collapsed": false,
    "pycharm": {
     "name": "#%%\n"
    }
   }
  },
  {
   "cell_type": "code",
   "execution_count": 25,
   "outputs": [
    {
     "data": {
      "text/plain": "                         feature importance\n4  depthfromtopsynset_normalised   0.357654\n0               ngrams_last_mean   0.164617\n5         glosslength_normalised   0.127739\n6                  minwordlength    0.11503\n3          nrpartrels_normalised   0.109267\n2                        nrhypos   0.053442\n8                  polyscore_max   0.043895\n7                     nroflemmas   0.026327\n1                    nrdirhypers   0.002028",
      "text/html": "<div>\n<style scoped>\n    .dataframe tbody tr th:only-of-type {\n        vertical-align: middle;\n    }\n\n    .dataframe tbody tr th {\n        vertical-align: top;\n    }\n\n    .dataframe thead th {\n        text-align: right;\n    }\n</style>\n<table border=\"1\" class=\"dataframe\">\n  <thead>\n    <tr style=\"text-align: right;\">\n      <th></th>\n      <th>feature</th>\n      <th>importance</th>\n    </tr>\n  </thead>\n  <tbody>\n    <tr>\n      <th>4</th>\n      <td>depthfromtopsynset_normalised</td>\n      <td>0.357654</td>\n    </tr>\n    <tr>\n      <th>0</th>\n      <td>ngrams_last_mean</td>\n      <td>0.164617</td>\n    </tr>\n    <tr>\n      <th>5</th>\n      <td>glosslength_normalised</td>\n      <td>0.127739</td>\n    </tr>\n    <tr>\n      <th>6</th>\n      <td>minwordlength</td>\n      <td>0.11503</td>\n    </tr>\n    <tr>\n      <th>3</th>\n      <td>nrpartrels_normalised</td>\n      <td>0.109267</td>\n    </tr>\n    <tr>\n      <th>2</th>\n      <td>nrhypos</td>\n      <td>0.053442</td>\n    </tr>\n    <tr>\n      <th>8</th>\n      <td>polyscore_max</td>\n      <td>0.043895</td>\n    </tr>\n    <tr>\n      <th>7</th>\n      <td>nroflemmas</td>\n      <td>0.026327</td>\n    </tr>\n    <tr>\n      <th>1</th>\n      <td>nrdirhypers</td>\n      <td>0.002028</td>\n    </tr>\n  </tbody>\n</table>\n</div>"
     },
     "execution_count": 25,
     "metadata": {},
     "output_type": "execute_result"
    }
   ],
   "source": [
    "importance"
   ],
   "metadata": {
    "collapsed": false,
    "pycharm": {
     "name": "#%%\n"
    }
   }
  }
 ],
 "metadata": {
  "kernelspec": {
   "display_name": "Python 3",
   "language": "python",
   "name": "python3"
  },
  "language_info": {
   "codemirror_mode": {
    "name": "ipython",
    "version": 2
   },
   "file_extension": ".py",
   "mimetype": "text/x-python",
   "name": "python",
   "nbconvert_exporter": "python",
   "pygments_lexer": "ipython2",
   "version": "2.7.6"
  }
 },
 "nbformat": 4,
 "nbformat_minor": 0
}