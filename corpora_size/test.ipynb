{
 "cells": [
  {
   "cell_type": "code",
   "execution_count": 20,
   "metadata": {
    "collapsed": true,
    "pycharm": {
     "name": "#%%\n"
    }
   },
   "outputs": [
    {
     "data": {
      "text/plain": "          index  CHILDES_Count\n0           law              5\n1          able              8\n2             ?           5421\n3     something             99\n4          mine             60\n...         ...            ...\n4558      susan              1\n4559       tray              1\n4560      joint              1\n4561       knit              1\n4562       plus              1\n\n[4563 rows x 2 columns]",
      "text/html": "<div>\n<style scoped>\n    .dataframe tbody tr th:only-of-type {\n        vertical-align: middle;\n    }\n\n    .dataframe tbody tr th {\n        vertical-align: top;\n    }\n\n    .dataframe thead th {\n        text-align: right;\n    }\n</style>\n<table border=\"1\" class=\"dataframe\">\n  <thead>\n    <tr style=\"text-align: right;\">\n      <th></th>\n      <th>index</th>\n      <th>CHILDES_Count</th>\n    </tr>\n  </thead>\n  <tbody>\n    <tr>\n      <th>0</th>\n      <td>law</td>\n      <td>5</td>\n    </tr>\n    <tr>\n      <th>1</th>\n      <td>able</td>\n      <td>8</td>\n    </tr>\n    <tr>\n      <th>2</th>\n      <td>?</td>\n      <td>5421</td>\n    </tr>\n    <tr>\n      <th>3</th>\n      <td>something</td>\n      <td>99</td>\n    </tr>\n    <tr>\n      <th>4</th>\n      <td>mine</td>\n      <td>60</td>\n    </tr>\n    <tr>\n      <th>...</th>\n      <td>...</td>\n      <td>...</td>\n    </tr>\n    <tr>\n      <th>4558</th>\n      <td>susan</td>\n      <td>1</td>\n    </tr>\n    <tr>\n      <th>4559</th>\n      <td>tray</td>\n      <td>1</td>\n    </tr>\n    <tr>\n      <th>4560</th>\n      <td>joint</td>\n      <td>1</td>\n    </tr>\n    <tr>\n      <th>4561</th>\n      <td>knit</td>\n      <td>1</td>\n    </tr>\n    <tr>\n      <th>4562</th>\n      <td>plus</td>\n      <td>1</td>\n    </tr>\n  </tbody>\n</table>\n<p>4563 rows × 2 columns</p>\n</div>"
     },
     "execution_count": 20,
     "metadata": {},
     "output_type": "execute_result"
    }
   ],
   "source": [
    "import numpy as np\n",
    "import pylangacq\n",
    "import nltk\n",
    "import pandas as pd\n",
    "\n",
    "reader = pylangacq.Reader()\n",
    "brown = pylangacq.read_chat(\"./corpora/CHILDES/Brown.zip\")\n",
    "belf = pylangacq.read_chat(\"./corpora/CHILDES/Belfast.zip\")\n",
    "\n",
    "corpora = [brown, belf]\n",
    "for item in corpora:\n",
    "    reader.append(item)\n",
    "\n",
    "words = reader.words()\n",
    "words = np.random.choice(words, 100000)\n",
    "word_freq = nltk.FreqDist(word.lower() for word in words)\n",
    "childes_df = pd.DataFrame.from_dict(word_freq, orient='index').reset_index().rename(columns={0: 'CHILDES_Count'})\n",
    "childes_df"
   ]
  }
 ],
 "metadata": {
  "kernelspec": {
   "display_name": "Python 3",
   "language": "python",
   "name": "python3"
  },
  "language_info": {
   "codemirror_mode": {
    "name": "ipython",
    "version": 2
   },
   "file_extension": ".py",
   "mimetype": "text/x-python",
   "name": "python",
   "nbconvert_exporter": "python",
   "pygments_lexer": "ipython2",
   "version": "2.7.6"
  }
 },
 "nbformat": 4,
 "nbformat_minor": 0
}