{
 "cells": [
  {
   "cell_type": "code",
   "execution_count": 4,
   "metadata": {
    "collapsed": true,
    "pycharm": {
     "name": "#%%\n"
    }
   },
   "outputs": [],
   "source": [
    "import pylangacq\n",
    "import pandas as pd\n",
    "\n",
    "brown = pylangacq.read_chat(\"./corpora/CHILDES/Brown.zip\")\n",
    "belf = pylangacq.read_chat(\"./corpora/CHILDES/Belfast.zip\")\n",
    "\n",
    "corpora = [brown, belf]\n",
    "dataframe_dict = {}\n",
    "for corpus in corpora:\n",
    "    words = corpus.words()\n",
    "    word_freq = corpus.word_frequencies()\n",
    "    dataframe_dict[corpus] = pd.DataFrame.from_dict(word_freq, orient='index').reset_index()\n",
    "\n",
    "CHILDES = pd.merge(dataframe_dict[brown], dataframe_dict[belf], how='outer', on='index')"
   ]
  },
  {
   "cell_type": "code",
   "execution_count": 2,
   "outputs": [
    {
     "ename": "NameError",
     "evalue": "name 'dataframe_dict' is not defined",
     "output_type": "error",
     "traceback": [
      "\u001B[1;31m---------------------------------------------------------------------------\u001B[0m",
      "\u001B[1;31mNameError\u001B[0m                                 Traceback (most recent call last)",
      "\u001B[1;32m~\\AppData\\Local\\Temp/ipykernel_20500/1364441453.py\u001B[0m in \u001B[0;36m<module>\u001B[1;34m\u001B[0m\n\u001B[1;32m----> 1\u001B[1;33m \u001B[0mdataframe_dict\u001B[0m\u001B[1;33m\u001B[0m\u001B[1;33m\u001B[0m\u001B[0m\n\u001B[0m",
      "\u001B[1;31mNameError\u001B[0m: name 'dataframe_dict' is not defined"
     ]
    }
   ],
   "source": [
    "dataframe_dict"
   ],
   "metadata": {
    "collapsed": false,
    "pycharm": {
     "name": "#%%\n"
    }
   }
  }
 ],
 "metadata": {
  "kernelspec": {
   "display_name": "Python 3",
   "language": "python",
   "name": "python3"
  },
  "language_info": {
   "codemirror_mode": {
    "name": "ipython",
    "version": 2
   },
   "file_extension": ".py",
   "mimetype": "text/x-python",
   "name": "python",
   "nbconvert_exporter": "python",
   "pygments_lexer": "ipython2",
   "version": "2.7.6"
  }
 },
 "nbformat": 4,
 "nbformat_minor": 0
}