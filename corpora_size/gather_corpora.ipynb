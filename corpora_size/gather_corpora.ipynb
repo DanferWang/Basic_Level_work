{
 "cells": [
  {
   "cell_type": "code",
   "execution_count": 1,
   "metadata": {
    "tags": []
   },
   "outputs": [],
   "source": [
    "import nltk\n",
    "import pylangacq\n",
    "import pandas as pd\n",
    "import numpy as np\n",
    "\n",
    "from nltk.corpus.reader.bnc import BNCCorpusReader"
   ]
  },
  {
   "cell_type": "markdown",
   "metadata": {},
   "source": [
    "## BNC Full: 100m, 5.7m, 2.4m, 1m"
   ]
  },
  {
   "cell_type": "code",
   "execution_count": 2,
   "metadata": {
    "collapsed": false,
    "jupyter": {
     "outputs_hidden": false
    },
    "pycharm": {
     "is_executing": true,
     "name": "#%%\n"
    }
   },
   "outputs": [
    {
     "data": {
      "text/plain": [
       "111978070"
      ]
     },
     "execution_count": 2,
     "metadata": {},
     "output_type": "execute_result"
    }
   ],
   "source": [
    "# download BNC Full\n",
    "bnc_full_reader = BNCCorpusReader(root='./corpora/BNC/2554.zip/download/Texts/', fileids=r'[A-K]/\\w*/\\w*\\.xml')\n",
    "bnc_full = bnc_full_reader.words()\n",
    "\n",
    "len(bnc_full)"
   ]
  },
  {
   "cell_type": "code",
   "execution_count": 3,
   "metadata": {
    "collapsed": false,
    "jupyter": {
     "outputs_hidden": false
    },
    "pycharm": {
     "name": "#%%\n"
    }
   },
   "outputs": [
    {
     "ename": "MemoryError",
     "evalue": "Unable to allocate 54.6 GiB for an array with shape (111978070,) and data type <U131",
     "output_type": "error",
     "traceback": [
      "\u001B[0;31m---------------------------------------------------------------------------\u001B[0m",
      "\u001B[0;31mMemoryError\u001B[0m                               Traceback (most recent call last)",
      "\u001B[0;32m/tmp/ipykernel_7822/4029533109.py\u001B[0m in \u001B[0;36m<module>\u001B[0;34m\u001B[0m\n\u001B[1;32m      3\u001B[0m \u001B[0;31m# bnc_5_7m = np.random.choice(bnc_full, 5700000)\u001B[0m\u001B[0;34m\u001B[0m\u001B[0;34m\u001B[0m\u001B[0m\n\u001B[1;32m      4\u001B[0m \u001B[0;31m# bnc_2_4m = np.random.choice(bnc_full, 2400000)\u001B[0m\u001B[0;34m\u001B[0m\u001B[0;34m\u001B[0m\u001B[0m\n\u001B[0;32m----> 5\u001B[0;31m \u001B[0mbnc_1m\u001B[0m \u001B[0;34m=\u001B[0m \u001B[0mnp\u001B[0m\u001B[0;34m.\u001B[0m\u001B[0mrandom\u001B[0m\u001B[0;34m.\u001B[0m\u001B[0mchoice\u001B[0m\u001B[0;34m(\u001B[0m\u001B[0mbnc_full\u001B[0m\u001B[0;34m,\u001B[0m \u001B[0;36m1000000\u001B[0m\u001B[0;34m)\u001B[0m\u001B[0;34m\u001B[0m\u001B[0;34m\u001B[0m\u001B[0m\n\u001B[0m",
      "\u001B[0;32mmtrand.pyx\u001B[0m in \u001B[0;36mnumpy.random.mtrand.RandomState.choice\u001B[0;34m()\u001B[0m\n",
      "\u001B[0;31mMemoryError\u001B[0m: Unable to allocate 54.6 GiB for an array with shape (111978070,) and data type <U131"
     ]
    }
   ],
   "source": [
    "# sample for 100m, 5.7m, 2.4m, 1m\n",
    "# bnc_100m = np.random.choice(bnc_full, 100000000)\n",
    "# bnc_5_7m = np.random.choice(bnc_full, 5700000)\n",
    "# bnc_2_4m = np.random.choice(bnc_full, 2400000)\n",
    "bnc_1m = np.random.choice(bnc_full, 1000000)"
   ]
  },
  {
   "cell_type": "code",
   "execution_count": 4,
   "metadata": {
    "collapsed": false,
    "jupyter": {
     "outputs_hidden": false
    },
    "pycharm": {
     "name": "#%%\n"
    }
   },
   "outputs": [],
   "source": [
    "# alternative method to sample\n",
    "bnc_df = pd.Series(bnc_full)\n"
   ]
  },
  {
   "cell_type": "code",
   "execution_count": 15,
   "metadata": {
    "collapsed": false,
    "jupyter": {
     "outputs_hidden": false
    },
    "pycharm": {
     "name": "#%%\n"
    }
   },
   "outputs": [
    {
     "data": {
      "text/plain": [
       "53082915           of\n",
       "35715265         week\n",
       "46710596    customers\n",
       "3965870        couple\n",
       "96558773         have\n",
       "              ...    \n",
       "62046431     sections\n",
       "48730368         turn\n",
       "14668221       Please\n",
       "9418446          1991\n",
       "25462325          and\n",
       "Length: 2400000, dtype: object"
      ]
     },
     "execution_count": 15,
     "metadata": {},
     "output_type": "execute_result"
    }
   ],
   "source": [
    "random_seed = 7\n",
    "bnc_100m = bnc_df.sample(n=100000000, random_state=random_seed)\n",
    "bnc_5_7m = bnc_df.sample(n=5700000, random_state=random_seed)\n",
    "bnc_2_4m = bnc_df.sample(n=2400000, random_state=random_seed)\n",
    "bnc_1m = bnc_df.sample(n=1000000, random_state=random_seed)\n",
    "\n",
    "bnc_100m"
   ]
  },
  {
   "cell_type": "code",
   "execution_count": 17,
   "metadata": {
    "collapsed": false,
    "jupyter": {
     "outputs_hidden": false
    },
    "pycharm": {
     "name": "#%%\n"
    }
   },
   "outputs": [
    {
     "data": {
      "text/html": [
       "<div>\n",
       "<style scoped>\n",
       "    .dataframe tbody tr th:only-of-type {\n",
       "        vertical-align: middle;\n",
       "    }\n",
       "\n",
       "    .dataframe tbody tr th {\n",
       "        vertical-align: top;\n",
       "    }\n",
       "\n",
       "    .dataframe thead th {\n",
       "        text-align: right;\n",
       "    }\n",
       "</style>\n",
       "<table border=\"1\" class=\"dataframe\">\n",
       "  <thead>\n",
       "    <tr style=\"text-align: right;\">\n",
       "      <th></th>\n",
       "      <th>norm</th>\n",
       "      <th>BNC_100m_Count</th>\n",
       "    </tr>\n",
       "  </thead>\n",
       "  <tbody>\n",
       "    <tr>\n",
       "      <th>0</th>\n",
       "      <td>of</td>\n",
       "      <td>2717776</td>\n",
       "    </tr>\n",
       "    <tr>\n",
       "      <th>1</th>\n",
       "      <td>week</td>\n",
       "      <td>28179</td>\n",
       "    </tr>\n",
       "    <tr>\n",
       "      <th>2</th>\n",
       "      <td>customers</td>\n",
       "      <td>5982</td>\n",
       "    </tr>\n",
       "    <tr>\n",
       "      <th>3</th>\n",
       "      <td>couple</td>\n",
       "      <td>10612</td>\n",
       "    </tr>\n",
       "    <tr>\n",
       "      <th>4</th>\n",
       "      <td>have</td>\n",
       "      <td>411432</td>\n",
       "    </tr>\n",
       "    <tr>\n",
       "      <th>...</th>\n",
       "      <td>...</td>\n",
       "      <td>...</td>\n",
       "    </tr>\n",
       "    <tr>\n",
       "      <th>605424</th>\n",
       "      <td>al-noman</td>\n",
       "      <td>1</td>\n",
       "    </tr>\n",
       "    <tr>\n",
       "      <th>605425</th>\n",
       "      <td>pre-historically</td>\n",
       "      <td>1</td>\n",
       "    </tr>\n",
       "    <tr>\n",
       "      <th>605426</th>\n",
       "      <td>sub-programmes</td>\n",
       "      <td>1</td>\n",
       "    </tr>\n",
       "    <tr>\n",
       "      <th>605427</th>\n",
       "      <td>mash-style</td>\n",
       "      <td>1</td>\n",
       "    </tr>\n",
       "    <tr>\n",
       "      <th>605428</th>\n",
       "      <td>£180.00</td>\n",
       "      <td>1</td>\n",
       "    </tr>\n",
       "  </tbody>\n",
       "</table>\n",
       "<p>605429 rows × 2 columns</p>\n",
       "</div>"
      ],
      "text/plain": [
       "                    norm  BNC_100m_Count\n",
       "0                     of         2717776\n",
       "1                   week           28179\n",
       "2              customers            5982\n",
       "3                 couple           10612\n",
       "4                   have          411432\n",
       "...                  ...             ...\n",
       "605424          al-noman               1\n",
       "605425  pre-historically               1\n",
       "605426    sub-programmes               1\n",
       "605427        mash-style               1\n",
       "605428           £180.00               1\n",
       "\n",
       "[605429 rows x 2 columns]"
      ]
     },
     "execution_count": 17,
     "metadata": {},
     "output_type": "execute_result"
    }
   ],
   "source": [
    "# create a word count from dictionary into dataframe\n",
    "bnc_100m_word_count_dict = nltk.FreqDist(word.lower() for word in bnc_100m)\n",
    "bnc_100m_word_count_df = pd.DataFrame.from_dict(bnc_100m_word_count_dict, orient='index').reset_index()\n",
    "bnc_100m_word_count_df = bnc_100m_word_count_df.rename(columns={'index':'norm', 0:'BNC_100m_Count'})\n",
    "\n",
    "bnc_5_7m_word_count_dict = nltk.FreqDist(word.lower() for word in bnc_5_7m)\n",
    "bnc_5_7m_word_count_df = pd.DataFrame.from_dict(bnc_5_7m_word_count_dict, orient='index').reset_index()\n",
    "bnc_5_7m_word_count_df = bnc_5_7m_word_count_df.rename(columns={'index':'norm', 0:'BNC_5_7m_Count'})\n",
    "\n",
    "bnc_2_4m_word_count_dict = nltk.FreqDist(word.lower() for word in bnc_2_4m)\n",
    "bnc_2_4m_word_count_df = pd.DataFrame.from_dict(bnc_2_4m_word_count_dict, orient='index').reset_index()\n",
    "bnc_2_4m_word_count_df = bnc_2_4m_word_count_df.rename(columns={'index':'norm', 0:'BNC_2_4m_Count'})\n",
    "\n",
    "bnc_1m_word_count_dict = nltk.FreqDist(word.lower() for word in bnc_1m)\n",
    "bnc_1m_word_count_df = pd.DataFrame.from_dict(bnc_1m_word_count_dict, orient='index').reset_index()\n",
    "bnc_1m_word_count_df = bnc_1m_word_count_df.rename(columns={'index':'norm', 0:'BNC_1m_Count'})\n",
    "\n",
    "bnc_100m_word_count_df"
   ]
  },
  {
   "cell_type": "code",
   "execution_count": 18,
   "metadata": {
    "collapsed": false,
    "jupyter": {
     "outputs_hidden": false
    },
    "pycharm": {
     "name": "#%%\n"
    }
   },
   "outputs": [],
   "source": [
    "bnc_100m_word_count_df.to_csv('./sampled_count/BNC_100m_Count.csv', index=False)\n",
    "bnc_5_7m_word_count_df.to_csv('./sampled_count/BNC_5_7m_Count.csv', index=False)\n",
    "bnc_2_4m_word_count_df.to_csv('./sampled_count/BNC_2_4m_Count.csv', index=False)\n",
    "bnc_1m_word_count_df.to_csv('./sampled_count/BNC_1m_Count.csv', index=False)"
   ]
  },
  {
   "cell_type": "markdown",
   "metadata": {},
   "source": [
    "## CHILDES: 5.7m, 2.4m, 1m"
   ]
  },
  {
   "cell_type": "code",
   "execution_count": 3,
   "metadata": {
    "collapsed": false,
    "jupyter": {
     "outputs_hidden": false
    },
    "pycharm": {
     "name": "#%%\n"
    }
   },
   "outputs": [],
   "source": [
    "# load sub-corporas\n",
    "brown = pylangacq.read_chat(\"./corpora/CHILDES/Brown.zip\")\n",
    "belf = pylangacq.read_chat(\"./corpora/CHILDES/Belfast.zip\")\n",
    "crutt=pylangacq.read_chat(\"./corpora/CHILDES/Cruttenden.zip\")\n",
    "fletcher=pylangacq.read_chat(\"./corpora/CHILDES/Fletcher.zip\")\n",
    "forr=pylangacq.read_chat(\"./corpora/CHILDES/Forrester.zip\")\n",
    "gath=pylangacq.read_chat(\"./corpora/CHILDES/Gathburn.zip\")\n",
    "howe=pylangacq.read_chat(\"./corpora/CHILDES/Howe.zip\")\n",
    "kelly=pylangacq.read_chat(\"./corpora/CHILDES/KellyQuigley.zip\")\n",
    "korman=pylangacq.read_chat(\"./corpora/CHILDES/Korman.zip\")\n",
    "lara=pylangacq.read_chat(\"./corpora/CHILDES/Lara.zip\")\n",
    "manc=pylangacq.read_chat(\"./corpora/CHILDES/Manchester.zip\")\n",
    "nuff=pylangacq.read_chat(\"./corpora/CHILDES/Nuffield.zip\")\n",
    "quigley=pylangacq.read_chat(\"./corpora/CHILDES/QuigleyMcNally.zip\")\n",
    "sekali=pylangacq.read_chat(\"./corpora/CHILDES/Sekali.zip\")\n",
    "smith=pylangacq.read_chat(\"./corpora/CHILDES/Smith.zip\")\n",
    "tommer=pylangacq.read_chat(\"./corpora/CHILDES/Tommerdahl.zip\")\n"
   ]
  },
  {
   "cell_type": "code",
   "execution_count": 4,
   "metadata": {
    "collapsed": false,
    "jupyter": {
     "outputs_hidden": false
    },
    "pycharm": {
     "name": "#%%\n"
    }
   },
   "outputs": [],
   "source": [
    "# link up sub-corporas\n",
    "corpora = [brown, belf, crutt, fletcher, forr, gath, howe, kelly, korman, lara, manc, nuff, quigley, sekali, smith, tommer]\n",
    "reader = pylangacq.Reader()\n",
    "for item in corpora:\n",
    "    reader.append(item)"
   ]
  },
  {
   "cell_type": "code",
   "execution_count": 5,
   "metadata": {
    "collapsed": false,
    "jupyter": {
     "outputs_hidden": false
    },
    "pycharm": {
     "name": "#%%\n"
    }
   },
   "outputs": [
    {
     "data": {
      "text/plain": [
       "5681157"
      ]
     },
     "execution_count": 5,
     "metadata": {},
     "output_type": "execute_result"
    }
   ],
   "source": [
    "# sample for 5.7m, 2.4m, 1m\n",
    "words = reader.words()\n",
    "childes_5_7m = np.random.choice(words, 5700000)\n",
    "childes_2_4m = np.random.choice(words, 2400000)\n",
    "childes_1m = np.random.choice(words, 1000000)\n",
    "\n",
    "len(words)"
   ]
  },
  {
   "cell_type": "code",
   "execution_count": 6,
   "metadata": {
    "collapsed": false,
    "jupyter": {
     "outputs_hidden": false
    },
    "pycharm": {
     "name": "#%%\n"
    }
   },
   "outputs": [
    {
     "data": {
      "text/html": [
       "<div>\n",
       "<style scoped>\n",
       "    .dataframe tbody tr th:only-of-type {\n",
       "        vertical-align: middle;\n",
       "    }\n",
       "\n",
       "    .dataframe tbody tr th {\n",
       "        vertical-align: top;\n",
       "    }\n",
       "\n",
       "    .dataframe thead th {\n",
       "        text-align: right;\n",
       "    }\n",
       "</style>\n",
       "<table border=\"1\" class=\"dataframe\">\n",
       "  <thead>\n",
       "    <tr style=\"text-align: right;\">\n",
       "      <th></th>\n",
       "      <th>index</th>\n",
       "      <th>CHILDES_Count</th>\n",
       "    </tr>\n",
       "  </thead>\n",
       "  <tbody>\n",
       "    <tr>\n",
       "      <th>0</th>\n",
       "      <td>you're</td>\n",
       "      <td>2276</td>\n",
       "    </tr>\n",
       "    <tr>\n",
       "      <th>1</th>\n",
       "      <td>in</td>\n",
       "      <td>8836</td>\n",
       "    </tr>\n",
       "    <tr>\n",
       "      <th>2</th>\n",
       "      <td>is</td>\n",
       "      <td>9141</td>\n",
       "    </tr>\n",
       "    <tr>\n",
       "      <th>3</th>\n",
       "      <td>again</td>\n",
       "      <td>1287</td>\n",
       "    </tr>\n",
       "    <tr>\n",
       "      <th>4</th>\n",
       "      <td>?</td>\n",
       "      <td>52714</td>\n",
       "    </tr>\n",
       "    <tr>\n",
       "      <th>...</th>\n",
       "      <td>...</td>\n",
       "      <td>...</td>\n",
       "    </tr>\n",
       "    <tr>\n",
       "      <th>13341</th>\n",
       "      <td>medical</td>\n",
       "      <td>1</td>\n",
       "    </tr>\n",
       "    <tr>\n",
       "      <th>13342</th>\n",
       "      <td>ragdoll</td>\n",
       "      <td>1</td>\n",
       "    </tr>\n",
       "    <tr>\n",
       "      <th>13343</th>\n",
       "      <td>shop's</td>\n",
       "      <td>1</td>\n",
       "    </tr>\n",
       "    <tr>\n",
       "      <th>13344</th>\n",
       "      <td>lisbane</td>\n",
       "      <td>1</td>\n",
       "    </tr>\n",
       "    <tr>\n",
       "      <th>13345</th>\n",
       "      <td>skinnier</td>\n",
       "      <td>1</td>\n",
       "    </tr>\n",
       "  </tbody>\n",
       "</table>\n",
       "<p>13346 rows × 2 columns</p>\n",
       "</div>"
      ],
      "text/plain": [
       "          index  CHILDES_Count\n",
       "0        you're           2276\n",
       "1            in           8836\n",
       "2            is           9141\n",
       "3         again           1287\n",
       "4             ?          52714\n",
       "...         ...            ...\n",
       "13341   medical              1\n",
       "13342   ragdoll              1\n",
       "13343    shop's              1\n",
       "13344   lisbane              1\n",
       "13345  skinnier              1\n",
       "\n",
       "[13346 rows x 2 columns]"
      ]
     },
     "execution_count": 6,
     "metadata": {},
     "output_type": "execute_result"
    }
   ],
   "source": [
    "# create a word count from dictionary into dataframe\n",
    "# addition: convert all words into low case\n",
    "childes_5_7m_freq = nltk.FreqDist(word.lower() for word in childes_5_7m)\n",
    "childes_5_7m_df = pd.DataFrame.from_dict(childes_5_7m_freq, orient='index').reset_index().rename(columns={0: 'CHILDES_Count'})\n",
    "\n",
    "childes_2_4m_freq = nltk.FreqDist(word.lower() for word in childes_2_4m)\n",
    "childes_2_4m_df = pd.DataFrame.from_dict(childes_2_4m_freq, orient='index').reset_index().rename(columns={0: 'CHILDES_Count'})\n",
    "\n",
    "childes_1m_freq = nltk.FreqDist(word.lower() for word in childes_1m)\n",
    "childes_1m_df = pd.DataFrame.from_dict(childes_1m_freq, orient='index').reset_index().rename(columns={0: 'CHILDES_Count'})\n",
    "\n",
    "childes_1m_df"
   ]
  },
  {
   "cell_type": "code",
   "execution_count": 8,
   "metadata": {
    "collapsed": false,
    "jupyter": {
     "outputs_hidden": false
    },
    "pycharm": {
     "name": "#%%\n"
    }
   },
   "outputs": [],
   "source": [
    "childes_5_7m_df.to_csv('./sampled_count/CHILDES_5_7m_Count.csv', index=False)\n",
    "childes_2_4m_df.to_csv('./sampled_count/CHILDES_2_4m_Count.csv', index=False)\n",
    "childes_1m_df.to_csv('./sampled_count/CHILDES_1m_Count.csv', index=False)"
   ]
  },
  {
   "cell_type": "markdown",
   "metadata": {},
   "source": [
    "## CABNC: 2.4m, 1m"
   ]
  },
  {
   "cell_type": "code",
   "execution_count": 20,
   "metadata": {
    "collapsed": false,
    "jupyter": {
     "outputs_hidden": false
    },
    "pycharm": {
     "name": "#%%\n"
    }
   },
   "outputs": [
    {
     "data": {
      "text/plain": [
       "2411853"
      ]
     },
     "execution_count": 20,
     "metadata": {},
     "output_type": "execute_result"
    }
   ],
   "source": [
    "# download CABNC Full\n",
    "CABNC_full = pylangacq.read_chat('./corpora/CABNC/CABNC.zip')\n",
    "words = CABNC_full.words()\n",
    "\n",
    "len(words)"
   ]
  },
  {
   "cell_type": "markdown",
   "metadata": {
    "pycharm": {
     "name": "#%% md\n"
    }
   },
   "source": []
  },
  {
   "cell_type": "code",
   "execution_count": 21,
   "metadata": {
    "collapsed": false,
    "jupyter": {
     "outputs_hidden": false
    },
    "pycharm": {
     "name": "#%%\n"
    }
   },
   "outputs": [
    {
     "data": {
      "text/plain": [
       "2400000"
      ]
     },
     "execution_count": 21,
     "metadata": {},
     "output_type": "execute_result"
    }
   ],
   "source": [
    "# sample for 2.4m, 1m\n",
    "cabnc_2_4m = np.random.choice(words, 2400000)\n",
    "cabnc_1m = np.random.choice(words, 1000000)\n",
    "\n",
    "len(cabnc_2_4m)"
   ]
  },
  {
   "cell_type": "code",
   "execution_count": 22,
   "metadata": {
    "collapsed": false,
    "jupyter": {
     "outputs_hidden": false
    },
    "pycharm": {
     "name": "#%%\n"
    }
   },
   "outputs": [
    {
     "data": {
      "text/html": [
       "<div>\n",
       "<style scoped>\n",
       "    .dataframe tbody tr th:only-of-type {\n",
       "        vertical-align: middle;\n",
       "    }\n",
       "\n",
       "    .dataframe tbody tr th {\n",
       "        vertical-align: top;\n",
       "    }\n",
       "\n",
       "    .dataframe thead th {\n",
       "        text-align: right;\n",
       "    }\n",
       "</style>\n",
       "<table border=\"1\" class=\"dataframe\">\n",
       "  <thead>\n",
       "    <tr style=\"text-align: right;\">\n",
       "      <th></th>\n",
       "      <th>index</th>\n",
       "      <th>CABNC_Count</th>\n",
       "    </tr>\n",
       "  </thead>\n",
       "  <tbody>\n",
       "    <tr>\n",
       "      <th>0</th>\n",
       "      <td>rang</td>\n",
       "      <td>136</td>\n",
       "    </tr>\n",
       "    <tr>\n",
       "      <th>1</th>\n",
       "      <td>.</td>\n",
       "      <td>256556</td>\n",
       "    </tr>\n",
       "    <tr>\n",
       "      <th>2</th>\n",
       "      <td>single</td>\n",
       "      <td>143</td>\n",
       "    </tr>\n",
       "    <tr>\n",
       "      <th>3</th>\n",
       "      <td>'ll</td>\n",
       "      <td>9669</td>\n",
       "    </tr>\n",
       "    <tr>\n",
       "      <th>4</th>\n",
       "      <td>be</td>\n",
       "      <td>10164</td>\n",
       "    </tr>\n",
       "    <tr>\n",
       "      <th>...</th>\n",
       "      <td>...</td>\n",
       "      <td>...</td>\n",
       "    </tr>\n",
       "    <tr>\n",
       "      <th>20997</th>\n",
       "      <td>motto</td>\n",
       "      <td>1</td>\n",
       "    </tr>\n",
       "    <tr>\n",
       "      <th>20998</th>\n",
       "      <td>lan</td>\n",
       "      <td>1</td>\n",
       "    </tr>\n",
       "    <tr>\n",
       "      <th>20999</th>\n",
       "      <td>shuttlings</td>\n",
       "      <td>1</td>\n",
       "    </tr>\n",
       "    <tr>\n",
       "      <th>21000</th>\n",
       "      <td>fouling</td>\n",
       "      <td>1</td>\n",
       "    </tr>\n",
       "    <tr>\n",
       "      <th>21001</th>\n",
       "      <td>succeeded</td>\n",
       "      <td>1</td>\n",
       "    </tr>\n",
       "  </tbody>\n",
       "</table>\n",
       "<p>21002 rows × 2 columns</p>\n",
       "</div>"
      ],
      "text/plain": [
       "            index  CABNC_Count\n",
       "0            rang          136\n",
       "1               .       256556\n",
       "2          single          143\n",
       "3             'll         9669\n",
       "4              be        10164\n",
       "...           ...          ...\n",
       "20997       motto            1\n",
       "20998         lan            1\n",
       "20999  shuttlings            1\n",
       "21000     fouling            1\n",
       "21001   succeeded            1\n",
       "\n",
       "[21002 rows x 2 columns]"
      ]
     },
     "execution_count": 22,
     "metadata": {},
     "output_type": "execute_result"
    }
   ],
   "source": [
    "# create a word count from dictionary into dataframe\n",
    "cabnc_1m_freq = nltk.FreqDist(word.lower() for word in cabnc_1m)\n",
    "cabnc_1m_df = pd.DataFrame.from_dict(cabnc_1m_freq, orient='index').reset_index().rename(columns={0: 'CABNC_Count'})\n",
    "\n",
    "cabnc_2_4m_freq = nltk.FreqDist(word.lower() for word in cabnc_2_4m)\n",
    "cabnc_2_4m_df = pd.DataFrame.from_dict(cabnc_2_4m_freq, orient='index').reset_index().rename(columns={0: 'CABNC_Count'})\n",
    "\n",
    "cabnc_2_4m_df"
   ]
  },
  {
   "cell_type": "code",
   "execution_count": 24,
   "metadata": {
    "collapsed": false,
    "jupyter": {
     "outputs_hidden": false
    },
    "pycharm": {
     "name": "#%%\n"
    }
   },
   "outputs": [],
   "source": [
    "cabnc_2_4m_df.to_csv('./sampled_count/CABNC_2_4m_Count.csv', index=False)\n",
    "cabnc_1m_df.to_csv('./sampled_count/CABNC_1m_Count.csv', index=False)"
   ]
  },
  {
   "cell_type": "markdown",
   "metadata": {},
   "source": [
    "## KBNC: 1m"
   ]
  },
  {
   "cell_type": "code",
   "execution_count": 16,
   "metadata": {
    "collapsed": false,
    "jupyter": {
     "outputs_hidden": false
    },
    "pycharm": {
     "name": "#%%\n"
    }
   },
   "outputs": [
    {
     "data": {
      "text/plain": [
       "1098264"
      ]
     },
     "execution_count": 16,
     "metadata": {},
     "output_type": "execute_result"
    }
   ],
   "source": [
    "# extract all child audience from BNC, known as KBNC (according to ./BNC_WORLD_INDEX.XLS)\n",
    "aud_child = ['A/A7/A7A.xml','A/AB/ABX.xml','A/AC/AC5.xml','A/AC/AC4.xml','A/AC/ACB.xml','A/AC/ACV.xml','A/AE/AEB.xml','A/AL/ALS.xml','A/AM/AMB.xml','A/AP/APW.xml','A/AT/AT4.xml','B/B0/B0B.xml','B/B1/B1S.xml','B/B2/B2V.xml','B/B2/B2N.xml','B/BM/BMU.xml','B/BP/BPD.xml','C/C8/C85.xml','C/C8/C8N.xml','C/CA/CA3.xml','C/CA/CAB.xml','C/CA/CAX.xml','C/CC/CCA.xml','C/CE/CE0.xml','C/CE/CEU.xml','C/CF/CFJ.xml','C/CH/CH4.xml','C/CH/CH9.xml','C/CH/CHR.xml','E/EF/EFJ.xml','F/FE/FEH.xml','F/FN/FNS.xml','F/FP/FPT.xml','F/FP/FPV.xml','F/FS/FSL.xml','F/FU/FUB.xml','G/G2/G22.xml','G/G2/G23.xml','G/G2/G24.xml','G/G2/G25.xml','H/H9/H93.xml','H/H9/H9E.xml']\n",
    "kbnc_reader = BNCCorpusReader(root='./corpora/BNC/2554.zip/download/Texts/', fileids=aud_child)\n",
    "kbnc = kbnc_reader.words()\n",
    "\n",
    "len(kbnc)"
   ]
  },
  {
   "cell_type": "code",
   "execution_count": 17,
   "metadata": {
    "collapsed": false,
    "jupyter": {
     "outputs_hidden": false
    },
    "pycharm": {
     "name": "#%%\n"
    }
   },
   "outputs": [],
   "source": [
    "# sample for 1m\n",
    "kbnc_1m = np.random.choice(kbnc, size=1000000, replace=False)"
   ]
  },
  {
   "cell_type": "code",
   "execution_count": 18,
   "metadata": {
    "collapsed": false,
    "jupyter": {
     "outputs_hidden": false
    },
    "pycharm": {
     "name": "#%%\n"
    }
   },
   "outputs": [
    {
     "data": {
      "text/html": [
       "<div>\n",
       "<style scoped>\n",
       "    .dataframe tbody tr th:only-of-type {\n",
       "        vertical-align: middle;\n",
       "    }\n",
       "\n",
       "    .dataframe tbody tr th {\n",
       "        vertical-align: top;\n",
       "    }\n",
       "\n",
       "    .dataframe thead th {\n",
       "        text-align: right;\n",
       "    }\n",
       "</style>\n",
       "<table border=\"1\" class=\"dataframe\">\n",
       "  <thead>\n",
       "    <tr style=\"text-align: right;\">\n",
       "      <th></th>\n",
       "      <th>norm</th>\n",
       "      <th>KBNC_1m_Count</th>\n",
       "    </tr>\n",
       "  </thead>\n",
       "  <tbody>\n",
       "    <tr>\n",
       "      <th>0</th>\n",
       "      <td>lonely</td>\n",
       "      <td>67</td>\n",
       "    </tr>\n",
       "    <tr>\n",
       "      <th>1</th>\n",
       "      <td>as</td>\n",
       "      <td>4560</td>\n",
       "    </tr>\n",
       "    <tr>\n",
       "      <th>2</th>\n",
       "      <td>!</td>\n",
       "      <td>5683</td>\n",
       "    </tr>\n",
       "    <tr>\n",
       "      <th>3</th>\n",
       "      <td>night</td>\n",
       "      <td>459</td>\n",
       "    </tr>\n",
       "    <tr>\n",
       "      <th>4</th>\n",
       "      <td>a</td>\n",
       "      <td>17707</td>\n",
       "    </tr>\n",
       "    <tr>\n",
       "      <th>...</th>\n",
       "      <td>...</td>\n",
       "      <td>...</td>\n",
       "    </tr>\n",
       "    <tr>\n",
       "      <th>25694</th>\n",
       "      <td>saddle-brown</td>\n",
       "      <td>1</td>\n",
       "    </tr>\n",
       "    <tr>\n",
       "      <th>25695</th>\n",
       "      <td>fibre</td>\n",
       "      <td>1</td>\n",
       "    </tr>\n",
       "    <tr>\n",
       "      <th>25696</th>\n",
       "      <td>meshes</td>\n",
       "      <td>1</td>\n",
       "    </tr>\n",
       "    <tr>\n",
       "      <th>25697</th>\n",
       "      <td>jeweller</td>\n",
       "      <td>1</td>\n",
       "    </tr>\n",
       "    <tr>\n",
       "      <th>25698</th>\n",
       "      <td>apart'</td>\n",
       "      <td>1</td>\n",
       "    </tr>\n",
       "  </tbody>\n",
       "</table>\n",
       "<p>25699 rows × 2 columns</p>\n",
       "</div>"
      ],
      "text/plain": [
       "               norm  KBNC_1m_Count\n",
       "0            lonely             67\n",
       "1                as           4560\n",
       "2                 !           5683\n",
       "3             night            459\n",
       "4                 a          17707\n",
       "...             ...            ...\n",
       "25694  saddle-brown              1\n",
       "25695         fibre              1\n",
       "25696        meshes              1\n",
       "25697      jeweller              1\n",
       "25698        apart'              1\n",
       "\n",
       "[25699 rows x 2 columns]"
      ]
     },
     "execution_count": 18,
     "metadata": {},
     "output_type": "execute_result"
    }
   ],
   "source": [
    "# create a word count from dictionary into dataframe\n",
    "kbnc_1m_word_count_dict = nltk.FreqDist(word.lower() for word in kbnc_1m)\n",
    "kbnc_1m_word_count_df = pd.DataFrame.from_dict(kbnc_1m_word_count_dict, orient='index').reset_index()\n",
    "kbnc_1m_word_count_df = kbnc_1m_word_count_df.rename(columns={'index':'norm', 0:'KBNC_1m_Count'})\n",
    "\n",
    "kbnc_1m_word_count_df"
   ]
  },
  {
   "cell_type": "code",
   "execution_count": 19,
   "metadata": {
    "collapsed": false,
    "jupyter": {
     "outputs_hidden": false
    },
    "pycharm": {
     "name": "#%%\n"
    }
   },
   "outputs": [],
   "source": [
    "kbnc_1m_word_count_df.to_csv('./sampled_count/KBNC_1m_Count.csv', index=False)"
   ]
  }
 ],
 "metadata": {
  "kernelspec": {
   "display_name": "Python 3 (ipykernel)",
   "language": "python",
   "name": "python3"
  },
  "language_info": {
   "codemirror_mode": {
    "name": "ipython",
    "version": 3
   },
   "file_extension": ".py",
   "mimetype": "text/x-python",
   "name": "python",
   "nbconvert_exporter": "python",
   "pygments_lexer": "ipython3",
   "version": "3.9.7"
  }
 },
 "nbformat": 4,
 "nbformat_minor": 4
}