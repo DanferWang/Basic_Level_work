version https://git-lfs.github.com/spec/v1
oid sha256:ff066b169fc30e9ae7c41a6ae5f8b56a46dfc2d61b00c9ac4a58f7b1b8f8bc28
size 6010
