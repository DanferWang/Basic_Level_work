{
 "cells": [
  {
   "cell_type": "code",
   "execution_count": 14,
   "metadata": {
    "collapsed": true
   },
   "outputs": [],
   "source": [
    "import nltk\n",
    "import pandas as pd\n",
    "import numpy as np\n",
    "\n",
    "from nltk.corpus.reader.bnc import BNCCorpusReader"
   ]
  },
  {
   "cell_type": "markdown",
   "source": [
    "## BNC Full"
   ],
   "metadata": {
    "collapsed": false
   }
  },
  {
   "cell_type": "code",
   "execution_count": 3,
   "outputs": [
    {
     "data": {
      "text/plain": "111978070"
     },
     "execution_count": 3,
     "metadata": {},
     "output_type": "execute_result"
    }
   ],
   "source": [
    "# download BNC Full\n",
    "bnc_full_reader = BNCCorpusReader(root='./2554.zip/download/Texts/', fileids=r'[A-K]/\\w*/\\w*\\.xml')\n",
    "bnc_full = bnc_full_reader.words()\n",
    "\n",
    "len(bnc_full)"
   ],
   "metadata": {
    "collapsed": false,
    "pycharm": {
     "name": "#%%\n"
    }
   }
  },
  {
   "cell_type": "code",
   "execution_count": null,
   "outputs": [],
   "source": [
    "# sample for 100m, 5.7m, 2.4m, 1m\n",
    "bnc_5_7m = np.random.choice(bnc_full, 5700000)\n",
    "bnc_2_4m = np.random.choice(bnc_full, 2400000)\n",
    "bnc_1m = np.random.choice(bnc_full, 1000000)"
   ],
   "metadata": {
    "collapsed": false,
    "pycharm": {
     "name": "#%%\n",
     "is_executing": true
    }
   }
  },
  {
   "cell_type": "code",
   "execution_count": null,
   "outputs": [],
   "source": [
    "# create a word count from dictionary into dataframe\n",
    "bnc_100m_word_count_dict = nltk.FreqDist(bnc_full)\n",
    "bnc_100m_word_count_df = pd.DataFrame.from_dict(bnc_100m_word_count_dict, orient='index').reset_index()\n",
    "bnc_100m_word_count_df = bnc_100m_word_count_df.rename(columns={'index':'norm', 0:'BNC_100m_Count'})\n",
    "\n",
    "bnc_5_7m_word_count_dict = nltk.FreqDist(bnc_5_7m)\n",
    "bnc_5_7m_word_count_df = pd.DataFrame.from_dict(bnc_5_7m_word_count_dict, orient='index').reset_index()\n",
    "bnc_5_7m_word_count_df = bnc_5_7m_word_count_df.rename(columns={'index':'norm', 0:'BNC_5_7m_Count'})\n",
    "\n",
    "bnc_2_4m_word_count_dict = nltk.FreqDist(bnc_2_4m)\n",
    "bnc_2_4m_word_count_df = pd.DataFrame.from_dict(bnc_2_4m_word_count_dict, orient='index').reset_index()\n",
    "bnc_2_4m_word_count_df = bnc_2_4m_word_count_df.rename(columns={'index':'norm', 0:'BNC_2_4m_Count'})\n",
    "\n",
    "bnc_1m_word_count_dict = nltk.FreqDist(bnc_1m)\n",
    "bnc_1m_word_count_df = pd.DataFrame.from_dict(bnc_1m_word_count_dict, orient='index').reset_index()\n",
    "bnc_1m_word_count_df = bnc_1m_word_count_df.rename(columns={'index':'norm', 0:'BNC_1m_Count'})\n",
    "\n",
    "bnc_1m_word_count_df"
   ],
   "metadata": {
    "collapsed": false,
    "pycharm": {
     "name": "#%%\n",
     "is_executing": true
    }
   }
  },
  {
   "cell_type": "code",
   "execution_count": 1,
   "outputs": [
    {
     "ename": "NameError",
     "evalue": "name 'bnc_full_word_count_df' is not defined",
     "output_type": "error",
     "traceback": [
      "\u001B[1;31m---------------------------------------------------------------------------\u001B[0m",
      "\u001B[1;31mNameError\u001B[0m                                 Traceback (most recent call last)",
      "\u001B[1;32m~\\AppData\\Local\\Temp/ipykernel_5260/1201381712.py\u001B[0m in \u001B[0;36m<module>\u001B[1;34m\u001B[0m\n\u001B[1;32m----> 1\u001B[1;33m \u001B[0mbnc_full_word_count_df\u001B[0m\u001B[1;33m.\u001B[0m\u001B[0mto_csv\u001B[0m\u001B[1;33m(\u001B[0m\u001B[1;34m'./BNC_Full_Count.csv'\u001B[0m\u001B[1;33m,\u001B[0m \u001B[0mindex\u001B[0m\u001B[1;33m=\u001B[0m\u001B[1;32mFalse\u001B[0m\u001B[1;33m)\u001B[0m\u001B[1;33m\u001B[0m\u001B[1;33m\u001B[0m\u001B[0m\n\u001B[0m",
      "\u001B[1;31mNameError\u001B[0m: name 'bnc_full_word_count_df' is not defined"
     ]
    }
   ],
   "source": [
    "bnc_100m_word_count_df.to_csv('./BNC_100m_Count.csv', index=False)\n",
    "bnc_5_7m_word_count_df.to_csv('./BNC_5_7m_Count.csv', index=False)\n",
    "bnc_2_4m_word_count_df.to_csv('./BNC_2_4m_Count.csv', index=False)\n",
    "bnc_1m_word_count_df.to_csv('./BNC_1m_Count.csv', index=False)"
   ],
   "metadata": {
    "collapsed": false,
    "pycharm": {
     "name": "#%%\n"
    }
   }
  },
  {
   "cell_type": "markdown",
   "source": [],
   "metadata": {
    "collapsed": false
   }
  },
  {
   "cell_type": "code",
   "execution_count": null,
   "outputs": [],
   "source": [],
   "metadata": {
    "collapsed": false,
    "pycharm": {
     "name": "#%%\n"
    }
   }
  },
  {
   "cell_type": "markdown",
   "source": [
    "## KBNC"
   ],
   "metadata": {
    "collapsed": false
   }
  },
  {
   "cell_type": "code",
   "execution_count": 4,
   "outputs": [
    {
     "data": {
      "text/plain": "1098264"
     },
     "execution_count": 4,
     "metadata": {},
     "output_type": "execute_result"
    }
   ],
   "source": [
    "# extract all child audience from BNC, known as KBNC (according to ./BNC_WORLD_INDEX.XLS)\n",
    "aud_child = ['A/A7/A7A.xml','A/AB/ABX.xml','A/AC/AC5.xml','A/AC/AC4.xml','A/AC/ACB.xml','A/AC/ACV.xml','A/AE/AEB.xml','A/AL/ALS.xml','A/AM/AMB.xml','A/AP/APW.xml','A/AT/AT4.xml','B/B0/B0B.xml','B/B1/B1S.xml','B/B2/B2V.xml','B/B2/B2N.xml','B/BM/BMU.xml','B/BP/BPD.xml','C/C8/C85.xml','C/C8/C8N.xml','C/CA/CA3.xml','C/CA/CAB.xml','C/CA/CAX.xml','C/CC/CCA.xml','C/CE/CE0.xml','C/CE/CEU.xml','C/CF/CFJ.xml','C/CH/CH4.xml','C/CH/CH9.xml','C/CH/CHR.xml','E/EF/EFJ.xml','F/FE/FEH.xml','F/FN/FNS.xml','F/FP/FPT.xml','F/FP/FPV.xml','F/FS/FSL.xml','F/FU/FUB.xml','G/G2/G22.xml','G/G2/G23.xml','G/G2/G24.xml','G/G2/G25.xml','H/H9/H93.xml','H/H9/H9E.xml']\n",
    "kbnc_reader = BNCCorpusReader(root='./2554.zip/download/Texts/', fileids=aud_child)\n",
    "kbnc = kbnc_reader.words()\n",
    "\n",
    "len(kbnc)"
   ],
   "metadata": {
    "collapsed": false,
    "pycharm": {
     "name": "#%%\n"
    }
   }
  },
  {
   "cell_type": "code",
   "execution_count": 10,
   "outputs": [],
   "source": [
    "# sample for 1m\n",
    "kbnc_1m = np.random.choice(kbnc, size=1000000, replace=False)"
   ],
   "metadata": {
    "collapsed": false,
    "pycharm": {
     "name": "#%%\n"
    }
   }
  },
  {
   "cell_type": "code",
   "execution_count": 12,
   "outputs": [
    {
     "data": {
      "text/plain": "               norm  KBNC_1m_Count\n0           stopped            325\n1            Doctor             94\n2            slowed             24\n3           prayers             15\n4                up           3676\n...             ...            ...\n30266       Citizen              1\n30267      Right-ho              1\n30268  amphitheatre              1\n30269       Fascist              1\n30270         ROMAN              1\n\n[30271 rows x 2 columns]",
      "text/html": "<div>\n<style scoped>\n    .dataframe tbody tr th:only-of-type {\n        vertical-align: middle;\n    }\n\n    .dataframe tbody tr th {\n        vertical-align: top;\n    }\n\n    .dataframe thead th {\n        text-align: right;\n    }\n</style>\n<table border=\"1\" class=\"dataframe\">\n  <thead>\n    <tr style=\"text-align: right;\">\n      <th></th>\n      <th>norm</th>\n      <th>KBNC_1m_Count</th>\n    </tr>\n  </thead>\n  <tbody>\n    <tr>\n      <th>0</th>\n      <td>stopped</td>\n      <td>325</td>\n    </tr>\n    <tr>\n      <th>1</th>\n      <td>Doctor</td>\n      <td>94</td>\n    </tr>\n    <tr>\n      <th>2</th>\n      <td>slowed</td>\n      <td>24</td>\n    </tr>\n    <tr>\n      <th>3</th>\n      <td>prayers</td>\n      <td>15</td>\n    </tr>\n    <tr>\n      <th>4</th>\n      <td>up</td>\n      <td>3676</td>\n    </tr>\n    <tr>\n      <th>...</th>\n      <td>...</td>\n      <td>...</td>\n    </tr>\n    <tr>\n      <th>30266</th>\n      <td>Citizen</td>\n      <td>1</td>\n    </tr>\n    <tr>\n      <th>30267</th>\n      <td>Right-ho</td>\n      <td>1</td>\n    </tr>\n    <tr>\n      <th>30268</th>\n      <td>amphitheatre</td>\n      <td>1</td>\n    </tr>\n    <tr>\n      <th>30269</th>\n      <td>Fascist</td>\n      <td>1</td>\n    </tr>\n    <tr>\n      <th>30270</th>\n      <td>ROMAN</td>\n      <td>1</td>\n    </tr>\n  </tbody>\n</table>\n<p>30271 rows × 2 columns</p>\n</div>"
     },
     "execution_count": 12,
     "metadata": {},
     "output_type": "execute_result"
    }
   ],
   "source": [
    "# create a word count from dictionary into dataframe\n",
    "kbnc_1m_word_count_dict = nltk.FreqDist(kbnc_1m)\n",
    "kbnc_1m_word_count_df = pd.DataFrame.from_dict(kbnc_1m_word_count_dict, orient='index').reset_index()\n",
    "kbnc_1m_word_count_df = kbnc_1m_word_count_df.rename(columns={'index':'norm', 0:'KBNC_1m_Count'})\n",
    "\n",
    "kbnc_1m_word_count_df"
   ],
   "metadata": {
    "collapsed": false,
    "pycharm": {
     "name": "#%%\n"
    }
   }
  },
  {
   "cell_type": "code",
   "execution_count": 14,
   "outputs": [],
   "source": [
    "kbnc_1m_word_count_df.to_csv('./KBNC_1m_Count.csv', index=False)"
   ],
   "metadata": {
    "collapsed": false,
    "pycharm": {
     "name": "#%%\n"
    }
   }
  }
 ],
 "metadata": {
  "kernelspec": {
   "display_name": "Python 3",
   "language": "python",
   "name": "python3"
  },
  "language_info": {
   "codemirror_mode": {
    "name": "ipython",
    "version": 2
   },
   "file_extension": ".py",
   "mimetype": "text/x-python",
   "name": "python",
   "nbconvert_exporter": "python",
   "pygments_lexer": "ipython2",
   "version": "2.7.6"
  }
 },
 "nbformat": 4,
 "nbformat_minor": 0
}