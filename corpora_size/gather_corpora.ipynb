{
 "cells": [
  {
   "cell_type": "code",
   "execution_count": 6,
   "metadata": {
    "collapsed": true
   },
   "outputs": [],
   "source": [
    "import nltk\n",
    "import pandas as pd\n",
    "\n",
    "from nltk.corpus.reader.bnc import BNCCorpusReader"
   ]
  },
  {
   "cell_type": "markdown",
   "source": [
    "## BNC Full"
   ],
   "metadata": {
    "collapsed": false
   }
  },
  {
   "cell_type": "code",
   "execution_count": 5,
   "outputs": [
    {
     "data": {
      "text/plain": "111978070"
     },
     "execution_count": 5,
     "metadata": {},
     "output_type": "execute_result"
    }
   ],
   "source": [
    "# download BNC Full\n",
    "bnc_full_reader = BNCCorpusReader(root='./2554.zip/download/Texts/', fileids=r'[A-K]/\\w*/\\w*\\.xml')\n",
    "bnc_full = bnc_full_reader.words()\n",
    "\n",
    "len(bnc_full)"
   ],
   "metadata": {
    "collapsed": false,
    "pycharm": {
     "name": "#%%\n"
    }
   }
  },
  {
   "cell_type": "code",
   "execution_count": 7,
   "outputs": [
    {
     "data": {
      "text/plain": "             norm  BNC_Full_Count\n0       FACTSHEET              17\n1            WHAT            1001\n2              IS            1767\n3            AIDS            1836\n4               ?          387952\n...           ...             ...\n762476  sleeptalk               1\n762477      Danii               2\n762478      poshy               1\n762479    Fridged               1\n762480    Gideons               2\n\n[762481 rows x 2 columns]",
      "text/html": "<div>\n<style scoped>\n    .dataframe tbody tr th:only-of-type {\n        vertical-align: middle;\n    }\n\n    .dataframe tbody tr th {\n        vertical-align: top;\n    }\n\n    .dataframe thead th {\n        text-align: right;\n    }\n</style>\n<table border=\"1\" class=\"dataframe\">\n  <thead>\n    <tr style=\"text-align: right;\">\n      <th></th>\n      <th>norm</th>\n      <th>BNC_Full_Count</th>\n    </tr>\n  </thead>\n  <tbody>\n    <tr>\n      <th>0</th>\n      <td>FACTSHEET</td>\n      <td>17</td>\n    </tr>\n    <tr>\n      <th>1</th>\n      <td>WHAT</td>\n      <td>1001</td>\n    </tr>\n    <tr>\n      <th>2</th>\n      <td>IS</td>\n      <td>1767</td>\n    </tr>\n    <tr>\n      <th>3</th>\n      <td>AIDS</td>\n      <td>1836</td>\n    </tr>\n    <tr>\n      <th>4</th>\n      <td>?</td>\n      <td>387952</td>\n    </tr>\n    <tr>\n      <th>...</th>\n      <td>...</td>\n      <td>...</td>\n    </tr>\n    <tr>\n      <th>762476</th>\n      <td>sleeptalk</td>\n      <td>1</td>\n    </tr>\n    <tr>\n      <th>762477</th>\n      <td>Danii</td>\n      <td>2</td>\n    </tr>\n    <tr>\n      <th>762478</th>\n      <td>poshy</td>\n      <td>1</td>\n    </tr>\n    <tr>\n      <th>762479</th>\n      <td>Fridged</td>\n      <td>1</td>\n    </tr>\n    <tr>\n      <th>762480</th>\n      <td>Gideons</td>\n      <td>2</td>\n    </tr>\n  </tbody>\n</table>\n<p>762481 rows × 2 columns</p>\n</div>"
     },
     "execution_count": 7,
     "metadata": {},
     "output_type": "execute_result"
    }
   ],
   "source": [
    "# create a word count from dictionary into dataframe\n",
    "bnc_full_word_count_dict = nltk.FreqDist(bnc_full)\n",
    "bnc_full_word_count_df = pd.DataFrame.from_dict(bnc_full_word_count_dict, orient='index').reset_index()\n",
    "bnc_full_word_count_df = bnc_full_word_count_df.rename(columns={'index':'norm', 0:'BNC_Full_Count'})\n",
    "\n",
    "bnc_full_word_count_df"
   ],
   "metadata": {
    "collapsed": false,
    "pycharm": {
     "name": "#%%\n"
    }
   }
  },
  {
   "cell_type": "code",
   "execution_count": 8,
   "outputs": [],
   "source": [
    "bnc_full_word_count_df.to_csv('./BNC_Full_Count.csv', index=False)"
   ],
   "metadata": {
    "collapsed": false,
    "pycharm": {
     "name": "#%%\n"
    }
   }
  },
  {
   "cell_type": "markdown",
   "source": [
    "## KBNC"
   ],
   "metadata": {
    "collapsed": false,
    "pycharm": {
     "name": "#%% md\n"
    }
   }
  },
  {
   "cell_type": "code",
   "execution_count": null,
   "outputs": [],
   "source": [
    "# extract all child audience from BNC, known as KBNC (according to ./BNC_WORLD_INDEX.XLS)\n",
    "aud_child = ['A/A7/A7A.xml','A/AB/ABX.xml','A/AC/AC5.xml','A/AC/AC4.xml','A/AC/ACB.xml','A/AC/ACV.xml','A/AE/AEB.xml','A/AL/ALS.xml','A/AM/AMB.xml','A/AP/APW.xml','A/AT/AT4.xml','B/B0/B0B.xml','B/B1/B1S.xml','B/B2/B2v.xml','B/B2/B2N.xml','B/BM/BMU.xml','B/BP/BPD.xml','C/C8/C85.xml','C/C8/C8N.xml','C/CA/CA3.xml','C/CA/CAB.xml','C/CA/CAX.xml','C/CC/CCA.xml','C/CE/CE0.xml','C/CE/CEU.xml','C/CF/CFJ.xml','C/CH/CH4.xml','C/CH/CH9.xml','C/CH/CHR.xml','E/EF/EFJ.xml','F/FE/FEH.xml','F/FN/FNS.xml','F/FP/FPT.xml','F/FP/FPV.xml','F/FS/FSL.xml','F/FU/FUB.xml','G/G2/G22.xml','G/G2/G23.xml','G/G2/G24.xml','G/G2/G25.xml','H/H9/H93.xml','H/H9/H9E.xml']\n",
    "kbnc_reader = BNCCorpusReader(root='./2554.zip/download/Texts/', fileids=aud_child)\n",
    "kbnc = kbnc_reader.words()\n",
    "\n",
    "len(kbnc)"
   ],
   "metadata": {
    "collapsed": false,
    "pycharm": {
     "name": "#%%\n"
    }
   }
  },
  {
   "cell_type": "code",
   "execution_count": null,
   "outputs": [],
   "source": [
    "# create a word count from dictionary into dataframe\n",
    "kbnc_word_count_dict = nltk.FreqDist(kbnc)\n",
    "kbnc_word_count_df = pd.DataFrame.from_dict(kbnc_word_count_dict, orient='index').reset_index()\n",
    "kbnc_word_count_df = kbnc_word_count_df.rename(columns={'index':'norm', 0:'KBNC_Count'})"
   ],
   "metadata": {
    "collapsed": false,
    "pycharm": {
     "name": "#%%\n"
    }
   }
  }
 ],
 "metadata": {
  "kernelspec": {
   "display_name": "Python 3",
   "language": "python",
   "name": "python3"
  },
  "language_info": {
   "codemirror_mode": {
    "name": "ipython",
    "version": 2
   },
   "file_extension": ".py",
   "mimetype": "text/x-python",
   "name": "python",
   "nbconvert_exporter": "python",
   "pygments_lexer": "ipython2",
   "version": "2.7.6"
  }
 },
 "nbformat": 4,
 "nbformat_minor": 0
}