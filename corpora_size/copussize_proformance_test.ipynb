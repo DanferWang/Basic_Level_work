{
 "cells": [
  {
   "cell_type": "code",
   "execution_count": 1,
   "metadata": {
    "collapsed": true,
    "trusted": false
   },
   "outputs": [],
   "source": [
    "import numpy as np\n",
    "import pandas as pd\n",
    "import scipy.stats as stat"
   ]
  },
  {
   "cell_type": "markdown",
   "source": [
    "## In GlobalModel size v.s kappa / balanced acc"
   ],
   "metadata": {
    "collapsed": false,
    "pycharm": {
     "name": "#%% md\n"
    }
   }
  },
  {
   "cell_type": "code",
   "execution_count": 115,
   "outputs": [
    {
     "data": {
      "text/plain": "(0.3556051074343223, 0.23032400254552432)"
     },
     "execution_count": 115,
     "metadata": {},
     "output_type": "execute_result"
    }
   ],
   "source": [
    "# CABNC\n",
    "cabnc_res = np.load('./several_times_sampling/GlobalModelTest/50_times_sampling_CABNC.npy', allow_pickle=True).item()\n",
    "res_df = pd.DataFrame.from_dict(cabnc_res)\n",
    "kappa_df = pd.DataFrame()\n",
    "balanced_acc_df = pd.DataFrame()\n",
    "for index, row in res_df.iterrows():\n",
    "    for counter in range(50):\n",
    "        kappa_df.at[index, counter] = row[counter]['kappa']\n",
    "        balanced_acc_df.at[index, counter] = row[counter]['balanced acc']\n",
    "\n",
    "# Wilcoxon rank-sum test\n",
    "# kappa\n",
    "sample_1 = kappa_df.iloc[0]\n",
    "sample_2 = kappa_df.iloc[1]\n",
    "kappa_wilcoxon_p = stat.ranksums(sample_1, sample_2, alternative='two-sided')[1]\n",
    "# balanced accuracy\n",
    "sample_1 = balanced_acc_df.iloc[0]\n",
    "sample_2 = balanced_acc_df.iloc[1]\n",
    "balanced_acc_wilcoxon_p = stat.ranksums(sample_1, sample_2)[1]\n",
    "\n",
    "(kappa_wilcoxon_p, balanced_acc_wilcoxon_p)"
   ],
   "metadata": {
    "collapsed": false,
    "pycharm": {
     "name": "#%%\n"
    },
    "trusted": false
   }
  },
  {
   "cell_type": "code",
   "execution_count": 12,
   "outputs": [
    {
     "data": {
      "text/plain": "(0.8221974462828389, 0.11516200127276216)"
     },
     "execution_count": 12,
     "metadata": {},
     "output_type": "execute_result"
    }
   ],
   "source": [
    "# CABNC\n",
    "cabnc_res = np.load('./several_times_sampling/GlobalModelTest/50_times_sampling_CABNC.npy', allow_pickle=True).item()\n",
    "res_df = pd.DataFrame.from_dict(cabnc_res)\n",
    "kappa_df = pd.DataFrame()\n",
    "balanced_acc_df = pd.DataFrame()\n",
    "for index, row in res_df.iterrows():\n",
    "    for counter in range(50):\n",
    "        kappa_df.at[index, counter] = row[counter]['kappa']\n",
    "        balanced_acc_df.at[index, counter] = row[counter]['balanced acc']\n",
    "\n",
    "# Wilcoxon rank-sum test\n",
    "# kappa\n",
    "sample_1 = kappa_df.iloc[0]\n",
    "sample_2 = kappa_df.iloc[1]\n",
    "kappa_wilcoxon_p = stat.ranksums(sample_1, sample_2, alternative='greater')[1]\n",
    "# balanced accuracy\n",
    "sample_1 = balanced_acc_df.iloc[0]\n",
    "sample_2 = balanced_acc_df.iloc[1]\n",
    "balanced_acc_wilcoxon_p = stat.ranksums(sample_1, sample_2, alternative='greater')[1]\n",
    "\n",
    "(kappa_wilcoxon_p, balanced_acc_wilcoxon_p)"
   ],
   "metadata": {
    "collapsed": false,
    "pycharm": {
     "name": "#%%\n"
    },
    "trusted": false
   }
  },
  {
   "cell_type": "code",
   "execution_count": 18,
   "outputs": [
    {
     "data": {
      "text/plain": "(0.6578988211912251, 0.4656645468492944)"
     },
     "execution_count": 18,
     "metadata": {},
     "output_type": "execute_result"
    }
   ],
   "source": [
    "# CHILDES\n",
    "childes_res = np.load('./several_times_sampling/GlobalModelTest/50_times_sampling_CHILDES.npy', allow_pickle=True).item()\n",
    "res_df = pd.DataFrame.from_dict(childes_res)\n",
    "kappa_df = pd.DataFrame()\n",
    "balanced_acc_df = pd.DataFrame()\n",
    "for index, row in res_df.iterrows():\n",
    "    for counter in range(50):\n",
    "        kappa_df.at[index, counter] = row[counter]['kappa']\n",
    "        balanced_acc_df.at[index, counter] = row[counter]['balanced acc']\n",
    "\n",
    "# Wilcoxon rank-sum test\n",
    "# kappa\n",
    "sample_1 = kappa_df.iloc[1]\n",
    "sample_2 = kappa_df.iloc[2]\n",
    "kappa_wilcoxon_p = stat.ranksums(sample_1, sample_2, alternative='greater')[1]\n",
    "# balanced accuracy\n",
    "sample_1 = balanced_acc_df.iloc[1]\n",
    "sample_2 = balanced_acc_df.iloc[2]\n",
    "balanced_acc_wilcoxon_p = stat.ranksums(sample_1, sample_2, alternative='greater')[1]\n",
    "\n",
    "(kappa_wilcoxon_p, balanced_acc_wilcoxon_p)"
   ],
   "metadata": {
    "collapsed": false,
    "pycharm": {
     "name": "#%%\n"
    },
    "trusted": false
   }
  },
  {
   "cell_type": "code",
   "execution_count": 32,
   "outputs": [
    {
     "data": {
      "text/plain": "(9.256234556644753e-09, 1.9225608981736395e-08)"
     },
     "execution_count": 32,
     "metadata": {},
     "output_type": "execute_result"
    }
   ],
   "source": [
    "# BNC\n",
    "bnc_res = np.load('./several_times_sampling/GlobalModelTest/50_times_sampling_BNC.npy', allow_pickle=True).item()\n",
    "res_df = pd.DataFrame.from_dict(bnc_res)\n",
    "kappa_df = pd.DataFrame()\n",
    "balanced_acc_df = pd.DataFrame()\n",
    "for index, row in res_df.iterrows():\n",
    "    for counter in range(50):\n",
    "        kappa_df.at[index, counter] = row[counter]['kappa']\n",
    "        balanced_acc_df.at[index, counter] = row[counter]['balanced acc']\n",
    "\n",
    "# Wilcoxon rank-sum test\n",
    "# kappa\n",
    "sample_1 = kappa_df.iloc[2]\n",
    "sample_2 = kappa_df.iloc[3]\n",
    "kappa_wilcoxon_p = stat.ranksums(sample_1, sample_2, alternative='less')[1]\n",
    "# balanced accuracy\n",
    "sample_1 = balanced_acc_df.iloc[2]\n",
    "sample_2 = balanced_acc_df.iloc[3]\n",
    "balanced_acc_wilcoxon_p = stat.ranksums(sample_1, sample_2, alternative='less')[1]\n",
    "\n",
    "(kappa_wilcoxon_p, balanced_acc_wilcoxon_p)"
   ],
   "metadata": {
    "collapsed": false,
    "pycharm": {
     "name": "#%%\n"
    },
    "trusted": false
   }
  },
  {
   "cell_type": "markdown",
   "source": [
    "## In LocalModel size v.s kappa / balanced acc"
   ],
   "metadata": {
    "collapsed": false,
    "pycharm": {
     "name": "#%% md\n"
    }
   }
  },
  {
   "cell_type": "code",
   "execution_count": 34,
   "outputs": [
    {
     "data": {
      "text/plain": "(0.8780017478800584, 0.9999999223645312)"
     },
     "execution_count": 34,
     "metadata": {},
     "output_type": "execute_result"
    }
   ],
   "source": [
    "# CABNC\n",
    "cabnc_res = np.load('./several_times_sampling/LocalModelTest/LocalModel_inte_50_times_sampling_CABNC.npy', allow_pickle=True).item()\n",
    "res_df = pd.DataFrame.from_dict(cabnc_res)\n",
    "kappa_df = pd.DataFrame()\n",
    "balanced_acc_df = pd.DataFrame()\n",
    "for index, row in res_df.iterrows():\n",
    "    for counter in range(50):\n",
    "        kappa_df.at[index, counter] = row[counter]['kappa']\n",
    "        balanced_acc_df.at[index, counter] = row[counter]['balanced acc']\n",
    "\n",
    "# Wilcoxon rank-sum test\n",
    "# kappa\n",
    "sample_1 = kappa_df.iloc[0]\n",
    "sample_2 = kappa_df.iloc[1]\n",
    "kappa_wilcoxon_p = stat.ranksums(sample_1, sample_2, alternative='greater')[1]\n",
    "# balanced accuracy\n",
    "sample_1 = balanced_acc_df.iloc[0]\n",
    "sample_2 = balanced_acc_df.iloc[1]\n",
    "balanced_acc_wilcoxon_p = stat.ranksums(sample_1, sample_2, alternative='greater')[1]\n",
    "\n",
    "(kappa_wilcoxon_p, balanced_acc_wilcoxon_p)"
   ],
   "metadata": {
    "collapsed": false,
    "pycharm": {
     "name": "#%%\n"
    },
    "trusted": false
   }
  },
  {
   "cell_type": "code",
   "execution_count": 40,
   "outputs": [
    {
     "data": {
      "text/plain": "(0.07481941634963107, 0.06555405382799963)"
     },
     "execution_count": 40,
     "metadata": {},
     "output_type": "execute_result"
    }
   ],
   "source": [
    "# CABNC\n",
    "childes_res = np.load('./several_times_sampling/LocalModelTest/LocalModel_inte_50_times_sampling_CHILDES.npy', allow_pickle=True).item()\n",
    "res_df = pd.DataFrame.from_dict(childes_res)\n",
    "kappa_df = pd.DataFrame()\n",
    "balanced_acc_df = pd.DataFrame()\n",
    "for index, row in res_df.iterrows():\n",
    "    for counter in range(50):\n",
    "        kappa_df.at[index, counter] = row[counter]['kappa']\n",
    "        balanced_acc_df.at[index, counter] = row[counter]['balanced acc']\n",
    "\n",
    "# Wilcoxon rank-sum test\n",
    "# kappa\n",
    "sample_1 = kappa_df.iloc[1]\n",
    "sample_2 = kappa_df.iloc[2]\n",
    "kappa_wilcoxon_p = stat.ranksums(sample_1, sample_2, alternative='less')[1]\n",
    "# balanced accuracy\n",
    "sample_1 = balanced_acc_df.iloc[1]\n",
    "sample_2 = balanced_acc_df.iloc[2]\n",
    "balanced_acc_wilcoxon_p = stat.ranksums(sample_1, sample_2, alternative='less')[1]\n",
    "\n",
    "(kappa_wilcoxon_p, balanced_acc_wilcoxon_p)"
   ],
   "metadata": {
    "collapsed": false,
    "pycharm": {
     "name": "#%%\n"
    },
    "trusted": false
   }
  },
  {
   "cell_type": "code",
   "execution_count": 44,
   "outputs": [
    {
     "data": {
      "text/plain": "(0.9934635131995869, 0.9988445743477299)"
     },
     "execution_count": 44,
     "metadata": {},
     "output_type": "execute_result"
    }
   ],
   "source": [
    "# BNC\n",
    "bnc_res = np.load('./several_times_sampling/LocalModelTest/LocalModel_inte_50_times_sampling_BNC.npy', allow_pickle=True).item()\n",
    "res_df = pd.DataFrame.from_dict(bnc_res)\n",
    "kappa_df = pd.DataFrame()\n",
    "balanced_acc_df = pd.DataFrame()\n",
    "for index, row in res_df.iterrows():\n",
    "    for counter in range(50):\n",
    "        kappa_df.at[index, counter] = row[counter]['kappa']\n",
    "        balanced_acc_df.at[index, counter] = row[counter]['balanced acc']\n",
    "\n",
    "# Wilcoxon rank-sum test\n",
    "# kappa\n",
    "sample_1 = kappa_df.iloc[0]\n",
    "sample_2 = kappa_df.iloc[2]\n",
    "kappa_wilcoxon_p = stat.ranksums(sample_1, sample_2, alternative='greater')[1]\n",
    "# balanced accuracy\n",
    "sample_1 = balanced_acc_df.iloc[0]\n",
    "sample_2 = balanced_acc_df.iloc[2]\n",
    "balanced_acc_wilcoxon_p = stat.ranksums(sample_1, sample_2, alternative='greater')[1]\n",
    "\n",
    "(kappa_wilcoxon_p, balanced_acc_wilcoxon_p)"
   ],
   "metadata": {
    "collapsed": false,
    "pycharm": {
     "name": "#%%\n"
    },
    "trusted": false
   }
  },
  {
   "cell_type": "markdown",
   "source": "## In TransferModel size v.s kappa / balanced acc",
   "metadata": {
    "collapsed": false
   }
  },
  {
   "cell_type": "code",
   "source": "# CABNC\ncabnc_res = np.load('./several_times_sampling/TransferModelTest/TransferModel_inte_50_times_sampling_CABNC.npy', allow_pickle=True).item()\nres_df = pd.DataFrame.from_dict(cabnc_res)\nkappa_df = pd.DataFrame()\nbalanced_acc_df = pd.DataFrame()\nfor index, row in res_df.iterrows():\n    for counter in range(50):\n        kappa_df.at[index, counter] = row[counter]['kappa']\n        balanced_acc_df.at[index, counter] = row[counter]['balanced acc']\n\n# Wilcoxon rank-sum test\n# kappa\nsample_1 = kappa_df.iloc[0]\nsample_2 = kappa_df.iloc[1]\nkappa_wilcoxon_p = stat.ranksums(sample_1, sample_2)[1]\n# balanced accuracy\nsample_1 = balanced_acc_df.iloc[0]\nsample_2 = balanced_acc_df.iloc[1]\nbalanced_acc_wilcoxon_p = stat.ranksums(sample_1, sample_2)[1]\n\n(kappa_wilcoxon_p, balanced_acc_wilcoxon_p)",
   "metadata": {
    "collapsed": false,
    "pycharm": {
     "name": "#%%\n"
    },
    "trusted": false
   },
   "execution_count": 2,
   "outputs": [
    {
     "data": {
      "text/plain": "(1.592195303488379e-05, 0.00051183456542517)"
     },
     "execution_count": 2,
     "metadata": {},
     "output_type": "execute_result"
    }
   ]
  },
  {
   "cell_type": "code",
   "execution_count": 6,
   "outputs": [
    {
     "data": {
      "text/plain": "(0.07530445719468767, 0.08605938621387929)"
     },
     "execution_count": 6,
     "metadata": {},
     "output_type": "execute_result"
    }
   ],
   "source": "# CABNC\nchildes_res = np.load('./several_times_sampling/TransferModelTest/TransferModel_inte_50_times_sampling_CHILDES.npy', allow_pickle=True).item()\nres_df = pd.DataFrame.from_dict(childes_res)\nkappa_df = pd.DataFrame()\nbalanced_acc_df = pd.DataFrame()\nfor index, row in res_df.iterrows():\n    for counter in range(50):\n        kappa_df.at[index, counter] = row[counter]['kappa']\n        balanced_acc_df.at[index, counter] = row[counter]['balanced acc']\n\n# Wilcoxon rank-sum test\n# kappa\nsample_1 = kappa_df.iloc[1]\nsample_2 = kappa_df.iloc[2]\nkappa_wilcoxon_p = stat.ranksums(sample_1, sample_2)[1]\n# balanced accuracy\nsample_1 = balanced_acc_df.iloc[1]\nsample_2 = balanced_acc_df.iloc[2]\nbalanced_acc_wilcoxon_p = stat.ranksums(sample_1, sample_2)[1]\n\n(kappa_wilcoxon_p, balanced_acc_wilcoxon_p)",
   "metadata": {
    "collapsed": false,
    "pycharm": {
     "name": "#%%\n"
    },
    "trusted": false
   }
  },
  {
   "cell_type": "code",
   "execution_count": 14,
   "outputs": [
    {
     "data": {
      "text/plain": "(6.742339030317783e-06, 0.33794126596326657)"
     },
     "execution_count": 14,
     "metadata": {},
     "output_type": "execute_result"
    }
   ],
   "source": "# BNC\nbnc_res = np.load('./several_times_sampling/TransferModelTest/TransferModel_inte_50_times_sampling_BNC.npy', allow_pickle=True).item()\nres_df = pd.DataFrame.from_dict(bnc_res)\nkappa_df = pd.DataFrame()\nbalanced_acc_df = pd.DataFrame()\nfor index, row in res_df.iterrows():\n    for counter in range(50):\n        kappa_df.at[index, counter] = row[counter]['kappa']\n        balanced_acc_df.at[index, counter] = row[counter]['balanced acc']\n\n# Wilcoxon rank-sum test\n# kappa\nsample_1 = kappa_df.iloc[2]\nsample_2 = kappa_df.iloc[3]\nkappa_wilcoxon_p = stat.ranksums(sample_1, sample_2)[1]\n# balanced accuracy\nsample_1 = balanced_acc_df.iloc[2]\nsample_2 = balanced_acc_df.iloc[3]\nbalanced_acc_wilcoxon_p = stat.ranksums(sample_1, sample_2)[1]\n\n(kappa_wilcoxon_p, balanced_acc_wilcoxon_p)",
   "metadata": {
    "collapsed": false,
    "pycharm": {
     "name": "#%%\n"
    },
    "trusted": false
   }
  },
  {
   "cell_type": "code",
   "execution_count": 13,
   "outputs": [
    {
     "data": {
      "text/plain": "            0         1         2         3         4         5         6   \\\n2_4M  0.810821  0.821421  0.826416  0.813448  0.820461  0.808830  0.824128   \n100M  0.819657  0.807581  0.822905  0.823939  0.818212  0.813146  0.810847   \n\n            7         8         9   ...        40        41        42  \\\n2_4M  0.826164  0.814152  0.821358  ...  0.806895  0.814624  0.812409   \n100M  0.810903  0.809151  0.805409  ...  0.815295  0.812986  0.820324   \n\n            43        44        45        46        47        48        49  \n2_4M  0.806554  0.816533  0.814134  0.825274  0.823307  0.821093  0.810103  \n100M  0.811587  0.816911  0.814515  0.803185  0.815678  0.814283  0.819181  \n\n[2 rows x 50 columns]",
      "text/html": "<div>\n<style scoped>\n    .dataframe tbody tr th:only-of-type {\n        vertical-align: middle;\n    }\n\n    .dataframe tbody tr th {\n        vertical-align: top;\n    }\n\n    .dataframe thead th {\n        text-align: right;\n    }\n</style>\n<table border=\"1\" class=\"dataframe\">\n  <thead>\n    <tr style=\"text-align: right;\">\n      <th></th>\n      <th>0</th>\n      <th>1</th>\n      <th>2</th>\n      <th>3</th>\n      <th>4</th>\n      <th>5</th>\n      <th>6</th>\n      <th>7</th>\n      <th>8</th>\n      <th>9</th>\n      <th>...</th>\n      <th>40</th>\n      <th>41</th>\n      <th>42</th>\n      <th>43</th>\n      <th>44</th>\n      <th>45</th>\n      <th>46</th>\n      <th>47</th>\n      <th>48</th>\n      <th>49</th>\n    </tr>\n  </thead>\n  <tbody>\n    <tr>\n      <th>2_4M</th>\n      <td>0.810821</td>\n      <td>0.821421</td>\n      <td>0.826416</td>\n      <td>0.813448</td>\n      <td>0.820461</td>\n      <td>0.808830</td>\n      <td>0.824128</td>\n      <td>0.826164</td>\n      <td>0.814152</td>\n      <td>0.821358</td>\n      <td>...</td>\n      <td>0.806895</td>\n      <td>0.814624</td>\n      <td>0.812409</td>\n      <td>0.806554</td>\n      <td>0.816533</td>\n      <td>0.814134</td>\n      <td>0.825274</td>\n      <td>0.823307</td>\n      <td>0.821093</td>\n      <td>0.810103</td>\n    </tr>\n    <tr>\n      <th>100M</th>\n      <td>0.819657</td>\n      <td>0.807581</td>\n      <td>0.822905</td>\n      <td>0.823939</td>\n      <td>0.818212</td>\n      <td>0.813146</td>\n      <td>0.810847</td>\n      <td>0.810903</td>\n      <td>0.809151</td>\n      <td>0.805409</td>\n      <td>...</td>\n      <td>0.815295</td>\n      <td>0.812986</td>\n      <td>0.820324</td>\n      <td>0.811587</td>\n      <td>0.816911</td>\n      <td>0.814515</td>\n      <td>0.803185</td>\n      <td>0.815678</td>\n      <td>0.814283</td>\n      <td>0.819181</td>\n    </tr>\n  </tbody>\n</table>\n<p>2 rows × 50 columns</p>\n</div>"
     },
     "execution_count": 13,
     "metadata": {},
     "output_type": "execute_result"
    }
   ],
   "source": "test_df = pd.DataFrame([sample_1, sample_2])\ntest_df",
   "metadata": {
    "collapsed": false,
    "pycharm": {
     "name": "#%%\n"
    },
    "trusted": false
   }
  }
 ],
 "metadata": {
  "kernelspec": {
   "display_name": "Python 3",
   "language": "python",
   "name": "python3"
  },
  "language_info": {
   "codemirror_mode": {
    "name": "ipython",
    "version": 2
   },
   "file_extension": ".py",
   "mimetype": "text/x-python",
   "name": "python",
   "nbconvert_exporter": "python",
   "pygments_lexer": "ipython2",
   "version": "2.7.6"
  }
 },
 "nbformat": 4,
 "nbformat_minor": 0
}