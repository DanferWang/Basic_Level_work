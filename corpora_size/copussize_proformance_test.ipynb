{
 "cells": [
  {
   "cell_type": "code",
   "execution_count": 58,
   "metadata": {
    "collapsed": true
   },
   "outputs": [],
   "source": [
    "import numpy as np\n",
    "import pandas as pd\n",
    "import scipy.stats as stat"
   ]
  },
  {
   "cell_type": "markdown",
   "source": [
    "## In GlobalModel size v.s kappa / balanced acc"
   ],
   "metadata": {
    "collapsed": false,
    "pycharm": {
     "name": "#%% md\n"
    }
   }
  },
  {
   "cell_type": "code",
   "execution_count": 77,
   "outputs": [
    {
     "data": {
      "text/plain": "(0.3556051074343223, 0.23032400254552432)"
     },
     "execution_count": 77,
     "metadata": {},
     "output_type": "execute_result"
    }
   ],
   "source": [
    "# CABNC\n",
    "cabnc_res = np.load('./several_times_sampling/GlobalModelTest/50_times_sampling_CABNC.npy', allow_pickle=True).item()\n",
    "res_df = pd.DataFrame.from_dict(cabnc_res)\n",
    "kappa_df = pd.DataFrame()\n",
    "balanced_acc_df = pd.DataFrame()\n",
    "for index, row in res_df.iterrows():\n",
    "    for counter in range(50):\n",
    "        kappa_df.at[index, counter] = row[counter]['kappa']\n",
    "        balanced_acc_df.at[index, counter] = row[counter]['balanced acc']\n",
    "\n",
    "# Wilcoxon rank-sum test\n",
    "# kappa\n",
    "sample_1 = kappa_df.iloc[0]\n",
    "sample_2 = kappa_df.iloc[1]\n",
    "kappa_wilcoxon_p = stat.ranksums(sample_1, sample_2)[1]\n",
    "# balanced accuracy\n",
    "sample_1 = balanced_acc_df.iloc[0]\n",
    "sample_2 = balanced_acc_df.iloc[1]\n",
    "balanced_acc_wilcoxon_p = stat.ranksums(sample_1, sample_2)[1]\n",
    "\n",
    "(kappa_wilcoxon_p, balanced_acc_wilcoxon_p)"
   ],
   "metadata": {
    "collapsed": false,
    "pycharm": {
     "name": "#%%\n"
    }
   }
  },
  {
   "cell_type": "code",
   "execution_count": 95,
   "outputs": [
    {
     "data": {
      "text/plain": "(0.6842023576175498, 0.9313290936985889)"
     },
     "execution_count": 95,
     "metadata": {},
     "output_type": "execute_result"
    }
   ],
   "source": [
    "# CHILDES\n",
    "childes_res = np.load('./several_times_sampling/GlobalModelTest/50_times_sampling_CHILDES.npy', allow_pickle=True).item()\n",
    "res_df = pd.DataFrame.from_dict(childes_res)\n",
    "kappa_df = pd.DataFrame()\n",
    "balanced_acc_df = pd.DataFrame()\n",
    "for index, row in res_df.iterrows():\n",
    "    for counter in range(50):\n",
    "        kappa_df.at[index, counter] = row[counter]['kappa']\n",
    "        balanced_acc_df.at[index, counter] = row[counter]['balanced acc']\n",
    "\n",
    "# Wilcoxon rank-sum test\n",
    "# kappa\n",
    "sample_1 = kappa_df.iloc[1]\n",
    "sample_2 = kappa_df.iloc[2]\n",
    "kappa_wilcoxon_p = stat.ranksums(sample_1, sample_2)[1]\n",
    "# balanced accuracy\n",
    "sample_1 = balanced_acc_df.iloc[1]\n",
    "sample_2 = balanced_acc_df.iloc[2]\n",
    "balanced_acc_wilcoxon_p = stat.ranksums(sample_1, sample_2)[1]\n",
    "\n",
    "(kappa_wilcoxon_p, balanced_acc_wilcoxon_p)"
   ],
   "metadata": {
    "collapsed": false,
    "pycharm": {
     "name": "#%%\n"
    }
   }
  },
  {
   "cell_type": "code",
   "execution_count": 104,
   "outputs": [
    {
     "data": {
      "text/plain": "(1.8512469113289506e-08, 3.845121796347279e-08)"
     },
     "execution_count": 104,
     "metadata": {},
     "output_type": "execute_result"
    }
   ],
   "source": [
    "# BNC\n",
    "bnc_res = np.load('./several_times_sampling/GlobalModelTest/50_times_sampling_BNC.npy', allow_pickle=True).item()\n",
    "res_df = pd.DataFrame.from_dict(bnc_res)\n",
    "kappa_df = pd.DataFrame()\n",
    "balanced_acc_df = pd.DataFrame()\n",
    "for index, row in res_df.iterrows():\n",
    "    for counter in range(50):\n",
    "        kappa_df.at[index, counter] = row[counter]['kappa']\n",
    "        balanced_acc_df.at[index, counter] = row[counter]['balanced acc']\n",
    "\n",
    "# Wilcoxon rank-sum test\n",
    "# kappa\n",
    "sample_1 = kappa_df.iloc[2]\n",
    "sample_2 = kappa_df.iloc[3]\n",
    "kappa_wilcoxon_p = stat.ranksums(sample_1, sample_2)[1]\n",
    "# balanced accuracy\n",
    "sample_1 = balanced_acc_df.iloc[2]\n",
    "sample_2 = balanced_acc_df.iloc[3]\n",
    "balanced_acc_wilcoxon_p = stat.ranksums(sample_1, sample_2)[1]\n",
    "\n",
    "(kappa_wilcoxon_p, balanced_acc_wilcoxon_p)"
   ],
   "metadata": {
    "collapsed": false,
    "pycharm": {
     "name": "#%%\n"
    }
   }
  },
  {
   "cell_type": "markdown",
   "source": [
    "## In LocalModel size v.s kappa / balanced acc"
   ],
   "metadata": {
    "collapsed": false,
    "pycharm": {
     "name": "#%% md\n"
    }
   }
  },
  {
   "cell_type": "code",
   "execution_count": 106,
   "outputs": [
    {
     "data": {
      "text/plain": "(0.24399650423988328, 1.552709377140838e-07)"
     },
     "execution_count": 106,
     "metadata": {},
     "output_type": "execute_result"
    }
   ],
   "source": [
    "# CABNC\n",
    "cabnc_res = np.load('./several_times_sampling/LocalModelTest/LocalModel_inte_50_times_sampling_CABNC.npy', allow_pickle=True).item()\n",
    "res_df = pd.DataFrame.from_dict(cabnc_res)\n",
    "kappa_df = pd.DataFrame()\n",
    "balanced_acc_df = pd.DataFrame()\n",
    "for index, row in res_df.iterrows():\n",
    "    for counter in range(50):\n",
    "        kappa_df.at[index, counter] = row[counter]['kappa']\n",
    "        balanced_acc_df.at[index, counter] = row[counter]['balanced acc']\n",
    "\n",
    "# Wilcoxon rank-sum test\n",
    "# kappa\n",
    "sample_1 = kappa_df.iloc[0]\n",
    "sample_2 = kappa_df.iloc[1]\n",
    "kappa_wilcoxon_p = stat.ranksums(sample_1, sample_2)[1]\n",
    "# balanced accuracy\n",
    "sample_1 = balanced_acc_df.iloc[0]\n",
    "sample_2 = balanced_acc_df.iloc[1]\n",
    "balanced_acc_wilcoxon_p = stat.ranksums(sample_1, sample_2)[1]\n",
    "\n",
    "(kappa_wilcoxon_p, balanced_acc_wilcoxon_p)"
   ],
   "metadata": {
    "collapsed": false,
    "pycharm": {
     "name": "#%%\n"
    }
   }
  },
  {
   "cell_type": "code",
   "execution_count": 109,
   "outputs": [
    {
     "data": {
      "text/plain": "(0.14963883269926215, 0.13110810765599926)"
     },
     "execution_count": 109,
     "metadata": {},
     "output_type": "execute_result"
    }
   ],
   "source": [
    "# CABNC\n",
    "childes_res = np.load('./several_times_sampling/LocalModelTest/LocalModel_inte_50_times_sampling_CHILDES.npy', allow_pickle=True).item()\n",
    "res_df = pd.DataFrame.from_dict(childes_res)\n",
    "kappa_df = pd.DataFrame()\n",
    "balanced_acc_df = pd.DataFrame()\n",
    "for index, row in res_df.iterrows():\n",
    "    for counter in range(50):\n",
    "        kappa_df.at[index, counter] = row[counter]['kappa']\n",
    "        balanced_acc_df.at[index, counter] = row[counter]['balanced acc']\n",
    "\n",
    "# Wilcoxon rank-sum test\n",
    "# kappa\n",
    "sample_1 = kappa_df.iloc[1]\n",
    "sample_2 = kappa_df.iloc[2]\n",
    "kappa_wilcoxon_p = stat.ranksums(sample_1, sample_2)[1]\n",
    "# balanced accuracy\n",
    "sample_1 = balanced_acc_df.iloc[1]\n",
    "sample_2 = balanced_acc_df.iloc[2]\n",
    "balanced_acc_wilcoxon_p = stat.ranksums(sample_1, sample_2)[1]\n",
    "\n",
    "(kappa_wilcoxon_p, balanced_acc_wilcoxon_p)"
   ],
   "metadata": {
    "collapsed": false,
    "pycharm": {
     "name": "#%%\n"
    }
   }
  },
  {
   "cell_type": "code",
   "execution_count": 112,
   "outputs": [
    {
     "data": {
      "text/plain": "(0.0025319805586937762, 0.020540613362541094)"
     },
     "execution_count": 112,
     "metadata": {},
     "output_type": "execute_result"
    }
   ],
   "source": [
    "# BNC\n",
    "bnc_res = np.load('./several_times_sampling/LocalModelTest/LocalModel_inte_50_times_sampling_BNC.npy', allow_pickle=True).item()\n",
    "res_df = pd.DataFrame.from_dict(childes_res)\n",
    "kappa_df = pd.DataFrame()\n",
    "balanced_acc_df = pd.DataFrame()\n",
    "for index, row in res_df.iterrows():\n",
    "    for counter in range(50):\n",
    "        kappa_df.at[index, counter] = row[counter]['kappa']\n",
    "        balanced_acc_df.at[index, counter] = row[counter]['balanced acc']\n",
    "\n",
    "# Wilcoxon rank-sum test\n",
    "# kappa\n",
    "sample_1 = kappa_df.iloc[0]\n",
    "sample_2 = kappa_df.iloc[2]\n",
    "kappa_wilcoxon_p = stat.ranksums(sample_1, sample_2)[1]\n",
    "# balanced accuracy\n",
    "sample_1 = balanced_acc_df.iloc[0]\n",
    "sample_2 = balanced_acc_df.iloc[2]\n",
    "balanced_acc_wilcoxon_p = stat.ranksums(sample_1, sample_2)[1]\n",
    "\n",
    "(kappa_wilcoxon_p, balanced_acc_wilcoxon_p)"
   ],
   "metadata": {
    "collapsed": false,
    "pycharm": {
     "name": "#%%\n"
    }
   }
  },
  {
   "cell_type": "code",
   "execution_count": null,
   "outputs": [],
   "source": [],
   "metadata": {
    "collapsed": false,
    "pycharm": {
     "name": "#%%\n"
    }
   }
  }
 ],
 "metadata": {
  "kernelspec": {
   "display_name": "Python 3",
   "language": "python",
   "name": "python3"
  },
  "language_info": {
   "codemirror_mode": {
    "name": "ipython",
    "version": 2
   },
   "file_extension": ".py",
   "mimetype": "text/x-python",
   "name": "python",
   "nbconvert_exporter": "python",
   "pygments_lexer": "ipython2",
   "version": "2.7.6"
  }
 },
 "nbformat": 4,
 "nbformat_minor": 0
}