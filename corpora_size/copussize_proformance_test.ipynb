{
 "cells": [
  {
   "cell_type": "code",
   "execution_count": 58,
   "metadata": {
    "collapsed": true
   },
   "outputs": [],
   "source": [
    "import numpy as np\n",
    "import pandas as pd\n",
    "import scipy.stats as stat"
   ]
  },
  {
   "cell_type": "markdown",
   "source": [
    "## In GlobalModel size v.s kappa / balanced acc"
   ],
   "metadata": {
    "collapsed": false,
    "pycharm": {
     "name": "#%% md\n"
    }
   }
  },
  {
   "cell_type": "code",
   "execution_count": 115,
   "outputs": [
    {
     "data": {
      "text/plain": "(0.3556051074343223, 0.23032400254552432)"
     },
     "execution_count": 115,
     "metadata": {},
     "output_type": "execute_result"
    }
   ],
   "source": [
    "# CABNC\n",
    "cabnc_res = np.load('./several_times_sampling/GlobalModelTest/50_times_sampling_CABNC.npy', allow_pickle=True).item()\n",
    "res_df = pd.DataFrame.from_dict(cabnc_res)\n",
    "kappa_df = pd.DataFrame()\n",
    "balanced_acc_df = pd.DataFrame()\n",
    "for index, row in res_df.iterrows():\n",
    "    for counter in range(50):\n",
    "        kappa_df.at[index, counter] = row[counter]['kappa']\n",
    "        balanced_acc_df.at[index, counter] = row[counter]['balanced acc']\n",
    "\n",
    "# Wilcoxon rank-sum test\n",
    "# kappa\n",
    "sample_1 = kappa_df.iloc[0]\n",
    "sample_2 = kappa_df.iloc[1]\n",
    "kappa_wilcoxon_p = stat.ranksums(sample_1, sample_2, alternative='two-sided')[1]\n",
    "# balanced accuracy\n",
    "sample_1 = balanced_acc_df.iloc[0]\n",
    "sample_2 = balanced_acc_df.iloc[1]\n",
    "balanced_acc_wilcoxon_p = stat.ranksums(sample_1, sample_2)[1]\n",
    "\n",
    "(kappa_wilcoxon_p, balanced_acc_wilcoxon_p)"
   ],
   "metadata": {
    "collapsed": false,
    "pycharm": {
     "name": "#%%\n"
    }
   }
  },
  {
   "cell_type": "code",
   "execution_count": 114,
   "outputs": [
    {
     "data": {
      "text/plain": "0     0.840953\n1     0.844477\n2     0.838012\n3     0.847429\n4     0.837782\n5     0.844466\n6     0.839460\n7     0.845398\n8     0.835598\n9     0.841458\n10    0.844499\n11    0.840032\n12    0.834324\n13    0.840823\n14    0.840953\n15    0.834324\n16    0.840723\n17    0.835070\n18    0.834907\n19    0.840712\n20    0.839449\n21    0.841492\n22    0.842379\n23    0.837079\n24    0.842238\n25    0.840206\n26    0.835828\n27    0.836563\n28    0.840206\n29    0.838528\n30    0.836344\n31    0.839438\n32    0.839504\n33    0.838034\n34    0.841722\n35    0.839460\n36    0.836574\n37    0.845925\n38    0.840975\n39    0.840615\n40    0.845992\n41    0.837091\n42    0.844477\n43    0.840206\n44    0.838012\n45    0.841492\n46    0.843203\n47    0.848176\n48    0.841699\n49    0.839286\nName: 1M, dtype: float64"
     },
     "execution_count": 114,
     "metadata": {},
     "output_type": "execute_result"
    }
   ],
   "source": [
    "sample_1"
   ],
   "metadata": {
    "collapsed": false,
    "pycharm": {
     "name": "#%%\n"
    }
   }
  },
  {
   "cell_type": "code",
   "execution_count": 95,
   "outputs": [
    {
     "data": {
      "text/plain": "(0.6842023576175498, 0.9313290936985889)"
     },
     "execution_count": 95,
     "metadata": {},
     "output_type": "execute_result"
    }
   ],
   "source": [
    "# CHILDES\n",
    "childes_res = np.load('./several_times_sampling/GlobalModelTest/50_times_sampling_CHILDES.npy', allow_pickle=True).item()\n",
    "res_df = pd.DataFrame.from_dict(childes_res)\n",
    "kappa_df = pd.DataFrame()\n",
    "balanced_acc_df = pd.DataFrame()\n",
    "for index, row in res_df.iterrows():\n",
    "    for counter in range(50):\n",
    "        kappa_df.at[index, counter] = row[counter]['kappa']\n",
    "        balanced_acc_df.at[index, counter] = row[counter]['balanced acc']\n",
    "\n",
    "# Wilcoxon rank-sum test\n",
    "# kappa\n",
    "sample_1 = kappa_df.iloc[1]\n",
    "sample_2 = kappa_df.iloc[2]\n",
    "kappa_wilcoxon_p = stat.ranksums(sample_1, sample_2)[1]\n",
    "# balanced accuracy\n",
    "sample_1 = balanced_acc_df.iloc[1]\n",
    "sample_2 = balanced_acc_df.iloc[2]\n",
    "balanced_acc_wilcoxon_p = stat.ranksums(sample_1, sample_2)[1]\n",
    "\n",
    "(kappa_wilcoxon_p, balanced_acc_wilcoxon_p)"
   ],
   "metadata": {
    "collapsed": false,
    "pycharm": {
     "name": "#%%\n"
    }
   }
  },
  {
   "cell_type": "code",
   "execution_count": 104,
   "outputs": [
    {
     "data": {
      "text/plain": "(1.8512469113289506e-08, 3.845121796347279e-08)"
     },
     "execution_count": 104,
     "metadata": {},
     "output_type": "execute_result"
    }
   ],
   "source": [
    "# BNC\n",
    "bnc_res = np.load('./several_times_sampling/GlobalModelTest/50_times_sampling_BNC.npy', allow_pickle=True).item()\n",
    "res_df = pd.DataFrame.from_dict(bnc_res)\n",
    "kappa_df = pd.DataFrame()\n",
    "balanced_acc_df = pd.DataFrame()\n",
    "for index, row in res_df.iterrows():\n",
    "    for counter in range(50):\n",
    "        kappa_df.at[index, counter] = row[counter]['kappa']\n",
    "        balanced_acc_df.at[index, counter] = row[counter]['balanced acc']\n",
    "\n",
    "# Wilcoxon rank-sum test\n",
    "# kappa\n",
    "sample_1 = kappa_df.iloc[2]\n",
    "sample_2 = kappa_df.iloc[3]\n",
    "kappa_wilcoxon_p = stat.ranksums(sample_1, sample_2)[1]\n",
    "# balanced accuracy\n",
    "sample_1 = balanced_acc_df.iloc[2]\n",
    "sample_2 = balanced_acc_df.iloc[3]\n",
    "balanced_acc_wilcoxon_p = stat.ranksums(sample_1, sample_2)[1]\n",
    "\n",
    "(kappa_wilcoxon_p, balanced_acc_wilcoxon_p)"
   ],
   "metadata": {
    "collapsed": false,
    "pycharm": {
     "name": "#%%\n"
    }
   }
  },
  {
   "cell_type": "markdown",
   "source": [
    "## In LocalModel size v.s kappa / balanced acc"
   ],
   "metadata": {
    "collapsed": false,
    "pycharm": {
     "name": "#%% md\n"
    }
   }
  },
  {
   "cell_type": "code",
   "execution_count": 106,
   "outputs": [
    {
     "data": {
      "text/plain": "(0.24399650423988328, 1.552709377140838e-07)"
     },
     "execution_count": 106,
     "metadata": {},
     "output_type": "execute_result"
    }
   ],
   "source": [
    "# CABNC\n",
    "cabnc_res = np.load('./several_times_sampling/LocalModelTest/LocalModel_inte_50_times_sampling_CABNC.npy', allow_pickle=True).item()\n",
    "res_df = pd.DataFrame.from_dict(cabnc_res)\n",
    "kappa_df = pd.DataFrame()\n",
    "balanced_acc_df = pd.DataFrame()\n",
    "for index, row in res_df.iterrows():\n",
    "    for counter in range(50):\n",
    "        kappa_df.at[index, counter] = row[counter]['kappa']\n",
    "        balanced_acc_df.at[index, counter] = row[counter]['balanced acc']\n",
    "\n",
    "# Wilcoxon rank-sum test\n",
    "# kappa\n",
    "sample_1 = kappa_df.iloc[0]\n",
    "sample_2 = kappa_df.iloc[1]\n",
    "kappa_wilcoxon_p = stat.ranksums(sample_1, sample_2)[1]\n",
    "# balanced accuracy\n",
    "sample_1 = balanced_acc_df.iloc[0]\n",
    "sample_2 = balanced_acc_df.iloc[1]\n",
    "balanced_acc_wilcoxon_p = stat.ranksums(sample_1, sample_2)[1]\n",
    "\n",
    "(kappa_wilcoxon_p, balanced_acc_wilcoxon_p)"
   ],
   "metadata": {
    "collapsed": false,
    "pycharm": {
     "name": "#%%\n"
    }
   }
  },
  {
   "cell_type": "code",
   "execution_count": 109,
   "outputs": [
    {
     "data": {
      "text/plain": "(0.14963883269926215, 0.13110810765599926)"
     },
     "execution_count": 109,
     "metadata": {},
     "output_type": "execute_result"
    }
   ],
   "source": [
    "# CABNC\n",
    "childes_res = np.load('./several_times_sampling/LocalModelTest/LocalModel_inte_50_times_sampling_CHILDES.npy', allow_pickle=True).item()\n",
    "res_df = pd.DataFrame.from_dict(childes_res)\n",
    "kappa_df = pd.DataFrame()\n",
    "balanced_acc_df = pd.DataFrame()\n",
    "for index, row in res_df.iterrows():\n",
    "    for counter in range(50):\n",
    "        kappa_df.at[index, counter] = row[counter]['kappa']\n",
    "        balanced_acc_df.at[index, counter] = row[counter]['balanced acc']\n",
    "\n",
    "# Wilcoxon rank-sum test\n",
    "# kappa\n",
    "sample_1 = kappa_df.iloc[1]\n",
    "sample_2 = kappa_df.iloc[2]\n",
    "kappa_wilcoxon_p = stat.ranksums(sample_1, sample_2)[1]\n",
    "# balanced accuracy\n",
    "sample_1 = balanced_acc_df.iloc[1]\n",
    "sample_2 = balanced_acc_df.iloc[2]\n",
    "balanced_acc_wilcoxon_p = stat.ranksums(sample_1, sample_2)[1]\n",
    "\n",
    "(kappa_wilcoxon_p, balanced_acc_wilcoxon_p)"
   ],
   "metadata": {
    "collapsed": false,
    "pycharm": {
     "name": "#%%\n"
    }
   }
  },
  {
   "cell_type": "code",
   "execution_count": 133,
   "outputs": [
    {
     "data": {
      "text/plain": "(0.5036865307000445, 0.6741034218588211)"
     },
     "execution_count": 133,
     "metadata": {},
     "output_type": "execute_result"
    }
   ],
   "source": [
    "# BNC\n",
    "bnc_res = np.load('./several_times_sampling/LocalModelTest/LocalModel_inte_50_times_sampling_BNC.npy', allow_pickle=True).item()\n",
    "res_df = pd.DataFrame.from_dict(bnc_res)\n",
    "kappa_df = pd.DataFrame()\n",
    "balanced_acc_df = pd.DataFrame()\n",
    "for index, row in res_df.iterrows():\n",
    "    for counter in range(50):\n",
    "        kappa_df.at[index, counter] = row[counter]['kappa']\n",
    "        balanced_acc_df.at[index, counter] = row[counter]['balanced acc']\n",
    "\n",
    "# Wilcoxon rank-sum test\n",
    "# kappa\n",
    "sample_1 = kappa_df.iloc[1]\n",
    "sample_2 = kappa_df.iloc[2]\n",
    "kappa_wilcoxon_p = stat.ranksums(sample_1, sample_2)[1]\n",
    "# balanced accuracy\n",
    "sample_1 = balanced_acc_df.iloc[1]\n",
    "sample_2 = balanced_acc_df.iloc[2]\n",
    "balanced_acc_wilcoxon_p = stat.ranksums(sample_1, sample_2)[1]\n",
    "\n",
    "(kappa_wilcoxon_p, balanced_acc_wilcoxon_p)"
   ],
   "metadata": {
    "collapsed": false,
    "pycharm": {
     "name": "#%%\n"
    }
   }
  }
 ],
 "metadata": {
  "kernelspec": {
   "display_name": "Python 3",
   "language": "python",
   "name": "python3"
  },
  "language_info": {
   "codemirror_mode": {
    "name": "ipython",
    "version": 2
   },
   "file_extension": ".py",
   "mimetype": "text/x-python",
   "name": "python",
   "nbconvert_exporter": "python",
   "pygments_lexer": "ipython2",
   "version": "2.7.6"
  }
 },
 "nbformat": 4,
 "nbformat_minor": 0
}