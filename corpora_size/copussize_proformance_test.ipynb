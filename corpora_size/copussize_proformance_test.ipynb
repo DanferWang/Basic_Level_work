{
 "cells": [
  {
   "cell_type": "code",
   "execution_count": 1,
   "metadata": {
    "collapsed": true,
    "trusted": false
   },
   "outputs": [],
   "source": [
    "import numpy as np\n",
    "import pandas as pd\n",
    "import scipy.stats as stat"
   ]
  },
  {
   "cell_type": "markdown",
   "source": [
    "## In GlobalModel size v.s kappa / balanced acc"
   ],
   "metadata": {
    "collapsed": false,
    "pycharm": {
     "name": "#%% md\n"
    }
   }
  },
  {
   "cell_type": "code",
   "execution_count": 115,
   "outputs": [
    {
     "data": {
      "text/plain": "(0.3556051074343223, 0.23032400254552432)"
     },
     "execution_count": 115,
     "metadata": {},
     "output_type": "execute_result"
    }
   ],
   "source": [
    "# CABNC\n",
    "cabnc_res = np.load('./several_times_sampling/GlobalModelTest/50_times_sampling_CABNC.npy', allow_pickle=True).item()\n",
    "res_df = pd.DataFrame.from_dict(cabnc_res)\n",
    "kappa_df = pd.DataFrame()\n",
    "balanced_acc_df = pd.DataFrame()\n",
    "for index, row in res_df.iterrows():\n",
    "    for counter in range(50):\n",
    "        kappa_df.at[index, counter] = row[counter]['kappa']\n",
    "        balanced_acc_df.at[index, counter] = row[counter]['balanced acc']\n",
    "\n",
    "# Wilcoxon rank-sum test\n",
    "# kappa\n",
    "sample_1 = kappa_df.iloc[0]\n",
    "sample_2 = kappa_df.iloc[1]\n",
    "kappa_wilcoxon_p = stat.ranksums(sample_1, sample_2, alternative='two-sided')[1]\n",
    "# balanced accuracy\n",
    "sample_1 = balanced_acc_df.iloc[0]\n",
    "sample_2 = balanced_acc_df.iloc[1]\n",
    "balanced_acc_wilcoxon_p = stat.ranksums(sample_1, sample_2)[1]\n",
    "\n",
    "(kappa_wilcoxon_p, balanced_acc_wilcoxon_p)"
   ],
   "metadata": {
    "collapsed": false,
    "pycharm": {
     "name": "#%%\n"
    },
    "trusted": false
   }
  },
  {
   "cell_type": "code",
   "execution_count": 12,
   "outputs": [
    {
     "data": {
      "text/plain": "(0.8221974462828389, 0.11516200127276216)"
     },
     "execution_count": 12,
     "metadata": {},
     "output_type": "execute_result"
    }
   ],
   "source": [
    "# CABNC\n",
    "cabnc_res = np.load('./several_times_sampling/GlobalModelTest/50_times_sampling_CABNC.npy', allow_pickle=True).item()\n",
    "res_df = pd.DataFrame.from_dict(cabnc_res)\n",
    "kappa_df = pd.DataFrame()\n",
    "balanced_acc_df = pd.DataFrame()\n",
    "for index, row in res_df.iterrows():\n",
    "    for counter in range(50):\n",
    "        kappa_df.at[index, counter] = row[counter]['kappa']\n",
    "        balanced_acc_df.at[index, counter] = row[counter]['balanced acc']\n",
    "\n",
    "# Wilcoxon rank-sum test\n",
    "# kappa\n",
    "sample_1 = kappa_df.iloc[0]\n",
    "sample_2 = kappa_df.iloc[1]\n",
    "kappa_wilcoxon_p = stat.ranksums(sample_1, sample_2, alternative='greater')[1]\n",
    "# balanced accuracy\n",
    "sample_1 = balanced_acc_df.iloc[0]\n",
    "sample_2 = balanced_acc_df.iloc[1]\n",
    "balanced_acc_wilcoxon_p = stat.ranksums(sample_1, sample_2, alternative='greater')[1]\n",
    "\n",
    "(kappa_wilcoxon_p, balanced_acc_wilcoxon_p)"
   ],
   "metadata": {
    "collapsed": false,
    "pycharm": {
     "name": "#%%\n"
    },
    "trusted": false
   }
  },
  {
   "cell_type": "code",
   "execution_count": 18,
   "outputs": [
    {
     "data": {
      "text/plain": "(0.6578988211912251, 0.4656645468492944)"
     },
     "execution_count": 18,
     "metadata": {},
     "output_type": "execute_result"
    }
   ],
   "source": [
    "# CHILDES\n",
    "childes_res = np.load('./several_times_sampling/GlobalModelTest/50_times_sampling_CHILDES.npy', allow_pickle=True).item()\n",
    "res_df = pd.DataFrame.from_dict(childes_res)\n",
    "kappa_df = pd.DataFrame()\n",
    "balanced_acc_df = pd.DataFrame()\n",
    "for index, row in res_df.iterrows():\n",
    "    for counter in range(50):\n",
    "        kappa_df.at[index, counter] = row[counter]['kappa']\n",
    "        balanced_acc_df.at[index, counter] = row[counter]['balanced acc']\n",
    "\n",
    "# Wilcoxon rank-sum test\n",
    "# kappa\n",
    "sample_1 = kappa_df.iloc[1]\n",
    "sample_2 = kappa_df.iloc[2]\n",
    "kappa_wilcoxon_p = stat.ranksums(sample_1, sample_2, alternative='greater')[1]\n",
    "# balanced accuracy\n",
    "sample_1 = balanced_acc_df.iloc[1]\n",
    "sample_2 = balanced_acc_df.iloc[2]\n",
    "balanced_acc_wilcoxon_p = stat.ranksums(sample_1, sample_2, alternative='greater')[1]\n",
    "\n",
    "(kappa_wilcoxon_p, balanced_acc_wilcoxon_p)"
   ],
   "metadata": {
    "collapsed": false,
    "pycharm": {
     "name": "#%%\n"
    },
    "trusted": false
   }
  },
  {
   "cell_type": "code",
   "execution_count": 11,
   "outputs": [
    {
     "data": {
      "text/plain": "(0.007476437376713927, 0.18323895832928122)"
     },
     "execution_count": 11,
     "metadata": {},
     "output_type": "execute_result"
    }
   ],
   "source": [
    "# BNC\n",
    "bnc_res = np.load('./several_times_sampling/GlobalModelTest/50_times_sampling_BNC.npy', allow_pickle=True).item()\n",
    "res_df = pd.DataFrame.from_dict(bnc_res)\n",
    "kappa_df = pd.DataFrame()\n",
    "balanced_acc_df = pd.DataFrame()\n",
    "for index, row in res_df.iterrows():\n",
    "    for counter in range(50):\n",
    "        kappa_df.at[index, counter] = row[counter]['kappa']\n",
    "        balanced_acc_df.at[index, counter] = row[counter]['balanced acc']\n",
    "\n",
    "# Wilcoxon rank-sum test\n",
    "# kappa\n",
    "sample_1 = kappa_df.iloc[0]\n",
    "sample_2 = kappa_df.iloc[1]\n",
    "kappa_wilcoxon_p = stat.ranksums(sample_1, sample_2, alternative='greater')[1]\n",
    "# balanced accuracy\n",
    "sample_1 = balanced_acc_df.iloc[0]\n",
    "sample_2 = balanced_acc_df.iloc[1]\n",
    "balanced_acc_wilcoxon_p = stat.ranksums(sample_1, sample_2, alternative='greater')[1]\n",
    "\n",
    "(kappa_wilcoxon_p, balanced_acc_wilcoxon_p)"
   ],
   "metadata": {
    "collapsed": false,
    "pycharm": {
     "name": "#%%\n"
    },
    "trusted": false
   }
  },
  {
   "cell_type": "markdown",
   "source": [
    "### GlobalModel types and audience"
   ],
   "metadata": {
    "collapsed": false,
    "pycharm": {
     "name": "#%% md\n"
    }
   }
  },
  {
   "cell_type": "code",
   "execution_count": 45,
   "outputs": [
    {
     "name": "stdout",
     "output_type": "stream",
     "text": [
      "0.0 0.0 1.0\n",
      "0.0 0.0 1.0\n"
     ]
    }
   ],
   "source": [
    "# written\n",
    "# KBNC + BNC\n",
    "kbnc_res = np.load('./several_times_sampling/GlobalModelTest/50_times_sampling_KBNC.npy', allow_pickle=True).item()\n",
    "res_df = pd.DataFrame.from_dict(kbnc_res)\n",
    "kbnc_kappa_df = pd.DataFrame()\n",
    "kbnc_balanced_acc_df = pd.DataFrame()\n",
    "for index, row in res_df.iterrows():\n",
    "    for counter in range(50):\n",
    "        kbnc_kappa_df.at[index, counter] = row[counter]['kappa']\n",
    "        kbnc_balanced_acc_df.at[index, counter] = row[counter]['balanced acc']\n",
    "\n",
    "bnc_res = np.load('./several_times_sampling/GlobalModelTest/50_times_sampling_BNC.npy', allow_pickle=True).item()\n",
    "res_df = pd.DataFrame.from_dict(bnc_res)\n",
    "bnc_kappa_df = pd.DataFrame()\n",
    "bnc_balanced_acc_df = pd.DataFrame()\n",
    "for index, row in res_df.iterrows():\n",
    "    for counter in range(50):\n",
    "        bnc_kappa_df.at[index, counter] = row[counter]['kappa']\n",
    "        bnc_balanced_acc_df.at[index, counter] = row[counter]['balanced acc']\n",
    "\n",
    "written_kappa = pd.concat([bnc_kappa_df, kbnc_kappa_df], axis=1)\n",
    "written_acc = pd.concat([bnc_balanced_acc_df, kbnc_balanced_acc_df], axis=1)\n",
    "\n",
    "# Wilcoxon rank-sum test\n",
    "# kappa\n",
    "sample_1 = written_kappa.iloc[2].dropna()\n",
    "sample_2 = written_kappa.iloc[3].dropna()\n",
    "kappa_wilcoxon_p_less = stat.ranksums(sample_1, sample_2, alternative='less')[1]\n",
    "kappa_wilcoxon_p_two = stat.ranksums(sample_1, sample_2, alternative='two-sided')[1]\n",
    "kappa_wilcoxon_p_greater = stat.ranksums(sample_1, sample_2, alternative='greater')[1]\n",
    "# balanced accuracy\n",
    "sample_1 = written_acc.iloc[2].dropna()\n",
    "sample_2 = written_acc.iloc[3].dropna()\n",
    "balanced_acc_wilcoxon_p_less = stat.ranksums(sample_1, sample_2, alternative='less')[1]\n",
    "balanced_acc_wilcoxon_p_two = stat.ranksums(sample_1, sample_2, alternative='two-sided')[1]\n",
    "balanced_acc_wilcoxon_p_greater = stat.ranksums(sample_1, sample_2, alternative='greater')[1]\n",
    "\n",
    "print(round(kappa_wilcoxon_p_less,5), round(kappa_wilcoxon_p_two, 5), round(kappa_wilcoxon_p_greater,5))\n",
    "print(round(balanced_acc_wilcoxon_p_less,5), round(balanced_acc_wilcoxon_p_two,5), round(balanced_acc_wilcoxon_p_greater,5))"
   ],
   "metadata": {
    "collapsed": false,
    "pycharm": {
     "name": "#%%\n"
    }
   }
  },
  {
   "cell_type": "code",
   "execution_count": 57,
   "outputs": [
    {
     "name": "stdout",
     "output_type": "stream",
     "text": [
      "0.07392 0.14785 0.92608\n",
      "0.00012 0.00024 0.99988\n"
     ]
    }
   ],
   "source": [
    "# spoken\n",
    "# CHILDES + CABNC\n",
    "childes_res = np.load('./several_times_sampling/GlobalModelTest/50_times_sampling_CHILDES.npy', allow_pickle=True).item()\n",
    "res_df = pd.DataFrame.from_dict(childes_res)\n",
    "childes_kappa_df = pd.DataFrame()\n",
    "childes_balanced_acc_df = pd.DataFrame()\n",
    "for index, row in res_df.iterrows():\n",
    "    for counter in range(50):\n",
    "        childes_kappa_df.at[index, counter] = row[counter]['kappa']\n",
    "        childes_balanced_acc_df.at[index, counter] = row[counter]['balanced acc']\n",
    "\n",
    "cabnc_res = np.load('./several_times_sampling/GlobalModelTest/50_times_sampling_CABNC.npy', allow_pickle=True).item()\n",
    "res_df = pd.DataFrame.from_dict(cabnc_res)\n",
    "cabnc_kappa_df = pd.DataFrame()\n",
    "cabnc_balanced_acc_df = pd.DataFrame()\n",
    "for index, row in res_df.iterrows():\n",
    "    for counter in range(50):\n",
    "        cabnc_kappa_df.at[index, counter] = row[counter]['kappa']\n",
    "        cabnc_balanced_acc_df.at[index, counter] = row[counter]['balanced acc']\n",
    "\n",
    "spoken_kappa = pd.concat([childes_kappa_df, cabnc_kappa_df], axis=1)\n",
    "spoken_acc = pd.concat([childes_balanced_acc_df, cabnc_balanced_acc_df], axis=1)\n",
    "\n",
    "# Wilcoxon rank-sum test\n",
    "# kappa\n",
    "sample_1 = spoken_kappa.iloc[1].dropna()\n",
    "sample_2 = spoken_kappa.iloc[2].dropna()\n",
    "kappa_wilcoxon_p_less = stat.ranksums(sample_1, sample_2, alternative='less')[1]\n",
    "kappa_wilcoxon_p_two = stat.ranksums(sample_1, sample_2, alternative='two-sided')[1]\n",
    "kappa_wilcoxon_p_greater = stat.ranksums(sample_1, sample_2, alternative='greater')[1]\n",
    "# balanced accuracy\n",
    "sample_1 = spoken_acc.iloc[1].dropna()\n",
    "sample_2 = spoken_acc.iloc[2].dropna()\n",
    "balanced_acc_wilcoxon_p_less = stat.ranksums(sample_1, sample_2, alternative='less')[1]\n",
    "balanced_acc_wilcoxon_p_two = stat.ranksums(sample_1, sample_2, alternative='two-sided')[1]\n",
    "balanced_acc_wilcoxon_p_greater = stat.ranksums(sample_1, sample_2, alternative='greater')[1]\n",
    "\n",
    "print(round(kappa_wilcoxon_p_less,5), round(kappa_wilcoxon_p_two, 5), round(kappa_wilcoxon_p_greater,5))\n",
    "print(round(balanced_acc_wilcoxon_p_less,5), round(balanced_acc_wilcoxon_p_two,5), round(balanced_acc_wilcoxon_p_greater,5))"
   ],
   "metadata": {
    "collapsed": false,
    "pycharm": {
     "name": "#%%\n"
    }
   }
  },
  {
   "cell_type": "code",
   "execution_count": 69,
   "outputs": [
    {
     "name": "stdout",
     "output_type": "stream",
     "text": [
      "0.0 0.0 1.0\n",
      "0.0 0.0 1.0\n"
     ]
    }
   ],
   "source": [
    "# general\n",
    "# BNC + CABNC\n",
    "general_kappa = pd.concat([bnc_kappa_df, cabnc_kappa_df], axis=1)\n",
    "general_acc = pd.concat([bnc_balanced_acc_df, cabnc_balanced_acc_df], axis=1)\n",
    "\n",
    "# Wilcoxon rank-sum test\n",
    "# kappa\n",
    "sample_1 = general_kappa.iloc[2].dropna()\n",
    "sample_2 = general_kappa.iloc[3].dropna()\n",
    "kappa_wilcoxon_p_less = stat.ranksums(sample_1, sample_2, alternative='less')[1]\n",
    "kappa_wilcoxon_p_two = stat.ranksums(sample_1, sample_2, alternative='two-sided')[1]\n",
    "kappa_wilcoxon_p_greater = stat.ranksums(sample_1, sample_2, alternative='greater')[1]\n",
    "# balanced accuracy\n",
    "sample_1 = general_acc.iloc[2].dropna()\n",
    "sample_2 = general_acc.iloc[3].dropna()\n",
    "balanced_acc_wilcoxon_p_less = stat.ranksums(sample_1, sample_2, alternative='less')[1]\n",
    "balanced_acc_wilcoxon_p_two = stat.ranksums(sample_1, sample_2, alternative='two-sided')[1]\n",
    "balanced_acc_wilcoxon_p_greater = stat.ranksums(sample_1, sample_2, alternative='greater')[1]\n",
    "\n",
    "print(round(kappa_wilcoxon_p_less,5), round(kappa_wilcoxon_p_two, 5), round(kappa_wilcoxon_p_greater,5))\n",
    "print(round(balanced_acc_wilcoxon_p_less,5), round(balanced_acc_wilcoxon_p_two,5), round(balanced_acc_wilcoxon_p_greater,5))"
   ],
   "metadata": {
    "collapsed": false,
    "pycharm": {
     "name": "#%%\n"
    }
   }
  },
  {
   "cell_type": "code",
   "execution_count": 75,
   "outputs": [
    {
     "name": "stdout",
     "output_type": "stream",
     "text": [
      "0.3421 0.6842 0.6579\n",
      "0.53434 0.93133 0.46566\n"
     ]
    }
   ],
   "source": [
    "# children\n",
    "# KBNC + CHILDES\n",
    "children_kappa = pd.concat([childes_kappa_df, kbnc_kappa_df], axis=1)\n",
    "children_acc = pd.concat([childes_balanced_acc_df, kbnc_balanced_acc_df], axis=1)\n",
    "\n",
    "# Wilcoxon rank-sum test\n",
    "# kappa\n",
    "sample_1 = children_kappa.iloc[1].dropna()\n",
    "sample_2 = children_kappa.iloc[2].dropna()\n",
    "kappa_wilcoxon_p_less = stat.ranksums(sample_1, sample_2, alternative='less')[1]\n",
    "kappa_wilcoxon_p_two = stat.ranksums(sample_1, sample_2, alternative='two-sided')[1]\n",
    "kappa_wilcoxon_p_greater = stat.ranksums(sample_1, sample_2, alternative='greater')[1]\n",
    "# balanced accuracy\n",
    "sample_1 = children_acc.iloc[1].dropna()\n",
    "sample_2 = children_acc.iloc[2].dropna()\n",
    "balanced_acc_wilcoxon_p_less = stat.ranksums(sample_1, sample_2, alternative='less')[1]\n",
    "balanced_acc_wilcoxon_p_two = stat.ranksums(sample_1, sample_2, alternative='two-sided')[1]\n",
    "balanced_acc_wilcoxon_p_greater = stat.ranksums(sample_1, sample_2, alternative='greater')[1]\n",
    "\n",
    "print(round(kappa_wilcoxon_p_less,5), round(kappa_wilcoxon_p_two, 5), round(kappa_wilcoxon_p_greater,5))\n",
    "print(round(balanced_acc_wilcoxon_p_less,5), round(balanced_acc_wilcoxon_p_two,5), round(balanced_acc_wilcoxon_p_greater,5))"
   ],
   "metadata": {
    "collapsed": false,
    "pycharm": {
     "name": "#%%\n"
    }
   }
  },
  {
   "cell_type": "markdown",
   "source": [
    "## In LocalModel size v.s kappa / balanced acc"
   ],
   "metadata": {
    "collapsed": false,
    "pycharm": {
     "name": "#%% md\n"
    }
   }
  },
  {
   "cell_type": "code",
   "execution_count": 34,
   "outputs": [
    {
     "data": {
      "text/plain": "(0.8780017478800584, 0.9999999223645312)"
     },
     "execution_count": 34,
     "metadata": {},
     "output_type": "execute_result"
    }
   ],
   "source": [
    "# CABNC\n",
    "cabnc_res = np.load('./several_times_sampling/LocalModelTest/LocalModel_inte_50_times_sampling_CABNC.npy', allow_pickle=True).item()\n",
    "res_df = pd.DataFrame.from_dict(cabnc_res)\n",
    "kappa_df = pd.DataFrame()\n",
    "balanced_acc_df = pd.DataFrame()\n",
    "for index, row in res_df.iterrows():\n",
    "    for counter in range(50):\n",
    "        kappa_df.at[index, counter] = row[counter]['kappa']\n",
    "        balanced_acc_df.at[index, counter] = row[counter]['balanced acc']\n",
    "\n",
    "# Wilcoxon rank-sum test\n",
    "# kappa\n",
    "sample_1 = kappa_df.iloc[0]\n",
    "sample_2 = kappa_df.iloc[1]\n",
    "kappa_wilcoxon_p = stat.ranksums(sample_1, sample_2, alternative='greater')[1]\n",
    "# balanced accuracy\n",
    "sample_1 = balanced_acc_df.iloc[0]\n",
    "sample_2 = balanced_acc_df.iloc[1]\n",
    "balanced_acc_wilcoxon_p = stat.ranksums(sample_1, sample_2, alternative='greater')[1]\n",
    "\n",
    "(kappa_wilcoxon_p, balanced_acc_wilcoxon_p)"
   ],
   "metadata": {
    "collapsed": false,
    "pycharm": {
     "name": "#%%\n"
    },
    "trusted": false
   }
  },
  {
   "cell_type": "code",
   "execution_count": 40,
   "outputs": [
    {
     "data": {
      "text/plain": "(0.07481941634963107, 0.06555405382799963)"
     },
     "execution_count": 40,
     "metadata": {},
     "output_type": "execute_result"
    }
   ],
   "source": [
    "# CHILDES\n",
    "childes_res = np.load('./several_times_sampling/LocalModelTest/LocalModel_inte_50_times_sampling_CHILDES.npy', allow_pickle=True).item()\n",
    "res_df = pd.DataFrame.from_dict(childes_res)\n",
    "kappa_df = pd.DataFrame()\n",
    "balanced_acc_df = pd.DataFrame()\n",
    "for index, row in res_df.iterrows():\n",
    "    for counter in range(50):\n",
    "        kappa_df.at[index, counter] = row[counter]['kappa']\n",
    "        balanced_acc_df.at[index, counter] = row[counter]['balanced acc']\n",
    "\n",
    "# Wilcoxon rank-sum test\n",
    "# kappa\n",
    "sample_1 = kappa_df.iloc[1]\n",
    "sample_2 = kappa_df.iloc[2]\n",
    "kappa_wilcoxon_p = stat.ranksums(sample_1, sample_2, alternative='less')[1]\n",
    "# balanced accuracy\n",
    "sample_1 = balanced_acc_df.iloc[1]\n",
    "sample_2 = balanced_acc_df.iloc[2]\n",
    "balanced_acc_wilcoxon_p = stat.ranksums(sample_1, sample_2, alternative='less')[1]\n",
    "\n",
    "(kappa_wilcoxon_p, balanced_acc_wilcoxon_p)"
   ],
   "metadata": {
    "collapsed": false,
    "pycharm": {
     "name": "#%%\n"
    },
    "trusted": false
   }
  },
  {
   "cell_type": "code",
   "execution_count": 52,
   "outputs": [
    {
     "data": {
      "text/plain": "(0.9997972894636247, 0.9999996600121878)"
     },
     "execution_count": 52,
     "metadata": {},
     "output_type": "execute_result"
    }
   ],
   "source": [
    "# BNC\n",
    "bnc_res = np.load('./several_times_sampling/LocalModelTest/LocalModel_inte_50_times_sampling_BNC.npy', allow_pickle=True).item()\n",
    "res_df = pd.DataFrame.from_dict(bnc_res)\n",
    "kappa_df = pd.DataFrame()\n",
    "balanced_acc_df = pd.DataFrame()\n",
    "for index, row in res_df.iterrows():\n",
    "    for counter in range(50):\n",
    "        kappa_df.at[index, counter] = row[counter]['kappa']\n",
    "        balanced_acc_df.at[index, counter] = row[counter]['balanced acc']\n",
    "\n",
    "# Wilcoxon rank-sum test\n",
    "# kappa\n",
    "sample_1 = kappa_df.iloc[2]\n",
    "sample_2 = kappa_df.iloc[3]\n",
    "kappa_wilcoxon_p = stat.ranksums(sample_1, sample_2, alternative='greater')[1]\n",
    "# balanced accuracy\n",
    "sample_1 = balanced_acc_df.iloc[2]\n",
    "sample_2 = balanced_acc_df.iloc[3]\n",
    "balanced_acc_wilcoxon_p = stat.ranksums(sample_1, sample_2, alternative='greater')[1]\n",
    "\n",
    "(kappa_wilcoxon_p, balanced_acc_wilcoxon_p)"
   ],
   "metadata": {
    "collapsed": false,
    "pycharm": {
     "name": "#%%\n"
    },
    "trusted": false
   }
  },
  {
   "cell_type": "markdown",
   "source": [
    "### LocalModel types and audience"
   ],
   "metadata": {
    "collapsed": false
   }
  },
  {
   "cell_type": "code",
   "execution_count": 87,
   "outputs": [
    {
     "name": "stdout",
     "output_type": "stream",
     "text": [
      "0.0002 0.00041 0.9998\n",
      "0.0 0.0 1.0\n"
     ]
    }
   ],
   "source": [
    "# written\n",
    "# KBNC + BNC\n",
    "kbnc_res = np.load('./several_times_sampling/LocalModelTest/LocalModel_inte_50_times_sampling_KBNC.npy', allow_pickle=True).item()\n",
    "res_df = pd.DataFrame.from_dict(kbnc_res)\n",
    "kbnc_kappa_df = pd.DataFrame()\n",
    "kbnc_balanced_acc_df = pd.DataFrame()\n",
    "for index, row in res_df.iterrows():\n",
    "    for counter in range(50):\n",
    "        kbnc_kappa_df.at[index, counter] = row[counter]['kappa']\n",
    "        kbnc_balanced_acc_df.at[index, counter] = row[counter]['balanced acc']\n",
    "\n",
    "bnc_res = np.load('./several_times_sampling/LocalModelTest/LocalModel_inte_50_times_sampling_BNC.npy', allow_pickle=True).item()\n",
    "res_df = pd.DataFrame.from_dict(bnc_res)\n",
    "bnc_kappa_df = pd.DataFrame()\n",
    "bnc_balanced_acc_df = pd.DataFrame()\n",
    "for index, row in res_df.iterrows():\n",
    "    for counter in range(50):\n",
    "        bnc_kappa_df.at[index, counter] = row[counter]['kappa']\n",
    "        bnc_balanced_acc_df.at[index, counter] = row[counter]['balanced acc']\n",
    "\n",
    "written_kappa = pd.concat([bnc_kappa_df, kbnc_kappa_df], axis=1)\n",
    "written_acc = pd.concat([bnc_balanced_acc_df, kbnc_balanced_acc_df], axis=1)\n",
    "\n",
    "# Wilcoxon rank-sum test\n",
    "# kappa\n",
    "sample_1 = written_kappa.iloc[2].dropna()\n",
    "sample_2 = written_kappa.iloc[3].dropna()\n",
    "kappa_wilcoxon_p_less = stat.ranksums(sample_1, sample_2, alternative='less')[1]\n",
    "kappa_wilcoxon_p_two = stat.ranksums(sample_1, sample_2, alternative='two-sided')[1]\n",
    "kappa_wilcoxon_p_greater = stat.ranksums(sample_1, sample_2, alternative='greater')[1]\n",
    "# balanced accuracy\n",
    "sample_1 = written_acc.iloc[2].dropna()\n",
    "sample_2 = written_acc.iloc[3].dropna()\n",
    "balanced_acc_wilcoxon_p_less = stat.ranksums(sample_1, sample_2, alternative='less')[1]\n",
    "balanced_acc_wilcoxon_p_two = stat.ranksums(sample_1, sample_2, alternative='two-sided')[1]\n",
    "balanced_acc_wilcoxon_p_greater = stat.ranksums(sample_1, sample_2, alternative='greater')[1]\n",
    "\n",
    "print(round(kappa_wilcoxon_p_less,5), round(kappa_wilcoxon_p_two, 5), round(kappa_wilcoxon_p_greater,5))\n",
    "print(round(balanced_acc_wilcoxon_p_less,5), round(balanced_acc_wilcoxon_p_two,5), round(balanced_acc_wilcoxon_p_greater,5))"
   ],
   "metadata": {
    "collapsed": false,
    "pycharm": {
     "name": "#%%\n"
    }
   }
  },
  {
   "cell_type": "code",
   "execution_count": 90,
   "outputs": [
    {
     "name": "stdout",
     "output_type": "stream",
     "text": [
      "0.00356 0.00712 0.99644\n",
      "0.26962 0.53924 0.73038\n"
     ]
    }
   ],
   "source": [
    "# spoken\n",
    "# CHILDES + CABNC\n",
    "childes_res = np.load('./several_times_sampling/LocalModelTest/LocalModel_inte_50_times_sampling_CHILDES.npy', allow_pickle=True).item()\n",
    "res_df = pd.DataFrame.from_dict(childes_res)\n",
    "childes_kappa_df = pd.DataFrame()\n",
    "childes_balanced_acc_df = pd.DataFrame()\n",
    "for index, row in res_df.iterrows():\n",
    "    for counter in range(50):\n",
    "        childes_kappa_df.at[index, counter] = row[counter]['kappa']\n",
    "        childes_balanced_acc_df.at[index, counter] = row[counter]['balanced acc']\n",
    "\n",
    "cabnc_res = np.load('./several_times_sampling/LocalModelTest/LocalModel_inte_50_times_sampling_CABNC.npy', allow_pickle=True).item()\n",
    "res_df = pd.DataFrame.from_dict(cabnc_res)\n",
    "cabnc_kappa_df = pd.DataFrame()\n",
    "cabnc_balanced_acc_df = pd.DataFrame()\n",
    "for index, row in res_df.iterrows():\n",
    "    for counter in range(50):\n",
    "        cabnc_kappa_df.at[index, counter] = row[counter]['kappa']\n",
    "        cabnc_balanced_acc_df.at[index, counter] = row[counter]['balanced acc']\n",
    "\n",
    "spoken_kappa = pd.concat([childes_kappa_df, cabnc_kappa_df], axis=1)\n",
    "spoken_acc = pd.concat([childes_balanced_acc_df, cabnc_balanced_acc_df], axis=1)\n",
    "\n",
    "# Wilcoxon rank-sum test\n",
    "# kappa\n",
    "sample_1 = spoken_kappa.iloc[1].dropna()\n",
    "sample_2 = spoken_kappa.iloc[2].dropna()\n",
    "kappa_wilcoxon_p_less = stat.ranksums(sample_1, sample_2, alternative='less')[1]\n",
    "kappa_wilcoxon_p_two = stat.ranksums(sample_1, sample_2, alternative='two-sided')[1]\n",
    "kappa_wilcoxon_p_greater = stat.ranksums(sample_1, sample_2, alternative='greater')[1]\n",
    "# balanced accuracy\n",
    "sample_1 = spoken_acc.iloc[1].dropna()\n",
    "sample_2 = spoken_acc.iloc[2].dropna()\n",
    "balanced_acc_wilcoxon_p_less = stat.ranksums(sample_1, sample_2, alternative='less')[1]\n",
    "balanced_acc_wilcoxon_p_two = stat.ranksums(sample_1, sample_2, alternative='two-sided')[1]\n",
    "balanced_acc_wilcoxon_p_greater = stat.ranksums(sample_1, sample_2, alternative='greater')[1]\n",
    "\n",
    "print(round(kappa_wilcoxon_p_less,5), round(kappa_wilcoxon_p_two, 5), round(kappa_wilcoxon_p_greater,5))\n",
    "print(round(balanced_acc_wilcoxon_p_less,5), round(balanced_acc_wilcoxon_p_two,5), round(balanced_acc_wilcoxon_p_greater,5))"
   ],
   "metadata": {
    "collapsed": false,
    "pycharm": {
     "name": "#%%\n"
    }
   }
  },
  {
   "cell_type": "code",
   "execution_count": 96,
   "outputs": [
    {
     "name": "stdout",
     "output_type": "stream",
     "text": [
      "0.0002 0.00041 0.9998\n",
      "0.0 0.0 1.0\n"
     ]
    }
   ],
   "source": [
    "# general\n",
    "# BNC + CABNC\n",
    "general_kappa = pd.concat([bnc_kappa_df, cabnc_kappa_df], axis=1)\n",
    "general_acc = pd.concat([bnc_balanced_acc_df, cabnc_balanced_acc_df], axis=1)\n",
    "\n",
    "# Wilcoxon rank-sum test\n",
    "# kappa\n",
    "sample_1 = general_kappa.iloc[2].dropna()\n",
    "sample_2 = general_kappa.iloc[3].dropna()\n",
    "kappa_wilcoxon_p_less = stat.ranksums(sample_1, sample_2, alternative='less')[1]\n",
    "kappa_wilcoxon_p_two = stat.ranksums(sample_1, sample_2, alternative='two-sided')[1]\n",
    "kappa_wilcoxon_p_greater = stat.ranksums(sample_1, sample_2, alternative='greater')[1]\n",
    "# balanced accuracy\n",
    "sample_1 = general_acc.iloc[2].dropna()\n",
    "sample_2 = general_acc.iloc[3].dropna()\n",
    "balanced_acc_wilcoxon_p_less = stat.ranksums(sample_1, sample_2, alternative='less')[1]\n",
    "balanced_acc_wilcoxon_p_two = stat.ranksums(sample_1, sample_2, alternative='two-sided')[1]\n",
    "balanced_acc_wilcoxon_p_greater = stat.ranksums(sample_1, sample_2, alternative='greater')[1]\n",
    "\n",
    "print(round(kappa_wilcoxon_p_less,5), round(kappa_wilcoxon_p_two, 5), round(kappa_wilcoxon_p_greater,5))\n",
    "print(round(balanced_acc_wilcoxon_p_less,5), round(balanced_acc_wilcoxon_p_two,5), round(balanced_acc_wilcoxon_p_greater,5))"
   ],
   "metadata": {
    "collapsed": false,
    "pycharm": {
     "name": "#%%\n"
    }
   }
  },
  {
   "cell_type": "code",
   "execution_count": 100,
   "outputs": [
    {
     "name": "stdout",
     "output_type": "stream",
     "text": [
      "0.07482 0.14964 0.92518\n",
      "0.06555 0.13111 0.93445\n"
     ]
    }
   ],
   "source": [
    "# children\n",
    "# KBNC + CHILDES\n",
    "children_kappa = pd.concat([childes_kappa_df, kbnc_kappa_df], axis=1)\n",
    "children_acc = pd.concat([childes_balanced_acc_df, kbnc_balanced_acc_df], axis=1)\n",
    "\n",
    "# Wilcoxon rank-sum test\n",
    "# kappa\n",
    "sample_1 = children_kappa.iloc[1].dropna()\n",
    "sample_2 = children_kappa.iloc[2].dropna()\n",
    "kappa_wilcoxon_p_less = stat.ranksums(sample_1, sample_2, alternative='less')[1]\n",
    "kappa_wilcoxon_p_two = stat.ranksums(sample_1, sample_2, alternative='two-sided')[1]\n",
    "kappa_wilcoxon_p_greater = stat.ranksums(sample_1, sample_2, alternative='greater')[1]\n",
    "# balanced accuracy\n",
    "sample_1 = children_acc.iloc[1].dropna()\n",
    "sample_2 = children_acc.iloc[2].dropna()\n",
    "balanced_acc_wilcoxon_p_less = stat.ranksums(sample_1, sample_2, alternative='less')[1]\n",
    "balanced_acc_wilcoxon_p_two = stat.ranksums(sample_1, sample_2, alternative='two-sided')[1]\n",
    "balanced_acc_wilcoxon_p_greater = stat.ranksums(sample_1, sample_2, alternative='greater')[1]\n",
    "\n",
    "print(round(kappa_wilcoxon_p_less,5), round(kappa_wilcoxon_p_two, 5), round(kappa_wilcoxon_p_greater,5))\n",
    "print(round(balanced_acc_wilcoxon_p_less,5), round(balanced_acc_wilcoxon_p_two,5), round(balanced_acc_wilcoxon_p_greater,5))"
   ],
   "metadata": {
    "collapsed": false,
    "pycharm": {
     "name": "#%%\n"
    }
   }
  },
  {
   "cell_type": "markdown",
   "source": [
    "## In TransferModel size v.s kappa / balanced acc"
   ],
   "metadata": {
    "collapsed": false
   }
  },
  {
   "cell_type": "code",
   "source": [
    "# CABNC\n",
    "cabnc_res = np.load('./several_times_sampling/TransferModelTest/TransferModel_inte_50_times_sampling_CABNC.npy', allow_pickle=True).item()\n",
    "res_df = pd.DataFrame.from_dict(cabnc_res)\n",
    "kappa_df = pd.DataFrame()\n",
    "balanced_acc_df = pd.DataFrame()\n",
    "for index, row in res_df.iterrows():\n",
    "    for counter in range(50):\n",
    "        kappa_df.at[index, counter] = row[counter]['kappa']\n",
    "        balanced_acc_df.at[index, counter] = row[counter]['balanced acc']\n",
    "\n",
    "# Wilcoxon rank-sum test\n",
    "# kappa\n",
    "sample_1 = kappa_df.iloc[0]\n",
    "sample_2 = kappa_df.iloc[1]\n",
    "kappa_wilcoxon_p = stat.ranksums(sample_1, sample_2, alternative='less')[1]\n",
    "# balanced accuracy\n",
    "sample_1 = balanced_acc_df.iloc[0]\n",
    "sample_2 = balanced_acc_df.iloc[1]\n",
    "balanced_acc_wilcoxon_p = stat.ranksums(sample_1, sample_2, alternative='less')[1]\n",
    "\n",
    "(kappa_wilcoxon_p, balanced_acc_wilcoxon_p)"
   ],
   "metadata": {
    "collapsed": false,
    "pycharm": {
     "name": "#%%\n"
    },
    "trusted": false
   },
   "execution_count": 54,
   "outputs": [
    {
     "data": {
      "text/plain": "(7.960976517441895e-06, 0.000255917282712585)"
     },
     "execution_count": 54,
     "metadata": {},
     "output_type": "execute_result"
    }
   ]
  },
  {
   "cell_type": "code",
   "execution_count": 61,
   "outputs": [
    {
     "data": {
      "text/plain": "(0.9623477714026561, 0.9569703068930604)"
     },
     "execution_count": 61,
     "metadata": {},
     "output_type": "execute_result"
    }
   ],
   "source": [
    "# CHILDES\n",
    "childes_res = np.load('./several_times_sampling/TransferModelTest/TransferModel_inte_50_times_sampling_CHILDES.npy', allow_pickle=True).item()\n",
    "res_df = pd.DataFrame.from_dict(childes_res)\n",
    "kappa_df = pd.DataFrame()\n",
    "balanced_acc_df = pd.DataFrame()\n",
    "for index, row in res_df.iterrows():\n",
    "    for counter in range(50):\n",
    "        kappa_df.at[index, counter] = row[counter]['kappa']\n",
    "        balanced_acc_df.at[index, counter] = row[counter]['balanced acc']\n",
    "\n",
    "# Wilcoxon rank-sum test\n",
    "# kappa\n",
    "sample_1 = kappa_df.iloc[1]\n",
    "sample_2 = kappa_df.iloc[2]\n",
    "kappa_wilcoxon_p = stat.ranksums(sample_1, sample_2, alternative='less')[1]\n",
    "# balanced accuracy\n",
    "sample_1 = balanced_acc_df.iloc[1]\n",
    "sample_2 = balanced_acc_df.iloc[2]\n",
    "balanced_acc_wilcoxon_p = stat.ranksums(sample_1, sample_2, alternative='less')[1]\n",
    "\n",
    "(kappa_wilcoxon_p, balanced_acc_wilcoxon_p)"
   ],
   "metadata": {
    "collapsed": false,
    "pycharm": {
     "name": "#%%\n"
    },
    "trusted": false
   }
  },
  {
   "cell_type": "code",
   "execution_count": 77,
   "outputs": [
    {
     "data": {
      "text/plain": "(3.3711695151588916e-06, 0.8310293670183667)"
     },
     "execution_count": 77,
     "metadata": {},
     "output_type": "execute_result"
    }
   ],
   "source": [
    "# BNC\n",
    "bnc_res = np.load('./several_times_sampling/TransferModelTest/TransferModel_inte_50_times_sampling_BNC.npy', allow_pickle=True).item()\n",
    "res_df = pd.DataFrame.from_dict(bnc_res)\n",
    "kappa_df = pd.DataFrame()\n",
    "balanced_acc_df = pd.DataFrame()\n",
    "for index, row in res_df.iterrows():\n",
    "    for counter in range(50):\n",
    "        kappa_df.at[index, counter] = row[counter]['kappa']\n",
    "        balanced_acc_df.at[index, counter] = row[counter]['balanced acc']\n",
    "\n",
    "# Wilcoxon rank-sum test\n",
    "# kappa\n",
    "sample_1 = kappa_df.iloc[2]\n",
    "sample_2 = kappa_df.iloc[3]\n",
    "kappa_wilcoxon_p = stat.ranksums(sample_1, sample_2, alternative='less')[1]\n",
    "# balanced accuracy\n",
    "sample_1 = balanced_acc_df.iloc[2]\n",
    "sample_2 = balanced_acc_df.iloc[3]\n",
    "balanced_acc_wilcoxon_p = stat.ranksums(sample_1, sample_2, alternative='less')[1]\n",
    "\n",
    "(kappa_wilcoxon_p, balanced_acc_wilcoxon_p)"
   ],
   "metadata": {
    "collapsed": false,
    "pycharm": {
     "name": "#%%\n"
    },
    "trusted": false
   }
  },
  {
   "cell_type": "markdown",
   "source": [
    "### TransferModel types and audience"
   ],
   "metadata": {
    "collapsed": false
   }
  },
  {
   "cell_type": "code",
   "execution_count": 107,
   "outputs": [
    {
     "name": "stdout",
     "output_type": "stream",
     "text": [
      "0.0 1e-05 1.0\n",
      "0.83103 0.33794 0.16897\n"
     ]
    }
   ],
   "source": [
    "# written\n",
    "# KBNC + BNC\n",
    "kbnc_res = np.load('./several_times_sampling/TransferModelTest/TransferModel_inte_50_times_sampling_KBNC.npy', allow_pickle=True).item()\n",
    "res_df = pd.DataFrame.from_dict(kbnc_res)\n",
    "kbnc_kappa_df = pd.DataFrame()\n",
    "kbnc_balanced_acc_df = pd.DataFrame()\n",
    "for index, row in res_df.iterrows():\n",
    "    for counter in range(50):\n",
    "        kbnc_kappa_df.at[index, counter] = row[counter]['kappa']\n",
    "        kbnc_balanced_acc_df.at[index, counter] = row[counter]['balanced acc']\n",
    "\n",
    "bnc_res = np.load('./several_times_sampling/TransferModelTest/TransferModel_inte_50_times_sampling_BNC.npy', allow_pickle=True).item()\n",
    "res_df = pd.DataFrame.from_dict(bnc_res)\n",
    "bnc_kappa_df = pd.DataFrame()\n",
    "bnc_balanced_acc_df = pd.DataFrame()\n",
    "for index, row in res_df.iterrows():\n",
    "    for counter in range(50):\n",
    "        bnc_kappa_df.at[index, counter] = row[counter]['kappa']\n",
    "        bnc_balanced_acc_df.at[index, counter] = row[counter]['balanced acc']\n",
    "\n",
    "written_kappa = pd.concat([bnc_kappa_df, kbnc_kappa_df], axis=1)\n",
    "written_acc = pd.concat([bnc_balanced_acc_df, kbnc_balanced_acc_df], axis=1)\n",
    "\n",
    "# Wilcoxon rank-sum test\n",
    "# kappa\n",
    "sample_1 = written_kappa.iloc[2].dropna()\n",
    "sample_2 = written_kappa.iloc[3].dropna()\n",
    "kappa_wilcoxon_p_less = stat.ranksums(sample_1, sample_2, alternative='less')[1]\n",
    "kappa_wilcoxon_p_two = stat.ranksums(sample_1, sample_2, alternative='two-sided')[1]\n",
    "kappa_wilcoxon_p_greater = stat.ranksums(sample_1, sample_2, alternative='greater')[1]\n",
    "# balanced accuracy\n",
    "sample_1 = written_acc.iloc[2].dropna()\n",
    "sample_2 = written_acc.iloc[3].dropna()\n",
    "balanced_acc_wilcoxon_p_less = stat.ranksums(sample_1, sample_2, alternative='less')[1]\n",
    "balanced_acc_wilcoxon_p_two = stat.ranksums(sample_1, sample_2, alternative='two-sided')[1]\n",
    "balanced_acc_wilcoxon_p_greater = stat.ranksums(sample_1, sample_2, alternative='greater')[1]\n",
    "\n",
    "print(round(kappa_wilcoxon_p_less,5), round(kappa_wilcoxon_p_two, 5), round(kappa_wilcoxon_p_greater,5))\n",
    "print(round(balanced_acc_wilcoxon_p_less,5), round(balanced_acc_wilcoxon_p_two,5), round(balanced_acc_wilcoxon_p_greater,5))"
   ],
   "metadata": {
    "collapsed": false,
    "pycharm": {
     "name": "#%%\n"
    }
   }
  },
  {
   "cell_type": "code",
   "execution_count": 112,
   "outputs": [
    {
     "name": "stdout",
     "output_type": "stream",
     "text": [
      "0.50954 0.98092 0.49046\n",
      "0.00062 0.00124 0.99938\n"
     ]
    }
   ],
   "source": [
    "# spoken\n",
    "# CHILDES + CABNC\n",
    "childes_res = np.load('./several_times_sampling/TransferModelTest/TransferModel_inte_50_times_sampling_CHILDES.npy', allow_pickle=True).item()\n",
    "res_df = pd.DataFrame.from_dict(childes_res)\n",
    "childes_kappa_df = pd.DataFrame()\n",
    "childes_balanced_acc_df = pd.DataFrame()\n",
    "for index, row in res_df.iterrows():\n",
    "    for counter in range(50):\n",
    "        childes_kappa_df.at[index, counter] = row[counter]['kappa']\n",
    "        childes_balanced_acc_df.at[index, counter] = row[counter]['balanced acc']\n",
    "\n",
    "cabnc_res = np.load('./several_times_sampling/TransferModelTest/TransferModel_inte_50_times_sampling_CABNC.npy', allow_pickle=True).item()\n",
    "res_df = pd.DataFrame.from_dict(cabnc_res)\n",
    "cabnc_kappa_df = pd.DataFrame()\n",
    "cabnc_balanced_acc_df = pd.DataFrame()\n",
    "for index, row in res_df.iterrows():\n",
    "    for counter in range(50):\n",
    "        cabnc_kappa_df.at[index, counter] = row[counter]['kappa']\n",
    "        cabnc_balanced_acc_df.at[index, counter] = row[counter]['balanced acc']\n",
    "\n",
    "spoken_kappa = pd.concat([childes_kappa_df, cabnc_kappa_df], axis=1)\n",
    "spoken_acc = pd.concat([childes_balanced_acc_df, cabnc_balanced_acc_df], axis=1)\n",
    "\n",
    "# Wilcoxon rank-sum test\n",
    "# kappa\n",
    "sample_1 = spoken_kappa.iloc[1].dropna()\n",
    "sample_2 = spoken_kappa.iloc[2].dropna()\n",
    "kappa_wilcoxon_p_less = stat.ranksums(sample_1, sample_2, alternative='less')[1]\n",
    "kappa_wilcoxon_p_two = stat.ranksums(sample_1, sample_2, alternative='two-sided')[1]\n",
    "kappa_wilcoxon_p_greater = stat.ranksums(sample_1, sample_2, alternative='greater')[1]\n",
    "# balanced accuracy\n",
    "sample_1 = spoken_acc.iloc[1].dropna()\n",
    "sample_2 = spoken_acc.iloc[2].dropna()\n",
    "balanced_acc_wilcoxon_p_less = stat.ranksums(sample_1, sample_2, alternative='less')[1]\n",
    "balanced_acc_wilcoxon_p_two = stat.ranksums(sample_1, sample_2, alternative='two-sided')[1]\n",
    "balanced_acc_wilcoxon_p_greater = stat.ranksums(sample_1, sample_2, alternative='greater')[1]\n",
    "\n",
    "print(round(kappa_wilcoxon_p_less,5), round(kappa_wilcoxon_p_two, 5), round(kappa_wilcoxon_p_greater,5))\n",
    "print(round(balanced_acc_wilcoxon_p_less,5), round(balanced_acc_wilcoxon_p_two,5), round(balanced_acc_wilcoxon_p_greater,5))"
   ],
   "metadata": {
    "collapsed": false,
    "pycharm": {
     "name": "#%%\n"
    }
   }
  },
  {
   "cell_type": "code",
   "execution_count": 118,
   "outputs": [
    {
     "name": "stdout",
     "output_type": "stream",
     "text": [
      "0.0 1e-05 1.0\n",
      "0.83103 0.33794 0.16897\n"
     ]
    }
   ],
   "source": [
    "# general\n",
    "# BNC + CABNC\n",
    "general_kappa = pd.concat([bnc_kappa_df, cabnc_kappa_df], axis=1)\n",
    "general_acc = pd.concat([bnc_balanced_acc_df, cabnc_balanced_acc_df], axis=1)\n",
    "\n",
    "# Wilcoxon rank-sum test\n",
    "# kappa\n",
    "sample_1 = general_kappa.iloc[2].dropna()\n",
    "sample_2 = general_kappa.iloc[3].dropna()\n",
    "kappa_wilcoxon_p_less = stat.ranksums(sample_1, sample_2, alternative='less')[1]\n",
    "kappa_wilcoxon_p_two = stat.ranksums(sample_1, sample_2, alternative='two-sided')[1]\n",
    "kappa_wilcoxon_p_greater = stat.ranksums(sample_1, sample_2, alternative='greater')[1]\n",
    "# balanced accuracy\n",
    "sample_1 = general_acc.iloc[2].dropna()\n",
    "sample_2 = general_acc.iloc[3].dropna()\n",
    "balanced_acc_wilcoxon_p_less = stat.ranksums(sample_1, sample_2, alternative='less')[1]\n",
    "balanced_acc_wilcoxon_p_two = stat.ranksums(sample_1, sample_2, alternative='two-sided')[1]\n",
    "balanced_acc_wilcoxon_p_greater = stat.ranksums(sample_1, sample_2, alternative='greater')[1]\n",
    "\n",
    "print(round(kappa_wilcoxon_p_less,5), round(kappa_wilcoxon_p_two, 5), round(kappa_wilcoxon_p_greater,5))\n",
    "print(round(balanced_acc_wilcoxon_p_less,5), round(balanced_acc_wilcoxon_p_two,5), round(balanced_acc_wilcoxon_p_greater,5))"
   ],
   "metadata": {
    "collapsed": false,
    "pycharm": {
     "name": "#%%\n"
    }
   }
  },
  {
   "cell_type": "code",
   "execution_count": 121,
   "outputs": [
    {
     "name": "stdout",
     "output_type": "stream",
     "text": [
      "0.96235 0.0753 0.03765\n",
      "0.95697 0.08606 0.04303\n"
     ]
    }
   ],
   "source": [
    "# children\n",
    "# KBNC + CHILDES\n",
    "children_kappa = pd.concat([childes_kappa_df, kbnc_kappa_df], axis=1)\n",
    "children_acc = pd.concat([childes_balanced_acc_df, kbnc_balanced_acc_df], axis=1)\n",
    "\n",
    "# Wilcoxon rank-sum test\n",
    "# kappa\n",
    "sample_1 = children_kappa.iloc[1].dropna()\n",
    "sample_2 = children_kappa.iloc[2].dropna()\n",
    "kappa_wilcoxon_p_less = stat.ranksums(sample_1, sample_2, alternative='less')[1]\n",
    "kappa_wilcoxon_p_two = stat.ranksums(sample_1, sample_2, alternative='two-sided')[1]\n",
    "kappa_wilcoxon_p_greater = stat.ranksums(sample_1, sample_2, alternative='greater')[1]\n",
    "# balanced accuracy\n",
    "sample_1 = children_acc.iloc[1].dropna()\n",
    "sample_2 = children_acc.iloc[2].dropna()\n",
    "balanced_acc_wilcoxon_p_less = stat.ranksums(sample_1, sample_2, alternative='less')[1]\n",
    "balanced_acc_wilcoxon_p_two = stat.ranksums(sample_1, sample_2, alternative='two-sided')[1]\n",
    "balanced_acc_wilcoxon_p_greater = stat.ranksums(sample_1, sample_2, alternative='greater')[1]\n",
    "\n",
    "print(round(kappa_wilcoxon_p_less,5), round(kappa_wilcoxon_p_two, 5), round(kappa_wilcoxon_p_greater,5))\n",
    "print(round(balanced_acc_wilcoxon_p_less,5), round(balanced_acc_wilcoxon_p_two,5), round(balanced_acc_wilcoxon_p_greater,5))"
   ],
   "metadata": {
    "collapsed": false,
    "pycharm": {
     "name": "#%%\n"
    }
   }
  }
 ],
 "metadata": {
  "kernelspec": {
   "display_name": "Python 3",
   "language": "python",
   "name": "python3"
  },
  "language_info": {
   "codemirror_mode": {
    "name": "ipython",
    "version": 2
   },
   "file_extension": ".py",
   "mimetype": "text/x-python",
   "name": "python",
   "nbconvert_exporter": "python",
   "pygments_lexer": "ipython2",
   "version": "2.7.6"
  }
 },
 "nbformat": 4,
 "nbformat_minor": 0
}