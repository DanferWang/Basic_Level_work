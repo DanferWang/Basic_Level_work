{
 "cells": [
  {
   "cell_type": "code",
   "execution_count": 1,
   "metadata": {
    "collapsed": true,
    "trusted": false
   },
   "outputs": [],
   "source": [
    "import pylangacq\n",
    "import pandas as pd\n",
    "import numpy as np\n",
    "from nltk.corpus import wordnet\n",
    "from sklearn.model_selection import StratifiedKFold\n",
    "from sklearn.model_selection import train_test_split\n",
    "from imblearn.over_sampling import SMOTE\n",
    "from sklearn.ensemble import RandomForestClassifier\n",
    "from imblearn.pipeline import make_pipeline\n",
    "from sklearn.metrics import classification_report, cohen_kappa_score, balanced_accuracy_score\n",
    "from nltk.corpus.reader.bnc import BNCCorpusReader\n",
    "\n",
    "import warnings\n",
    "warnings.filterwarnings(\"ignore\")"
   ]
  },
  {
   "cell_type": "code",
   "execution_count": 2,
   "outputs": [],
   "source": [
    "# only once run for download WordNet or update\n",
    "import nltk\n",
    "# nltk.download('wordnet', download_dir='./')\n",
    "nltk.data.path.append('../../')"
   ],
   "metadata": {
    "collapsed": false,
    "pycharm": {
     "name": "#%%\n"
    },
    "trusted": false
   }
  },
  {
   "cell_type": "code",
   "execution_count": 3,
   "outputs": [],
   "source": [
    "# inherit features from Gold Standard dataset\n",
    "GS_all_agreed = pd.read_csv('../../sampled_count/GS_All_Agreed.csv', index_col=0)\n",
    "features_target = ['Synsets','domain_x',\n",
    "                   'nrdirhypers_x',\n",
    "                   'nrhypos_x',\n",
    "                   'nrpartrels_normalised_x',\n",
    "                   'depthfromtopsynset_normalised_x',\n",
    "                   'glosslength_normalised_x',\n",
    "                   'minwordlength_x',\n",
    "                   'nroflemmas_x',\n",
    "                   'polyscore_max_x',\n",
    "                   'vote_x']\n",
    "GS_adopt = GS_all_agreed[features_target]\n",
    "\n",
    "# extract norms from synsets\n",
    "GS_adopt['norm'] = GS_adopt['Synsets'].str.split(\"'\").str[1].str.split('.').str[0]\n",
    "GS_adopt = GS_adopt.set_index('norm').reset_index()"
   ],
   "metadata": {
    "collapsed": false,
    "pycharm": {
     "name": "#%%\n"
    },
    "trusted": false
   }
  },
  {
   "cell_type": "code",
   "execution_count": 4,
   "outputs": [],
   "source": [
    "# matching norms with corpora\n",
    "def sum_lemmas(norm, corpora):\n",
    "    # search norm in WordNet\n",
    "    synsets_list = wordnet.synsets(norm)\n",
    "    lemmas = []\n",
    "    feq_count = 0\n",
    "    for synset in synsets_list:\n",
    "        # extract lemmas from every synset\n",
    "        lemmas += [str(lemma.name()) for lemma in synset.lemmas()]\n",
    "    for lemma in lemmas:\n",
    "        # check each lemma in corpora\n",
    "        feq_count += corpora.loc[lemma == corpora.index].to_numpy().sum()\n",
    "\n",
    "    return feq_count"
   ],
   "metadata": {
    "collapsed": false,
    "pycharm": {
     "name": "#%%\n"
    },
    "trusted": false
   }
  },
  {
   "cell_type": "code",
   "execution_count": 5,
   "outputs": [],
   "source": [
    "# define features and target\n",
    "features = ['nrdirhypers_x',\n",
    "            'nrhypos_x',\n",
    "            'nrpartrels_normalised_x',\n",
    "            'depthfromtopsynset_normalised_x',\n",
    "            'glosslength_normalised_x',\n",
    "            'minwordlength_x',\n",
    "            'nroflemmas_x',\n",
    "            'polyscore_max_x']\n",
    "target = ['vote_x'] # nb / b"
   ],
   "metadata": {
    "collapsed": false,
    "pycharm": {
     "name": "#%%\n"
    },
    "trusted": false
   }
  },
  {
   "cell_type": "code",
   "execution_count": 8,
   "outputs": [],
   "source": [
    "# use four domains to train and the other to test\n",
    "def transfer_model_test(training, testing, feature, sized_corpora, target):\n",
    "    random_seed = 7 # R\n",
    "    training_data = training.reset_index()\n",
    "    testing_data = testing.reset_index()\n",
    "    feature_list = feature + [sized_corpora]\n",
    "    X_train = training_data[feature_list]\n",
    "    y_train = training_data[target]\n",
    "    X_test = testing_data[feature_list]\n",
    "    y_test = testing_data[target]\n",
    "\n",
    "    # SMOTE algorithm\n",
    "    smote = SMOTE(random_state=random_seed, k_neighbors=2)\n",
    "    X_train, y_train = smote.fit_resample(X_train, y_train)\n",
    "\n",
    "    # define random forest model\n",
    "    rf = RandomForestClassifier(random_state=random_seed, max_features='sqrt', n_estimators=1400, min_samples_split=2, min_samples_leaf=1, max_depth=50, oob_score=True, criterion='gini', bootstrap=True).fit(X_train, y_train)\n",
    "\n",
    "    # predict and make score\n",
    "    pipeline = make_pipeline(smote, rf)\n",
    "    y_pred = pipeline.predict(X_test)\n",
    "\n",
    "    kappa = cohen_kappa_score(y_test, y_pred)\n",
    "    balanced_accuracy = balanced_accuracy_score(y_test, y_pred)\n",
    "\n",
    "    results = classification_report(y_test, y_pred, output_dict=True)\n",
    "    results = pd.DataFrame(results).transpose()\n",
    "\n",
    "    results['cohen kappa'] = kappa\n",
    "    results['balanced acc'] = balanced_accuracy\n",
    "    results['unseen'] = list(testing['domain_x'])[0]\n",
    "\n",
    "    # importance of features\n",
    "    # importance = rf.feature_importances_\n",
    "    # importance = pd.DataFrame([features, importance]).transpose()\n",
    "    # importance = importance.rename(columns={0:'feature', 1:'importance'}).sort_values('importance', ascending=False)\n",
    "\n",
    "    importance = pd.DataFrame() # no importance\n",
    "    return results, importance"
   ],
   "metadata": {
    "collapsed": false,
    "pycharm": {
     "name": "#%%\n"
    },
    "trusted": false
   }
  },
  {
   "cell_type": "code",
   "execution_count": 9,
   "outputs": [
    {
     "ename": "NameError",
     "evalue": "name 'feature' is not defined",
     "output_type": "error",
     "traceback": [
      "\u001B[0;31m---------------------------------------------------------------------------\u001B[0m",
      "\u001B[0;31mNameError\u001B[0m                                 Traceback (most recent call last)",
      "\u001B[0;32m/tmp/ipykernel_111641/1154280885.py\u001B[0m in \u001B[0;36m<module>\u001B[0;34m\u001B[0m\n\u001B[1;32m     17\u001B[0m \u001B[0mkappa_list\u001B[0m \u001B[0;34m=\u001B[0m \u001B[0;34m[\u001B[0m\u001B[0;34m]\u001B[0m\u001B[0;34m\u001B[0m\u001B[0;34m\u001B[0m\u001B[0m\n\u001B[1;32m     18\u001B[0m \u001B[0;32mfor\u001B[0m \u001B[0mi\u001B[0m \u001B[0;32min\u001B[0m \u001B[0mrange\u001B[0m\u001B[0;34m(\u001B[0m\u001B[0mlen\u001B[0m\u001B[0;34m(\u001B[0m\u001B[0mlocal_list\u001B[0m\u001B[0;34m)\u001B[0m\u001B[0;34m)\u001B[0m\u001B[0;34m:\u001B[0m\u001B[0;34m\u001B[0m\u001B[0;34m\u001B[0m\u001B[0m\n\u001B[0;32m---> 19\u001B[0;31m     \u001B[0mresults\u001B[0m\u001B[0;34m,\u001B[0m \u001B[0mimportance\u001B[0m \u001B[0;34m=\u001B[0m \u001B[0mtransfer_model_test\u001B[0m\u001B[0;34m(\u001B[0m\u001B[0munseen_list\u001B[0m\u001B[0;34m[\u001B[0m\u001B[0mi\u001B[0m\u001B[0;34m]\u001B[0m\u001B[0;34m,\u001B[0m \u001B[0mlocal_list\u001B[0m\u001B[0;34m[\u001B[0m\u001B[0mi\u001B[0m\u001B[0;34m]\u001B[0m\u001B[0;34m,\u001B[0m \u001B[0mfeature\u001B[0m\u001B[0;34m,\u001B[0m \u001B[0;34m''\u001B[0m\u001B[0;34m,\u001B[0m \u001B[0mtarget\u001B[0m\u001B[0;34m)\u001B[0m\u001B[0;34m\u001B[0m\u001B[0;34m\u001B[0m\u001B[0m\n\u001B[0m\u001B[1;32m     20\u001B[0m     \u001B[0mkappa\u001B[0m \u001B[0;34m=\u001B[0m \u001B[0mresults\u001B[0m\u001B[0;34m[\u001B[0m\u001B[0;34m'cohen kappa'\u001B[0m\u001B[0;34m]\u001B[0m\u001B[0;34m\u001B[0m\u001B[0;34m\u001B[0m\u001B[0m\n\u001B[1;32m     21\u001B[0m     \u001B[0mkappa_list\u001B[0m\u001B[0;34m.\u001B[0m\u001B[0mappend\u001B[0m\u001B[0;34m(\u001B[0m\u001B[0mkappa\u001B[0m\u001B[0;34m)\u001B[0m\u001B[0;34m\u001B[0m\u001B[0;34m\u001B[0m\u001B[0m\n",
      "\u001B[0;31mNameError\u001B[0m: name 'feature' is not defined"
     ]
    }
   ],
   "source": [
    "# generate the local dataframe for different domains\n",
    "local_fruit = GS_adopt.loc[GS_adopt['domain_x'] == 'fruit']\n",
    "local_tool = GS_adopt.loc[GS_adopt['domain_x'] == 'tool']\n",
    "local_music = GS_adopt.loc[GS_adopt['domain_x'] == 'music']\n",
    "local_furniture = GS_adopt.loc[GS_adopt['domain_x'] == 'furn']\n",
    "local_garments = GS_adopt.loc[GS_adopt['domain_x'] == 'garm']\n",
    "\n",
    "unseen_fruit = GS_adopt.loc[GS_adopt['domain_x']!='fruit']\n",
    "unseen_tool = GS_adopt.loc[GS_adopt['domain_x']!='tool']\n",
    "unseen_music = GS_adopt.loc[GS_adopt['domain_x']!='music']\n",
    "unseen_furniture = GS_adopt.loc[GS_adopt['domain_x']!='furn']\n",
    "unseen_garments = GS_adopt.loc[GS_adopt['domain_x']!='garm']\n",
    "\n",
    "local_list = [local_fruit, local_tool, local_music, local_furniture, local_garments]\n",
    "unseen_list = [unseen_fruit, unseen_tool, unseen_music, unseen_furniture, unseen_garments]\n"
   ],
   "metadata": {
    "collapsed": false,
    "pycharm": {
     "name": "#%%\n"
    },
    "trusted": false
   }
  },
  {
   "cell_type": "markdown",
   "source": "## KBNC by 50 times sampling corpus",
   "metadata": {
    "collapsed": false
   }
  },
  {
   "cell_type": "code",
   "execution_count": 7,
   "outputs": [],
   "source": "# extract all child audience from BNC, known as KBNC (according to ./BNC_WORLD_INDEX.XLS)\naud_child = ['A/A7/A7A.xml', 'A/AB/ABX.xml', 'A/AC/AC5.xml', 'A/AC/AC4.xml', 'A/AC/ACB.xml', 'A/AC/ACV.xml',\n             'A/AE/AEB.xml', 'A/AL/ALS.xml', 'A/AM/AMB.xml', 'A/AP/APW.xml', 'A/AT/AT4.xml', 'B/B0/B0B.xml',\n             'B/B1/B1S.xml', 'B/B2/B2V.xml', 'B/B2/B2N.xml', 'B/BM/BMU.xml', 'B/BP/BPD.xml', 'C/C8/C85.xml',\n             'C/C8/C8N.xml', 'C/CA/CA3.xml', 'C/CA/CAB.xml', 'C/CA/CAX.xml', 'C/CC/CCA.xml', 'C/CE/CE0.xml',\n             'C/CE/CEU.xml', 'C/CF/CFJ.xml', 'C/CH/CH4.xml', 'C/CH/CH9.xml', 'C/CH/CHR.xml', 'E/EF/EFJ.xml',\n             'F/FE/FEH.xml', 'F/FN/FNS.xml', 'F/FP/FPT.xml', 'F/FP/FPV.xml', 'F/FS/FSL.xml', 'F/FU/FUB.xml',\n             'G/G2/G22.xml', 'G/G2/G23.xml', 'G/G2/G24.xml', 'G/G2/G25.xml', 'H/H9/H93.xml', 'H/H9/H9E.xml']\nkbnc_reader = BNCCorpusReader(root='../../corpora/BNC/2554.zip/download/Texts/', fileids=aud_child)\nkbnc = kbnc_reader.words()\n\nkbnc_df = pd.Series(kbnc)\nrandom_seed = 7\n",
   "metadata": {
    "collapsed": false,
    "pycharm": {
     "name": "#%%\n"
    },
    "trusted": false
   }
  },
  {
   "cell_type": "code",
   "execution_count": 13,
   "outputs": [],
   "source": "# define a function to perform several times sampling\ndef multiSample_KBNC(n):\n    result_dict = {}\n    for time in range(n):\n        kbnc_1m = kbnc_df.sample(n=1000000)\n\n        # create a word count from dictionary into dataframe\n        # addition: convert all words into low case\n        kbnc_1m_freq = nltk.FreqDist(word.lower() for word in kbnc_1m)\n        kbnc_1m_df = pd.DataFrame.from_dict(kbnc_1m_freq, orient='index').reset_index().rename(\n            columns={0: 'KBNC_Count', 'index': 'norm'}).set_index('norm')\n        GS_adopt['kbnc_1m_sum'] = GS_adopt['norm'].apply(lambda norm: sum_lemmas(norm, kbnc_1m_df))\n\n        # generate the local dataframe for different domains\n        local_fruit = GS_adopt.loc[GS_adopt['domain_x'] == 'fruit']\n        local_tool = GS_adopt.loc[GS_adopt['domain_x'] == 'tool']\n        local_music = GS_adopt.loc[GS_adopt['domain_x'] == 'music']\n        local_furniture = GS_adopt.loc[GS_adopt['domain_x'] == 'furn']\n        local_garments = GS_adopt.loc[GS_adopt['domain_x'] == 'garm']\n\n        unseen_fruit = GS_adopt.loc[GS_adopt['domain_x']!='fruit']\n        unseen_tool = GS_adopt.loc[GS_adopt['domain_x']!='tool']\n        unseen_music = GS_adopt.loc[GS_adopt['domain_x']!='music']\n        unseen_furniture = GS_adopt.loc[GS_adopt['domain_x']!='furn']\n        unseen_garments = GS_adopt.loc[GS_adopt['domain_x']!='garm']\n\n        # TransferModel test\n        result_dict[time] = {'1M': {'fruit': {}, 'tool': {}, 'music': {}, 'furniture': {}, 'garments': {}}}\n        sized_corpora = 'kbnc_1m_sum'\n        result_kappa_acc, result_importance = transfer_model_test(unseen_fruit, local_fruit, features, sized_corpora, target)\n        result_dict[time]['1M']['fruit']['kappa'] = result_kappa_acc['cohen kappa'][0]\n        result_dict[time]['1M']['fruit']['balanced acc'] = result_kappa_acc['balanced acc'][0]\n\n        result_kappa_acc, result_importance = transfer_model_test(unseen_tool, local_tool, features, sized_corpora, target)\n        result_dict[time]['1M']['tool']['kappa'] = result_kappa_acc['cohen kappa'][0]\n        result_dict[time]['1M']['tool']['balanced acc'] = result_kappa_acc['balanced acc'][0]\n\n        result_kappa_acc, result_importance = transfer_model_test(unseen_music, local_music, features, sized_corpora, target)\n        result_dict[time]['1M']['music']['kappa'] = result_kappa_acc['cohen kappa'][0]\n        result_dict[time]['1M']['music']['balanced acc'] = result_kappa_acc['balanced acc'][0]\n\n        result_kappa_acc, result_importance = transfer_model_test(unseen_furniture, local_furniture, features, sized_corpora, target)\n        result_dict[time]['1M']['furniture']['kappa'] = result_kappa_acc['cohen kappa'][0]\n        result_dict[time]['1M']['furniture']['balanced acc'] = result_kappa_acc['balanced acc'][0]\n\n        result_kappa_acc, result_importance = transfer_model_test(unseen_garments, local_garments, features, sized_corpora, target)\n        result_dict[time]['1M']['garments']['kappa'] = result_kappa_acc['cohen kappa'][0]\n        result_dict[time]['1M']['garments']['balanced acc'] = result_kappa_acc['balanced acc'][0]\n\n    return result_dict\n",
   "metadata": {
    "collapsed": false,
    "pycharm": {
     "name": "#%%\n"
    },
    "trusted": false
   }
  },
  {
   "cell_type": "code",
   "execution_count": 16,
   "outputs": [],
   "source": "multiResult = multiSample_KBNC(50)",
   "metadata": {
    "collapsed": false,
    "pycharm": {
     "name": "#%%\n"
    },
    "trusted": false
   }
  },
  {
   "cell_type": "code",
   "execution_count": 17,
   "outputs": [
    {
     "data": {
      "text/plain": "{0: {'1M': {'fruit': {'kappa': 0.7867760123013838,\n    'balanced acc': 0.9080276448697502},\n   'tool': {'kappa': 0.7744998304510003, 'balanced acc': 0.922962962962963},\n   'music': {'kappa': 0.5123030135471385, 'balanced acc': 0.7495286830056558},\n   'furniture': {'kappa': 0.24815119145439601,\n    'balanced acc': 0.7084355828220859},\n   'garments': {'kappa': 0.283032416906032,\n    'balanced acc': 0.7467799642218247}}},\n 1: {'1M': {'fruit': {'kappa': 0.7601230138390569,\n    'balanced acc': 0.8942052099946837},\n   'tool': {'kappa': 0.8566295364714337, 'balanced acc': 0.9414814814814815},\n   'music': {'kappa': 0.5317919075144508, 'balanced acc': 0.7601669808779963},\n   'furniture': {'kappa': 0.28899167437557816,\n    'balanced acc': 0.7395705521472393},\n   'garments': {'kappa': 0.283032416906032,\n    'balanced acc': 0.7467799642218247}}},\n 2: {'1M': {'fruit': {'kappa': 0.7742594484167518,\n    'balanced acc': 0.902977139819245},\n   'tool': {'kappa': 0.8143754361479414, 'balanced acc': 0.9322222222222223},\n   'music': {'kappa': 0.5430962343096234, 'balanced acc': 0.7621869108537571},\n   'furniture': {'kappa': 0.26966932725199544,\n    'balanced acc': 0.717638036809816},\n   'garments': {'kappa': 0.2884964002693323,\n    'balanced acc': 0.7491055456171736}}},\n 3: {'1M': {'fruit': {'kappa': 0.7618320610687023,\n    'balanced acc': 0.89792663476874},\n   'tool': {'kappa': 0.7941530524505589, 'balanced acc': 0.9275925925925926},\n   'music': {'kappa': 0.5276312135517912, 'balanced acc': 0.7558577969297064},\n   'furniture': {'kappa': 0.26230430299053153,\n    'balanced acc': 0.7145705521472393},\n   'garments': {'kappa': 0.29406841719845167,\n    'balanced acc': 0.7514311270125223}}},\n 4: {'1M': {'fruit': {'kappa': 0.7458847736625515,\n    'balanced acc': 0.8854332801701222},\n   'tool': {'kappa': 0.7941530524505589, 'balanced acc': 0.9275925925925926},\n   'music': {'kappa': 0.5276312135517912, 'balanced acc': 0.7558577969297064},\n   'furniture': {'kappa': 0.26230430299053153,\n    'balanced acc': 0.7145705521472393},\n   'garments': {'kappa': 0.27767335534671067,\n    'balanced acc': 0.7444543828264758}}},\n 5: {'1M': {'fruit': {'kappa': 0.7618320610687023,\n    'balanced acc': 0.89792663476874},\n   'tool': {'kappa': 0.8143754361479414, 'balanced acc': 0.9322222222222223},\n   'music': {'kappa': 0.5276312135517912, 'balanced acc': 0.7558577969297064},\n   'furniture': {'kappa': 0.28899167437557816,\n    'balanced acc': 0.7395705521472393},\n   'garments': {'kappa': 0.283032416906032,\n    'balanced acc': 0.7467799642218247}}},\n 6: {'1M': {'fruit': {'kappa': 0.7477017364657814,\n    'balanced acc': 0.8891547049441786},\n   'tool': {'kappa': 0.7941530524505589, 'balanced acc': 0.9275925925925926},\n   'music': {'kappa': 0.5317919075144508, 'balanced acc': 0.7601669808779963},\n   'furniture': {'kappa': 0.2743330930064888,\n    'balanced acc': 0.7334355828220859},\n   'garments': {'kappa': 0.283032416906032,\n    'balanced acc': 0.7467799642218247}}},\n 7: {'1M': {'fruit': {'kappa': 0.7618320610687023,\n    'balanced acc': 0.89792663476874},\n   'tool': {'kappa': 0.8351920693928129, 'balanced acc': 0.9368518518518518},\n   'music': {'kappa': 0.5276312135517912, 'balanced acc': 0.7558577969297064},\n   'furniture': {'kappa': 0.26230430299053153,\n    'balanced acc': 0.7145705521472393},\n   'garments': {'kappa': 0.27767335534671067,\n    'balanced acc': 0.7444543828264758}}},\n 8: {'1M': {'fruit': {'kappa': 0.772633744855967,\n    'balanced acc': 0.8992557150451888},\n   'tool': {'kappa': 0.8351920693928129, 'balanced acc': 0.9368518518518518},\n   'music': {'kappa': 0.5123030135471385, 'balanced acc': 0.7495286830056558},\n   'furniture': {'kappa': 0.2743330930064888,\n    'balanced acc': 0.7334355828220859},\n   'garments': {'kappa': 0.283032416906032,\n    'balanced acc': 0.7467799642218247}}},\n 9: {'1M': {'fruit': {'kappa': 0.7010000000000001,\n    'balanced acc': 0.8726741095162147},\n   'tool': {'kappa': 0.8143754361479414, 'balanced acc': 0.9322222222222223},\n   'music': {'kappa': 0.5123030135471385, 'balanced acc': 0.7495286830056558},\n   'furniture': {'kappa': 0.26966932725199544,\n    'balanced acc': 0.717638036809816},\n   'garments': {'kappa': 0.27241622219985906,\n    'balanced acc': 0.7421288014311269}}},\n 10: {'1M': {'fruit': {'kappa': 0.7458847736625515,\n    'balanced acc': 0.8854332801701222},\n   'tool': {'kappa': 0.8351920693928129, 'balanced acc': 0.9368518518518518},\n   'music': {'kappa': 0.5276312135517912, 'balanced acc': 0.7558577969297064},\n   'furniture': {'kappa': 0.26966932725199544,\n    'balanced acc': 0.717638036809816},\n   'garments': {'kappa': 0.283032416906032,\n    'balanced acc': 0.7467799642218247}}},\n 11: {'1M': {'fruit': {'kappa': 0.7742594484167518,\n    'balanced acc': 0.902977139819245},\n   'tool': {'kappa': 0.8351920693928129, 'balanced acc': 0.9368518518518518},\n   'music': {'kappa': 0.5123030135471385, 'balanced acc': 0.7495286830056558},\n   'furniture': {'kappa': 0.26966932725199544,\n    'balanced acc': 0.717638036809816},\n   'garments': {'kappa': 0.29406841719845167,\n    'balanced acc': 0.7514311270125223}}},\n 12: {'1M': {'fruit': {'kappa': 0.6890881913303438,\n    'balanced acc': 0.8676236044657097},\n   'tool': {'kappa': 0.8351920693928129, 'balanced acc': 0.9368518518518518},\n   'music': {'kappa': 0.5123030135471385, 'balanced acc': 0.7495286830056558},\n   'furniture': {'kappa': 0.2551341350601295,\n    'balanced acc': 0.7115030674846625},\n   'garments': {'kappa': 0.27241622219985906,\n    'balanced acc': 0.7421288014311269}}},\n 13: {'1M': {'fruit': {'kappa': 0.7334700153767298,\n    'balanced acc': 0.8803827751196172},\n   'tool': {'kappa': 0.7744998304510003, 'balanced acc': 0.922962962962963},\n   'music': {'kappa': 0.5123030135471385, 'balanced acc': 0.7495286830056558},\n   'furniture': {'kappa': 0.2551341350601295,\n    'balanced acc': 0.7115030674846625},\n   'garments': {'kappa': 0.283032416906032,\n    'balanced acc': 0.7467799642218247}}},\n 14: {'1M': {'fruit': {'kappa': 0.7618320610687023,\n    'balanced acc': 0.89792663476874},\n   'tool': {'kappa': 0.7941530524505589, 'balanced acc': 0.9275925925925926},\n   'music': {'kappa': 0.5317919075144508, 'balanced acc': 0.7601669808779963},\n   'furniture': {'kappa': 0.2815666940564229,\n    'balanced acc': 0.7365030674846625},\n   'garments': {'kappa': 0.29406841719845167,\n    'balanced acc': 0.7514311270125223}}},\n 15: {'1M': {'fruit': {'kappa': 0.7742594484167518,\n    'balanced acc': 0.902977139819245},\n   'tool': {'kappa': 0.8143754361479414, 'balanced acc': 0.9322222222222223},\n   'music': {'kappa': 0.5123030135471385, 'balanced acc': 0.7495286830056558},\n   'furniture': {'kappa': 0.28899167437557816,\n    'balanced acc': 0.7395705521472393},\n   'garments': {'kappa': 0.283032416906032,\n    'balanced acc': 0.7467799642218247}}},\n 16: {'1M': {'fruit': {'kappa': 0.7601230138390569,\n    'balanced acc': 0.8942052099946837},\n   'tool': {'kappa': 0.7941530524505589, 'balanced acc': 0.9275925925925926},\n   'music': {'kappa': 0.5471385125794858, 'balanced acc': 0.7664960948020468},\n   'furniture': {'kappa': 0.2551341350601295,\n    'balanced acc': 0.7115030674846625},\n   'garments': {'kappa': 0.283032416906032,\n    'balanced acc': 0.7467799642218247}}},\n 17: {'1M': {'fruit': {'kappa': 0.7867760123013838,\n    'balanced acc': 0.9080276448697502},\n   'tool': {'kappa': 0.8143754361479414, 'balanced acc': 0.9322222222222223},\n   'music': {'kappa': 0.5430962343096234, 'balanced acc': 0.7621869108537571},\n   'furniture': {'kappa': 0.2743330930064888,\n    'balanced acc': 0.7334355828220859},\n   'garments': {'kappa': 0.2884964002693323,\n    'balanced acc': 0.7491055456171736}}},\n 18: {'1M': {'fruit': {'kappa': 0.7601230138390569,\n    'balanced acc': 0.8942052099946837},\n   'tool': {'kappa': 0.8351920693928129, 'balanced acc': 0.9368518518518518},\n   'music': {'kappa': 0.5276312135517912, 'balanced acc': 0.7558577969297064},\n   'furniture': {'kappa': 0.26230430299053153,\n    'balanced acc': 0.7145705521472393},\n   'garments': {'kappa': 0.2884964002693323,\n    'balanced acc': 0.7491055456171736}}},\n 19: {'1M': {'fruit': {'kappa': 0.7618320610687023,\n    'balanced acc': 0.89792663476874},\n   'tool': {'kappa': 0.8351920693928129, 'balanced acc': 0.9368518518518518},\n   'music': {'kappa': 0.5123030135471385, 'balanced acc': 0.7495286830056558},\n   'furniture': {'kappa': 0.26230430299053153,\n    'balanced acc': 0.7145705521472393},\n   'garments': {'kappa': 0.283032416906032,\n    'balanced acc': 0.7467799642218247}}},\n 20: {'1M': {'fruit': {'kappa': 0.772633744855967,\n    'balanced acc': 0.8992557150451888},\n   'tool': {'kappa': 0.8351920693928129, 'balanced acc': 0.9368518518518518},\n   'music': {'kappa': 0.5430962343096234, 'balanced acc': 0.7621869108537571},\n   'furniture': {'kappa': 0.2551341350601295,\n    'balanced acc': 0.7115030674846625},\n   'garments': {'kappa': 0.29406841719845167,\n    'balanced acc': 0.7514311270125223}}},\n 21: {'1M': {'fruit': {'kappa': 0.7477017364657814,\n    'balanced acc': 0.8891547049441786},\n   'tool': {'kappa': 0.8143754361479414, 'balanced acc': 0.9322222222222223},\n   'music': {'kappa': 0.5123030135471385, 'balanced acc': 0.7495286830056558},\n   'furniture': {'kappa': 0.2551341350601295,\n    'balanced acc': 0.7115030674846625},\n   'garments': {'kappa': 0.29406841719845167,\n    'balanced acc': 0.7514311270125223}}},\n 22: {'1M': {'fruit': {'kappa': 0.7742594484167518,\n    'balanced acc': 0.902977139819245},\n   'tool': {'kappa': 0.8143754361479414, 'balanced acc': 0.9322222222222223},\n   'music': {'kappa': 0.5276312135517912, 'balanced acc': 0.7558577969297064},\n   'furniture': {'kappa': 0.26230430299053153,\n    'balanced acc': 0.7145705521472393},\n   'garments': {'kappa': 0.29406841719845167,\n    'balanced acc': 0.7514311270125223}}},\n 23: {'1M': {'fruit': {'kappa': 0.7477017364657814,\n    'balanced acc': 0.8891547049441786},\n   'tool': {'kappa': 0.8351920693928129, 'balanced acc': 0.9368518518518518},\n   'music': {'kappa': 0.5165798848999725, 'balanced acc': 0.7538378669539456},\n   'furniture': {'kappa': 0.26230430299053153,\n    'balanced acc': 0.7145705521472393},\n   'garments': {'kappa': 0.283032416906032,\n    'balanced acc': 0.7467799642218247}}},\n 24: {'1M': {'fruit': {'kappa': 0.7353689567430026,\n    'balanced acc': 0.8841041998936736},\n   'tool': {'kappa': 0.8351920693928129, 'balanced acc': 0.9368518518518518},\n   'music': {'kappa': 0.5782426778242677, 'balanced acc': 0.7791543226501481},\n   'furniture': {'kappa': 0.2551341350601295,\n    'balanced acc': 0.7115030674846625},\n   'garments': {'kappa': 0.283032416906032,\n    'balanced acc': 0.7467799642218247}}},\n 25: {'1M': {'fruit': {'kappa': 0.7353689567430026,\n    'balanced acc': 0.8841041998936736},\n   'tool': {'kappa': 0.8143754361479414, 'balanced acc': 0.9322222222222223},\n   'music': {'kappa': 0.5430962343096234, 'balanced acc': 0.7621869108537571},\n   'furniture': {'kappa': 0.2551341350601295,\n    'balanced acc': 0.7115030674846625},\n   'garments': {'kappa': 0.3114656891811761,\n    'balanced acc': 0.7584078711985689}}},\n 26: {'1M': {'fruit': {'kappa': 0.6772591857000994,\n    'balanced acc': 0.8625730994152047},\n   'tool': {'kappa': 0.8566295364714337, 'balanced acc': 0.9414814814814815},\n   'music': {'kappa': 0.5276312135517912, 'balanced acc': 0.7558577969297064},\n   'furniture': {'kappa': 0.26230430299053153,\n    'balanced acc': 0.7145705521472393},\n   'garments': {'kappa': 0.27767335534671067,\n    'balanced acc': 0.7444543828264758}}},\n 27: {'1M': {'fruit': {'kappa': 0.7601230138390569,\n    'balanced acc': 0.8942052099946837},\n   'tool': {'kappa': 0.8351920693928129, 'balanced acc': 0.9368518518518518},\n   'music': {'kappa': 0.5626214940294363, 'balanced acc': 0.7728252087260974},\n   'furniture': {'kappa': 0.2551341350601295,\n    'balanced acc': 0.7115030674846625},\n   'garments': {'kappa': 0.283032416906032,\n    'balanced acc': 0.7467799642218247}}},\n 28: {'1M': {'fruit': {'kappa': 0.7458847736625515,\n    'balanced acc': 0.8854332801701222},\n   'tool': {'kappa': 0.8351920693928129, 'balanced acc': 0.9368518518518518},\n   'music': {'kappa': 0.5782426778242677, 'balanced acc': 0.7791543226501481},\n   'furniture': {'kappa': 0.26230430299053153,\n    'balanced acc': 0.7145705521472393},\n   'garments': {'kappa': 0.2884964002693323,\n    'balanced acc': 0.7491055456171736}}},\n 29: {'1M': {'fruit': {'kappa': 0.7601230138390569,\n    'balanced acc': 0.8942052099946837},\n   'tool': {'kappa': 0.8143754361479414, 'balanced acc': 0.9322222222222223},\n   'music': {'kappa': 0.5276312135517912, 'balanced acc': 0.7558577969297064},\n   'furniture': {'kappa': 0.26966932725199544,\n    'balanced acc': 0.717638036809816},\n   'garments': {'kappa': 0.2884964002693323,\n    'balanced acc': 0.7491055456171736}}},\n 30: {'1M': {'fruit': {'kappa': 0.7353689567430026,\n    'balanced acc': 0.8841041998936736},\n   'tool': {'kappa': 0.8351920693928129, 'balanced acc': 0.9368518518518518},\n   'music': {'kappa': 0.5123030135471385, 'balanced acc': 0.7495286830056558},\n   'furniture': {'kappa': 0.26966932725199544,\n    'balanced acc': 0.717638036809816},\n   'garments': {'kappa': 0.27767335534671067,\n    'balanced acc': 0.7444543828264758}}},\n 31: {'1M': {'fruit': {'kappa': 0.6890881913303438,\n    'balanced acc': 0.8676236044657097},\n   'tool': {'kappa': 0.7941530524505589, 'balanced acc': 0.9275925925925926},\n   'music': {'kappa': 0.5165798848999725, 'balanced acc': 0.7538378669539456},\n   'furniture': {'kappa': 0.26966932725199544,\n    'balanced acc': 0.717638036809816},\n   'garments': {'kappa': 0.27241622219985906,\n    'balanced acc': 0.7421288014311269}}},\n 32: {'1M': {'fruit': {'kappa': 0.7494929006085193,\n    'balanced acc': 0.8928761297182349},\n   'tool': {'kappa': 0.8566295364714337, 'balanced acc': 0.9414814814814815},\n   'music': {'kappa': 0.5471385125794858, 'balanced acc': 0.7664960948020468},\n   'furniture': {'kappa': 0.26966932725199544,\n    'balanced acc': 0.717638036809816},\n   'garments': {'kappa': 0.283032416906032,\n    'balanced acc': 0.7467799642218247}}},\n 33: {'1M': {'fruit': {'kappa': 0.7742594484167518,\n    'balanced acc': 0.902977139819245},\n   'tool': {'kappa': 0.7744998304510003, 'balanced acc': 0.922962962962963},\n   'music': {'kappa': 0.5471385125794858, 'balanced acc': 0.7664960948020468},\n   'furniture': {'kappa': 0.26230430299053153,\n    'balanced acc': 0.7145705521472393},\n   'garments': {'kappa': 0.27767335534671067,\n    'balanced acc': 0.7444543828264758}}},\n 34: {'1M': {'fruit': {'kappa': 0.7742594484167518,\n    'balanced acc': 0.902977139819245},\n   'tool': {'kappa': 0.8143754361479414, 'balanced acc': 0.9322222222222223},\n   'music': {'kappa': 0.5317919075144508, 'balanced acc': 0.7601669808779963},\n   'furniture': {'kappa': 0.26966932725199544,\n    'balanced acc': 0.717638036809816},\n   'garments': {'kappa': 0.283032416906032,\n    'balanced acc': 0.7467799642218247}}},\n 35: {'1M': {'fruit': {'kappa': 0.7458847736625515,\n    'balanced acc': 0.8854332801701222},\n   'tool': {'kappa': 0.8143754361479414, 'balanced acc': 0.9322222222222223},\n   'music': {'kappa': 0.5471385125794858, 'balanced acc': 0.7664960948020468},\n   'furniture': {'kappa': 0.26230430299053153,\n    'balanced acc': 0.7145705521472393},\n   'garments': {'kappa': 0.2884964002693323,\n    'balanced acc': 0.7491055456171736}}},\n 36: {'1M': {'fruit': {'kappa': 0.7494929006085193,\n    'balanced acc': 0.8928761297182349},\n   'tool': {'kappa': 0.8143754361479414, 'balanced acc': 0.9322222222222223},\n   'music': {'kappa': 0.5123030135471385, 'balanced acc': 0.7495286830056558},\n   'furniture': {'kappa': 0.2551341350601295,\n    'balanced acc': 0.7115030674846625},\n   'garments': {'kappa': 0.2884964002693323,\n    'balanced acc': 0.7491055456171736}}},\n 37: {'1M': {'fruit': {'kappa': 0.7149975087194818,\n    'balanced acc': 0.8814460393407761},\n   'tool': {'kappa': 0.8143754361479414, 'balanced acc': 0.9322222222222223},\n   'music': {'kappa': 0.5123030135471385, 'balanced acc': 0.7495286830056558},\n   'furniture': {'kappa': 0.26966932725199544,\n    'balanced acc': 0.717638036809816},\n   'garments': {'kappa': 0.27767335534671067,\n    'balanced acc': 0.7444543828264758}}},\n 38: {'1M': {'fruit': {'kappa': 0.7618320610687023,\n    'balanced acc': 0.89792663476874},\n   'tool': {'kappa': 0.8351920693928129, 'balanced acc': 0.9368518518518518},\n   'music': {'kappa': 0.5317919075144508, 'balanced acc': 0.7601669808779963},\n   'furniture': {'kappa': 0.2551341350601295,\n    'balanced acc': 0.7115030674846625},\n   'garments': {'kappa': 0.29406841719845167,\n    'balanced acc': 0.7514311270125223}}},\n 39: {'1M': {'fruit': {'kappa': 0.7477017364657814,\n    'balanced acc': 0.8891547049441786},\n   'tool': {'kappa': 0.8143754361479414, 'balanced acc': 0.9322222222222223},\n   'music': {'kappa': 0.5471385125794858, 'balanced acc': 0.7664960948020468},\n   'furniture': {'kappa': 0.26230430299053153,\n    'balanced acc': 0.7145705521472393},\n   'garments': {'kappa': 0.283032416906032,\n    'balanced acc': 0.7467799642218247}}},\n 40: {'1M': {'fruit': {'kappa': 0.7477017364657814,\n    'balanced acc': 0.8891547049441786},\n   'tool': {'kappa': 0.8351920693928129, 'balanced acc': 0.9368518518518518},\n   'music': {'kappa': 0.49264093307414614, 'balanced acc': 0.7388903851333154},\n   'furniture': {'kappa': 0.26230430299053153,\n    'balanced acc': 0.7145705521472393},\n   'garments': {'kappa': 0.27241622219985906,\n    'balanced acc': 0.7421288014311269}}},\n 41: {'1M': {'fruit': {'kappa': 0.7601230138390569,\n    'balanced acc': 0.8942052099946837},\n   'tool': {'kappa': 0.8351920693928129, 'balanced acc': 0.9368518518518518},\n   'music': {'kappa': 0.5317919075144508, 'balanced acc': 0.7601669808779963},\n   'furniture': {'kappa': 0.26230430299053153,\n    'balanced acc': 0.7145705521472393},\n   'garments': {'kappa': 0.2997517037350097,\n    'balanced acc': 0.7537567084078711}}},\n 42: {'1M': {'fruit': {'kappa': 0.7601230138390569,\n    'balanced acc': 0.8942052099946837},\n   'tool': {'kappa': 0.8351920693928129, 'balanced acc': 0.9368518518518518},\n   'music': {'kappa': 0.5317919075144508, 'balanced acc': 0.7601669808779963},\n   'furniture': {'kappa': 0.26966932725199544,\n    'balanced acc': 0.717638036809816},\n   'garments': {'kappa': 0.29406841719845167,\n    'balanced acc': 0.7514311270125223}}},\n 43: {'1M': {'fruit': {'kappa': 0.7458847736625515,\n    'balanced acc': 0.8854332801701222},\n   'tool': {'kappa': 0.8351920693928129, 'balanced acc': 0.9368518518518518},\n   'music': {'kappa': 0.5471385125794858, 'balanced acc': 0.7664960948020468},\n   'furniture': {'kappa': 0.28899167437557816,\n    'balanced acc': 0.7395705521472393},\n   'garments': {'kappa': 0.29406841719845167,\n    'balanced acc': 0.7514311270125223}}},\n 44: {'1M': {'fruit': {'kappa': 0.7867760123013838,\n    'balanced acc': 0.9080276448697502},\n   'tool': {'kappa': 0.8143754361479414, 'balanced acc': 0.9322222222222223},\n   'music': {'kappa': 0.5586999159428411, 'balanced acc': 0.7685160247778078},\n   'furniture': {'kappa': 0.24815119145439601,\n    'balanced acc': 0.7084355828220859},\n   'garments': {'kappa': 0.27767335534671067,\n    'balanced acc': 0.7444543828264758}}},\n 45: {'1M': {'fruit': {'kappa': 0.7742594484167518,\n    'balanced acc': 0.902977139819245},\n   'tool': {'kappa': 0.8143754361479414, 'balanced acc': 0.9322222222222223},\n   'music': {'kappa': 0.5471385125794858, 'balanced acc': 0.7664960948020468},\n   'furniture': {'kappa': 0.2551341350601295,\n    'balanced acc': 0.7115030674846625},\n   'garments': {'kappa': 0.29406841719845167,\n    'balanced acc': 0.7514311270125223}}},\n 46: {'1M': {'fruit': {'kappa': 0.7477017364657814,\n    'balanced acc': 0.8891547049441786},\n   'tool': {'kappa': 0.8088393819619116, 'balanced acc': 0.9168518518518518},\n   'music': {'kappa': 0.5276312135517912, 'balanced acc': 0.7558577969297064},\n   'furniture': {'kappa': 0.2815666940564229,\n    'balanced acc': 0.7365030674846625},\n   'garments': {'kappa': 0.283032416906032,\n    'balanced acc': 0.7467799642218247}}},\n 47: {'1M': {'fruit': {'kappa': 0.7618320610687023,\n    'balanced acc': 0.89792663476874},\n   'tool': {'kappa': 0.8143754361479414, 'balanced acc': 0.9322222222222223},\n   'music': {'kappa': 0.5123030135471385, 'balanced acc': 0.7495286830056558},\n   'furniture': {'kappa': 0.26966932725199544,\n    'balanced acc': 0.717638036809816},\n   'garments': {'kappa': 0.27241622219985906,\n    'balanced acc': 0.7421288014311269}}},\n 48: {'1M': {'fruit': {'kappa': 0.7618320610687023,\n    'balanced acc': 0.89792663476874},\n   'tool': {'kappa': 0.8143754361479414, 'balanced acc': 0.9322222222222223},\n   'music': {'kappa': 0.5233959092182684, 'balanced acc': 0.7515486129814166},\n   'furniture': {'kappa': 0.26230430299053153,\n    'balanced acc': 0.7145705521472393},\n   'garments': {'kappa': 0.2884964002693323,\n    'balanced acc': 0.7491055456171736}}},\n 49: {'1M': {'fruit': {'kappa': 0.7601230138390569,\n    'balanced acc': 0.8942052099946837},\n   'tool': {'kappa': 0.8351920693928129, 'balanced acc': 0.9368518518518518},\n   'music': {'kappa': 0.5233959092182684, 'balanced acc': 0.7515486129814166},\n   'furniture': {'kappa': 0.26966932725199544,\n    'balanced acc': 0.717638036809816},\n   'garments': {'kappa': 0.2884964002693323,\n    'balanced acc': 0.7491055456171736}}}}"
     },
     "execution_count": 17,
     "metadata": {},
     "output_type": "execute_result"
    }
   ],
   "source": "multiResult",
   "metadata": {
    "collapsed": false,
    "pycharm": {
     "name": "#%%\n"
    },
    "trusted": false
   }
  },
  {
   "cell_type": "code",
   "execution_count": 18,
   "outputs": [],
   "source": "np.save('TransferModel_50_times_sampling_KBNC.npy', multiResult, allow_pickle=True)",
   "metadata": {
    "collapsed": false,
    "pycharm": {
     "name": "#%%\n"
    },
    "trusted": false
   }
  },
  {
   "cell_type": "code",
   "execution_count": 21,
   "outputs": [
    {
     "data": {
      "text/plain": "{0: {'1M': {'kappa': 0.52095249293199, 'balanced acc': 0.807146967576456}},\n 1: {'1M': {'kappa': 0.5441137098213102, 'balanced acc': 0.8164408377446453}},\n 2: {'1M': {'kappa': 0.5379793692791288, 'balanced acc': 0.8128259710644429}},\n 3: {'1M': {'kappa': 0.5279978094520071, 'balanced acc': 0.8094757406901602}},\n 4: {'1M': {'kappa': 0.5215293396004288, 'balanced acc': 0.8055817209332272}},\n 5: {'1M': {'kappa': 0.535172560410009, 'balanced acc': 0.8144714340579465}},\n 6: {'1M': {'kappa': 0.5262024412686623, 'balanced acc': 0.8114259650917355}},\n 7: {'1M': {'kappa': 0.5329266004701098, 'balanced acc': 0.8099322437048027}},\n 8: {'1M': {'kappa': 0.5354988675416877, 'balanced acc': 0.8131703593893214}},\n 9: {'1M': {'kappa': 0.513952799829387, 'balanced acc': 0.8028383705970071}},\n 10: {'1M': {'kappa': 0.5322819601530366, 'balanced acc': 0.8085121859966643}},\n 11: {'1M': {'kappa': 0.53709845516143, 'balanced acc': 0.8116853676998181}},\n 12: {'1M': {'kappa': 0.5128267263060569, 'balanced acc': 0.8015272016478013}},\n 13: {'1M': {'kappa': 0.5116878822682059, 'balanced acc': 0.8022314905589447}},\n 14: {'1M': {'kappa': 0.5326824264577172, 'balanced acc': 0.8147240805473027}},\n 15: {'1M': {'kappa': 0.5345923978786884, 'balanced acc': 0.8142157122832373}},\n 16: {'1M': {'kappa': 0.5279162261670527, 'balanced acc': 0.809315385819162}},\n 17: {'1M': {'kappa': 0.5414154352069539, 'balanced acc': 0.8169955812769978}},\n 18: {'1M': {'kappa': 0.534749400008705, 'balanced acc': 0.8101181913081309}},\n 19: {'1M': {'kappa': 0.5309327727810433, 'balanced acc': 0.8091315371990623}},\n 20: {'1M': {'kappa': 0.540024920163397, 'balanced acc': 0.8122457344495965}},\n 21: {'1M': {'kappa': 0.5247165476838884, 'balanced acc': 0.8067679609338484}},\n 22: {'1M': {'kappa': 0.5345277636610934, 'balanced acc': 0.8114117676261869}},\n 23: {'1M': {'kappa': 0.5289620821310261, 'balanced acc': 0.8082389880238079}},\n 24: {'1M': {'kappa': 0.5373940511852489, 'balanced acc': 0.8116786812204321}},\n 25: {'1M': {'kappa': 0.5318880902883747, 'balanced acc': 0.8096848543305768}},\n 26: {'1M': {'kappa': 0.5202995188121133, 'balanced acc': 0.8037874625600215}},\n 27: {'1M': {'kappa': 0.5392206258454934, 'balanced acc': 0.8124330604558239}},\n 28: {'1M': {'kappa': 0.5420240448278991, 'balanced acc': 0.813023110487307}},\n 29: {'1M': {'kappa': 0.5320590782120234, 'balanced acc': 0.8098057623147203}},\n 30: {'1M': {'kappa': 0.526041344456332, 'balanced acc': 0.8065154308774947}},\n 31: {'1M': {'kappa': 0.5083813356265459, 'balanced acc': 0.8017641804506382}},\n 32: {'1M': {'kappa': 0.5411925387634933, 'balanced acc': 0.8130543414066806}},\n 33: {'1M': {'kappa': 0.5271750899568961, 'balanced acc': 0.8102922265115939}},\n 34: {'1M': {'kappa': 0.5346257072474343, 'balanced acc': 0.8119568687902209}},\n 35: {'1M': {'kappa': 0.5316398851299685, 'balanced acc': 0.8095655389917609}},\n 36: {'1M': {'kappa': 0.5239603771266121, 'balanced acc': 0.8070471296095899}},\n 37: {'1M': {'kappa': 0.5178037282026536, 'balanced acc': 0.8050578728409892}},\n 38: {'1M': {'kappa': 0.5356037180469093, 'balanced acc': 0.8115759323991547}},\n 39: {'1M': {'kappa': 0.5309104810179545, 'balanced acc': 0.8098447076675022}},\n 40: {'1M': {'kappa': 0.5220510528246263, 'balanced acc': 0.8043192591015422}},\n 41: {'1M': {'kappa': 0.5378325994943725, 'balanced acc': 0.8119102606559284}},\n 42: {'1M': {'kappa': 0.5381689470393535, 'balanced acc': 0.812058641309374}},\n 43: {'1M': {'kappa': 0.5422550894417759, 'balanced acc': 0.8159565811967566}},\n 44: {'1M': {'kappa': 0.5371351822386546, 'balanced acc': 0.8123311715036683}},\n 45: {'1M': {'kappa': 0.5369951898805521, 'balanced acc': 0.8129259302681398}},\n 46: {'1M': {'kappa': 0.5297542885883878, 'balanced acc': 0.8090294770864448}},\n 47: {'1M': {'kappa': 0.5261192120431273, 'balanced acc': 0.8078888756475123}},\n 48: {'1M': {'kappa': 0.5300808219389552, 'balanced acc': 0.8090747135473583}},\n 49: {'1M': {'kappa': 0.5353753439942932, 'balanced acc': 0.8098698514509882}}}"
     },
     "execution_count": 21,
     "metadata": {},
     "output_type": "execute_result"
    }
   ],
   "source": "# integrate kappa / balanced acc\nmultiResult_integration = multiResult\n\ndomains = ['fruit', 'tool', 'music', 'furniture', 'garments']\n\nfor k, v in multiResult_integration.items():\n    kappa_1m_list = []\n    balancedacc_1m_list = []\n    kappa_2_4m_list = []\n    balancedacc_2_4m_list = []\n    for domain in domains:\n        kappa_1m_list.append(v['1M'][domain]['kappa'])\n        balancedacc_1m_list.append(v['1M'][domain]['balanced acc'])\n    kappa_avg_1m = np.mean(kappa_1m_list)\n    balancedacc_avg_1m = np.mean(balancedacc_1m_list)\n\n    multiResult_integration[k]['1M'] = {'kappa': kappa_avg_1m, 'balanced acc': balancedacc_avg_1m}\n\nmultiResult_integration",
   "metadata": {
    "collapsed": false,
    "pycharm": {
     "name": "#%%\n"
    },
    "trusted": false
   }
  },
  {
   "cell_type": "code",
   "execution_count": 22,
   "outputs": [],
   "source": "np.save('TransferModel_inte_50_times_sampling_KBNC.npy', multiResult_integration, allow_pickle=True)",
   "metadata": {
    "collapsed": false,
    "pycharm": {
     "name": "#%%\n"
    },
    "trusted": false
   }
  },
  {
   "cell_type": "markdown",
   "source": "## CABNC by 50 times sampling corpus",
   "metadata": {
    "collapsed": false,
    "pycharm": {
     "name": "#%% md\n"
    }
   }
  },
  {
   "cell_type": "code",
   "source": "CABNC_full = pylangacq.read_chat('../../corpora/CABNC/CABNC.zip')\nwords = CABNC_full.words()\ncabnc_df = pd.Series(words)\nrandom_seed = 7",
   "metadata": {
    "collapsed": false,
    "pycharm": {
     "name": "#%%\n"
    },
    "trusted": false
   },
   "execution_count": 8,
   "outputs": []
  },
  {
   "cell_type": "code",
   "execution_count": 10,
   "outputs": [],
   "source": "# define a function to perform several times sampling\ndef multiSample_CABNC(n):\n    result_dict = {}\n    for time in range(n):\n        cabnc_2_4m = cabnc_df.sample(n=2400000)\n        cabnc_1m = cabnc_df.sample(n=1000000)\n\n        # create a word count from dictionary into dataframe\n        # addition: convert all words into low case\n        cabnc_2_4m_freq = nltk.FreqDist(word.lower() for word in cabnc_2_4m)\n        cabnc_2_4m_df = pd.DataFrame.from_dict(cabnc_2_4m_freq, orient='index').reset_index().rename(columns={0: 'CABNC_Count', 'index':'norm'}).set_index('norm')\n        cabnc_1m_freq = nltk.FreqDist(word.lower() for word in cabnc_1m)\n        cabnc_1m_df = pd.DataFrame.from_dict(cabnc_1m_freq, orient='index').reset_index().rename(columns={0: 'CABNC_Count', 'index':'norm'}).set_index('norm')\n\n        # cabnc_per_100k: The frequency occurence of all lemmas per synset, per 100,000 words of the CABNC\n        GS_adopt['cabnc_per_100k_2_4m'] = GS_adopt['norm'].apply(lambda norm: (sum_lemmas(norm, cabnc_2_4m_df)/2400000)*100000)\n        GS_adopt['cabnc_per_100k_1m'] = GS_adopt['norm'].apply(lambda norm: (sum_lemmas(norm, cabnc_1m_df)/1000000)*100000)\n\n        # generate the local dataframe for different domains\n        local_fruit = GS_adopt.loc[GS_adopt['domain_x']=='fruit']\n        local_tool = GS_adopt.loc[GS_adopt['domain_x']=='tool']\n        local_music = GS_adopt.loc[GS_adopt['domain_x']=='music']\n        local_furniture = GS_adopt.loc[GS_adopt['domain_x']=='furn']\n        local_garments = GS_adopt.loc[GS_adopt['domain_x']=='garm']\n\n        unseen_fruit = GS_adopt.loc[GS_adopt['domain_x']!='fruit']\n        unseen_tool = GS_adopt.loc[GS_adopt['domain_x']!='tool']\n        unseen_music = GS_adopt.loc[GS_adopt['domain_x']!='music']\n        unseen_furniture = GS_adopt.loc[GS_adopt['domain_x']!='furn']\n        unseen_garments = GS_adopt.loc[GS_adopt['domain_x']!='garm']\n\n        # TransferModel test\n        result_dict[time] = {'1M':{'fruit':{}, 'tool':{}, 'music':{}, 'furniture':{}, 'garments':{}}, '2_4M':{'fruit':{}, 'tool':{}, 'music':{}, 'furniture':{}, 'garments':{}}}\n        sized_corpora = 'cabnc_per_100k_1m'\n        result_kappa_acc, result_importance = transfer_model_test(unseen_fruit, local_fruit, features, sized_corpora, target)\n        result_dict[time]['1M']['fruit']['kappa']  = result_kappa_acc['cohen kappa'][0]\n        result_dict[time]['1M']['fruit']['balanced acc'] = result_kappa_acc['balanced acc'][0]\n\n        result_kappa_acc, result_importance = transfer_model_test(unseen_tool, local_tool, features, sized_corpora, target)\n        result_dict[time]['1M']['tool']['kappa']  = result_kappa_acc['cohen kappa'][0]\n        result_dict[time]['1M']['tool']['balanced acc'] = result_kappa_acc['balanced acc'][0]\n\n        result_kappa_acc, result_importance = transfer_model_test(unseen_music, local_music, features, sized_corpora, target)\n        result_dict[time]['1M']['music']['kappa']  = result_kappa_acc['cohen kappa'][0]\n        result_dict[time]['1M']['music']['balanced acc'] = result_kappa_acc['balanced acc'][0]\n\n        result_kappa_acc, result_importance = transfer_model_test(unseen_furniture, local_furniture, features, sized_corpora, target)\n        result_dict[time]['1M']['furniture']['kappa']  = result_kappa_acc['cohen kappa'][0]\n        result_dict[time]['1M']['furniture']['balanced acc'] = result_kappa_acc['balanced acc'][0]\n\n        result_kappa_acc, result_importance = transfer_model_test(unseen_garments, local_garments, features, sized_corpora, target)\n        result_dict[time]['1M']['garments']['kappa']  = result_kappa_acc['cohen kappa'][0]\n        result_dict[time]['1M']['garments']['balanced acc'] = result_kappa_acc['balanced acc'][0]\n\n\n        sized_corpora = 'cabnc_per_100k_2_4m'\n        result_kappa_acc, result_importance = transfer_model_test(unseen_fruit, local_fruit, features, sized_corpora, target)\n        result_dict[time]['2_4M']['fruit']['kappa']  = result_kappa_acc['cohen kappa'][0]\n        result_dict[time]['2_4M']['fruit']['balanced acc'] = result_kappa_acc['balanced acc'][0]\n\n        result_kappa_acc, result_importance = transfer_model_test(unseen_tool, local_tool, features, sized_corpora, target)\n        result_dict[time]['2_4M']['tool']['kappa']  = result_kappa_acc['cohen kappa'][0]\n        result_dict[time]['2_4M']['tool']['balanced acc'] = result_kappa_acc['balanced acc'][0]\n\n        result_kappa_acc, result_importance = transfer_model_test(unseen_music, local_music, features, sized_corpora, target)\n        result_dict[time]['2_4M']['music']['kappa']  = result_kappa_acc['cohen kappa'][0]\n        result_dict[time]['2_4M']['music']['balanced acc'] = result_kappa_acc['balanced acc'][0]\n\n        result_kappa_acc, result_importance = transfer_model_test(unseen_furniture, local_furniture, features, sized_corpora, target)\n        result_dict[time]['2_4M']['furniture']['kappa']  = result_kappa_acc['cohen kappa'][0]\n        result_dict[time]['2_4M']['furniture']['balanced acc'] = result_kappa_acc['balanced acc'][0]\n\n        result_kappa_acc, result_importance = transfer_model_test(unseen_garments, local_garments, features, sized_corpora, target)\n        result_dict[time]['2_4M']['garments']['kappa']  = result_kappa_acc['cohen kappa'][0]\n        result_dict[time]['2_4M']['garments']['balanced acc'] = result_kappa_acc['balanced acc'][0]\n\n    return result_dict",
   "metadata": {
    "collapsed": false,
    "pycharm": {
     "name": "#%%\n"
    },
    "trusted": false
   }
  },
  {
   "cell_type": "code",
   "execution_count": 14,
   "outputs": [],
   "source": "multiResult = multiSample_CABNC(50)",
   "metadata": {
    "collapsed": false,
    "pycharm": {
     "name": "#%%\n"
    },
    "trusted": false
   }
  },
  {
   "cell_type": "code",
   "execution_count": 15,
   "outputs": [
    {
     "data": {
      "text/plain": "{0: {'1M': {'fruit': {'kappa': 0.6912419594260266,\n    'balanced acc': 0.8713450292397661},\n   'tool': {'kappa': 0.8302024439175634, 'balanced acc': 0.9214814814814815},\n   'music': {'kappa': 0.5471385125794858, 'balanced acc': 0.7664960948020468},\n   'furniture': {'kappa': 0.2743330930064888,\n    'balanced acc': 0.7334355828220859},\n   'garments': {'kappa': 0.2385663230952504,\n    'balanced acc': 0.7059928443649374}},\n  '2_4M': {'fruit': {'kappa': 0.6559796437659033,\n    'balanced acc': 0.8426368952684742},\n   'tool': {'kappa': 0.8302024439175634, 'balanced acc': 0.9214814814814815},\n   'music': {'kappa': 0.5471385125794858, 'balanced acc': 0.7664960948020468},\n   'furniture': {'kappa': 0.29661573075841385,\n    'balanced acc': 0.742638036809816},\n   'garments': {'kappa': 0.2742881293253737,\n    'balanced acc': 0.7322003577817531}}},\n 1: {'1M': {'fruit': {'kappa': 0.6778523489932886,\n    'balanced acc': 0.8490164805954279},\n   'tool': {'kappa': 0.8302024439175634, 'balanced acc': 0.9214814814814815},\n   'music': {'kappa': 0.5123030135471385, 'balanced acc': 0.7495286830056558},\n   'furniture': {'kappa': 0.3044469783352338,\n    'balanced acc': 0.7457055214723927},\n   'garments': {'kappa': 0.24816342960652105,\n    'balanced acc': 0.7205724508050089}},\n  '2_4M': {'fruit': {'kappa': 0.6295165394402036,\n    'balanced acc': 0.8288144603934078},\n   'tool': {'kappa': 0.8302024439175634, 'balanced acc': 0.9214814814814815},\n   'music': {'kappa': 0.5471385125794858, 'balanced acc': 0.7664960948020468},\n   'furniture': {'kappa': 0.29661573075841385,\n    'balanced acc': 0.742638036809816},\n   'garments': {'kappa': 0.2742881293253737,\n    'balanced acc': 0.7322003577817531}}},\n 2: {'1M': {'fruit': {'kappa': 0.6372695565520679,\n    'balanced acc': 0.8399787347155767},\n   'tool': {'kappa': 0.8143754361479414, 'balanced acc': 0.9322222222222223},\n   'music': {'kappa': 0.5471385125794858, 'balanced acc': 0.7664960948020468},\n   'furniture': {'kappa': 0.28899167437557816,\n    'balanced acc': 0.7395705521472393},\n   'garments': {'kappa': 0.24882455491573774,\n    'balanced acc': 0.710644007155635}},\n  '2_4M': {'fruit': {'kappa': 0.6414708886618998,\n    'balanced acc': 0.8338649654439128},\n   'tool': {'kappa': 0.8302024439175634, 'balanced acc': 0.9214814814814815},\n   'music': {'kappa': 0.5317919075144508, 'balanced acc': 0.7601669808779963},\n   'furniture': {'kappa': 0.28899167437557816,\n    'balanced acc': 0.7395705521472393},\n   'garments': {'kappa': 0.2742881293253737,\n    'balanced acc': 0.7322003577817531}}},\n 3: {'1M': {'fruit': {'kappa': 0.594159113796576,\n    'balanced acc': 0.8136629452418926},\n   'tool': {'kappa': 0.8566295364714337, 'balanced acc': 0.9414814814814815},\n   'music': {'kappa': 0.5471385125794858, 'balanced acc': 0.7664960948020468},\n   'furniture': {'kappa': 0.28899167437557816,\n    'balanced acc': 0.7395705521472393},\n   'garments': {'kappa': 0.22870205740411476,\n    'balanced acc': 0.7013416815742397}},\n  '2_4M': {'fruit': {'kappa': 0.6295165394402036,\n    'balanced acc': 0.8288144603934078},\n   'tool': {'kappa': 0.8302024439175634, 'balanced acc': 0.9214814814814815},\n   'music': {'kappa': 0.5471385125794858, 'balanced acc': 0.7664960948020468},\n   'furniture': {'kappa': 0.29661573075841385,\n    'balanced acc': 0.742638036809816},\n   'garments': {'kappa': 0.2742881293253737,\n    'balanced acc': 0.7322003577817531}}},\n 4: {'1M': {'fruit': {'kappa': 0.6321374431531076,\n    'balanced acc': 0.832535885167464},\n   'tool': {'kappa': 0.8566295364714337, 'balanced acc': 0.9414814814814815},\n   'music': {'kappa': 0.5471385125794858, 'balanced acc': 0.7664960948020468},\n   'furniture': {'kappa': 0.3044469783352338,\n    'balanced acc': 0.7457055214723927},\n   'garments': {'kappa': 0.23358637669265492,\n    'balanced acc': 0.7036672629695886}},\n  '2_4M': {'fruit': {'kappa': 0.6058615462354724,\n    'balanced acc': 0.8187134502923976},\n   'tool': {'kappa': 0.8302024439175634, 'balanced acc': 0.9214814814814815},\n   'music': {'kappa': 0.5471385125794858, 'balanced acc': 0.7664960948020468},\n   'furniture': {'kappa': 0.29661573075841385,\n    'balanced acc': 0.742638036809816},\n   'garments': {'kappa': 0.2688565749555393,\n    'balanced acc': 0.7298747763864043}}},\n 5: {'1M': {'fruit': {'kappa': 0.6176470588235294,\n    'balanced acc': 0.8237639553429027},\n   'tool': {'kappa': 0.8302024439175634, 'balanced acc': 0.9214814814814815},\n   'music': {'kappa': 0.5317919075144508, 'balanced acc': 0.7601669808779963},\n   'furniture': {'kappa': 0.29661573075841385,\n    'balanced acc': 0.742638036809816},\n   'garments': {'kappa': 0.23358637669265492,\n    'balanced acc': 0.7036672629695886}},\n  '2_4M': {'fruit': {'kappa': 0.6295165394402036,\n    'balanced acc': 0.8288144603934078},\n   'tool': {'kappa': 0.8302024439175634, 'balanced acc': 0.9214814814814815},\n   'music': {'kappa': 0.5471385125794858, 'balanced acc': 0.7664960948020468},\n   'furniture': {'kappa': 0.29661573075841385,\n    'balanced acc': 0.742638036809816},\n   'garments': {'kappa': 0.2742881293253737,\n    'balanced acc': 0.7322003577817531}}},\n 6: {'1M': {'fruit': {'kappa': 0.6631788739412058,\n    'balanced acc': 0.8538011695906433},\n   'tool': {'kappa': 0.8566295364714337, 'balanced acc': 0.9414814814814815},\n   'music': {'kappa': 0.5626214940294363, 'balanced acc': 0.7728252087260974},\n   'furniture': {'kappa': 0.28899167437557816,\n    'balanced acc': 0.7395705521472393},\n   'garments': {'kappa': 0.24364473271262677,\n    'balanced acc': 0.7083184257602863}},\n  '2_4M': {'fruit': {'kappa': 0.6295165394402036,\n    'balanced acc': 0.8288144603934078},\n   'tool': {'kappa': 0.8302024439175634, 'balanced acc': 0.9214814814814815},\n   'music': {'kappa': 0.5471385125794858, 'balanced acc': 0.7664960948020468},\n   'furniture': {'kappa': 0.29661573075841385,\n    'balanced acc': 0.742638036809816},\n   'garments': {'kappa': 0.2583093967993434,\n    'balanced acc': 0.7252236135957066}}},\n 7: {'1M': {'fruit': {'kappa': 0.6086302057200201,\n    'balanced acc': 0.822434875066454},\n   'tool': {'kappa': 0.8566295364714337, 'balanced acc': 0.9414814814814815},\n   'music': {'kappa': 0.5511098931214031, 'balanced acc': 0.7708052787503367},\n   'furniture': {'kappa': 0.3124939793854157,\n    'balanced acc': 0.7487730061349693},\n   'garments': {'kappa': 0.23358637669265492,\n    'balanced acc': 0.7036672629695886}},\n  '2_4M': {'fruit': {'kappa': 0.6295165394402036,\n    'balanced acc': 0.8288144603934078},\n   'tool': {'kappa': 0.8302024439175634, 'balanced acc': 0.9214814814814815},\n   'music': {'kappa': 0.5471385125794858, 'balanced acc': 0.7664960948020468},\n   'furniture': {'kappa': 0.29661573075841385,\n    'balanced acc': 0.742638036809816},\n   'garments': {'kappa': 0.2742881293253737,\n    'balanced acc': 0.7322003577817531}}},\n 8: {'1M': {'fruit': {'kappa': 0.6631788739412058,\n    'balanced acc': 0.8538011695906433},\n   'tool': {'kappa': 0.8302024439175634, 'balanced acc': 0.9214814814814815},\n   'music': {'kappa': 0.5471385125794858, 'balanced acc': 0.7664960948020468},\n   'furniture': {'kappa': 0.2743330930064888,\n    'balanced acc': 0.7334355828220859},\n   'garments': {'kappa': 0.23358637669265492,\n    'balanced acc': 0.7036672629695886}},\n  '2_4M': {'fruit': {'kappa': 0.6295165394402036,\n    'balanced acc': 0.8288144603934078},\n   'tool': {'kappa': 0.802962962962963, 'balanced acc': 0.9014814814814814},\n   'music': {'kappa': 0.5317919075144508, 'balanced acc': 0.7601669808779963},\n   'furniture': {'kappa': 0.3044469783352338,\n    'balanced acc': 0.7457055214723927},\n   'garments': {'kappa': 0.2742881293253737,\n    'balanced acc': 0.7322003577817531}}},\n 9: {'1M': {'fruit': {'kappa': 0.6176470588235294,\n    'balanced acc': 0.8237639553429027},\n   'tool': {'kappa': 0.8566295364714337, 'balanced acc': 0.9414814814814815},\n   'music': {'kappa': 0.5471385125794858, 'balanced acc': 0.7664960948020468},\n   'furniture': {'kappa': 0.3044469783352338,\n    'balanced acc': 0.7457055214723927},\n   'garments': {'kappa': 0.22391063701318303,\n    'balanced acc': 0.6990161001788908}},\n  '2_4M': {'fruit': {'kappa': 0.6176470588235294,\n    'balanced acc': 0.8237639553429027},\n   'tool': {'kappa': 0.8566295364714337, 'balanced acc': 0.9414814814814815},\n   'music': {'kappa': 0.5471385125794858, 'balanced acc': 0.7664960948020468},\n   'furniture': {'kappa': 0.29661573075841385,\n    'balanced acc': 0.742638036809816},\n   'garments': {'kappa': 0.2742881293253737,\n    'balanced acc': 0.7322003577817531}}},\n 10: {'1M': {'fruit': {'kappa': 0.6268580215274218,\n    'balanced acc': 0.8250930356193513},\n   'tool': {'kappa': 0.8351920693928129, 'balanced acc': 0.9368518518518518},\n   'music': {'kappa': 0.5317919075144508, 'balanced acc': 0.7601669808779963},\n   'furniture': {'kappa': 0.28899167437557816,\n    'balanced acc': 0.7395705521472393},\n   'garments': {'kappa': 0.22391063701318303,\n    'balanced acc': 0.6990161001788908}},\n  '2_4M': {'fruit': {'kappa': 0.6176470588235294,\n    'balanced acc': 0.8237639553429027},\n   'tool': {'kappa': 0.8302024439175634, 'balanced acc': 0.9214814814814815},\n   'music': {'kappa': 0.5471385125794858, 'balanced acc': 0.7664960948020468},\n   'furniture': {'kappa': 0.29661573075841385,\n    'balanced acc': 0.742638036809816},\n   'garments': {'kappa': 0.2688565749555393,\n    'balanced acc': 0.7298747763864043}}},\n 11: {'1M': {'fruit': {'kappa': 0.6514399205561072,\n    'balanced acc': 0.8487506645401381},\n   'tool': {'kappa': 0.8302024439175634, 'balanced acc': 0.9214814814814815},\n   'music': {'kappa': 0.5471385125794858, 'balanced acc': 0.7664960948020468},\n   'furniture': {'kappa': 0.2815666940564229,\n    'balanced acc': 0.7365030674846625},\n   'garments': {'kappa': 0.24364473271262677,\n    'balanced acc': 0.7083184257602863}},\n  '2_4M': {'fruit': {'kappa': 0.6176470588235294,\n    'balanced acc': 0.8237639553429027},\n   'tool': {'kappa': 0.8566295364714337, 'balanced acc': 0.9414814814814815},\n   'music': {'kappa': 0.5471385125794858, 'balanced acc': 0.7664960948020468},\n   'furniture': {'kappa': 0.29661573075841385,\n    'balanced acc': 0.742638036809816},\n   'garments': {'kappa': 0.2742881293253737,\n    'balanced acc': 0.7322003577817531}}},\n 12: {'1M': {'fruit': {'kappa': 0.6514399205561072,\n    'balanced acc': 0.8487506645401381},\n   'tool': {'kappa': 0.8302024439175634, 'balanced acc': 0.9214814814814815},\n   'music': {'kappa': 0.5626214940294363, 'balanced acc': 0.7728252087260974},\n   'furniture': {'kappa': 0.2815666940564229,\n    'balanced acc': 0.7365030674846625},\n   'garments': {'kappa': 0.2385663230952504,\n    'balanced acc': 0.7059928443649374}},\n  '2_4M': {'fruit': {'kappa': 0.6414708886618998,\n    'balanced acc': 0.8338649654439128},\n   'tool': {'kappa': 0.8302024439175634, 'balanced acc': 0.9214814814814815},\n   'music': {'kappa': 0.5471385125794858, 'balanced acc': 0.7664960948020468},\n   'furniture': {'kappa': 0.29661573075841385,\n    'balanced acc': 0.742638036809816},\n   'garments': {'kappa': 0.2742881293253737,\n    'balanced acc': 0.7322003577817531}}},\n 13: {'1M': {'fruit': {'kappa': 0.6414708886618998,\n    'balanced acc': 0.8338649654439128},\n   'tool': {'kappa': 0.8302024439175634, 'balanced acc': 0.9214814814814815},\n   'music': {'kappa': 0.5511098931214031, 'balanced acc': 0.7708052787503367},\n   'furniture': {'kappa': 0.3044469783352338,\n    'balanced acc': 0.7457055214723927},\n   'garments': {'kappa': 0.22391063701318303,\n    'balanced acc': 0.6990161001788908}},\n  '2_4M': {'fruit': {'kappa': 0.6295165394402036,\n    'balanced acc': 0.8288144603934078},\n   'tool': {'kappa': 0.8566295364714337, 'balanced acc': 0.9414814814814815},\n   'music': {'kappa': 0.5471385125794858, 'balanced acc': 0.7664960948020468},\n   'furniture': {'kappa': 0.29661573075841385,\n    'balanced acc': 0.742638036809816},\n   'garments': {'kappa': 0.2798292422625399,\n    'balanced acc': 0.734525939177102}}},\n 14: {'1M': {'fruit': {'kappa': 0.6176470588235294,\n    'balanced acc': 0.8237639553429027},\n   'tool': {'kappa': 0.8088393819619116, 'balanced acc': 0.9168518518518518},\n   'music': {'kappa': 0.5317919075144508, 'balanced acc': 0.7601669808779963},\n   'furniture': {'kappa': 0.29661573075841385,\n    'balanced acc': 0.742638036809816},\n   'garments': {'kappa': 0.2145960892751333,\n    'balanced acc': 0.6943649373881933}},\n  '2_4M': {'fruit': {'kappa': 0.6176470588235294,\n    'balanced acc': 0.8237639553429027},\n   'tool': {'kappa': 0.8302024439175634, 'balanced acc': 0.9214814814814815},\n   'music': {'kappa': 0.5471385125794858, 'balanced acc': 0.7664960948020468},\n   'furniture': {'kappa': 0.29661573075841385,\n    'balanced acc': 0.742638036809816},\n   'garments': {'kappa': 0.2742881293253737,\n    'balanced acc': 0.7322003577817531}}},\n 15: {'1M': {'fruit': {'kappa': 0.6631788739412058,\n    'balanced acc': 0.8538011695906433},\n   'tool': {'kappa': 0.8302024439175634, 'balanced acc': 0.9214814814814815},\n   'music': {'kappa': 0.5626214940294363, 'balanced acc': 0.7728252087260974},\n   'furniture': {'kappa': 0.28899167437557816,\n    'balanced acc': 0.7395705521472393},\n   'garments': {'kappa': 0.2385663230952504,\n    'balanced acc': 0.7059928443649374}},\n  '2_4M': {'fruit': {'kappa': 0.6414708886618998,\n    'balanced acc': 0.8338649654439128},\n   'tool': {'kappa': 0.8302024439175634, 'balanced acc': 0.9214814814814815},\n   'music': {'kappa': 0.5471385125794858, 'balanced acc': 0.7664960948020468},\n   'furniture': {'kappa': 0.29661573075841385,\n    'balanced acc': 0.742638036809816},\n   'garments': {'kappa': 0.2742881293253737,\n    'balanced acc': 0.7322003577817531}}},\n 16: {'1M': {'fruit': {'kappa': 0.6559796437659033,\n    'balanced acc': 0.8426368952684742},\n   'tool': {'kappa': 0.802962962962963, 'balanced acc': 0.9014814814814814},\n   'music': {'kappa': 0.5471385125794858, 'balanced acc': 0.7664960948020468},\n   'furniture': {'kappa': 0.3124939793854157,\n    'balanced acc': 0.7487730061349693},\n   'garments': {'kappa': 0.24816342960652105,\n    'balanced acc': 0.7205724508050089}},\n  '2_4M': {'fruit': {'kappa': 0.6295165394402036,\n    'balanced acc': 0.8288144603934078},\n   'tool': {'kappa': 0.8302024439175634, 'balanced acc': 0.9214814814814815},\n   'music': {'kappa': 0.5471385125794858, 'balanced acc': 0.7664960948020468},\n   'furniture': {'kappa': 0.29661573075841385,\n    'balanced acc': 0.742638036809816},\n   'garments': {'kappa': 0.2742881293253737,\n    'balanced acc': 0.7322003577817531}}},\n 17: {'1M': {'fruit': {'kappa': 0.6631788739412058,\n    'balanced acc': 0.8538011695906433},\n   'tool': {'kappa': 0.8088393819619116, 'balanced acc': 0.9168518518518518},\n   'music': {'kappa': 0.5626214940294363, 'balanced acc': 0.7728252087260974},\n   'furniture': {'kappa': 0.2815666940564229,\n    'balanced acc': 0.7365030674846625},\n   'garments': {'kappa': 0.2688565749555393,\n    'balanced acc': 0.7298747763864043}},\n  '2_4M': {'fruit': {'kappa': 0.6414708886618998,\n    'balanced acc': 0.8338649654439128},\n   'tool': {'kappa': 0.8302024439175634, 'balanced acc': 0.9214814814814815},\n   'music': {'kappa': 0.5471385125794858, 'balanced acc': 0.7664960948020468},\n   'furniture': {'kappa': 0.29661573075841385,\n    'balanced acc': 0.742638036809816},\n   'garments': {'kappa': 0.2742881293253737,\n    'balanced acc': 0.7322003577817531}}},\n 18: {'1M': {'fruit': {'kappa': 0.6514399205561072,\n    'balanced acc': 0.8487506645401381},\n   'tool': {'kappa': 0.802962962962963, 'balanced acc': 0.9014814814814814},\n   'music': {'kappa': 0.5317919075144508, 'balanced acc': 0.7601669808779963},\n   'furniture': {'kappa': 0.28899167437557816,\n    'balanced acc': 0.7395705521472393},\n   'garments': {'kappa': 0.2541088580576307,\n    'balanced acc': 0.7129695885509839}},\n  '2_4M': {'fruit': {'kappa': 0.6295165394402036,\n    'balanced acc': 0.8288144603934078},\n   'tool': {'kappa': 0.8302024439175634, 'balanced acc': 0.9214814814814815},\n   'music': {'kappa': 0.5471385125794858, 'balanced acc': 0.7664960948020468},\n   'furniture': {'kappa': 0.29661573075841385,\n    'balanced acc': 0.742638036809816},\n   'garments': {'kappa': 0.2742881293253737,\n    'balanced acc': 0.7322003577817531}}},\n 19: {'1M': {'fruit': {'kappa': 0.594159113796576,\n    'balanced acc': 0.8136629452418926},\n   'tool': {'kappa': 0.8566295364714337, 'balanced acc': 0.9414814814814815},\n   'music': {'kappa': 0.5471385125794858, 'balanced acc': 0.7664960948020468},\n   'furniture': {'kappa': 0.32076577456534483,\n    'balanced acc': 0.751840490797546},\n   'garments': {'kappa': 0.22391063701318303,\n    'balanced acc': 0.6990161001788908}},\n  '2_4M': {'fruit': {'kappa': 0.6176470588235294,\n    'balanced acc': 0.8237639553429027},\n   'tool': {'kappa': 0.8302024439175634, 'balanced acc': 0.9214814814814815},\n   'music': {'kappa': 0.5317919075144508, 'balanced acc': 0.7601669808779963},\n   'furniture': {'kappa': 0.29661573075841385,\n    'balanced acc': 0.742638036809816},\n   'garments': {'kappa': 0.2688565749555393,\n    'balanced acc': 0.7298747763864043}}},\n 20: {'1M': {'fruit': {'kappa': 0.6514399205561072,\n    'balanced acc': 0.8487506645401381},\n   'tool': {'kappa': 0.8302024439175634, 'balanced acc': 0.9214814814814815},\n   'music': {'kappa': 0.5471385125794858, 'balanced acc': 0.7664960948020468},\n   'furniture': {'kappa': 0.28899167437557816,\n    'balanced acc': 0.7395705521472393},\n   'garments': {'kappa': 0.2385663230952504,\n    'balanced acc': 0.7059928443649374}},\n  '2_4M': {'fruit': {'kappa': 0.6176470588235294,\n    'balanced acc': 0.8237639553429027},\n   'tool': {'kappa': 0.802962962962963, 'balanced acc': 0.9014814814814814},\n   'music': {'kappa': 0.5471385125794858, 'balanced acc': 0.7664960948020468},\n   'furniture': {'kappa': 0.29661573075841385,\n    'balanced acc': 0.742638036809816},\n   'garments': {'kappa': 0.2798292422625399,\n    'balanced acc': 0.734525939177102}}},\n 21: {'1M': {'fruit': {'kappa': 0.6176470588235294,\n    'balanced acc': 0.8237639553429027},\n   'tool': {'kappa': 0.802962962962963, 'balanced acc': 0.9014814814814814},\n   'music': {'kappa': 0.5511098931214031, 'balanced acc': 0.7708052787503367},\n   'furniture': {'kappa': 0.3044469783352338,\n    'balanced acc': 0.7457055214723927},\n   'garments': {'kappa': 0.21006800058705533,\n    'balanced acc': 0.6920393559928444}},\n  '2_4M': {'fruit': {'kappa': 0.6176470588235294,\n    'balanced acc': 0.8237639553429027},\n   'tool': {'kappa': 0.8566295364714337, 'balanced acc': 0.9414814814814815},\n   'music': {'kappa': 0.5626214940294363, 'balanced acc': 0.7728252087260974},\n   'furniture': {'kappa': 0.29661573075841385,\n    'balanced acc': 0.742638036809816},\n   'garments': {'kappa': 0.2742881293253737,\n    'balanced acc': 0.7322003577817531}}},\n 22: {'1M': {'fruit': {'kappa': 0.6631788739412058,\n    'balanced acc': 0.8538011695906433},\n   'tool': {'kappa': 0.8566295364714337, 'balanced acc': 0.9414814814814815},\n   'music': {'kappa': 0.5626214940294363, 'balanced acc': 0.7728252087260974},\n   'furniture': {'kappa': 0.2815666940564229,\n    'balanced acc': 0.7365030674846625},\n   'garments': {'kappa': 0.2385663230952504,\n    'balanced acc': 0.7059928443649374}},\n  '2_4M': {'fruit': {'kappa': 0.6176470588235294,\n    'balanced acc': 0.8237639553429027},\n   'tool': {'kappa': 0.8566295364714337, 'balanced acc': 0.9414814814814815},\n   'music': {'kappa': 0.5471385125794858, 'balanced acc': 0.7664960948020468},\n   'furniture': {'kappa': 0.29661573075841385,\n    'balanced acc': 0.742638036809816},\n   'garments': {'kappa': 0.2742881293253737,\n    'balanced acc': 0.7322003577817531}}},\n 23: {'1M': {'fruit': {'kappa': 0.6397822859970311,\n    'balanced acc': 0.8437001594896332},\n   'tool': {'kappa': 0.8302024439175634, 'balanced acc': 0.9214814814814815},\n   'music': {'kappa': 0.5471385125794858, 'balanced acc': 0.7664960948020468},\n   'furniture': {'kappa': 0.2743330930064888,\n    'balanced acc': 0.7334355828220859},\n   'garments': {'kappa': 0.2385663230952504,\n    'balanced acc': 0.7059928443649374}},\n  '2_4M': {'fruit': {'kappa': 0.6295165394402036,\n    'balanced acc': 0.8288144603934078},\n   'tool': {'kappa': 0.8302024439175634, 'balanced acc': 0.9214814814814815},\n   'music': {'kappa': 0.5471385125794858, 'balanced acc': 0.7664960948020468},\n   'furniture': {'kappa': 0.29661573075841385,\n    'balanced acc': 0.742638036809816},\n   'garments': {'kappa': 0.2742881293253737,\n    'balanced acc': 0.7322003577817531}}},\n 24: {'1M': {'fruit': {'kappa': 0.6176470588235294,\n    'balanced acc': 0.8237639553429027},\n   'tool': {'kappa': 0.8302024439175634, 'balanced acc': 0.9214814814814815},\n   'music': {'kappa': 0.5123030135471385, 'balanced acc': 0.7495286830056558},\n   'furniture': {'kappa': 0.3044469783352338,\n    'balanced acc': 0.7457055214723927},\n   'garments': {'kappa': 0.23358637669265492,\n    'balanced acc': 0.7036672629695886}},\n  '2_4M': {'fruit': {'kappa': 0.6414708886618998,\n    'balanced acc': 0.8338649654439128},\n   'tool': {'kappa': 0.8302024439175634, 'balanced acc': 0.9214814814814815},\n   'music': {'kappa': 0.5471385125794858, 'balanced acc': 0.7664960948020468},\n   'furniture': {'kappa': 0.3044469783352338,\n    'balanced acc': 0.7457055214723927},\n   'garments': {'kappa': 0.2742881293253737,\n    'balanced acc': 0.7322003577817531}}},\n 25: {'1M': {'fruit': {'kappa': 0.6514399205561072,\n    'balanced acc': 0.8487506645401381},\n   'tool': {'kappa': 0.8302024439175634, 'balanced acc': 0.9214814814814815},\n   'music': {'kappa': 0.5317919075144508, 'balanced acc': 0.7601669808779963},\n   'furniture': {'kappa': 0.28899167437557816,\n    'balanced acc': 0.7395705521472393},\n   'garments': {'kappa': 0.2541088580576307,\n    'balanced acc': 0.7129695885509839}},\n  '2_4M': {'fruit': {'kappa': 0.6176470588235294,\n    'balanced acc': 0.8237639553429027},\n   'tool': {'kappa': 0.8566295364714337, 'balanced acc': 0.9414814814814815},\n   'music': {'kappa': 0.5471385125794858, 'balanced acc': 0.7664960948020468},\n   'furniture': {'kappa': 0.29661573075841385,\n    'balanced acc': 0.742638036809816},\n   'garments': {'kappa': 0.2742881293253737,\n    'balanced acc': 0.7322003577817531}}},\n 26: {'1M': {'fruit': {'kappa': 0.6655121227115289,\n    'balanced acc': 0.8575225943646996},\n   'tool': {'kappa': 0.8088393819619116, 'balanced acc': 0.9168518518518518},\n   'music': {'kappa': 0.5626214940294363, 'balanced acc': 0.7728252087260974},\n   'furniture': {'kappa': 0.2815666940564229,\n    'balanced acc': 0.7365030674846625},\n   'garments': {'kappa': 0.24816342960652105,\n    'balanced acc': 0.7205724508050089}},\n  '2_4M': {'fruit': {'kappa': 0.6295165394402036,\n    'balanced acc': 0.8288144603934078},\n   'tool': {'kappa': 0.8302024439175634, 'balanced acc': 0.9214814814814815},\n   'music': {'kappa': 0.5317919075144508, 'balanced acc': 0.7601669808779963},\n   'furniture': {'kappa': 0.29661573075841385,\n    'balanced acc': 0.742638036809816},\n   'garments': {'kappa': 0.2688565749555393,\n    'balanced acc': 0.7298747763864043}}},\n 27: {'1M': {'fruit': {'kappa': 0.6631788739412058,\n    'balanced acc': 0.8538011695906433},\n   'tool': {'kappa': 0.8302024439175634, 'balanced acc': 0.9214814814814815},\n   'music': {'kappa': 0.5626214940294363, 'balanced acc': 0.7728252087260974},\n   'furniture': {'kappa': 0.2743330930064888,\n    'balanced acc': 0.7334355828220859},\n   'garments': {'kappa': 0.2432338134875145,\n    'balanced acc': 0.7182468694096601}},\n  '2_4M': {'fruit': {'kappa': 0.6295165394402036,\n    'balanced acc': 0.8288144603934078},\n   'tool': {'kappa': 0.8566295364714337, 'balanced acc': 0.9414814814814815},\n   'music': {'kappa': 0.5471385125794858, 'balanced acc': 0.7664960948020468},\n   'furniture': {'kappa': 0.28899167437557816,\n    'balanced acc': 0.7395705521472393},\n   'garments': {'kappa': 0.2742881293253737,\n    'balanced acc': 0.7322003577817531}}},\n 28: {'1M': {'fruit': {'kappa': 0.6176470588235294,\n    'balanced acc': 0.8237639553429027},\n   'tool': {'kappa': 0.8566295364714337, 'balanced acc': 0.9414814814814815},\n   'music': {'kappa': 0.5233959092182684, 'balanced acc': 0.7515486129814166},\n   'furniture': {'kappa': 0.29661573075841385,\n    'balanced acc': 0.742638036809816},\n   'garments': {'kappa': 0.2385663230952504,\n    'balanced acc': 0.7059928443649374}},\n  '2_4M': {'fruit': {'kappa': 0.6176470588235294,\n    'balanced acc': 0.8237639553429027},\n   'tool': {'kappa': 0.8302024439175634, 'balanced acc': 0.9214814814814815},\n   'music': {'kappa': 0.5471385125794858, 'balanced acc': 0.7664960948020468},\n   'furniture': {'kappa': 0.29661573075841385,\n    'balanced acc': 0.742638036809816},\n   'garments': {'kappa': 0.2742881293253737,\n    'balanced acc': 0.7322003577817531}}},\n 29: {'1M': {'fruit': {'kappa': 0.6440162271805274,\n    'balanced acc': 0.8375863902179692},\n   'tool': {'kappa': 0.8566295364714337, 'balanced acc': 0.9414814814814815},\n   'music': {'kappa': 0.5317919075144508, 'balanced acc': 0.7601669808779963},\n   'furniture': {'kappa': 0.3044469783352338,\n    'balanced acc': 0.7457055214723927},\n   'garments': {'kappa': 0.2432338134875145,\n    'balanced acc': 0.7182468694096601}},\n  '2_4M': {'fruit': {'kappa': 0.6321374431531076,\n    'balanced acc': 0.832535885167464},\n   'tool': {'kappa': 0.8302024439175634, 'balanced acc': 0.9214814814814815},\n   'music': {'kappa': 0.5471385125794858, 'balanced acc': 0.7664960948020468},\n   'furniture': {'kappa': 0.29661573075841385,\n    'balanced acc': 0.742638036809816},\n   'garments': {'kappa': 0.2688565749555393,\n    'balanced acc': 0.7298747763864043}}},\n 30: {'1M': {'fruit': {'kappa': 0.6514399205561072,\n    'balanced acc': 0.8487506645401381},\n   'tool': {'kappa': 0.8302024439175634, 'balanced acc': 0.9214814814814815},\n   'music': {'kappa': 0.5471385125794858, 'balanced acc': 0.7664960948020468},\n   'furniture': {'kappa': 0.2815666940564229,\n    'balanced acc': 0.7365030674846625},\n   'garments': {'kappa': 0.2385663230952504,\n    'balanced acc': 0.7059928443649374}},\n  '2_4M': {'fruit': {'kappa': 0.6176470588235294,\n    'balanced acc': 0.8237639553429027},\n   'tool': {'kappa': 0.8302024439175634, 'balanced acc': 0.9214814814814815},\n   'music': {'kappa': 0.5626214940294363, 'balanced acc': 0.7728252087260974},\n   'furniture': {'kappa': 0.29661573075841385,\n    'balanced acc': 0.742638036809816},\n   'garments': {'kappa': 0.2688565749555393,\n    'balanced acc': 0.7298747763864043}}},\n 31: {'1M': {'fruit': {'kappa': 0.6514399205561072,\n    'balanced acc': 0.8487506645401381},\n   'tool': {'kappa': 0.8302024439175634, 'balanced acc': 0.9214814814814815},\n   'music': {'kappa': 0.5626214940294363, 'balanced acc': 0.7728252087260974},\n   'furniture': {'kappa': 0.2743330930064888,\n    'balanced acc': 0.7334355828220859},\n   'garments': {'kappa': 0.22870205740411476,\n    'balanced acc': 0.7013416815742397}},\n  '2_4M': {'fruit': {'kappa': 0.6176470588235294,\n    'balanced acc': 0.8237639553429027},\n   'tool': {'kappa': 0.8302024439175634, 'balanced acc': 0.9214814814814815},\n   'music': {'kappa': 0.5471385125794858, 'balanced acc': 0.7664960948020468},\n   'furniture': {'kappa': 0.29661573075841385,\n    'balanced acc': 0.742638036809816},\n   'garments': {'kappa': 0.2742881293253737,\n    'balanced acc': 0.7322003577817531}}},\n 32: {'1M': {'fruit': {'kappa': 0.6631788739412058,\n    'balanced acc': 0.8538011695906433},\n   'tool': {'kappa': 0.8566295364714337, 'balanced acc': 0.9414814814814815},\n   'music': {'kappa': 0.5430962343096234, 'balanced acc': 0.7621869108537571},\n   'furniture': {'kappa': 0.28899167437557816,\n    'balanced acc': 0.7395705521472393},\n   'garments': {'kappa': 0.25950083553447245,\n    'balanced acc': 0.7152951699463328}},\n  '2_4M': {'fruit': {'kappa': 0.6295165394402036,\n    'balanced acc': 0.8288144603934078},\n   'tool': {'kappa': 0.8566295364714337, 'balanced acc': 0.9414814814814815},\n   'music': {'kappa': 0.5471385125794858, 'balanced acc': 0.7664960948020468},\n   'furniture': {'kappa': 0.29661573075841385,\n    'balanced acc': 0.742638036809816},\n   'garments': {'kappa': 0.2742881293253737,\n    'balanced acc': 0.7322003577817531}}},\n 33: {'1M': {'fruit': {'kappa': 0.6631788739412058,\n    'balanced acc': 0.8538011695906433},\n   'tool': {'kappa': 0.8088393819619116, 'balanced acc': 0.9168518518518518},\n   'music': {'kappa': 0.5471385125794858, 'balanced acc': 0.7664960948020468},\n   'furniture': {'kappa': 0.2743330930064888,\n    'balanced acc': 0.7334355828220859},\n   'garments': {'kappa': 0.2635313616822914,\n    'balanced acc': 0.7275491949910555}},\n  '2_4M': {'fruit': {'kappa': 0.6295165394402036,\n    'balanced acc': 0.8288144603934078},\n   'tool': {'kappa': 0.8302024439175634, 'balanced acc': 0.9214814814814815},\n   'music': {'kappa': 0.5471385125794858, 'balanced acc': 0.7664960948020468},\n   'furniture': {'kappa': 0.29661573075841385,\n    'balanced acc': 0.742638036809816},\n   'garments': {'kappa': 0.2742881293253737,\n    'balanced acc': 0.7322003577817531}}},\n 34: {'1M': {'fruit': {'kappa': 0.6176470588235294,\n    'balanced acc': 0.8237639553429027},\n   'tool': {'kappa': 0.802962962962963, 'balanced acc': 0.9014814814814814},\n   'music': {'kappa': 0.5317919075144508, 'balanced acc': 0.7601669808779963},\n   'furniture': {'kappa': 0.29661573075841385,\n    'balanced acc': 0.742638036809816},\n   'garments': {'kappa': 0.22870205740411476,\n    'balanced acc': 0.7013416815742397}},\n  '2_4M': {'fruit': {'kappa': 0.6176470588235294,\n    'balanced acc': 0.8237639553429027},\n   'tool': {'kappa': 0.8302024439175634, 'balanced acc': 0.9214814814814815},\n   'music': {'kappa': 0.5471385125794858, 'balanced acc': 0.7664960948020468},\n   'furniture': {'kappa': 0.29661573075841385,\n    'balanced acc': 0.742638036809816},\n   'garments': {'kappa': 0.2742881293253737,\n    'balanced acc': 0.7322003577817531}}},\n 35: {'1M': {'fruit': {'kappa': 0.6295165394402036,\n    'balanced acc': 0.8288144603934078},\n   'tool': {'kappa': 0.8302024439175634, 'balanced acc': 0.9214814814814815},\n   'music': {'kappa': 0.5317919075144508, 'balanced acc': 0.7601669808779963},\n   'furniture': {'kappa': 0.29661573075841385,\n    'balanced acc': 0.742638036809816},\n   'garments': {'kappa': 0.23358637669265492,\n    'balanced acc': 0.7036672629695886}},\n  '2_4M': {'fruit': {'kappa': 0.6295165394402036,\n    'balanced acc': 0.8288144603934078},\n   'tool': {'kappa': 0.8302024439175634, 'balanced acc': 0.9214814814814815},\n   'music': {'kappa': 0.5471385125794858, 'balanced acc': 0.7664960948020468},\n   'furniture': {'kappa': 0.29661573075841385,\n    'balanced acc': 0.742638036809816},\n   'garments': {'kappa': 0.2742881293253737,\n    'balanced acc': 0.7322003577817531}}},\n 36: {'1M': {'fruit': {'kappa': 0.594159113796576,\n    'balanced acc': 0.8136629452418926},\n   'tool': {'kappa': 0.8566295364714337, 'balanced acc': 0.9414814814814815},\n   'music': {'kappa': 0.5430962343096234, 'balanced acc': 0.7621869108537571},\n   'furniture': {'kappa': 0.3044469783352338,\n    'balanced acc': 0.7457055214723927},\n   'garments': {'kappa': 0.22870205740411476,\n    'balanced acc': 0.7013416815742397}},\n  '2_4M': {'fruit': {'kappa': 0.6176470588235294,\n    'balanced acc': 0.8237639553429027},\n   'tool': {'kappa': 0.8566295364714337, 'balanced acc': 0.9414814814814815},\n   'music': {'kappa': 0.5626214940294363, 'balanced acc': 0.7728252087260974},\n   'furniture': {'kappa': 0.29661573075841385,\n    'balanced acc': 0.742638036809816},\n   'garments': {'kappa': 0.2688565749555393,\n    'balanced acc': 0.7298747763864043}}},\n 37: {'1M': {'fruit': {'kappa': 0.6514399205561072,\n    'balanced acc': 0.8487506645401381},\n   'tool': {'kappa': 0.802962962962963, 'balanced acc': 0.9014814814814814},\n   'music': {'kappa': 0.5471385125794858, 'balanced acc': 0.7664960948020468},\n   'furniture': {'kappa': 0.2815666940564229,\n    'balanced acc': 0.7365030674846625},\n   'garments': {'kappa': 0.23358637669265492,\n    'balanced acc': 0.7036672629695886}},\n  '2_4M': {'fruit': {'kappa': 0.6295165394402036,\n    'balanced acc': 0.8288144603934078},\n   'tool': {'kappa': 0.8302024439175634, 'balanced acc': 0.9214814814814815},\n   'music': {'kappa': 0.5471385125794858, 'balanced acc': 0.7664960948020468},\n   'furniture': {'kappa': 0.3044469783352338,\n    'balanced acc': 0.7457055214723927},\n   'garments': {'kappa': 0.2742881293253737,\n    'balanced acc': 0.7322003577817531}}},\n 38: {'1M': {'fruit': {'kappa': 0.649, 'balanced acc': 0.8450292397660819},\n   'tool': {'kappa': 0.8566295364714337, 'balanced acc': 0.9414814814814815},\n   'music': {'kappa': 0.5664739884393064, 'balanced acc': 0.7771343926743872},\n   'furniture': {'kappa': 0.28899167437557816,\n    'balanced acc': 0.7395705521472393},\n   'garments': {'kappa': 0.23358637669265492,\n    'balanced acc': 0.7036672629695886}},\n  '2_4M': {'fruit': {'kappa': 0.6176470588235294,\n    'balanced acc': 0.8237639553429027},\n   'tool': {'kappa': 0.8566295364714337, 'balanced acc': 0.9414814814814815},\n   'music': {'kappa': 0.5471385125794858, 'balanced acc': 0.7664960948020468},\n   'furniture': {'kappa': 0.3044469783352338,\n    'balanced acc': 0.7457055214723927},\n   'garments': {'kappa': 0.2742881293253737,\n    'balanced acc': 0.7322003577817531}}},\n 39: {'1M': {'fruit': {'kappa': 0.6295165394402036,\n    'balanced acc': 0.8288144603934078},\n   'tool': {'kappa': 0.8302024439175634, 'balanced acc': 0.9214814814814815},\n   'music': {'kappa': 0.5317919075144508, 'balanced acc': 0.7601669808779963},\n   'furniture': {'kappa': 0.32076577456534483,\n    'balanced acc': 0.751840490797546},\n   'garments': {'kappa': 0.22870205740411476,\n    'balanced acc': 0.7013416815742397}},\n  '2_4M': {'fruit': {'kappa': 0.6176470588235294,\n    'balanced acc': 0.8237639553429027},\n   'tool': {'kappa': 0.8302024439175634, 'balanced acc': 0.9214814814814815},\n   'music': {'kappa': 0.5471385125794858, 'balanced acc': 0.7664960948020468},\n   'furniture': {'kappa': 0.29661573075841385,\n    'balanced acc': 0.742638036809816},\n   'garments': {'kappa': 0.2742881293253737,\n    'balanced acc': 0.7322003577817531}}},\n 40: {'1M': {'fruit': {'kappa': 0.6295165394402036,\n    'balanced acc': 0.8288144603934078},\n   'tool': {'kappa': 0.8302024439175634, 'balanced acc': 0.9214814814814815},\n   'music': {'kappa': 0.5664739884393064, 'balanced acc': 0.7771343926743872},\n   'furniture': {'kappa': 0.28899167437557816,\n    'balanced acc': 0.7395705521472393},\n   'garments': {'kappa': 0.2583093967993434,\n    'balanced acc': 0.7252236135957066}},\n  '2_4M': {'fruit': {'kappa': 0.6176470588235294,\n    'balanced acc': 0.8237639553429027},\n   'tool': {'kappa': 0.8302024439175634, 'balanced acc': 0.9214814814814815},\n   'music': {'kappa': 0.5471385125794858, 'balanced acc': 0.7664960948020468},\n   'furniture': {'kappa': 0.29661573075841385,\n    'balanced acc': 0.742638036809816},\n   'garments': {'kappa': 0.2742881293253737,\n    'balanced acc': 0.7322003577817531}}},\n 41: {'1M': {'fruit': {'kappa': 0.649, 'balanced acc': 0.8450292397660819},\n   'tool': {'kappa': 0.802962962962963, 'balanced acc': 0.9014814814814814},\n   'music': {'kappa': 0.5471385125794858, 'balanced acc': 0.7664960948020468},\n   'furniture': {'kappa': 0.28899167437557816,\n    'balanced acc': 0.7395705521472393},\n   'garments': {'kappa': 0.2635313616822914,\n    'balanced acc': 0.7275491949910555}},\n  '2_4M': {'fruit': {'kappa': 0.6559796437659033,\n    'balanced acc': 0.8426368952684742},\n   'tool': {'kappa': 0.8566295364714337, 'balanced acc': 0.9414814814814815},\n   'music': {'kappa': 0.5317919075144508, 'balanced acc': 0.7601669808779963},\n   'furniture': {'kappa': 0.28899167437557816,\n    'balanced acc': 0.7395705521472393},\n   'garments': {'kappa': 0.2688565749555393,\n    'balanced acc': 0.7298747763864043}}},\n 42: {'1M': {'fruit': {'kappa': 0.6514399205561072,\n    'balanced acc': 0.8487506645401381},\n   'tool': {'kappa': 0.8566295364714337, 'balanced acc': 0.9414814814814815},\n   'music': {'kappa': 0.5471385125794858, 'balanced acc': 0.7664960948020468},\n   'furniture': {'kappa': 0.2815666940564229,\n    'balanced acc': 0.7365030674846625},\n   'garments': {'kappa': 0.24364473271262677,\n    'balanced acc': 0.7083184257602863}},\n  '2_4M': {'fruit': {'kappa': 0.6295165394402036,\n    'balanced acc': 0.8288144603934078},\n   'tool': {'kappa': 0.8302024439175634, 'balanced acc': 0.9214814814814815},\n   'music': {'kappa': 0.5471385125794858, 'balanced acc': 0.7664960948020468},\n   'furniture': {'kappa': 0.29661573075841385,\n    'balanced acc': 0.742638036809816},\n   'garments': {'kappa': 0.2798292422625399,\n    'balanced acc': 0.734525939177102}}},\n 43: {'1M': {'fruit': {'kappa': 0.6321374431531076,\n    'balanced acc': 0.832535885167464},\n   'tool': {'kappa': 0.8566295364714337, 'balanced acc': 0.9414814814814815},\n   'music': {'kappa': 0.5317919075144508, 'balanced acc': 0.7601669808779963},\n   'furniture': {'kappa': 0.29661573075841385,\n    'balanced acc': 0.742638036809816},\n   'garments': {'kappa': 0.2145960892751333,\n    'balanced acc': 0.6943649373881933}},\n  '2_4M': {'fruit': {'kappa': 0.6176470588235294,\n    'balanced acc': 0.8237639553429027},\n   'tool': {'kappa': 0.8566295364714337, 'balanced acc': 0.9414814814814815},\n   'music': {'kappa': 0.5471385125794858, 'balanced acc': 0.7664960948020468},\n   'furniture': {'kappa': 0.29661573075841385,\n    'balanced acc': 0.742638036809816},\n   'garments': {'kappa': 0.2742881293253737,\n    'balanced acc': 0.7322003577817531}}},\n 44: {'1M': {'fruit': {'kappa': 0.6869041645760161,\n    'balanced acc': 0.8639021796916534},\n   'tool': {'kappa': 0.8302024439175634, 'balanced acc': 0.9214814814814815},\n   'music': {'kappa': 0.5626214940294363, 'balanced acc': 0.7728252087260974},\n   'furniture': {'kappa': 0.28899167437557816,\n    'balanced acc': 0.7395705521472393},\n   'garments': {'kappa': 0.2541088580576307,\n    'balanced acc': 0.7129695885509839}},\n  '2_4M': {'fruit': {'kappa': 0.6295165394402036,\n    'balanced acc': 0.8288144603934078},\n   'tool': {'kappa': 0.8302024439175634, 'balanced acc': 0.9214814814814815},\n   'music': {'kappa': 0.5471385125794858, 'balanced acc': 0.7664960948020468},\n   'furniture': {'kappa': 0.29661573075841385,\n    'balanced acc': 0.742638036809816},\n   'garments': {'kappa': 0.2742881293253737,\n    'balanced acc': 0.7322003577817531}}},\n 45: {'1M': {'fruit': {'kappa': 0.6321374431531076,\n    'balanced acc': 0.832535885167464},\n   'tool': {'kappa': 0.8302024439175634, 'balanced acc': 0.9214814814814815},\n   'music': {'kappa': 0.5664739884393064, 'balanced acc': 0.7771343926743872},\n   'furniture': {'kappa': 0.3044469783352338,\n    'balanced acc': 0.7457055214723927},\n   'garments': {'kappa': 0.24816342960652105,\n    'balanced acc': 0.7205724508050089}},\n  '2_4M': {'fruit': {'kappa': 0.6295165394402036,\n    'balanced acc': 0.8288144603934078},\n   'tool': {'kappa': 0.8302024439175634, 'balanced acc': 0.9214814814814815},\n   'music': {'kappa': 0.5471385125794858, 'balanced acc': 0.7664960948020468},\n   'furniture': {'kappa': 0.29661573075841385,\n    'balanced acc': 0.742638036809816},\n   'garments': {'kappa': 0.2688565749555393,\n    'balanced acc': 0.7298747763864043}}},\n 46: {'1M': {'fruit': {'kappa': 0.6655121227115289,\n    'balanced acc': 0.8575225943646996},\n   'tool': {'kappa': 0.8566295364714337, 'balanced acc': 0.9414814814814815},\n   'music': {'kappa': 0.5471385125794858, 'balanced acc': 0.7664960948020468},\n   'furniture': {'kappa': 0.2815666940564229,\n    'balanced acc': 0.7365030674846625},\n   'garments': {'kappa': 0.2635313616822914,\n    'balanced acc': 0.7275491949910555}},\n  '2_4M': {'fruit': {'kappa': 0.6321374431531076,\n    'balanced acc': 0.832535885167464},\n   'tool': {'kappa': 0.8302024439175634, 'balanced acc': 0.9214814814814815},\n   'music': {'kappa': 0.5471385125794858, 'balanced acc': 0.7664960948020468},\n   'furniture': {'kappa': 0.29661573075841385,\n    'balanced acc': 0.742638036809816},\n   'garments': {'kappa': 0.2688565749555393,\n    'balanced acc': 0.7298747763864043}}},\n 47: {'1M': {'fruit': {'kappa': 0.6295165394402036,\n    'balanced acc': 0.8288144603934078},\n   'tool': {'kappa': 0.8302024439175634, 'balanced acc': 0.9214814814814815},\n   'music': {'kappa': 0.5626214940294363, 'balanced acc': 0.7728252087260974},\n   'furniture': {'kappa': 0.3044469783352338,\n    'balanced acc': 0.7457055214723927},\n   'garments': {'kappa': 0.23358637669265492,\n    'balanced acc': 0.7036672629695886}},\n  '2_4M': {'fruit': {'kappa': 0.6176470588235294,\n    'balanced acc': 0.8237639553429027},\n   'tool': {'kappa': 0.8302024439175634, 'balanced acc': 0.9214814814814815},\n   'music': {'kappa': 0.5471385125794858, 'balanced acc': 0.7664960948020468},\n   'furniture': {'kappa': 0.29661573075841385,\n    'balanced acc': 0.742638036809816},\n   'garments': {'kappa': 0.2742881293253737,\n    'balanced acc': 0.7322003577817531}}},\n 48: {'1M': {'fruit': {'kappa': 0.6058615462354724,\n    'balanced acc': 0.8187134502923976},\n   'tool': {'kappa': 0.8302024439175634, 'balanced acc': 0.9214814814814815},\n   'music': {'kappa': 0.5317919075144508, 'balanced acc': 0.7601669808779963},\n   'furniture': {'kappa': 0.3044469783352338,\n    'balanced acc': 0.7457055214723927},\n   'garments': {'kappa': 0.23839620778194748,\n    'balanced acc': 0.7159212880143113}},\n  '2_4M': {'fruit': {'kappa': 0.6414708886618998,\n    'balanced acc': 0.8338649654439128},\n   'tool': {'kappa': 0.8302024439175634, 'balanced acc': 0.9214814814814815},\n   'music': {'kappa': 0.5471385125794858, 'balanced acc': 0.7664960948020468},\n   'furniture': {'kappa': 0.29661573075841385,\n    'balanced acc': 0.742638036809816},\n   'garments': {'kappa': 0.2742881293253737,\n    'balanced acc': 0.7322003577817531}}},\n 49: {'1M': {'fruit': {'kappa': 0.6631788739412058,\n    'balanced acc': 0.8538011695906433},\n   'tool': {'kappa': 0.8302024439175634, 'balanced acc': 0.9214814814814815},\n   'music': {'kappa': 0.5471385125794858, 'balanced acc': 0.7664960948020468},\n   'furniture': {'kappa': 0.2815666940564229,\n    'balanced acc': 0.7365030674846625},\n   'garments': {'kappa': 0.22870205740411476,\n    'balanced acc': 0.7013416815742397}},\n  '2_4M': {'fruit': {'kappa': 0.6176470588235294,\n    'balanced acc': 0.8237639553429027},\n   'tool': {'kappa': 0.8302024439175634, 'balanced acc': 0.9214814814814815},\n   'music': {'kappa': 0.5626214940294363, 'balanced acc': 0.7728252087260974},\n   'furniture': {'kappa': 0.28899167437557816,\n    'balanced acc': 0.7395705521472393},\n   'garments': {'kappa': 0.2742881293253737,\n    'balanced acc': 0.7322003577817531}}}}"
     },
     "execution_count": 15,
     "metadata": {},
     "output_type": "execute_result"
    }
   ],
   "source": "multiResult",
   "metadata": {
    "collapsed": false,
    "pycharm": {
     "name": "#%%\n"
    },
    "trusted": false
   }
  },
  {
   "cell_type": "code",
   "execution_count": 16,
   "outputs": [],
   "source": "np.save('TransferModel_50_times_sampling_CABNC.npy', multiResult, allow_pickle=True)",
   "metadata": {
    "collapsed": false,
    "pycharm": {
     "name": "#%%\n"
    },
    "trusted": false
   }
  },
  {
   "cell_type": "code",
   "execution_count": 62,
   "outputs": [],
   "source": "multiResult = np.load('TransferModel_50_times_sampling_CABNC.npy', allow_pickle=True)\nmultiResult.item()",
   "metadata": {
    "collapsed": false,
    "pycharm": {
     "name": "#%%\n"
    },
    "trusted": false
   }
  },
  {
   "cell_type": "code",
   "execution_count": 17,
   "outputs": [
    {
     "data": {
      "text/plain": "{0: {'1M': {'kappa': 0.516296466404963, 'balanced acc': 0.7997502065420635},\n  '2_4M': {'kappa': 0.520844892069348, 'balanced acc': 0.8010905732287142}},\n 1: {'1M': {'kappa': 0.5145936428799491, 'balanced acc': 0.7972609234719934},\n  '2_4M': {'kappa': 0.5155522712042081, 'balanced acc': 0.798326086253701}},\n 2: {'1M': {'kappa': 0.5073199469141623, 'balanced acc': 0.797782322208544},\n  '2_4M': {'kappa': 0.5133490087589732, 'balanced acc': 0.7974568675464766}},\n 3: {'1M': {'kappa': 0.5031241789254377, 'balanced acc': 0.7925105510493801},\n  '2_4M': {'kappa': 0.5155522712042081, 'balanced acc': 0.798326086253701}},\n 4: {'1M': {'kappa': 0.5147877694463832, 'balanced acc': 0.7979772491785948},\n  '2_4M': {'kappa': 0.509734961689295, 'balanced acc': 0.7958407679544293}},\n 5: {'1M': {'kappa': 0.5019687035413225, 'balanced acc': 0.790343543496357},\n  '2_4M': {'kappa': 0.5155522712042081, 'balanced acc': 0.798326086253701}},\n 6: {'1M': {'kappa': 0.5230132623060562, 'balanced acc': 0.8031993675411495},\n  '2_4M': {'kappa': 0.512356524699002, 'balanced acc': 0.7969307374164917}},\n 7: {'1M': {'kappa': 0.5124899982781855, 'balanced acc': 0.797432380880566},\n  '2_4M': {'kappa': 0.5155522712042081, 'balanced acc': 0.798326086253701}},\n 8: {'1M': {'kappa': 0.5096878600274797, 'balanced acc': 0.7957763183331692},\n  '2_4M': {'kappa': 0.5086013035156449, 'balanced acc': 0.7936737604014062}},\n 9: {'1M': {'kappa': 0.5099545446445732, 'balanced acc': 0.7952926306555429},\n  '2_4M': {'kappa': 0.5184637935916474, 'balanced acc': 0.8013159852436}},\n 10: {'1M': {'kappa': 0.5013488619646893, 'balanced acc': 0.792139704135066},\n  '2_4M': {'kappa': 0.5120920642069063, 'balanced acc': 0.7968508689645303}},\n 11: {'1M': {'kappa': 0.5107984607644412, 'balanced acc': 0.7963099468137231},\n  '2_4M': {'kappa': 0.5184637935916474, 'balanced acc': 0.8013159852436}},\n 12: {'1M': {'kappa': 0.512879375130956, 'balanced acc': 0.7971106533194634},\n  '2_4M': {'kappa': 0.5179431410485473, 'balanced acc': 0.7993361872638021}},\n 13: {'1M': {'kappa': 0.5102281682098566, 'balanced acc': 0.7941746694654029},\n  '2_4M': {'kappa': 0.5219459123024153, 'balanced acc': 0.8027912025327708}},\n 14: {'1M': {'kappa': 0.49389803366668783, 'balanced acc': 0.787557152454152},\n  '2_4M': {'kappa': 0.5131783750808733, 'balanced acc': 0.7973159852436}},\n 15: {'1M': {'kappa': 0.5167121618718069, 'balanced acc': 0.7987342512620798},\n  '2_4M': {'kappa': 0.5179431410485473, 'balanced acc': 0.7993361872638021}},\n 16: {'1M': {'kappa': 0.5133477056600577, 'balanced acc': 0.795991985698396},\n  '2_4M': {'kappa': 0.5155522712042081, 'balanced acc': 0.798326086253701}},\n 17: {'1M': {'kappa': 0.5170126037889031, 'balanced acc': 0.801971214807932},\n  '2_4M': {'kappa': 0.5179431410485473, 'balanced acc': 0.7993361872638021}},\n 18: {'1M': {'kappa': 0.5058590646933461, 'balanced acc': 0.7925878535195678},\n  '2_4M': {'kappa': 0.5155522712042081, 'balanced acc': 0.798326086253701}},\n 19: {'1M': {'kappa': 0.5085207148852048, 'balanced acc': 0.7944994225003715},\n  '2_4M': {'kappa': 0.5090227431938994, 'balanced acc': 0.7955850461797201}},\n 20: {'1M': {'kappa': 0.511267774904797, 'balanced acc': 0.7964583274671686},\n  '2_4M': {'kappa': 0.5088387014773865, 'balanced acc': 0.7937811015226698}},\n 21: {'1M': {'kappa': 0.497246978766037, 'balanced acc': 0.7867591186079915},\n  '2_4M': {'kappa': 0.5215603898816374, 'balanced acc': 0.8025818080284102}},\n 22: {'1M': {'kappa': 0.5205125843187497, 'balanced acc': 0.8021207543295645},\n  '2_4M': {'kappa': 0.5184637935916474, 'balanced acc': 0.8013159852436}},\n 23: {'1M': {'kappa': 0.5060045317191639, 'balanced acc': 0.7942212325920368},\n  '2_4M': {'kappa': 0.5155522712042081, 'balanced acc': 0.798326086253701}},\n 24: {'1M': {'kappa': 0.499637174263224, 'balanced acc': 0.7888293808544041},\n  '2_4M': {'kappa': 0.5195093905639113, 'balanced acc': 0.7999496841963174}},\n 25: {'1M': {'kappa': 0.5113069608842661, 'balanced acc': 0.796587853519568},\n  '2_4M': {'kappa': 0.5184637935916474, 'balanced acc': 0.8013159852436}},\n 26: {'1M': {'kappa': 0.5133406244731641, 'balanced acc': 0.800855034646464},\n  '2_4M': {'kappa': 0.5113966393172341, 'balanced acc': 0.796595147189821}},\n 27: {'1M': {'kappa': 0.5147139436764417, 'balanced acc': 0.7999580624059937},\n  '2_4M': {'kappa': 0.519312878438415, 'balanced acc': 0.8017125893211856}},\n 28: {'1M': {'kappa': 0.5065709116733792, 'balanced acc': 0.7930849861961108},\n  '2_4M': {'kappa': 0.5131783750808733, 'balanced acc': 0.7973159852436}},\n 29: {'1M': {'kappa': 0.5160236925978321, 'balanced acc': 0.8006374486919},\n  '2_4M': {'kappa': 0.5149901410728219, 'balanced acc': 0.7986052549294425}},\n 30: {'1M': {'kappa': 0.509782778840966, 'balanced acc': 0.7958448305346533},\n  '2_4M': {'kappa': 0.5151886604968964, 'balanced acc': 0.7981166917493403}},\n 31: {'1M': {'kappa': 0.5094598017827421, 'balanced acc': 0.7955669238288084},\n  '2_4M': {'kappa': 0.5131783750808733, 'balanced acc': 0.7973159852436}},\n 32: {'1M': {'kappa': 0.5222794309264627, 'balanced acc': 0.8024670568038909},\n  '2_4M': {'kappa': 0.5208376897149821, 'balanced acc': 0.8023260862537009}},\n 33: {'1M': {'kappa': 0.5114042446342767, 'balanced acc': 0.7996267788115367},\n  '2_4M': {'kappa': 0.5155522712042081, 'balanced acc': 0.798326086253701}},\n 34: {'1M': {'kappa': 0.4955439434926944, 'balanced acc': 0.7858784272172873},\n  '2_4M': {'kappa': 0.5131783750808733, 'balanced acc': 0.7973159852436}},\n 35: {'1M': {'kappa': 0.5043425996646572, 'balanced acc': 0.791353644506458},\n  '2_4M': {'kappa': 0.5155522712042081, 'balanced acc': 0.798326086253701}},\n 36: {'1M': {'kappa': 0.5054067840633965, 'balanced acc': 0.7928757081247527},\n  '2_4M': {'kappa': 0.5204740790076705, 'balanced acc': 0.8021166917493405}},\n 37: {'1M': {'kappa': 0.5033388933695268, 'balanced acc': 0.7913797142555835},\n  '2_4M': {'kappa': 0.5171185207195721, 'balanced acc': 0.7989395831862163}},\n 38: {'1M': {'kappa': 0.5189363151957946, 'balanced acc': 0.8013765858077557},\n  '2_4M': {'kappa': 0.5200300431070113, 'balanced acc': 0.8019294821761154}},\n 39: {'1M': {'kappa': 0.5081957445683354, 'balanced acc': 0.7927290190249343},\n  '2_4M': {'kappa': 0.5131783750808733, 'balanced acc': 0.7973159852436}},\n 40: {'1M': {'kappa': 0.5146988085943989, 'balanced acc': 0.7984449000584444},\n  '2_4M': {'kappa': 0.5131783750808733, 'balanced acc': 0.7973159852436}},\n 41: {'1M': {'kappa': 0.5103249023200638, 'balanced acc': 0.796025312637581},\n  '2_4M': {'kappa': 0.5204498674165811, 'balanced acc': 0.8027461372323191}},\n 42: {'1M': {'kappa': 0.5160838792752153, 'balanced acc': 0.8003099468137231},\n  '2_4M': {'kappa': 0.5166604937916413, 'balanced acc': 0.7987912025327708}},\n 43: {'1M': {'kappa': 0.5063541414345079, 'balanced acc': 0.7942374643449902},\n  '2_4M': {'kappa': 0.5184637935916474, 'balanced acc': 0.8013159852436}},\n 44: {'1M': {'kappa': 0.524565726991245, 'balanced acc': 0.8021498021194912},\n  '2_4M': {'kappa': 0.5155522712042081, 'balanced acc': 0.798326086253701}},\n 45: {'1M': {'kappa': 0.5162848566903464, 'balanced acc': 0.7994859463201468},\n  '2_4M': {'kappa': 0.5144659603302412, 'balanced acc': 0.7978609699746312}},\n 46: {'1M': {'kappa': 0.5228756455002325, 'balanced acc': 0.8059104866247893},\n  '2_4M': {'kappa': 0.5149901410728219, 'balanced acc': 0.7986052549294425}},\n 47: {'1M': {'kappa': 0.5120747664830183, 'balanced acc': 0.7944987870085936},\n  '2_4M': {'kappa': 0.5131783750808733, 'balanced acc': 0.7973159852436}},\n 48: {'1M': {'kappa': 0.5021398167569335, 'balanced acc': 0.7923977444277159},\n  '2_4M': {'kappa': 0.5179431410485473, 'balanced acc': 0.7993361872638021}},\n 49: {'1M': {'kappa': 0.5101577163797584, 'balanced acc': 0.7959246989866149},\n  '2_4M': {'kappa': 0.5147501600942962, 'balanced acc': 0.7979683110958948}}}"
     },
     "execution_count": 17,
     "metadata": {},
     "output_type": "execute_result"
    }
   ],
   "source": "# integrate kappa / balanced acc\nmultiResult_integration = multiResult\n\ndomains = ['fruit', 'tool', 'music', 'furniture', 'garments']\n\nfor k, v in multiResult_integration.items():\n    kappa_1m_list = []\n    balancedacc_1m_list = []\n    kappa_2_4m_list = []\n    balancedacc_2_4m_list = []\n    for domain in domains:\n        kappa_1m_list.append(v['1M'][domain]['kappa'])\n        balancedacc_1m_list.append(v['1M'][domain]['balanced acc'])\n        kappa_2_4m_list.append(v['2_4M'][domain]['kappa'])\n        balancedacc_2_4m_list.append(v['2_4M'][domain]['balanced acc'])\n    kappa_avg_1m = np.mean(kappa_1m_list)\n    balancedacc_avg_1m = np.mean(balancedacc_1m_list)\n    kappa_avg_2_4m = np.mean(kappa_2_4m_list)\n    balancedacc_avg_2_4m = np.mean(balancedacc_2_4m_list)\n\n    multiResult_integration[k]['1M'] = {'kappa': kappa_avg_1m, 'balanced acc': balancedacc_avg_1m}\n    multiResult_integration[k]['2_4M'] = {'kappa': kappa_avg_2_4m, 'balanced acc': balancedacc_avg_2_4m}\n\nmultiResult_integration",
   "metadata": {
    "collapsed": false,
    "pycharm": {
     "name": "#%%\n"
    },
    "trusted": false
   }
  },
  {
   "cell_type": "code",
   "execution_count": 18,
   "outputs": [],
   "source": "np.save('TransferModel_inte_50_times_sampling_CABNC.npy', multiResult_integration, allow_pickle=True)",
   "metadata": {
    "collapsed": false,
    "pycharm": {
     "name": "#%%\n"
    },
    "trusted": false
   }
  },
  {
   "cell_type": "markdown",
   "source": "## CHILDES by 50 times sampling corpus",
   "metadata": {
    "collapsed": false,
    "pycharm": {
     "name": "#%% md\n"
    }
   }
  },
  {
   "cell_type": "code",
   "source": "# load sub-corporas\nbrown = pylangacq.read_chat(\"../../corpora/CHILDES/Brown.zip\")\nbelf = pylangacq.read_chat(\"../../corpora/CHILDES/Belfast.zip\")\ncrutt=pylangacq.read_chat(\"../../corpora/CHILDES/Cruttenden.zip\")\nfletcher=pylangacq.read_chat(\"../../corpora/CHILDES/Fletcher.zip\")\nforr=pylangacq.read_chat(\"../../corpora/CHILDES/Forrester.zip\")\ngath=pylangacq.read_chat(\"../../corpora/CHILDES/Gathburn.zip\")\nhowe=pylangacq.read_chat(\"../../corpora/CHILDES/Howe.zip\")\nkelly=pylangacq.read_chat(\"../../corpora/CHILDES/KellyQuigley.zip\")\nkorman=pylangacq.read_chat(\"../../corpora/CHILDES/Korman.zip\")\nlara=pylangacq.read_chat(\"../../corpora/CHILDES/Lara.zip\")\nmanc=pylangacq.read_chat(\"../../corpora/CHILDES/Manchester.zip\")\nnuff=pylangacq.read_chat(\"../../corpora/CHILDES/Nuffield.zip\")\nquigley=pylangacq.read_chat(\"../../corpora/CHILDES/QuigleyMcNally.zip\")\nsekali=pylangacq.read_chat(\"../../corpora/CHILDES/Sekali.zip\")\nsmith=pylangacq.read_chat(\"../../corpora/CHILDES/Smith.zip\")\ntommer=pylangacq.read_chat(\"../../corpora/CHILDES/Tommerdahl.zip\")\n\n# link up sub-corporas\ncorpora = [brown, belf, crutt, fletcher, forr, gath, howe, kelly, korman, lara, manc, nuff, quigley, sekali, smith, tommer]\nreader = pylangacq.Reader()\nfor item in corpora:\n    reader.append(item)\n\n# preparation sample for 5.7m, 2.4m, 1m\nwords = reader.words()\nchildes_df = pd.Series(words)\nrandom_seed = 7",
   "metadata": {
    "collapsed": false,
    "pycharm": {
     "name": "#%%\n"
    },
    "trusted": false
   },
   "execution_count": 19,
   "outputs": []
  },
  {
   "cell_type": "code",
   "execution_count": 22,
   "outputs": [],
   "source": "# define a function to perform several times sampling\ndef multiSample_CHILDES(n):\n    result_dict = {}\n    for time in range(n):\n        childes_5_7m = childes_df.sample(n=5700000, replace=True)\n        childes_2_4m = childes_df.sample(n=2400000)\n        childes_1m = childes_df.sample(n=1000000)\n\n        # create a word count from dictionary into dataframe\n        # addition: convert all words into low case\n        childes_5_7m_freq = nltk.FreqDist(word.lower() for word in childes_5_7m)\n        childes_5_7m_df = pd.DataFrame.from_dict(childes_5_7m_freq, orient='index').reset_index().rename(columns={0: 'CHILDES_Count', 'index':'norm'}).set_index('norm')\n        childes_2_4m_freq = nltk.FreqDist(word.lower() for word in childes_2_4m)\n        childes_2_4m_df = pd.DataFrame.from_dict(childes_2_4m_freq, orient='index').reset_index().rename(columns={0: 'CHILDES_Count', 'index':'norm'}).set_index('norm')\n        childes_1m_freq = nltk.FreqDist(word.lower() for word in childes_1m)\n        childes_1m_df = pd.DataFrame.from_dict(childes_1m_freq, orient='index').reset_index().rename(columns={0: 'CHILDES_Count', 'index':'norm'}).set_index('norm')\n\n        # childes_rel_sum: The sum of all instances of each lemma per synset in the CHILDES corpus, devided by the total number of words in the corpus\n        total_count_1m = childes_1m_df['CHILDES_Count'].sum()\n        GS_adopt['childes_1m_rel_sum'] = GS_adopt['norm'].apply(lambda norm: sum_lemmas(norm, childes_1m_df)/total_count_1m)\n        total_count_2_4m = childes_2_4m_df['CHILDES_Count'].sum()\n        GS_adopt['childes_2_4m_rel_sum'] = GS_adopt['norm'].apply(lambda norm: sum_lemmas(norm, childes_2_4m_df)/total_count_2_4m)\n        total_count_5_7m = childes_5_7m_df['CHILDES_Count'].sum()\n        GS_adopt['childes_5_7m_rel_sum'] = GS_adopt['norm'].apply(lambda norm: sum_lemmas(norm, childes_5_7m_df)/total_count_5_7m)\n\n        # generate the local dataframe for different domains\n        local_fruit = GS_adopt.loc[GS_adopt['domain_x']=='fruit']\n        local_tool = GS_adopt.loc[GS_adopt['domain_x']=='tool']\n        local_music = GS_adopt.loc[GS_adopt['domain_x']=='music']\n        local_furniture = GS_adopt.loc[GS_adopt['domain_x']=='furn']\n        local_garments = GS_adopt.loc[GS_adopt['domain_x']=='garm']\n\n        unseen_fruit = GS_adopt.loc[GS_adopt['domain_x']!='fruit']\n        unseen_tool = GS_adopt.loc[GS_adopt['domain_x']!='tool']\n        unseen_music = GS_adopt.loc[GS_adopt['domain_x']!='music']\n        unseen_furniture = GS_adopt.loc[GS_adopt['domain_x']!='furn']\n        unseen_garments = GS_adopt.loc[GS_adopt['domain_x']!='garm']\n\n        # TransferModel test\n        result_dict[time] = {'1M':{'fruit':{}, 'tool':{}, 'music':{}, 'furniture':{}, 'garments':{}}, '2_4M':{'fruit':{}, 'tool':{}, 'music':{}, 'furniture':{}, 'garments':{}}, '5_7M':{'fruit':{}, 'tool':{}, 'music':{}, 'furniture':{}, 'garments':{}}}\n        sized_corpora = 'childes_1m_rel_sum'\n        result_kappa_acc, result_importance = transfer_model_test(unseen_fruit, local_fruit, features, sized_corpora, target)\n        result_dict[time]['1M']['fruit']['kappa']  = result_kappa_acc['cohen kappa'][0]\n        result_dict[time]['1M']['fruit']['balanced acc'] = result_kappa_acc['balanced acc'][0]\n\n        result_kappa_acc, result_importance = transfer_model_test(unseen_tool, local_tool, features, sized_corpora, target)\n        result_dict[time]['1M']['tool']['kappa']  = result_kappa_acc['cohen kappa'][0]\n        result_dict[time]['1M']['tool']['balanced acc'] = result_kappa_acc['balanced acc'][0]\n\n        result_kappa_acc, result_importance = transfer_model_test(unseen_music, local_music, features, sized_corpora, target)\n        result_dict[time]['1M']['music']['kappa']  = result_kappa_acc['cohen kappa'][0]\n        result_dict[time]['1M']['music']['balanced acc'] = result_kappa_acc['balanced acc'][0]\n\n        result_kappa_acc, result_importance = transfer_model_test(unseen_furniture, local_furniture, features, sized_corpora, target)\n        result_dict[time]['1M']['furniture']['kappa']  = result_kappa_acc['cohen kappa'][0]\n        result_dict[time]['1M']['furniture']['balanced acc'] = result_kappa_acc['balanced acc'][0]\n\n        result_kappa_acc, result_importance = transfer_model_test(unseen_garments, local_garments, features, sized_corpora, target)\n        result_dict[time]['1M']['garments']['kappa']  = result_kappa_acc['cohen kappa'][0]\n        result_dict[time]['1M']['garments']['balanced acc'] = result_kappa_acc['balanced acc'][0]\n\n\n        sized_corpora = 'childes_2_4m_rel_sum'\n        result_kappa_acc, result_importance = transfer_model_test(unseen_fruit, local_fruit, features, sized_corpora, target)\n        result_dict[time]['2_4M']['fruit']['kappa']  = result_kappa_acc['cohen kappa'][0]\n        result_dict[time]['2_4M']['fruit']['balanced acc'] = result_kappa_acc['balanced acc'][0]\n\n        result_kappa_acc, result_importance = transfer_model_test(unseen_tool, local_tool, features, sized_corpora, target)\n        result_dict[time]['2_4M']['tool']['kappa']  = result_kappa_acc['cohen kappa'][0]\n        result_dict[time]['2_4M']['tool']['balanced acc'] = result_kappa_acc['balanced acc'][0]\n\n        result_kappa_acc, result_importance = transfer_model_test(unseen_music, local_music, features, sized_corpora, target)\n        result_dict[time]['2_4M']['music']['kappa']  = result_kappa_acc['cohen kappa'][0]\n        result_dict[time]['2_4M']['music']['balanced acc'] = result_kappa_acc['balanced acc'][0]\n\n        result_kappa_acc, result_importance = transfer_model_test(unseen_furniture, local_furniture, features, sized_corpora, target)\n        result_dict[time]['2_4M']['furniture']['kappa']  = result_kappa_acc['cohen kappa'][0]\n        result_dict[time]['2_4M']['furniture']['balanced acc'] = result_kappa_acc['balanced acc'][0]\n\n        result_kappa_acc, result_importance = transfer_model_test(unseen_garments, local_garments, features, sized_corpora, target)\n        result_dict[time]['2_4M']['garments']['kappa']  = result_kappa_acc['cohen kappa'][0]\n        result_dict[time]['2_4M']['garments']['balanced acc'] = result_kappa_acc['balanced acc'][0]\n\n\n        sized_corpora = 'childes_5_7m_rel_sum'\n        result_kappa_acc, result_importance = transfer_model_test(unseen_fruit, local_fruit, features, sized_corpora, target)\n        result_dict[time]['5_7M']['fruit']['kappa']  = result_kappa_acc['cohen kappa'][0]\n        result_dict[time]['5_7M']['fruit']['balanced acc'] = result_kappa_acc['balanced acc'][0]\n\n        result_kappa_acc, result_importance = transfer_model_test(unseen_tool, local_tool, features, sized_corpora, target)\n        result_dict[time]['5_7M']['tool']['kappa']  = result_kappa_acc['cohen kappa'][0]\n        result_dict[time]['5_7M']['tool']['balanced acc'] = result_kappa_acc['balanced acc'][0]\n\n        result_kappa_acc, result_importance = transfer_model_test(unseen_music, local_music, features, sized_corpora, target)\n        result_dict[time]['5_7M']['music']['kappa']  = result_kappa_acc['cohen kappa'][0]\n        result_dict[time]['5_7M']['music']['balanced acc'] = result_kappa_acc['balanced acc'][0]\n\n        result_kappa_acc, result_importance = transfer_model_test(unseen_furniture, local_furniture, features, sized_corpora, target)\n        result_dict[time]['5_7M']['furniture']['kappa']  = result_kappa_acc['cohen kappa'][0]\n        result_dict[time]['5_7M']['furniture']['balanced acc'] = result_kappa_acc['balanced acc'][0]\n\n        result_kappa_acc, result_importance = transfer_model_test(unseen_garments, local_garments, features, sized_corpora, target)\n        result_dict[time]['5_7M']['garments']['kappa']  = result_kappa_acc['cohen kappa'][0]\n        result_dict[time]['5_7M']['garments']['balanced acc'] = result_kappa_acc['balanced acc'][0]\n\n    return result_dict",
   "metadata": {
    "collapsed": false,
    "pycharm": {
     "name": "#%%\n"
    },
    "trusted": false
   }
  },
  {
   "cell_type": "code",
   "execution_count": null,
   "outputs": [],
   "source": "multiResult = multiSample_CHILDES(50)",
   "metadata": {
    "collapsed": false,
    "pycharm": {
     "name": "#%%\n",
     "is_executing": true
    },
    "trusted": false
   }
  },
  {
   "cell_type": "code",
   "execution_count": null,
   "outputs": [],
   "source": "multiResult",
   "metadata": {
    "collapsed": false,
    "pycharm": {
     "name": "#%%\n",
     "is_executing": true
    },
    "trusted": false
   }
  },
  {
   "cell_type": "code",
   "execution_count": null,
   "outputs": [],
   "source": "np.save('TransferModel_50_times_sampling_CHILDES.npy', multiResult, allow_pickle=True)",
   "metadata": {
    "collapsed": false,
    "pycharm": {
     "name": "#%%\n",
     "is_executing": true
    },
    "trusted": false
   }
  },
  {
   "cell_type": "code",
   "execution_count": null,
   "outputs": [],
   "source": "multiResult = np.load('TransferModel_50_times_sampling_CHILDES.npy', allow_pickle=True)\nmultiResult.item()",
   "metadata": {
    "collapsed": false,
    "pycharm": {
     "name": "#%%\n"
    },
    "trusted": false
   }
  },
  {
   "cell_type": "code",
   "execution_count": null,
   "outputs": [],
   "source": "# integrate kappa / balanced acc\nmultiResult_integration = multiResult\n\ndomains = ['fruit', 'tool', 'music', 'furniture', 'garments']\n\nfor k, v in multiResult_integration.items():\n    kappa_1m_list = []\n    balancedacc_1m_list = []\n    kappa_2_4m_list = []\n    balancedacc_2_4m_list = []\n    kappa_5_7m_list = []\n    balancedacc_5_7m_list = []\n    for domain in domains:\n        kappa_1m_list.append(v['1M'][domain]['kappa'])\n        balancedacc_1m_list.append(v['1M'][domain]['balanced acc'])\n        kappa_2_4m_list.append(v['2_4M'][domain]['kappa'])\n        balancedacc_2_4m_list.append(v['2_4M'][domain]['balanced acc'])\n        kappa_5_7m_list.append(v['5_7M'][domain]['kappa'])\n        balancedacc_5_7m_list.append(v['5_7M'][domain]['balanced acc'])\n    kappa_avg_1m = np.mean(kappa_1m_list)\n    balancedacc_avg_1m = np.mean(balancedacc_1m_list)\n    kappa_avg_2_4m = np.mean(kappa_2_4m_list)\n    balancedacc_avg_2_4m = np.mean(balancedacc_2_4m_list)\n    kappa_avg_5_7m = np.mean(kappa_5_7m_list)\n    balancedacc_avg_5_7m = np.mean(balancedacc_5_7m_list)\n\n    multiResult_integration[k]['1M'] = {'kappa': kappa_avg_1m, 'balanced acc': balancedacc_avg_1m}\n    multiResult_integration[k]['2_4M'] = {'kappa': kappa_avg_2_4m, 'balanced acc': balancedacc_avg_2_4m}\n    multiResult_integration[k]['5_7M'] = {'kappa': kappa_avg_5_7m, 'balanced acc': balancedacc_avg_5_7m}\n\nmultiResult_integration",
   "metadata": {
    "collapsed": false,
    "pycharm": {
     "name": "#%%\n",
     "is_executing": true
    },
    "trusted": false
   }
  },
  {
   "cell_type": "code",
   "execution_count": null,
   "outputs": [],
   "source": "np.save('TransferModel_inte_50_times_sampling_CHILDES.npy', multiResult_integration, allow_pickle=True)",
   "metadata": {
    "collapsed": false,
    "pycharm": {
     "name": "#%%\n",
     "is_executing": true
    },
    "trusted": false
   }
  },
  {
   "cell_type": "markdown",
   "source": "## BNC by 50 times sampling corpus",
   "metadata": {
    "collapsed": false,
    "pycharm": {
     "name": "#%% md\n"
    }
   }
  },
  {
   "cell_type": "code",
   "execution_count": null,
   "outputs": [],
   "source": "bnc_full_reader = BNCCorpusReader(root='../../corpora/BNC/2554.zip/download/Texts/', fileids=r'[A-K]/\\w*/\\w*\\.xml')\nbnc_full = bnc_full_reader.words()\nbnc_df = pd.Series(bnc_full)\nrandom_seed = 7",
   "metadata": {
    "collapsed": false,
    "pycharm": {
     "name": "#%%\n",
     "is_executing": true
    },
    "trusted": false
   }
  },
  {
   "cell_type": "code",
   "execution_count": null,
   "outputs": [],
   "source": "# define a function to perform several times sampling\ndef multiSample_BNC(n):\n    result_dict = {}\n    for time in range(n):\n        bnc_100m = bnc_df.sample(n=100000000)\n        bnc_5_7m = bnc_df.sample(n=5700000)\n        bnc_2_4m = bnc_df.sample(n=2400000)\n        bnc_1m = bnc_df.sample(n=1000000)\n\n        # create a word count from dictionary into dataframe\n        # addition: convert all words into low case\n        bnc_100m_word_count_dict = nltk.FreqDist(word.lower() for word in bnc_100m)\n        bnc_100m_word_count_df = pd.DataFrame.from_dict(bnc_100m_word_count_dict, orient='index').reset_index()\n        bnc_100m_word_count_df = bnc_100m_word_count_df.rename(columns={'index':'norm', 0:'BNC_100m_Count'})\n        bnc_100m_word_count_df = bnc_100m_word_count_df.set_index('norm')\n\n        bnc_5_7m_word_count_dict = nltk.FreqDist(word.lower() for word in bnc_5_7m)\n        bnc_5_7m_word_count_df = pd.DataFrame.from_dict(bnc_5_7m_word_count_dict, orient='index').reset_index()\n        bnc_5_7m_word_count_df = bnc_5_7m_word_count_df.rename(columns={'index':'norm', 0:'BNC_5_7m_Count'})\n        bnc_5_7m_word_count_df = bnc_5_7m_word_count_df.set_index('norm')\n\n        bnc_2_4m_word_count_dict = nltk.FreqDist(word.lower() for word in bnc_2_4m)\n        bnc_2_4m_word_count_df = pd.DataFrame.from_dict(bnc_2_4m_word_count_dict, orient='index').reset_index()\n        bnc_2_4m_word_count_df = bnc_2_4m_word_count_df.rename(columns={'index':'norm', 0:'BNC_2_4m_Count'})\n        bnc_2_4m_word_count_df = bnc_2_4m_word_count_df.set_index('norm')\n\n        bnc_1m_word_count_dict = nltk.FreqDist(word.lower() for word in bnc_1m)\n        bnc_1m_word_count_df = pd.DataFrame.from_dict(bnc_1m_word_count_dict, orient='index').reset_index()\n        bnc_1m_word_count_df = bnc_1m_word_count_df.rename(columns={'index':'norm', 0:'BNC_1m_Count'})\n        bnc_1m_word_count_df = bnc_1m_word_count_df.set_index('norm')\n\n        # childes_rel_sum: The sum of all instances of each lemma per synset in the CHILDES corpus, devided by the total number of words in the corpus\n        GS_adopt['bnc_100m_sum'] = GS_adopt['norm'].apply(lambda norm: sum_lemmas(norm, bnc_100m_word_count_df))\n        GS_adopt['bnc_5_7m_sum'] = GS_adopt['norm'].apply(lambda norm: sum_lemmas(norm, bnc_5_7m_word_count_df))\n        GS_adopt['bnc_2_4m_sum'] = GS_adopt['norm'].apply(lambda norm: sum_lemmas(norm, bnc_2_4m_word_count_df))\n        GS_adopt['bnc_1m_sum'] = GS_adopt['norm'].apply(lambda norm: sum_lemmas(norm, bnc_1m_word_count_df))\n\n        # generate the local dataframe for different domains\n        local_fruit = GS_adopt.loc[GS_adopt['domain_x']=='fruit']\n        local_tool = GS_adopt.loc[GS_adopt['domain_x']=='tool']\n        local_music = GS_adopt.loc[GS_adopt['domain_x']=='music']\n        local_furniture = GS_adopt.loc[GS_adopt['domain_x']=='furn']\n        local_garments = GS_adopt.loc[GS_adopt['domain_x']=='garm']\n\n        unseen_fruit = GS_adopt.loc[GS_adopt['domain_x']!='fruit']\n        unseen_tool = GS_adopt.loc[GS_adopt['domain_x']!='tool']\n        unseen_music = GS_adopt.loc[GS_adopt['domain_x']!='music']\n        unseen_furniture = GS_adopt.loc[GS_adopt['domain_x']!='furn']\n        unseen_garments = GS_adopt.loc[GS_adopt['domain_x']!='garm']\n\n        # GlobalModel test\n        result_dict[time] = {'1M':{'fruit':{}, 'tool':{}, 'music':{}, 'furniture':{}, 'garments':{}}, '2_4M':{'fruit':{}, 'tool':{}, 'music':{}, 'furniture':{}, 'garments':{}}, '5_7M':{'fruit':{}, 'tool':{}, 'music':{}, 'furniture':{}, 'garments':{}}, '100M':{'fruit':{}, 'tool':{}, 'music':{}, 'furniture':{}, 'garments':{}}}\n\n        sized_corpora = 'bnc_1m_sum'\n        result_kappa_acc, result_importance = transfer_model_test(unseen_fruit, local_fruit, features, sized_corpora, target)\n        result_dict[time]['1M']['fruit']['kappa']  = result_kappa_acc['cohen kappa'][0]\n        result_dict[time]['1M']['fruit']['balanced acc'] = result_kappa_acc['balanced acc'][0]\n\n        result_kappa_acc, result_importance = transfer_model_test(unseen_tool, local_tool, features, sized_corpora, target)\n        result_dict[time]['1M']['tool']['kappa']  = result_kappa_acc['cohen kappa'][0]\n        result_dict[time]['1M']['tool']['balanced acc'] = result_kappa_acc['balanced acc'][0]\n\n        result_kappa_acc, result_importance = transfer_model_test(unseen_music, local_music, features, sized_corpora, target)\n        result_dict[time]['1M']['music']['kappa']  = result_kappa_acc['cohen kappa'][0]\n        result_dict[time]['1M']['music']['balanced acc'] = result_kappa_acc['balanced acc'][0]\n\n        result_kappa_acc, result_importance = transfer_model_test(unseen_furniture, local_furniture, features, sized_corpora, target)\n        result_dict[time]['1M']['furniture']['kappa']  = result_kappa_acc['cohen kappa'][0]\n        result_dict[time]['1M']['furniture']['balanced acc'] = result_kappa_acc['balanced acc'][0]\n\n        result_kappa_acc, result_importance = transfer_model_test(unseen_garments, local_garments, features, sized_corpora, target)\n        result_dict[time]['1M']['garments']['kappa']  = result_kappa_acc['cohen kappa'][0]\n        result_dict[time]['1M']['garments']['balanced acc'] = result_kappa_acc['balanced acc'][0]\n\n\n        sized_corpora = 'bnc_2_4m_sum'\n        result_kappa_acc, result_importance = transfer_model_test(unseen_fruit, local_fruit, features, sized_corpora, target)\n        result_dict[time]['2_4M']['fruit']['kappa']  = result_kappa_acc['cohen kappa'][0]\n        result_dict[time]['2_4M']['fruit']['balanced acc'] = result_kappa_acc['balanced acc'][0]\n\n        result_kappa_acc, result_importance = transfer_model_test(unseen_tool, local_tool, features, sized_corpora, target)\n        result_dict[time]['2_4M']['tool']['kappa']  = result_kappa_acc['cohen kappa'][0]\n        result_dict[time]['2_4M']['tool']['balanced acc'] = result_kappa_acc['balanced acc'][0]\n\n        result_kappa_acc, result_importance = transfer_model_test(unseen_music, local_music, features, sized_corpora, target)\n        result_dict[time]['2_4M']['music']['kappa']  = result_kappa_acc['cohen kappa'][0]\n        result_dict[time]['2_4M']['music']['balanced acc'] = result_kappa_acc['balanced acc'][0]\n\n        result_kappa_acc, result_importance = transfer_model_test(unseen_furniture, local_furniture, features, sized_corpora, target)\n        result_dict[time]['2_4M']['furniture']['kappa']  = result_kappa_acc['cohen kappa'][0]\n        result_dict[time]['2_4M']['furniture']['balanced acc'] = result_kappa_acc['balanced acc'][0]\n\n        result_kappa_acc, result_importance = transfer_model_test(unseen_garments, local_garments, features, sized_corpora, target)\n        result_dict[time]['2_4M']['garments']['kappa']  = result_kappa_acc['cohen kappa'][0]\n        result_dict[time]['2_4M']['garments']['balanced acc'] = result_kappa_acc['balanced acc'][0]\n\n\n        sized_corpora = 'bnc_5_7m_sum'\n        result_kappa_acc, result_importance = transfer_model_test(unseen_fruit, local_fruit, features, sized_corpora, target)\n        result_dict[time]['5_7M']['fruit']['kappa']  = result_kappa_acc['cohen kappa'][0]\n        result_dict[time]['5_7M']['fruit']['balanced acc'] = result_kappa_acc['balanced acc'][0]\n\n        result_kappa_acc, result_importance = transfer_model_test(unseen_tool, local_tool, features, sized_corpora, target)\n        result_dict[time]['5_7M']['tool']['kappa']  = result_kappa_acc['cohen kappa'][0]\n        result_dict[time]['5_7M']['tool']['balanced acc'] = result_kappa_acc['balanced acc'][0]\n\n        result_kappa_acc, result_importance = transfer_model_test(unseen_music, local_music, features, sized_corpora, target)\n        result_dict[time]['5_7M']['music']['kappa']  = result_kappa_acc['cohen kappa'][0]\n        result_dict[time]['5_7M']['music']['balanced acc'] = result_kappa_acc['balanced acc'][0]\n\n        result_kappa_acc, result_importance = transfer_model_test(unseen_furniture, local_furniture, features, sized_corpora, target)\n        result_dict[time]['5_7M']['furniture']['kappa']  = result_kappa_acc['cohen kappa'][0]\n        result_dict[time]['5_7M']['furniture']['balanced acc'] = result_kappa_acc['balanced acc'][0]\n\n        result_kappa_acc, result_importance = transfer_model_test(unseen_garments, local_garments, features, sized_corpora, target)\n        result_dict[time]['5_7M']['garments']['kappa']  = result_kappa_acc['cohen kappa'][0]\n        result_dict[time]['5_7M']['garments']['balanced acc'] = result_kappa_acc['balanced acc'][0]\n\n\n        sized_corpora = 'bnc_100m_sum'\n        result_kappa_acc, result_importance = transfer_model_test(unseen_fruit, local_fruit, features, sized_corpora, target)\n        result_dict[time]['100M']['fruit']['kappa']  = result_kappa_acc['cohen kappa'][0]\n        result_dict[time]['100M']['fruit']['balanced acc'] = result_kappa_acc['balanced acc'][0]\n\n        result_kappa_acc, result_importance = transfer_model_test(unseen_tool, local_tool, features, sized_corpora, target)\n        result_dict[time]['100M']['tool']['kappa']  = result_kappa_acc['cohen kappa'][0]\n        result_dict[time]['100M']['tool']['balanced acc'] = result_kappa_acc['balanced acc'][0]\n\n        result_kappa_acc, result_importance = transfer_model_test(unseen_music, local_music, features, sized_corpora, target)\n        result_dict[time]['100M']['music']['kappa']  = result_kappa_acc['cohen kappa'][0]\n        result_dict[time]['100M']['music']['balanced acc'] = result_kappa_acc['balanced acc'][0]\n\n        result_kappa_acc, result_importance = transfer_model_test(unseen_furniture, local_furniture, features, sized_corpora, target)\n        result_dict[time]['100M']['furniture']['kappa']  = result_kappa_acc['cohen kappa'][0]\n        result_dict[time]['100M']['furniture']['balanced acc'] = result_kappa_acc['balanced acc'][0]\n\n        result_kappa_acc, result_importance = transfer_model_test(unseen_garments, local_garments, features, sized_corpora, target)\n        result_dict[time]['100M']['garments']['kappa']  = result_kappa_acc['cohen kappa'][0]\n        result_dict[time]['100M']['garments']['balanced acc'] = result_kappa_acc['balanced acc'][0]\n\n\n    return result_dict",
   "metadata": {
    "collapsed": false,
    "pycharm": {
     "name": "#%%\n",
     "is_executing": true
    },
    "trusted": false
   }
  },
  {
   "cell_type": "code",
   "execution_count": null,
   "outputs": [],
   "source": "multiResult = multiSample_BNC(50)\nnp.save('TransferModel_50_times_sampling_BNC.npy', multiResult, allow_pickle=True)\nmultiResult",
   "metadata": {
    "collapsed": false,
    "pycharm": {
     "name": "#%%\n",
     "is_executing": true
    },
    "trusted": false
   }
  },
  {
   "cell_type": "code",
   "execution_count": null,
   "outputs": [],
   "source": "# integrate kappa / balanced acc\nmultiResult_integration = multiResult\n\ndomains = ['fruit', 'tool', 'music', 'furniture', 'garments']\n\nfor k, v in multiResult_integration.items():\n    kappa_1m_list = []\n    balancedacc_1m_list = []\n    kappa_2_4m_list = []\n    balancedacc_2_4m_list = []\n    kappa_5_7m_list = []\n    balancedacc_5_7m_list = []\n    kappa_100m_list = []\n    balancedacc_100m_list = []\n    for domain in domains:\n        kappa_1m_list.append(v['1M'][domain]['kappa'])\n        balancedacc_1m_list.append(v['1M'][domain]['balanced acc'])\n        kappa_2_4m_list.append(v['2_4M'][domain]['kappa'])\n        balancedacc_2_4m_list.append(v['2_4M'][domain]['balanced acc'])\n        kappa_5_7m_list.append(v['5_7M'][domain]['kappa'])\n        balancedacc_5_7m_list.append(v['5_7M'][domain]['balanced acc'])\n        kappa_100m_list.append(v['100M'][domain]['kappa'])\n        balancedacc_100m_list.append(v['100M'][domain]['balanced acc'])\n    kappa_avg_1m = np.mean(kappa_1m_list)\n    balancedacc_avg_1m = np.mean(balancedacc_1m_list)\n    kappa_avg_2_4m = np.mean(kappa_2_4m_list)\n    balancedacc_avg_2_4m = np.mean(balancedacc_2_4m_list)\n    kappa_avg_5_7m = np.mean(kappa_5_7m_list)\n    balancedacc_avg_5_7m = np.mean(balancedacc_5_7m_list)\n    kappa_avg_100m = np.mean(kappa_100m_list)\n    balancedacc_avg_100m = np.mean(balancedacc_100m_list)\n\n    multiResult_integration[k]['1M'] = {'kappa': kappa_avg_1m, 'balanced acc': balancedacc_avg_1m}\n    multiResult_integration[k]['2_4M'] = {'kappa': kappa_avg_2_4m, 'balanced acc': balancedacc_avg_2_4m}\n    multiResult_integration[k]['5_7M'] = {'kappa': kappa_avg_5_7m, 'balanced acc': balancedacc_avg_5_7m}\n    multiResult_integration[k]['100M'] = {'kappa': kappa_avg_100m, 'balanced acc': balancedacc_avg_100m}\n\nmultiResult_integration",
   "metadata": {
    "collapsed": false,
    "pycharm": {
     "name": "#%%\n",
     "is_executing": true
    },
    "trusted": false
   }
  },
  {
   "cell_type": "code",
   "execution_count": null,
   "outputs": [],
   "source": "np.save('TransferModel_inte_50_times_sampling_BNC.npy', multiResult_integration, allow_pickle=True)",
   "metadata": {
    "collapsed": false,
    "pycharm": {
     "name": "#%%\n",
     "is_executing": true
    },
    "trusted": false
   }
  }
 ],
 "metadata": {
  "kernelspec": {
   "display_name": "Python 3",
   "language": "python",
   "name": "python3"
  },
  "language_info": {
   "codemirror_mode": {
    "name": "ipython",
    "version": 2
   },
   "file_extension": ".py",
   "mimetype": "text/x-python",
   "name": "python",
   "nbconvert_exporter": "python",
   "pygments_lexer": "ipython2",
   "version": "2.7.6"
  }
 },
 "nbformat": 4,
 "nbformat_minor": 0
}