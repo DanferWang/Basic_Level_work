{
 "cells": [
  {
   "cell_type": "code",
   "execution_count": 144,
   "metadata": {
    "collapsed": true
   },
   "outputs": [],
   "source": [
    "import pandas as pd\n",
    "import numpy as np\n",
    "\n",
    "from sklearn.model_selection import StratifiedKFold\n",
    "from imblearn.over_sampling import SMOTE\n",
    "from sklearn.ensemble import RandomForestClassifier\n",
    "from imblearn.pipeline import make_pipeline\n",
    "from sklearn.metrics import classification_report, cohen_kappa_score, balanced_accuracy_score\n",
    "\n",
    "import warnings\n",
    "warnings.filterwarnings(\"ignore\")"
   ]
  },
  {
   "cell_type": "code",
   "execution_count": 145,
   "outputs": [],
   "source": [
    "# read the pre-processed data all agreed\n",
    "data = pd.read_csv('GS_All_Agreed.csv', index_col=0)\n",
    "\n",
    "# generate the local dataframe for different domains\n",
    "local_fruit = data.loc[data['domain_x']=='fruit'].reset_index()\n",
    "local_tool = data.loc[data['domain_x']=='tool'].reset_index()\n",
    "local_music = data.loc[data['domain_x']=='music'].reset_index()\n",
    "local_furniture = data.loc[data['domain_x']=='furn'].reset_index()\n",
    "local_garments = data.loc[data['domain_x']=='garm'].reset_index()"
   ],
   "metadata": {
    "collapsed": false,
    "pycharm": {
     "name": "#%%\n"
    }
   }
  },
  {
   "cell_type": "code",
   "execution_count": 146,
   "outputs": [],
   "source": [
    "# define features and target\n",
    "features = ['ngrams_last_mean',\n",
    "            'nrdirhypers_x',\n",
    "            'nrhypos_x',\n",
    "            'nrpartrels_normalised_x',\n",
    "            'depthfromtopsynset_normalised_x',\n",
    "            'glosslength_normalised_x',\n",
    "            'minwordlength_x',\n",
    "            'nroflemmas_x',\n",
    "            'polyscore_max_x']\n",
    "target = ['vote_x'] # nb / b"
   ],
   "metadata": {
    "collapsed": false,
    "pycharm": {
     "name": "#%%\n"
    }
   }
  },
  {
   "cell_type": "code",
   "execution_count": 147,
   "outputs": [],
   "source": [
    "# specific corpora features\n",
    "# written general\n",
    "# features.append('BNC_sum')\n",
    "# BNCSumFeatures = features\n",
    "# features.append('CABNC_per100,000')\n",
    "# CABNC_per100KFeatures = features\n",
    "# features.append('KBNC_Sum')\n",
    "# KBNCSumFeatures = features\n",
    "features.append('CHILDES_Sum_Rel')\n",
    "CHILDESSumRelFeatures = features"
   ],
   "metadata": {
    "collapsed": false,
    "pycharm": {
     "name": "#%%\n"
    }
   }
  },
  {
   "cell_type": "code",
   "execution_count": 164,
   "outputs": [],
   "source": [
    "# split training set and testing set using K-Flod\n",
    "K = 10\n",
    "random_seed = 7 # R\n",
    "local = local_fruit\n",
    "X = local[CHILDESSumRelFeatures]\n",
    "y = local[target]\n",
    "\n",
    "K_Flod = StratifiedKFold(n_splits=K, shuffle=True, random_state=random_seed)\n",
    "K_Flod.get_n_splits(X, y)\n",
    "cohen_kappa = []\n",
    "balanced_acc = []\n",
    "for train_index, test_index in K_Flod.split(X, y):\n",
    "    X_train, X_test = X.iloc[train_index], X.iloc[test_index]\n",
    "    y_train, y_test = y.iloc[train_index], y.iloc[test_index]\n",
    "\n",
    "    # SMOTE algorithm\n",
    "    smote = SMOTE(random_state=random_seed, k_neighbors=2)\n",
    "    X_train, y_train = smote.fit_resample(X_train, y_train)\n",
    "\n",
    "    # define random forest model\n",
    "    rf = RandomForestClassifier(random_state=random_seed, max_features='sqrt', n_estimators=1400, min_samples_split=2, min_samples_leaf=1, max_depth=50, oob_score=True, criterion='gini', bootstrap=True).fit(X_train, y_train)\n",
    "\n",
    "    # predict and make score\n",
    "    pipeline = make_pipeline(smote, rf)\n",
    "    y_pred = pipeline.predict(X_test)\n",
    "\n",
    "    kappa = cohen_kappa_score(y_test, y_pred)\n",
    "    cohen_kappa.append(kappa)\n",
    "    balanced_accuracy = balanced_accuracy_score(y_test, y_pred)\n",
    "    balanced_acc.append(balanced_accuracy)\n",
    "\n",
    "results = classification_report(y_test, y_pred, output_dict=True)\n",
    "results = pd.DataFrame(results).transpose()\n",
    "\n",
    "results['cohen kappa / 10'] = np.mean(cohen_kappa)\n",
    "results['balanced acc / 10'] = np.mean(balanced_acc)\n",
    "results['local'] = list(local['domain_x'])[0]"
   ],
   "metadata": {
    "collapsed": false,
    "pycharm": {
     "name": "#%%\n"
    }
   }
  },
  {
   "cell_type": "code",
   "execution_count": 165,
   "outputs": [
    {
     "data": {
      "text/plain": "              precision  recall  f1-score  support  cohen kappa / 10  \\\nb                   1.0     1.0       1.0      6.0          0.896353   \nnb                  1.0     1.0       1.0      9.0          0.896353   \naccuracy            1.0     1.0       1.0      1.0          0.896353   \nmacro avg           1.0     1.0       1.0     15.0          0.896353   \nweighted avg        1.0     1.0       1.0     15.0          0.896353   \n\n              balanced acc / 10  local  \nb                      0.943333  fruit  \nnb                     0.943333  fruit  \naccuracy               0.943333  fruit  \nmacro avg              0.943333  fruit  \nweighted avg           0.943333  fruit  ",
      "text/html": "<div>\n<style scoped>\n    .dataframe tbody tr th:only-of-type {\n        vertical-align: middle;\n    }\n\n    .dataframe tbody tr th {\n        vertical-align: top;\n    }\n\n    .dataframe thead th {\n        text-align: right;\n    }\n</style>\n<table border=\"1\" class=\"dataframe\">\n  <thead>\n    <tr style=\"text-align: right;\">\n      <th></th>\n      <th>precision</th>\n      <th>recall</th>\n      <th>f1-score</th>\n      <th>support</th>\n      <th>cohen kappa / 10</th>\n      <th>balanced acc / 10</th>\n      <th>local</th>\n    </tr>\n  </thead>\n  <tbody>\n    <tr>\n      <th>b</th>\n      <td>1.0</td>\n      <td>1.0</td>\n      <td>1.0</td>\n      <td>6.0</td>\n      <td>0.896353</td>\n      <td>0.943333</td>\n      <td>fruit</td>\n    </tr>\n    <tr>\n      <th>nb</th>\n      <td>1.0</td>\n      <td>1.0</td>\n      <td>1.0</td>\n      <td>9.0</td>\n      <td>0.896353</td>\n      <td>0.943333</td>\n      <td>fruit</td>\n    </tr>\n    <tr>\n      <th>accuracy</th>\n      <td>1.0</td>\n      <td>1.0</td>\n      <td>1.0</td>\n      <td>1.0</td>\n      <td>0.896353</td>\n      <td>0.943333</td>\n      <td>fruit</td>\n    </tr>\n    <tr>\n      <th>macro avg</th>\n      <td>1.0</td>\n      <td>1.0</td>\n      <td>1.0</td>\n      <td>15.0</td>\n      <td>0.896353</td>\n      <td>0.943333</td>\n      <td>fruit</td>\n    </tr>\n    <tr>\n      <th>weighted avg</th>\n      <td>1.0</td>\n      <td>1.0</td>\n      <td>1.0</td>\n      <td>15.0</td>\n      <td>0.896353</td>\n      <td>0.943333</td>\n      <td>fruit</td>\n    </tr>\n  </tbody>\n</table>\n</div>"
     },
     "execution_count": 165,
     "metadata": {},
     "output_type": "execute_result"
    }
   ],
   "source": [
    "results"
   ],
   "metadata": {
    "collapsed": false,
    "pycharm": {
     "name": "#%%\n"
    }
   }
  },
  {
   "cell_type": "code",
   "execution_count": 166,
   "outputs": [],
   "source": [
    "# importance of features\n",
    "importance = rf.feature_importances_\n",
    "\n",
    "importance = pd.DataFrame([features, importance]).transpose()\n",
    "importance = importance.rename(columns={0:'feature', 1:'importance'}).sort_values('importance', ascending=False)"
   ],
   "metadata": {
    "collapsed": false,
    "pycharm": {
     "name": "#%%\n"
    }
   }
  },
  {
   "cell_type": "code",
   "execution_count": 167,
   "outputs": [
    {
     "data": {
      "text/plain": "                           feature importance\n4  depthfromtopsynset_normalised_x   0.440666\n3          nrpartrels_normalised_x   0.178546\n5         glosslength_normalised_x   0.103472\n6                  minwordlength_x   0.072002\n0                 ngrams_last_mean   0.065721\n9                  CHILDES_Sum_Rel   0.049904\n8                  polyscore_max_x   0.049832\n2                        nrhypos_x   0.025508\n7                     nroflemmas_x   0.011539\n1                    nrdirhypers_x    0.00281",
      "text/html": "<div>\n<style scoped>\n    .dataframe tbody tr th:only-of-type {\n        vertical-align: middle;\n    }\n\n    .dataframe tbody tr th {\n        vertical-align: top;\n    }\n\n    .dataframe thead th {\n        text-align: right;\n    }\n</style>\n<table border=\"1\" class=\"dataframe\">\n  <thead>\n    <tr style=\"text-align: right;\">\n      <th></th>\n      <th>feature</th>\n      <th>importance</th>\n    </tr>\n  </thead>\n  <tbody>\n    <tr>\n      <th>4</th>\n      <td>depthfromtopsynset_normalised_x</td>\n      <td>0.440666</td>\n    </tr>\n    <tr>\n      <th>3</th>\n      <td>nrpartrels_normalised_x</td>\n      <td>0.178546</td>\n    </tr>\n    <tr>\n      <th>5</th>\n      <td>glosslength_normalised_x</td>\n      <td>0.103472</td>\n    </tr>\n    <tr>\n      <th>6</th>\n      <td>minwordlength_x</td>\n      <td>0.072002</td>\n    </tr>\n    <tr>\n      <th>0</th>\n      <td>ngrams_last_mean</td>\n      <td>0.065721</td>\n    </tr>\n    <tr>\n      <th>9</th>\n      <td>CHILDES_Sum_Rel</td>\n      <td>0.049904</td>\n    </tr>\n    <tr>\n      <th>8</th>\n      <td>polyscore_max_x</td>\n      <td>0.049832</td>\n    </tr>\n    <tr>\n      <th>2</th>\n      <td>nrhypos_x</td>\n      <td>0.025508</td>\n    </tr>\n    <tr>\n      <th>7</th>\n      <td>nroflemmas_x</td>\n      <td>0.011539</td>\n    </tr>\n    <tr>\n      <th>1</th>\n      <td>nrdirhypers_x</td>\n      <td>0.00281</td>\n    </tr>\n  </tbody>\n</table>\n</div>"
     },
     "execution_count": 167,
     "metadata": {},
     "output_type": "execute_result"
    }
   ],
   "source": [
    "importance"
   ],
   "metadata": {
    "collapsed": false,
    "pycharm": {
     "name": "#%%\n"
    }
   }
  }
 ],
 "metadata": {
  "kernelspec": {
   "display_name": "Python 3",
   "language": "python",
   "name": "python3"
  },
  "language_info": {
   "codemirror_mode": {
    "name": "ipython",
    "version": 2
   },
   "file_extension": ".py",
   "mimetype": "text/x-python",
   "name": "python",
   "nbconvert_exporter": "python",
   "pygments_lexer": "ipython2",
   "version": "2.7.6"
  }
 },
 "nbformat": 4,
 "nbformat_minor": 0
}