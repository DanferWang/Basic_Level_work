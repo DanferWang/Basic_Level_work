{
 "cells": [
  {
   "cell_type": "code",
   "execution_count": 10,
   "metadata": {
    "collapsed": true
   },
   "outputs": [],
   "source": [
    "import pandas as pd\n",
    "\n",
    "from imblearn.over_sampling import SMOTE\n",
    "from sklearn.ensemble import RandomForestClassifier\n",
    "from imblearn.pipeline import make_pipeline\n",
    "\n",
    "import warnings\n",
    "warnings.filterwarnings(\"ignore\")"
   ]
  },
  {
   "cell_type": "code",
   "execution_count": 2,
   "outputs": [],
   "source": [
    "# read the pre-processed data\n",
    "train = pd.read_csv('training_data_final.csv', index_col=0)\n",
    "test = pd.read_csv('test_data_final.csv', index_col=0)"
   ],
   "metadata": {
    "collapsed": false,
    "pycharm": {
     "name": "#%%\n"
    }
   }
  },
  {
   "cell_type": "code",
   "execution_count": 3,
   "outputs": [],
   "source": [
    "# define features and target\n",
    "features = ['ngrams_last_mean',\n",
    "            'nrdirhypers',\n",
    "            'nrhypos',\n",
    "            'nrpartrels_normalised',\n",
    "            'depthfromtopsynset_normalised',\n",
    "            'glosslength_normalised',\n",
    "            'minwordlength',\n",
    "            'nroflemmas',\n",
    "            'polyscore_max']\n",
    "target = ['vote'] # nb / b"
   ],
   "metadata": {
    "collapsed": false,
    "pycharm": {
     "name": "#%%\n"
    }
   }
  },
  {
   "cell_type": "code",
   "execution_count": 7,
   "outputs": [
    {
     "name": "stdout",
     "output_type": "stream",
     "text": [
      "Shape of oversampled data: (1384, 9)\n",
      "Shape of Y: (1384, 1)\n"
     ]
    }
   ],
   "source": [
    "random_seed = 7 # R\n",
    "# SMOTE algorithm\n",
    "smote = SMOTE(random_state=random_seed, k_neighbors=2)\n",
    "X_train, y_train = smote.fit_resample(train[features], train[target])\n",
    "print ('Shape of oversampled data: {}'.format(X_train.shape))\n",
    "print ('Shape of Y: {}'.format(y_train.shape))"
   ],
   "metadata": {
    "collapsed": false,
    "pycharm": {
     "name": "#%%\n"
    }
   }
  },
  {
   "cell_type": "code",
   "execution_count": 9,
   "outputs": [],
   "source": [
    "# define random forest model\n",
    "rf = RandomForestClassifier(random_state=random_seed, max_features=\"sqrt\", n_estimators=500, oob_score=True, criterion='gini', bootstrap=True).fit(X_train, y_train)"
   ],
   "metadata": {
    "collapsed": false,
    "pycharm": {
     "name": "#%%\n"
    }
   }
  },
  {
   "cell_type": "code",
   "execution_count": 11,
   "outputs": [
    {
     "data": {
      "text/plain": "                         feature importance\n4  depthfromtopsynset_normalised   0.367898\n0               ngrams_last_mean   0.152633\n5         glosslength_normalised   0.150407\n6                  minwordlength   0.113265\n3          nrpartrels_normalised   0.079112\n2                        nrhypos   0.066548\n8                  polyscore_max   0.038926\n7                     nroflemmas   0.028913\n1                    nrdirhypers     0.0023",
      "text/html": "<div>\n<style scoped>\n    .dataframe tbody tr th:only-of-type {\n        vertical-align: middle;\n    }\n\n    .dataframe tbody tr th {\n        vertical-align: top;\n    }\n\n    .dataframe thead th {\n        text-align: right;\n    }\n</style>\n<table border=\"1\" class=\"dataframe\">\n  <thead>\n    <tr style=\"text-align: right;\">\n      <th></th>\n      <th>feature</th>\n      <th>importance</th>\n    </tr>\n  </thead>\n  <tbody>\n    <tr>\n      <th>4</th>\n      <td>depthfromtopsynset_normalised</td>\n      <td>0.367898</td>\n    </tr>\n    <tr>\n      <th>0</th>\n      <td>ngrams_last_mean</td>\n      <td>0.152633</td>\n    </tr>\n    <tr>\n      <th>5</th>\n      <td>glosslength_normalised</td>\n      <td>0.150407</td>\n    </tr>\n    <tr>\n      <th>6</th>\n      <td>minwordlength</td>\n      <td>0.113265</td>\n    </tr>\n    <tr>\n      <th>3</th>\n      <td>nrpartrels_normalised</td>\n      <td>0.079112</td>\n    </tr>\n    <tr>\n      <th>2</th>\n      <td>nrhypos</td>\n      <td>0.066548</td>\n    </tr>\n    <tr>\n      <th>8</th>\n      <td>polyscore_max</td>\n      <td>0.038926</td>\n    </tr>\n    <tr>\n      <th>7</th>\n      <td>nroflemmas</td>\n      <td>0.028913</td>\n    </tr>\n    <tr>\n      <th>1</th>\n      <td>nrdirhypers</td>\n      <td>0.0023</td>\n    </tr>\n  </tbody>\n</table>\n</div>"
     },
     "execution_count": 11,
     "metadata": {},
     "output_type": "execute_result"
    }
   ],
   "source": [
    "# importance of features\n",
    "importance = rf.feature_importances_\n",
    "\n",
    "importance = pd.DataFrame([features, importance]).transpose()\n",
    "importance = importance.rename(columns={0:'feature', 1:'importance'}).sort_values('importance', ascending=False)\n",
    "\n",
    "importance"
   ],
   "metadata": {
    "collapsed": false,
    "pycharm": {
     "name": "#%%\n"
    }
   }
  },
  {
   "cell_type": "code",
   "execution_count": 12,
   "outputs": [],
   "source": [
    "# predict and make score\n",
    "pipeline = make_pipeline(smote, rf)\n",
    "y_pred = pipeline.predict(test[features])"
   ],
   "metadata": {
    "collapsed": false,
    "pycharm": {
     "name": "#%%\n"
    }
   }
  },
  {
   "cell_type": "code",
   "execution_count": 13,
   "outputs": [
    {
     "data": {
      "text/plain": "                              Synset                 Name Predicted\n30              Synset('eidos.n.01')           eidos.n.01         b\n60              Synset('voice.n.02')           voice.n.02         b\n80         Synset('rare_earth.n.01')      rare_earth.n.01         b\n88              Synset('varna.n.02')           varna.n.02         b\n96     Synset('playing_period.n.01')  playing_period.n.01         b\n...                              ...                  ...       ...\n74128            Synset('hart.n.03')            hart.n.03         b\n74129            Synset('hind.n.02')            hind.n.02         b\n74140         Synset('mustang.n.01')         mustang.n.01         b\n74162            Synset('hack.n.08')            hack.n.08         b\n74298            Synset('bull.n.01')            bull.n.01         b\n\n[17377 rows x 3 columns]",
      "text/html": "<div>\n<style scoped>\n    .dataframe tbody tr th:only-of-type {\n        vertical-align: middle;\n    }\n\n    .dataframe tbody tr th {\n        vertical-align: top;\n    }\n\n    .dataframe thead th {\n        text-align: right;\n    }\n</style>\n<table border=\"1\" class=\"dataframe\">\n  <thead>\n    <tr style=\"text-align: right;\">\n      <th></th>\n      <th>Synset</th>\n      <th>Name</th>\n      <th>Predicted</th>\n    </tr>\n  </thead>\n  <tbody>\n    <tr>\n      <th>30</th>\n      <td>Synset('eidos.n.01')</td>\n      <td>eidos.n.01</td>\n      <td>b</td>\n    </tr>\n    <tr>\n      <th>60</th>\n      <td>Synset('voice.n.02')</td>\n      <td>voice.n.02</td>\n      <td>b</td>\n    </tr>\n    <tr>\n      <th>80</th>\n      <td>Synset('rare_earth.n.01')</td>\n      <td>rare_earth.n.01</td>\n      <td>b</td>\n    </tr>\n    <tr>\n      <th>88</th>\n      <td>Synset('varna.n.02')</td>\n      <td>varna.n.02</td>\n      <td>b</td>\n    </tr>\n    <tr>\n      <th>96</th>\n      <td>Synset('playing_period.n.01')</td>\n      <td>playing_period.n.01</td>\n      <td>b</td>\n    </tr>\n    <tr>\n      <th>...</th>\n      <td>...</td>\n      <td>...</td>\n      <td>...</td>\n    </tr>\n    <tr>\n      <th>74128</th>\n      <td>Synset('hart.n.03')</td>\n      <td>hart.n.03</td>\n      <td>b</td>\n    </tr>\n    <tr>\n      <th>74129</th>\n      <td>Synset('hind.n.02')</td>\n      <td>hind.n.02</td>\n      <td>b</td>\n    </tr>\n    <tr>\n      <th>74140</th>\n      <td>Synset('mustang.n.01')</td>\n      <td>mustang.n.01</td>\n      <td>b</td>\n    </tr>\n    <tr>\n      <th>74162</th>\n      <td>Synset('hack.n.08')</td>\n      <td>hack.n.08</td>\n      <td>b</td>\n    </tr>\n    <tr>\n      <th>74298</th>\n      <td>Synset('bull.n.01')</td>\n      <td>bull.n.01</td>\n      <td>b</td>\n    </tr>\n  </tbody>\n</table>\n<p>17377 rows × 3 columns</p>\n</div>"
     },
     "execution_count": 13,
     "metadata": {},
     "output_type": "execute_result"
    }
   ],
   "source": [
    "results = pd.read_csv('results_syns_list.csv', index_col=0)\n",
    "results['Predicted'] = pd.DataFrame(y_pred)[0]\n",
    "\n",
    "basic_level = results[results['Predicted']=='b']\n",
    "\n",
    "basic_level"
   ],
   "metadata": {
    "collapsed": false,
    "pycharm": {
     "name": "#%%\n"
    }
   }
  }
 ],
 "metadata": {
  "kernelspec": {
   "display_name": "Python 3",
   "language": "python",
   "name": "python3"
  },
  "language_info": {
   "codemirror_mode": {
    "name": "ipython",
    "version": 2
   },
   "file_extension": ".py",
   "mimetype": "text/x-python",
   "name": "python",
   "nbconvert_exporter": "python",
   "pygments_lexer": "ipython2",
   "version": "2.7.6"
  }
 },
 "nbformat": 4,
 "nbformat_minor": 0
}