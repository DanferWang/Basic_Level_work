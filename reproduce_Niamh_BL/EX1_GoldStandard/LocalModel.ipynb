{
 "cells": [
  {
   "cell_type": "code",
   "execution_count": 1,
   "metadata": {
    "collapsed": true,
    "trusted": false
   },
   "outputs": [],
   "source": [
    "import pandas as pd\n",
    "\n",
    "from sklearn.model_selection import train_test_split\n",
    "from imblearn.over_sampling import SMOTE\n",
    "from sklearn.ensemble import RandomForestClassifier\n",
    "from imblearn.pipeline import make_pipeline\n",
    "from sklearn.metrics import classification_report, cohen_kappa_score, balanced_accuracy_score"
   ]
  },
  {
   "cell_type": "code",
   "execution_count": 2,
   "outputs": [],
   "source": [
    "# read the pre-processed data all agreed\n",
    "data = pd.read_csv('EX1_Input_AllAgreed.csv', index_col=0)\n",
    "\n",
    "# generate the local dataframe for different domains\n",
    "local_fruit = data.loc[data['Domain']=='fruit']\n",
    "local_tool = data.loc[data['Domain']=='tool']\n",
    "local_music = data.loc[data['Domain']=='music']\n",
    "local_furniture = data.loc[data['Domain']=='furn']\n",
    "local_garments = data.loc[data['Domain']=='garm']"
   ],
   "metadata": {
    "collapsed": false,
    "pycharm": {
     "name": "#%%\n"
    },
    "trusted": false
   }
  },
  {
   "cell_type": "code",
   "execution_count": 3,
   "outputs": [],
   "source": [
    "# define features and target\n",
    "features = ['ngrams_last_mean',\n",
    "            'nrdirhypers',\n",
    "            'nrhypos',\n",
    "            'nrpartrels_normalised',\n",
    "            'depthfromtopsynset_normalised',\n",
    "            'glosslength_normalised',\n",
    "            'minwordlength',\n",
    "            'nroflemmas',\n",
    "            'polyscore_max']\n",
    "target = ['vote'] # nb / b"
   ],
   "metadata": {
    "collapsed": false,
    "pycharm": {
     "name": "#%%\n"
    },
    "trusted": false
   }
  },
  {
   "cell_type": "code",
   "execution_count": 4,
   "outputs": [],
   "source": "# split training set and testing set\nsplit_ratio = 0.8\nrandom_seed = 7 # R\nlocal = local_garments\n\nX_train, X_test, y_train, y_test = train_test_split(local[features], local[target], train_size=split_ratio, random_state=random_seed)",
   "metadata": {
    "collapsed": false,
    "pycharm": {
     "name": "#%%\n"
    },
    "trusted": false
   }
  },
  {
   "cell_type": "code",
   "execution_count": 5,
   "outputs": [
    {
     "name": "stdout",
     "output_type": "stream",
     "text": [
      "Shape of oversampled data: (340, 8)\n",
      "Shape of Y: (340, 1)\n"
     ]
    }
   ],
   "source": "# SMOTE algorithm\nsmote = SMOTE(random_state=random_seed, k_neighbors=2)\nX_train, y_train = smote.fit_resample(X_train, y_train)\nprint ('Shape of oversampled data: {}'.format(X_train.shape))\nprint ('Shape of Y: {}'.format(y_train.shape))",
   "metadata": {
    "collapsed": false,
    "pycharm": {
     "name": "#%%\n"
    },
    "trusted": false
   }
  },
  {
   "cell_type": "code",
   "execution_count": 6,
   "outputs": [
    {
     "name": "stderr",
     "output_type": "stream",
     "text": [
      "/tmp/ipykernel_41961/4231381510.py:2: DataConversionWarning: A column-vector y was passed when a 1d array was expected. Please change the shape of y to (n_samples,), for example using ravel().\n",
      "  rf = RandomForestClassifier(random_state=random_seed, max_features=\"sqrt\", n_estimators=500, oob_score=True, criterion='gini', bootstrap=True).fit(X_train, y_train)\n"
     ]
    }
   ],
   "source": "# define random forest model\nrf = RandomForestClassifier(random_state=random_seed, max_features=\"sqrt\", n_estimators=500, oob_score=True, criterion='gini', bootstrap=True).fit(X_train, y_train)",
   "metadata": {
    "collapsed": false,
    "pycharm": {
     "name": "#%%\n"
    },
    "trusted": false
   }
  },
  {
   "cell_type": "code",
   "execution_count": 7,
   "outputs": [],
   "source": "# predict and make score\npipeline = make_pipeline(smote, rf)\n\ny_pred = pipeline.predict(X_test)\nresults = classification_report(y_test, y_pred, output_dict=True)\nresults = pd.DataFrame(results).transpose()\n\nkappa = cohen_kappa_score(y_test, y_pred)\nbalanced_accuracy = balanced_accuracy_score(y_test, y_pred)\nresults['cohen kappa'] = kappa\nresults['balanced acc'] = balanced_accuracy\nresults['local'] = list(local['Domain'])[0]",
   "metadata": {
    "collapsed": false,
    "pycharm": {
     "name": "#%%\n"
    },
    "trusted": false
   }
  },
  {
   "cell_type": "code",
   "execution_count": 8,
   "outputs": [
    {
     "data": {
      "text/plain": "              precision    recall  f1-score    support  cohen kappa  \\\nb              0.500000  0.750000  0.600000   4.000000     0.556561   \nnb             0.976744  0.933333  0.954545  45.000000     0.556561   \naccuracy       0.918367  0.918367  0.918367   0.918367     0.556561   \nmacro avg      0.738372  0.841667  0.777273  49.000000     0.556561   \nweighted avg   0.937826  0.918367  0.925603  49.000000     0.556561   \n\n              balanced acc local  \nb                 0.841667  garm  \nnb                0.841667  garm  \naccuracy          0.841667  garm  \nmacro avg         0.841667  garm  \nweighted avg      0.841667  garm  ",
      "text/html": "<div>\n<style scoped>\n    .dataframe tbody tr th:only-of-type {\n        vertical-align: middle;\n    }\n\n    .dataframe tbody tr th {\n        vertical-align: top;\n    }\n\n    .dataframe thead th {\n        text-align: right;\n    }\n</style>\n<table border=\"1\" class=\"dataframe\">\n  <thead>\n    <tr style=\"text-align: right;\">\n      <th></th>\n      <th>precision</th>\n      <th>recall</th>\n      <th>f1-score</th>\n      <th>support</th>\n      <th>cohen kappa</th>\n      <th>balanced acc</th>\n      <th>local</th>\n    </tr>\n  </thead>\n  <tbody>\n    <tr>\n      <th>b</th>\n      <td>0.500000</td>\n      <td>0.750000</td>\n      <td>0.600000</td>\n      <td>4.000000</td>\n      <td>0.556561</td>\n      <td>0.841667</td>\n      <td>garm</td>\n    </tr>\n    <tr>\n      <th>nb</th>\n      <td>0.976744</td>\n      <td>0.933333</td>\n      <td>0.954545</td>\n      <td>45.000000</td>\n      <td>0.556561</td>\n      <td>0.841667</td>\n      <td>garm</td>\n    </tr>\n    <tr>\n      <th>accuracy</th>\n      <td>0.918367</td>\n      <td>0.918367</td>\n      <td>0.918367</td>\n      <td>0.918367</td>\n      <td>0.556561</td>\n      <td>0.841667</td>\n      <td>garm</td>\n    </tr>\n    <tr>\n      <th>macro avg</th>\n      <td>0.738372</td>\n      <td>0.841667</td>\n      <td>0.777273</td>\n      <td>49.000000</td>\n      <td>0.556561</td>\n      <td>0.841667</td>\n      <td>garm</td>\n    </tr>\n    <tr>\n      <th>weighted avg</th>\n      <td>0.937826</td>\n      <td>0.918367</td>\n      <td>0.925603</td>\n      <td>49.000000</td>\n      <td>0.556561</td>\n      <td>0.841667</td>\n      <td>garm</td>\n    </tr>\n  </tbody>\n</table>\n</div>"
     },
     "execution_count": 8,
     "metadata": {},
     "output_type": "execute_result"
    }
   ],
   "source": "results",
   "metadata": {
    "collapsed": false,
    "pycharm": {
     "name": "#%%\n"
    },
    "trusted": false
   }
  },
  {
   "cell_type": "code",
   "execution_count": 29,
   "outputs": [],
   "source": "# importance of features\nimportance = rf.feature_importances_\n\nimportance = pd.DataFrame([features, importance]).transpose()\nimportance = importance.rename(columns={0:'feature', 1:'importance'}).sort_values('importance', ascending=False)",
   "metadata": {
    "collapsed": false,
    "pycharm": {
     "name": "#%%\n"
    },
    "trusted": false
   }
  },
  {
   "cell_type": "code",
   "execution_count": 30,
   "outputs": [
    {
     "data": {
      "text/plain": "                         feature importance\n2                        nrhypos   0.278247\n0               ngrams_last_mean   0.183312\n4  depthfromtopsynset_normalised   0.167373\n6                  minwordlength   0.146328\n5         glosslength_normalised   0.133383\n8                  polyscore_max   0.049269\n7                     nroflemmas   0.025633\n3          nrpartrels_normalised   0.012891\n1                    nrdirhypers   0.003564",
      "text/html": "<div>\n<style scoped>\n    .dataframe tbody tr th:only-of-type {\n        vertical-align: middle;\n    }\n\n    .dataframe tbody tr th {\n        vertical-align: top;\n    }\n\n    .dataframe thead th {\n        text-align: right;\n    }\n</style>\n<table border=\"1\" class=\"dataframe\">\n  <thead>\n    <tr style=\"text-align: right;\">\n      <th></th>\n      <th>feature</th>\n      <th>importance</th>\n    </tr>\n  </thead>\n  <tbody>\n    <tr>\n      <th>2</th>\n      <td>nrhypos</td>\n      <td>0.278247</td>\n    </tr>\n    <tr>\n      <th>0</th>\n      <td>ngrams_last_mean</td>\n      <td>0.183312</td>\n    </tr>\n    <tr>\n      <th>4</th>\n      <td>depthfromtopsynset_normalised</td>\n      <td>0.167373</td>\n    </tr>\n    <tr>\n      <th>6</th>\n      <td>minwordlength</td>\n      <td>0.146328</td>\n    </tr>\n    <tr>\n      <th>5</th>\n      <td>glosslength_normalised</td>\n      <td>0.133383</td>\n    </tr>\n    <tr>\n      <th>8</th>\n      <td>polyscore_max</td>\n      <td>0.049269</td>\n    </tr>\n    <tr>\n      <th>7</th>\n      <td>nroflemmas</td>\n      <td>0.025633</td>\n    </tr>\n    <tr>\n      <th>3</th>\n      <td>nrpartrels_normalised</td>\n      <td>0.012891</td>\n    </tr>\n    <tr>\n      <th>1</th>\n      <td>nrdirhypers</td>\n      <td>0.003564</td>\n    </tr>\n  </tbody>\n</table>\n</div>"
     },
     "execution_count": 30,
     "metadata": {},
     "output_type": "execute_result"
    }
   ],
   "source": "importance",
   "metadata": {
    "collapsed": false,
    "pycharm": {
     "name": "#%%\n"
    },
    "trusted": false
   }
  }
 ],
 "metadata": {
  "kernelspec": {
   "display_name": "Python 3",
   "language": "python",
   "name": "python3"
  },
  "language_info": {
   "codemirror_mode": {
    "name": "ipython",
    "version": 2
   },
   "file_extension": ".py",
   "mimetype": "text/x-python",
   "name": "python",
   "nbconvert_exporter": "python",
   "pygments_lexer": "ipython2",
   "version": "2.7.6"
  }
 },
 "nbformat": 4,
 "nbformat_minor": 0
}