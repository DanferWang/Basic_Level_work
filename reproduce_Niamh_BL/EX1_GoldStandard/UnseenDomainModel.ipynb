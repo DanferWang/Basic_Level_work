{
 "cells": [
  {
   "cell_type": "code",
   "execution_count": 125,
   "metadata": {
    "collapsed": true
   },
   "outputs": [],
   "source": [
    "import pandas as pd\n",
    "\n",
    "from imblearn.over_sampling import SMOTE\n",
    "from sklearn.ensemble import RandomForestClassifier\n",
    "from imblearn.pipeline import make_pipeline\n",
    "from sklearn.metrics import classification_report, cohen_kappa_score, balanced_accuracy_score"
   ]
  },
  {
   "cell_type": "code",
   "execution_count": 126,
   "outputs": [],
   "source": [
    "# read the pre-processed data all agreed\n",
    "data = pd.read_csv('EX1_Input_AllAgreed.csv', index_col=0)\n",
    "\n",
    "# generate the local dataframe for different domains\n",
    "local_fruit = data.loc[data['Domain']=='fruit']\n",
    "local_tool = data.loc[data['Domain']=='tool']\n",
    "local_music = data.loc[data['Domain']=='music']\n",
    "local_furniture = data.loc[data['Domain']=='furn']\n",
    "local_garments = data.loc[data['Domain']=='garm']\n",
    "\n",
    "unseen_fruit = data.loc[data['Domain']!='fruit']\n",
    "unseen_tool = data.loc[data['Domain']!='tool']\n",
    "unseen_music = data.loc[data['Domain']!='music']\n",
    "unseen_furniture = data.loc[data['Domain']!='furn']\n",
    "unseen_garments = data.loc[data['Domain']!='garm']"
   ],
   "metadata": {
    "collapsed": false,
    "pycharm": {
     "name": "#%%\n"
    }
   }
  },
  {
   "cell_type": "code",
   "execution_count": 127,
   "outputs": [],
   "source": [
    "# define features and target\n",
    "features = ['ngrams_last_mean',\n",
    "            'nrdirhypers',\n",
    "            'nrhypos',\n",
    "            'nrpartrels_normalised',\n",
    "            'depthfromtopsynset_normalised',\n",
    "            'glosslength_normalised',\n",
    "            'minwordlength',\n",
    "            'nroflemmas',\n",
    "            'polyscore_max']\n",
    "target = ['vote'] # nb / b"
   ],
   "metadata": {
    "collapsed": false,
    "pycharm": {
     "name": "#%%\n"
    }
   }
  },
  {
   "cell_type": "code",
   "execution_count": 129,
   "outputs": [],
   "source": [
    "# split training set and testing set\n",
    "# split_ratio = 0.8\n",
    "random_seed = 7 # R\n",
    "unseen = unseen_garments\n",
    "local = local_garments\n",
    "\n",
    "X_train, X_test, y_train, y_test = unseen[features], local[features], unseen[target], local[target]"
   ],
   "metadata": {
    "collapsed": false,
    "pycharm": {
     "name": "#%%\n"
    }
   }
  },
  {
   "cell_type": "code",
   "execution_count": 130,
   "outputs": [
    {
     "name": "stdout",
     "output_type": "stream",
     "text": [
      "Shape of oversampled data: (898, 9)\n",
      "Shape of Y: (898, 1)\n"
     ]
    }
   ],
   "source": [
    "# SMOTE algorithm\n",
    "smote = SMOTE(random_state=random_seed, k_neighbors=2)\n",
    "X_train, y_train = smote.fit_resample(X_train, y_train)\n",
    "print ('Shape of oversampled data: {}'.format(X_train.shape))\n",
    "print ('Shape of Y: {}'.format(y_train.shape))"
   ],
   "metadata": {
    "collapsed": false,
    "pycharm": {
     "name": "#%%\n"
    }
   }
  },
  {
   "cell_type": "code",
   "execution_count": 131,
   "outputs": [
    {
     "name": "stderr",
     "output_type": "stream",
     "text": [
      "<ipython-input-131-0db4f61b13cf>:2: DataConversionWarning: A column-vector y was passed when a 1d array was expected. Please change the shape of y to (n_samples,), for example using ravel().\n",
      "  rf = RandomForestClassifier(random_state=random_seed, max_features=\"sqrt\", n_estimators=500, oob_score=True, criterion='gini', bootstrap=True).fit(X_train, y_train)\n"
     ]
    }
   ],
   "source": [
    "# define random forest model\n",
    "rf = RandomForestClassifier(random_state=random_seed, max_features=\"sqrt\", n_estimators=500, oob_score=True, criterion='gini', bootstrap=True).fit(X_train, y_train)"
   ],
   "metadata": {
    "collapsed": false,
    "pycharm": {
     "name": "#%%\n"
    }
   }
  },
  {
   "cell_type": "code",
   "execution_count": 132,
   "outputs": [],
   "source": [
    "# predict and make score\n",
    "pipeline = make_pipeline(smote, rf)\n",
    "\n",
    "y_pred = pipeline.predict(X_test)\n",
    "results = classification_report(y_test, y_pred, output_dict=True)\n",
    "results = pd.DataFrame(results).transpose()\n",
    "\n",
    "kappa = cohen_kappa_score(y_test, y_pred)\n",
    "balanced_accuracy = balanced_accuracy_score(y_test, y_pred)\n",
    "results['cohen kappa'] = kappa\n",
    "results['balanced acc'] = balanced_accuracy\n",
    "results['unseen'] = list(local['Domain'])[0]"
   ],
   "metadata": {
    "collapsed": false,
    "pycharm": {
     "name": "#%%\n"
    }
   }
  },
  {
   "cell_type": "code",
   "execution_count": 133,
   "outputs": [
    {
     "data": {
      "text/plain": "              precision    recall  f1-score     support  cohen kappa  \\\nb              0.279412  0.730769  0.404255   26.000000     0.294068   \nnb             0.959538  0.772093  0.855670  215.000000     0.294068   \naccuracy       0.767635  0.767635  0.767635    0.767635     0.294068   \nmacro avg      0.619475  0.751431  0.629963  241.000000     0.294068   \nweighted avg   0.886163  0.767635  0.806970  241.000000     0.294068   \n\n              balanced acc unseen  \nb                 0.751431   garm  \nnb                0.751431   garm  \naccuracy          0.751431   garm  \nmacro avg         0.751431   garm  \nweighted avg      0.751431   garm  ",
      "text/html": "<div>\n<style scoped>\n    .dataframe tbody tr th:only-of-type {\n        vertical-align: middle;\n    }\n\n    .dataframe tbody tr th {\n        vertical-align: top;\n    }\n\n    .dataframe thead th {\n        text-align: right;\n    }\n</style>\n<table border=\"1\" class=\"dataframe\">\n  <thead>\n    <tr style=\"text-align: right;\">\n      <th></th>\n      <th>precision</th>\n      <th>recall</th>\n      <th>f1-score</th>\n      <th>support</th>\n      <th>cohen kappa</th>\n      <th>balanced acc</th>\n      <th>unseen</th>\n    </tr>\n  </thead>\n  <tbody>\n    <tr>\n      <th>b</th>\n      <td>0.279412</td>\n      <td>0.730769</td>\n      <td>0.404255</td>\n      <td>26.000000</td>\n      <td>0.294068</td>\n      <td>0.751431</td>\n      <td>garm</td>\n    </tr>\n    <tr>\n      <th>nb</th>\n      <td>0.959538</td>\n      <td>0.772093</td>\n      <td>0.855670</td>\n      <td>215.000000</td>\n      <td>0.294068</td>\n      <td>0.751431</td>\n      <td>garm</td>\n    </tr>\n    <tr>\n      <th>accuracy</th>\n      <td>0.767635</td>\n      <td>0.767635</td>\n      <td>0.767635</td>\n      <td>0.767635</td>\n      <td>0.294068</td>\n      <td>0.751431</td>\n      <td>garm</td>\n    </tr>\n    <tr>\n      <th>macro avg</th>\n      <td>0.619475</td>\n      <td>0.751431</td>\n      <td>0.629963</td>\n      <td>241.000000</td>\n      <td>0.294068</td>\n      <td>0.751431</td>\n      <td>garm</td>\n    </tr>\n    <tr>\n      <th>weighted avg</th>\n      <td>0.886163</td>\n      <td>0.767635</td>\n      <td>0.806970</td>\n      <td>241.000000</td>\n      <td>0.294068</td>\n      <td>0.751431</td>\n      <td>garm</td>\n    </tr>\n  </tbody>\n</table>\n</div>"
     },
     "execution_count": 133,
     "metadata": {},
     "output_type": "execute_result"
    }
   ],
   "source": [
    "results"
   ],
   "metadata": {
    "collapsed": false,
    "pycharm": {
     "name": "#%%\n"
    }
   }
  },
  {
   "cell_type": "code",
   "execution_count": 134,
   "outputs": [],
   "source": [
    "# importance of features\n",
    "importance = rf.feature_importances_\n",
    "\n",
    "importance = pd.DataFrame([features, importance]).transpose()\n",
    "importance = importance.rename(columns={0:'feature', 1:'importance'}).sort_values('importance', ascending=False)"
   ],
   "metadata": {
    "collapsed": false,
    "pycharm": {
     "name": "#%%\n"
    }
   }
  },
  {
   "cell_type": "code",
   "execution_count": 135,
   "outputs": [
    {
     "data": {
      "text/plain": "                         feature importance\n4  depthfromtopsynset_normalised   0.406564\n5         glosslength_normalised   0.147833\n0               ngrams_last_mean   0.138011\n6                  minwordlength   0.134541\n3          nrpartrels_normalised   0.061559\n2                        nrhypos   0.042766\n8                  polyscore_max   0.041067\n7                     nroflemmas   0.025817\n1                    nrdirhypers   0.001842",
      "text/html": "<div>\n<style scoped>\n    .dataframe tbody tr th:only-of-type {\n        vertical-align: middle;\n    }\n\n    .dataframe tbody tr th {\n        vertical-align: top;\n    }\n\n    .dataframe thead th {\n        text-align: right;\n    }\n</style>\n<table border=\"1\" class=\"dataframe\">\n  <thead>\n    <tr style=\"text-align: right;\">\n      <th></th>\n      <th>feature</th>\n      <th>importance</th>\n    </tr>\n  </thead>\n  <tbody>\n    <tr>\n      <th>4</th>\n      <td>depthfromtopsynset_normalised</td>\n      <td>0.406564</td>\n    </tr>\n    <tr>\n      <th>5</th>\n      <td>glosslength_normalised</td>\n      <td>0.147833</td>\n    </tr>\n    <tr>\n      <th>0</th>\n      <td>ngrams_last_mean</td>\n      <td>0.138011</td>\n    </tr>\n    <tr>\n      <th>6</th>\n      <td>minwordlength</td>\n      <td>0.134541</td>\n    </tr>\n    <tr>\n      <th>3</th>\n      <td>nrpartrels_normalised</td>\n      <td>0.061559</td>\n    </tr>\n    <tr>\n      <th>2</th>\n      <td>nrhypos</td>\n      <td>0.042766</td>\n    </tr>\n    <tr>\n      <th>8</th>\n      <td>polyscore_max</td>\n      <td>0.041067</td>\n    </tr>\n    <tr>\n      <th>7</th>\n      <td>nroflemmas</td>\n      <td>0.025817</td>\n    </tr>\n    <tr>\n      <th>1</th>\n      <td>nrdirhypers</td>\n      <td>0.001842</td>\n    </tr>\n  </tbody>\n</table>\n</div>"
     },
     "execution_count": 135,
     "metadata": {},
     "output_type": "execute_result"
    }
   ],
   "source": [
    "importance"
   ],
   "metadata": {
    "collapsed": false,
    "pycharm": {
     "name": "#%%\n"
    }
   }
  }
 ],
 "metadata": {
  "kernelspec": {
   "display_name": "Python 3",
   "language": "python",
   "name": "python3"
  },
  "language_info": {
   "codemirror_mode": {
    "name": "ipython",
    "version": 2
   },
   "file_extension": ".py",
   "mimetype": "text/x-python",
   "name": "python",
   "nbconvert_exporter": "python",
   "pygments_lexer": "ipython2",
   "version": "2.7.6"
  }
 },
 "nbformat": 4,
 "nbformat_minor": 0
}