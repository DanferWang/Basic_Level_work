{
 "cells": [
  {
   "cell_type": "code",
   "execution_count": 33,
   "metadata": {
    "collapsed": true
   },
   "outputs": [],
   "source": [
    "import pandas as pd\n",
    "import numpy as np\n",
    "\n",
    "from sklearn.model_selection import StratifiedKFold\n",
    "from imblearn.over_sampling import SMOTE\n",
    "from sklearn.ensemble import RandomForestClassifier\n",
    "from imblearn.pipeline import make_pipeline\n",
    "from sklearn.metrics import classification_report, cohen_kappa_score, balanced_accuracy_score\n",
    "\n",
    "import warnings\n",
    "warnings.filterwarnings(\"ignore\")"
   ]
  },
  {
   "cell_type": "code",
   "execution_count": 34,
   "outputs": [],
   "source": [
    "# read the pre-processed data all agreed\n",
    "data = pd.read_csv('GS_All_Agreed.csv', index_col=0)\n",
    "\n",
    "# generate the local dataframe for different domains\n",
    "local_fruit = data.loc[data['domain_x']=='fruit'].reset_index()\n",
    "local_tool = data.loc[data['domain_x']=='tool'].reset_index()\n",
    "local_music = data.loc[data['domain_x']=='music'].reset_index()\n",
    "local_furniture = data.loc[data['domain_x']=='furn'].reset_index()\n",
    "local_garments = data.loc[data['domain_x']=='garm'].reset_index()"
   ],
   "metadata": {
    "collapsed": false,
    "pycharm": {
     "name": "#%%\n"
    }
   }
  },
  {
   "cell_type": "code",
   "execution_count": 35,
   "outputs": [],
   "source": [
    "# define features and target\n",
    "features = ['ngrams_last_mean',\n",
    "            'nrdirhypers_x',\n",
    "            'nrhypos_x',\n",
    "            'nrpartrels_normalised_x',\n",
    "            'depthfromtopsynset_normalised_x',\n",
    "            'glosslength_normalised_x',\n",
    "            'minwordlength_x',\n",
    "            'nroflemmas_x',\n",
    "            'polyscore_max_x']\n",
    "target = ['vote_x'] # nb / b"
   ],
   "metadata": {
    "collapsed": false,
    "pycharm": {
     "name": "#%%\n"
    }
   }
  },
  {
   "cell_type": "code",
   "execution_count": 36,
   "outputs": [],
   "source": [
    "# specific corpora features\n",
    "# written general\n",
    "# features.append('BNC_sum')\n",
    "# BNCSumFeatures = features\n",
    "\n",
    "# spoken general\n",
    "# features.append('CABNC_per100,000')\n",
    "# CABNC_per100KFeatures = features\n",
    "\n",
    "# written children\n",
    "# features.append('KBNC_Sum')\n",
    "# KBNCSumFeatures = features\n",
    "\n",
    "# spoken children\n",
    "features.append('CHILDES_Sum_Rel')\n",
    "CHILDESSumRelFeatures = features"
   ],
   "metadata": {
    "collapsed": false,
    "pycharm": {
     "name": "#%%\n"
    }
   }
  },
  {
   "cell_type": "code",
   "execution_count": 37,
   "outputs": [],
   "source": [
    "# split training set and testing set using K-Flod\n",
    "K = 10\n",
    "random_seed = 7 # R\n",
    "data = data.reset_index()\n",
    "X = data[CHILDESSumRelFeatures]\n",
    "y = data[target]\n",
    "\n",
    "K_Flod = StratifiedKFold(n_splits=K, shuffle=True, random_state=random_seed)\n",
    "K_Flod.get_n_splits(X, y)\n",
    "cohen_kappa = []\n",
    "balanced_acc = []\n",
    "for train_index, test_index in K_Flod.split(X, y):\n",
    "    X_train, X_test = X.iloc[train_index], X.iloc[test_index]\n",
    "    y_train, y_test = y.iloc[train_index], y.iloc[test_index]\n",
    "\n",
    "    # SMOTE algorithm\n",
    "    smote = SMOTE(random_state=random_seed, k_neighbors=2)\n",
    "    X_train, y_train = smote.fit_resample(X_train, y_train)\n",
    "\n",
    "    # define random forest model\n",
    "    rf = RandomForestClassifier(random_state=random_seed, max_features='sqrt', n_estimators=1400, min_samples_split=2, min_samples_leaf=1, max_depth=50, oob_score=True, criterion='gini', bootstrap=True).fit(X_train, y_train)\n",
    "\n",
    "    # predict and make score\n",
    "    pipeline = make_pipeline(smote, rf)\n",
    "    y_pred = pipeline.predict(X_test)\n",
    "\n",
    "    kappa = cohen_kappa_score(y_test, y_pred)\n",
    "    cohen_kappa.append(kappa)\n",
    "    balanced_accuracy = balanced_accuracy_score(y_test, y_pred)\n",
    "    balanced_acc.append(balanced_accuracy)\n",
    "\n",
    "results = classification_report(y_test, y_pred, output_dict=True)\n",
    "results = pd.DataFrame(results).transpose()\n",
    "\n",
    "results['cohen kappa / 10'] = np.mean(cohen_kappa)\n",
    "results['balanced acc / 10'] = np.mean(balanced_acc)\n",
    "results['global'] = 5"
   ],
   "metadata": {
    "collapsed": false,
    "pycharm": {
     "name": "#%%\n"
    }
   }
  },
  {
   "cell_type": "code",
   "execution_count": 38,
   "outputs": [
    {
     "data": {
      "text/plain": "              precision    recall  f1-score    support  cohen kappa / 10  \\\nb              0.761905  0.941176  0.842105  17.000000           0.69074   \nnb             0.983871  0.924242  0.953125  66.000000           0.69074   \naccuracy       0.927711  0.927711  0.927711   0.927711           0.69074   \nmacro avg      0.872888  0.932709  0.897615  83.000000           0.69074   \nweighted avg   0.938408  0.927711  0.930386  83.000000           0.69074   \n\n              balanced acc / 10  global  \nb                      0.857564       5  \nnb                     0.857564       5  \naccuracy               0.857564       5  \nmacro avg              0.857564       5  \nweighted avg           0.857564       5  ",
      "text/html": "<div>\n<style scoped>\n    .dataframe tbody tr th:only-of-type {\n        vertical-align: middle;\n    }\n\n    .dataframe tbody tr th {\n        vertical-align: top;\n    }\n\n    .dataframe thead th {\n        text-align: right;\n    }\n</style>\n<table border=\"1\" class=\"dataframe\">\n  <thead>\n    <tr style=\"text-align: right;\">\n      <th></th>\n      <th>precision</th>\n      <th>recall</th>\n      <th>f1-score</th>\n      <th>support</th>\n      <th>cohen kappa / 10</th>\n      <th>balanced acc / 10</th>\n      <th>global</th>\n    </tr>\n  </thead>\n  <tbody>\n    <tr>\n      <th>b</th>\n      <td>0.761905</td>\n      <td>0.941176</td>\n      <td>0.842105</td>\n      <td>17.000000</td>\n      <td>0.69074</td>\n      <td>0.857564</td>\n      <td>5</td>\n    </tr>\n    <tr>\n      <th>nb</th>\n      <td>0.983871</td>\n      <td>0.924242</td>\n      <td>0.953125</td>\n      <td>66.000000</td>\n      <td>0.69074</td>\n      <td>0.857564</td>\n      <td>5</td>\n    </tr>\n    <tr>\n      <th>accuracy</th>\n      <td>0.927711</td>\n      <td>0.927711</td>\n      <td>0.927711</td>\n      <td>0.927711</td>\n      <td>0.69074</td>\n      <td>0.857564</td>\n      <td>5</td>\n    </tr>\n    <tr>\n      <th>macro avg</th>\n      <td>0.872888</td>\n      <td>0.932709</td>\n      <td>0.897615</td>\n      <td>83.000000</td>\n      <td>0.69074</td>\n      <td>0.857564</td>\n      <td>5</td>\n    </tr>\n    <tr>\n      <th>weighted avg</th>\n      <td>0.938408</td>\n      <td>0.927711</td>\n      <td>0.930386</td>\n      <td>83.000000</td>\n      <td>0.69074</td>\n      <td>0.857564</td>\n      <td>5</td>\n    </tr>\n  </tbody>\n</table>\n</div>"
     },
     "execution_count": 38,
     "metadata": {},
     "output_type": "execute_result"
    }
   ],
   "source": [
    "results"
   ],
   "metadata": {
    "collapsed": false,
    "pycharm": {
     "name": "#%%\n"
    }
   }
  },
  {
   "cell_type": "code",
   "execution_count": 39,
   "outputs": [],
   "source": [
    "# importance of features\n",
    "importance = rf.feature_importances_\n",
    "\n",
    "importance = pd.DataFrame([features, importance]).transpose()\n",
    "importance = importance.rename(columns={0:'feature', 1:'importance'}).sort_values('importance', ascending=False)"
   ],
   "metadata": {
    "collapsed": false,
    "pycharm": {
     "name": "#%%\n"
    }
   }
  },
  {
   "cell_type": "code",
   "execution_count": 40,
   "outputs": [
    {
     "data": {
      "text/plain": "                           feature importance\n4  depthfromtopsynset_normalised_x   0.362421\n5         glosslength_normalised_x   0.135476\n0                 ngrams_last_mean   0.129221\n6                  minwordlength_x      0.108\n3          nrpartrels_normalised_x    0.08313\n9                  CHILDES_Sum_Rel   0.072765\n2                        nrhypos_x   0.040549\n8                  polyscore_max_x    0.03807\n7                     nroflemmas_x   0.027884\n1                    nrdirhypers_x   0.002485",
      "text/html": "<div>\n<style scoped>\n    .dataframe tbody tr th:only-of-type {\n        vertical-align: middle;\n    }\n\n    .dataframe tbody tr th {\n        vertical-align: top;\n    }\n\n    .dataframe thead th {\n        text-align: right;\n    }\n</style>\n<table border=\"1\" class=\"dataframe\">\n  <thead>\n    <tr style=\"text-align: right;\">\n      <th></th>\n      <th>feature</th>\n      <th>importance</th>\n    </tr>\n  </thead>\n  <tbody>\n    <tr>\n      <th>4</th>\n      <td>depthfromtopsynset_normalised_x</td>\n      <td>0.362421</td>\n    </tr>\n    <tr>\n      <th>5</th>\n      <td>glosslength_normalised_x</td>\n      <td>0.135476</td>\n    </tr>\n    <tr>\n      <th>0</th>\n      <td>ngrams_last_mean</td>\n      <td>0.129221</td>\n    </tr>\n    <tr>\n      <th>6</th>\n      <td>minwordlength_x</td>\n      <td>0.108</td>\n    </tr>\n    <tr>\n      <th>3</th>\n      <td>nrpartrels_normalised_x</td>\n      <td>0.08313</td>\n    </tr>\n    <tr>\n      <th>9</th>\n      <td>CHILDES_Sum_Rel</td>\n      <td>0.072765</td>\n    </tr>\n    <tr>\n      <th>2</th>\n      <td>nrhypos_x</td>\n      <td>0.040549</td>\n    </tr>\n    <tr>\n      <th>8</th>\n      <td>polyscore_max_x</td>\n      <td>0.03807</td>\n    </tr>\n    <tr>\n      <th>7</th>\n      <td>nroflemmas_x</td>\n      <td>0.027884</td>\n    </tr>\n    <tr>\n      <th>1</th>\n      <td>nrdirhypers_x</td>\n      <td>0.002485</td>\n    </tr>\n  </tbody>\n</table>\n</div>"
     },
     "execution_count": 40,
     "metadata": {},
     "output_type": "execute_result"
    }
   ],
   "source": [
    "importance"
   ],
   "metadata": {
    "collapsed": false,
    "pycharm": {
     "name": "#%%\n"
    }
   }
  }
 ],
 "metadata": {
  "kernelspec": {
   "display_name": "Python 3",
   "language": "python",
   "name": "python3"
  },
  "language_info": {
   "codemirror_mode": {
    "name": "ipython",
    "version": 2
   },
   "file_extension": ".py",
   "mimetype": "text/x-python",
   "name": "python",
   "nbconvert_exporter": "python",
   "pygments_lexer": "ipython2",
   "version": "2.7.6"
  }
 },
 "nbformat": 4,
 "nbformat_minor": 0
}