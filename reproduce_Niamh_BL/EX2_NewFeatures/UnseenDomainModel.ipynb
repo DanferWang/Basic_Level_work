{
 "cells": [
  {
   "cell_type": "code",
   "execution_count": 43,
   "metadata": {
    "collapsed": true
   },
   "outputs": [],
   "source": [
    "import pandas as pd\n",
    "import numpy as np\n",
    "\n",
    "from imblearn.over_sampling import SMOTE\n",
    "from sklearn.ensemble import RandomForestClassifier\n",
    "from imblearn.pipeline import make_pipeline\n",
    "from sklearn.metrics import cohen_kappa_score, balanced_accuracy_score, precision_recall_fscore_support\n",
    "\n",
    "import warnings\n",
    "warnings.filterwarnings(\"ignore\")"
   ]
  },
  {
   "cell_type": "code",
   "execution_count": 44,
   "outputs": [],
   "source": [
    "# read the pre-processed data all agreed\n",
    "data = pd.read_csv('GS_All_Agreed.csv', index_col=0)\n",
    "\n",
    "# generate the local dataframe for different domains\n",
    "local_fruit = data.loc[data['domain_x']=='fruit'].reset_index()\n",
    "local_tool = data.loc[data['domain_x']=='tool'].reset_index()\n",
    "local_music = data.loc[data['domain_x']=='music'].reset_index()\n",
    "local_furniture = data.loc[data['domain_x']=='furn'].reset_index()\n",
    "local_garments = data.loc[data['domain_x']=='garm'].reset_index()\n",
    "\n",
    "unseen_fruit = data.loc[data['domain_x']!='fruit']\n",
    "unseen_tool = data.loc[data['domain_x']!='tool']\n",
    "unseen_music = data.loc[data['domain_x']!='music']\n",
    "unseen_furniture = data.loc[data['domain_x']!='furn']\n",
    "unseen_garments = data.loc[data['domain_x']!='garm']"
   ],
   "metadata": {
    "collapsed": false,
    "pycharm": {
     "name": "#%%\n"
    }
   }
  },
  {
   "cell_type": "code",
   "execution_count": 45,
   "outputs": [],
   "source": [
    "# define features and target\n",
    "features = ['ngrams_last_mean',\n",
    "            'nrdirhypers_x',\n",
    "            'nrhypos_x',\n",
    "            'nrpartrels_normalised_x',\n",
    "            'depthfromtopsynset_normalised_x',\n",
    "            'glosslength_normalised_x',\n",
    "            'minwordlength_x',\n",
    "            'nroflemmas_x',\n",
    "            'polyscore_max_x']\n",
    "target = ['vote_x'] # nb / b"
   ],
   "metadata": {
    "collapsed": false,
    "pycharm": {
     "name": "#%%\n"
    }
   }
  },
  {
   "cell_type": "code",
   "execution_count": 46,
   "outputs": [],
   "source": [
    "local_set = [local_fruit, local_tool, local_music, local_furniture, local_garments]\n",
    "unseen_set = [unseen_fruit, unseen_tool, unseen_music, unseen_furniture, unseen_garments]\n",
    "# specific corpora features\n",
    "features_set = ['BNC_sum', 'CABNC_per100,000', 'KBNC_Sum', 'CHILDES_Sum_Rel']"
   ],
   "metadata": {
    "collapsed": false,
    "pycharm": {
     "name": "#%%\n"
    }
   }
  },
  {
   "cell_type": "code",
   "execution_count": 47,
   "outputs": [],
   "source": [
    "def unseenModel(unseen, local, featureSet):\n",
    "    # split training set and testing set using K-Flod\n",
    "    random_seed = 7 # R\n",
    "\n",
    "    X_train, X_test, y_train, y_test = unseen[featureSet], local[featureSet], unseen[target], local[target]\n",
    "\n",
    "    # SMOTE algorithm\n",
    "    smote = SMOTE(random_state=random_seed, k_neighbors=2)\n",
    "    X_train, y_train = smote.fit_resample(X_train, y_train)\n",
    "\n",
    "    # define random forest model\n",
    "    rf = RandomForestClassifier(random_state=random_seed, max_features='sqrt', n_estimators=1400, min_samples_split=2, min_samples_leaf=1, max_depth=50, oob_score=True, criterion='gini', bootstrap=True).fit(X_train, y_train)\n",
    "\n",
    "    # predict and make score\n",
    "    pipeline = make_pipeline(smote, rf)\n",
    "    y_pred = pipeline.predict(X_test)\n",
    "\n",
    "    kappa = cohen_kappa_score(y_test, y_pred)\n",
    "    balanced_accuracy = balanced_accuracy_score(y_test, y_pred)\n",
    "\n",
    "    chart = precision_recall_fscore_support(y_test, y_pred)\n",
    "    results = pd.DataFrame(chart).transpose()\n",
    "\n",
    "    results['corpora'] = featureSet[-1]\n",
    "    results['cohen kappa'] = kappa\n",
    "    results['balanced acc'] = balanced_accuracy\n",
    "    results['unseen'] = list(local['domain_x'])[0]\n",
    "\n",
    "    results = results.rename(index={0:\"b\", 1: 'nb'}, columns={0:'precision', 1:'recall', 2:'f1-score', 3:'support'})\n",
    "\n",
    "    return results"
   ],
   "metadata": {
    "collapsed": false,
    "pycharm": {
     "name": "#%%\n"
    }
   }
  },
  {
   "cell_type": "code",
   "execution_count": 54,
   "outputs": [
    {
     "data": {
      "text/plain": "    precision    recall  f1-score  support           corpora  cohen kappa  \\\nb    0.310345  0.692308  0.428571     26.0           BNC_sum     0.328535   \nnb   0.956284  0.813953  0.879397    215.0           BNC_sum     0.328535   \nb    0.292308  0.730769  0.417582     26.0  CABNC_per100,000     0.311466   \nnb   0.960227  0.786047  0.864450    215.0  CABNC_per100,000     0.311466   \nb    0.263889  0.730769  0.387755     26.0          KBNC_Sum     0.272416   \nnb   0.958580  0.753488  0.843750    215.0          KBNC_Sum     0.272416   \nb    0.287671  0.807692  0.424242     26.0   CHILDES_Sum_Rel     0.315307   \nnb   0.970238  0.758140  0.851175    215.0   CHILDES_Sum_Rel     0.315307   \n\n    balanced acc unseen  \nb       0.753131   garm  \nnb      0.753131   garm  \nb       0.758408   garm  \nnb      0.758408   garm  \nb       0.742129   garm  \nnb      0.742129   garm  \nb       0.782916   garm  \nnb      0.782916   garm  ",
      "text/html": "<div>\n<style scoped>\n    .dataframe tbody tr th:only-of-type {\n        vertical-align: middle;\n    }\n\n    .dataframe tbody tr th {\n        vertical-align: top;\n    }\n\n    .dataframe thead th {\n        text-align: right;\n    }\n</style>\n<table border=\"1\" class=\"dataframe\">\n  <thead>\n    <tr style=\"text-align: right;\">\n      <th></th>\n      <th>precision</th>\n      <th>recall</th>\n      <th>f1-score</th>\n      <th>support</th>\n      <th>corpora</th>\n      <th>cohen kappa</th>\n      <th>balanced acc</th>\n      <th>unseen</th>\n    </tr>\n  </thead>\n  <tbody>\n    <tr>\n      <th>b</th>\n      <td>0.310345</td>\n      <td>0.692308</td>\n      <td>0.428571</td>\n      <td>26.0</td>\n      <td>BNC_sum</td>\n      <td>0.328535</td>\n      <td>0.753131</td>\n      <td>garm</td>\n    </tr>\n    <tr>\n      <th>nb</th>\n      <td>0.956284</td>\n      <td>0.813953</td>\n      <td>0.879397</td>\n      <td>215.0</td>\n      <td>BNC_sum</td>\n      <td>0.328535</td>\n      <td>0.753131</td>\n      <td>garm</td>\n    </tr>\n    <tr>\n      <th>b</th>\n      <td>0.292308</td>\n      <td>0.730769</td>\n      <td>0.417582</td>\n      <td>26.0</td>\n      <td>CABNC_per100,000</td>\n      <td>0.311466</td>\n      <td>0.758408</td>\n      <td>garm</td>\n    </tr>\n    <tr>\n      <th>nb</th>\n      <td>0.960227</td>\n      <td>0.786047</td>\n      <td>0.864450</td>\n      <td>215.0</td>\n      <td>CABNC_per100,000</td>\n      <td>0.311466</td>\n      <td>0.758408</td>\n      <td>garm</td>\n    </tr>\n    <tr>\n      <th>b</th>\n      <td>0.263889</td>\n      <td>0.730769</td>\n      <td>0.387755</td>\n      <td>26.0</td>\n      <td>KBNC_Sum</td>\n      <td>0.272416</td>\n      <td>0.742129</td>\n      <td>garm</td>\n    </tr>\n    <tr>\n      <th>nb</th>\n      <td>0.958580</td>\n      <td>0.753488</td>\n      <td>0.843750</td>\n      <td>215.0</td>\n      <td>KBNC_Sum</td>\n      <td>0.272416</td>\n      <td>0.742129</td>\n      <td>garm</td>\n    </tr>\n    <tr>\n      <th>b</th>\n      <td>0.287671</td>\n      <td>0.807692</td>\n      <td>0.424242</td>\n      <td>26.0</td>\n      <td>CHILDES_Sum_Rel</td>\n      <td>0.315307</td>\n      <td>0.782916</td>\n      <td>garm</td>\n    </tr>\n    <tr>\n      <th>nb</th>\n      <td>0.970238</td>\n      <td>0.758140</td>\n      <td>0.851175</td>\n      <td>215.0</td>\n      <td>CHILDES_Sum_Rel</td>\n      <td>0.315307</td>\n      <td>0.782916</td>\n      <td>garm</td>\n    </tr>\n  </tbody>\n</table>\n</div>"
     },
     "execution_count": 54,
     "metadata": {},
     "output_type": "execute_result"
    }
   ],
   "source": [
    "res = pd.DataFrame(columns=['precision', 'recall', 'f1-score', 'support', 'corpora', 'cohen kappa', 'balanced acc', 'unseen'])\n",
    "\n",
    "i = 4\n",
    "for cor in features_set:\n",
    "    features.append(cor)\n",
    "    res_plus = unseenModel(unseen_set[i], local_set[i], features)\n",
    "    res = res.append(res_plus)\n",
    "    features.pop()\n",
    "\n",
    "res"
   ],
   "metadata": {
    "collapsed": false,
    "pycharm": {
     "name": "#%%\n"
    }
   }
  }
 ],
 "metadata": {
  "kernelspec": {
   "display_name": "Python 3",
   "language": "python",
   "name": "python3"
  },
  "language_info": {
   "codemirror_mode": {
    "name": "ipython",
    "version": 2
   },
   "file_extension": ".py",
   "mimetype": "text/x-python",
   "name": "python",
   "nbconvert_exporter": "python",
   "pygments_lexer": "ipython2",
   "version": "2.7.6"
  }
 },
 "nbformat": 4,
 "nbformat_minor": 0
}