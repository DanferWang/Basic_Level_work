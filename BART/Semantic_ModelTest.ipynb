{
 "cells": [
  {
   "cell_type": "code",
   "execution_count": 4,
   "metadata": {
    "collapsed": true,
    "trusted": false
   },
   "outputs": [],
   "source": [
    "import pandas as pd\n",
    "import numpy as np\n",
    "\n",
    "import ast\n",
    "\n",
    "from sklearn.model_selection import StratifiedKFold\n",
    "from imblearn.over_sampling import SMOTE\n",
    "from sklearn.ensemble import RandomForestClassifier\n",
    "from imblearn.pipeline import make_pipeline\n",
    "from sklearn.metrics import classification_report, cohen_kappa_score, balanced_accuracy_score, precision_score, f1_score\n",
    "from scipy.special import comb\n",
    "\n",
    "import warnings\n",
    "warnings.filterwarnings(\"ignore\")"
   ]
  },
  {
   "cell_type": "code",
   "execution_count": 5,
   "outputs": [
    {
     "data": {
      "text/plain": "                              Synsets domain_x               norm  \\\n0    Synset('adjustable_wrench.n.01')     tool  adjustable_wrench   \n1         Synset('allen_wrench.n.01')     tool       allen_wrench   \n2     Synset('alligator_wrench.n.01')     tool   alligator_wrench   \n3                  Synset('awl.n.01')     tool                awl   \n4              Synset('backsaw.n.01')     tool            backsaw   \n..                                ...      ...                ...   \n834       Synset('ballet_skirt.n.01')     garm       ballet_skirt   \n835        Synset('mess_jacket.n.01')     garm        mess_jacket   \n836         Synset('long_johns.n.01')     garm         long_johns   \n837             Synset('undies.n.01')     garm             undies   \n838           Synset('lingerie.n.01')     garm           lingerie   \n\n     nrdirhypers_x  nrhypos_x  nrpartrels_normalised_x  \\\n0                1          7                      0.0   \n1                1          0                      0.0   \n2                1          0                      0.0   \n3                1          2                     15.7   \n4                1          0                      0.0   \n..             ...        ...                      ...   \n834              1          0                      0.0   \n835              1          0                      0.0   \n836              1          0                      0.0   \n837              1          0                      0.0   \n838              1          2                      0.0   \n\n     depthfromtopsynset_normalised_x  glosslength_normalised_x  \\\n0                           1.012903                  0.563173   \n1                           1.012903                  0.391092   \n2                           1.012903                  1.517437   \n3                           0.911613                  0.985552   \n4                           1.114194                  1.110701   \n..                               ...                       ...   \n834                         0.947552                  0.578283   \n835                         1.158120                  1.652238   \n836                         1.052836                  0.479149   \n837                         1.158120                  0.280880   \n838                         1.052836                  0.561761   \n\n     minwordlength_x  nroflemmas_x  polyscore_max_x vote_x  \\\n0                 17             2                1     nb   \n1                 12             1                1     nb   \n2                 16             1                1     nb   \n3                  3             1                1      b   \n4                  7             2                1     nb   \n..               ...           ...              ...    ...   \n834                4             2                2     nb   \n835               11             3                1     nb   \n836               10             1                1     nb   \n837                6             1                1     nb   \n838                8             2                1     nb   \n\n                                       raw_translation  \\\n0      adjust change change hold hold hold screw tool    \n1               break hold hold hold metal screw tool    \n2    animal claw claw claw chew chew chew eat teeth...   \n3                     cloth cloth hand knit knit wool    \n4    cut blade blade blade cut edge edge hand heave...   \n..                                                 ...   \n834  act ballet ballet ballet dance dance dance dre...   \n835           clean cloth cloth cloth cover mess mess    \n836  bend cloth cloth cloth cover cloth cloth comfo...   \n837  cloth cloth cloth cover cloth cover comfort co...   \n838                beauty dress woman woman wear wear    \n\n                                raw_translation_lemmas  \\\n0    adjust change change hold hold hold screw tool...   \n1               break hold hold hold metal screw tool    \n2    animal claw claw claw chew chew chew eat teeth...   \n3                     cloth cloth hand knit knit wool    \n4    cut blade blade blade cut edge edge hand heave...   \n..                                                 ...   \n834  act ballet ballet ballet dance dance dance dre...   \n835  clean cloth cloth cloth cover mess mess animal...   \n836  bend cloth cloth cloth cover cloth cloth comfo...   \n837  cloth cloth cloth cover cloth cover comfort co...   \n838  beauty dress woman woman wear wear body cloth ...   \n\n                                       translation_set  number_tranlsation  \\\n0                  [adjust, screw, tool, hold, change]                   8   \n1                    [metal, screw, tool, hold, break]                   7   \n2                [chew, claw, eat, animal, fin, teeth]                  15   \n3                            [knit, hand, cloth, wool]                   6   \n4        [metal, large, edge, blade, heave, hand, cut]                  13   \n..                                                 ...                 ...   \n834  [high, ballet, dress, dance, leg, long, skirt,...                  13   \n835                        [mess, clean, cloth, cover]                   7   \n836  [cotton, cloth, cover, material, long, bend, c...                  14   \n837  [cotton, cloth, cover, pants, warm, material, ...                  14   \n838                       [wear, dress, woman, beauty]                   6   \n\n     number_sense                             translation_lemmas_set  \\\n0               5  [rotate, adjust, screw, tool, hold, angle, cha...   \n1               5                  [metal, screw, tool, hold, break]   \n2               6              [chew, claw, eat, animal, fin, teeth]   \n3               4                          [knit, hand, cloth, wool]   \n4               7  [metal, large, edge, blade, heave, hand, cut, ...   \n..            ...                                                ...   \n834             8  [high, ballet, dress, teach, dance, leg, long,...   \n835             4  [human, cloth, color, longbody, cover, mess, w...   \n836             7  [cotton, cloth, cover, material, long, bend, c...   \n837             7  [cotton, cloth, cover, pants, warm, material, ...   \n838             4  [cloth, comfort, material, body, wear, dress, ...   \n\n     number_tranlsation_lemmas  number_sense_lemmas  \n0                           15                    7  \n1                            7                    5  \n2                           15                    6  \n3                            6                    4  \n4                           19                    8  \n..                         ...                  ...  \n834                         17                   10  \n835                         34                   14  \n836                         14                    7  \n837                         14                    7  \n838                         17                    8  \n\n[839 rows x 20 columns]",
      "text/html": "<div>\n<style scoped>\n    .dataframe tbody tr th:only-of-type {\n        vertical-align: middle;\n    }\n\n    .dataframe tbody tr th {\n        vertical-align: top;\n    }\n\n    .dataframe thead th {\n        text-align: right;\n    }\n</style>\n<table border=\"1\" class=\"dataframe\">\n  <thead>\n    <tr style=\"text-align: right;\">\n      <th></th>\n      <th>Synsets</th>\n      <th>domain_x</th>\n      <th>norm</th>\n      <th>nrdirhypers_x</th>\n      <th>nrhypos_x</th>\n      <th>nrpartrels_normalised_x</th>\n      <th>depthfromtopsynset_normalised_x</th>\n      <th>glosslength_normalised_x</th>\n      <th>minwordlength_x</th>\n      <th>nroflemmas_x</th>\n      <th>polyscore_max_x</th>\n      <th>vote_x</th>\n      <th>raw_translation</th>\n      <th>raw_translation_lemmas</th>\n      <th>translation_set</th>\n      <th>number_tranlsation</th>\n      <th>number_sense</th>\n      <th>translation_lemmas_set</th>\n      <th>number_tranlsation_lemmas</th>\n      <th>number_sense_lemmas</th>\n    </tr>\n  </thead>\n  <tbody>\n    <tr>\n      <th>0</th>\n      <td>Synset('adjustable_wrench.n.01')</td>\n      <td>tool</td>\n      <td>adjustable_wrench</td>\n      <td>1</td>\n      <td>7</td>\n      <td>0.0</td>\n      <td>1.012903</td>\n      <td>0.563173</td>\n      <td>17</td>\n      <td>2</td>\n      <td>1</td>\n      <td>nb</td>\n      <td>adjust change change hold hold hold screw tool</td>\n      <td>adjust change change hold hold hold screw tool...</td>\n      <td>[adjust, screw, tool, hold, change]</td>\n      <td>8</td>\n      <td>5</td>\n      <td>[rotate, adjust, screw, tool, hold, angle, cha...</td>\n      <td>15</td>\n      <td>7</td>\n    </tr>\n    <tr>\n      <th>1</th>\n      <td>Synset('allen_wrench.n.01')</td>\n      <td>tool</td>\n      <td>allen_wrench</td>\n      <td>1</td>\n      <td>0</td>\n      <td>0.0</td>\n      <td>1.012903</td>\n      <td>0.391092</td>\n      <td>12</td>\n      <td>1</td>\n      <td>1</td>\n      <td>nb</td>\n      <td>break hold hold hold metal screw tool</td>\n      <td>break hold hold hold metal screw tool</td>\n      <td>[metal, screw, tool, hold, break]</td>\n      <td>7</td>\n      <td>5</td>\n      <td>[metal, screw, tool, hold, break]</td>\n      <td>7</td>\n      <td>5</td>\n    </tr>\n    <tr>\n      <th>2</th>\n      <td>Synset('alligator_wrench.n.01')</td>\n      <td>tool</td>\n      <td>alligator_wrench</td>\n      <td>1</td>\n      <td>0</td>\n      <td>0.0</td>\n      <td>1.012903</td>\n      <td>1.517437</td>\n      <td>16</td>\n      <td>1</td>\n      <td>1</td>\n      <td>nb</td>\n      <td>animal claw claw claw chew chew chew eat teeth...</td>\n      <td>animal claw claw claw chew chew chew eat teeth...</td>\n      <td>[chew, claw, eat, animal, fin, teeth]</td>\n      <td>15</td>\n      <td>6</td>\n      <td>[chew, claw, eat, animal, fin, teeth]</td>\n      <td>15</td>\n      <td>6</td>\n    </tr>\n    <tr>\n      <th>3</th>\n      <td>Synset('awl.n.01')</td>\n      <td>tool</td>\n      <td>awl</td>\n      <td>1</td>\n      <td>2</td>\n      <td>15.7</td>\n      <td>0.911613</td>\n      <td>0.985552</td>\n      <td>3</td>\n      <td>1</td>\n      <td>1</td>\n      <td>b</td>\n      <td>cloth cloth hand knit knit wool</td>\n      <td>cloth cloth hand knit knit wool</td>\n      <td>[knit, hand, cloth, wool]</td>\n      <td>6</td>\n      <td>4</td>\n      <td>[knit, hand, cloth, wool]</td>\n      <td>6</td>\n      <td>4</td>\n    </tr>\n    <tr>\n      <th>4</th>\n      <td>Synset('backsaw.n.01')</td>\n      <td>tool</td>\n      <td>backsaw</td>\n      <td>1</td>\n      <td>0</td>\n      <td>0.0</td>\n      <td>1.114194</td>\n      <td>1.110701</td>\n      <td>7</td>\n      <td>2</td>\n      <td>1</td>\n      <td>nb</td>\n      <td>cut blade blade blade cut edge edge hand heave...</td>\n      <td>cut blade blade blade cut edge edge hand heave...</td>\n      <td>[metal, large, edge, blade, heave, hand, cut]</td>\n      <td>13</td>\n      <td>7</td>\n      <td>[metal, large, edge, blade, heave, hand, cut, ...</td>\n      <td>19</td>\n      <td>8</td>\n    </tr>\n    <tr>\n      <th>...</th>\n      <td>...</td>\n      <td>...</td>\n      <td>...</td>\n      <td>...</td>\n      <td>...</td>\n      <td>...</td>\n      <td>...</td>\n      <td>...</td>\n      <td>...</td>\n      <td>...</td>\n      <td>...</td>\n      <td>...</td>\n      <td>...</td>\n      <td>...</td>\n      <td>...</td>\n      <td>...</td>\n      <td>...</td>\n      <td>...</td>\n      <td>...</td>\n      <td>...</td>\n    </tr>\n    <tr>\n      <th>834</th>\n      <td>Synset('ballet_skirt.n.01')</td>\n      <td>garm</td>\n      <td>ballet_skirt</td>\n      <td>1</td>\n      <td>0</td>\n      <td>0.0</td>\n      <td>0.947552</td>\n      <td>0.578283</td>\n      <td>4</td>\n      <td>2</td>\n      <td>2</td>\n      <td>nb</td>\n      <td>act ballet ballet ballet dance dance dance dre...</td>\n      <td>act ballet ballet ballet dance dance dance dre...</td>\n      <td>[high, ballet, dress, dance, leg, long, skirt,...</td>\n      <td>13</td>\n      <td>8</td>\n      <td>[high, ballet, dress, teach, dance, leg, long,...</td>\n      <td>17</td>\n      <td>10</td>\n    </tr>\n    <tr>\n      <th>835</th>\n      <td>Synset('mess_jacket.n.01')</td>\n      <td>garm</td>\n      <td>mess_jacket</td>\n      <td>1</td>\n      <td>0</td>\n      <td>0.0</td>\n      <td>1.158120</td>\n      <td>1.652238</td>\n      <td>11</td>\n      <td>3</td>\n      <td>1</td>\n      <td>nb</td>\n      <td>clean cloth cloth cloth cover mess mess</td>\n      <td>clean cloth cloth cloth cover mess mess animal...</td>\n      <td>[mess, clean, cloth, cover]</td>\n      <td>7</td>\n      <td>4</td>\n      <td>[human, cloth, color, longbody, cover, mess, w...</td>\n      <td>34</td>\n      <td>14</td>\n    </tr>\n    <tr>\n      <th>836</th>\n      <td>Synset('long_johns.n.01')</td>\n      <td>garm</td>\n      <td>long_johns</td>\n      <td>1</td>\n      <td>0</td>\n      <td>0.0</td>\n      <td>1.052836</td>\n      <td>0.479149</td>\n      <td>10</td>\n      <td>1</td>\n      <td>1</td>\n      <td>nb</td>\n      <td>bend cloth cloth cloth cover cloth cloth comfo...</td>\n      <td>bend cloth cloth cloth cover cloth cloth comfo...</td>\n      <td>[cotton, cloth, cover, material, long, bend, c...</td>\n      <td>14</td>\n      <td>7</td>\n      <td>[cotton, cloth, cover, material, long, bend, c...</td>\n      <td>14</td>\n      <td>7</td>\n    </tr>\n    <tr>\n      <th>837</th>\n      <td>Synset('undies.n.01')</td>\n      <td>garm</td>\n      <td>undies</td>\n      <td>1</td>\n      <td>0</td>\n      <td>0.0</td>\n      <td>1.158120</td>\n      <td>0.280880</td>\n      <td>6</td>\n      <td>1</td>\n      <td>1</td>\n      <td>nb</td>\n      <td>cloth cloth cloth cover cloth cover comfort co...</td>\n      <td>cloth cloth cloth cover cloth cover comfort co...</td>\n      <td>[cotton, cloth, cover, pants, warm, material, ...</td>\n      <td>14</td>\n      <td>7</td>\n      <td>[cotton, cloth, cover, pants, warm, material, ...</td>\n      <td>14</td>\n      <td>7</td>\n    </tr>\n    <tr>\n      <th>838</th>\n      <td>Synset('lingerie.n.01')</td>\n      <td>garm</td>\n      <td>lingerie</td>\n      <td>1</td>\n      <td>2</td>\n      <td>0.0</td>\n      <td>1.052836</td>\n      <td>0.561761</td>\n      <td>8</td>\n      <td>2</td>\n      <td>1</td>\n      <td>nb</td>\n      <td>beauty dress woman woman wear wear</td>\n      <td>beauty dress woman woman wear wear body cloth ...</td>\n      <td>[wear, dress, woman, beauty]</td>\n      <td>6</td>\n      <td>4</td>\n      <td>[cloth, comfort, material, body, wear, dress, ...</td>\n      <td>17</td>\n      <td>8</td>\n    </tr>\n  </tbody>\n</table>\n<p>839 rows × 20 columns</p>\n</div>"
     },
     "execution_count": 5,
     "metadata": {},
     "output_type": "execute_result"
    }
   ],
   "source": [
    "# preparing for the dataset\n",
    "raw_data = pd.read_csv('./translated_raw.csv', index_col=None)\n",
    "## Translation set\n",
    "translation_data = raw_data.copy()\n",
    "translation_data['translation_set'] = translation_data['raw_translation'].apply(lambda translation_list: list(set(translation_list.split())))\n",
    "## Number, length\n",
    "translation_data['number_tranlsation'] = translation_data['raw_translation'].apply(lambda translation_list: len(translation_list.split()))\n",
    "translation_data['number_sense'] = translation_data['translation_set'].apply(lambda sense_list: len(sense_list))\n",
    "## lemmas\n",
    "def flattenTranslation(dataframe):\n",
    "    raw = dataframe['raw_translation_lemmas']\n",
    "    listTranslation = ast.literal_eval(raw)\n",
    "    processed = ''\n",
    "    for s in listTranslation:\n",
    "        processed += s\n",
    "    return processed\n",
    "translation_data['raw_translation_lemmas'] = translation_data.apply(flattenTranslation, axis=1)\n",
    "## Translation set\n",
    "translation_data['translation_lemmas_set'] = translation_data['raw_translation_lemmas'].apply(lambda translation_list: list(set(translation_list.split())))\n",
    "\n",
    "## Number, length\n",
    "translation_data['number_tranlsation_lemmas'] = translation_data['raw_translation_lemmas'].apply(lambda translation_list: len(translation_list.split()))\n",
    "translation_data['number_sense_lemmas'] = translation_data['translation_lemmas_set'].apply(lambda sense_list: len(sense_list))\n",
    "\n",
    "semantic_data = translation_data\n",
    "semantic_data"
   ],
   "metadata": {
    "collapsed": false,
    "pycharm": {
     "name": "#%%\n"
    },
    "trusted": false
   }
  },
  {
   "cell_type": "code",
   "execution_count": 7,
   "outputs": [],
   "source": [
    "base_feature = ['nrdirhypers_x',\n",
    "                'nrhypos_x',\n",
    "                'nrpartrels_normalised_x',\n",
    "                'depthfromtopsynset_normalised_x',\n",
    "                'glosslength_normalised_x',\n",
    "                'minwordlength_x',\n",
    "                'nroflemmas_x',\n",
    "                'polyscore_max_x']\n",
    "target = ['vote_x']"
   ],
   "metadata": {
    "collapsed": false,
    "pycharm": {
     "name": "#%%\n"
    },
    "trusted": false
   }
  },
  {
   "cell_type": "code",
   "execution_count": 8,
   "outputs": [],
   "source": [
    "def cueSet(dataframe):\n",
    "    translation_basic_level = dataframe.loc[dataframe['vote_x']=='b']['translation_lemmas_set']\n",
    "    translation_basic_level = translation_basic_level.reset_index()['translation_lemmas_set']\n",
    "    cue_set = set()\n",
    "    for trans in translation_basic_level:\n",
    "        cue_set = cue_set | set(trans)\n",
    "    cue_len = len(cue_set)\n",
    "\n",
    "    translation_non_basic_level = dataframe.loc[dataframe['vote_x']=='nb']['translation_lemmas_set']\n",
    "    translation_non_basic_level = translation_non_basic_level.reset_index()['translation_lemmas_set']\n",
    "    non_basic_level_cue_set = set()\n",
    "    for trans in translation_non_basic_level:\n",
    "        non_basic_level_cue_set = non_basic_level_cue_set | set(trans)\n",
    "\n",
    "    basic_level_and_cue = cue_set - non_basic_level_cue_set\n",
    "    basic_level_and_cue_len = len(basic_level_and_cue)\n",
    "    return cue_set, cue_len, basic_level_and_cue, basic_level_and_cue_len"
   ],
   "metadata": {
    "collapsed": false,
    "pycharm": {
     "name": "#%%\n"
    },
    "trusted": false
   }
  },
  {
   "cell_type": "code",
   "execution_count": 71,
   "outputs": [],
   "source": [
    "## Cue validity while training and testing\n",
    "def calCV(feature_list, cue_set, cue_len, basic_level_and_cue, basic_level_and_cue_len):\n",
    "    acc_cv = 0\n",
    "    bl_cue = 0\n",
    "    cue = 0\n",
    "    for feature in feature_list:\n",
    "        if feature in basic_level_and_cue:\n",
    "            bl_cue += 1\n",
    "        if feature in cue_set:\n",
    "            cue += 1\n",
    "    if bl_cue != 0:\n",
    "        p_bl_cue = comb(basic_level_and_cue_len, bl_cue)\n",
    "        p_cue = comb(cue_len, cue)\n",
    "        acc_cv = p_bl_cue/p_cue\n",
    "    return acc_cv\n"
   ],
   "metadata": {
    "collapsed": false,
    "pycharm": {
     "name": "#%%\n"
    },
    "trusted": false
   }
  },
  {
   "cell_type": "code",
   "execution_count": 9,
   "outputs": [],
   "source": [
    "## alternative\n",
    "def alt_calCV(feature_list, cue_set, cue_len, basic_level_and_cue, basic_level_and_cue_len):\n",
    "    acc_cv = 0\n",
    "    for feature in feature_list:\n",
    "        if feature in basic_level_and_cue:\n",
    "            ac = basic_level_and_cue_len / cue_len\n",
    "            acc_cv += ac\n",
    "    return acc_cv"
   ],
   "metadata": {
    "collapsed": false,
    "pycharm": {
     "name": "#%%\n"
    }
   }
  },
  {
   "cell_type": "markdown",
   "source": [
    "## GlobalModel Test"
   ],
   "metadata": {
    "collapsed": false
   }
  },
  {
   "cell_type": "code",
   "execution_count": 10,
   "outputs": [],
   "source": [
    "# split training set and testing set using K-Flod\n",
    "def global_model_test(dataset, feature, new, target):\n",
    "    K = 10\n",
    "    random_seed = 7 # R\n",
    "    data = dataset.reset_index()\n",
    "    comp = ['translation_lemmas_set', 'vote_x']\n",
    "    X = data[feature+comp+new]\n",
    "    y = data[target]\n",
    "\n",
    "    K_Flod = StratifiedKFold(n_splits=K, shuffle=True, random_state=random_seed)\n",
    "    K_Flod.get_n_splits(X, y)\n",
    "    cohen_kappa = []\n",
    "    balanced_acc = []\n",
    "    for train_index, test_index in K_Flod.split(X, y):\n",
    "        X_train, X_test = X.iloc[train_index], X.iloc[test_index]\n",
    "        y_train, y_test = y.iloc[train_index], y.iloc[test_index]\n",
    "\n",
    "        cue_set_train, cue_len_train, basic_level_and_cue_train, basic_level_and_cue_len_train = cueSet(X_train)\n",
    "        X_train['cv'] = X_train['translation_lemmas_set'].apply(lambda l: alt_calCV(l, cue_set_train, cue_len_train, basic_level_and_cue_train, basic_level_and_cue_len_train))\n",
    "        X_train = X_train.drop(comp, axis=1)\n",
    "        cue_set_test, cue_len_test, basic_level_and_cue_test, basic_level_and_cue_len_test = cueSet(X_test)\n",
    "        X_test['cv'] = X_test['translation_lemmas_set'].apply(lambda l: alt_calCV(l, cue_set_test, cue_len_test, basic_level_and_cue_test, basic_level_and_cue_len_test))\n",
    "        X_test = X_test.drop(comp, axis=1)\n",
    "\n",
    "        # SMOTE algorithm\n",
    "        smote = SMOTE(random_state=random_seed, k_neighbors=2)\n",
    "        X_train, y_train = smote.fit_resample(X_train, y_train)\n",
    "\n",
    "        # define random forest model\n",
    "        rf = RandomForestClassifier(random_state=random_seed, max_features='sqrt', n_estimators=1400, min_samples_split=2, min_samples_leaf=1, max_depth=50, oob_score=True, criterion='gini', bootstrap=True).fit(X_train, y_train)\n",
    "\n",
    "        # predict and make score\n",
    "        pipeline = make_pipeline(smote, rf)\n",
    "        y_pred = pipeline.predict(X_test)\n",
    "\n",
    "        kappa = cohen_kappa_score(y_test, y_pred)\n",
    "        cohen_kappa.append(kappa)\n",
    "        balanced_accuracy = balanced_accuracy_score(y_test, y_pred)\n",
    "        balanced_acc.append(balanced_accuracy)\n",
    "\n",
    "    results = []\n",
    "\n",
    "    results.append(np.mean(cohen_kappa))\n",
    "    results.append(np.mean(balanced_acc))\n",
    "\n",
    "    return results"
   ],
   "metadata": {
    "collapsed": false,
    "pycharm": {
     "name": "#%%\n"
    },
    "trusted": false
   }
  },
  {
   "cell_type": "code",
   "execution_count": 77,
   "outputs": [
    {
     "data": {
      "text/plain": "[0.6893847386406862, 0.8478374615336863]"
     },
     "execution_count": 77,
     "metadata": {},
     "output_type": "execute_result"
    }
   ],
   "source": [
    "global_model_test(semantic_data, base_feature, ['number_sense_lemmas'], target)"
   ],
   "metadata": {
    "collapsed": false,
    "pycharm": {
     "name": "#%%\n"
    },
    "trusted": false
   }
  },
  {
   "cell_type": "code",
   "execution_count": 11,
   "outputs": [
    {
     "data": {
      "text/plain": "[0.8807699243368668, 0.9549145981323329]"
     },
     "execution_count": 11,
     "metadata": {},
     "output_type": "execute_result"
    }
   ],
   "source": [
    "global_model_test(semantic_data, base_feature, ['number_sense_lemmas'], target)"
   ],
   "metadata": {
    "collapsed": false,
    "pycharm": {
     "name": "#%%\n"
    }
   }
  },
  {
   "cell_type": "markdown",
   "source": [
    "## LocalModel Test"
   ],
   "metadata": {
    "collapsed": false
   }
  },
  {
   "cell_type": "code",
   "execution_count": 12,
   "outputs": [],
   "source": [
    "# generate the local dataframe for different domains\n",
    "local_fruit = semantic_data.loc[semantic_data['domain_x']=='fruit']\n",
    "local_tool = semantic_data.loc[semantic_data['domain_x']=='tool']\n",
    "local_music = semantic_data.loc[semantic_data['domain_x']=='music']\n",
    "local_furniture = semantic_data.loc[semantic_data['domain_x']=='furn']\n",
    "local_garments = semantic_data.loc[semantic_data['domain_x']=='garm']\n",
    "\n",
    "local_list = [local_fruit, local_tool, local_music, local_furniture, local_garments]\n",
    "\n",
    "# average results of five domains\n",
    "def local_model_test(dataset_list, feature, new, target):\n",
    "    local_kappa_list = []\n",
    "    local_balancedAcc_list = []\n",
    "    for local_dataset in dataset_list:\n",
    "        result_list = global_model_test(local_dataset, feature, new, target)\n",
    "        local_kappa_list.append(result_list[0])\n",
    "        local_balancedAcc_list.append(result_list[1])\n",
    "\n",
    "    local_result_list = [np.mean(local_kappa_list), np.mean(local_balancedAcc_list)]\n",
    "    return local_result_list"
   ],
   "metadata": {
    "collapsed": false,
    "pycharm": {
     "name": "#%%\n"
    },
    "trusted": false
   }
  },
  {
   "cell_type": "code",
   "execution_count": 85,
   "outputs": [
    {
     "data": {
      "text/plain": "[0.7640620812741172, 0.8950135281385281]"
     },
     "execution_count": 85,
     "metadata": {},
     "output_type": "execute_result"
    }
   ],
   "source": [
    "local_model_test(local_list, base_feature, ['number_sense_lemmas'], target)"
   ],
   "metadata": {
    "collapsed": false,
    "pycharm": {
     "name": "#%%\n"
    },
    "trusted": false
   }
  },
  {
   "cell_type": "code",
   "execution_count": 13,
   "outputs": [
    {
     "data": {
      "text/plain": "[0.89768020147039, 0.952056277056277]"
     },
     "execution_count": 13,
     "metadata": {},
     "output_type": "execute_result"
    }
   ],
   "source": [
    "local_model_test(local_list, base_feature, ['number_sense_lemmas'], target)"
   ],
   "metadata": {
    "collapsed": false,
    "pycharm": {
     "name": "#%%\n"
    }
   }
  },
  {
   "cell_type": "markdown",
   "source": [
    "## TransferModel Test"
   ],
   "metadata": {
    "collapsed": false
   }
  },
  {
   "cell_type": "code",
   "execution_count": 14,
   "outputs": [],
   "source": [
    "# generate the unseen(transfer) dataframe for different domains\n",
    "unseen_fruit = semantic_data.loc[semantic_data['domain_x']!='fruit']\n",
    "unseen_tool = semantic_data.loc[semantic_data['domain_x']!='tool']\n",
    "unseen_music = semantic_data.loc[semantic_data['domain_x']!='music']\n",
    "unseen_furniture = semantic_data.loc[semantic_data['domain_x']!='furn']\n",
    "unseen_garments = semantic_data.loc[semantic_data['domain_x']!='garm']\n",
    "\n",
    "unseen_list = [unseen_fruit, unseen_tool, unseen_music, unseen_furniture, unseen_garments]\n",
    "\n",
    "def transfer_model_test(train_list, test_list, feature, new, target):\n",
    "    random_seed = 7 # R\n",
    "    transfer_kappa_list = []\n",
    "    transfer_balancedAcc_list = []\n",
    "    for counter in range(len(train_list)):\n",
    "        training_data = train_list[counter].reset_index()\n",
    "        testing_data = test_list[counter].reset_index()\n",
    "        comp = ['translation_lemmas_set', 'vote_x']\n",
    "        feature_list = feature + comp + new\n",
    "        X_train = training_data[feature_list]\n",
    "        y_train = training_data[target]\n",
    "        X_test = testing_data[feature_list]\n",
    "        y_test = testing_data[target]\n",
    "\n",
    "        cue_set_train, cue_len_train, basic_level_and_cue_train, basic_level_and_cue_len_train = cueSet(X_train)\n",
    "        X_train['cv'] = X_train['translation_lemmas_set'].apply(lambda l: alt_calCV(l, cue_set_train, cue_len_train, basic_level_and_cue_train, basic_level_and_cue_len_train))\n",
    "        X_train = X_train.drop(comp, axis=1)\n",
    "        cue_set_test, cue_len_test, basic_level_and_cue_test, basic_level_and_cue_len_test = cueSet(X_test)\n",
    "        X_test['cv'] = X_test['translation_lemmas_set'].apply(lambda l: alt_calCV(l, cue_set_test, cue_len_test, basic_level_and_cue_test, basic_level_and_cue_len_test))\n",
    "        X_test = X_test.drop(comp, axis=1)\n",
    "\n",
    "        # SMOTE algorithm\n",
    "        smote = SMOTE(random_state=random_seed, k_neighbors=2)\n",
    "        X_train, y_train = smote.fit_resample(X_train, y_train)\n",
    "\n",
    "        # define random forest model\n",
    "        rf = RandomForestClassifier(random_state=random_seed, max_features='sqrt', n_estimators=1400, min_samples_split=2, min_samples_leaf=1, max_depth=50, oob_score=True, criterion='gini', bootstrap=True).fit(X_train, y_train)\n",
    "\n",
    "        # predict and make score\n",
    "        pipeline = make_pipeline(smote, rf)\n",
    "        y_pred = pipeline.predict(X_test)\n",
    "\n",
    "        kappa = cohen_kappa_score(y_test, y_pred)\n",
    "        balanced_accuracy = balanced_accuracy_score(y_test, y_pred)\n",
    "\n",
    "        transfer_kappa_list.append(kappa)\n",
    "        transfer_balancedAcc_list.append(balanced_accuracy)\n",
    "\n",
    "    transfer_results = [np.mean(transfer_kappa_list), np.mean(transfer_balancedAcc_list)]\n",
    "\n",
    "    return transfer_results"
   ],
   "metadata": {
    "collapsed": false,
    "pycharm": {
     "name": "#%%\n"
    },
    "trusted": false
   }
  },
  {
   "cell_type": "code",
   "execution_count": 92,
   "outputs": [
    {
     "data": {
      "text/plain": "[0.5437985568770921, 0.8103873047096235]"
     },
     "execution_count": 92,
     "metadata": {},
     "output_type": "execute_result"
    }
   ],
   "source": [
    "transfer_model_test(unseen_list, local_list, base_feature, ['number_tranlsation_lemmas'], target)"
   ],
   "metadata": {
    "collapsed": false,
    "pycharm": {
     "name": "#%%\n"
    },
    "trusted": false
   }
  },
  {
   "cell_type": "code",
   "execution_count": 16,
   "outputs": [
    {
     "data": {
      "text/plain": "[0.7002119979627016, 0.8823192043829493]"
     },
     "execution_count": 16,
     "metadata": {},
     "output_type": "execute_result"
    }
   ],
   "source": [
    "transfer_model_test(unseen_list, local_list, base_feature, ['number_tranlsation_lemmas'], target)"
   ],
   "metadata": {
    "collapsed": false,
    "pycharm": {
     "name": "#%%\n"
    }
   }
  },
  {
   "cell_type": "code",
   "execution_count": 15,
   "outputs": [
    {
     "data": {
      "text/plain": "[0.7053558792446359, 0.8947769221355127]"
     },
     "execution_count": 15,
     "metadata": {},
     "output_type": "execute_result"
    }
   ],
   "source": [
    "transfer_model_test(unseen_list, local_list, base_feature, ['number_sense_lemmas'], target)"
   ],
   "metadata": {
    "collapsed": false,
    "pycharm": {
     "name": "#%%\n"
    }
   }
  }
 ],
 "metadata": {
  "kernelspec": {
   "display_name": "Python 3",
   "language": "python",
   "name": "python3"
  },
  "language_info": {
   "codemirror_mode": {
    "name": "ipython",
    "version": 2
   },
   "file_extension": ".py",
   "mimetype": "text/x-python",
   "name": "python",
   "nbconvert_exporter": "python",
   "pygments_lexer": "ipython2",
   "version": "2.7.6"
  }
 },
 "nbformat": 4,
 "nbformat_minor": 0
}