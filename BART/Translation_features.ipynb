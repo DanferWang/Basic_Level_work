{
 "cells": [
  {
   "cell_type": "code",
   "execution_count": 72,
   "metadata": {
    "collapsed": true,
    "trusted": false
   },
   "outputs": [],
   "source": [
    "import datasets\n",
    "import torch\n",
    "\n",
    "import pandas as pd\n",
    "\n",
    "from transformers import BartTokenizer"
   ]
  },
  {
   "cell_type": "markdown",
   "source": [
    "## English semantic features data"
   ],
   "metadata": {
    "collapsed": false
   }
  },
  {
   "cell_type": "code",
   "execution_count": 36,
   "outputs": [
    {
     "data": {
      "text/plain": "           cue translated\n0      abandon     desert\n1      abandon       give\n2      abandon      leave\n5      abandon         up\n6      abandon   withdraw\n...        ...        ...\n69271     true     honest\n69274     true       real\n69277     true      right\n69280     true      truth\n69283     true      false\n\n[42616 rows x 2 columns]",
      "text/html": "<div>\n<style scoped>\n    .dataframe tbody tr th:only-of-type {\n        vertical-align: middle;\n    }\n\n    .dataframe tbody tr th {\n        vertical-align: top;\n    }\n\n    .dataframe thead th {\n        text-align: right;\n    }\n</style>\n<table border=\"1\" class=\"dataframe\">\n  <thead>\n    <tr style=\"text-align: right;\">\n      <th></th>\n      <th>cue</th>\n      <th>translated</th>\n    </tr>\n  </thead>\n  <tbody>\n    <tr>\n      <th>0</th>\n      <td>abandon</td>\n      <td>desert</td>\n    </tr>\n    <tr>\n      <th>1</th>\n      <td>abandon</td>\n      <td>give</td>\n    </tr>\n    <tr>\n      <th>2</th>\n      <td>abandon</td>\n      <td>leave</td>\n    </tr>\n    <tr>\n      <th>5</th>\n      <td>abandon</td>\n      <td>up</td>\n    </tr>\n    <tr>\n      <th>6</th>\n      <td>abandon</td>\n      <td>withdraw</td>\n    </tr>\n    <tr>\n      <th>...</th>\n      <td>...</td>\n      <td>...</td>\n    </tr>\n    <tr>\n      <th>69271</th>\n      <td>true</td>\n      <td>honest</td>\n    </tr>\n    <tr>\n      <th>69274</th>\n      <td>true</td>\n      <td>real</td>\n    </tr>\n    <tr>\n      <th>69277</th>\n      <td>true</td>\n      <td>right</td>\n    </tr>\n    <tr>\n      <th>69280</th>\n      <td>true</td>\n      <td>truth</td>\n    </tr>\n    <tr>\n      <th>69283</th>\n      <td>true</td>\n      <td>false</td>\n    </tr>\n  </tbody>\n</table>\n<p>42616 rows × 2 columns</p>\n</div>"
     },
     "execution_count": 36,
     "metadata": {},
     "output_type": "execute_result"
    }
   ],
   "source": [
    "english_features_raw = pd.read_excel('./final_words_2017.xlsx')\n",
    "english_features = english_features_raw[['cue', 'translated']]\n",
    "english_features = english_features.drop_duplicates()\n",
    "english_features"
   ],
   "metadata": {
    "collapsed": false,
    "pycharm": {
     "name": "#%%\n"
    },
    "trusted": false
   }
  },
  {
   "cell_type": "markdown",
   "source": [
    "## BART pre-trained model"
   ],
   "metadata": {
    "collapsed": false
   }
  },
  {
   "cell_type": "code",
   "execution_count": 74,
   "outputs": [
    {
     "name": "stdout",
     "output_type": "stream",
     "text": [
      "[0, 31414, 232, 328, 2]\n"
     ]
    },
    {
     "data": {
      "text/plain": "'<s>Hello world!</s>'"
     },
     "execution_count": 74,
     "metadata": {},
     "output_type": "execute_result"
    }
   ],
   "source": [
    "bart = BartTokenizer.from_pretrained(\"facebook/bart-large\")\n",
    "\n",
    "token_test = bart.encode('Hello world!')\n",
    "print(token_test)\n",
    "bart.decode(token_test)"
   ],
   "metadata": {
    "collapsed": false,
    "pycharm": {
     "name": "#%%\n"
    }
   }
  }
 ],
 "metadata": {
  "kernelspec": {
   "display_name": "Python 3",
   "language": "python",
   "name": "python3"
  },
  "language_info": {
   "codemirror_mode": {
    "name": "ipython",
    "version": 2
   },
   "file_extension": ".py",
   "mimetype": "text/x-python",
   "name": "python",
   "nbconvert_exporter": "python",
   "pygments_lexer": "ipython2",
   "version": "2.7.6"
  }
 },
 "nbformat": 4,
 "nbformat_minor": 0
}