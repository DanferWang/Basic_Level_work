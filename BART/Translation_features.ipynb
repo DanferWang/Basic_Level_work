{
 "cells": [
  {
   "cell_type": "code",
   "execution_count": 165,
   "metadata": {
    "collapsed": true,
    "trusted": false
   },
   "outputs": [],
   "source": [
    "import datasets\n",
    "import torch\n",
    "\n",
    "import pandas as pd\n",
    "import numpy as np\n",
    "\n",
    "from sklearn.model_selection import train_test_split\n",
    "from transformers import BartTokenizer\n",
    "from transformers import AutoModelForSeq2SeqLM, DataCollatorForSeq2Seq, Seq2SeqTrainingArguments, Seq2SeqTrainer, AutoTokenizer\n",
    "\n",
    "import warnings\n",
    "warnings.filterwarnings(\"ignore\")"
   ]
  },
  {
   "cell_type": "code",
   "execution_count": 136,
   "outputs": [],
   "source": [
    "# only once run for download WordNet or update\n",
    "import nltk\n",
    "# nltk.download('wordnet', download_dir='./')\n",
    "nltk.data.path.append('../corpora_size')\n",
    "from nltk.corpus import wordnet as wn"
   ],
   "metadata": {
    "collapsed": false,
    "pycharm": {
     "name": "#%%\n"
    },
    "trusted": false
   }
  },
  {
   "cell_type": "markdown",
   "source": [
    "# One to One Generation"
   ],
   "metadata": {
    "collapsed": false
   }
  },
  {
   "cell_type": "markdown",
   "source": [
    "## English semantic features data"
   ],
   "metadata": {
    "collapsed": false
   }
  },
  {
   "cell_type": "code",
   "execution_count": 166,
   "outputs": [
    {
     "data": {
      "text/plain": "           cue translated\n0      abandon     desert\n1      abandon       give\n2      abandon      leave\n5      abandon         up\n6      abandon   withdraw\n...        ...        ...\n69271     true     honest\n69274     true       real\n69277     true      right\n69280     true      truth\n69283     true      false\n\n[42616 rows x 2 columns]",
      "text/html": "<div>\n<style scoped>\n    .dataframe tbody tr th:only-of-type {\n        vertical-align: middle;\n    }\n\n    .dataframe tbody tr th {\n        vertical-align: top;\n    }\n\n    .dataframe thead th {\n        text-align: right;\n    }\n</style>\n<table border=\"1\" class=\"dataframe\">\n  <thead>\n    <tr style=\"text-align: right;\">\n      <th></th>\n      <th>cue</th>\n      <th>translated</th>\n    </tr>\n  </thead>\n  <tbody>\n    <tr>\n      <th>0</th>\n      <td>abandon</td>\n      <td>desert</td>\n    </tr>\n    <tr>\n      <th>1</th>\n      <td>abandon</td>\n      <td>give</td>\n    </tr>\n    <tr>\n      <th>2</th>\n      <td>abandon</td>\n      <td>leave</td>\n    </tr>\n    <tr>\n      <th>5</th>\n      <td>abandon</td>\n      <td>up</td>\n    </tr>\n    <tr>\n      <th>6</th>\n      <td>abandon</td>\n      <td>withdraw</td>\n    </tr>\n    <tr>\n      <th>...</th>\n      <td>...</td>\n      <td>...</td>\n    </tr>\n    <tr>\n      <th>69271</th>\n      <td>true</td>\n      <td>honest</td>\n    </tr>\n    <tr>\n      <th>69274</th>\n      <td>true</td>\n      <td>real</td>\n    </tr>\n    <tr>\n      <th>69277</th>\n      <td>true</td>\n      <td>right</td>\n    </tr>\n    <tr>\n      <th>69280</th>\n      <td>true</td>\n      <td>truth</td>\n    </tr>\n    <tr>\n      <th>69283</th>\n      <td>true</td>\n      <td>false</td>\n    </tr>\n  </tbody>\n</table>\n<p>42616 rows × 2 columns</p>\n</div>"
     },
     "execution_count": 166,
     "metadata": {},
     "output_type": "execute_result"
    }
   ],
   "source": [
    "english_features_raw = pd.read_excel('./final_words_2017.xlsx')\n",
    "english_features = english_features_raw[['cue', 'translated']]\n",
    "english_features = english_features.drop_duplicates()\n",
    "english_features"
   ],
   "metadata": {
    "collapsed": false,
    "pycharm": {
     "name": "#%%\n"
    },
    "trusted": false
   }
  },
  {
   "cell_type": "code",
   "execution_count": 71,
   "outputs": [
    {
     "data": {
      "text/plain": "      where      cue     feature translated  frequency_feature  \\\n0         b  abandon      desert     desert                  9   \n1         b  abandon        give       give                 19   \n2         b  abandon       leave      leave                 26   \n3         b  abandon     leaving      leave                  1   \n4         b  abandon        left      leave                  5   \n...     ...      ...         ...        ...                ...   \n69279     b     true     rightly      right                  1   \n69280     b     true       truth      truth                 10   \n69281     b     true  unfaithful      faith                  1   \n69282     b     true      unreal       real                  1   \n69283     b     true       false      false                 19   \n\n       frequency_translated   n  normalized_feature  normalized_translated  \\\n0                         9  60           15.000000              15.000000   \n1                        19  60           31.666667              31.666667   \n2                        32  60           43.333333              53.333333   \n3                        32  60            1.666667              53.333333   \n4                        32  60            8.333333              53.333333   \n...                     ...  ..                 ...                    ...   \n69279                    21  60            1.666667              35.000000   \n69280                    10  60           16.666667              16.666667   \n69281                    13  60            1.666667              21.666667   \n69282                    57  60            1.666667              95.000000   \n69283                    19  60           31.666667              31.666667   \n\n         pos_cue pos_feature pos_translated                  a1  \\\n0           verb        noun           noun                   0   \n1           verb        verb           verb                   0   \n2           verb        verb           verb                   0   \n3           verb        verb           verb  present_participle   \n4           verb   adjective           verb          past_tense   \n...          ...         ...            ...                 ...   \n69279  adjective   adjective      adjective      characteristic   \n69280  adjective        noun           noun                   0   \n69281  adjective   adjective           noun                 not   \n69282  adjective   adjective      adjective                 not   \n69283  adjective   adjective      adjective                   0   \n\n                   a2 a3    FSG    BSG word_list  school_code  \n0                   0  0    NaN    NaN     mturk          4.0  \n1                   0  0    NaN    NaN     mturk          4.0  \n2                   0  0    NaN    NaN     mturk          4.0  \n3                   0  0    NaN    NaN     mturk          4.0  \n4                   0  0    NaN    NaN     mturk          4.0  \n...               ... ..    ...    ...       ...          ...  \n69279               0  0  0.014  0.000     mturk          4.0  \n69280               0  0    NaN    NaN     mturk          4.0  \n69281  characteristic  0  0.014  0.000     mturk          4.0  \n69282               0  0  0.021  0.043     mturk          4.0  \n69283               0  0  0.531  0.703     mturk          4.0  \n\n[69284 rows x 19 columns]",
      "text/html": "<div>\n<style scoped>\n    .dataframe tbody tr th:only-of-type {\n        vertical-align: middle;\n    }\n\n    .dataframe tbody tr th {\n        vertical-align: top;\n    }\n\n    .dataframe thead th {\n        text-align: right;\n    }\n</style>\n<table border=\"1\" class=\"dataframe\">\n  <thead>\n    <tr style=\"text-align: right;\">\n      <th></th>\n      <th>where</th>\n      <th>cue</th>\n      <th>feature</th>\n      <th>translated</th>\n      <th>frequency_feature</th>\n      <th>frequency_translated</th>\n      <th>n</th>\n      <th>normalized_feature</th>\n      <th>normalized_translated</th>\n      <th>pos_cue</th>\n      <th>pos_feature</th>\n      <th>pos_translated</th>\n      <th>a1</th>\n      <th>a2</th>\n      <th>a3</th>\n      <th>FSG</th>\n      <th>BSG</th>\n      <th>word_list</th>\n      <th>school_code</th>\n    </tr>\n  </thead>\n  <tbody>\n    <tr>\n      <th>0</th>\n      <td>b</td>\n      <td>abandon</td>\n      <td>desert</td>\n      <td>desert</td>\n      <td>9</td>\n      <td>9</td>\n      <td>60</td>\n      <td>15.000000</td>\n      <td>15.000000</td>\n      <td>verb</td>\n      <td>noun</td>\n      <td>noun</td>\n      <td>0</td>\n      <td>0</td>\n      <td>0</td>\n      <td>NaN</td>\n      <td>NaN</td>\n      <td>mturk</td>\n      <td>4.0</td>\n    </tr>\n    <tr>\n      <th>1</th>\n      <td>b</td>\n      <td>abandon</td>\n      <td>give</td>\n      <td>give</td>\n      <td>19</td>\n      <td>19</td>\n      <td>60</td>\n      <td>31.666667</td>\n      <td>31.666667</td>\n      <td>verb</td>\n      <td>verb</td>\n      <td>verb</td>\n      <td>0</td>\n      <td>0</td>\n      <td>0</td>\n      <td>NaN</td>\n      <td>NaN</td>\n      <td>mturk</td>\n      <td>4.0</td>\n    </tr>\n    <tr>\n      <th>2</th>\n      <td>b</td>\n      <td>abandon</td>\n      <td>leave</td>\n      <td>leave</td>\n      <td>26</td>\n      <td>32</td>\n      <td>60</td>\n      <td>43.333333</td>\n      <td>53.333333</td>\n      <td>verb</td>\n      <td>verb</td>\n      <td>verb</td>\n      <td>0</td>\n      <td>0</td>\n      <td>0</td>\n      <td>NaN</td>\n      <td>NaN</td>\n      <td>mturk</td>\n      <td>4.0</td>\n    </tr>\n    <tr>\n      <th>3</th>\n      <td>b</td>\n      <td>abandon</td>\n      <td>leaving</td>\n      <td>leave</td>\n      <td>1</td>\n      <td>32</td>\n      <td>60</td>\n      <td>1.666667</td>\n      <td>53.333333</td>\n      <td>verb</td>\n      <td>verb</td>\n      <td>verb</td>\n      <td>present_participle</td>\n      <td>0</td>\n      <td>0</td>\n      <td>NaN</td>\n      <td>NaN</td>\n      <td>mturk</td>\n      <td>4.0</td>\n    </tr>\n    <tr>\n      <th>4</th>\n      <td>b</td>\n      <td>abandon</td>\n      <td>left</td>\n      <td>leave</td>\n      <td>5</td>\n      <td>32</td>\n      <td>60</td>\n      <td>8.333333</td>\n      <td>53.333333</td>\n      <td>verb</td>\n      <td>adjective</td>\n      <td>verb</td>\n      <td>past_tense</td>\n      <td>0</td>\n      <td>0</td>\n      <td>NaN</td>\n      <td>NaN</td>\n      <td>mturk</td>\n      <td>4.0</td>\n    </tr>\n    <tr>\n      <th>...</th>\n      <td>...</td>\n      <td>...</td>\n      <td>...</td>\n      <td>...</td>\n      <td>...</td>\n      <td>...</td>\n      <td>...</td>\n      <td>...</td>\n      <td>...</td>\n      <td>...</td>\n      <td>...</td>\n      <td>...</td>\n      <td>...</td>\n      <td>...</td>\n      <td>...</td>\n      <td>...</td>\n      <td>...</td>\n      <td>...</td>\n      <td>...</td>\n    </tr>\n    <tr>\n      <th>69279</th>\n      <td>b</td>\n      <td>true</td>\n      <td>rightly</td>\n      <td>right</td>\n      <td>1</td>\n      <td>21</td>\n      <td>60</td>\n      <td>1.666667</td>\n      <td>35.000000</td>\n      <td>adjective</td>\n      <td>adjective</td>\n      <td>adjective</td>\n      <td>characteristic</td>\n      <td>0</td>\n      <td>0</td>\n      <td>0.014</td>\n      <td>0.000</td>\n      <td>mturk</td>\n      <td>4.0</td>\n    </tr>\n    <tr>\n      <th>69280</th>\n      <td>b</td>\n      <td>true</td>\n      <td>truth</td>\n      <td>truth</td>\n      <td>10</td>\n      <td>10</td>\n      <td>60</td>\n      <td>16.666667</td>\n      <td>16.666667</td>\n      <td>adjective</td>\n      <td>noun</td>\n      <td>noun</td>\n      <td>0</td>\n      <td>0</td>\n      <td>0</td>\n      <td>NaN</td>\n      <td>NaN</td>\n      <td>mturk</td>\n      <td>4.0</td>\n    </tr>\n    <tr>\n      <th>69281</th>\n      <td>b</td>\n      <td>true</td>\n      <td>unfaithful</td>\n      <td>faith</td>\n      <td>1</td>\n      <td>13</td>\n      <td>60</td>\n      <td>1.666667</td>\n      <td>21.666667</td>\n      <td>adjective</td>\n      <td>adjective</td>\n      <td>noun</td>\n      <td>not</td>\n      <td>characteristic</td>\n      <td>0</td>\n      <td>0.014</td>\n      <td>0.000</td>\n      <td>mturk</td>\n      <td>4.0</td>\n    </tr>\n    <tr>\n      <th>69282</th>\n      <td>b</td>\n      <td>true</td>\n      <td>unreal</td>\n      <td>real</td>\n      <td>1</td>\n      <td>57</td>\n      <td>60</td>\n      <td>1.666667</td>\n      <td>95.000000</td>\n      <td>adjective</td>\n      <td>adjective</td>\n      <td>adjective</td>\n      <td>not</td>\n      <td>0</td>\n      <td>0</td>\n      <td>0.021</td>\n      <td>0.043</td>\n      <td>mturk</td>\n      <td>4.0</td>\n    </tr>\n    <tr>\n      <th>69283</th>\n      <td>b</td>\n      <td>true</td>\n      <td>false</td>\n      <td>false</td>\n      <td>19</td>\n      <td>19</td>\n      <td>60</td>\n      <td>31.666667</td>\n      <td>31.666667</td>\n      <td>adjective</td>\n      <td>adjective</td>\n      <td>adjective</td>\n      <td>0</td>\n      <td>0</td>\n      <td>0</td>\n      <td>0.531</td>\n      <td>0.703</td>\n      <td>mturk</td>\n      <td>4.0</td>\n    </tr>\n  </tbody>\n</table>\n<p>69284 rows × 19 columns</p>\n</div>"
     },
     "execution_count": 71,
     "metadata": {},
     "output_type": "execute_result"
    }
   ],
   "source": [
    "english_features_raw"
   ],
   "metadata": {
    "collapsed": false,
    "pycharm": {
     "name": "#%%\n"
    },
    "trusted": false
   }
  },
  {
   "cell_type": "code",
   "execution_count": 72,
   "outputs": [
    {
     "data": {
      "text/plain": "              cue translated\n39338   mink_coat      black\n22236      esteem     person\n30944   hindsight       look\n3474        aware       wake\n5176         belt        fat\n...           ...        ...\n41123        neck       thin\n62870      tiptoe        toe\n33707    jealousy      covet\n24802        flap       open\n48393  punishment      crime\n\n[8524 rows x 2 columns]",
      "text/html": "<div>\n<style scoped>\n    .dataframe tbody tr th:only-of-type {\n        vertical-align: middle;\n    }\n\n    .dataframe tbody tr th {\n        vertical-align: top;\n    }\n\n    .dataframe thead th {\n        text-align: right;\n    }\n</style>\n<table border=\"1\" class=\"dataframe\">\n  <thead>\n    <tr style=\"text-align: right;\">\n      <th></th>\n      <th>cue</th>\n      <th>translated</th>\n    </tr>\n  </thead>\n  <tbody>\n    <tr>\n      <th>39338</th>\n      <td>mink_coat</td>\n      <td>black</td>\n    </tr>\n    <tr>\n      <th>22236</th>\n      <td>esteem</td>\n      <td>person</td>\n    </tr>\n    <tr>\n      <th>30944</th>\n      <td>hindsight</td>\n      <td>look</td>\n    </tr>\n    <tr>\n      <th>3474</th>\n      <td>aware</td>\n      <td>wake</td>\n    </tr>\n    <tr>\n      <th>5176</th>\n      <td>belt</td>\n      <td>fat</td>\n    </tr>\n    <tr>\n      <th>...</th>\n      <td>...</td>\n      <td>...</td>\n    </tr>\n    <tr>\n      <th>41123</th>\n      <td>neck</td>\n      <td>thin</td>\n    </tr>\n    <tr>\n      <th>62870</th>\n      <td>tiptoe</td>\n      <td>toe</td>\n    </tr>\n    <tr>\n      <th>33707</th>\n      <td>jealousy</td>\n      <td>covet</td>\n    </tr>\n    <tr>\n      <th>24802</th>\n      <td>flap</td>\n      <td>open</td>\n    </tr>\n    <tr>\n      <th>48393</th>\n      <td>punishment</td>\n      <td>crime</td>\n    </tr>\n  </tbody>\n</table>\n<p>8524 rows × 2 columns</p>\n</div>"
     },
     "execution_count": 72,
     "metadata": {},
     "output_type": "execute_result"
    }
   ],
   "source": [
    "# split training set and validation set\n",
    "split_ratio = 0.8\n",
    "random_seed = 7 # R\n",
    "\n",
    "training_set, validation_set = train_test_split(english_features, train_size=split_ratio, random_state=random_seed)\n",
    "\n",
    "validation_set"
   ],
   "metadata": {
    "collapsed": false,
    "pycharm": {
     "name": "#%%\n"
    },
    "trusted": false
   }
  },
  {
   "cell_type": "code",
   "execution_count": 73,
   "outputs": [
    {
     "data": {
      "text/plain": "[{'cue': 'mink_coat', 'translated': 'black'},\n {'cue': 'esteem', 'translated': 'person'},\n {'cue': 'hindsight', 'translated': 'look'},\n {'cue': 'aware', 'translated': 'wake'},\n {'cue': 'belt', 'translated': 'fat'},\n {'cue': 'advise', 'translated': 'guide'},\n {'cue': 'roof', 'translated': 'sun'},\n {'cue': 'cliff', 'translated': 'edge'},\n {'cue': 'swerve', 'translated': 'car'},\n {'cue': 'cavern', 'translated': 'ground'},\n {'cue': 'seagull', 'translated': 'fly'},\n {'cue': 'ox', 'translated': 'leg'},\n {'cue': 'cone', 'translated': 'ice'},\n {'cue': 'goldfish', 'translated': 'fin'},\n {'cue': 'north', 'translated': 'compass'},\n {'cue': 'dress', 'translated': 'cover'},\n {'cue': 'caress', 'translated': 'soft'},\n {'cue': 'vulture', 'translated': 'wing'},\n {'cue': 'malt', 'translated': 'chocolate'},\n {'cue': 'prom', 'translated': 'dress'},\n {'cue': 'build', 'translated': 'produce'},\n {'cue': 'challenge', 'translated': 'force'},\n {'cue': 'channel', 'translated': 'water'},\n {'cue': 'hurt', 'translated': 'break'},\n {'cue': 'glory', 'translated': 'honor'},\n {'cue': 'sawhorse', 'translated': 'saw'},\n {'cue': 'ageless', 'translated': 'old'},\n {'cue': 'enrage', 'translated': 'mad'},\n {'cue': 'blood', 'translated': 'red'},\n {'cue': 'gone', 'translated': 'here'},\n {'cue': 'platypus', 'translated': 'web'},\n {'cue': 'immediate', 'translated': 'right'},\n {'cue': 'rhubarb', 'translated': 'crunch'},\n {'cue': 'cheese', 'translated': 'swiss'},\n {'cue': 'legs', 'translated': 'walk'},\n {'cue': 'craft', 'translated': 'hand'},\n {'cue': 'kill', 'translated': 'consequence'},\n {'cue': 'cricket', 'translated': 'game'},\n {'cue': 'snack', 'translated': 'meal'},\n {'cue': 'gag', 'translated': 'joke'},\n {'cue': 'jet', 'translated': 'wheel'},\n {'cue': 'giving', 'translated': 'person'},\n {'cue': 'mine', 'translated': 'coal'},\n {'cue': 'ice', 'translated': 'clear'},\n {'cue': 'mandarin', 'translated': 'small'},\n {'cue': 'slippery', 'translated': 'slick'},\n {'cue': 'storm', 'translated': 'lightning'},\n {'cue': 'coat', 'translated': 'wear'},\n {'cue': 'place', 'translated': 'throw'},\n {'cue': 'rap', 'translated': 'rhyme'},\n {'cue': 'ankle', 'translated': 'bend'},\n {'cue': 'bookcase', 'translated': 'metal'},\n {'cue': 'manipulative', 'translated': 'trick'},\n {'cue': 'candle', 'translated': 'decorate'},\n {'cue': 'castle', 'translated': 'large'},\n {'cue': 'chisel', 'translated': 'scrape'},\n {'cue': 'leather', 'translated': 'soft'},\n {'cue': 'stew', 'translated': 'meat'},\n {'cue': 'football', 'translated': 'wobble'},\n {'cue': 'canoe', 'translated': 'indian'},\n {'cue': 'attach', 'translated': 'glue'},\n {'cue': 'stocking', 'translated': 'nylon'},\n {'cue': 'construction', 'translated': 'material'},\n {'cue': 'hypnotize', 'translated': 'control'},\n {'cue': 'pieces', 'translated': 'part'},\n {'cue': 'drag', 'translated': 'effort'},\n {'cue': 'gallop', 'translated': 'move'},\n {'cue': 'gum', 'translated': 'chew'},\n {'cue': 'inferno', 'translated': 'burn'},\n {'cue': 'idiot', 'translated': 'fool'},\n {'cue': 'tiger', 'translated': 'circus'},\n {'cue': 'pine', 'translated': 'smell'},\n {'cue': 'chirp', 'translated': 'insect'},\n {'cue': 'copper', 'translated': 'metal'},\n {'cue': 'selection', 'translated': 'pick'},\n {'cue': 'clarinet', 'translated': 'reed'},\n {'cue': 'guardian', 'translated': 'over'},\n {'cue': 'crackle', 'translated': 'yellow'},\n {'cue': 'surfboard', 'translated': 'ocean'},\n {'cue': 'selfish', 'translated': 'want'},\n {'cue': 'drag', 'translated': 'verb'},\n {'cue': 'send', 'translated': 'time'},\n {'cue': 'tie', 'translated': 'man'},\n {'cue': 'wade', 'translated': 'motion'},\n {'cue': 'cell', 'translated': 'wall'},\n {'cue': 'rabbit', 'translated': 'garden'},\n {'cue': 'car', 'translated': 'move'},\n {'cue': 'twelve', 'translated': 'thirteen'},\n {'cue': 'inexpensive', 'translated': 'sale'},\n {'cue': 'knowledge', 'translated': 'school'},\n {'cue': 'right', 'translated': 'opposite'},\n {'cue': 'push', 'translated': 'anger'},\n {'cue': 'vegetables', 'translated': 'health'},\n {'cue': 'cucumber', 'translated': 'hard'},\n {'cue': 'sorry', 'translated': 'regret'},\n {'cue': 'medium', 'translated': 'average'},\n {'cue': 'convent', 'translated': 'pray'},\n {'cue': 'tremble', 'translated': 'fast'},\n {'cue': 'trousers', 'translated': 'zip'},\n {'cue': 'rental', 'translated': 'pay'},\n {'cue': 'banquet', 'translated': 'feast'},\n {'cue': 'justify', 'translated': 'act'},\n {'cue': 'chunk', 'translated': 'portion'},\n {'cue': 'bedrooms', 'translated': 'house'},\n {'cue': 'outrageous', 'translated': 'shock'},\n {'cue': 'gorilla', 'translated': 'strong'},\n {'cue': 'breakable', 'translated': 'ease'},\n {'cue': 'past', 'translated': 'present'},\n {'cue': 'rung', 'translated': 'tense'},\n {'cue': 'grape', 'translated': 'wine'},\n {'cue': 'jewelry', 'translated': 'diamond'},\n {'cue': 'field', 'translated': 'sport'},\n {'cue': 'pencil', 'translated': 'point'},\n {'cue': 'map', 'translated': 'show'},\n {'cue': 'orange', 'translated': 'c'},\n {'cue': 'boat', 'translated': 'open'},\n {'cue': 'beginner', 'translated': 'start'},\n {'cue': 'predict', 'translated': 'happen'},\n {'cue': 'sorority', 'translated': 'party'},\n {'cue': 'shirt', 'translated': 't'},\n {'cue': 'eat', 'translated': 'breakfast'},\n {'cue': 'gorilla', 'translated': 'animal'},\n {'cue': 'mister', 'translated': 'man'},\n {'cue': 'sneakers', 'translated': 'sole'},\n {'cue': 'must', 'translated': 'require'},\n {'cue': 'sap', 'translated': 'syrup'},\n {'cue': 'driving', 'translated': 'vehicle'},\n {'cue': 'oven', 'translated': 'broil'},\n {'cue': 'mittens', 'translated': 'pair'},\n {'cue': 'unsolved', 'translated': 'answer'},\n {'cue': 'cancer', 'translated': 'cause'},\n {'cue': 'mackerel', 'translated': 'water'},\n {'cue': 'give', 'translated': 'present'},\n {'cue': 'whip', 'translated': 'weapon'},\n {'cue': 'amaze', 'translated': 'awe'},\n {'cue': 'strict', 'translated': 'rule'},\n {'cue': 'ghetto', 'translated': 'black'},\n {'cue': 'alcohol', 'translated': 'drink'},\n {'cue': 'dealer', 'translated': 'person'},\n {'cue': 'prejudice', 'translated': 'hate'},\n {'cue': 'preach', 'translated': 'move'},\n {'cue': 'blink', 'translated': 'blind'},\n {'cue': 'fiber', 'translated': 'digest'},\n {'cue': 'company', 'translated': 'organize'},\n {'cue': 'klutz', 'translated': 'fall'},\n {'cue': 'stagger', 'translated': 'sick'},\n {'cue': 'inferior', 'translated': 'low'},\n {'cue': 'smile', 'translated': 'nice'},\n {'cue': 'caterpillar', 'translated': 'leg'},\n {'cue': 'salamander', 'translated': 'long'},\n {'cue': 'joint', 'translated': 'together'},\n {'cue': 'suburb', 'translated': 'city'},\n {'cue': 'roses', 'translated': 'good'},\n {'cue': 'handicap', 'translated': 'able'},\n {'cue': 'bookcase', 'translated': 'library'},\n {'cue': 'reef', 'translated': 'fish'},\n {'cue': 'unemployment', 'translated': 'fire'},\n {'cue': 'goal', 'translated': 'term'},\n {'cue': 'brush', 'translated': 'wood'},\n {'cue': 'goat', 'translated': 'zoo'},\n {'cue': 'drain', 'translated': 'bathtub'},\n {'cue': 'gift', 'translated': 'give'},\n {'cue': 'motor', 'translated': 'power'},\n {'cue': 'production', 'translated': 'create'},\n {'cue': 'match', 'translated': 'sport'},\n {'cue': 'shoe', 'translated': 'human'},\n {'cue': 'garage', 'translated': 'junk'},\n {'cue': 'rocket', 'translated': 'moon'},\n {'cue': 'bleed', 'translated': 'open'},\n {'cue': 'warmup', 'translated': 'before'},\n {'cue': 'jello', 'translated': 'gelatin'},\n {'cue': 'writing', 'translated': 'pencil'},\n {'cue': 'onion', 'translated': 'human'},\n {'cue': 'submarine', 'translated': 'war'},\n {'cue': 'authority', 'translated': 'lead'},\n {'cue': 'grandpa', 'translated': 'father'},\n {'cue': 'coat', 'translated': 'wind'},\n {'cue': 'pitcher', 'translated': 'pour'},\n {'cue': 'slap', 'translated': 'human'},\n {'cue': 'vehicle', 'translated': 'drive'},\n {'cue': 'klutz', 'translated': 'hurt'},\n {'cue': 'clothes', 'translated': 'jean'},\n {'cue': 'tent', 'translated': 'outdoor'},\n {'cue': 'ribs', 'translated': 'mess'},\n {'cue': 'carrot', 'translated': 'root'},\n {'cue': 'sing', 'translated': 'beauty'},\n {'cue': 'smart', 'translated': 'quick'},\n {'cue': 'sofa', 'translated': 'good'},\n {'cue': 'stomach', 'translated': 'abdomen'},\n {'cue': 'continent', 'translated': 'water'},\n {'cue': 'seashore', 'translated': 'sand'},\n {'cue': 'coke', 'translated': 'beverage'},\n {'cue': 'print', 'translated': 'paper'},\n {'cue': 'whine', 'translated': 'express'},\n {'cue': 'chromosomes', 'translated': 'male'},\n {'cue': 'vent', 'translated': 'heat'},\n {'cue': 'retch', 'translated': 'smell'},\n {'cue': 'sport', 'translated': 'game'},\n {'cue': 'clothes', 'translated': 'differ'},\n {'cue': 'pan', 'translated': 'stove'},\n {'cue': 'hiccup', 'translated': 'loud'},\n {'cue': 'split', 'translated': 'separate'},\n {'cue': 'lake', 'translated': 'water'},\n {'cue': 'definitive', 'translated': 'final'},\n {'cue': 'area', 'translated': 'place'},\n {'cue': 'niece', 'translated': 'family'},\n {'cue': 'christmas', 'translated': 'december'},\n {'cue': 'england', 'translated': 'country'},\n {'cue': 'tray', 'translated': 'wait'},\n {'cue': 'brandy', 'translated': 'liquor'},\n {'cue': 'synopsis', 'translated': 'short'},\n {'cue': 'profound', 'translated': 'know'},\n {'cue': 'admission', 'translated': 'allow'},\n {'cue': 'mole_animal', 'translated': 'hair'},\n {'cue': 'exercise', 'translated': 'ups'},\n {'cue': 'shoot', 'translated': 'bullet'},\n {'cue': 'brush', 'translated': 'something'},\n {'cue': 'limp', 'translated': 'hurt'},\n {'cue': 'acre', 'translated': 'piece'},\n {'cue': 'sing', 'translated': 'emotion'},\n {'cue': 'drapes', 'translated': 'private'},\n {'cue': 'worthless', 'translated': 'garbage'},\n {'cue': 'suit', 'translated': 'pants'},\n {'cue': 'walrus', 'translated': 'tusk'},\n {'cue': 'lift', 'translated': 'power'},\n {'cue': 'healthy', 'translated': 'good'},\n {'cue': 'trail', 'translated': 'hike'},\n {'cue': 'hospital', 'translated': 'provide'},\n {'cue': 'family', 'translated': 'close'},\n {'cue': 'eureka', 'translated': 'vacuum'},\n {'cue': 'buck', 'translated': 'deer'},\n {'cue': 'leather', 'translated': 'seat'},\n {'cue': 'mile', 'translated': 'foot'},\n {'cue': 'leader', 'translated': 'good'},\n {'cue': 'button', 'translated': 'fasten'},\n {'cue': 'willing', 'translated': 'give'},\n {'cue': 'bike', 'translated': 'brake'},\n {'cue': 'compute', 'translated': 'understand'},\n {'cue': 'cobbler', 'translated': 'make'},\n {'cue': 'yard', 'translated': 'mow'},\n {'cue': 'height', 'translated': 'distant'},\n {'cue': 'classless', 'translated': 'trash'},\n {'cue': 'surgeon', 'translated': 'surgery'},\n {'cue': 'vulture', 'translated': 'ugly'},\n {'cue': 'shovel', 'translated': 'back'},\n {'cue': 'lantern', 'translated': 'fashion'},\n {'cue': 'most', 'translated': 'more'},\n {'cue': 'return', 'translated': 'approach'},\n {'cue': 'instant', 'translated': 'quick'},\n {'cue': 'pious', 'translated': 'god'},\n {'cue': 'gully', 'translated': 'valley'},\n {'cue': 'cowboy', 'translated': 'country'},\n {'cue': 'oasis', 'translated': 'refuge'},\n {'cue': 'raisin', 'translated': 'yellow'},\n {'cue': 'look', 'translated': 'animal'},\n {'cue': 'couple', 'translated': 'two'},\n {'cue': 'cabbage', 'translated': 'ground'},\n {'cue': 'push', 'translated': 'threat'},\n {'cue': 'immortal', 'translated': 'forever'},\n {'cue': 'rack', 'translated': 'metal'},\n {'cue': 'hallway', 'translated': 'hall'},\n {'cue': 'airplane', 'translated': 'huge'},\n {'cue': 'collar', 'translated': 'tag'},\n {'cue': 'bitch', 'translated': 'female'},\n {'cue': 'scandalous', 'translated': 'act'},\n {'cue': 'send', 'translated': 'something'},\n {'cue': 'homework', 'translated': 'class'},\n {'cue': 'bondage', 'translated': 'act'},\n {'cue': 'onion', 'translated': 'eye'},\n {'cue': 'animal', 'translated': 'mammal'},\n {'cue': 'hop', 'translated': 'foot'},\n {'cue': 'minor', 'translated': 'important'},\n {'cue': 'kinetic', 'translated': 'motion'},\n {'cue': 'secretary', 'translated': 'office'},\n {'cue': 'dive', 'translated': 'water'},\n {'cue': 'siren', 'translated': 'warn'},\n {'cue': 'tweezers', 'translated': 'appear'},\n {'cue': 'lightning', 'translated': 'come'},\n {'cue': 'deaf', 'translated': 'person'},\n {'cue': 'doe', 'translated': 'deer'},\n {'cue': 'feather', 'translated': 'object'},\n {'cue': 'shortcake', 'translated': 'dessert'},\n {'cue': 'folly', 'translated': 'mistake'},\n {'cue': 'step', 'translated': 'game'},\n {'cue': 'coyote', 'translated': 'hunt'},\n {'cue': 'angel', 'translated': 'person'},\n {'cue': 'toothbrush', 'translated': 'water'},\n {'cue': 'oligarchy', 'translated': 'govern'},\n {'cue': 'halt', 'translated': 'annoy'},\n {'cue': 'astronaut', 'translated': 'train'},\n {'cue': 'hug', 'translated': 'embrace'},\n {'cue': 'county', 'translated': 'area'},\n {'cue': 'culture', 'translated': 'way'},\n {'cue': 'conservative', 'translated': 'change'},\n {'cue': 'issue', 'translated': 'situate'},\n {'cue': 'happy', 'translated': 'love'},\n {'cue': 'restriction', 'translated': 'allow'},\n {'cue': 'delicate', 'translated': 'fragile'},\n {'cue': 'closed', 'translated': 'open'},\n {'cue': 'stripes', 'translated': 'flag'},\n {'cue': 'loss', 'translated': 'human'},\n {'cue': 'employer', 'translated': 'person'},\n {'cue': 'designer', 'translated': 'create'},\n {'cue': 'elimination', 'translated': 'rid'},\n {'cue': 'slay', 'translated': 'murder'},\n {'cue': 'robin', 'translated': 'worm'},\n {'cue': 'march', 'translated': 'arm'},\n {'cue': 'saucer', 'translated': 'dish'},\n {'cue': 'feather', 'translated': 'protect'},\n {'cue': 'bud', 'translated': 'friend'},\n {'cue': 'vast', 'translated': 'wide'},\n {'cue': 'isolated', 'translated': 'separate'},\n {'cue': 'sweater', 'translated': 'shirt'},\n {'cue': 'friendship', 'translated': 'companion'},\n {'cue': 'knit', 'translated': 'scarf'},\n {'cue': 'magazine', 'translated': 'paper'},\n {'cue': 'survive', 'translated': 'through'},\n {'cue': 'sour', 'translated': 'candy'},\n {'cue': 'destroy', 'translated': 'nothing'},\n {'cue': 'suggest', 'translated': 'lead'},\n {'cue': 'knit', 'translated': 'sweater'},\n {'cue': 'ear', 'translated': 'communicate'},\n {'cue': 'santa', 'translated': 'reindeer'},\n {'cue': 'fossil', 'translated': 'old'},\n {'cue': 'jealousy', 'translated': 'want'},\n {'cue': 'lime', 'translated': 'object'},\n {'cue': 'cloudy', 'translated': 'sun'},\n {'cue': 'trash', 'translated': 'dump'},\n {'cue': 'chisel', 'translated': 'clean'},\n {'cue': 'coat', 'translated': 'accessory'},\n {'cue': 'introvert', 'translated': 'social'},\n {'cue': 'plaid', 'translated': 'differ'},\n {'cue': 'shield', 'translated': 'window'},\n {'cue': 'alright', 'translated': 'agree'},\n {'cue': 'fireplace', 'translated': 'inside'},\n {'cue': 'cop', 'translated': 'law'},\n {'cue': 'brigade', 'translated': 'army'},\n {'cue': 'oath', 'translated': 'vow'},\n {'cue': 'veal', 'translated': 'tender'},\n {'cue': 'run', 'translated': 'tire'},\n {'cue': 'terror', 'translated': 'fear'},\n {'cue': 'doorknob', 'translated': 'move'},\n {'cue': 'honeydew', 'translated': 'juice'},\n {'cue': 'gravy', 'translated': 'potato'},\n {'cue': 'kill', 'translated': 'crime'},\n {'cue': 'zebra', 'translated': 'live'},\n {'cue': 'blur', 'translated': 'smear'},\n {'cue': 'jury', 'translated': 'decide'},\n {'cue': 'stand', 'translated': 'sit'},\n {'cue': 'abuse', 'translated': 'mental'},\n {'cue': 'hide', 'translated': 'secret'},\n {'cue': 'prank', 'translated': 'play'},\n {'cue': 'sandwich', 'translated': 'eat'},\n {'cue': 'flag', 'translated': 'white'},\n {'cue': 'extrovert', 'translated': 'outgo'},\n {'cue': 'grin', 'translated': 'type'},\n {'cue': 'found', 'translated': 'discover'},\n {'cue': 'ledge', 'translated': 'fall'},\n {'cue': 'angel', 'translated': 'white'},\n {'cue': 'scream', 'translated': 'warn'},\n {'cue': 'fiber', 'translated': 'material'},\n {'cue': 'nephew', 'translated': 'family'},\n {'cue': 'panel', 'translated': 'piece'},\n {'cue': 'chinese', 'translated': 'country'},\n {'cue': 'teensy', 'translated': 'small'},\n {'cue': 'march', 'translated': 'knee'},\n {'cue': 'convent', 'translated': 'build'},\n {'cue': 'handbag', 'translated': 'hold'},\n {'cue': 'paddle', 'translated': 'through'},\n {'cue': 'spanish', 'translated': 'person'},\n {'cue': 'eat', 'translated': 'live'},\n {'cue': 'gloves', 'translated': 'wear'},\n {'cue': 'interview', 'translated': 'employ'},\n {'cue': 'lawsuit', 'translated': 'sue'},\n {'cue': 'evict', 'translated': 'leave'},\n {'cue': 'acquire', 'translated': 'understand'},\n {'cue': 'tune', 'translated': 'note'},\n {'cue': 'earthquake', 'translated': 'plate'},\n {'cue': 'pitcher', 'translated': 'hold'},\n {'cue': 'joker', 'translated': 'jest'},\n {'cue': 'rude', 'translated': 'bad'},\n {'cue': 'decrease', 'translated': 'small'},\n {'cue': 'basketball', 'translated': 'hoop'},\n {'cue': 'glare', 'translated': 'anger'},\n {'cue': 'stare', 'translated': 'eye'},\n {'cue': 'pier', 'translated': 'ocean'},\n {'cue': 'rug', 'translated': 'thick'},\n {'cue': 'chin', 'translated': 'down'},\n {'cue': 'world', 'translated': 'live'},\n {'cue': 'young', 'translated': 'old'},\n {'cue': 'book', 'translated': 'excite'},\n {'cue': 'squint', 'translated': 'human'},\n {'cue': 'bleed', 'translated': 'exit'},\n {'cue': 'windmill', 'translated': 'power'},\n {'cue': 'olive', 'translated': 'good'},\n {'cue': 'screws', 'translated': 'wood'},\n {'cue': 'loan', 'translated': 'turn'},\n {'cue': 'siren', 'translated': 'loud'},\n {'cue': 'ride', 'translated': 'in'},\n {'cue': 'cozy', 'translated': 'snug'},\n {'cue': 'diploma', 'translated': 'course'},\n {'cue': 'halloween', 'translated': 'saint'},\n {'cue': 'saloon', 'translated': 'wild'},\n {'cue': 'raccoon', 'translated': 'tail'},\n {'cue': 'conquest', 'translated': 'over'},\n {'cue': 'bargain', 'translated': 'sale'},\n {'cue': 'table', 'translated': 'surface'},\n {'cue': 'rearrange', 'translated': 'organize'},\n {'cue': 'hem', 'translated': 'cloth'},\n {'cue': 'cap_bottle', 'translated': 'round'},\n {'cue': 'swim', 'translated': 'exercise'},\n {'cue': 'burp', 'translated': 'fast'},\n {'cue': 'facet', 'translated': 'water'},\n {'cue': 'cry', 'translated': 'act'},\n {'cue': 'orient', 'translated': 'country'},\n {'cue': 'family', 'translated': 'mom'},\n {'cue': 'wheelchair', 'translated': 'handicap'},\n {'cue': 'calculator', 'translated': 'mathematics'},\n {'cue': 'tuxedo', 'translated': 'wear'},\n {'cue': 'climate', 'translated': 'cold'},\n {'cue': 'destroy', 'translated': 'mess'},\n {'cue': 'revolver', 'translated': 'protect'},\n {'cue': 'transplant', 'translated': 'plant'},\n {'cue': 'concept', 'translated': 'abstract'},\n {'cue': 'receive', 'translated': 'act'},\n {'cue': 'clash', 'translated': 'noise'},\n {'cue': 'soon', 'translated': 'now'},\n {'cue': 'lettuce', 'translated': 'head'},\n {'cue': 'chair', 'translated': 'material'},\n {'cue': 'detective', 'translated': 'police'},\n {'cue': 'oligarchy', 'translated': 'control'},\n {'cue': 'boots', 'translated': 'dry'},\n {'cue': 'sweat', 'translated': 'cool'},\n {'cue': 'kilometer', 'translated': 'metric'},\n {'cue': 'plea', 'translated': 'danger'},\n {'cue': 'sneeze', 'translated': 'large'},\n {'cue': 'sun', 'translated': 'center'},\n {'cue': 'coat', 'translated': 'long'},\n {'cue': 'pope', 'translated': 'catholic'},\n {'cue': 'pigeon', 'translated': 'two'},\n {'cue': 'dive', 'translated': 'high'},\n {'cue': 'stadium', 'translated': 'seat'},\n {'cue': 'cave', 'translated': 'bear'},\n {'cue': 'microphone', 'translated': 'speak'},\n {'cue': 'strainer', 'translated': 'use'},\n {'cue': 'package', 'translated': 'present'},\n {'cue': 'yard', 'translated': 'tree'},\n {'cue': 'clang', 'translated': 'noise'},\n {'cue': 'preach', 'translated': 'communicate'},\n {'cue': 'hearing', 'translated': 'ear'},\n {'cue': 'total', 'translated': 'complete'},\n {'cue': 'mixture', 'translated': 'substance'},\n {'cue': 'being', 'translated': 'person'},\n {'cue': 'swan', 'translated': 'thin'},\n {'cue': 'later', 'translated': 'time'},\n {'cue': 'facts', 'translated': 'truth'},\n {'cue': 'breathe', 'translated': 'blow'},\n {'cue': 'christ', 'translated': 'jesus'},\n {'cue': 'painting', 'translated': 'paint'},\n {'cue': 'camp', 'translated': 'tent'},\n {'cue': 'chew', 'translated': 'small'},\n {'cue': 'agriculture', 'translated': 'harvest'},\n {'cue': 'fond', 'translated': 'like'},\n {'cue': 'face', 'translated': 'nose'},\n {'cue': 'glow', 'translated': 'face'},\n {'cue': 'fly', 'translated': 'plane'},\n {'cue': 'march', 'translated': 'music'},\n {'cue': 'quill', 'translated': 'dip'},\n {'cue': 'pedal', 'translated': 'effort'},\n {'cue': 'tank_army', 'translated': 'destroy'},\n {'cue': 'skin', 'translated': 'cover'},\n {'cue': 'iceberg', 'translated': 'huge'},\n {'cue': 'wolf', 'translated': 'fast'},\n {'cue': 'send', 'translated': 'give'},\n {'cue': 'grapefruit', 'translated': 'grow'},\n {'cue': 'command', 'translated': 'request'},\n {'cue': 'alkaline', 'translated': 'period'},\n {'cue': 'baseball', 'translated': 'pass'},\n {'cue': 'touch', 'translated': 'emotion'},\n {'cue': 'feud', 'translated': 'two'},\n {'cue': 'comedy', 'translated': 'humor'},\n {'cue': 'wimp', 'translated': 'scare'},\n {'cue': 'have', 'translated': 'show'},\n {'cue': 'bass', 'translated': 'sound'},\n {'cue': 'jelly', 'translated': 'strawberry'},\n {'cue': 'apple', 'translated': 'granny'},\n {'cue': 'feeling', 'translated': 'happy'},\n {'cue': 'underground', 'translated': 'surface'},\n {'cue': 'cooler', 'translated': 'low'},\n {'cue': 'pocketbook', 'translated': 'money'},\n {'cue': 'growl', 'translated': 'bark'},\n {'cue': 'hay', 'translated': 'eat'},\n {'cue': 'member', 'translated': 'club'},\n {'cue': 'wednesday', 'translated': 'week'},\n {'cue': 'sit', 'translated': 'act'},\n {'cue': 'necklace', 'translated': 'sentiment'},\n {'cue': 'sock', 'translated': 'white'},\n {'cue': 'cottage', 'translated': 'small'},\n {'cue': 'wall', 'translated': 'support'},\n {'cue': 'sheep', 'translated': 'shear'},\n {'cue': 'chapel', 'translated': 'religion'},\n {'cue': 'asparagus', 'translated': 'disgust'},\n {'cue': 'boundary', 'translated': 'limit'},\n {'cue': 'drive', 'translated': 'gas'},\n {'cue': 'homework', 'translated': 'time'},\n {'cue': 'no', 'translated': 'deny'},\n {'cue': 'topic', 'translated': 'paper'},\n {'cue': 'half', 'translated': 'two'},\n {'cue': 'fight', 'translated': 'argue'},\n {'cue': 'onions', 'translated': 'bulb'},\n {'cue': 'exchange', 'translated': 'intent'},\n {'cue': 'clang', 'translated': 'act'},\n {'cue': 'cap_bottle', 'translated': 'ensure'},\n {'cue': 'etiquette', 'translated': 'way'},\n {'cue': 'rake', 'translated': 'sharp'},\n {'cue': 'empty', 'translated': 'pour'},\n {'cue': 'direct', 'translated': 'face'},\n {'cue': 'bicycle', 'translated': 'free'},\n {'cue': 'corporation', 'translated': 'large'},\n {'cue': 'ankle', 'translated': 'break'},\n {'cue': 'deteriorate', 'translated': 'slow'},\n {'cue': 'agenda', 'translated': 'schedule'},\n {'cue': 'snap', 'translated': 'thumb'},\n {'cue': 'hurt', 'translated': 'emotion'},\n {'cue': 'stable', 'translated': 'place'},\n {'cue': 'step', 'translated': 'act'},\n {'cue': 'book', 'translated': 'enjoy'},\n {'cue': 'perfume', 'translated': 'expense'},\n {'cue': 'gate', 'translated': 'in'},\n {'cue': 'rivalry', 'translated': 'fight'},\n {'cue': 'faucet', 'translated': 'control'},\n {'cue': 'menu', 'translated': 'order'},\n {'cue': 'construction', 'translated': 'large'},\n {'cue': 'shawl', 'translated': 'cloth'},\n {'cue': 'filthy', 'translated': 'nasty'},\n {'cue': 'dime', 'translated': 'silver'},\n {'cue': 'yellow', 'translated': 'light'},\n {'cue': 'camel', 'translated': 'human'},\n {'cue': 'pajamas', 'translated': 'cloth'},\n {'cue': 'mountains', 'translated': 'mountain'},\n {'cue': 'screwdriver', 'translated': 'juice'},\n {'cue': 'reflection', 'translated': 'water'},\n {'cue': 'cleaner', 'translated': 'one'},\n {'cue': 'duty', 'translated': 'moral'},\n {'cue': 'cant', 'translated': 'able'},\n {'cue': 'lap', 'translated': 'one'},\n {'cue': 'park', 'translated': 'child'},\n {'cue': 'printer', 'translated': 'machine'},\n {'cue': 'vacancy', 'translated': 'space'},\n {'cue': 'obligation', 'translated': 'duty'},\n {'cue': 'helicopter', 'translated': 'air'},\n {'cue': 'infection', 'translated': 'infect'},\n {'cue': 'socks', 'translated': 'warm'},\n {'cue': 'grapefruit', 'translated': 'farm'},\n {'cue': 'sing', 'translated': 'noise'},\n {'cue': 'implode', 'translated': 'inward'},\n {'cue': 'accumulative', 'translated': 'up'},\n {'cue': 'sliver', 'translated': 'thin'},\n {'cue': 'foresight', 'translated': 'see'},\n {'cue': 'stocking', 'translated': 'hang'},\n {'cue': 'cat', 'translated': 'walk'},\n {'cue': 'difference', 'translated': 'differ'},\n {'cue': 'fever', 'translated': 'high'},\n {'cue': 'moss', 'translated': 'plant'},\n {'cue': 'walnut', 'translated': 'crunch'},\n {'cue': 'juggler', 'translated': 'perform'},\n {'cue': 'tantrum', 'translated': 'cry'},\n {'cue': 'cars', 'translated': 'expense'},\n {'cue': 'wolf', 'translated': 'danger'},\n {'cue': 'bomb', 'translated': 'attack'},\n {'cue': 'woodpecker', 'translated': 'noise'},\n {'cue': 'see', 'translated': 'clear'},\n {'cue': 'weather', 'translated': 'rain'},\n {'cue': 'place', 'translated': 'lay'},\n {'cue': 'bed', 'translated': 'sleep'},\n {'cue': 'microphone', 'translated': 'device'},\n {'cue': 'enrage', 'translated': 'anger'},\n {'cue': 'buy', 'translated': 'expense'},\n {'cue': 'warn', 'translated': 'verb'},\n {'cue': 'glow', 'translated': 'star'},\n {'cue': 'judge', 'translated': 'court'},\n {'cue': 'ache', 'translated': 'upset'},\n {'cue': 'loan', 'translated': 'interest'},\n {'cue': 'ache', 'translated': 'pierce'},\n {'cue': 'caring', 'translated': 'compassion'},\n {'cue': 'feel', 'translated': 'touch'},\n {'cue': 'cat', 'translated': 'gray'},\n {'cue': 'nervous', 'translated': 'stomach'},\n {'cue': 'expert', 'translated': 'person'},\n {'cue': 'rodent', 'translated': 'mouse'},\n {'cue': 'build', 'translated': 'human'},\n {'cue': 'run', 'translated': 'relief'},\n {'cue': 'portion', 'translated': 'piece'},\n {'cue': 'parts', 'translated': 'up'},\n {'cue': 'sun', 'translated': 'give'},\n {'cue': 'warn', 'translated': 'threat'},\n {'cue': 'lingerie', 'translated': 'wear'},\n {'cue': 'rap', 'translated': 'lyric'},\n {'cue': 'adventure', 'translated': 'fun'},\n {'cue': 'build', 'translated': 'act'},\n {'cue': 'pear', 'translated': 'juice'},\n {'cue': 'hop', 'translated': 'up'},\n {'cue': 'trench', 'translated': 'protect'},\n {'cue': 'tupperware', 'translated': 'store'},\n {'cue': 'doorknob', 'translated': 'glass'},\n {'cue': 'plate', 'translated': 'dish'},\n {'cue': 'buzzard', 'translated': 'feather'},\n {'cue': 'strawberry', 'translated': 'dessert'},\n {'cue': 'bounce', 'translated': 'drop'},\n {'cue': 'thanks', 'translated': 'thank'},\n {'cue': 'thanks', 'translated': 'show'},\n {'cue': 'drum', 'translated': 'skin'},\n {'cue': 'eager', 'translated': 'ready'},\n {'cue': 'cough', 'translated': 'nose'},\n {'cue': 'reflect', 'translated': 'think'},\n {'cue': 'show', 'translated': 'play'},\n {'cue': 'empathy', 'translated': 'sympathy'},\n {'cue': 'blouse', 'translated': 'feminine'},\n {'cue': 'final', 'translated': 'end'},\n {'cue': 'buffalo', 'translated': 'leg'},\n {'cue': 'alligator', 'translated': 'tail'},\n {'cue': 'teach', 'translated': 'skill'},\n {'cue': 'lamp', 'translated': 'light'},\n {'cue': 'eject', 'translated': 'leave'},\n {'cue': 'saying', 'translated': 'phrase'},\n {'cue': 'concept', 'translated': 'plan'},\n {'cue': 'separate', 'translated': 'apart'},\n {'cue': 'van', 'translated': 'carry'},\n {'cue': 'nuts', 'translated': 'eat'},\n {'cue': 'man', 'translated': 'strong'},\n {'cue': 'want', 'translated': 'long'},\n {'cue': 'apology', 'translated': 'forgive'},\n {'cue': 'demand', 'translated': 'aggressive'},\n {'cue': 'noodles', 'translated': 'italy'},\n {'cue': 'bully', 'translated': 'weak'},\n {'cue': 'caption', 'translated': 'explain'},\n {'cue': 'cook', 'translated': 'physic'},\n {'cue': 'rose', 'translated': 'valentine'},\n {'cue': 'brain', 'translated': 'part'},\n {'cue': 'carpet', 'translated': 'on'},\n {'cue': 'flame', 'translated': 'burn'},\n {'cue': 'wedding', 'translated': 'cake'},\n {'cue': 'rug', 'translated': 'color'},\n {'cue': 'hero', 'translated': 'brave'},\n {'cue': 'get', 'translated': 'go'},\n {'cue': 'toast', 'translated': 'brown'},\n {'cue': 'fingers', 'translated': 'five'},\n {'cue': 'planets', 'translated': 'orbit'},\n {'cue': 'coin', 'translated': 'small'},\n {'cue': 'pound', 'translated': 'punch'},\n {'cue': 'friendliness', 'translated': 'nice'},\n {'cue': 'shame', 'translated': 'emotion'},\n {'cue': 'card_greeting', 'translated': 'color'},\n {'cue': 'average', 'translated': 'number'},\n {'cue': 'broccoli', 'translated': 'eat'},\n {'cue': 'couch', 'translated': 'armrest'},\n {'cue': 'mad', 'translated': 'mental'},\n {'cue': 'total', 'translated': 'combine'},\n {'cue': 'graft', 'translated': 'attach'},\n {'cue': 'juvenile', 'translated': 'child'},\n {'cue': 'leg', 'translated': 'kick'},\n {'cue': 'poker', 'translated': 'money'},\n {'cue': 'ring_jewelry', 'translated': 'round'},\n {'cue': 'lens', 'translated': 'piece'},\n {'cue': 'tuna', 'translated': 'person'},\n {'cue': 'explanation', 'translated': 'understand'},\n {'cue': 'swap', 'translated': 'barter'},\n {'cue': 'chair', 'translated': 'rest'},\n {'cue': 'unclear', 'translated': 'vague'},\n {'cue': 'invite', 'translated': 'event'},\n {'cue': 'wicker', 'translated': 'straw'},\n {'cue': 'jane', 'translated': 'person'},\n {'cue': 'destroy', 'translated': 'tool'},\n {'cue': 'smoky', 'translated': 'smoke'},\n {'cue': 'adversary', 'translated': 'enemy'},\n {'cue': 'instrument', 'translated': 'drum'},\n {'cue': 'finger', 'translated': 'sense'},\n {'cue': 'graduate', 'translated': 'college'},\n {'cue': 'accept', 'translated': 'human'},\n {'cue': 'flash', 'translated': 'respond'},\n {'cue': 'appraise', 'translated': 'value'},\n {'cue': 'car', 'translated': 'heave'},\n {'cue': 'rabbit', 'translated': 'wild'},\n {'cue': 'newton', 'translated': 'force'},\n {'cue': 'endless', 'translated': 'with'},\n {'cue': 'hammer', 'translated': 'impact'},\n {'cue': 'budgie', 'translated': 'cage'},\n {'cue': 'asparagus', 'translated': 'pick'},\n {'cue': 'eight', 'translated': 'before'},\n {'cue': 'develop', 'translated': 'mature'},\n {'cue': 'leg', 'translated': 'love'},\n {'cue': 'caffeine', 'translated': 'soda'},\n {'cue': 'tend', 'translated': 'toward'},\n {'cue': 'vision', 'translated': 'glass'},\n {'cue': 'captain', 'translated': 'command'},\n {'cue': 'blackbird', 'translated': 'worm'},\n {'cue': 'reminiscence', 'translated': 'memory'},\n {'cue': 'murder', 'translated': 'take'},\n {'cue': 'goldfish', 'translated': 'eat'},\n {'cue': 'shake', 'translated': 'repeat'},\n {'cue': 'traffic', 'translated': 'vehicle'},\n {'cue': 'lover', 'translated': 'wife'},\n {'cue': 'return', 'translated': 'stop'},\n {'cue': 'climate', 'translated': 'rain'},\n {'cue': 'clang', 'translated': 'communicate'},\n {'cue': 'puff', 'translated': 'dragon'},\n {'cue': 'equal', 'translated': 'fair'},\n {'cue': 'petroleum', 'translated': 'gas'},\n {'cue': 'demand', 'translated': 'upset'},\n {'cue': 'loft', 'translated': 'high'},\n {'cue': 'fall', 'translated': 'change'},\n {'cue': 'nomad', 'translated': 'person'},\n {'cue': 'loving', 'translated': 'feel'},\n {'cue': 'drill', 'translated': 'hole'},\n {'cue': 'fence', 'translated': 'close'},\n {'cue': 'socket', 'translated': 'tool'},\n {'cue': 'take', 'translated': 'move'},\n {'cue': 'clash', 'translated': 'disrupt'},\n {'cue': 'digger', 'translated': 'hole'},\n {'cue': 'heat', 'translated': 'cook'},\n {'cue': 'mixture', 'translated': 'mix'},\n {'cue': 'bicep', 'translated': 'strength'},\n {'cue': 'chapel', 'translated': 'seat'},\n {'cue': 'pull', 'translated': 'hand'},\n {'cue': 'degrade', 'translated': 'low'},\n {'cue': 'surgery', 'translated': 'hospital'},\n {'cue': 'plug_electric', 'translated': 'socket'},\n {'cue': 'headache', 'translated': 'migraine'},\n {'cue': 'scar', 'translated': 'body'},\n {'cue': 'fix', 'translated': 'ease'},\n {'cue': 'closet', 'translated': 'hang'},\n {'cue': 'budgie', 'translated': 'sing'},\n {'cue': 'monastery', 'translated': 'religion'},\n {'cue': 'sardine', 'translated': 'pizza'},\n {'cue': 'trouble', 'translated': 'bad'},\n {'cue': 'competition', 'translated': 'compete'},\n {'cue': 'radish', 'translated': 'garden'},\n {'cue': 'football', 'translated': 'stitch'},\n {'cue': 'squint', 'translated': 'act'},\n {'cue': 'fence', 'translated': 'picket'},\n {'cue': 'muscle', 'translated': 'strength'},\n {'cue': 'glow', 'translated': 'mystery'},\n {'cue': 'life', 'translated': 'live'},\n {'cue': 'scar', 'translated': 'leave'},\n {'cue': 'opposite', 'translated': 'differ'},\n {'cue': 'brunette', 'translated': 'black'},\n {'cue': 'paintbrush', 'translated': 'bristle'},\n {'cue': 'tuna', 'translated': 'fish'},\n {'cue': 'squeal', 'translated': 'scream'},\n {'cue': 'tomato', 'translated': 'as'},\n {'cue': 'baby', 'translated': 'cry'},\n {'cue': 'sweater', 'translated': 'body'},\n {'cue': 'identical', 'translated': 'twin'},\n {'cue': 'indirect', 'translated': 'result'},\n {'cue': 'doughnut', 'translated': 'ring'},\n {'cue': 'web', 'translated': 'weave'},\n {'cue': 'grass', 'translated': 'ground'},\n {'cue': 'geology', 'translated': 'mineral'},\n {'cue': 'viking', 'translated': 'scandanavia'},\n {'cue': 'lion', 'translated': 'male'},\n {'cue': 'rag', 'translated': 'tatter'},\n {'cue': 'party', 'translated': 'music'},\n {'cue': 'swift', 'translated': 'move'},\n {'cue': 'chimp', 'translated': 'intelligent'},\n {'cue': 'balcony', 'translated': 'patio'},\n {'cue': 'seal', 'translated': 'cute'},\n {'cue': 'happy', 'translated': 'person'},\n {'cue': 'corpse', 'translated': 'human'},\n {'cue': 'couch', 'translated': 'comfort'},\n {'cue': 'rose', 'translated': 'love'},\n {'cue': 'insult', 'translated': 'hurt'},\n {'cue': 'blackbird', 'translated': 'build'},\n {'cue': 'jog', 'translated': 'swing'},\n {'cue': 'why', 'translated': 'curious'},\n {'cue': 'cut', 'translated': 'make'},\n {'cue': 'mink', 'translated': 'brown'},\n {'cue': 'prime', 'translated': 'top'},\n {'cue': 'sample', 'translated': 'food'},\n {'cue': 'reminiscence', 'translated': 'fond'},\n {'cue': 'backpack', 'translated': 'book'},\n {'cue': 'write', 'translated': 'communicate'},\n {'cue': 'roses', 'translated': 'day'},\n {'cue': 'fawn', 'translated': 'soft'},\n {'cue': 'wing', 'translated': 'flap'},\n {'cue': 'inhale', 'translated': 'smoke'},\n {'cue': 'disgrace', 'translated': 'honor'},\n {'cue': 'finger', 'translated': 'part'},\n {'cue': 'headache', 'translated': 'medic'},\n {'cue': 'raspberry', 'translated': 'object'},\n {'cue': 'oodles', 'translated': 'amount'},\n {'cue': 'face', 'translated': 'hear'},\n {'cue': 'thing', 'translated': 'person'},\n {'cue': 'weekly', 'translated': 'day'},\n {'cue': 'cucumber', 'translated': 'food'},\n {'cue': 'nephew', 'translated': 'relate'},\n {'cue': 'appear', 'translated': 'up'},\n {'cue': 'inhale', 'translated': 'object'},\n {'cue': 'destroy', 'translated': 'fire'},\n {'cue': 'missile', 'translated': 'warhead'},\n {'cue': 'bluff', 'translated': 'poke'},\n {'cue': 'backpack', 'translated': 'carry'},\n {'cue': 'fridge', 'translated': 'store'},\n {'cue': 'valuable', 'translated': 'money'},\n {'cue': 'advise', 'translated': 'opinion'},\n {'cue': 'bed', 'translated': 'furniture'},\n {'cue': 'wound', 'translated': 'hurt'},\n {'cue': 'plead', 'translated': 'emotion'},\n {'cue': 'traffic', 'translated': 'accident'},\n {'cue': 'tent', 'translated': 'sleep'},\n {'cue': 'lie', 'translated': 'truth'},\n {'cue': 'cover', 'translated': 'protect'},\n {'cue': 'swan', 'translated': 'bank'},\n {'cue': 'drop', 'translated': 'hit'},\n {'cue': 'shoulder', 'translated': 'back'},\n {'cue': 'silly', 'translated': 'funny'},\n {'cue': 'prom', 'translated': 'high'},\n {'cue': 'athlete', 'translated': 'person'},\n {'cue': 'lick', 'translated': 'eat'},\n {'cue': 'bottle', 'translated': 'drink'},\n {'cue': 'money', 'translated': 'rich'},\n {'cue': 'roof', 'translated': 'wood'},\n {'cue': 'designer', 'translated': 'fashion'},\n {'cue': 'cushion', 'translated': 'foam'},\n {'cue': 'submarine', 'translated': 'water'},\n {'cue': 'cleaning', 'translated': 'organize'},\n {'cue': 'tranquil', 'translated': 'peace'},\n {'cue': 'image', 'translated': 'picture'},\n {'cue': 'itch', 'translated': 'insect'},\n {'cue': 'sniff', 'translated': 'fast'},\n {'cue': 'memorial', 'translated': 'dead'},\n {'cue': 'racket', 'translated': 'ball'},\n {'cue': 'beets', 'translated': 'as'},\n {'cue': 'book', 'translated': 'school'},\n {'cue': 'chip', 'translated': 'chocolate'},\n {'cue': 'finger', 'translated': 'person'},\n {'cue': 'look', 'translated': 'light'},\n {'cue': 'teensy', 'translated': 'miniature'},\n {'cue': 'smile', 'translated': 'act'},\n {'cue': 'prickly', 'translated': 'point'},\n {'cue': 'ascent', 'translated': 'go'},\n {'cue': 'own', 'translated': 'possess'},\n {'cue': 'retch', 'translated': 'like'},\n {'cue': 'elevator', 'translated': 'down'},\n {'cue': 'gander', 'translated': 'goose'},\n {'cue': 'real', 'translated': 'person'},\n {'cue': 'starving', 'translated': 'famine'},\n {'cue': 'puff', 'translated': 'cigar'},\n {'cue': 'routine', 'translated': 'act'},\n {'cue': 'macaroni', 'translated': 'type'},\n {'cue': 'times', 'translated': 'newspaper'},\n {'cue': 'single', 'translated': 'one'},\n {'cue': 'sparkle', 'translated': 'glitter'},\n {'cue': 'wilderness', 'translated': 'civil'},\n {'cue': 'idea', 'translated': 'bulb'},\n {'cue': 'chat', 'translated': 'feel'},\n {'cue': 'tie', 'translated': 'material'},\n {'cue': 'saucer', 'translated': 'catch'},\n {'cue': 'weather', 'translated': 'cold'},\n {'cue': 'mean', 'translated': 'person'},\n {'cue': 'boss', 'translated': 'person'},\n {'cue': 'river', 'translated': 'channel'},\n {'cue': 'dustpan', 'translated': 'object'},\n {'cue': 'refrigerator', 'translated': 'freeze'},\n {'cue': 'eagle', 'translated': 'bald'},\n {'cue': 'looks', 'translated': 'see'},\n {'cue': 'identification', 'translated': 'license'},\n {'cue': 'blueberry', 'translated': 'blue'},\n {'cue': 'group', 'translated': 'one'},\n {'cue': 'update', 'translated': 'inform'},\n {'cue': 'competition', 'translated': 'against'},\n {'cue': 'rifle', 'translated': 'fire'},\n {'cue': 'tent', 'translated': 'waterproof'},\n {'cue': 'gray', 'translated': 'color'},\n {'cue': 'dent', 'translated': 'damage'},\n {'cue': 'maple', 'translated': 'sap'},\n {'cue': 'religious', 'translated': 'god'},\n {'cue': 'write', 'translated': 'language'},\n {'cue': 'door', 'translated': 'room'},\n {'cue': 'pig', 'translated': 'size'},\n {'cue': 'smoky', 'translated': 'gray'},\n {'cue': 'summer', 'translated': 'hot'},\n {'cue': 'atom', 'translated': 'small'},\n {'cue': 'picket', 'translated': 'person'},\n {'cue': 'rhythm', 'translated': 'sound'},\n {'cue': 'jewelry', 'translated': 'precious'},\n {'cue': 'religious', 'translated': 'religion'},\n {'cue': 'task', 'translated': 'job'},\n {'cue': 'lounge', 'translated': 'place'},\n {'cue': 'mustache', 'translated': 'man'},\n {'cue': 'cucumber', 'translated': 'thin'},\n {'cue': 'skid', 'translated': 'slide'},\n {'cue': 'fence', 'translated': 'separate'},\n {'cue': 'slacks', 'translated': 'dress'},\n {'cue': 'pajamas', 'translated': 'warm'},\n {'cue': 'awe', 'translated': 'wonder'},\n {'cue': 'screech', 'translated': 'lung'},\n {'cue': 'doll', 'translated': 'own'},\n {'cue': 'storage', 'translated': 'closet'},\n {'cue': 'argue', 'translated': 'mean'},\n {'cue': 'irregular', 'translated': 'weird'},\n {'cue': 'clothes', 'translated': 'color'},\n {'cue': 'pail', 'translated': 'liquid'},\n {'cue': 'trombone', 'translated': 'mouth'},\n {'cue': 'honey', 'translated': 'sweet'},\n {'cue': 'beware', 'translated': 'dog'},\n {'cue': 'palace', 'translated': 'build'},\n {'cue': 'cobbler', 'translated': 'repair'},\n {'cue': 'actor', 'translated': 'television'},\n {'cue': 'cafe', 'translated': 'food'},\n {'cue': 'thick', 'translated': 'dense'},\n {'cue': 'growl', 'translated': 'human'},\n {'cue': 'wheelbarrow', 'translated': 'two'},\n {'cue': 'list', 'translated': 'item'},\n {'cue': 'moth', 'translated': 'insect'},\n {'cue': 'slingshot', 'translated': 'danger'},\n {'cue': 'huts', 'translated': 'home'},\n {'cue': 'dancer', 'translated': 'music'},\n {'cue': 'through', 'translated': 'side'},\n {'cue': 'bowling', 'translated': 'game'},\n {'cue': 'birds', 'translated': 'wing'},\n {'cue': 'vomit', 'translated': 'animal'},\n {'cue': 'ask', 'translated': 'polite'},\n {'cue': 'banquet', 'translated': 'food'},\n {'cue': 'wage', 'translated': 'money'},\n {'cue': 'yawn', 'translated': 'gesture'},\n {'cue': 'school', 'translated': 'build'},\n {'cue': 'chaos', 'translated': 'control'},\n {'cue': 'shave', 'translated': 'task'},\n {'cue': 'attention', 'translated': 'focus'},\n {'cue': 'loan', 'translated': 'car'},\n {'cue': 'grain', 'translated': 'seed'},\n {'cue': 'fancy', 'translated': 'expense'},\n {'cue': 'topping', 'translated': 'top'},\n {'cue': 'mind', 'translated': 'thought'},\n {'cue': 'cabbage', 'translated': 'cook'},\n {'cue': 'approach', 'translated': 'plane'},\n {'cue': 'why', 'translated': 'ask'},\n {'cue': 'peg', 'translated': 'hang'},\n {'cue': 'flea', 'translated': 'offspring'},\n {'cue': 'acrobat', 'translated': 'person'},\n {'cue': 'strawberry', 'translated': 'pick'},\n {'cue': 'step', 'translated': 'force'},\n {'cue': 'sneeze', 'translated': 'nostril'},\n {'cue': 'comma', 'translated': 'mark'},\n {'cue': 'zebra', 'translated': 'mammal'},\n {'cue': 'strive', 'translated': 'work'},\n {'cue': 'prisoner', 'translated': 'will'},\n {'cue': 'adjustment', 'translated': 'fit'},\n {'cue': 'magnify', 'translated': 'close'},\n {'cue': 'corn', 'translated': 'taste'},\n {'cue': 'frosting', 'translated': 'cake'},\n {'cue': 'loud', 'translated': 'music'},\n {'cue': 'minimum', 'translated': 'small'},\n {'cue': 'suds', 'translated': 'bath'},\n {'cue': 'bomb', 'translated': 'fire'},\n {'cue': 'stick', 'translated': 'long'},\n {'cue': 'chirp', 'translated': 'tone'},\n {'cue': 'magician', 'translated': 'perform'},\n {'cue': 'sport', 'translated': 'physic'},\n {'cue': 'shoulder', 'translated': 'part'},\n {'cue': 'frown', 'translated': 'anger'},\n {'cue': 'dishes', 'translated': 'bowl'},\n {'cue': 'roar', 'translated': 'noise'},\n {'cue': 'wander', 'translated': 'different'},\n {'cue': 'retort', 'translated': 'response'},\n {'cue': 'argue', 'translated': 'communicate'},\n {'cue': 'mackerel', 'translated': 'swim'},\n {'cue': 'steer', 'translated': 'control'},\n {'cue': 'wrench', 'translated': 'adjust'},\n {'cue': 'aspirin', 'translated': 'pill'},\n {'cue': 'compose', 'translated': 'he'},\n {'cue': 'olympics', 'translated': 'event'},\n {'cue': 'van', 'translated': 'travel'},\n {'cue': 'ache', 'translated': 'sick'},\n {'cue': 'cooler', 'translated': 'keep'},\n {'cue': 'hand', 'translated': 'color'},\n {'cue': 'canoe', 'translated': 'boat'},\n {'cue': 'rat', 'translated': 'white'},\n {'cue': 'swan', 'translated': 'mammal'},\n {'cue': 'stir', 'translated': 'join'},\n {'cue': 'train', 'translated': 'many'},\n {'cue': 'stop', 'translated': 'intent'},\n {'cue': 'bump', 'translated': 'brush'},\n {'cue': 'leaves', 'translated': 'crunch'},\n {'cue': 'feint', 'translated': 'attack'},\n {'cue': 'punishment', 'translated': 'act'},\n {'cue': 'raft', 'translated': 'transport'},\n {'cue': 'needle', 'translated': 'thread'},\n {'cue': 'cup', 'translated': 'pattern'},\n {'cue': 'exhale', 'translated': 'inhale'},\n {'cue': 'handrail', 'translated': 'balance'},\n {'cue': 'prefer', 'translated': 'choice'},\n {'cue': 'aright', 'translated': 'correct'},\n {'cue': 'sock', 'translated': 'cotton'},\n {'cue': 'teeth', 'translated': 'smile'},\n {'cue': 'typist', 'translated': 'secretary'},\n {'cue': 'cow', 'translated': 'domestic'},\n {'cue': 'bus', 'translated': 'human'},\n {'cue': 'pumpkin', 'translated': 'heave'},\n {'cue': 'amp', 'translated': 'electric'},\n ...]"
     },
     "execution_count": 73,
     "metadata": {},
     "output_type": "execute_result"
    }
   ],
   "source": [
    "training_set = training_set.to_dict(orient='records')\n",
    "validation_set = validation_set.to_dict(orient='records')\n",
    "\n",
    "validation_set"
   ],
   "metadata": {
    "collapsed": false,
    "pycharm": {
     "name": "#%%\n"
    },
    "trusted": false
   }
  },
  {
   "cell_type": "markdown",
   "source": [
    "## Tokenization: BART pre-trained model"
   ],
   "metadata": {
    "collapsed": false
   }
  },
  {
   "cell_type": "code",
   "execution_count": 74,
   "outputs": [
    {
     "name": "stderr",
     "output_type": "stream",
     "text": "loading file https://huggingface.co/facebook/bart-large/resolve/main/vocab.json from cache at /export/scratch2/home/haochen/.cache/huggingface/transformers/0d6fc8b2ef1860c1f8f0baff4b021e3426cc7d11b153f98e563b799603ee2f25.647b4548b6d9ea817e82e7a9231a320231a1c9ea24053cc9e758f3fe68216f05\nloading file https://huggingface.co/facebook/bart-large/resolve/main/merges.txt from cache at /export/scratch2/home/haochen/.cache/huggingface/transformers/6e75e35f0bdd15870c98387e13b93a8e100237eb33ad99c36277a0562bd6d850.5d12962c5ee615a4c803841266e9c3be9a691a924f72d395d3a6c6c81157788b\nloading file https://huggingface.co/facebook/bart-large/resolve/main/added_tokens.json from cache at None\nloading file https://huggingface.co/facebook/bart-large/resolve/main/special_tokens_map.json from cache at None\nloading file https://huggingface.co/facebook/bart-large/resolve/main/tokenizer_config.json from cache at /export/scratch2/home/haochen/.cache/huggingface/transformers/1abf196c889c24daca2909359ca2090e5fcbfa21a9ea36d763f70adbafb500d7.67d01b18f2079bd75eac0b2f2e7235768c7f26bd728e7a855a1c5acae01a91a8\nloading configuration file https://huggingface.co/facebook/bart-large/resolve/main/config.json from cache at /export/scratch2/home/haochen/.cache/huggingface/transformers/3f12fb71b844fcb7d591fdd4e55027da90d7b5dd6aa5430ad00ec6d76585f26c.bc22f15dc7ba074ee0a60bdd34c5f2fe3b6d746f89e765303376c51aff04e260\nModel config BartConfig {\n  \"_name_or_path\": \"facebook/bart-large\",\n  \"activation_dropout\": 0.1,\n  \"activation_function\": \"gelu\",\n  \"add_bias_logits\": false,\n  \"add_final_layer_norm\": false,\n  \"architectures\": [\n    \"BartModel\"\n  ],\n  \"attention_dropout\": 0.1,\n  \"bos_token_id\": 0,\n  \"classif_dropout\": 0.1,\n  \"classifier_dropout\": 0.0,\n  \"d_model\": 1024,\n  \"decoder_attention_heads\": 16,\n  \"decoder_ffn_dim\": 4096,\n  \"decoder_layerdrop\": 0.0,\n  \"decoder_layers\": 12,\n  \"decoder_start_token_id\": 2,\n  \"dropout\": 0.1,\n  \"early_stopping\": true,\n  \"encoder_attention_heads\": 16,\n  \"encoder_ffn_dim\": 4096,\n  \"encoder_layerdrop\": 0.0,\n  \"encoder_layers\": 12,\n  \"eos_token_id\": 2,\n  \"forced_bos_token_id\": 0,\n  \"forced_eos_token_id\": 2,\n  \"gradient_checkpointing\": false,\n  \"id2label\": {\n    \"0\": \"LABEL_0\",\n    \"1\": \"LABEL_1\",\n    \"2\": \"LABEL_2\"\n  },\n  \"init_std\": 0.02,\n  \"is_encoder_decoder\": true,\n  \"label2id\": {\n    \"LABEL_0\": 0,\n    \"LABEL_1\": 1,\n    \"LABEL_2\": 2\n  },\n  \"max_position_embeddings\": 1024,\n  \"model_type\": \"bart\",\n  \"no_repeat_ngram_size\": 3,\n  \"normalize_before\": false,\n  \"num_beams\": 4,\n  \"num_hidden_layers\": 12,\n  \"pad_token_id\": 1,\n  \"scale_embedding\": false,\n  \"task_specific_params\": {\n    \"summarization\": {\n      \"length_penalty\": 1.0,\n      \"max_length\": 128,\n      \"min_length\": 12,\n      \"num_beams\": 4\n    },\n    \"summarization_cnn\": {\n      \"length_penalty\": 2.0,\n      \"max_length\": 142,\n      \"min_length\": 56,\n      \"num_beams\": 4\n    },\n    \"summarization_xsum\": {\n      \"length_penalty\": 1.0,\n      \"max_length\": 62,\n      \"min_length\": 11,\n      \"num_beams\": 6\n    }\n  },\n  \"transformers_version\": \"4.18.0\",\n  \"use_cache\": true,\n  \"vocab_size\": 50265\n}\n\n"
    },
    {
     "name": "stdout",
     "output_type": "stream",
     "text": "[0, 31414, 232, 328, 2]\nHello world!\n"
    }
   ],
   "source": [
    "bart = BartTokenizer.from_pretrained(\"facebook/bart-large\")\n",
    "\n",
    "token_test = bart.encode('Hello world!')\n",
    "print(token_test)\n",
    "\n",
    "string = bart.decode(token_test, skip_special_tokens=True)\n",
    "print(string)"
   ],
   "metadata": {
    "collapsed": false,
    "pycharm": {
     "name": "#%%\n"
    },
    "trusted": false
   }
  },
  {
   "cell_type": "code",
   "execution_count": 75,
   "outputs": [
    {
     "name": "stdout",
     "output_type": "stream",
     "text": "{'input_ids': [[0, 44051, 15721, 2], [0, 42607, 672, 16782, 2]], 'attention_mask': [[1, 1, 1, 1], [1, 1, 1, 1, 1]]}\n['WordNet', 'basic level prediction']\n"
    }
   ],
   "source": [
    "batch_encode = bart(['WordNet', 'basic level prediction'])\n",
    "print(batch_encode)\n",
    "\n",
    "def batchDecode(inputs, skip_special_tokens):\n",
    "    batch_decode = []\n",
    "    for item in inputs:\n",
    "        decode = bart.decode(item, skip_special_tokens=skip_special_tokens)\n",
    "        batch_decode.append(decode)\n",
    "    return batch_decode\n",
    "\n",
    "batch_decode = batchDecode(batch_encode['input_ids'], skip_special_tokens=True)\n",
    "print(batch_decode)"
   ],
   "metadata": {
    "collapsed": false,
    "pycharm": {
     "name": "#%%\n"
    },
    "trusted": false
   }
  },
  {
   "cell_type": "code",
   "execution_count": 76,
   "outputs": [],
   "source": [
    "def tokenize(record):\n",
    "    model_input = {'input_ids': [], 'targets': []}\n",
    "    for item in record:\n",
    "        norms = item['cue']\n",
    "        model_input['input_ids'].append(bart(norms)['input_ids'])\n",
    "        targets = item['translated']\n",
    "        model_input['targets'].append(bart(targets)['input_ids'])\n",
    "    return model_input"
   ],
   "metadata": {
    "collapsed": false,
    "pycharm": {
     "name": "#%%\n"
    },
    "trusted": false
   }
  },
  {
   "cell_type": "code",
   "execution_count": 77,
   "outputs": [
    {
     "data": {
      "text/plain": "{'cue': 'secure', 'translated': 'lock'}"
     },
     "execution_count": 77,
     "metadata": {},
     "output_type": "execute_result"
    }
   ],
   "source": [
    "training_set[1]"
   ],
   "metadata": {
    "collapsed": false,
    "pycharm": {
     "name": "#%%\n"
    },
    "trusted": false
   }
  },
  {
   "cell_type": "code",
   "execution_count": 78,
   "outputs": [
    {
     "data": {
      "text/plain": "{'input_ids': [[0, 30919, 48226, 2], [0, 34153, 2]],\n 'targets': [[0, 3998, 16231, 2], [0, 8292, 2]]}"
     },
     "execution_count": 78,
     "metadata": {},
     "output_type": "execute_result"
    }
   ],
   "source": [
    "tokenize(training_set[:2])"
   ],
   "metadata": {
    "collapsed": false,
    "pycharm": {
     "name": "#%%\n"
    },
    "trusted": false
   }
  },
  {
   "cell_type": "code",
   "execution_count": 79,
   "outputs": [
    {
     "data": {
      "text/plain": "['secure', 'lock']"
     },
     "execution_count": 79,
     "metadata": {},
     "output_type": "execute_result"
    }
   ],
   "source": [
    "batchDecode([[0, 34153, 2], [0, 8292, 2]], True)"
   ],
   "metadata": {
    "collapsed": false,
    "pycharm": {
     "name": "#%%\n"
    },
    "trusted": false
   }
  },
  {
   "cell_type": "code",
   "execution_count": null,
   "outputs": [],
   "source": [
    "tokenized_training = tokenize(training_set)\n",
    "tokenized_validation = tokenize(validation_set)\n",
    "\n",
    "tokenized_validation"
   ],
   "metadata": {
    "collapsed": false,
    "pycharm": {
     "name": "#%%\n",
     "is_executing": true
    },
    "trusted": false
   }
  },
  {
   "cell_type": "code",
   "execution_count": null,
   "outputs": [],
   "source": [
    "class ForT5Dataset(torch.utils.data.Dataset):\n",
    "    def __init__(self, inputs, targets):\n",
    "        self.inputs = inputs\n",
    "        self.targets = targets\n",
    "\n",
    "    def __len__(self):\n",
    "        return len(self.targets['input_ids'])\n",
    "\n",
    "    def __getitem__(self, index):\n",
    "        input_ids = torch.tensor(self.inputs['input_ids'][index]).squeeze()\n",
    "        target_ids = torch.tensor(self.targets['targets'][index]).squeeze()\n",
    "\n",
    "        return {'input_ids': input_ids, 'labels': target_ids}"
   ],
   "metadata": {
    "collapsed": false,
    "pycharm": {
     "name": "#%%\n",
     "is_executing": true
    },
    "trusted": false
   }
  },
  {
   "cell_type": "code",
   "source": [
    "tokenized_training_dataset = ForT5Dataset(tokenized_training, tokenized_training)\n",
    "tokenized_validation_dataset = ForT5Dataset(tokenized_validation, tokenized_validation)"
   ],
   "metadata": {
    "collapsed": false,
    "pycharm": {
     "name": "#%%\n",
     "is_executing": true
    },
    "trusted": false
   },
   "execution_count": null,
   "outputs": []
  },
  {
   "cell_type": "code",
   "execution_count": null,
   "outputs": [],
   "source": [
    "tokenized_training_dataset.__len__()"
   ],
   "metadata": {
    "collapsed": false,
    "pycharm": {
     "name": "#%%\n",
     "is_executing": true
    },
    "trusted": false
   }
  },
  {
   "cell_type": "markdown",
   "source": [
    "## Fine-tune the model"
   ],
   "metadata": {
    "collapsed": false
   }
  },
  {
   "cell_type": "code",
   "execution_count": null,
   "outputs": [],
   "source": [
    "model = AutoModelForSeq2SeqLM.from_pretrained(\"facebook/bart-large\")\n",
    "\n",
    "batch_size = 8\n",
    "args = Seq2SeqTrainingArguments(\n",
    "    'BART-fine-tuned',\n",
    "    evaluation_strategy = 'epoch',\n",
    "    learning_rate = 2e-5,\n",
    "    per_device_train_batch_size=batch_size,\n",
    "    per_device_eval_batch_size=batch_size,\n",
    "    weight_decay=0.01,\n",
    "    save_total_limit=2,\n",
    "    num_train_epochs=3,\n",
    "    predict_with_generate=True,\n",
    "    fp16=False,\n",
    "    push_to_hub=False\n",
    ")\n",
    "\n",
    "data_collator = DataCollatorForSeq2Seq(bart, model=model)"
   ],
   "metadata": {
    "collapsed": false,
    "pycharm": {
     "name": "#%%\n",
     "is_executing": true
    },
    "trusted": false
   }
  },
  {
   "cell_type": "code",
   "execution_count": null,
   "outputs": [],
   "source": [
    "metric = datasets.load_metric('sacrebleu')\n",
    "\n",
    "def postprocess_text(preds, labels):\n",
    "    preds = [pred.strip() for pred in preds]\n",
    "    labels = [[label.strip()] for label in labels]\n",
    "\n",
    "    return preds, labels\n",
    "\n",
    "def compute_metrics(eval_preds):\n",
    "    preds, labels = eval_preds\n",
    "    if isinstance(preds, tuple):\n",
    "        preds = preds[0]\n",
    "    decoded_preds = batchDecode(preds, skip_special_tokens=True)\n",
    "\n",
    "    # Replace -100 in the labels as we can't decode them.\n",
    "    labels = np.where(labels != -100, labels, bart.pad_token_id)\n",
    "    decoded_labels = batchDecode(labels, skip_special_tokens=True)\n",
    "\n",
    "    # Some simple post-processing\n",
    "    decoded_preds, decoded_labels = postprocess_text(decoded_preds, decoded_labels)\n",
    "\n",
    "    result = metric.compute(predictions=decoded_preds, references=decoded_labels)\n",
    "    result = {\"bleu\": result[\"score\"]}\n",
    "\n",
    "    prediction_lens = [np.count_nonzero(pred != bart.pad_token_id) for pred in preds]\n",
    "    result[\"gen_len\"] = np.mean(prediction_lens)\n",
    "    result = {k: round(v, 4) for k, v in result.items()}\n",
    "    return result"
   ],
   "metadata": {
    "collapsed": false,
    "pycharm": {
     "name": "#%%\n",
     "is_executing": true
    },
    "trusted": false
   }
  },
  {
   "cell_type": "code",
   "execution_count": null,
   "outputs": [],
   "source": [
    "trainer = Seq2SeqTrainer(\n",
    "    model,\n",
    "    args,\n",
    "    train_dataset=tokenized_training_dataset,\n",
    "    eval_dataset=tokenized_validation_dataset,\n",
    "    data_collator=data_collator,\n",
    "    tokenizer=bart,\n",
    "    compute_metrics=compute_metrics\n",
    ")"
   ],
   "metadata": {
    "collapsed": false,
    "pycharm": {
     "name": "#%%\n",
     "is_executing": true
    },
    "trusted": false
   }
  },
  {
   "cell_type": "code",
   "execution_count": null,
   "outputs": [],
   "source": [
    "trainer.train()"
   ],
   "metadata": {
    "collapsed": false,
    "pycharm": {
     "name": "#%%\n",
     "is_executing": true
    },
    "trusted": false
   }
  },
  {
   "cell_type": "code",
   "execution_count": null,
   "outputs": [],
   "source": [
    "pred = trainer.predict(tokenized_validation_dataset)\n",
    "pred.predictions.shape"
   ],
   "metadata": {
    "collapsed": false,
    "pycharm": {
     "name": "#%%\n",
     "is_executing": true
    },
    "trusted": false
   }
  },
  {
   "cell_type": "markdown",
   "source": [
    "## Test the model"
   ],
   "metadata": {
    "collapsed": false
   }
  },
  {
   "cell_type": "code",
   "execution_count": null,
   "outputs": [],
   "source": [
    "predictions = pred.predictions"
   ],
   "metadata": {
    "collapsed": false,
    "pycharm": {
     "name": "#%%\n",
     "is_executing": true
    },
    "trusted": false
   }
  },
  {
   "cell_type": "code",
   "execution_count": null,
   "outputs": [],
   "source": [
    "sample = 349\n",
    "batchDecode([tokenized_validation['input_ids'][sample], pred.predictions[sample]], True)"
   ],
   "metadata": {
    "collapsed": false,
    "pycharm": {
     "name": "#%%\n",
     "is_executing": true
    },
    "trusted": false
   }
  },
  {
   "cell_type": "code",
   "execution_count": null,
   "outputs": [],
   "source": [
    "def test_dataset(test_list):\n",
    "    test_df = pd.DataFrame(test_list, columns=['cue'])\n",
    "    translated_col = pd.Series([str(x+1) for x in range(len(test_df))], name='translated')\n",
    "    test_df = pd.concat([test_df, translated_col], axis=1)\n",
    "    test_set = test_df.to_dict(orient='records')\n",
    "    tokenized_test = tokenize(test_set)\n",
    "    tokenized_test_dataset = ForT5Dataset(tokenized_test, tokenized_test)\n",
    "    return tokenized_test_dataset"
   ],
   "metadata": {
    "collapsed": false,
    "pycharm": {
     "name": "#%%\n",
     "is_executing": true
    },
    "trusted": false
   }
  },
  {
   "cell_type": "code",
   "execution_count": null,
   "outputs": [],
   "source": [
    "test = [\"Haochen Wang\"]\n",
    "testing_dataset = test_dataset(test)\n",
    "sample = 0\n",
    "batchDecode([testing_dataset.__getitem__(sample)['input_ids'], trainer.predict(testing_dataset).predictions[sample]], True)"
   ],
   "metadata": {
    "collapsed": false,
    "pycharm": {
     "name": "#%%\n",
     "is_executing": true
    },
    "trusted": false
   }
  },
  {
   "cell_type": "markdown",
   "source": [
    "# One to Some Generation"
   ],
   "metadata": {
    "collapsed": false,
    "pycharm": {
     "name": "#%% md\n"
    }
   }
  },
  {
   "cell_type": "markdown",
   "source": [
    "## Flatten the training data"
   ],
   "metadata": {
    "collapsed": false,
    "pycharm": {
     "name": "#%% md\n"
    }
   }
  },
  {
   "cell_type": "code",
   "execution_count": null,
   "outputs": [],
   "source": [
    "def group_flatten(dataframe):\n",
    "    english_features_cue = dataframe.set_index('cue')\n",
    "    norm_series = dataframe['cue'].unique()\n",
    "    for cue in norm_series:\n",
    "        translation = list(english_features_cue.loc[cue]['translated'])\n",
    "        flatten = ''\n",
    "        for word in translation:\n",
    "            flatten += word + ' '\n",
    "        english_features_cue.loc[cue, 'translated'] = flatten\n",
    "    english_features_cue = english_features_cue.drop_duplicates()\n",
    "    english_features_cue = english_features_cue.reset_index()\n",
    "    return english_features_cue"
   ],
   "metadata": {
    "collapsed": false,
    "pycharm": {
     "name": "#%%\n",
     "is_executing": true
    },
    "trusted": false
   }
  },
  {
   "cell_type": "code",
   "execution_count": null,
   "outputs": [],
   "source": [
    "english_features_flatten = group_flatten(english_features)\n",
    "english_features_flatten"
   ],
   "metadata": {
    "collapsed": false,
    "pycharm": {
     "name": "#%%\n",
     "is_executing": true
    },
    "trusted": false
   }
  },
  {
   "cell_type": "markdown",
   "source": [
    "## Produce the dataset"
   ],
   "metadata": {
    "collapsed": false,
    "pycharm": {
     "name": "#%% md\n"
    }
   }
  },
  {
   "cell_type": "code",
   "execution_count": null,
   "outputs": [],
   "source": [
    "def produceDataset(dataset_raw):\n",
    "    split_ratio = 0.8\n",
    "    random_seed = 7\n",
    "    training_set, validation_set = train_test_split(dataset_raw, train_size=split_ratio, random_state=random_seed)\n",
    "    training_set = training_set.to_dict(orient='records')\n",
    "    validation_set = validation_set.to_dict(orient='records')\n",
    "\n",
    "    tokenized_training = tokenize(training_set)\n",
    "    tokenized_validation = tokenize(validation_set)\n",
    "\n",
    "    tokenized_training_dataset = ForT5Dataset(tokenized_training, tokenized_training)\n",
    "    tokenized_validation_dataset = ForT5Dataset(tokenized_validation, tokenized_validation)\n",
    "    return tokenized_training_dataset, tokenized_validation_dataset"
   ],
   "metadata": {
    "collapsed": false,
    "pycharm": {
     "name": "#%%\n",
     "is_executing": true
    },
    "trusted": false
   }
  },
  {
   "cell_type": "code",
   "execution_count": null,
   "outputs": [],
   "source": [
    "tokenized_flatten_training_dataset, tokenized_flatten_validation_dataset = produceDataset(english_features_flatten)\n",
    "tokenized_flatten_validation_dataset.__len__()"
   ],
   "metadata": {
    "collapsed": false,
    "pycharm": {
     "name": "#%%\n",
     "is_executing": true
    },
    "trusted": false
   }
  },
  {
   "cell_type": "markdown",
   "source": [
    "## Fine-tune the model"
   ],
   "metadata": {
    "collapsed": false,
    "pycharm": {
     "name": "#%% md\n"
    }
   }
  },
  {
   "cell_type": "code",
   "execution_count": null,
   "outputs": [],
   "source": [
    "model = AutoModelForSeq2SeqLM.from_pretrained(\"facebook/bart-large\")\n",
    "\n",
    "batch_size = 8\n",
    "args_flatten = Seq2SeqTrainingArguments(\n",
    "    'BART-fine-tuned_flatten',\n",
    "    evaluation_strategy = 'epoch',\n",
    "    learning_rate = 2e-5,\n",
    "    per_device_train_batch_size=batch_size,\n",
    "    per_device_eval_batch_size=batch_size,\n",
    "    weight_decay=0.01,\n",
    "    save_total_limit=2,\n",
    "    num_train_epochs=3,\n",
    "    predict_with_generate=True,\n",
    "    fp16=False,\n",
    "    push_to_hub=False\n",
    ")\n",
    "\n",
    "data_collator = DataCollatorForSeq2Seq(bart, model=model)"
   ],
   "metadata": {
    "collapsed": false,
    "pycharm": {
     "name": "#%%\n",
     "is_executing": true
    },
    "trusted": false
   }
  },
  {
   "cell_type": "code",
   "execution_count": null,
   "outputs": [],
   "source": [
    "trainer_flatten = Seq2SeqTrainer(\n",
    "    model,\n",
    "    args_flatten,\n",
    "    train_dataset=tokenized_flatten_training_dataset,\n",
    "    eval_dataset=tokenized_flatten_validation_dataset,\n",
    "    data_collator=data_collator,\n",
    "    tokenizer=bart,\n",
    "    compute_metrics=compute_metrics\n",
    ")"
   ],
   "metadata": {
    "collapsed": false,
    "pycharm": {
     "name": "#%%\n",
     "is_executing": true
    },
    "trusted": false
   }
  },
  {
   "cell_type": "code",
   "execution_count": null,
   "outputs": [],
   "source": [
    "trainer_flatten.train()"
   ],
   "metadata": {
    "collapsed": false,
    "pycharm": {
     "name": "#%%\n",
     "is_executing": true
    },
    "trusted": false
   }
  },
  {
   "cell_type": "markdown",
   "source": [
    "## Test the model"
   ],
   "metadata": {
    "collapsed": false,
    "pycharm": {
     "name": "#%% md\n"
    }
   }
  },
  {
   "cell_type": "code",
   "execution_count": 104,
   "outputs": [
    {
     "name": "stderr",
     "output_type": "stream",
     "text": "***** Running Prediction *****\n  Num examples = 1\n  Batch size = 8\n"
    },
    {
     "data": {
      "text/plain": "['adjustable_wrench', 'adjust change change hold hold hold screw tool ']"
     },
     "execution_count": 104,
     "metadata": {},
     "output_type": "execute_result"
    }
   ],
   "source": [
    "test = [\"adjustable_wrench\"]\n",
    "testing_dataset = test_dataset(test)\n",
    "sample = 0\n",
    "test_translation = batchDecode([testing_dataset.__getitem__(sample)['input_ids'], trainer_flatten.predict(testing_dataset).predictions[sample]], True)\n",
    "test_translation"
   ],
   "metadata": {
    "collapsed": false,
    "pycharm": {
     "name": "#%%\n"
    },
    "trusted": false
   }
  },
  {
   "cell_type": "code",
   "execution_count": 107,
   "outputs": [
    {
     "data": {
      "text/plain": "5"
     },
     "execution_count": 107,
     "metadata": {},
     "output_type": "execute_result"
    }
   ],
   "source": [
    "translations = test_translation[1].split()\n",
    "translations_set_len = len(set(translations))\n",
    "translations_set_len"
   ],
   "metadata": {
    "collapsed": false,
    "pycharm": {
     "name": "#%%\n"
    },
    "trusted": false
   }
  },
  {
   "cell_type": "markdown",
   "source": [
    "# Fit The Basic Level Dataset"
   ],
   "metadata": {
    "collapsed": false
   }
  },
  {
   "cell_type": "code",
   "execution_count": 112,
   "outputs": [
    {
     "data": {
      "text/plain": "                              Synsets domain_x               norm  \\\n0    Synset('adjustable_wrench.n.01')     tool  adjustable_wrench   \n1         Synset('allen_wrench.n.01')     tool       allen_wrench   \n2     Synset('alligator_wrench.n.01')     tool   alligator_wrench   \n3                  Synset('awl.n.01')     tool                awl   \n4              Synset('backsaw.n.01')     tool            backsaw   \n..                                ...      ...                ...   \n834       Synset('ballet_skirt.n.01')     garm       ballet_skirt   \n835        Synset('mess_jacket.n.01')     garm        mess_jacket   \n836         Synset('long_johns.n.01')     garm         long_johns   \n837             Synset('undies.n.01')     garm             undies   \n838           Synset('lingerie.n.01')     garm           lingerie   \n\n     nrdirhypers_x  nrhypos_x  nrpartrels_normalised_x  \\\n0                1          7                      0.0   \n1                1          0                      0.0   \n2                1          0                      0.0   \n3                1          2                     15.7   \n4                1          0                      0.0   \n..             ...        ...                      ...   \n834              1          0                      0.0   \n835              1          0                      0.0   \n836              1          0                      0.0   \n837              1          0                      0.0   \n838              1          2                      0.0   \n\n     depthfromtopsynset_normalised_x  glosslength_normalised_x  \\\n0                           1.012903                  0.563173   \n1                           1.012903                  0.391092   \n2                           1.012903                  1.517437   \n3                           0.911613                  0.985552   \n4                           1.114194                  1.110701   \n..                               ...                       ...   \n834                         0.947552                  0.578283   \n835                         1.158120                  1.652238   \n836                         1.052836                  0.479149   \n837                         1.158120                  0.280880   \n838                         1.052836                  0.561761   \n\n     minwordlength_x  nroflemmas_x  polyscore_max_x vote_x  \n0                 17             2                1     nb  \n1                 12             1                1     nb  \n2                 16             1                1     nb  \n3                  3             1                1      b  \n4                  7             2                1     nb  \n..               ...           ...              ...    ...  \n834                4             2                2     nb  \n835               11             3                1     nb  \n836               10             1                1     nb  \n837                6             1                1     nb  \n838                8             2                1     nb  \n\n[839 rows x 12 columns]",
      "text/html": "<div>\n<style scoped>\n    .dataframe tbody tr th:only-of-type {\n        vertical-align: middle;\n    }\n\n    .dataframe tbody tr th {\n        vertical-align: top;\n    }\n\n    .dataframe thead th {\n        text-align: right;\n    }\n</style>\n<table border=\"1\" class=\"dataframe\">\n  <thead>\n    <tr style=\"text-align: right;\">\n      <th></th>\n      <th>Synsets</th>\n      <th>domain_x</th>\n      <th>norm</th>\n      <th>nrdirhypers_x</th>\n      <th>nrhypos_x</th>\n      <th>nrpartrels_normalised_x</th>\n      <th>depthfromtopsynset_normalised_x</th>\n      <th>glosslength_normalised_x</th>\n      <th>minwordlength_x</th>\n      <th>nroflemmas_x</th>\n      <th>polyscore_max_x</th>\n      <th>vote_x</th>\n    </tr>\n  </thead>\n  <tbody>\n    <tr>\n      <th>0</th>\n      <td>Synset('adjustable_wrench.n.01')</td>\n      <td>tool</td>\n      <td>adjustable_wrench</td>\n      <td>1</td>\n      <td>7</td>\n      <td>0.0</td>\n      <td>1.012903</td>\n      <td>0.563173</td>\n      <td>17</td>\n      <td>2</td>\n      <td>1</td>\n      <td>nb</td>\n    </tr>\n    <tr>\n      <th>1</th>\n      <td>Synset('allen_wrench.n.01')</td>\n      <td>tool</td>\n      <td>allen_wrench</td>\n      <td>1</td>\n      <td>0</td>\n      <td>0.0</td>\n      <td>1.012903</td>\n      <td>0.391092</td>\n      <td>12</td>\n      <td>1</td>\n      <td>1</td>\n      <td>nb</td>\n    </tr>\n    <tr>\n      <th>2</th>\n      <td>Synset('alligator_wrench.n.01')</td>\n      <td>tool</td>\n      <td>alligator_wrench</td>\n      <td>1</td>\n      <td>0</td>\n      <td>0.0</td>\n      <td>1.012903</td>\n      <td>1.517437</td>\n      <td>16</td>\n      <td>1</td>\n      <td>1</td>\n      <td>nb</td>\n    </tr>\n    <tr>\n      <th>3</th>\n      <td>Synset('awl.n.01')</td>\n      <td>tool</td>\n      <td>awl</td>\n      <td>1</td>\n      <td>2</td>\n      <td>15.7</td>\n      <td>0.911613</td>\n      <td>0.985552</td>\n      <td>3</td>\n      <td>1</td>\n      <td>1</td>\n      <td>b</td>\n    </tr>\n    <tr>\n      <th>4</th>\n      <td>Synset('backsaw.n.01')</td>\n      <td>tool</td>\n      <td>backsaw</td>\n      <td>1</td>\n      <td>0</td>\n      <td>0.0</td>\n      <td>1.114194</td>\n      <td>1.110701</td>\n      <td>7</td>\n      <td>2</td>\n      <td>1</td>\n      <td>nb</td>\n    </tr>\n    <tr>\n      <th>...</th>\n      <td>...</td>\n      <td>...</td>\n      <td>...</td>\n      <td>...</td>\n      <td>...</td>\n      <td>...</td>\n      <td>...</td>\n      <td>...</td>\n      <td>...</td>\n      <td>...</td>\n      <td>...</td>\n      <td>...</td>\n    </tr>\n    <tr>\n      <th>834</th>\n      <td>Synset('ballet_skirt.n.01')</td>\n      <td>garm</td>\n      <td>ballet_skirt</td>\n      <td>1</td>\n      <td>0</td>\n      <td>0.0</td>\n      <td>0.947552</td>\n      <td>0.578283</td>\n      <td>4</td>\n      <td>2</td>\n      <td>2</td>\n      <td>nb</td>\n    </tr>\n    <tr>\n      <th>835</th>\n      <td>Synset('mess_jacket.n.01')</td>\n      <td>garm</td>\n      <td>mess_jacket</td>\n      <td>1</td>\n      <td>0</td>\n      <td>0.0</td>\n      <td>1.158120</td>\n      <td>1.652238</td>\n      <td>11</td>\n      <td>3</td>\n      <td>1</td>\n      <td>nb</td>\n    </tr>\n    <tr>\n      <th>836</th>\n      <td>Synset('long_johns.n.01')</td>\n      <td>garm</td>\n      <td>long_johns</td>\n      <td>1</td>\n      <td>0</td>\n      <td>0.0</td>\n      <td>1.052836</td>\n      <td>0.479149</td>\n      <td>10</td>\n      <td>1</td>\n      <td>1</td>\n      <td>nb</td>\n    </tr>\n    <tr>\n      <th>837</th>\n      <td>Synset('undies.n.01')</td>\n      <td>garm</td>\n      <td>undies</td>\n      <td>1</td>\n      <td>0</td>\n      <td>0.0</td>\n      <td>1.158120</td>\n      <td>0.280880</td>\n      <td>6</td>\n      <td>1</td>\n      <td>1</td>\n      <td>nb</td>\n    </tr>\n    <tr>\n      <th>838</th>\n      <td>Synset('lingerie.n.01')</td>\n      <td>garm</td>\n      <td>lingerie</td>\n      <td>1</td>\n      <td>2</td>\n      <td>0.0</td>\n      <td>1.052836</td>\n      <td>0.561761</td>\n      <td>8</td>\n      <td>2</td>\n      <td>1</td>\n      <td>nb</td>\n    </tr>\n  </tbody>\n</table>\n<p>839 rows × 12 columns</p>\n</div>"
     },
     "execution_count": 112,
     "metadata": {},
     "output_type": "execute_result"
    }
   ],
   "source": "# read the pre-processed data all agreed\nstructral_data = pd.read_csv('../corpora_size/size_differential_features.csv', index_col=None)\nbase_feature = ['nrdirhypers_x',\n                'nrhypos_x',\n                'nrpartrels_normalised_x',\n                'depthfromtopsynset_normalised_x',\n                'glosslength_normalised_x',\n                'minwordlength_x',\n                'nroflemmas_x',\n                'polyscore_max_x']\ntarget = ['vote_x']\nstructral_data = structral_data[['Synsets', 'domain_x', 'norm']+base_feature+target]\nstructral_data",
   "metadata": {
    "collapsed": false,
    "pycharm": {
     "name": "#%%\n"
    },
    "trusted": false
   }
  },
  {
   "cell_type": "code",
   "execution_count": 128,
   "outputs": [],
   "source": "def batchPredictDecode(dataframe):\n    norms = dataframe['norm']\n    predicting_dataset = test_dataset(list(norms))\n    batch_prediction = trainer_flatten.predict(predicting_dataset).predictions\n    batch_decoding = batchDecode(batch_prediction, True)\n    dataframe['raw_translation'] = batch_decoding\n    return dataframe",
   "metadata": {
    "collapsed": false,
    "pycharm": {
     "name": "#%%\n"
    },
    "trusted": false
   }
  },
  {
   "cell_type": "code",
   "execution_count": 130,
   "outputs": [
    {
     "name": "stderr",
     "output_type": "stream",
     "text": "***** Running Prediction *****\n  Num examples = 839\n  Batch size = 8\n"
    },
    {
     "data": {
      "text/plain": "                              Synsets domain_x               norm  \\\n0    Synset('adjustable_wrench.n.01')     tool  adjustable_wrench   \n1         Synset('allen_wrench.n.01')     tool       allen_wrench   \n2     Synset('alligator_wrench.n.01')     tool   alligator_wrench   \n3                  Synset('awl.n.01')     tool                awl   \n4              Synset('backsaw.n.01')     tool            backsaw   \n..                                ...      ...                ...   \n834       Synset('ballet_skirt.n.01')     garm       ballet_skirt   \n835        Synset('mess_jacket.n.01')     garm        mess_jacket   \n836         Synset('long_johns.n.01')     garm         long_johns   \n837             Synset('undies.n.01')     garm             undies   \n838           Synset('lingerie.n.01')     garm           lingerie   \n\n     nrdirhypers_x  nrhypos_x  nrpartrels_normalised_x  \\\n0                1          7                      0.0   \n1                1          0                      0.0   \n2                1          0                      0.0   \n3                1          2                     15.7   \n4                1          0                      0.0   \n..             ...        ...                      ...   \n834              1          0                      0.0   \n835              1          0                      0.0   \n836              1          0                      0.0   \n837              1          0                      0.0   \n838              1          2                      0.0   \n\n     depthfromtopsynset_normalised_x  glosslength_normalised_x  \\\n0                           1.012903                  0.563173   \n1                           1.012903                  0.391092   \n2                           1.012903                  1.517437   \n3                           0.911613                  0.985552   \n4                           1.114194                  1.110701   \n..                               ...                       ...   \n834                         0.947552                  0.578283   \n835                         1.158120                  1.652238   \n836                         1.052836                  0.479149   \n837                         1.158120                  0.280880   \n838                         1.052836                  0.561761   \n\n     minwordlength_x  nroflemmas_x  polyscore_max_x vote_x  \\\n0                 17             2                1     nb   \n1                 12             1                1     nb   \n2                 16             1                1     nb   \n3                  3             1                1      b   \n4                  7             2                1     nb   \n..               ...           ...              ...    ...   \n834                4             2                2     nb   \n835               11             3                1     nb   \n836               10             1                1     nb   \n837                6             1                1     nb   \n838                8             2                1     nb   \n\n                                       raw_translation  \n0      adjust change change hold hold hold screw tool   \n1               break hold hold hold metal screw tool   \n2    animal claw claw claw chew chew chew eat teeth...  \n3                     cloth cloth hand knit knit wool   \n4    cut blade blade blade cut edge edge hand heave...  \n..                                                 ...  \n834  act ballet ballet ballet dance dance dance dre...  \n835           clean cloth cloth cloth cover mess mess   \n836  bend cloth cloth cloth cover cloth cloth comfo...  \n837  cloth cloth cloth cover cloth cover comfort co...  \n838                beauty dress woman woman wear wear   \n\n[839 rows x 13 columns]",
      "text/html": "<div>\n<style scoped>\n    .dataframe tbody tr th:only-of-type {\n        vertical-align: middle;\n    }\n\n    .dataframe tbody tr th {\n        vertical-align: top;\n    }\n\n    .dataframe thead th {\n        text-align: right;\n    }\n</style>\n<table border=\"1\" class=\"dataframe\">\n  <thead>\n    <tr style=\"text-align: right;\">\n      <th></th>\n      <th>Synsets</th>\n      <th>domain_x</th>\n      <th>norm</th>\n      <th>nrdirhypers_x</th>\n      <th>nrhypos_x</th>\n      <th>nrpartrels_normalised_x</th>\n      <th>depthfromtopsynset_normalised_x</th>\n      <th>glosslength_normalised_x</th>\n      <th>minwordlength_x</th>\n      <th>nroflemmas_x</th>\n      <th>polyscore_max_x</th>\n      <th>vote_x</th>\n      <th>raw_translation</th>\n    </tr>\n  </thead>\n  <tbody>\n    <tr>\n      <th>0</th>\n      <td>Synset('adjustable_wrench.n.01')</td>\n      <td>tool</td>\n      <td>adjustable_wrench</td>\n      <td>1</td>\n      <td>7</td>\n      <td>0.0</td>\n      <td>1.012903</td>\n      <td>0.563173</td>\n      <td>17</td>\n      <td>2</td>\n      <td>1</td>\n      <td>nb</td>\n      <td>adjust change change hold hold hold screw tool</td>\n    </tr>\n    <tr>\n      <th>1</th>\n      <td>Synset('allen_wrench.n.01')</td>\n      <td>tool</td>\n      <td>allen_wrench</td>\n      <td>1</td>\n      <td>0</td>\n      <td>0.0</td>\n      <td>1.012903</td>\n      <td>0.391092</td>\n      <td>12</td>\n      <td>1</td>\n      <td>1</td>\n      <td>nb</td>\n      <td>break hold hold hold metal screw tool</td>\n    </tr>\n    <tr>\n      <th>2</th>\n      <td>Synset('alligator_wrench.n.01')</td>\n      <td>tool</td>\n      <td>alligator_wrench</td>\n      <td>1</td>\n      <td>0</td>\n      <td>0.0</td>\n      <td>1.012903</td>\n      <td>1.517437</td>\n      <td>16</td>\n      <td>1</td>\n      <td>1</td>\n      <td>nb</td>\n      <td>animal claw claw claw chew chew chew eat teeth...</td>\n    </tr>\n    <tr>\n      <th>3</th>\n      <td>Synset('awl.n.01')</td>\n      <td>tool</td>\n      <td>awl</td>\n      <td>1</td>\n      <td>2</td>\n      <td>15.7</td>\n      <td>0.911613</td>\n      <td>0.985552</td>\n      <td>3</td>\n      <td>1</td>\n      <td>1</td>\n      <td>b</td>\n      <td>cloth cloth hand knit knit wool</td>\n    </tr>\n    <tr>\n      <th>4</th>\n      <td>Synset('backsaw.n.01')</td>\n      <td>tool</td>\n      <td>backsaw</td>\n      <td>1</td>\n      <td>0</td>\n      <td>0.0</td>\n      <td>1.114194</td>\n      <td>1.110701</td>\n      <td>7</td>\n      <td>2</td>\n      <td>1</td>\n      <td>nb</td>\n      <td>cut blade blade blade cut edge edge hand heave...</td>\n    </tr>\n    <tr>\n      <th>...</th>\n      <td>...</td>\n      <td>...</td>\n      <td>...</td>\n      <td>...</td>\n      <td>...</td>\n      <td>...</td>\n      <td>...</td>\n      <td>...</td>\n      <td>...</td>\n      <td>...</td>\n      <td>...</td>\n      <td>...</td>\n      <td>...</td>\n    </tr>\n    <tr>\n      <th>834</th>\n      <td>Synset('ballet_skirt.n.01')</td>\n      <td>garm</td>\n      <td>ballet_skirt</td>\n      <td>1</td>\n      <td>0</td>\n      <td>0.0</td>\n      <td>0.947552</td>\n      <td>0.578283</td>\n      <td>4</td>\n      <td>2</td>\n      <td>2</td>\n      <td>nb</td>\n      <td>act ballet ballet ballet dance dance dance dre...</td>\n    </tr>\n    <tr>\n      <th>835</th>\n      <td>Synset('mess_jacket.n.01')</td>\n      <td>garm</td>\n      <td>mess_jacket</td>\n      <td>1</td>\n      <td>0</td>\n      <td>0.0</td>\n      <td>1.158120</td>\n      <td>1.652238</td>\n      <td>11</td>\n      <td>3</td>\n      <td>1</td>\n      <td>nb</td>\n      <td>clean cloth cloth cloth cover mess mess</td>\n    </tr>\n    <tr>\n      <th>836</th>\n      <td>Synset('long_johns.n.01')</td>\n      <td>garm</td>\n      <td>long_johns</td>\n      <td>1</td>\n      <td>0</td>\n      <td>0.0</td>\n      <td>1.052836</td>\n      <td>0.479149</td>\n      <td>10</td>\n      <td>1</td>\n      <td>1</td>\n      <td>nb</td>\n      <td>bend cloth cloth cloth cover cloth cloth comfo...</td>\n    </tr>\n    <tr>\n      <th>837</th>\n      <td>Synset('undies.n.01')</td>\n      <td>garm</td>\n      <td>undies</td>\n      <td>1</td>\n      <td>0</td>\n      <td>0.0</td>\n      <td>1.158120</td>\n      <td>0.280880</td>\n      <td>6</td>\n      <td>1</td>\n      <td>1</td>\n      <td>nb</td>\n      <td>cloth cloth cloth cover cloth cover comfort co...</td>\n    </tr>\n    <tr>\n      <th>838</th>\n      <td>Synset('lingerie.n.01')</td>\n      <td>garm</td>\n      <td>lingerie</td>\n      <td>1</td>\n      <td>2</td>\n      <td>0.0</td>\n      <td>1.052836</td>\n      <td>0.561761</td>\n      <td>8</td>\n      <td>2</td>\n      <td>1</td>\n      <td>nb</td>\n      <td>beauty dress woman woman wear wear</td>\n    </tr>\n  </tbody>\n</table>\n<p>839 rows × 13 columns</p>\n</div>"
     },
     "execution_count": 130,
     "metadata": {},
     "output_type": "execute_result"
    }
   ],
   "source": "translated_data = batchPredictDecode(structral_data)\ntranslated_data.to_csv('./translated_raw.csv', index=False)\n\ntranslated_data",
   "metadata": {
    "collapsed": false,
    "pycharm": {
     "name": "#%%\n"
    },
    "trusted": false
   }
  },
  {
   "cell_type": "code",
   "execution_count": 154,
   "outputs": [],
   "source": "def batchLemmaPredictDecode(row):\n    record = row['Synsets']\n    synset = wn.synset(record[8:-2])\n    concept_norms = [x.name() for x in synset.lemmas()]\n    predicting_dataset = test_dataset(concept_norms)\n    batch_prediction = trainer_flatten.predict(predicting_dataset).predictions\n    batch_decoding = batchDecode(batch_prediction, True)\n    return batch_decoding",
   "metadata": {
    "collapsed": false,
    "pycharm": {
     "name": "#%%\n"
    },
    "trusted": false
   }
  },
  {
   "cell_type": "code",
   "execution_count": null,
   "outputs": [],
   "source": "translated_lemmas_data = structral_data.copy()\ntranslated_lemmas_data['raw_translation_lemmas'] = translated_lemmas_data.apply(batchLemmaPredictDecode, axis=1)",
   "metadata": {
    "collapsed": false,
    "pycharm": {
     "name": "#%%\n"
    },
    "trusted": false
   }
  },
  {
   "cell_type": "code",
   "execution_count": null,
   "outputs": [],
   "source": "translated_lemmas_data.to_csv('./translated_raw.csv', index=False)",
   "metadata": {
    "collapsed": false,
    "pycharm": {
     "name": "#%%\n"
    },
    "trusted": false
   }
  }
 ],
 "metadata": {
  "kernelspec": {
   "display_name": "Python 3",
   "language": "python",
   "name": "python3"
  },
  "language_info": {
   "codemirror_mode": {
    "name": "ipython",
    "version": 2
   },
   "file_extension": ".py",
   "mimetype": "text/x-python",
   "name": "python",
   "nbconvert_exporter": "python",
   "pygments_lexer": "ipython2",
   "version": "2.7.6"
  }
 },
 "nbformat": 4,
 "nbformat_minor": 0
}