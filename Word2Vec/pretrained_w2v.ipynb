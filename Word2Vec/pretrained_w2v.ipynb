{
 "cells": [
  {
   "cell_type": "code",
   "execution_count": 34,
   "metadata": {
    "collapsed": true,
    "trusted": false
   },
   "outputs": [],
   "source": [
    "import gensim.downloader\n",
    "import pandas as pd\n",
    "import numpy as np\n",
    "\n",
    "from gensim.models import Word2Vec, KeyedVectors\n",
    "\n",
    "import warnings\n",
    "warnings.filterwarnings(\"ignore\")"
   ]
  },
  {
   "cell_type": "markdown",
   "source": [
    "## Pretrained models"
   ],
   "metadata": {
    "collapsed": false,
    "pycharm": {
     "name": "#%% md\n"
    }
   }
  },
  {
   "cell_type": "code",
   "execution_count": 13,
   "outputs": [
    {
     "data": {
      "text/plain": "{'fasttext-wiki-news-subwords-300': {'num_records': 999999,\n  'file_size': 1005007116,\n  'base_dataset': 'Wikipedia 2017, UMBC webbase corpus and statmt.org news dataset (16B tokens)',\n  'reader_code': 'https://github.com/RaRe-Technologies/gensim-data/releases/download/fasttext-wiki-news-subwords-300/__init__.py',\n  'license': 'https://creativecommons.org/licenses/by-sa/3.0/',\n  'parameters': {'dimension': 300},\n  'description': '1 million word vectors trained on Wikipedia 2017, UMBC webbase corpus and statmt.org news dataset (16B tokens).',\n  'read_more': ['https://fasttext.cc/docs/en/english-vectors.html',\n   'https://arxiv.org/abs/1712.09405',\n   'https://arxiv.org/abs/1607.01759'],\n  'checksum': 'de2bb3a20c46ce65c9c131e1ad9a77af',\n  'file_name': 'fasttext-wiki-news-subwords-300.gz',\n  'parts': 1},\n 'conceptnet-numberbatch-17-06-300': {'num_records': 1917247,\n  'file_size': 1225497562,\n  'base_dataset': 'ConceptNet, word2vec, GloVe, and OpenSubtitles 2016',\n  'reader_code': 'https://github.com/RaRe-Technologies/gensim-data/releases/download/conceptnet-numberbatch-17-06-300/__init__.py',\n  'license': 'https://github.com/commonsense/conceptnet-numberbatch/blob/master/LICENSE.txt',\n  'parameters': {'dimension': 300},\n  'description': 'ConceptNet Numberbatch consists of state-of-the-art semantic vectors (also known as word embeddings) that can be used directly as a representation of word meanings or as a starting point for further machine learning. ConceptNet Numberbatch is part of the ConceptNet open data project. ConceptNet provides lots of ways to compute with word meanings, one of which is word embeddings. ConceptNet Numberbatch is a snapshot of just the word embeddings. It is built using an ensemble that combines data from ConceptNet, word2vec, GloVe, and OpenSubtitles 2016, using a variation on retrofitting.',\n  'read_more': ['http://aaai.org/ocs/index.php/AAAI/AAAI17/paper/view/14972',\n   'https://github.com/commonsense/conceptnet-numberbatch',\n   'http://conceptnet.io/'],\n  'checksum': 'fd642d457adcd0ea94da0cd21b150847',\n  'file_name': 'conceptnet-numberbatch-17-06-300.gz',\n  'parts': 1},\n 'word2vec-ruscorpora-300': {'num_records': 184973,\n  'file_size': 208427381,\n  'base_dataset': 'Russian National Corpus (about 250M words)',\n  'reader_code': 'https://github.com/RaRe-Technologies/gensim-data/releases/download/word2vec-ruscorpora-300/__init__.py',\n  'license': 'https://creativecommons.org/licenses/by/4.0/deed.en',\n  'parameters': {'dimension': 300, 'window_size': 10},\n  'description': 'Word2vec Continuous Skipgram vectors trained on full Russian National Corpus (about 250M words). The model contains 185K words.',\n  'preprocessing': 'The corpus was lemmatized and tagged with Universal PoS',\n  'read_more': ['https://www.academia.edu/24306935/WebVectors_a_Toolkit_for_Building_Web_Interfaces_for_Vector_Semantic_Models',\n   'http://rusvectores.org/en/',\n   'https://github.com/RaRe-Technologies/gensim-data/issues/3'],\n  'checksum': '9bdebdc8ae6d17d20839dd9b5af10bc4',\n  'file_name': 'word2vec-ruscorpora-300.gz',\n  'parts': 1},\n 'word2vec-google-news-300': {'num_records': 3000000,\n  'file_size': 1743563840,\n  'base_dataset': 'Google News (about 100 billion words)',\n  'reader_code': 'https://github.com/RaRe-Technologies/gensim-data/releases/download/word2vec-google-news-300/__init__.py',\n  'license': 'not found',\n  'parameters': {'dimension': 300},\n  'description': \"Pre-trained vectors trained on a part of the Google News dataset (about 100 billion words). The model contains 300-dimensional vectors for 3 million words and phrases. The phrases were obtained using a simple data-driven approach described in 'Distributed Representations of Words and Phrases and their Compositionality' (https://code.google.com/archive/p/word2vec/).\",\n  'read_more': ['https://code.google.com/archive/p/word2vec/',\n   'https://arxiv.org/abs/1301.3781',\n   'https://arxiv.org/abs/1310.4546',\n   'https://www.microsoft.com/en-us/research/publication/linguistic-regularities-in-continuous-space-word-representations/?from=http%3A%2F%2Fresearch.microsoft.com%2Fpubs%2F189726%2Frvecs.pdf'],\n  'checksum': 'a5e5354d40acb95f9ec66d5977d140ef',\n  'file_name': 'word2vec-google-news-300.gz',\n  'parts': 1},\n 'glove-wiki-gigaword-50': {'num_records': 400000,\n  'file_size': 69182535,\n  'base_dataset': 'Wikipedia 2014 + Gigaword 5 (6B tokens, uncased)',\n  'reader_code': 'https://github.com/RaRe-Technologies/gensim-data/releases/download/glove-wiki-gigaword-50/__init__.py',\n  'license': 'http://opendatacommons.org/licenses/pddl/',\n  'parameters': {'dimension': 50},\n  'description': 'Pre-trained vectors based on Wikipedia 2014 + Gigaword, 5.6B tokens, 400K vocab, uncased (https://nlp.stanford.edu/projects/glove/).',\n  'preprocessing': 'Converted to w2v format with `python -m gensim.scripts.glove2word2vec -i <fname> -o glove-wiki-gigaword-50.txt`.',\n  'read_more': ['https://nlp.stanford.edu/projects/glove/',\n   'https://nlp.stanford.edu/pubs/glove.pdf'],\n  'checksum': 'c289bc5d7f2f02c6dc9f2f9b67641813',\n  'file_name': 'glove-wiki-gigaword-50.gz',\n  'parts': 1},\n 'glove-wiki-gigaword-100': {'num_records': 400000,\n  'file_size': 134300434,\n  'base_dataset': 'Wikipedia 2014 + Gigaword 5 (6B tokens, uncased)',\n  'reader_code': 'https://github.com/RaRe-Technologies/gensim-data/releases/download/glove-wiki-gigaword-100/__init__.py',\n  'license': 'http://opendatacommons.org/licenses/pddl/',\n  'parameters': {'dimension': 100},\n  'description': 'Pre-trained vectors based on Wikipedia 2014 + Gigaword 5.6B tokens, 400K vocab, uncased (https://nlp.stanford.edu/projects/glove/).',\n  'preprocessing': 'Converted to w2v format with `python -m gensim.scripts.glove2word2vec -i <fname> -o glove-wiki-gigaword-100.txt`.',\n  'read_more': ['https://nlp.stanford.edu/projects/glove/',\n   'https://nlp.stanford.edu/pubs/glove.pdf'],\n  'checksum': '40ec481866001177b8cd4cb0df92924f',\n  'file_name': 'glove-wiki-gigaword-100.gz',\n  'parts': 1},\n 'glove-wiki-gigaword-200': {'num_records': 400000,\n  'file_size': 264336934,\n  'base_dataset': 'Wikipedia 2014 + Gigaword 5 (6B tokens, uncased)',\n  'reader_code': 'https://github.com/RaRe-Technologies/gensim-data/releases/download/glove-wiki-gigaword-200/__init__.py',\n  'license': 'http://opendatacommons.org/licenses/pddl/',\n  'parameters': {'dimension': 200},\n  'description': 'Pre-trained vectors based on Wikipedia 2014 + Gigaword, 5.6B tokens, 400K vocab, uncased (https://nlp.stanford.edu/projects/glove/).',\n  'preprocessing': 'Converted to w2v format with `python -m gensim.scripts.glove2word2vec -i <fname> -o glove-wiki-gigaword-200.txt`.',\n  'read_more': ['https://nlp.stanford.edu/projects/glove/',\n   'https://nlp.stanford.edu/pubs/glove.pdf'],\n  'checksum': '59652db361b7a87ee73834a6c391dfc1',\n  'file_name': 'glove-wiki-gigaword-200.gz',\n  'parts': 1},\n 'glove-wiki-gigaword-300': {'num_records': 400000,\n  'file_size': 394362229,\n  'base_dataset': 'Wikipedia 2014 + Gigaword 5 (6B tokens, uncased)',\n  'reader_code': 'https://github.com/RaRe-Technologies/gensim-data/releases/download/glove-wiki-gigaword-300/__init__.py',\n  'license': 'http://opendatacommons.org/licenses/pddl/',\n  'parameters': {'dimension': 300},\n  'description': 'Pre-trained vectors based on Wikipedia 2014 + Gigaword, 5.6B tokens, 400K vocab, uncased (https://nlp.stanford.edu/projects/glove/).',\n  'preprocessing': 'Converted to w2v format with `python -m gensim.scripts.glove2word2vec -i <fname> -o glove-wiki-gigaword-300.txt`.',\n  'read_more': ['https://nlp.stanford.edu/projects/glove/',\n   'https://nlp.stanford.edu/pubs/glove.pdf'],\n  'checksum': '29e9329ac2241937d55b852e8284e89b',\n  'file_name': 'glove-wiki-gigaword-300.gz',\n  'parts': 1},\n 'glove-twitter-25': {'num_records': 1193514,\n  'file_size': 109885004,\n  'base_dataset': 'Twitter (2B tweets, 27B tokens, 1.2M vocab, uncased)',\n  'reader_code': 'https://github.com/RaRe-Technologies/gensim-data/releases/download/glove-twitter-25/__init__.py',\n  'license': 'http://opendatacommons.org/licenses/pddl/',\n  'parameters': {'dimension': 25},\n  'description': 'Pre-trained vectors based on 2B tweets, 27B tokens, 1.2M vocab, uncased (https://nlp.stanford.edu/projects/glove/).',\n  'preprocessing': 'Converted to w2v format with `python -m gensim.scripts.glove2word2vec -i <fname> -o glove-twitter-25.txt`.',\n  'read_more': ['https://nlp.stanford.edu/projects/glove/',\n   'https://nlp.stanford.edu/pubs/glove.pdf'],\n  'checksum': '50db0211d7e7a2dcd362c6b774762793',\n  'file_name': 'glove-twitter-25.gz',\n  'parts': 1},\n 'glove-twitter-50': {'num_records': 1193514,\n  'file_size': 209216938,\n  'base_dataset': 'Twitter (2B tweets, 27B tokens, 1.2M vocab, uncased)',\n  'reader_code': 'https://github.com/RaRe-Technologies/gensim-data/releases/download/glove-twitter-50/__init__.py',\n  'license': 'http://opendatacommons.org/licenses/pddl/',\n  'parameters': {'dimension': 50},\n  'description': 'Pre-trained vectors based on 2B tweets, 27B tokens, 1.2M vocab, uncased (https://nlp.stanford.edu/projects/glove/)',\n  'preprocessing': 'Converted to w2v format with `python -m gensim.scripts.glove2word2vec -i <fname> -o glove-twitter-50.txt`.',\n  'read_more': ['https://nlp.stanford.edu/projects/glove/',\n   'https://nlp.stanford.edu/pubs/glove.pdf'],\n  'checksum': 'c168f18641f8c8a00fe30984c4799b2b',\n  'file_name': 'glove-twitter-50.gz',\n  'parts': 1},\n 'glove-twitter-100': {'num_records': 1193514,\n  'file_size': 405932991,\n  'base_dataset': 'Twitter (2B tweets, 27B tokens, 1.2M vocab, uncased)',\n  'reader_code': 'https://github.com/RaRe-Technologies/gensim-data/releases/download/glove-twitter-100/__init__.py',\n  'license': 'http://opendatacommons.org/licenses/pddl/',\n  'parameters': {'dimension': 100},\n  'description': 'Pre-trained vectors based on  2B tweets, 27B tokens, 1.2M vocab, uncased (https://nlp.stanford.edu/projects/glove/)',\n  'preprocessing': 'Converted to w2v format with `python -m gensim.scripts.glove2word2vec -i <fname> -o glove-twitter-100.txt`.',\n  'read_more': ['https://nlp.stanford.edu/projects/glove/',\n   'https://nlp.stanford.edu/pubs/glove.pdf'],\n  'checksum': 'b04f7bed38756d64cf55b58ce7e97b15',\n  'file_name': 'glove-twitter-100.gz',\n  'parts': 1},\n 'glove-twitter-200': {'num_records': 1193514,\n  'file_size': 795373100,\n  'base_dataset': 'Twitter (2B tweets, 27B tokens, 1.2M vocab, uncased)',\n  'reader_code': 'https://github.com/RaRe-Technologies/gensim-data/releases/download/glove-twitter-200/__init__.py',\n  'license': 'http://opendatacommons.org/licenses/pddl/',\n  'parameters': {'dimension': 200},\n  'description': 'Pre-trained vectors based on 2B tweets, 27B tokens, 1.2M vocab, uncased (https://nlp.stanford.edu/projects/glove/).',\n  'preprocessing': 'Converted to w2v format with `python -m gensim.scripts.glove2word2vec -i <fname> -o glove-twitter-200.txt`.',\n  'read_more': ['https://nlp.stanford.edu/projects/glove/',\n   'https://nlp.stanford.edu/pubs/glove.pdf'],\n  'checksum': 'e52e8392d1860b95d5308a525817d8f9',\n  'file_name': 'glove-twitter-200.gz',\n  'parts': 1},\n '__testing_word2vec-matrix-synopsis': {'description': '[THIS IS ONLY FOR TESTING] Word vecrors of the movie matrix.',\n  'parameters': {'dimensions': 50},\n  'preprocessing': 'Converted to w2v using a preprocessed corpus. Converted to w2v format with `python3.5 -m gensim.models.word2vec -train <input_filename> -iter 50 -output <output_filename>`.',\n  'read_more': [],\n  'checksum': '534dcb8b56a360977a269b7bfc62d124',\n  'file_name': '__testing_word2vec-matrix-synopsis.gz',\n  'parts': 1}}"
     },
     "execution_count": 13,
     "metadata": {},
     "output_type": "execute_result"
    }
   ],
   "source": [
    "gensim.downloader.info()['models']"
   ],
   "metadata": {
    "collapsed": false,
    "pycharm": {
     "name": "#%%\n"
    },
    "trusted": false
   }
  },
  {
   "cell_type": "code",
   "execution_count": 45,
   "outputs": [],
   "source": [
    "# download a pretrained W2V model\n",
    "# only run once\n",
    "\n",
    "# # glove-wiki-gigaword-300\n",
    "# wiki_300 = gensim.downloader.load('glove-wiki-gigaword-300')\n",
    "# wiki_300.save('./w2v-data/wiki_300.w2v')\n",
    "# # fasttext-wiki-news-subwords-300\n",
    "# wiki_news_300 = gensim.downloader.load('fasttext-wiki-news-subwords-300')\n",
    "# wiki_news_300.save('./w2v-data/wiki_news_300.w2v')\n",
    "# conceptnet-numberbatch-17-06-300\n",
    "# conceptnet_300 = gensim.downloader.load('conceptnet-numberbatch-17-06-300')\n",
    "# conceptnet_300.save('./w2v-data/conceptnet_300.w2v')\n",
    "# conceptnet_300_1908 = KeyedVectors.load_word2vec_format('./w2v-data/numberbatch-en-19.08.txt.gz', binary=False)\n",
    "# conceptnet_300_1908.save('./w2v-data/conceptnet_300_v1908.w2v')\n",
    "w2v_google_news = gensim.downloader.load('word2vec-google-news-300')\n",
    "w2v_google_news.save('./w2v-data/w2v_google_news.w2v')"
   ],
   "metadata": {
    "collapsed": false,
    "pycharm": {
     "name": "#%%\n"
    },
    "trusted": false
   }
  },
  {
   "cell_type": "code",
   "execution_count": 2,
   "outputs": [
    {
     "data": {
      "text/plain": "<gensim.models.keyedvectors.Word2VecKeyedVectors at 0x7f47781cc820>"
     },
     "execution_count": 2,
     "metadata": {},
     "output_type": "execute_result"
    }
   ],
   "source": [
    "# wiki_300 = KeyedVectors.load('./w2v-data/wiki_300.w2v', mmap='r')\n",
    "# wiki_news_300 = KeyedVectors.load('./w2v-data/wiki_news_300.w2v', mmap='r')\n",
    "# conceptnet_300 = KeyedVectors.load('./w2v-data/conceptnet_300.w2v', mmap='r')\n",
    "# w2v_google_news = KeyedVectors.load('./w2v-data/w2v_google_news.w2v', mmap='r')\n",
    "# w2v_google_news\n",
    "conceptnet_300_1908 = KeyedVectors.load('./w2v-data/conceptnet_300_v1908.w2v', mmap='r')\n",
    "conceptnet_300_1908"
   ],
   "metadata": {
    "collapsed": false,
    "pycharm": {
     "name": "#%%\n"
    },
    "trusted": false
   }
  },
  {
   "cell_type": "code",
   "execution_count": 3,
   "outputs": [
    {
     "data": {
      "text/plain": "memmap([-0.027 ,  0.0773,  0.1663,  0.1321,  0.016 , -0.0733,  0.2373,\n        -0.0282, -0.0467,  0.0811, -0.1741,  0.0057, -0.116 , -0.028 ,\n        -0.0689,  0.1356,  0.1145,  0.0533, -0.1147, -0.0326, -0.0251,\n        -0.0587,  0.0148,  0.0664,  0.0848,  0.053 ,  0.0129, -0.0081,\n        -0.0021,  0.0288, -0.002 ,  0.0187, -0.0863, -0.0884, -0.143 ,\n        -0.0305,  0.0732, -0.0779, -0.0397, -0.0087,  0.1491,  0.1215,\n         0.0085, -0.0401,  0.1291,  0.0114,  0.2328,  0.0574, -0.0401,\n        -0.0128,  0.1098,  0.0506,  0.0557, -0.0039, -0.0069, -0.0385,\n        -0.0392, -0.0354,  0.1569, -0.1964,  0.1036,  0.0458,  0.0574,\n         0.0647,  0.0698, -0.0403,  0.0744,  0.0562, -0.0967, -0.0672,\n        -0.0183, -0.0185,  0.0461, -0.1317,  0.0077,  0.0073, -0.0427,\n         0.008 , -0.002 , -0.006 , -0.0254,  0.0298, -0.0438,  0.0936,\n        -0.0539, -0.0253,  0.0671, -0.0108, -0.0479, -0.0768, -0.0295,\n        -0.0852, -0.0653,  0.0681,  0.0076,  0.0801,  0.1257, -0.0271,\n         0.0571,  0.0538, -0.078 , -0.0526,  0.0406,  0.012 , -0.0614,\n         0.0984, -0.0367, -0.0448, -0.0349,  0.0561,  0.0087, -0.0246,\n         0.0902,  0.0158,  0.0685, -0.0815, -0.0458,  0.0394, -0.0158,\n        -0.0955, -0.0438,  0.0684,  0.0494,  0.032 , -0.056 ,  0.0058,\n        -0.0277, -0.002 ,  0.0634, -0.0379,  0.11  ,  0.0722,  0.0585,\n         0.0047, -0.0826, -0.0511, -0.0172, -0.0107, -0.0113,  0.0496,\n        -0.0184, -0.0191, -0.0086,  0.0796,  0.0184,  0.0272,  0.1211,\n        -0.0282, -0.0301,  0.0007,  0.0391,  0.0411,  0.0998, -0.0428,\n        -0.0276,  0.076 , -0.0226, -0.0356, -0.0423,  0.0086, -0.0971,\n        -0.0559, -0.0598, -0.0292, -0.0028, -0.0106,  0.0486, -0.0422,\n         0.0206, -0.0336, -0.0177,  0.0334, -0.0186, -0.0101,  0.0004,\n        -0.0733,  0.0028, -0.0302, -0.0348,  0.0206,  0.0014,  0.0239,\n        -0.0368,  0.0155, -0.0712,  0.0216, -0.0009, -0.0128,  0.0256,\n         0.0014,  0.056 , -0.0161,  0.034 ,  0.0065, -0.0653, -0.0029,\n        -0.0313, -0.02  , -0.0689,  0.0793,  0.0258,  0.0343,  0.067 ,\n        -0.0284,  0.0461,  0.013 , -0.02  , -0.051 , -0.0063, -0.0105,\n         0.0515,  0.0283, -0.0202, -0.0101, -0.0189,  0.0103, -0.0716,\n         0.0447, -0.0273,  0.0111,  0.0437, -0.0403,  0.0658, -0.0173,\n         0.0283,  0.0046, -0.0525,  0.0413, -0.0151,  0.0549,  0.0382,\n         0.0256,  0.0625, -0.026 ,  0.075 ,  0.0454,  0.0317,  0.0223,\n        -0.0137, -0.0608, -0.0384,  0.0216,  0.0036,  0.0227, -0.011 ,\n        -0.016 ,  0.0104, -0.0254,  0.0777,  0.028 ,  0.006 , -0.0231,\n         0.0097, -0.0727, -0.0276, -0.0041,  0.015 , -0.019 , -0.0281,\n         0.0521, -0.0404,  0.0406,  0.0114, -0.0229, -0.0577,  0.0365,\n        -0.0411,  0.0265,  0.0415,  0.023 ,  0.0332,  0.0145, -0.0329,\n        -0.0188,  0.0187,  0.0103,  0.0413,  0.0466, -0.0139,  0.0363,\n         0.0649,  0.0149, -0.0262, -0.0457, -0.0164,  0.0453,  0.0071,\n        -0.0059,  0.0494, -0.0048, -0.0057,  0.0286,  0.0226,  0.0462,\n         0.0237, -0.0898, -0.0009,  0.037 , -0.0352,  0.0358],\n       dtype=float32)"
     },
     "execution_count": 3,
     "metadata": {},
     "output_type": "execute_result"
    }
   ],
   "source": [
    "conceptnet_300_1908.wv['glass']"
   ],
   "metadata": {
    "collapsed": false,
    "pycharm": {
     "name": "#%%\n"
    },
    "trusted": false
   }
  },
  {
   "cell_type": "code",
   "execution_count": 26,
   "outputs": [
    {
     "data": {
      "text/plain": "0.32799363"
     },
     "execution_count": 26,
     "metadata": {},
     "output_type": "execute_result"
    }
   ],
   "source": [
    "conceptnet_300_1908.wv.similarity('awl', 'tool')"
   ],
   "metadata": {
    "collapsed": false,
    "pycharm": {
     "name": "#%%\n"
    }
   }
  },
  {
   "cell_type": "markdown",
   "source": [
    "## Multiwords ngrams"
   ],
   "metadata": {
    "collapsed": false
   }
  },
  {
   "cell_type": "code",
   "execution_count": 4,
   "outputs": [
    {
     "data": {
      "text/plain": "memmap([-0.0587,  0.0059,  0.0524,  0.1455, -0.0327, -0.1564, -0.0322,\n        -0.123 , -0.1841, -0.0523, -0.0155,  0.0606,  0.0196, -0.0192,\n        -0.0637, -0.0498,  0.02  ,  0.0404,  0.0097, -0.0521, -0.0037,\n        -0.0368,  0.1571,  0.0165, -0.0885,  0.0106,  0.0443, -0.0567,\n        -0.0439,  0.0417, -0.1301,  0.0491,  0.017 , -0.076 , -0.0633,\n        -0.0109, -0.0559, -0.0188,  0.0277, -0.0864,  0.0489,  0.0367,\n         0.023 , -0.0399,  0.1059,  0.0161,  0.0199, -0.034 , -0.0199,\n        -0.0838, -0.0491, -0.0271, -0.0415, -0.0152,  0.0493, -0.1295,\n        -0.1109,  0.0615, -0.0367, -0.1463, -0.0037,  0.0698,  0.1174,\n        -0.0399,  0.0276,  0.1589, -0.0398,  0.0327,  0.0141,  0.0144,\n        -0.0138,  0.0303,  0.0834,  0.0135, -0.0265,  0.051 , -0.0131,\n        -0.0194, -0.1451,  0.0735,  0.0077, -0.103 ,  0.0172,  0.0161,\n         0.0365,  0.0736, -0.0745,  0.0488,  0.0524,  0.0552, -0.0262,\n         0.0466, -0.049 , -0.1129, -0.0771,  0.0224, -0.0653, -0.0677,\n         0.041 ,  0.0112,  0.0316, -0.0128,  0.0723, -0.0222,  0.0545,\n        -0.1042,  0.0316, -0.0198,  0.0058,  0.0855,  0.0362, -0.1707,\n        -0.0119,  0.0376, -0.0532,  0.0181,  0.026 , -0.0415, -0.0586,\n        -0.002 , -0.0323,  0.0078,  0.0953, -0.0258,  0.0572,  0.0015,\n         0.0458, -0.0476, -0.082 ,  0.045 ,  0.0604, -0.0008, -0.0245,\n        -0.0643, -0.0692, -0.0237,  0.0131,  0.1258, -0.0056, -0.0718,\n        -0.0064,  0.1008,  0.0403, -0.0279, -0.0153,  0.0107, -0.0207,\n         0.0297,  0.1294,  0.0733,  0.0772, -0.0016,  0.0414,  0.0014,\n        -0.011 , -0.0588,  0.0065,  0.0155, -0.013 ,  0.1001,  0.0407,\n         0.0496, -0.0028, -0.0381, -0.0354,  0.0026, -0.036 , -0.009 ,\n         0.0541,  0.0769, -0.0769,  0.0444,  0.0287,  0.0891, -0.1061,\n        -0.0315,  0.0404,  0.0561,  0.0436,  0.0644,  0.0286, -0.0128,\n        -0.113 , -0.0559,  0.0114,  0.005 , -0.0097, -0.0219,  0.0076,\n        -0.0716, -0.0368, -0.0063,  0.041 , -0.0649,  0.1377,  0.0055,\n         0.0679,  0.0164,  0.1231, -0.0029, -0.0069, -0.0339,  0.0144,\n        -0.0049,  0.0082,  0.0349,  0.0092, -0.01  , -0.0728, -0.0363,\n         0.0184,  0.0177, -0.1335,  0.0584,  0.0249,  0.0482,  0.0558,\n         0.0267, -0.0499,  0.0304, -0.0005, -0.0277, -0.0491,  0.0839,\n         0.0273, -0.0341, -0.0448,  0.0132,  0.119 , -0.0525,  0.0346,\n        -0.0172, -0.0347, -0.04  , -0.0125, -0.0989, -0.0591, -0.0221,\n         0.0246, -0.072 ,  0.0438,  0.0104,  0.0617,  0.0661, -0.0402,\n        -0.0159, -0.0347,  0.0331,  0.0481, -0.0136, -0.0468,  0.0736,\n        -0.1028,  0.0239, -0.0095,  0.1024, -0.0262,  0.04  , -0.0137,\n         0.0426,  0.0079,  0.0273,  0.0882, -0.0603, -0.0497,  0.0412,\n         0.0354,  0.0778, -0.0436, -0.0573, -0.0473,  0.0638,  0.0023,\n        -0.0717, -0.0573, -0.0422,  0.0247, -0.0332, -0.0943, -0.0401,\n         0.0215,  0.0129, -0.0213,  0.0541, -0.0109,  0.0159,  0.0381,\n        -0.0046,  0.038 ,  0.0031, -0.0621,  0.0146, -0.0488,  0.0469,\n        -0.0441,  0.029 ,  0.0741, -0.0575, -0.0075, -0.0259],\n       dtype=float32)"
     },
     "execution_count": 4,
     "metadata": {},
     "output_type": "execute_result"
    }
   ],
   "source": [
    "conceptnet_300_1908.wv[\"adjustable_wrench\"]"
   ],
   "metadata": {
    "collapsed": false,
    "pycharm": {
     "name": "#%%\n"
    },
    "trusted": false
   }
  },
  {
   "cell_type": "code",
   "execution_count": 37,
   "outputs": [
    {
     "ename": "KeyError",
     "evalue": "\"word 'ball-peen_hammer' not in vocabulary\"",
     "output_type": "error",
     "traceback": [
      "\u001B[0;31m---------------------------------------------------------------------------\u001B[0m",
      "\u001B[0;31mKeyError\u001B[0m                                  Traceback (most recent call last)",
      "\u001B[0;32m/tmp/ipykernel_40726/680520480.py\u001B[0m in \u001B[0;36m<module>\u001B[0;34m\u001B[0m\n\u001B[0;32m----> 1\u001B[0;31m \u001B[0mconceptnet_300_1908\u001B[0m\u001B[0;34m.\u001B[0m\u001B[0mwv\u001B[0m\u001B[0;34m[\u001B[0m\u001B[0;34m\"ball-peen_hammer\"\u001B[0m\u001B[0;34m]\u001B[0m\u001B[0;34m\u001B[0m\u001B[0;34m\u001B[0m\u001B[0m\n\u001B[0m",
      "\u001B[0;32m~/anaconda3/lib/python3.9/site-packages/gensim/models/keyedvectors.py\u001B[0m in \u001B[0;36m__getitem__\u001B[0;34m(self, entities)\u001B[0m\n\u001B[1;32m    351\u001B[0m         \u001B[0;32mif\u001B[0m \u001B[0misinstance\u001B[0m\u001B[0;34m(\u001B[0m\u001B[0mentities\u001B[0m\u001B[0;34m,\u001B[0m \u001B[0mstring_types\u001B[0m\u001B[0;34m)\u001B[0m\u001B[0;34m:\u001B[0m\u001B[0;34m\u001B[0m\u001B[0;34m\u001B[0m\u001B[0m\n\u001B[1;32m    352\u001B[0m             \u001B[0;31m# allow calls like trained_model['office'], as a shorthand for trained_model[['office']]\u001B[0m\u001B[0;34m\u001B[0m\u001B[0;34m\u001B[0m\u001B[0m\n\u001B[0;32m--> 353\u001B[0;31m             \u001B[0;32mreturn\u001B[0m \u001B[0mself\u001B[0m\u001B[0;34m.\u001B[0m\u001B[0mget_vector\u001B[0m\u001B[0;34m(\u001B[0m\u001B[0mentities\u001B[0m\u001B[0;34m)\u001B[0m\u001B[0;34m\u001B[0m\u001B[0;34m\u001B[0m\u001B[0m\n\u001B[0m\u001B[1;32m    354\u001B[0m \u001B[0;34m\u001B[0m\u001B[0m\n\u001B[1;32m    355\u001B[0m         \u001B[0;32mreturn\u001B[0m \u001B[0mvstack\u001B[0m\u001B[0;34m(\u001B[0m\u001B[0;34m[\u001B[0m\u001B[0mself\u001B[0m\u001B[0;34m.\u001B[0m\u001B[0mget_vector\u001B[0m\u001B[0;34m(\u001B[0m\u001B[0mentity\u001B[0m\u001B[0;34m)\u001B[0m \u001B[0;32mfor\u001B[0m \u001B[0mentity\u001B[0m \u001B[0;32min\u001B[0m \u001B[0mentities\u001B[0m\u001B[0;34m]\u001B[0m\u001B[0;34m)\u001B[0m\u001B[0;34m\u001B[0m\u001B[0;34m\u001B[0m\u001B[0m\n",
      "\u001B[0;32m~/anaconda3/lib/python3.9/site-packages/gensim/models/keyedvectors.py\u001B[0m in \u001B[0;36mget_vector\u001B[0;34m(self, word)\u001B[0m\n\u001B[1;32m    469\u001B[0m \u001B[0;34m\u001B[0m\u001B[0m\n\u001B[1;32m    470\u001B[0m     \u001B[0;32mdef\u001B[0m \u001B[0mget_vector\u001B[0m\u001B[0;34m(\u001B[0m\u001B[0mself\u001B[0m\u001B[0;34m,\u001B[0m \u001B[0mword\u001B[0m\u001B[0;34m)\u001B[0m\u001B[0;34m:\u001B[0m\u001B[0;34m\u001B[0m\u001B[0;34m\u001B[0m\u001B[0m\n\u001B[0;32m--> 471\u001B[0;31m         \u001B[0;32mreturn\u001B[0m \u001B[0mself\u001B[0m\u001B[0;34m.\u001B[0m\u001B[0mword_vec\u001B[0m\u001B[0;34m(\u001B[0m\u001B[0mword\u001B[0m\u001B[0;34m)\u001B[0m\u001B[0;34m\u001B[0m\u001B[0;34m\u001B[0m\u001B[0m\n\u001B[0m\u001B[1;32m    472\u001B[0m \u001B[0;34m\u001B[0m\u001B[0m\n\u001B[1;32m    473\u001B[0m     \u001B[0;32mdef\u001B[0m \u001B[0mwords_closer_than\u001B[0m\u001B[0;34m(\u001B[0m\u001B[0mself\u001B[0m\u001B[0;34m,\u001B[0m \u001B[0mw1\u001B[0m\u001B[0;34m,\u001B[0m \u001B[0mw2\u001B[0m\u001B[0;34m)\u001B[0m\u001B[0;34m:\u001B[0m\u001B[0;34m\u001B[0m\u001B[0;34m\u001B[0m\u001B[0m\n",
      "\u001B[0;32m~/anaconda3/lib/python3.9/site-packages/gensim/models/keyedvectors.py\u001B[0m in \u001B[0;36mword_vec\u001B[0;34m(self, word, use_norm)\u001B[0m\n\u001B[1;32m    466\u001B[0m             \u001B[0;32mreturn\u001B[0m \u001B[0mresult\u001B[0m\u001B[0;34m\u001B[0m\u001B[0;34m\u001B[0m\u001B[0m\n\u001B[1;32m    467\u001B[0m         \u001B[0;32melse\u001B[0m\u001B[0;34m:\u001B[0m\u001B[0;34m\u001B[0m\u001B[0;34m\u001B[0m\u001B[0m\n\u001B[0;32m--> 468\u001B[0;31m             \u001B[0;32mraise\u001B[0m \u001B[0mKeyError\u001B[0m\u001B[0;34m(\u001B[0m\u001B[0;34m\"word '%s' not in vocabulary\"\u001B[0m \u001B[0;34m%\u001B[0m \u001B[0mword\u001B[0m\u001B[0;34m)\u001B[0m\u001B[0;34m\u001B[0m\u001B[0;34m\u001B[0m\u001B[0m\n\u001B[0m\u001B[1;32m    469\u001B[0m \u001B[0;34m\u001B[0m\u001B[0m\n\u001B[1;32m    470\u001B[0m     \u001B[0;32mdef\u001B[0m \u001B[0mget_vector\u001B[0m\u001B[0;34m(\u001B[0m\u001B[0mself\u001B[0m\u001B[0;34m,\u001B[0m \u001B[0mword\u001B[0m\u001B[0;34m)\u001B[0m\u001B[0;34m:\u001B[0m\u001B[0;34m\u001B[0m\u001B[0;34m\u001B[0m\u001B[0m\n",
      "\u001B[0;31mKeyError\u001B[0m: \"word 'ball-peen_hammer' not in vocabulary\""
     ]
    }
   ],
   "source": [
    "conceptnet_300_1908.wv[\"ball-peen_hammer\"]"
   ],
   "metadata": {
    "collapsed": false,
    "pycharm": {
     "name": "#%%\n"
    }
   }
  },
  {
   "cell_type": "code",
   "execution_count": 36,
   "outputs": [
    {
     "data": {
      "text/plain": "                              Synsets domain_x  nrdirhypers_x  nrhypos_x  \\\n0    Synset('adjustable_wrench.n.01')     tool              1          7   \n1         Synset('allen_wrench.n.01')     tool              1          0   \n2     Synset('alligator_wrench.n.01')     tool              1          0   \n3                  Synset('awl.n.01')     tool              1          2   \n4              Synset('backsaw.n.01')     tool              1          0   \n..                                ...      ...            ...        ...   \n834       Synset('ballet_skirt.n.01')     garm              1          0   \n835        Synset('mess_jacket.n.01')     garm              1          0   \n836         Synset('long_johns.n.01')     garm              1          0   \n837             Synset('undies.n.01')     garm              1          0   \n838           Synset('lingerie.n.01')     garm              1          2   \n\n     nrpartrels_normalised_x  depthfromtopsynset_normalised_x  \\\n0                        0.0                         1.012903   \n1                        0.0                         1.012903   \n2                        0.0                         1.012903   \n3                       15.7                         0.911613   \n4                        0.0                         1.114194   \n..                       ...                              ...   \n834                      0.0                         0.947552   \n835                      0.0                         1.158120   \n836                      0.0                         1.052836   \n837                      0.0                         1.158120   \n838                      0.0                         1.052836   \n\n     glosslength_normalised_x  minwordlength_x  nroflemmas_x  polyscore_max_x  \\\n0                    0.563173               17             2                1   \n1                    0.391092               12             1                1   \n2                    1.517437               16             1                1   \n3                    0.985552                3             1                1   \n4                    1.110701                7             2                1   \n..                        ...              ...           ...              ...   \n834                  0.578283                4             2                2   \n835                  1.652238               11             3                1   \n836                  0.479149               10             1                1   \n837                  0.280880                6             1                1   \n838                  0.561761                8             2                1   \n\n     ... ngram_50y_max  ngram_100y_mean  ngram_100y_max  ngram_200y_mean  \\\n0    ...  5.067315e-08     2.252890e-08    5.067315e-08     1.380492e-08   \n1    ...  6.483798e-08     1.515313e-08    6.483798e-08     7.715051e-09   \n2    ...  5.970550e-10     6.184165e-10    7.804026e-09     1.237592e-09   \n3    ...  3.752697e-07     3.562540e-07    6.002532e-07     5.869817e-07   \n4    ...  2.446695e-08     1.704462e-08    2.446695e-08     1.451245e-08   \n..   ...           ...              ...             ...              ...   \n834  ...  8.004256e-07     2.485961e-07    8.004256e-07     1.531570e-07   \n835  ...  8.272560e-09     1.233276e-08    2.136213e-08     1.358353e-08   \n836  ...  1.103470e-07     2.680743e-08    1.103470e-07     1.393969e-08   \n837  ...  2.565946e-07     5.787213e-08    2.565946e-07     3.095668e-08   \n838  ...  1.126403e-06     4.927242e-07    1.126403e-06     2.835355e-07   \n\n     ngram_200y_max  ngram_400y_mean  ngram_400y_max  ngram_500y_mean  \\\n0      5.067315e-08     6.919673e-09    5.067315e-08     5.336133e-09   \n1      6.483798e-08     3.867145e-09    6.483798e-08     2.982164e-09   \n2      1.499339e-08     6.203393e-10    1.499339e-08     4.783770e-10   \n3      2.510665e-06     6.210211e-07    6.602901e-06     5.069033e-07   \n4      3.507272e-08     9.018908e-09    2.260505e-07     6.954965e-09   \n..              ...              ...             ...              ...   \n834    8.004256e-07     1.136149e-07    8.004256e-07     9.223624e-08   \n835    5.083992e-08     6.963715e-09    5.547362e-08     5.370096e-09   \n836    1.103470e-07     6.987224e-09    1.103470e-07     5.388225e-09   \n837    2.565946e-07     2.025520e-08    3.896998e-07     1.561987e-08   \n838    1.126403e-06     1.440483e-07    1.126403e-06     1.351753e-07   \n\n     ngram_500y_max               norm  \n0      5.067315e-08  adjustable_wrench  \n1      6.483798e-08       allen_wrench  \n2      1.499339e-08   alligator_wrench  \n3      6.602901e-06                awl  \n4      2.260505e-07            backsaw  \n..              ...                ...  \n834    1.686392e-06       ballet_skirt  \n835    5.547362e-08        mess_jacket  \n836    1.103470e-07         long_johns  \n837    3.896998e-07             undies  \n838    8.808865e-06           lingerie  \n\n[839 rows x 30 columns]",
      "text/html": "<div>\n<style scoped>\n    .dataframe tbody tr th:only-of-type {\n        vertical-align: middle;\n    }\n\n    .dataframe tbody tr th {\n        vertical-align: top;\n    }\n\n    .dataframe thead th {\n        text-align: right;\n    }\n</style>\n<table border=\"1\" class=\"dataframe\">\n  <thead>\n    <tr style=\"text-align: right;\">\n      <th></th>\n      <th>Synsets</th>\n      <th>domain_x</th>\n      <th>nrdirhypers_x</th>\n      <th>nrhypos_x</th>\n      <th>nrpartrels_normalised_x</th>\n      <th>depthfromtopsynset_normalised_x</th>\n      <th>glosslength_normalised_x</th>\n      <th>minwordlength_x</th>\n      <th>nroflemmas_x</th>\n      <th>polyscore_max_x</th>\n      <th>...</th>\n      <th>ngram_50y_max</th>\n      <th>ngram_100y_mean</th>\n      <th>ngram_100y_max</th>\n      <th>ngram_200y_mean</th>\n      <th>ngram_200y_max</th>\n      <th>ngram_400y_mean</th>\n      <th>ngram_400y_max</th>\n      <th>ngram_500y_mean</th>\n      <th>ngram_500y_max</th>\n      <th>norm</th>\n    </tr>\n  </thead>\n  <tbody>\n    <tr>\n      <th>0</th>\n      <td>Synset('adjustable_wrench.n.01')</td>\n      <td>tool</td>\n      <td>1</td>\n      <td>7</td>\n      <td>0.0</td>\n      <td>1.012903</td>\n      <td>0.563173</td>\n      <td>17</td>\n      <td>2</td>\n      <td>1</td>\n      <td>...</td>\n      <td>5.067315e-08</td>\n      <td>2.252890e-08</td>\n      <td>5.067315e-08</td>\n      <td>1.380492e-08</td>\n      <td>5.067315e-08</td>\n      <td>6.919673e-09</td>\n      <td>5.067315e-08</td>\n      <td>5.336133e-09</td>\n      <td>5.067315e-08</td>\n      <td>adjustable_wrench</td>\n    </tr>\n    <tr>\n      <th>1</th>\n      <td>Synset('allen_wrench.n.01')</td>\n      <td>tool</td>\n      <td>1</td>\n      <td>0</td>\n      <td>0.0</td>\n      <td>1.012903</td>\n      <td>0.391092</td>\n      <td>12</td>\n      <td>1</td>\n      <td>1</td>\n      <td>...</td>\n      <td>6.483798e-08</td>\n      <td>1.515313e-08</td>\n      <td>6.483798e-08</td>\n      <td>7.715051e-09</td>\n      <td>6.483798e-08</td>\n      <td>3.867145e-09</td>\n      <td>6.483798e-08</td>\n      <td>2.982164e-09</td>\n      <td>6.483798e-08</td>\n      <td>allen_wrench</td>\n    </tr>\n    <tr>\n      <th>2</th>\n      <td>Synset('alligator_wrench.n.01')</td>\n      <td>tool</td>\n      <td>1</td>\n      <td>0</td>\n      <td>0.0</td>\n      <td>1.012903</td>\n      <td>1.517437</td>\n      <td>16</td>\n      <td>1</td>\n      <td>1</td>\n      <td>...</td>\n      <td>5.970550e-10</td>\n      <td>6.184165e-10</td>\n      <td>7.804026e-09</td>\n      <td>1.237592e-09</td>\n      <td>1.499339e-08</td>\n      <td>6.203393e-10</td>\n      <td>1.499339e-08</td>\n      <td>4.783770e-10</td>\n      <td>1.499339e-08</td>\n      <td>alligator_wrench</td>\n    </tr>\n    <tr>\n      <th>3</th>\n      <td>Synset('awl.n.01')</td>\n      <td>tool</td>\n      <td>1</td>\n      <td>2</td>\n      <td>15.7</td>\n      <td>0.911613</td>\n      <td>0.985552</td>\n      <td>3</td>\n      <td>1</td>\n      <td>1</td>\n      <td>...</td>\n      <td>3.752697e-07</td>\n      <td>3.562540e-07</td>\n      <td>6.002532e-07</td>\n      <td>5.869817e-07</td>\n      <td>2.510665e-06</td>\n      <td>6.210211e-07</td>\n      <td>6.602901e-06</td>\n      <td>5.069033e-07</td>\n      <td>6.602901e-06</td>\n      <td>awl</td>\n    </tr>\n    <tr>\n      <th>4</th>\n      <td>Synset('backsaw.n.01')</td>\n      <td>tool</td>\n      <td>1</td>\n      <td>0</td>\n      <td>0.0</td>\n      <td>1.114194</td>\n      <td>1.110701</td>\n      <td>7</td>\n      <td>2</td>\n      <td>1</td>\n      <td>...</td>\n      <td>2.446695e-08</td>\n      <td>1.704462e-08</td>\n      <td>2.446695e-08</td>\n      <td>1.451245e-08</td>\n      <td>3.507272e-08</td>\n      <td>9.018908e-09</td>\n      <td>2.260505e-07</td>\n      <td>6.954965e-09</td>\n      <td>2.260505e-07</td>\n      <td>backsaw</td>\n    </tr>\n    <tr>\n      <th>...</th>\n      <td>...</td>\n      <td>...</td>\n      <td>...</td>\n      <td>...</td>\n      <td>...</td>\n      <td>...</td>\n      <td>...</td>\n      <td>...</td>\n      <td>...</td>\n      <td>...</td>\n      <td>...</td>\n      <td>...</td>\n      <td>...</td>\n      <td>...</td>\n      <td>...</td>\n      <td>...</td>\n      <td>...</td>\n      <td>...</td>\n      <td>...</td>\n      <td>...</td>\n      <td>...</td>\n    </tr>\n    <tr>\n      <th>834</th>\n      <td>Synset('ballet_skirt.n.01')</td>\n      <td>garm</td>\n      <td>1</td>\n      <td>0</td>\n      <td>0.0</td>\n      <td>0.947552</td>\n      <td>0.578283</td>\n      <td>4</td>\n      <td>2</td>\n      <td>2</td>\n      <td>...</td>\n      <td>8.004256e-07</td>\n      <td>2.485961e-07</td>\n      <td>8.004256e-07</td>\n      <td>1.531570e-07</td>\n      <td>8.004256e-07</td>\n      <td>1.136149e-07</td>\n      <td>8.004256e-07</td>\n      <td>9.223624e-08</td>\n      <td>1.686392e-06</td>\n      <td>ballet_skirt</td>\n    </tr>\n    <tr>\n      <th>835</th>\n      <td>Synset('mess_jacket.n.01')</td>\n      <td>garm</td>\n      <td>1</td>\n      <td>0</td>\n      <td>0.0</td>\n      <td>1.158120</td>\n      <td>1.652238</td>\n      <td>11</td>\n      <td>3</td>\n      <td>1</td>\n      <td>...</td>\n      <td>8.272560e-09</td>\n      <td>1.233276e-08</td>\n      <td>2.136213e-08</td>\n      <td>1.358353e-08</td>\n      <td>5.083992e-08</td>\n      <td>6.963715e-09</td>\n      <td>5.547362e-08</td>\n      <td>5.370096e-09</td>\n      <td>5.547362e-08</td>\n      <td>mess_jacket</td>\n    </tr>\n    <tr>\n      <th>836</th>\n      <td>Synset('long_johns.n.01')</td>\n      <td>garm</td>\n      <td>1</td>\n      <td>0</td>\n      <td>0.0</td>\n      <td>1.052836</td>\n      <td>0.479149</td>\n      <td>10</td>\n      <td>1</td>\n      <td>1</td>\n      <td>...</td>\n      <td>1.103470e-07</td>\n      <td>2.680743e-08</td>\n      <td>1.103470e-07</td>\n      <td>1.393969e-08</td>\n      <td>1.103470e-07</td>\n      <td>6.987224e-09</td>\n      <td>1.103470e-07</td>\n      <td>5.388225e-09</td>\n      <td>1.103470e-07</td>\n      <td>long_johns</td>\n    </tr>\n    <tr>\n      <th>837</th>\n      <td>Synset('undies.n.01')</td>\n      <td>garm</td>\n      <td>1</td>\n      <td>0</td>\n      <td>0.0</td>\n      <td>1.158120</td>\n      <td>0.280880</td>\n      <td>6</td>\n      <td>1</td>\n      <td>1</td>\n      <td>...</td>\n      <td>2.565946e-07</td>\n      <td>5.787213e-08</td>\n      <td>2.565946e-07</td>\n      <td>3.095668e-08</td>\n      <td>2.565946e-07</td>\n      <td>2.025520e-08</td>\n      <td>3.896998e-07</td>\n      <td>1.561987e-08</td>\n      <td>3.896998e-07</td>\n      <td>undies</td>\n    </tr>\n    <tr>\n      <th>838</th>\n      <td>Synset('lingerie.n.01')</td>\n      <td>garm</td>\n      <td>1</td>\n      <td>2</td>\n      <td>0.0</td>\n      <td>1.052836</td>\n      <td>0.561761</td>\n      <td>8</td>\n      <td>2</td>\n      <td>1</td>\n      <td>...</td>\n      <td>1.126403e-06</td>\n      <td>4.927242e-07</td>\n      <td>1.126403e-06</td>\n      <td>2.835355e-07</td>\n      <td>1.126403e-06</td>\n      <td>1.440483e-07</td>\n      <td>1.126403e-06</td>\n      <td>1.351753e-07</td>\n      <td>8.808865e-06</td>\n      <td>lingerie</td>\n    </tr>\n  </tbody>\n</table>\n<p>839 rows × 30 columns</p>\n</div>"
     },
     "execution_count": 36,
     "metadata": {},
     "output_type": "execute_result"
    }
   ],
   "source": [
    "dataset_structual = pd.read_csv('../corpora_size/size_differential_features.csv', index_col=None)\n",
    "norm_col = dataset_structual['norm']\n",
    "dataset_frequency = pd.read_csv('../Google_Ngrams/features_google_ngram.csv')\n",
    "data = pd.concat([dataset_frequency, norm_col], axis=1)\n",
    "\n",
    "data"
   ],
   "metadata": {
    "collapsed": false,
    "pycharm": {
     "name": "#%%\n"
    },
    "trusted": false
   }
  },
  {
   "cell_type": "markdown",
   "source": [
    "### test how many multiwords ngrams are not in the vocubulary of  conceptnet_300"
   ],
   "metadata": {
    "collapsed": false
   }
  },
  {
   "cell_type": "code",
   "execution_count": 6,
   "outputs": [
    {
     "data": {
      "text/plain": "63"
     },
     "execution_count": 6,
     "metadata": {},
     "output_type": "execute_result"
    }
   ],
   "source": [
    "count = 0\n",
    "def countMulti(norm):\n",
    "    global count\n",
    "    try:\n",
    "        conceptnet_300_1908[norm]\n",
    "    except KeyError:\n",
    "        count += 1\n",
    "\n",
    "for norm in norm_col:\n",
    "    countMulti(norm)\n",
    "\n",
    "count"
   ],
   "metadata": {
    "collapsed": false,
    "pycharm": {
     "name": "#%%\n"
    },
    "trusted": false
   }
  },
  {
   "cell_type": "code",
   "execution_count": 7,
   "outputs": [
    {
     "data": {
      "text/plain": "                       Synsets domain_x  nrdirhypers_x  nrhypos_x  \\\n3           Synset('awl.n.01')     tool              1          2   \n7         Synset('bevel.n.02')     tool              1          0   \n20   Synset('can_opener.n.01')     tool              1          1   \n42         Synset('file.n.04')     tool              1          7   \n45        Synset('float.n.05')     tool              1          0   \n..                         ...      ...            ...        ...   \n781       Synset('shawl.n.01')     garm              1          2   \n787      Synset('diaper.n.01')     garm              1          0   \n806      Synset('cravat.n.01')     garm              1          2   \n807   Synset('jump_suit.n.01')     garm              1          0   \n819    Synset('swimsuit.n.01')     garm              1          3   \n\n     nrpartrels_normalised_x  depthfromtopsynset_normalised_x  \\\n3                      15.70                         0.911613   \n7                       0.00                         0.911613   \n20                      0.00                         1.012903   \n42                      7.85                         0.911613   \n45                      0.00                         0.911613   \n..                       ...                              ...   \n781                     0.00                         1.052836   \n787                     0.00                         0.842269   \n806                     0.00                         0.947552   \n807                     0.00                         0.842269   \n819                     0.00                         0.842269   \n\n     glosslength_normalised_x  minwordlength_x  nroflemmas_x  polyscore_max_x  \\\n3                    0.985552                3             1                1   \n7                    1.658230                5             2                3   \n20                   0.469310               10             2                1   \n42                   1.642587                4             1                9   \n45                   1.626943                5             2               16   \n..                        ...              ...           ...              ...   \n781                  1.338312                5             1                1   \n787                  2.048775                5             3                2   \n806                  1.222656                6             1                1   \n807                  0.941775                8             2                2   \n819                  0.644373                8             5                1   \n\n     ... ngram_50y_max  ngram_100y_mean  ngram_100y_max  ngram_200y_mean  \\\n3    ...  3.752697e-07     3.562540e-07    6.002532e-07     5.869817e-07   \n7    ...  9.513883e-07     1.238529e-06    2.987358e-06     1.284106e-06   \n20   ...  1.702205e-07     1.236264e-07    1.850540e-07     6.976450e-08   \n42   ...  1.196456e-04     7.048989e-05    1.196456e-04     4.672222e-05   \n45   ...  7.436253e-06     6.709493e-06    8.781458e-06     6.752873e-06   \n..   ...           ...              ...             ...              ...   \n781  ...  3.018861e-06     1.178736e-06    3.018861e-06     1.817206e-06   \n787  ...  3.766214e-06     1.842934e-06    3.766214e-06     1.698405e-06   \n806  ...  8.362473e-07     2.618125e-07    8.368556e-07     5.095763e-07   \n807  ...  4.743555e-07     9.574206e-08    4.743555e-07     4.812615e-08   \n819  ...  6.316480e-07     4.964374e-07    6.358766e-07     2.621829e-07   \n\n     ngram_200y_max  ngram_400y_mean  ngram_400y_max  ngram_500y_mean  \\\n3      2.510665e-06     6.210211e-07    6.602901e-06     5.069033e-07   \n7      3.575464e-06     7.127717e-07    3.575464e-06     5.572185e-07   \n20     1.850540e-07     3.552610e-08    1.850540e-07     2.739609e-08   \n42     1.196456e-04     2.973890e-05    1.340107e-04     3.395719e-05   \n45     8.781458e-06     4.741968e-06    1.168276e-05     4.625641e-06   \n..              ...              ...             ...              ...   \n781    3.932809e-06     9.622429e-07    3.932809e-06     7.557250e-07   \n787    3.762380e-06     1.792126e-06    6.748289e-06     1.741897e-06   \n806    1.189095e-06     3.883318e-07    1.938029e-06     3.066203e-07   \n807    4.743555e-07     2.412624e-08    4.743555e-07     1.860504e-08   \n819    6.358766e-07     1.317177e-07    6.358766e-07     1.015746e-07   \n\n     ngram_500y_max        norm  \n3      6.602901e-06         awl  \n7      3.575464e-06       bevel  \n20     1.850540e-07  can_opener  \n42     1.276429e-03        file  \n45     1.974173e-04       float  \n..              ...         ...  \n781    5.032257e-06       shawl  \n787    5.148889e-05      diaper  \n806    1.938029e-06      cravat  \n807    4.743555e-07   jump_suit  \n819    6.358766e-07    swimsuit  \n\n[175 rows x 30 columns]",
      "text/html": "<div>\n<style scoped>\n    .dataframe tbody tr th:only-of-type {\n        vertical-align: middle;\n    }\n\n    .dataframe tbody tr th {\n        vertical-align: top;\n    }\n\n    .dataframe thead th {\n        text-align: right;\n    }\n</style>\n<table border=\"1\" class=\"dataframe\">\n  <thead>\n    <tr style=\"text-align: right;\">\n      <th></th>\n      <th>Synsets</th>\n      <th>domain_x</th>\n      <th>nrdirhypers_x</th>\n      <th>nrhypos_x</th>\n      <th>nrpartrels_normalised_x</th>\n      <th>depthfromtopsynset_normalised_x</th>\n      <th>glosslength_normalised_x</th>\n      <th>minwordlength_x</th>\n      <th>nroflemmas_x</th>\n      <th>polyscore_max_x</th>\n      <th>...</th>\n      <th>ngram_50y_max</th>\n      <th>ngram_100y_mean</th>\n      <th>ngram_100y_max</th>\n      <th>ngram_200y_mean</th>\n      <th>ngram_200y_max</th>\n      <th>ngram_400y_mean</th>\n      <th>ngram_400y_max</th>\n      <th>ngram_500y_mean</th>\n      <th>ngram_500y_max</th>\n      <th>norm</th>\n    </tr>\n  </thead>\n  <tbody>\n    <tr>\n      <th>3</th>\n      <td>Synset('awl.n.01')</td>\n      <td>tool</td>\n      <td>1</td>\n      <td>2</td>\n      <td>15.70</td>\n      <td>0.911613</td>\n      <td>0.985552</td>\n      <td>3</td>\n      <td>1</td>\n      <td>1</td>\n      <td>...</td>\n      <td>3.752697e-07</td>\n      <td>3.562540e-07</td>\n      <td>6.002532e-07</td>\n      <td>5.869817e-07</td>\n      <td>2.510665e-06</td>\n      <td>6.210211e-07</td>\n      <td>6.602901e-06</td>\n      <td>5.069033e-07</td>\n      <td>6.602901e-06</td>\n      <td>awl</td>\n    </tr>\n    <tr>\n      <th>7</th>\n      <td>Synset('bevel.n.02')</td>\n      <td>tool</td>\n      <td>1</td>\n      <td>0</td>\n      <td>0.00</td>\n      <td>0.911613</td>\n      <td>1.658230</td>\n      <td>5</td>\n      <td>2</td>\n      <td>3</td>\n      <td>...</td>\n      <td>9.513883e-07</td>\n      <td>1.238529e-06</td>\n      <td>2.987358e-06</td>\n      <td>1.284106e-06</td>\n      <td>3.575464e-06</td>\n      <td>7.127717e-07</td>\n      <td>3.575464e-06</td>\n      <td>5.572185e-07</td>\n      <td>3.575464e-06</td>\n      <td>bevel</td>\n    </tr>\n    <tr>\n      <th>20</th>\n      <td>Synset('can_opener.n.01')</td>\n      <td>tool</td>\n      <td>1</td>\n      <td>1</td>\n      <td>0.00</td>\n      <td>1.012903</td>\n      <td>0.469310</td>\n      <td>10</td>\n      <td>2</td>\n      <td>1</td>\n      <td>...</td>\n      <td>1.702205e-07</td>\n      <td>1.236264e-07</td>\n      <td>1.850540e-07</td>\n      <td>6.976450e-08</td>\n      <td>1.850540e-07</td>\n      <td>3.552610e-08</td>\n      <td>1.850540e-07</td>\n      <td>2.739609e-08</td>\n      <td>1.850540e-07</td>\n      <td>can_opener</td>\n    </tr>\n    <tr>\n      <th>42</th>\n      <td>Synset('file.n.04')</td>\n      <td>tool</td>\n      <td>1</td>\n      <td>7</td>\n      <td>7.85</td>\n      <td>0.911613</td>\n      <td>1.642587</td>\n      <td>4</td>\n      <td>1</td>\n      <td>9</td>\n      <td>...</td>\n      <td>1.196456e-04</td>\n      <td>7.048989e-05</td>\n      <td>1.196456e-04</td>\n      <td>4.672222e-05</td>\n      <td>1.196456e-04</td>\n      <td>2.973890e-05</td>\n      <td>1.340107e-04</td>\n      <td>3.395719e-05</td>\n      <td>1.276429e-03</td>\n      <td>file</td>\n    </tr>\n    <tr>\n      <th>45</th>\n      <td>Synset('float.n.05')</td>\n      <td>tool</td>\n      <td>1</td>\n      <td>0</td>\n      <td>0.00</td>\n      <td>0.911613</td>\n      <td>1.626943</td>\n      <td>5</td>\n      <td>2</td>\n      <td>16</td>\n      <td>...</td>\n      <td>7.436253e-06</td>\n      <td>6.709493e-06</td>\n      <td>8.781458e-06</td>\n      <td>6.752873e-06</td>\n      <td>8.781458e-06</td>\n      <td>4.741968e-06</td>\n      <td>1.168276e-05</td>\n      <td>4.625641e-06</td>\n      <td>1.974173e-04</td>\n      <td>float</td>\n    </tr>\n    <tr>\n      <th>...</th>\n      <td>...</td>\n      <td>...</td>\n      <td>...</td>\n      <td>...</td>\n      <td>...</td>\n      <td>...</td>\n      <td>...</td>\n      <td>...</td>\n      <td>...</td>\n      <td>...</td>\n      <td>...</td>\n      <td>...</td>\n      <td>...</td>\n      <td>...</td>\n      <td>...</td>\n      <td>...</td>\n      <td>...</td>\n      <td>...</td>\n      <td>...</td>\n      <td>...</td>\n      <td>...</td>\n    </tr>\n    <tr>\n      <th>781</th>\n      <td>Synset('shawl.n.01')</td>\n      <td>garm</td>\n      <td>1</td>\n      <td>2</td>\n      <td>0.00</td>\n      <td>1.052836</td>\n      <td>1.338312</td>\n      <td>5</td>\n      <td>1</td>\n      <td>1</td>\n      <td>...</td>\n      <td>3.018861e-06</td>\n      <td>1.178736e-06</td>\n      <td>3.018861e-06</td>\n      <td>1.817206e-06</td>\n      <td>3.932809e-06</td>\n      <td>9.622429e-07</td>\n      <td>3.932809e-06</td>\n      <td>7.557250e-07</td>\n      <td>5.032257e-06</td>\n      <td>shawl</td>\n    </tr>\n    <tr>\n      <th>787</th>\n      <td>Synset('diaper.n.01')</td>\n      <td>garm</td>\n      <td>1</td>\n      <td>0</td>\n      <td>0.00</td>\n      <td>0.842269</td>\n      <td>2.048775</td>\n      <td>5</td>\n      <td>3</td>\n      <td>2</td>\n      <td>...</td>\n      <td>3.766214e-06</td>\n      <td>1.842934e-06</td>\n      <td>3.766214e-06</td>\n      <td>1.698405e-06</td>\n      <td>3.762380e-06</td>\n      <td>1.792126e-06</td>\n      <td>6.748289e-06</td>\n      <td>1.741897e-06</td>\n      <td>5.148889e-05</td>\n      <td>diaper</td>\n    </tr>\n    <tr>\n      <th>806</th>\n      <td>Synset('cravat.n.01')</td>\n      <td>garm</td>\n      <td>1</td>\n      <td>2</td>\n      <td>0.00</td>\n      <td>0.947552</td>\n      <td>1.222656</td>\n      <td>6</td>\n      <td>1</td>\n      <td>1</td>\n      <td>...</td>\n      <td>8.362473e-07</td>\n      <td>2.618125e-07</td>\n      <td>8.368556e-07</td>\n      <td>5.095763e-07</td>\n      <td>1.189095e-06</td>\n      <td>3.883318e-07</td>\n      <td>1.938029e-06</td>\n      <td>3.066203e-07</td>\n      <td>1.938029e-06</td>\n      <td>cravat</td>\n    </tr>\n    <tr>\n      <th>807</th>\n      <td>Synset('jump_suit.n.01')</td>\n      <td>garm</td>\n      <td>1</td>\n      <td>0</td>\n      <td>0.00</td>\n      <td>0.842269</td>\n      <td>0.941775</td>\n      <td>8</td>\n      <td>2</td>\n      <td>2</td>\n      <td>...</td>\n      <td>4.743555e-07</td>\n      <td>9.574206e-08</td>\n      <td>4.743555e-07</td>\n      <td>4.812615e-08</td>\n      <td>4.743555e-07</td>\n      <td>2.412624e-08</td>\n      <td>4.743555e-07</td>\n      <td>1.860504e-08</td>\n      <td>4.743555e-07</td>\n      <td>jump_suit</td>\n    </tr>\n    <tr>\n      <th>819</th>\n      <td>Synset('swimsuit.n.01')</td>\n      <td>garm</td>\n      <td>1</td>\n      <td>3</td>\n      <td>0.00</td>\n      <td>0.842269</td>\n      <td>0.644373</td>\n      <td>8</td>\n      <td>5</td>\n      <td>1</td>\n      <td>...</td>\n      <td>6.316480e-07</td>\n      <td>4.964374e-07</td>\n      <td>6.358766e-07</td>\n      <td>2.621829e-07</td>\n      <td>6.358766e-07</td>\n      <td>1.317177e-07</td>\n      <td>6.358766e-07</td>\n      <td>1.015746e-07</td>\n      <td>6.358766e-07</td>\n      <td>swimsuit</td>\n    </tr>\n  </tbody>\n</table>\n<p>175 rows × 30 columns</p>\n</div>"
     },
     "execution_count": 7,
     "metadata": {},
     "output_type": "execute_result"
    }
   ],
   "source": [
    "data_basic = data.loc[data['vote_x']=='b']\n",
    "\n",
    "data_basic"
   ],
   "metadata": {
    "collapsed": false,
    "pycharm": {
     "name": "#%%\n"
    },
    "trusted": false
   }
  },
  {
   "cell_type": "markdown",
   "source": [
    "### elimination"
   ],
   "metadata": {
    "collapsed": false
   }
  },
  {
   "cell_type": "code",
   "execution_count": 35,
   "outputs": [
    {
     "data": {
      "text/plain": "                              Synsets domain_x  nrdirhypers_x  nrhypos_x  \\\n0    Synset('adjustable_wrench.n.01')     tool              1          7   \n1         Synset('allen_wrench.n.01')     tool              1          0   \n2     Synset('alligator_wrench.n.01')     tool              1          0   \n3                  Synset('awl.n.01')     tool              1          2   \n4              Synset('backsaw.n.01')     tool              1          0   \n..                                ...      ...            ...        ...   \n834       Synset('ballet_skirt.n.01')     garm              1          0   \n835        Synset('mess_jacket.n.01')     garm              1          0   \n836         Synset('long_johns.n.01')     garm              1          0   \n837             Synset('undies.n.01')     garm              1          0   \n838           Synset('lingerie.n.01')     garm              1          2   \n\n     nrpartrels_normalised_x  depthfromtopsynset_normalised_x  \\\n0                        0.0                         1.012903   \n1                        0.0                         1.012903   \n2                        0.0                         1.012903   \n3                       15.7                         0.911613   \n4                        0.0                         1.114194   \n..                       ...                              ...   \n834                      0.0                         0.947552   \n835                      0.0                         1.158120   \n836                      0.0                         1.052836   \n837                      0.0                         1.158120   \n838                      0.0                         1.052836   \n\n     glosslength_normalised_x  minwordlength_x  nroflemmas_x  polyscore_max_x  \\\n0                    0.563173               17             2                1   \n1                    0.391092               12             1                1   \n2                    1.517437               16             1                1   \n3                    0.985552                3             1                1   \n4                    1.110701                7             2                1   \n..                        ...              ...           ...              ...   \n834                  0.578283                4             2                2   \n835                  1.652238               11             3                1   \n836                  0.479149               10             1                1   \n837                  0.280880                6             1                1   \n838                  0.561761                8             2                1   \n\n     ... vec_290  vec_291  vec_292  vec_293  vec_294  vec_295  vec_296  \\\n0    ... -0.0621   0.0146  -0.0488   0.0469  -0.0441   0.0290   0.0741   \n1    ...  0.0111   0.0211  -0.0197   0.0557  -0.0591  -0.0069   0.0317   \n2    ... -0.0039   0.0185  -0.0215   0.0354  -0.0740   0.0203   0.0379   \n3    ... -0.0470   0.0543  -0.0515  -0.0017  -0.0101   0.0345   0.1180   \n4    ... -0.0403  -0.0457  -0.0741   0.0207  -0.0395   0.0297  -0.0542   \n..   ...     ...      ...      ...      ...      ...      ...      ...   \n834  ... -0.0131   0.0215  -0.0879   0.0333  -0.0301  -0.0218  -0.0342   \n835  ...  0.0120   0.0092  -0.0397  -0.0152  -0.0135  -0.0304   0.0031   \n836  ...  0.0026  -0.0458  -0.0743   0.0254  -0.0212  -0.0433  -0.0129   \n837  ... -0.0084  -0.0686  -0.0497   0.0083  -0.0549  -0.0501   0.0107   \n838  ... -0.0506  -0.0619   0.0217   0.0249  -0.0384  -0.0286   0.0330   \n\n     vec_297  vec_298  vec_299  \n0    -0.0575  -0.0075  -0.0259  \n1    -0.0198  -0.0043  -0.0739  \n2    -0.0331  -0.0180  -0.0362  \n3     0.0885  -0.0592   0.0560  \n4    -0.1040  -0.0326   0.0052  \n..       ...      ...      ...  \n834   0.0383   0.0045  -0.0346  \n835  -0.0402  -0.0054  -0.0153  \n836   0.0235  -0.0929   0.0031  \n837   0.0060  -0.0205   0.0133  \n838   0.0205   0.0371  -0.0025  \n\n[776 rows x 330 columns]",
      "text/html": "<div>\n<style scoped>\n    .dataframe tbody tr th:only-of-type {\n        vertical-align: middle;\n    }\n\n    .dataframe tbody tr th {\n        vertical-align: top;\n    }\n\n    .dataframe thead th {\n        text-align: right;\n    }\n</style>\n<table border=\"1\" class=\"dataframe\">\n  <thead>\n    <tr style=\"text-align: right;\">\n      <th></th>\n      <th>Synsets</th>\n      <th>domain_x</th>\n      <th>nrdirhypers_x</th>\n      <th>nrhypos_x</th>\n      <th>nrpartrels_normalised_x</th>\n      <th>depthfromtopsynset_normalised_x</th>\n      <th>glosslength_normalised_x</th>\n      <th>minwordlength_x</th>\n      <th>nroflemmas_x</th>\n      <th>polyscore_max_x</th>\n      <th>...</th>\n      <th>vec_290</th>\n      <th>vec_291</th>\n      <th>vec_292</th>\n      <th>vec_293</th>\n      <th>vec_294</th>\n      <th>vec_295</th>\n      <th>vec_296</th>\n      <th>vec_297</th>\n      <th>vec_298</th>\n      <th>vec_299</th>\n    </tr>\n  </thead>\n  <tbody>\n    <tr>\n      <th>0</th>\n      <td>Synset('adjustable_wrench.n.01')</td>\n      <td>tool</td>\n      <td>1</td>\n      <td>7</td>\n      <td>0.0</td>\n      <td>1.012903</td>\n      <td>0.563173</td>\n      <td>17</td>\n      <td>2</td>\n      <td>1</td>\n      <td>...</td>\n      <td>-0.0621</td>\n      <td>0.0146</td>\n      <td>-0.0488</td>\n      <td>0.0469</td>\n      <td>-0.0441</td>\n      <td>0.0290</td>\n      <td>0.0741</td>\n      <td>-0.0575</td>\n      <td>-0.0075</td>\n      <td>-0.0259</td>\n    </tr>\n    <tr>\n      <th>1</th>\n      <td>Synset('allen_wrench.n.01')</td>\n      <td>tool</td>\n      <td>1</td>\n      <td>0</td>\n      <td>0.0</td>\n      <td>1.012903</td>\n      <td>0.391092</td>\n      <td>12</td>\n      <td>1</td>\n      <td>1</td>\n      <td>...</td>\n      <td>0.0111</td>\n      <td>0.0211</td>\n      <td>-0.0197</td>\n      <td>0.0557</td>\n      <td>-0.0591</td>\n      <td>-0.0069</td>\n      <td>0.0317</td>\n      <td>-0.0198</td>\n      <td>-0.0043</td>\n      <td>-0.0739</td>\n    </tr>\n    <tr>\n      <th>2</th>\n      <td>Synset('alligator_wrench.n.01')</td>\n      <td>tool</td>\n      <td>1</td>\n      <td>0</td>\n      <td>0.0</td>\n      <td>1.012903</td>\n      <td>1.517437</td>\n      <td>16</td>\n      <td>1</td>\n      <td>1</td>\n      <td>...</td>\n      <td>-0.0039</td>\n      <td>0.0185</td>\n      <td>-0.0215</td>\n      <td>0.0354</td>\n      <td>-0.0740</td>\n      <td>0.0203</td>\n      <td>0.0379</td>\n      <td>-0.0331</td>\n      <td>-0.0180</td>\n      <td>-0.0362</td>\n    </tr>\n    <tr>\n      <th>3</th>\n      <td>Synset('awl.n.01')</td>\n      <td>tool</td>\n      <td>1</td>\n      <td>2</td>\n      <td>15.7</td>\n      <td>0.911613</td>\n      <td>0.985552</td>\n      <td>3</td>\n      <td>1</td>\n      <td>1</td>\n      <td>...</td>\n      <td>-0.0470</td>\n      <td>0.0543</td>\n      <td>-0.0515</td>\n      <td>-0.0017</td>\n      <td>-0.0101</td>\n      <td>0.0345</td>\n      <td>0.1180</td>\n      <td>0.0885</td>\n      <td>-0.0592</td>\n      <td>0.0560</td>\n    </tr>\n    <tr>\n      <th>4</th>\n      <td>Synset('backsaw.n.01')</td>\n      <td>tool</td>\n      <td>1</td>\n      <td>0</td>\n      <td>0.0</td>\n      <td>1.114194</td>\n      <td>1.110701</td>\n      <td>7</td>\n      <td>2</td>\n      <td>1</td>\n      <td>...</td>\n      <td>-0.0403</td>\n      <td>-0.0457</td>\n      <td>-0.0741</td>\n      <td>0.0207</td>\n      <td>-0.0395</td>\n      <td>0.0297</td>\n      <td>-0.0542</td>\n      <td>-0.1040</td>\n      <td>-0.0326</td>\n      <td>0.0052</td>\n    </tr>\n    <tr>\n      <th>...</th>\n      <td>...</td>\n      <td>...</td>\n      <td>...</td>\n      <td>...</td>\n      <td>...</td>\n      <td>...</td>\n      <td>...</td>\n      <td>...</td>\n      <td>...</td>\n      <td>...</td>\n      <td>...</td>\n      <td>...</td>\n      <td>...</td>\n      <td>...</td>\n      <td>...</td>\n      <td>...</td>\n      <td>...</td>\n      <td>...</td>\n      <td>...</td>\n      <td>...</td>\n      <td>...</td>\n    </tr>\n    <tr>\n      <th>834</th>\n      <td>Synset('ballet_skirt.n.01')</td>\n      <td>garm</td>\n      <td>1</td>\n      <td>0</td>\n      <td>0.0</td>\n      <td>0.947552</td>\n      <td>0.578283</td>\n      <td>4</td>\n      <td>2</td>\n      <td>2</td>\n      <td>...</td>\n      <td>-0.0131</td>\n      <td>0.0215</td>\n      <td>-0.0879</td>\n      <td>0.0333</td>\n      <td>-0.0301</td>\n      <td>-0.0218</td>\n      <td>-0.0342</td>\n      <td>0.0383</td>\n      <td>0.0045</td>\n      <td>-0.0346</td>\n    </tr>\n    <tr>\n      <th>835</th>\n      <td>Synset('mess_jacket.n.01')</td>\n      <td>garm</td>\n      <td>1</td>\n      <td>0</td>\n      <td>0.0</td>\n      <td>1.158120</td>\n      <td>1.652238</td>\n      <td>11</td>\n      <td>3</td>\n      <td>1</td>\n      <td>...</td>\n      <td>0.0120</td>\n      <td>0.0092</td>\n      <td>-0.0397</td>\n      <td>-0.0152</td>\n      <td>-0.0135</td>\n      <td>-0.0304</td>\n      <td>0.0031</td>\n      <td>-0.0402</td>\n      <td>-0.0054</td>\n      <td>-0.0153</td>\n    </tr>\n    <tr>\n      <th>836</th>\n      <td>Synset('long_johns.n.01')</td>\n      <td>garm</td>\n      <td>1</td>\n      <td>0</td>\n      <td>0.0</td>\n      <td>1.052836</td>\n      <td>0.479149</td>\n      <td>10</td>\n      <td>1</td>\n      <td>1</td>\n      <td>...</td>\n      <td>0.0026</td>\n      <td>-0.0458</td>\n      <td>-0.0743</td>\n      <td>0.0254</td>\n      <td>-0.0212</td>\n      <td>-0.0433</td>\n      <td>-0.0129</td>\n      <td>0.0235</td>\n      <td>-0.0929</td>\n      <td>0.0031</td>\n    </tr>\n    <tr>\n      <th>837</th>\n      <td>Synset('undies.n.01')</td>\n      <td>garm</td>\n      <td>1</td>\n      <td>0</td>\n      <td>0.0</td>\n      <td>1.158120</td>\n      <td>0.280880</td>\n      <td>6</td>\n      <td>1</td>\n      <td>1</td>\n      <td>...</td>\n      <td>-0.0084</td>\n      <td>-0.0686</td>\n      <td>-0.0497</td>\n      <td>0.0083</td>\n      <td>-0.0549</td>\n      <td>-0.0501</td>\n      <td>0.0107</td>\n      <td>0.0060</td>\n      <td>-0.0205</td>\n      <td>0.0133</td>\n    </tr>\n    <tr>\n      <th>838</th>\n      <td>Synset('lingerie.n.01')</td>\n      <td>garm</td>\n      <td>1</td>\n      <td>2</td>\n      <td>0.0</td>\n      <td>1.052836</td>\n      <td>0.561761</td>\n      <td>8</td>\n      <td>2</td>\n      <td>1</td>\n      <td>...</td>\n      <td>-0.0506</td>\n      <td>-0.0619</td>\n      <td>0.0217</td>\n      <td>0.0249</td>\n      <td>-0.0384</td>\n      <td>-0.0286</td>\n      <td>0.0330</td>\n      <td>0.0205</td>\n      <td>0.0371</td>\n      <td>-0.0025</td>\n    </tr>\n  </tbody>\n</table>\n<p>776 rows × 330 columns</p>\n</div>"
     },
     "execution_count": 35,
     "metadata": {},
     "output_type": "execute_result"
    }
   ],
   "source": [
    "def eliminate(concept_df):\n",
    "    try:\n",
    "        norm = concept_df['norm']\n",
    "        vec = conceptnet_300_1908[norm]\n",
    "    except KeyError:\n",
    "        vec = np.zeros(300)\n",
    "    return vec\n",
    "data_elimination = data.copy()\n",
    "vec_col = ['vec_'+str(x) for x in range(300)]\n",
    "data_elimination[vec_col] = data_elimination.apply(eliminate, axis=1, result_type='expand')\n",
    "data_elimination = data_elimination[~(data_elimination[vec_col]==0).all(axis=1)]\n",
    "data_elimination"
   ],
   "metadata": {
    "collapsed": false,
    "pycharm": {
     "name": "#%%\n"
    },
    "trusted": false
   }
  },
  {
   "cell_type": "code",
   "execution_count": 9,
   "outputs": [
    {
     "data": {
      "text/plain": "                       Synsets domain_x  nrdirhypers_x  nrhypos_x  \\\n3           Synset('awl.n.01')     tool              1          2   \n7         Synset('bevel.n.02')     tool              1          0   \n20   Synset('can_opener.n.01')     tool              1          1   \n42         Synset('file.n.04')     tool              1          7   \n45        Synset('float.n.05')     tool              1          0   \n..                         ...      ...            ...        ...   \n781       Synset('shawl.n.01')     garm              1          2   \n787      Synset('diaper.n.01')     garm              1          0   \n806      Synset('cravat.n.01')     garm              1          2   \n807   Synset('jump_suit.n.01')     garm              1          0   \n819    Synset('swimsuit.n.01')     garm              1          3   \n\n     nrpartrels_normalised_x  depthfromtopsynset_normalised_x  \\\n3                      15.70                         0.911613   \n7                       0.00                         0.911613   \n20                      0.00                         1.012903   \n42                      7.85                         0.911613   \n45                      0.00                         0.911613   \n..                       ...                              ...   \n781                     0.00                         1.052836   \n787                     0.00                         0.842269   \n806                     0.00                         0.947552   \n807                     0.00                         0.842269   \n819                     0.00                         0.842269   \n\n     glosslength_normalised_x  minwordlength_x  nroflemmas_x  polyscore_max_x  \\\n3                    0.985552                3             1                1   \n7                    1.658230                5             2                3   \n20                   0.469310               10             2                1   \n42                   1.642587                4             1                9   \n45                   1.626943                5             2               16   \n..                        ...              ...           ...              ...   \n781                  1.338312                5             1                1   \n787                  2.048775                5             3                2   \n806                  1.222656                6             1                1   \n807                  0.941775                8             2                2   \n819                  0.644373                8             5                1   \n\n     ... vec_290  vec_291  vec_292  vec_293  vec_294  vec_295  vec_296  \\\n3    ... -0.0470   0.0543  -0.0515  -0.0017  -0.0101   0.0345   0.1180   \n7    ... -0.0236  -0.0708  -0.0185  -0.0362  -0.0413   0.0413   0.0102   \n20   ...  0.0476   0.0295  -0.0760   0.0604   0.0444   0.0245   0.0758   \n42   ...  0.0397  -0.1241  -0.0420   0.0327  -0.0699  -0.0319   0.0066   \n45   ...  0.0393   0.0007  -0.0275   0.0762  -0.0141   0.0333  -0.0233   \n..   ...     ...      ...      ...      ...      ...      ...      ...   \n781  ... -0.0547  -0.0243  -0.0375   0.0748  -0.0326   0.0015  -0.0567   \n787  ... -0.0224   0.0615  -0.0354   0.0041   0.0004  -0.0083  -0.0165   \n806  ... -0.0283  -0.0242   0.0264  -0.0378  -0.0572  -0.0363   0.0879   \n807  ...  0.0046  -0.0181   0.0041  -0.0004   0.0172   0.0131   0.0125   \n819  ... -0.0146  -0.0082  -0.0285   0.0569  -0.0501  -0.0255   0.0367   \n\n     vec_297  vec_298  vec_299  \n3     0.0885  -0.0592   0.0560  \n7     0.0277   0.0495   0.0599  \n20   -0.0109  -0.0332   0.0452  \n42    0.0789  -0.0833   0.0773  \n45   -0.0491  -0.0238   0.0472  \n..       ...      ...      ...  \n781  -0.0219   0.0537  -0.0233  \n787  -0.0017  -0.0390   0.0107  \n806  -0.0522   0.0464   0.0310  \n807  -0.0320  -0.0222  -0.0081  \n819  -0.0550  -0.0151  -0.0271  \n\n[174 rows x 330 columns]",
      "text/html": "<div>\n<style scoped>\n    .dataframe tbody tr th:only-of-type {\n        vertical-align: middle;\n    }\n\n    .dataframe tbody tr th {\n        vertical-align: top;\n    }\n\n    .dataframe thead th {\n        text-align: right;\n    }\n</style>\n<table border=\"1\" class=\"dataframe\">\n  <thead>\n    <tr style=\"text-align: right;\">\n      <th></th>\n      <th>Synsets</th>\n      <th>domain_x</th>\n      <th>nrdirhypers_x</th>\n      <th>nrhypos_x</th>\n      <th>nrpartrels_normalised_x</th>\n      <th>depthfromtopsynset_normalised_x</th>\n      <th>glosslength_normalised_x</th>\n      <th>minwordlength_x</th>\n      <th>nroflemmas_x</th>\n      <th>polyscore_max_x</th>\n      <th>...</th>\n      <th>vec_290</th>\n      <th>vec_291</th>\n      <th>vec_292</th>\n      <th>vec_293</th>\n      <th>vec_294</th>\n      <th>vec_295</th>\n      <th>vec_296</th>\n      <th>vec_297</th>\n      <th>vec_298</th>\n      <th>vec_299</th>\n    </tr>\n  </thead>\n  <tbody>\n    <tr>\n      <th>3</th>\n      <td>Synset('awl.n.01')</td>\n      <td>tool</td>\n      <td>1</td>\n      <td>2</td>\n      <td>15.70</td>\n      <td>0.911613</td>\n      <td>0.985552</td>\n      <td>3</td>\n      <td>1</td>\n      <td>1</td>\n      <td>...</td>\n      <td>-0.0470</td>\n      <td>0.0543</td>\n      <td>-0.0515</td>\n      <td>-0.0017</td>\n      <td>-0.0101</td>\n      <td>0.0345</td>\n      <td>0.1180</td>\n      <td>0.0885</td>\n      <td>-0.0592</td>\n      <td>0.0560</td>\n    </tr>\n    <tr>\n      <th>7</th>\n      <td>Synset('bevel.n.02')</td>\n      <td>tool</td>\n      <td>1</td>\n      <td>0</td>\n      <td>0.00</td>\n      <td>0.911613</td>\n      <td>1.658230</td>\n      <td>5</td>\n      <td>2</td>\n      <td>3</td>\n      <td>...</td>\n      <td>-0.0236</td>\n      <td>-0.0708</td>\n      <td>-0.0185</td>\n      <td>-0.0362</td>\n      <td>-0.0413</td>\n      <td>0.0413</td>\n      <td>0.0102</td>\n      <td>0.0277</td>\n      <td>0.0495</td>\n      <td>0.0599</td>\n    </tr>\n    <tr>\n      <th>20</th>\n      <td>Synset('can_opener.n.01')</td>\n      <td>tool</td>\n      <td>1</td>\n      <td>1</td>\n      <td>0.00</td>\n      <td>1.012903</td>\n      <td>0.469310</td>\n      <td>10</td>\n      <td>2</td>\n      <td>1</td>\n      <td>...</td>\n      <td>0.0476</td>\n      <td>0.0295</td>\n      <td>-0.0760</td>\n      <td>0.0604</td>\n      <td>0.0444</td>\n      <td>0.0245</td>\n      <td>0.0758</td>\n      <td>-0.0109</td>\n      <td>-0.0332</td>\n      <td>0.0452</td>\n    </tr>\n    <tr>\n      <th>42</th>\n      <td>Synset('file.n.04')</td>\n      <td>tool</td>\n      <td>1</td>\n      <td>7</td>\n      <td>7.85</td>\n      <td>0.911613</td>\n      <td>1.642587</td>\n      <td>4</td>\n      <td>1</td>\n      <td>9</td>\n      <td>...</td>\n      <td>0.0397</td>\n      <td>-0.1241</td>\n      <td>-0.0420</td>\n      <td>0.0327</td>\n      <td>-0.0699</td>\n      <td>-0.0319</td>\n      <td>0.0066</td>\n      <td>0.0789</td>\n      <td>-0.0833</td>\n      <td>0.0773</td>\n    </tr>\n    <tr>\n      <th>45</th>\n      <td>Synset('float.n.05')</td>\n      <td>tool</td>\n      <td>1</td>\n      <td>0</td>\n      <td>0.00</td>\n      <td>0.911613</td>\n      <td>1.626943</td>\n      <td>5</td>\n      <td>2</td>\n      <td>16</td>\n      <td>...</td>\n      <td>0.0393</td>\n      <td>0.0007</td>\n      <td>-0.0275</td>\n      <td>0.0762</td>\n      <td>-0.0141</td>\n      <td>0.0333</td>\n      <td>-0.0233</td>\n      <td>-0.0491</td>\n      <td>-0.0238</td>\n      <td>0.0472</td>\n    </tr>\n    <tr>\n      <th>...</th>\n      <td>...</td>\n      <td>...</td>\n      <td>...</td>\n      <td>...</td>\n      <td>...</td>\n      <td>...</td>\n      <td>...</td>\n      <td>...</td>\n      <td>...</td>\n      <td>...</td>\n      <td>...</td>\n      <td>...</td>\n      <td>...</td>\n      <td>...</td>\n      <td>...</td>\n      <td>...</td>\n      <td>...</td>\n      <td>...</td>\n      <td>...</td>\n      <td>...</td>\n      <td>...</td>\n    </tr>\n    <tr>\n      <th>781</th>\n      <td>Synset('shawl.n.01')</td>\n      <td>garm</td>\n      <td>1</td>\n      <td>2</td>\n      <td>0.00</td>\n      <td>1.052836</td>\n      <td>1.338312</td>\n      <td>5</td>\n      <td>1</td>\n      <td>1</td>\n      <td>...</td>\n      <td>-0.0547</td>\n      <td>-0.0243</td>\n      <td>-0.0375</td>\n      <td>0.0748</td>\n      <td>-0.0326</td>\n      <td>0.0015</td>\n      <td>-0.0567</td>\n      <td>-0.0219</td>\n      <td>0.0537</td>\n      <td>-0.0233</td>\n    </tr>\n    <tr>\n      <th>787</th>\n      <td>Synset('diaper.n.01')</td>\n      <td>garm</td>\n      <td>1</td>\n      <td>0</td>\n      <td>0.00</td>\n      <td>0.842269</td>\n      <td>2.048775</td>\n      <td>5</td>\n      <td>3</td>\n      <td>2</td>\n      <td>...</td>\n      <td>-0.0224</td>\n      <td>0.0615</td>\n      <td>-0.0354</td>\n      <td>0.0041</td>\n      <td>0.0004</td>\n      <td>-0.0083</td>\n      <td>-0.0165</td>\n      <td>-0.0017</td>\n      <td>-0.0390</td>\n      <td>0.0107</td>\n    </tr>\n    <tr>\n      <th>806</th>\n      <td>Synset('cravat.n.01')</td>\n      <td>garm</td>\n      <td>1</td>\n      <td>2</td>\n      <td>0.00</td>\n      <td>0.947552</td>\n      <td>1.222656</td>\n      <td>6</td>\n      <td>1</td>\n      <td>1</td>\n      <td>...</td>\n      <td>-0.0283</td>\n      <td>-0.0242</td>\n      <td>0.0264</td>\n      <td>-0.0378</td>\n      <td>-0.0572</td>\n      <td>-0.0363</td>\n      <td>0.0879</td>\n      <td>-0.0522</td>\n      <td>0.0464</td>\n      <td>0.0310</td>\n    </tr>\n    <tr>\n      <th>807</th>\n      <td>Synset('jump_suit.n.01')</td>\n      <td>garm</td>\n      <td>1</td>\n      <td>0</td>\n      <td>0.00</td>\n      <td>0.842269</td>\n      <td>0.941775</td>\n      <td>8</td>\n      <td>2</td>\n      <td>2</td>\n      <td>...</td>\n      <td>0.0046</td>\n      <td>-0.0181</td>\n      <td>0.0041</td>\n      <td>-0.0004</td>\n      <td>0.0172</td>\n      <td>0.0131</td>\n      <td>0.0125</td>\n      <td>-0.0320</td>\n      <td>-0.0222</td>\n      <td>-0.0081</td>\n    </tr>\n    <tr>\n      <th>819</th>\n      <td>Synset('swimsuit.n.01')</td>\n      <td>garm</td>\n      <td>1</td>\n      <td>3</td>\n      <td>0.00</td>\n      <td>0.842269</td>\n      <td>0.644373</td>\n      <td>8</td>\n      <td>5</td>\n      <td>1</td>\n      <td>...</td>\n      <td>-0.0146</td>\n      <td>-0.0082</td>\n      <td>-0.0285</td>\n      <td>0.0569</td>\n      <td>-0.0501</td>\n      <td>-0.0255</td>\n      <td>0.0367</td>\n      <td>-0.0550</td>\n      <td>-0.0151</td>\n      <td>-0.0271</td>\n    </tr>\n  </tbody>\n</table>\n<p>174 rows × 330 columns</p>\n</div>"
     },
     "execution_count": 9,
     "metadata": {},
     "output_type": "execute_result"
    }
   ],
   "source": [
    "data_elimination_basic = data_elimination.loc[data_elimination['vote_x']=='b']\n",
    "\n",
    "data_elimination_basic"
   ],
   "metadata": {
    "collapsed": false,
    "pycharm": {
     "name": "#%%\n"
    },
    "trusted": false
   }
  },
  {
   "cell_type": "code",
   "execution_count": 11,
   "outputs": [],
   "source": [
    "data_elimination.to_csv('./w2v_eli.csv', index=None)"
   ],
   "metadata": {
    "collapsed": false,
    "pycharm": {
     "name": "#%%\n"
    }
   }
  },
  {
   "cell_type": "markdown",
   "source": [
    "### computation"
   ],
   "metadata": {
    "collapsed": false
   }
  },
  {
   "cell_type": "code",
   "execution_count": null,
   "outputs": [],
   "source": [],
   "metadata": {
    "collapsed": false,
    "pycharm": {
     "name": "#%%\n"
    },
    "trusted": false
   }
  },
  {
   "cell_type": "code",
   "execution_count": 30,
   "outputs": [
    {
     "data": {
      "text/plain": "                              Synsets domain_x  nrdirhypers_x  nrhypos_x  \\\n0    Synset('adjustable_wrench.n.01')     tool              1          7   \n1         Synset('allen_wrench.n.01')     tool              1          0   \n2     Synset('alligator_wrench.n.01')     tool              1          0   \n3                  Synset('awl.n.01')     tool              1          2   \n4              Synset('backsaw.n.01')     tool              1          0   \n..                                ...      ...            ...        ...   \n834       Synset('ballet_skirt.n.01')     garm              1          0   \n835        Synset('mess_jacket.n.01')     garm              1          0   \n836         Synset('long_johns.n.01')     garm              1          0   \n837             Synset('undies.n.01')     garm              1          0   \n838           Synset('lingerie.n.01')     garm              1          2   \n\n     nrpartrels_normalised_x  depthfromtopsynset_normalised_x  \\\n0                        0.0                         1.012903   \n1                        0.0                         1.012903   \n2                        0.0                         1.012903   \n3                       15.7                         0.911613   \n4                        0.0                         1.114194   \n..                       ...                              ...   \n834                      0.0                         0.947552   \n835                      0.0                         1.158120   \n836                      0.0                         1.052836   \n837                      0.0                         1.158120   \n838                      0.0                         1.052836   \n\n     glosslength_normalised_x  minwordlength_x  nroflemmas_x  polyscore_max_x  \\\n0                    0.563173               17             2                1   \n1                    0.391092               12             1                1   \n2                    1.517437               16             1                1   \n3                    0.985552                3             1                1   \n4                    1.110701                7             2                1   \n..                        ...              ...           ...              ...   \n834                  0.578283                4             2                2   \n835                  1.652238               11             3                1   \n836                  0.479149               10             1                1   \n837                  0.280880                6             1                1   \n838                  0.561761                8             2                1   \n\n     ... vec_291  vec_292  vec_293  vec_294  vec_295  vec_296  vec_297  \\\n0    ...  0.0146  -0.0488   0.0469  -0.0441   0.0290   0.0741  -0.0575   \n1    ...  0.0211  -0.0197   0.0557  -0.0591  -0.0069   0.0317  -0.0198   \n2    ...  0.0185  -0.0215   0.0354  -0.0740   0.0203   0.0379  -0.0331   \n3    ...  0.0543  -0.0515  -0.0017  -0.0101   0.0345   0.1180   0.0885   \n4    ... -0.0457  -0.0741   0.0207  -0.0395   0.0297  -0.0542  -0.1040   \n..   ...     ...      ...      ...      ...      ...      ...      ...   \n834  ...  0.0215  -0.0879   0.0333  -0.0301  -0.0218  -0.0342   0.0383   \n835  ...  0.0092  -0.0397  -0.0152  -0.0135  -0.0304   0.0031  -0.0402   \n836  ... -0.0458  -0.0743   0.0254  -0.0212  -0.0433  -0.0129   0.0235   \n837  ... -0.0686  -0.0497   0.0083  -0.0549  -0.0501   0.0107   0.0060   \n838  ... -0.0619   0.0217   0.0249  -0.0384  -0.0286   0.0330   0.0205   \n\n     vec_298  vec_299      test  \n0    -0.0075  -0.0259  0.484202  \n1    -0.0043  -0.0739  0.549829  \n2    -0.0180  -0.0362  0.431030  \n3    -0.0592   0.0560  0.327994  \n4    -0.0326   0.0052  0.362438  \n..       ...      ...       ...  \n834   0.0045  -0.0346  0.263475  \n835  -0.0054  -0.0153  0.572053  \n836  -0.0929   0.0031  0.464427  \n837  -0.0205   0.0133  0.501280  \n838   0.0371  -0.0025  0.521421  \n\n[776 rows x 331 columns]",
      "text/html": "<div>\n<style scoped>\n    .dataframe tbody tr th:only-of-type {\n        vertical-align: middle;\n    }\n\n    .dataframe tbody tr th {\n        vertical-align: top;\n    }\n\n    .dataframe thead th {\n        text-align: right;\n    }\n</style>\n<table border=\"1\" class=\"dataframe\">\n  <thead>\n    <tr style=\"text-align: right;\">\n      <th></th>\n      <th>Synsets</th>\n      <th>domain_x</th>\n      <th>nrdirhypers_x</th>\n      <th>nrhypos_x</th>\n      <th>nrpartrels_normalised_x</th>\n      <th>depthfromtopsynset_normalised_x</th>\n      <th>glosslength_normalised_x</th>\n      <th>minwordlength_x</th>\n      <th>nroflemmas_x</th>\n      <th>polyscore_max_x</th>\n      <th>...</th>\n      <th>vec_291</th>\n      <th>vec_292</th>\n      <th>vec_293</th>\n      <th>vec_294</th>\n      <th>vec_295</th>\n      <th>vec_296</th>\n      <th>vec_297</th>\n      <th>vec_298</th>\n      <th>vec_299</th>\n      <th>test</th>\n    </tr>\n  </thead>\n  <tbody>\n    <tr>\n      <th>0</th>\n      <td>Synset('adjustable_wrench.n.01')</td>\n      <td>tool</td>\n      <td>1</td>\n      <td>7</td>\n      <td>0.0</td>\n      <td>1.012903</td>\n      <td>0.563173</td>\n      <td>17</td>\n      <td>2</td>\n      <td>1</td>\n      <td>...</td>\n      <td>0.0146</td>\n      <td>-0.0488</td>\n      <td>0.0469</td>\n      <td>-0.0441</td>\n      <td>0.0290</td>\n      <td>0.0741</td>\n      <td>-0.0575</td>\n      <td>-0.0075</td>\n      <td>-0.0259</td>\n      <td>0.484202</td>\n    </tr>\n    <tr>\n      <th>1</th>\n      <td>Synset('allen_wrench.n.01')</td>\n      <td>tool</td>\n      <td>1</td>\n      <td>0</td>\n      <td>0.0</td>\n      <td>1.012903</td>\n      <td>0.391092</td>\n      <td>12</td>\n      <td>1</td>\n      <td>1</td>\n      <td>...</td>\n      <td>0.0211</td>\n      <td>-0.0197</td>\n      <td>0.0557</td>\n      <td>-0.0591</td>\n      <td>-0.0069</td>\n      <td>0.0317</td>\n      <td>-0.0198</td>\n      <td>-0.0043</td>\n      <td>-0.0739</td>\n      <td>0.549829</td>\n    </tr>\n    <tr>\n      <th>2</th>\n      <td>Synset('alligator_wrench.n.01')</td>\n      <td>tool</td>\n      <td>1</td>\n      <td>0</td>\n      <td>0.0</td>\n      <td>1.012903</td>\n      <td>1.517437</td>\n      <td>16</td>\n      <td>1</td>\n      <td>1</td>\n      <td>...</td>\n      <td>0.0185</td>\n      <td>-0.0215</td>\n      <td>0.0354</td>\n      <td>-0.0740</td>\n      <td>0.0203</td>\n      <td>0.0379</td>\n      <td>-0.0331</td>\n      <td>-0.0180</td>\n      <td>-0.0362</td>\n      <td>0.431030</td>\n    </tr>\n    <tr>\n      <th>3</th>\n      <td>Synset('awl.n.01')</td>\n      <td>tool</td>\n      <td>1</td>\n      <td>2</td>\n      <td>15.7</td>\n      <td>0.911613</td>\n      <td>0.985552</td>\n      <td>3</td>\n      <td>1</td>\n      <td>1</td>\n      <td>...</td>\n      <td>0.0543</td>\n      <td>-0.0515</td>\n      <td>-0.0017</td>\n      <td>-0.0101</td>\n      <td>0.0345</td>\n      <td>0.1180</td>\n      <td>0.0885</td>\n      <td>-0.0592</td>\n      <td>0.0560</td>\n      <td>0.327994</td>\n    </tr>\n    <tr>\n      <th>4</th>\n      <td>Synset('backsaw.n.01')</td>\n      <td>tool</td>\n      <td>1</td>\n      <td>0</td>\n      <td>0.0</td>\n      <td>1.114194</td>\n      <td>1.110701</td>\n      <td>7</td>\n      <td>2</td>\n      <td>1</td>\n      <td>...</td>\n      <td>-0.0457</td>\n      <td>-0.0741</td>\n      <td>0.0207</td>\n      <td>-0.0395</td>\n      <td>0.0297</td>\n      <td>-0.0542</td>\n      <td>-0.1040</td>\n      <td>-0.0326</td>\n      <td>0.0052</td>\n      <td>0.362438</td>\n    </tr>\n    <tr>\n      <th>...</th>\n      <td>...</td>\n      <td>...</td>\n      <td>...</td>\n      <td>...</td>\n      <td>...</td>\n      <td>...</td>\n      <td>...</td>\n      <td>...</td>\n      <td>...</td>\n      <td>...</td>\n      <td>...</td>\n      <td>...</td>\n      <td>...</td>\n      <td>...</td>\n      <td>...</td>\n      <td>...</td>\n      <td>...</td>\n      <td>...</td>\n      <td>...</td>\n      <td>...</td>\n      <td>...</td>\n    </tr>\n    <tr>\n      <th>834</th>\n      <td>Synset('ballet_skirt.n.01')</td>\n      <td>garm</td>\n      <td>1</td>\n      <td>0</td>\n      <td>0.0</td>\n      <td>0.947552</td>\n      <td>0.578283</td>\n      <td>4</td>\n      <td>2</td>\n      <td>2</td>\n      <td>...</td>\n      <td>0.0215</td>\n      <td>-0.0879</td>\n      <td>0.0333</td>\n      <td>-0.0301</td>\n      <td>-0.0218</td>\n      <td>-0.0342</td>\n      <td>0.0383</td>\n      <td>0.0045</td>\n      <td>-0.0346</td>\n      <td>0.263475</td>\n    </tr>\n    <tr>\n      <th>835</th>\n      <td>Synset('mess_jacket.n.01')</td>\n      <td>garm</td>\n      <td>1</td>\n      <td>0</td>\n      <td>0.0</td>\n      <td>1.158120</td>\n      <td>1.652238</td>\n      <td>11</td>\n      <td>3</td>\n      <td>1</td>\n      <td>...</td>\n      <td>0.0092</td>\n      <td>-0.0397</td>\n      <td>-0.0152</td>\n      <td>-0.0135</td>\n      <td>-0.0304</td>\n      <td>0.0031</td>\n      <td>-0.0402</td>\n      <td>-0.0054</td>\n      <td>-0.0153</td>\n      <td>0.572053</td>\n    </tr>\n    <tr>\n      <th>836</th>\n      <td>Synset('long_johns.n.01')</td>\n      <td>garm</td>\n      <td>1</td>\n      <td>0</td>\n      <td>0.0</td>\n      <td>1.052836</td>\n      <td>0.479149</td>\n      <td>10</td>\n      <td>1</td>\n      <td>1</td>\n      <td>...</td>\n      <td>-0.0458</td>\n      <td>-0.0743</td>\n      <td>0.0254</td>\n      <td>-0.0212</td>\n      <td>-0.0433</td>\n      <td>-0.0129</td>\n      <td>0.0235</td>\n      <td>-0.0929</td>\n      <td>0.0031</td>\n      <td>0.464427</td>\n    </tr>\n    <tr>\n      <th>837</th>\n      <td>Synset('undies.n.01')</td>\n      <td>garm</td>\n      <td>1</td>\n      <td>0</td>\n      <td>0.0</td>\n      <td>1.158120</td>\n      <td>0.280880</td>\n      <td>6</td>\n      <td>1</td>\n      <td>1</td>\n      <td>...</td>\n      <td>-0.0686</td>\n      <td>-0.0497</td>\n      <td>0.0083</td>\n      <td>-0.0549</td>\n      <td>-0.0501</td>\n      <td>0.0107</td>\n      <td>0.0060</td>\n      <td>-0.0205</td>\n      <td>0.0133</td>\n      <td>0.501280</td>\n    </tr>\n    <tr>\n      <th>838</th>\n      <td>Synset('lingerie.n.01')</td>\n      <td>garm</td>\n      <td>1</td>\n      <td>2</td>\n      <td>0.0</td>\n      <td>1.052836</td>\n      <td>0.561761</td>\n      <td>8</td>\n      <td>2</td>\n      <td>1</td>\n      <td>...</td>\n      <td>-0.0619</td>\n      <td>0.0217</td>\n      <td>0.0249</td>\n      <td>-0.0384</td>\n      <td>-0.0286</td>\n      <td>0.0330</td>\n      <td>0.0205</td>\n      <td>0.0371</td>\n      <td>-0.0025</td>\n      <td>0.521421</td>\n    </tr>\n  </tbody>\n</table>\n<p>776 rows × 331 columns</p>\n</div>"
     },
     "execution_count": 30,
     "metadata": {},
     "output_type": "execute_result"
    }
   ],
   "source": [
    "def expand(df):\n",
    "    domain = df['domain_x']\n",
    "    if domain == 'furn':\n",
    "        domain = 'furniture'\n",
    "    elif domain == 'garm':\n",
    "        domain = 'garment'\n",
    "    distance = conceptnet_300_1908.wv.similarity(df['norm'], domain)\n",
    "    return distance\n",
    "data_test = data_elimination.copy()\n",
    "vec_col = ['vec_'+str(x) for x in range(300)]\n",
    "data_test['test'] = data_test.apply(expand, axis=1)\n",
    "\n",
    "data_test"
   ],
   "metadata": {
    "collapsed": false,
    "pycharm": {
     "name": "#%%\n"
    },
    "trusted": false
   }
  },
  {
   "cell_type": "markdown",
   "source": [
    "## Feature Engineering"
   ],
   "metadata": {
    "collapsed": false,
    "pycharm": {
     "name": "#%% md\n"
    },
    "trusted": false
   }
  },
  {
   "cell_type": "code",
   "execution_count": 38,
   "outputs": [
    {
     "data": {
      "text/plain": "                              Synsets domain_x  nrdirhypers_x  nrhypos_x  \\\n0    Synset('adjustable_wrench.n.01')     tool              1          7   \n1         Synset('allen_wrench.n.01')     tool              1          0   \n2     Synset('alligator_wrench.n.01')     tool              1          0   \n3                  Synset('awl.n.01')     tool              1          2   \n4              Synset('backsaw.n.01')     tool              1          0   \n..                                ...      ...            ...        ...   \n834       Synset('ballet_skirt.n.01')     garm              1          0   \n835        Synset('mess_jacket.n.01')     garm              1          0   \n836         Synset('long_johns.n.01')     garm              1          0   \n837             Synset('undies.n.01')     garm              1          0   \n838           Synset('lingerie.n.01')     garm              1          2   \n\n     nrpartrels_normalised_x  depthfromtopsynset_normalised_x  \\\n0                        0.0                         1.012903   \n1                        0.0                         1.012903   \n2                        0.0                         1.012903   \n3                       15.7                         0.911613   \n4                        0.0                         1.114194   \n..                       ...                              ...   \n834                      0.0                         0.947552   \n835                      0.0                         1.158120   \n836                      0.0                         1.052836   \n837                      0.0                         1.158120   \n838                      0.0                         1.052836   \n\n     glosslength_normalised_x  minwordlength_x  nroflemmas_x  polyscore_max_x  \\\n0                    0.563173               17             2                1   \n1                    0.391092               12             1                1   \n2                    1.517437               16             1                1   \n3                    0.985552                3             1                1   \n4                    1.110701                7             2                1   \n..                        ...              ...           ...              ...   \n834                  0.578283                4             2                2   \n835                  1.652238               11             3                1   \n836                  0.479149               10             1                1   \n837                  0.280880                6             1                1   \n838                  0.561761                8             2                1   \n\n     ... vec_291  vec_292  vec_293  vec_294  vec_295  vec_296  vec_297  \\\n0    ...  0.0146  -0.0488   0.0469  -0.0441   0.0290   0.0741  -0.0575   \n1    ...  0.0211  -0.0197   0.0557  -0.0591  -0.0069   0.0317  -0.0198   \n2    ...  0.0185  -0.0215   0.0354  -0.0740   0.0203   0.0379  -0.0331   \n3    ...  0.0543  -0.0515  -0.0017  -0.0101   0.0345   0.1180   0.0885   \n4    ... -0.0457  -0.0741   0.0207  -0.0395   0.0297  -0.0542  -0.1040   \n..   ...     ...      ...      ...      ...      ...      ...      ...   \n834  ...  0.0215  -0.0879   0.0333  -0.0301  -0.0218  -0.0342   0.0383   \n835  ...  0.0092  -0.0397  -0.0152  -0.0135  -0.0304   0.0031  -0.0402   \n836  ... -0.0458  -0.0743   0.0254  -0.0212  -0.0433  -0.0129   0.0235   \n837  ... -0.0686  -0.0497   0.0083  -0.0549  -0.0501   0.0107   0.0060   \n838  ... -0.0619   0.0217   0.0249  -0.0384  -0.0286   0.0330   0.0205   \n\n     vec_298  vec_299   dis_c_d  \n0    -0.0075  -0.0259  0.484202  \n1    -0.0043  -0.0739  0.549829  \n2    -0.0180  -0.0362  0.431030  \n3    -0.0592   0.0560  0.327994  \n4    -0.0326   0.0052  0.362438  \n..       ...      ...       ...  \n834   0.0045  -0.0346  0.263475  \n835  -0.0054  -0.0153  0.572053  \n836  -0.0929   0.0031  0.464427  \n837  -0.0205   0.0133  0.501280  \n838   0.0371  -0.0025  0.521421  \n\n[776 rows x 331 columns]",
      "text/html": "<div>\n<style scoped>\n    .dataframe tbody tr th:only-of-type {\n        vertical-align: middle;\n    }\n\n    .dataframe tbody tr th {\n        vertical-align: top;\n    }\n\n    .dataframe thead th {\n        text-align: right;\n    }\n</style>\n<table border=\"1\" class=\"dataframe\">\n  <thead>\n    <tr style=\"text-align: right;\">\n      <th></th>\n      <th>Synsets</th>\n      <th>domain_x</th>\n      <th>nrdirhypers_x</th>\n      <th>nrhypos_x</th>\n      <th>nrpartrels_normalised_x</th>\n      <th>depthfromtopsynset_normalised_x</th>\n      <th>glosslength_normalised_x</th>\n      <th>minwordlength_x</th>\n      <th>nroflemmas_x</th>\n      <th>polyscore_max_x</th>\n      <th>...</th>\n      <th>vec_291</th>\n      <th>vec_292</th>\n      <th>vec_293</th>\n      <th>vec_294</th>\n      <th>vec_295</th>\n      <th>vec_296</th>\n      <th>vec_297</th>\n      <th>vec_298</th>\n      <th>vec_299</th>\n      <th>dis_c_d</th>\n    </tr>\n  </thead>\n  <tbody>\n    <tr>\n      <th>0</th>\n      <td>Synset('adjustable_wrench.n.01')</td>\n      <td>tool</td>\n      <td>1</td>\n      <td>7</td>\n      <td>0.0</td>\n      <td>1.012903</td>\n      <td>0.563173</td>\n      <td>17</td>\n      <td>2</td>\n      <td>1</td>\n      <td>...</td>\n      <td>0.0146</td>\n      <td>-0.0488</td>\n      <td>0.0469</td>\n      <td>-0.0441</td>\n      <td>0.0290</td>\n      <td>0.0741</td>\n      <td>-0.0575</td>\n      <td>-0.0075</td>\n      <td>-0.0259</td>\n      <td>0.484202</td>\n    </tr>\n    <tr>\n      <th>1</th>\n      <td>Synset('allen_wrench.n.01')</td>\n      <td>tool</td>\n      <td>1</td>\n      <td>0</td>\n      <td>0.0</td>\n      <td>1.012903</td>\n      <td>0.391092</td>\n      <td>12</td>\n      <td>1</td>\n      <td>1</td>\n      <td>...</td>\n      <td>0.0211</td>\n      <td>-0.0197</td>\n      <td>0.0557</td>\n      <td>-0.0591</td>\n      <td>-0.0069</td>\n      <td>0.0317</td>\n      <td>-0.0198</td>\n      <td>-0.0043</td>\n      <td>-0.0739</td>\n      <td>0.549829</td>\n    </tr>\n    <tr>\n      <th>2</th>\n      <td>Synset('alligator_wrench.n.01')</td>\n      <td>tool</td>\n      <td>1</td>\n      <td>0</td>\n      <td>0.0</td>\n      <td>1.012903</td>\n      <td>1.517437</td>\n      <td>16</td>\n      <td>1</td>\n      <td>1</td>\n      <td>...</td>\n      <td>0.0185</td>\n      <td>-0.0215</td>\n      <td>0.0354</td>\n      <td>-0.0740</td>\n      <td>0.0203</td>\n      <td>0.0379</td>\n      <td>-0.0331</td>\n      <td>-0.0180</td>\n      <td>-0.0362</td>\n      <td>0.431030</td>\n    </tr>\n    <tr>\n      <th>3</th>\n      <td>Synset('awl.n.01')</td>\n      <td>tool</td>\n      <td>1</td>\n      <td>2</td>\n      <td>15.7</td>\n      <td>0.911613</td>\n      <td>0.985552</td>\n      <td>3</td>\n      <td>1</td>\n      <td>1</td>\n      <td>...</td>\n      <td>0.0543</td>\n      <td>-0.0515</td>\n      <td>-0.0017</td>\n      <td>-0.0101</td>\n      <td>0.0345</td>\n      <td>0.1180</td>\n      <td>0.0885</td>\n      <td>-0.0592</td>\n      <td>0.0560</td>\n      <td>0.327994</td>\n    </tr>\n    <tr>\n      <th>4</th>\n      <td>Synset('backsaw.n.01')</td>\n      <td>tool</td>\n      <td>1</td>\n      <td>0</td>\n      <td>0.0</td>\n      <td>1.114194</td>\n      <td>1.110701</td>\n      <td>7</td>\n      <td>2</td>\n      <td>1</td>\n      <td>...</td>\n      <td>-0.0457</td>\n      <td>-0.0741</td>\n      <td>0.0207</td>\n      <td>-0.0395</td>\n      <td>0.0297</td>\n      <td>-0.0542</td>\n      <td>-0.1040</td>\n      <td>-0.0326</td>\n      <td>0.0052</td>\n      <td>0.362438</td>\n    </tr>\n    <tr>\n      <th>...</th>\n      <td>...</td>\n      <td>...</td>\n      <td>...</td>\n      <td>...</td>\n      <td>...</td>\n      <td>...</td>\n      <td>...</td>\n      <td>...</td>\n      <td>...</td>\n      <td>...</td>\n      <td>...</td>\n      <td>...</td>\n      <td>...</td>\n      <td>...</td>\n      <td>...</td>\n      <td>...</td>\n      <td>...</td>\n      <td>...</td>\n      <td>...</td>\n      <td>...</td>\n      <td>...</td>\n    </tr>\n    <tr>\n      <th>834</th>\n      <td>Synset('ballet_skirt.n.01')</td>\n      <td>garm</td>\n      <td>1</td>\n      <td>0</td>\n      <td>0.0</td>\n      <td>0.947552</td>\n      <td>0.578283</td>\n      <td>4</td>\n      <td>2</td>\n      <td>2</td>\n      <td>...</td>\n      <td>0.0215</td>\n      <td>-0.0879</td>\n      <td>0.0333</td>\n      <td>-0.0301</td>\n      <td>-0.0218</td>\n      <td>-0.0342</td>\n      <td>0.0383</td>\n      <td>0.0045</td>\n      <td>-0.0346</td>\n      <td>0.263475</td>\n    </tr>\n    <tr>\n      <th>835</th>\n      <td>Synset('mess_jacket.n.01')</td>\n      <td>garm</td>\n      <td>1</td>\n      <td>0</td>\n      <td>0.0</td>\n      <td>1.158120</td>\n      <td>1.652238</td>\n      <td>11</td>\n      <td>3</td>\n      <td>1</td>\n      <td>...</td>\n      <td>0.0092</td>\n      <td>-0.0397</td>\n      <td>-0.0152</td>\n      <td>-0.0135</td>\n      <td>-0.0304</td>\n      <td>0.0031</td>\n      <td>-0.0402</td>\n      <td>-0.0054</td>\n      <td>-0.0153</td>\n      <td>0.572053</td>\n    </tr>\n    <tr>\n      <th>836</th>\n      <td>Synset('long_johns.n.01')</td>\n      <td>garm</td>\n      <td>1</td>\n      <td>0</td>\n      <td>0.0</td>\n      <td>1.052836</td>\n      <td>0.479149</td>\n      <td>10</td>\n      <td>1</td>\n      <td>1</td>\n      <td>...</td>\n      <td>-0.0458</td>\n      <td>-0.0743</td>\n      <td>0.0254</td>\n      <td>-0.0212</td>\n      <td>-0.0433</td>\n      <td>-0.0129</td>\n      <td>0.0235</td>\n      <td>-0.0929</td>\n      <td>0.0031</td>\n      <td>0.464427</td>\n    </tr>\n    <tr>\n      <th>837</th>\n      <td>Synset('undies.n.01')</td>\n      <td>garm</td>\n      <td>1</td>\n      <td>0</td>\n      <td>0.0</td>\n      <td>1.158120</td>\n      <td>0.280880</td>\n      <td>6</td>\n      <td>1</td>\n      <td>1</td>\n      <td>...</td>\n      <td>-0.0686</td>\n      <td>-0.0497</td>\n      <td>0.0083</td>\n      <td>-0.0549</td>\n      <td>-0.0501</td>\n      <td>0.0107</td>\n      <td>0.0060</td>\n      <td>-0.0205</td>\n      <td>0.0133</td>\n      <td>0.501280</td>\n    </tr>\n    <tr>\n      <th>838</th>\n      <td>Synset('lingerie.n.01')</td>\n      <td>garm</td>\n      <td>1</td>\n      <td>2</td>\n      <td>0.0</td>\n      <td>1.052836</td>\n      <td>0.561761</td>\n      <td>8</td>\n      <td>2</td>\n      <td>1</td>\n      <td>...</td>\n      <td>-0.0619</td>\n      <td>0.0217</td>\n      <td>0.0249</td>\n      <td>-0.0384</td>\n      <td>-0.0286</td>\n      <td>0.0330</td>\n      <td>0.0205</td>\n      <td>0.0371</td>\n      <td>-0.0025</td>\n      <td>0.521421</td>\n    </tr>\n  </tbody>\n</table>\n<p>776 rows × 331 columns</p>\n</div>"
     },
     "execution_count": 38,
     "metadata": {},
     "output_type": "execute_result"
    }
   ],
   "source": [
    "# for elimination\n",
    "## distance: concept - domain\n",
    "def dis(df):\n",
    "    domain = df['domain_x']\n",
    "    if domain == 'furn':\n",
    "        domain = 'furniture'\n",
    "    elif domain == 'garm':\n",
    "        domain = 'garment'\n",
    "    distance = conceptnet_300_1908.wv.similarity(df['norm'], domain)\n",
    "    return distance\n",
    "data_elimination['dis_c_d'] = data_elimination.apply(dis, axis=1)\n",
    "data_elimination"
   ],
   "metadata": {
    "collapsed": false,
    "pycharm": {
     "name": "#%%\n"
    }
   }
  },
  {
   "cell_type": "code",
   "execution_count": 33,
   "outputs": [],
   "source": [
    "data_elimination.to_csv('./w2v_eli.csv', index=None)"
   ],
   "metadata": {
    "collapsed": false,
    "pycharm": {
     "name": "#%%\n"
    }
   }
  },
  {
   "cell_type": "code",
   "execution_count": null,
   "outputs": [],
   "source": [],
   "metadata": {
    "collapsed": false,
    "pycharm": {
     "name": "#%%\n"
    }
   }
  }
 ],
 "metadata": {
  "kernelspec": {
   "display_name": "Python 3",
   "language": "python",
   "name": "python3"
  },
  "language_info": {
   "codemirror_mode": {
    "name": "ipython",
    "version": 2
   },
   "file_extension": ".py",
   "mimetype": "text/x-python",
   "name": "python",
   "nbconvert_exporter": "python",
   "pygments_lexer": "ipython2",
   "version": "2.7.6"
  }
 },
 "nbformat": 4,
 "nbformat_minor": 0
}