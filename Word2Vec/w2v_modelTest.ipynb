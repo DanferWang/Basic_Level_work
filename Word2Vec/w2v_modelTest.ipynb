{
 "cells": [
  {
   "cell_type": "code",
   "execution_count": 1,
   "metadata": {
    "collapsed": true,
    "trusted": false
   },
   "outputs": [],
   "source": [
    "import pandas as pd\n",
    "import numpy as np\n",
    "\n",
    "from sklearn.model_selection import StratifiedKFold\n",
    "from imblearn.over_sampling import SMOTE\n",
    "from sklearn.ensemble import RandomForestClassifier\n",
    "from imblearn.pipeline import make_pipeline\n",
    "from sklearn.metrics import classification_report, cohen_kappa_score, balanced_accuracy_score, precision_score, f1_score\n",
    "\n",
    "from sklearn.preprocessing import MinMaxScaler\n",
    "from sklearn import svm\n",
    "\n",
    "import warnings\n",
    "warnings.filterwarnings(\"ignore\")"
   ]
  },
  {
   "cell_type": "code",
   "execution_count": 142,
   "outputs": [
    {
     "data": {
      "text/plain": "                              Synsets domain_x  nrdirhypers_x  nrhypos_x  \\\n0    Synset('adjustable_wrench.n.01')     tool              1          7   \n1         Synset('allen_wrench.n.01')     tool              1          0   \n2     Synset('alligator_wrench.n.01')     tool              1          0   \n3                  Synset('awl.n.01')     tool              1          2   \n4              Synset('backsaw.n.01')     tool              1          0   \n..                                ...      ...            ...        ...   \n775       Synset('ballet_skirt.n.01')     garm              1          0   \n776        Synset('mess_jacket.n.01')     garm              1          0   \n777         Synset('long_johns.n.01')     garm              1          0   \n778             Synset('undies.n.01')     garm              1          0   \n779           Synset('lingerie.n.01')     garm              1          2   \n\n     nrpartrels_normalised_x  depthfromtopsynset_normalised_x  \\\n0                        0.0                         1.012903   \n1                        0.0                         1.012903   \n2                        0.0                         1.012903   \n3                       15.7                         0.911613   \n4                        0.0                         1.114194   \n..                       ...                              ...   \n775                      0.0                         0.947552   \n776                      0.0                         1.158120   \n777                      0.0                         1.052836   \n778                      0.0                         1.158120   \n779                      0.0                         1.052836   \n\n     glosslength_normalised_x  minwordlength_x  nroflemmas_x  polyscore_max_x  \\\n0                    0.563173               17             2                1   \n1                    0.391092               12             1                1   \n2                    1.517437               16             1                1   \n3                    0.985552                3             1                1   \n4                    1.110701                7             2                1   \n..                        ...              ...           ...              ...   \n775                  0.578283                4             2                2   \n776                  1.652238               11             3                1   \n777                  0.479149               10             1                1   \n778                  0.280880                6             1                1   \n779                  0.561761                8             2                1   \n\n     ... ngram_200y_max  ngram_400y_mean  ngram_400y_max  ngram_500y_mean  \\\n0    ...   5.067315e-08     6.919673e-09    5.067315e-08     5.336133e-09   \n1    ...   6.483798e-08     3.867145e-09    6.483798e-08     2.982164e-09   \n2    ...   1.499339e-08     6.203393e-10    1.499339e-08     4.783770e-10   \n3    ...   2.510665e-06     6.210211e-07    6.602901e-06     5.069033e-07   \n4    ...   3.507272e-08     9.018908e-09    2.260505e-07     6.954965e-09   \n..   ...            ...              ...             ...              ...   \n775  ...   8.004256e-07     1.136149e-07    8.004256e-07     9.223624e-08   \n776  ...   5.083992e-08     6.963715e-09    5.547362e-08     5.370096e-09   \n777  ...   1.103470e-07     6.987224e-09    1.103470e-07     5.388225e-09   \n778  ...   2.565946e-07     2.025520e-08    3.896998e-07     1.561987e-08   \n779  ...   1.126403e-06     1.440483e-07    1.126403e-06     1.351753e-07   \n\n     ngram_500y_max               norm  dist_min  dist_mean  dist_max  \\\n0      5.067315e-08  adjustable_wrench -0.082435   0.214812  0.878926   \n1      6.483798e-08       allen_wrench -0.042280   0.226570  0.875432   \n2      1.499339e-08   alligator_wrench -0.084978   0.207159  0.867023   \n3      6.602901e-06                awl -0.084815   0.106211  0.450463   \n4      2.260505e-07            backsaw -0.110515   0.178268  0.883533   \n..              ...                ...       ...        ...       ...   \n775    1.686392e-06       ballet_skirt -0.177788   0.059377  0.547366   \n776    5.547362e-08        mess_jacket -0.067792   0.301306  0.957686   \n777    1.103470e-07         long_johns -0.094436   0.258654  0.830205   \n778    3.896998e-07             undies -0.041136   0.323927  0.953495   \n779    8.808865e-06           lingerie -0.058183   0.289779  0.812356   \n\n     dist_std  \n0    0.295497  \n1    0.295538  \n2    0.289473  \n3    0.144857  \n4    0.321175  \n..        ...  \n775  0.176403  \n776  0.309748  \n777  0.327961  \n778  0.338978  \n779  0.289599  \n\n[780 rows x 34 columns]",
      "text/html": "<div>\n<style scoped>\n    .dataframe tbody tr th:only-of-type {\n        vertical-align: middle;\n    }\n\n    .dataframe tbody tr th {\n        vertical-align: top;\n    }\n\n    .dataframe thead th {\n        text-align: right;\n    }\n</style>\n<table border=\"1\" class=\"dataframe\">\n  <thead>\n    <tr style=\"text-align: right;\">\n      <th></th>\n      <th>Synsets</th>\n      <th>domain_x</th>\n      <th>nrdirhypers_x</th>\n      <th>nrhypos_x</th>\n      <th>nrpartrels_normalised_x</th>\n      <th>depthfromtopsynset_normalised_x</th>\n      <th>glosslength_normalised_x</th>\n      <th>minwordlength_x</th>\n      <th>nroflemmas_x</th>\n      <th>polyscore_max_x</th>\n      <th>...</th>\n      <th>ngram_200y_max</th>\n      <th>ngram_400y_mean</th>\n      <th>ngram_400y_max</th>\n      <th>ngram_500y_mean</th>\n      <th>ngram_500y_max</th>\n      <th>norm</th>\n      <th>dist_min</th>\n      <th>dist_mean</th>\n      <th>dist_max</th>\n      <th>dist_std</th>\n    </tr>\n  </thead>\n  <tbody>\n    <tr>\n      <th>0</th>\n      <td>Synset('adjustable_wrench.n.01')</td>\n      <td>tool</td>\n      <td>1</td>\n      <td>7</td>\n      <td>0.0</td>\n      <td>1.012903</td>\n      <td>0.563173</td>\n      <td>17</td>\n      <td>2</td>\n      <td>1</td>\n      <td>...</td>\n      <td>5.067315e-08</td>\n      <td>6.919673e-09</td>\n      <td>5.067315e-08</td>\n      <td>5.336133e-09</td>\n      <td>5.067315e-08</td>\n      <td>adjustable_wrench</td>\n      <td>-0.082435</td>\n      <td>0.214812</td>\n      <td>0.878926</td>\n      <td>0.295497</td>\n    </tr>\n    <tr>\n      <th>1</th>\n      <td>Synset('allen_wrench.n.01')</td>\n      <td>tool</td>\n      <td>1</td>\n      <td>0</td>\n      <td>0.0</td>\n      <td>1.012903</td>\n      <td>0.391092</td>\n      <td>12</td>\n      <td>1</td>\n      <td>1</td>\n      <td>...</td>\n      <td>6.483798e-08</td>\n      <td>3.867145e-09</td>\n      <td>6.483798e-08</td>\n      <td>2.982164e-09</td>\n      <td>6.483798e-08</td>\n      <td>allen_wrench</td>\n      <td>-0.042280</td>\n      <td>0.226570</td>\n      <td>0.875432</td>\n      <td>0.295538</td>\n    </tr>\n    <tr>\n      <th>2</th>\n      <td>Synset('alligator_wrench.n.01')</td>\n      <td>tool</td>\n      <td>1</td>\n      <td>0</td>\n      <td>0.0</td>\n      <td>1.012903</td>\n      <td>1.517437</td>\n      <td>16</td>\n      <td>1</td>\n      <td>1</td>\n      <td>...</td>\n      <td>1.499339e-08</td>\n      <td>6.203393e-10</td>\n      <td>1.499339e-08</td>\n      <td>4.783770e-10</td>\n      <td>1.499339e-08</td>\n      <td>alligator_wrench</td>\n      <td>-0.084978</td>\n      <td>0.207159</td>\n      <td>0.867023</td>\n      <td>0.289473</td>\n    </tr>\n    <tr>\n      <th>3</th>\n      <td>Synset('awl.n.01')</td>\n      <td>tool</td>\n      <td>1</td>\n      <td>2</td>\n      <td>15.7</td>\n      <td>0.911613</td>\n      <td>0.985552</td>\n      <td>3</td>\n      <td>1</td>\n      <td>1</td>\n      <td>...</td>\n      <td>2.510665e-06</td>\n      <td>6.210211e-07</td>\n      <td>6.602901e-06</td>\n      <td>5.069033e-07</td>\n      <td>6.602901e-06</td>\n      <td>awl</td>\n      <td>-0.084815</td>\n      <td>0.106211</td>\n      <td>0.450463</td>\n      <td>0.144857</td>\n    </tr>\n    <tr>\n      <th>4</th>\n      <td>Synset('backsaw.n.01')</td>\n      <td>tool</td>\n      <td>1</td>\n      <td>0</td>\n      <td>0.0</td>\n      <td>1.114194</td>\n      <td>1.110701</td>\n      <td>7</td>\n      <td>2</td>\n      <td>1</td>\n      <td>...</td>\n      <td>3.507272e-08</td>\n      <td>9.018908e-09</td>\n      <td>2.260505e-07</td>\n      <td>6.954965e-09</td>\n      <td>2.260505e-07</td>\n      <td>backsaw</td>\n      <td>-0.110515</td>\n      <td>0.178268</td>\n      <td>0.883533</td>\n      <td>0.321175</td>\n    </tr>\n    <tr>\n      <th>...</th>\n      <td>...</td>\n      <td>...</td>\n      <td>...</td>\n      <td>...</td>\n      <td>...</td>\n      <td>...</td>\n      <td>...</td>\n      <td>...</td>\n      <td>...</td>\n      <td>...</td>\n      <td>...</td>\n      <td>...</td>\n      <td>...</td>\n      <td>...</td>\n      <td>...</td>\n      <td>...</td>\n      <td>...</td>\n      <td>...</td>\n      <td>...</td>\n      <td>...</td>\n      <td>...</td>\n    </tr>\n    <tr>\n      <th>775</th>\n      <td>Synset('ballet_skirt.n.01')</td>\n      <td>garm</td>\n      <td>1</td>\n      <td>0</td>\n      <td>0.0</td>\n      <td>0.947552</td>\n      <td>0.578283</td>\n      <td>4</td>\n      <td>2</td>\n      <td>2</td>\n      <td>...</td>\n      <td>8.004256e-07</td>\n      <td>1.136149e-07</td>\n      <td>8.004256e-07</td>\n      <td>9.223624e-08</td>\n      <td>1.686392e-06</td>\n      <td>ballet_skirt</td>\n      <td>-0.177788</td>\n      <td>0.059377</td>\n      <td>0.547366</td>\n      <td>0.176403</td>\n    </tr>\n    <tr>\n      <th>776</th>\n      <td>Synset('mess_jacket.n.01')</td>\n      <td>garm</td>\n      <td>1</td>\n      <td>0</td>\n      <td>0.0</td>\n      <td>1.158120</td>\n      <td>1.652238</td>\n      <td>11</td>\n      <td>3</td>\n      <td>1</td>\n      <td>...</td>\n      <td>5.083992e-08</td>\n      <td>6.963715e-09</td>\n      <td>5.547362e-08</td>\n      <td>5.370096e-09</td>\n      <td>5.547362e-08</td>\n      <td>mess_jacket</td>\n      <td>-0.067792</td>\n      <td>0.301306</td>\n      <td>0.957686</td>\n      <td>0.309748</td>\n    </tr>\n    <tr>\n      <th>777</th>\n      <td>Synset('long_johns.n.01')</td>\n      <td>garm</td>\n      <td>1</td>\n      <td>0</td>\n      <td>0.0</td>\n      <td>1.052836</td>\n      <td>0.479149</td>\n      <td>10</td>\n      <td>1</td>\n      <td>1</td>\n      <td>...</td>\n      <td>1.103470e-07</td>\n      <td>6.987224e-09</td>\n      <td>1.103470e-07</td>\n      <td>5.388225e-09</td>\n      <td>1.103470e-07</td>\n      <td>long_johns</td>\n      <td>-0.094436</td>\n      <td>0.258654</td>\n      <td>0.830205</td>\n      <td>0.327961</td>\n    </tr>\n    <tr>\n      <th>778</th>\n      <td>Synset('undies.n.01')</td>\n      <td>garm</td>\n      <td>1</td>\n      <td>0</td>\n      <td>0.0</td>\n      <td>1.158120</td>\n      <td>0.280880</td>\n      <td>6</td>\n      <td>1</td>\n      <td>1</td>\n      <td>...</td>\n      <td>2.565946e-07</td>\n      <td>2.025520e-08</td>\n      <td>3.896998e-07</td>\n      <td>1.561987e-08</td>\n      <td>3.896998e-07</td>\n      <td>undies</td>\n      <td>-0.041136</td>\n      <td>0.323927</td>\n      <td>0.953495</td>\n      <td>0.338978</td>\n    </tr>\n    <tr>\n      <th>779</th>\n      <td>Synset('lingerie.n.01')</td>\n      <td>garm</td>\n      <td>1</td>\n      <td>2</td>\n      <td>0.0</td>\n      <td>1.052836</td>\n      <td>0.561761</td>\n      <td>8</td>\n      <td>2</td>\n      <td>1</td>\n      <td>...</td>\n      <td>1.126403e-06</td>\n      <td>1.440483e-07</td>\n      <td>1.126403e-06</td>\n      <td>1.351753e-07</td>\n      <td>8.808865e-06</td>\n      <td>lingerie</td>\n      <td>-0.058183</td>\n      <td>0.289779</td>\n      <td>0.812356</td>\n      <td>0.289599</td>\n    </tr>\n  </tbody>\n</table>\n<p>780 rows × 34 columns</p>\n</div>"
     },
     "execution_count": 142,
     "metadata": {},
     "output_type": "execute_result"
    }
   ],
   "source": [
    "# preparing for the dataset\n",
    "w2v_dataset = pd.read_csv('./w2v_eli.csv', index_col=None)\n",
    "w2v_dataset\n"
   ],
   "metadata": {
    "collapsed": false,
    "pycharm": {
     "name": "#%%\n"
    },
    "trusted": false
   }
  },
  {
   "cell_type": "code",
   "execution_count": 143,
   "outputs": [],
   "source": [
    "# define features and target\n",
    "features_base = ['nrdirhypers_x',\n",
    "                 'nrhypos_x',\n",
    "                 'nrpartrels_normalised_x',\n",
    "                 'depthfromtopsynset_normalised_x',\n",
    "                 'glosslength_normalised_x',\n",
    "                 'minwordlength_x',\n",
    "                 'nroflemmas_x',\n",
    "                 'polyscore_max_x']\n",
    "target = ['vote_x'] # nb / b\n",
    "distance = ['dist_min', 'dist_mean', 'dist_max', 'dist_std']\n",
    "vec_col = ['vec_'+str(x) for x in range(300)]\n",
    "\n",
    "ngram_feature_list = ['ngram_1y_mean', 'ngram_1y_max',\n",
    "                          'ngram_5y_mean', 'ngram_5y_max',\n",
    "                          'ngram_10y_mean', 'ngram_10y_max',\n",
    "                          'ngram_20y_mean', 'ngram_20y_max',\n",
    "                          'ngram_50y_mean', 'ngram_50y_max',\n",
    "                          'ngram_100y_mean', 'ngram_100y_max',\n",
    "                          'ngram_200y_mean', 'ngram_200y_max',\n",
    "                          'ngram_400y_mean', 'ngram_400y_max',\n",
    "                          'ngram_500y_mean', 'ngram_500y_max']\n",
    "\n"
   ],
   "metadata": {
    "collapsed": false,
    "pycharm": {
     "name": "#%%\n"
    },
    "trusted": false
   }
  },
  {
   "cell_type": "code",
   "execution_count": 10,
   "outputs": [
    {
     "data": {
      "text/plain": "                              Synsets domain_x vote_x  nrdirhypers_x  \\\n0    Synset('adjustable_wrench.n.01')     tool     nb            0.0   \n1         Synset('allen_wrench.n.01')     tool     nb            0.0   \n2     Synset('alligator_wrench.n.01')     tool     nb            0.0   \n3                  Synset('awl.n.01')     tool      b            0.0   \n4              Synset('backsaw.n.01')     tool     nb            0.0   \n..                                ...      ...    ...            ...   \n771       Synset('ballet_skirt.n.01')     garm     nb            0.0   \n772        Synset('mess_jacket.n.01')     garm     nb            0.0   \n773         Synset('long_johns.n.01')     garm     nb            0.0   \n774             Synset('undies.n.01')     garm     nb            0.0   \n775           Synset('lingerie.n.01')     garm     nb            0.0   \n\n     nrhypos_x  nrpartrels_normalised_x  depthfromtopsynset_normalised_x  \\\n0      0.02583                  0.00000                         0.511681   \n1      0.00000                  0.00000                         0.511681   \n2      0.00000                  0.00000                         0.511681   \n3      0.00738                  0.24139                         0.348908   \n4      0.00000                  0.00000                         0.674454   \n..         ...                      ...                              ...   \n771    0.00000                  0.00000                         0.406662   \n772    0.00000                  0.00000                         0.745043   \n773    0.00000                  0.00000                         0.575853   \n774    0.00000                  0.00000                         0.745043   \n775    0.00738                  0.00000                         0.575853   \n\n     glosslength_normalised_x  minwordlength_x  nroflemmas_x  ...   vec_290  \\\n0                    0.132594         0.777778      0.166667  ...  0.360181   \n1                    0.085765         0.500000      0.000000  ...  0.615411   \n2                    0.392283         0.722222      0.000000  ...  0.563110   \n3                    0.247538         0.000000      0.000000  ...  0.412831   \n4                    0.281596         0.222222      0.166667  ...  0.436192   \n..                        ...              ...           ...  ...       ...   \n771                  0.136706         0.055556      0.166667  ...  0.531032   \n772                  0.428967         0.444444      0.333333  ...  0.618550   \n773                  0.109728         0.388889      0.000000  ...  0.585774   \n774                  0.055772         0.166667      0.000000  ...  0.547420   \n775                  0.132210         0.277778      0.166667  ...  0.400279   \n\n      vec_291   vec_292   vec_293   vec_294   vec_295   vec_296   vec_297  \\\n0    0.571163  0.288111  0.734902  0.340552  0.559278  0.681165  0.225244   \n1    0.595318  0.394238  0.765801  0.276858  0.427099  0.528756  0.385465   \n2    0.585656  0.387673  0.694522  0.213588  0.527246  0.551042  0.328942   \n3    0.718692  0.278264  0.564256  0.484926  0.579529  0.838965  0.845729   \n4    0.347083  0.195842  0.642907  0.360085  0.561856  0.219986  0.027624   \n..        ...       ...       ...       ...       ...       ...       ...   \n771  0.596804  0.145514  0.687149  0.400000  0.372239  0.291876  0.632384   \n772  0.551096  0.321298  0.516854  0.470488  0.340574  0.425953  0.298768   \n773  0.346711  0.195113  0.659410  0.437792  0.293078  0.368440  0.569486   \n774  0.261984  0.284829  0.599368  0.294692  0.268041  0.453271  0.495113   \n775  0.286882  0.545222  0.657655  0.364756  0.347202  0.533429  0.556736   \n\n      vec_298   vec_299  \n0    0.402111  0.351121  \n1    0.413755  0.180363  \n2    0.363901  0.314479  \n3    0.213974  0.642476  \n4    0.310771  0.461757  \n..        ...       ...  \n771  0.445779  0.320171  \n772  0.409753  0.388830  \n773  0.091339  0.454287  \n774  0.354803  0.490573  \n775  0.564410  0.434365  \n\n[776 rows x 329 columns]",
      "text/html": "<div>\n<style scoped>\n    .dataframe tbody tr th:only-of-type {\n        vertical-align: middle;\n    }\n\n    .dataframe tbody tr th {\n        vertical-align: top;\n    }\n\n    .dataframe thead th {\n        text-align: right;\n    }\n</style>\n<table border=\"1\" class=\"dataframe\">\n  <thead>\n    <tr style=\"text-align: right;\">\n      <th></th>\n      <th>Synsets</th>\n      <th>domain_x</th>\n      <th>vote_x</th>\n      <th>nrdirhypers_x</th>\n      <th>nrhypos_x</th>\n      <th>nrpartrels_normalised_x</th>\n      <th>depthfromtopsynset_normalised_x</th>\n      <th>glosslength_normalised_x</th>\n      <th>minwordlength_x</th>\n      <th>nroflemmas_x</th>\n      <th>...</th>\n      <th>vec_290</th>\n      <th>vec_291</th>\n      <th>vec_292</th>\n      <th>vec_293</th>\n      <th>vec_294</th>\n      <th>vec_295</th>\n      <th>vec_296</th>\n      <th>vec_297</th>\n      <th>vec_298</th>\n      <th>vec_299</th>\n    </tr>\n  </thead>\n  <tbody>\n    <tr>\n      <th>0</th>\n      <td>Synset('adjustable_wrench.n.01')</td>\n      <td>tool</td>\n      <td>nb</td>\n      <td>0.0</td>\n      <td>0.02583</td>\n      <td>0.00000</td>\n      <td>0.511681</td>\n      <td>0.132594</td>\n      <td>0.777778</td>\n      <td>0.166667</td>\n      <td>...</td>\n      <td>0.360181</td>\n      <td>0.571163</td>\n      <td>0.288111</td>\n      <td>0.734902</td>\n      <td>0.340552</td>\n      <td>0.559278</td>\n      <td>0.681165</td>\n      <td>0.225244</td>\n      <td>0.402111</td>\n      <td>0.351121</td>\n    </tr>\n    <tr>\n      <th>1</th>\n      <td>Synset('allen_wrench.n.01')</td>\n      <td>tool</td>\n      <td>nb</td>\n      <td>0.0</td>\n      <td>0.00000</td>\n      <td>0.00000</td>\n      <td>0.511681</td>\n      <td>0.085765</td>\n      <td>0.500000</td>\n      <td>0.000000</td>\n      <td>...</td>\n      <td>0.615411</td>\n      <td>0.595318</td>\n      <td>0.394238</td>\n      <td>0.765801</td>\n      <td>0.276858</td>\n      <td>0.427099</td>\n      <td>0.528756</td>\n      <td>0.385465</td>\n      <td>0.413755</td>\n      <td>0.180363</td>\n    </tr>\n    <tr>\n      <th>2</th>\n      <td>Synset('alligator_wrench.n.01')</td>\n      <td>tool</td>\n      <td>nb</td>\n      <td>0.0</td>\n      <td>0.00000</td>\n      <td>0.00000</td>\n      <td>0.511681</td>\n      <td>0.392283</td>\n      <td>0.722222</td>\n      <td>0.000000</td>\n      <td>...</td>\n      <td>0.563110</td>\n      <td>0.585656</td>\n      <td>0.387673</td>\n      <td>0.694522</td>\n      <td>0.213588</td>\n      <td>0.527246</td>\n      <td>0.551042</td>\n      <td>0.328942</td>\n      <td>0.363901</td>\n      <td>0.314479</td>\n    </tr>\n    <tr>\n      <th>3</th>\n      <td>Synset('awl.n.01')</td>\n      <td>tool</td>\n      <td>b</td>\n      <td>0.0</td>\n      <td>0.00738</td>\n      <td>0.24139</td>\n      <td>0.348908</td>\n      <td>0.247538</td>\n      <td>0.000000</td>\n      <td>0.000000</td>\n      <td>...</td>\n      <td>0.412831</td>\n      <td>0.718692</td>\n      <td>0.278264</td>\n      <td>0.564256</td>\n      <td>0.484926</td>\n      <td>0.579529</td>\n      <td>0.838965</td>\n      <td>0.845729</td>\n      <td>0.213974</td>\n      <td>0.642476</td>\n    </tr>\n    <tr>\n      <th>4</th>\n      <td>Synset('backsaw.n.01')</td>\n      <td>tool</td>\n      <td>nb</td>\n      <td>0.0</td>\n      <td>0.00000</td>\n      <td>0.00000</td>\n      <td>0.674454</td>\n      <td>0.281596</td>\n      <td>0.222222</td>\n      <td>0.166667</td>\n      <td>...</td>\n      <td>0.436192</td>\n      <td>0.347083</td>\n      <td>0.195842</td>\n      <td>0.642907</td>\n      <td>0.360085</td>\n      <td>0.561856</td>\n      <td>0.219986</td>\n      <td>0.027624</td>\n      <td>0.310771</td>\n      <td>0.461757</td>\n    </tr>\n    <tr>\n      <th>...</th>\n      <td>...</td>\n      <td>...</td>\n      <td>...</td>\n      <td>...</td>\n      <td>...</td>\n      <td>...</td>\n      <td>...</td>\n      <td>...</td>\n      <td>...</td>\n      <td>...</td>\n      <td>...</td>\n      <td>...</td>\n      <td>...</td>\n      <td>...</td>\n      <td>...</td>\n      <td>...</td>\n      <td>...</td>\n      <td>...</td>\n      <td>...</td>\n      <td>...</td>\n      <td>...</td>\n    </tr>\n    <tr>\n      <th>771</th>\n      <td>Synset('ballet_skirt.n.01')</td>\n      <td>garm</td>\n      <td>nb</td>\n      <td>0.0</td>\n      <td>0.00000</td>\n      <td>0.00000</td>\n      <td>0.406662</td>\n      <td>0.136706</td>\n      <td>0.055556</td>\n      <td>0.166667</td>\n      <td>...</td>\n      <td>0.531032</td>\n      <td>0.596804</td>\n      <td>0.145514</td>\n      <td>0.687149</td>\n      <td>0.400000</td>\n      <td>0.372239</td>\n      <td>0.291876</td>\n      <td>0.632384</td>\n      <td>0.445779</td>\n      <td>0.320171</td>\n    </tr>\n    <tr>\n      <th>772</th>\n      <td>Synset('mess_jacket.n.01')</td>\n      <td>garm</td>\n      <td>nb</td>\n      <td>0.0</td>\n      <td>0.00000</td>\n      <td>0.00000</td>\n      <td>0.745043</td>\n      <td>0.428967</td>\n      <td>0.444444</td>\n      <td>0.333333</td>\n      <td>...</td>\n      <td>0.618550</td>\n      <td>0.551096</td>\n      <td>0.321298</td>\n      <td>0.516854</td>\n      <td>0.470488</td>\n      <td>0.340574</td>\n      <td>0.425953</td>\n      <td>0.298768</td>\n      <td>0.409753</td>\n      <td>0.388830</td>\n    </tr>\n    <tr>\n      <th>773</th>\n      <td>Synset('long_johns.n.01')</td>\n      <td>garm</td>\n      <td>nb</td>\n      <td>0.0</td>\n      <td>0.00000</td>\n      <td>0.00000</td>\n      <td>0.575853</td>\n      <td>0.109728</td>\n      <td>0.388889</td>\n      <td>0.000000</td>\n      <td>...</td>\n      <td>0.585774</td>\n      <td>0.346711</td>\n      <td>0.195113</td>\n      <td>0.659410</td>\n      <td>0.437792</td>\n      <td>0.293078</td>\n      <td>0.368440</td>\n      <td>0.569486</td>\n      <td>0.091339</td>\n      <td>0.454287</td>\n    </tr>\n    <tr>\n      <th>774</th>\n      <td>Synset('undies.n.01')</td>\n      <td>garm</td>\n      <td>nb</td>\n      <td>0.0</td>\n      <td>0.00000</td>\n      <td>0.00000</td>\n      <td>0.745043</td>\n      <td>0.055772</td>\n      <td>0.166667</td>\n      <td>0.000000</td>\n      <td>...</td>\n      <td>0.547420</td>\n      <td>0.261984</td>\n      <td>0.284829</td>\n      <td>0.599368</td>\n      <td>0.294692</td>\n      <td>0.268041</td>\n      <td>0.453271</td>\n      <td>0.495113</td>\n      <td>0.354803</td>\n      <td>0.490573</td>\n    </tr>\n    <tr>\n      <th>775</th>\n      <td>Synset('lingerie.n.01')</td>\n      <td>garm</td>\n      <td>nb</td>\n      <td>0.0</td>\n      <td>0.00738</td>\n      <td>0.00000</td>\n      <td>0.575853</td>\n      <td>0.132210</td>\n      <td>0.277778</td>\n      <td>0.166667</td>\n      <td>...</td>\n      <td>0.400279</td>\n      <td>0.286882</td>\n      <td>0.545222</td>\n      <td>0.657655</td>\n      <td>0.364756</td>\n      <td>0.347202</td>\n      <td>0.533429</td>\n      <td>0.556736</td>\n      <td>0.564410</td>\n      <td>0.434365</td>\n    </tr>\n  </tbody>\n</table>\n<p>776 rows × 329 columns</p>\n</div>"
     },
     "execution_count": 10,
     "metadata": {},
     "output_type": "execute_result"
    }
   ],
   "source": [
    "normalized_col = features_base + ngram_feature_list + vec_col\n",
    "w2v_normalized = w2v_dataset[normalized_col]\n",
    "normalize_scaler = MinMaxScaler()\n",
    "w2v_normalized = normalize_scaler.fit_transform(w2v_normalized)\n",
    "w2v_normalized = pd.DataFrame(w2v_normalized, columns=normalized_col)\n",
    "\n",
    "string_col = w2v_dataset[['Synsets', 'domain_x', 'vote_x']]\n",
    "w2v_normalized = pd.concat([string_col, w2v_normalized], axis=1)\n",
    "\n",
    "w2v_normalized"
   ],
   "metadata": {
    "collapsed": false,
    "pycharm": {
     "name": "#%%\n"
    },
    "trusted": false
   }
  },
  {
   "cell_type": "markdown",
   "source": [
    "## GlobalModel Test"
   ],
   "metadata": {
    "collapsed": false
   }
  },
  {
   "cell_type": "markdown",
   "source": [
    "### Benchmark: Random Forest"
   ],
   "metadata": {
    "collapsed": false
   }
  },
  {
   "cell_type": "code",
   "execution_count": 150,
   "outputs": [],
   "source": [
    "# split training set and testing set using K-Flod\n",
    "def global_model_test(dataset, feature, vec, target):\n",
    "    K = 10\n",
    "    random_seed = 7 # R\n",
    "    data = dataset.reset_index()\n",
    "    feature_list = feature + vec\n",
    "    X = data[feature_list]\n",
    "    y = data[target]\n",
    "\n",
    "    K_Flod = StratifiedKFold(n_splits=K, shuffle=True, random_state=random_seed)\n",
    "    K_Flod.get_n_splits(X, y)\n",
    "    cohen_kappa = []\n",
    "    balanced_acc = []\n",
    "    for train_index, test_index in K_Flod.split(X, y):\n",
    "        X_train, X_test = X.iloc[train_index], X.iloc[test_index]\n",
    "        y_train, y_test = y.iloc[train_index], y.iloc[test_index]\n",
    "\n",
    "        # SMOTE algorithm\n",
    "        smote = SMOTE(random_state=random_seed, k_neighbors=2)\n",
    "        X_train, y_train = smote.fit_resample(X_train, y_train)\n",
    "\n",
    "        # define random forest model\n",
    "        rf = RandomForestClassifier(random_state=random_seed, max_features='sqrt', n_estimators=1400, min_samples_split=2, min_samples_leaf=1, max_depth=50, oob_score=True, criterion='gini', bootstrap=True).fit(X_train, y_train)\n",
    "\n",
    "        # predict and make score\n",
    "        pipeline = make_pipeline(smote, rf)\n",
    "        y_pred = pipeline.predict(X_test)\n",
    "\n",
    "        kappa = cohen_kappa_score(y_test, y_pred)\n",
    "        cohen_kappa.append(kappa)\n",
    "        balanced_accuracy = balanced_accuracy_score(y_test, y_pred)\n",
    "        balanced_acc.append(balanced_accuracy)\n",
    "\n",
    "    results = []\n",
    "\n",
    "    results.append(np.mean(cohen_kappa))\n",
    "    results.append(np.mean(balanced_acc))\n",
    "\n",
    "    return results"
   ],
   "metadata": {
    "collapsed": false,
    "pycharm": {
     "name": "#%%\n"
    },
    "trusted": false
   }
  },
  {
   "cell_type": "code",
   "execution_count": 151,
   "outputs": [
    {
     "data": {
      "text/plain": "[0.684858332515145, 0.8436451301832207]"
     },
     "execution_count": 151,
     "metadata": {},
     "output_type": "execute_result"
    }
   ],
   "source": [
    "global_model_test(w2v_dataset, features_base, ['dist_max'], target)"
   ],
   "metadata": {
    "collapsed": false,
    "pycharm": {
     "name": "#%%\n"
    },
    "trusted": false
   }
  },
  {
   "cell_type": "code",
   "execution_count": 152,
   "outputs": [
    {
     "data": {
      "text/plain": "[0.7134661724818578, 0.858361727204543]"
     },
     "execution_count": 152,
     "metadata": {},
     "output_type": "execute_result"
    }
   ],
   "source": [
    "global_model_test(w2v_dataset, features_base, ['dist_min'], target)"
   ],
   "metadata": {
    "collapsed": false,
    "pycharm": {
     "name": "#%%\n"
    }
   }
  },
  {
   "cell_type": "code",
   "execution_count": 153,
   "outputs": [
    {
     "data": {
      "text/plain": "[0.7037666632841176, 0.8587948676738455]"
     },
     "execution_count": 153,
     "metadata": {},
     "output_type": "execute_result"
    }
   ],
   "source": [
    "global_model_test(w2v_dataset, features_base, ['dist_mean'], target)"
   ],
   "metadata": {
    "collapsed": false,
    "pycharm": {
     "name": "#%%\n"
    }
   }
  },
  {
   "cell_type": "code",
   "execution_count": 154,
   "outputs": [
    {
     "data": {
      "text/plain": "[0.7007468167728946, 0.8570274831243972]"
     },
     "execution_count": 154,
     "metadata": {},
     "output_type": "execute_result"
    }
   ],
   "source": [
    "global_model_test(w2v_dataset, features_base, ['dist_std'], target)"
   ],
   "metadata": {
    "collapsed": false,
    "pycharm": {
     "name": "#%%\n"
    }
   }
  },
  {
   "cell_type": "code",
   "execution_count": 97,
   "outputs": [
    {
     "data": {
      "text/plain": "[0.6631330879321169, 0.831074413371906]"
     },
     "execution_count": 97,
     "metadata": {},
     "output_type": "execute_result"
    }
   ],
   "source": [
    "global_model_test(w2v_dataset, features_base, distance, target)"
   ],
   "metadata": {
    "collapsed": false,
    "pycharm": {
     "name": "#%%\n"
    }
   }
  },
  {
   "cell_type": "code",
   "execution_count": 5,
   "outputs": [
    {
     "data": {
      "text/plain": "[0.5422009666892509, 0.7413211186113788]"
     },
     "execution_count": 5,
     "metadata": {},
     "output_type": "execute_result"
    }
   ],
   "source": [
    "global_model_test(w2v_dataset, features_base, vec_col, target)"
   ],
   "metadata": {
    "collapsed": false,
    "pycharm": {
     "name": "#%%\n"
    },
    "trusted": false
   }
  },
  {
   "cell_type": "markdown",
   "source": [
    "### Vector based: SVM"
   ],
   "metadata": {
    "collapsed": false
   }
  },
  {
   "cell_type": "code",
   "execution_count": 58,
   "outputs": [],
   "source": [
    "# split training set and testing set using K-Flod\n",
    "def svm_global_model_test(dataset, feature, vec, target, cc, gamma_setting):\n",
    "    K = 10\n",
    "    random_seed = 7 # R\n",
    "    data = dataset.reset_index()\n",
    "    feature_list = feature + vec\n",
    "    X = data[feature_list]\n",
    "    y = data[target]\n",
    "\n",
    "    K_Flod = StratifiedKFold(n_splits=K, shuffle=True, random_state=random_seed)\n",
    "    K_Flod.get_n_splits(X, y)\n",
    "    cohen_kappa = []\n",
    "    balanced_acc = []\n",
    "    for train_index, test_index in K_Flod.split(X, y):\n",
    "        X_train, X_test = X.iloc[train_index], X.iloc[test_index]\n",
    "        y_train, y_test = y.iloc[train_index], y.iloc[test_index]\n",
    "\n",
    "        # SVM\n",
    "        svm_classifier = svm.SVC(C=cc, kernel='rbf', gamma=gamma_setting)\n",
    "\n",
    "        # fit data\n",
    "        svm_classifier.fit(X_train, y_train)\n",
    "\n",
    "        # predict and make score\n",
    "        y_pred = svm_classifier.predict(X_test)\n",
    "\n",
    "        kappa = cohen_kappa_score(y_test, y_pred)\n",
    "        cohen_kappa.append(kappa)\n",
    "        balanced_accuracy = balanced_accuracy_score(y_test, y_pred)\n",
    "        balanced_acc.append(balanced_accuracy)\n",
    "\n",
    "    results = []\n",
    "\n",
    "    results.append(np.mean(cohen_kappa))\n",
    "    results.append(np.mean(balanced_acc))\n",
    "\n",
    "    return results"
   ],
   "metadata": {
    "collapsed": false,
    "pycharm": {
     "name": "#%%\n"
    },
    "trusted": false
   }
  },
  {
   "cell_type": "code",
   "execution_count": 14,
   "outputs": [
    {
     "name": "stdout",
     "output_type": "stream",
     "text": "Best kappa = 0.564415757672675, best balanced accuracy = 0.7688947819564984, C = 111, gamma is scale\n"
    }
   ],
   "source": [
    "# grid search for SVM\n",
    "max_kappa = 0\n",
    "max_balanced_accuracy = 0\n",
    "best_C = 0\n",
    "besr_gamma = ''\n",
    "for gamma_setting in ['auto', 'scale']:\n",
    "    for cc in range(1, 201):\n",
    "        res = svm_global_model_test(w2v_normalized, features_base, vec_col, target, cc, gamma_setting)\n",
    "        if res[0] > max_kappa:\n",
    "            max_kappa = res[0]\n",
    "            max_balanced_accuracy = res[1]\n",
    "            best_C = cc\n",
    "            besr_gamma = gamma_setting\n",
    "\n",
    "print('Best kappa = {0}, best balanced accuracy = {1}, C = {2}, gamma is {3}'.format(max_kappa, max_balanced_accuracy,best_C, besr_gamma))"
   ],
   "metadata": {
    "collapsed": false,
    "pycharm": {
     "name": "#%%\n"
    },
    "trusted": false
   }
  },
  {
   "cell_type": "markdown",
   "source": [
    "## LocalModel Test"
   ],
   "metadata": {
    "collapsed": false
   }
  },
  {
   "cell_type": "markdown",
   "source": [
    "### Benchmark: Random Forest"
   ],
   "metadata": {
    "collapsed": false
   }
  },
  {
   "cell_type": "code",
   "execution_count": 155,
   "outputs": [],
   "source": [
    "# generate the local dataframe for different domains\n",
    "local_fruit = w2v_dataset.loc[w2v_dataset['domain_x']=='fruit']\n",
    "local_tool = w2v_dataset.loc[w2v_dataset['domain_x']=='tool']\n",
    "local_music = w2v_dataset.loc[w2v_dataset['domain_x']=='music']\n",
    "local_furniture = w2v_dataset.loc[w2v_dataset['domain_x']=='furn']\n",
    "local_garments = w2v_dataset.loc[w2v_dataset['domain_x']=='garm']\n",
    "\n",
    "local_list = [local_fruit, local_tool, local_music, local_furniture, local_garments]\n",
    "\n",
    "# average results of five domains\n",
    "def local_model_test(dataset_list, feature, distance, target):\n",
    "    local_kappa_list = []\n",
    "    local_balancedAcc_list = []\n",
    "    for local_dataset in dataset_list:\n",
    "        result_list = global_model_test(local_dataset, feature, distance, target)\n",
    "        local_kappa_list.append(result_list[0])\n",
    "        local_balancedAcc_list.append(result_list[1])\n",
    "\n",
    "    local_result_list = [np.mean(local_kappa_list), np.mean(local_balancedAcc_list)]\n",
    "    return local_result_list"
   ],
   "metadata": {
    "collapsed": false,
    "pycharm": {
     "name": "#%%\n"
    },
    "trusted": false
   }
  },
  {
   "cell_type": "code",
   "execution_count": 156,
   "outputs": [
    {
     "data": {
      "text/plain": "[0.6155352431605264, 0.8149603174603174]"
     },
     "execution_count": 156,
     "metadata": {},
     "output_type": "execute_result"
    }
   ],
   "source": [
    "local_model_test(local_list, features_base, ['dist_std'], target)"
   ],
   "metadata": {
    "collapsed": false,
    "pycharm": {
     "name": "#%%\n"
    },
    "trusted": false
   }
  },
  {
   "cell_type": "code",
   "execution_count": 157,
   "outputs": [
    {
     "data": {
      "text/plain": "[0.6380471507788009, 0.8224484126984126]"
     },
     "execution_count": 157,
     "metadata": {},
     "output_type": "execute_result"
    }
   ],
   "source": [
    "local_model_test(local_list, features_base, ['dist_mean'], target)"
   ],
   "metadata": {
    "collapsed": false,
    "pycharm": {
     "name": "#%%\n"
    }
   }
  },
  {
   "cell_type": "code",
   "execution_count": 158,
   "outputs": [
    {
     "data": {
      "text/plain": "[0.6392289675652201, 0.8270992063492063]"
     },
     "execution_count": 158,
     "metadata": {},
     "output_type": "execute_result"
    }
   ],
   "source": [
    "local_model_test(local_list, features_base, ['dist_min'], target)"
   ],
   "metadata": {
    "collapsed": false,
    "pycharm": {
     "name": "#%%\n"
    }
   }
  },
  {
   "cell_type": "code",
   "execution_count": 160,
   "outputs": [
    {
     "data": {
      "text/plain": "[0.6483147051286842, 0.8299087301587301]"
     },
     "execution_count": 160,
     "metadata": {},
     "output_type": "execute_result"
    }
   ],
   "source": [
    "local_model_test(local_list, features_base, ['dist_min', 'dist_mean'], target)"
   ],
   "metadata": {
    "collapsed": false,
    "pycharm": {
     "name": "#%%\n"
    }
   }
  },
  {
   "cell_type": "code",
   "execution_count": 40,
   "outputs": [
    {
     "data": {
      "text/plain": "                              Synsets domain_x  nrdirhypers_x  nrhypos_x  \\\n0    Synset('adjustable_wrench.n.01')     tool              1          7   \n1         Synset('allen_wrench.n.01')     tool              1          0   \n2     Synset('alligator_wrench.n.01')     tool              1          0   \n3                  Synset('awl.n.01')     tool              1          2   \n4              Synset('backsaw.n.01')     tool              1          0   \n..                                ...      ...            ...        ...   \n775       Synset('ballet_skirt.n.01')     garm              1          0   \n776        Synset('mess_jacket.n.01')     garm              1          0   \n777         Synset('long_johns.n.01')     garm              1          0   \n778             Synset('undies.n.01')     garm              1          0   \n779           Synset('lingerie.n.01')     garm              1          2   \n\n     nrpartrels_normalised_x  depthfromtopsynset_normalised_x  \\\n0                        0.0                         1.012903   \n1                        0.0                         1.012903   \n2                        0.0                         1.012903   \n3                       15.7                         0.911613   \n4                        0.0                         1.114194   \n..                       ...                              ...   \n775                      0.0                         0.947552   \n776                      0.0                         1.158120   \n777                      0.0                         1.052836   \n778                      0.0                         1.158120   \n779                      0.0                         1.052836   \n\n     glosslength_normalised_x  minwordlength_x  nroflemmas_x  polyscore_max_x  \\\n0                    0.563173               17             2                1   \n1                    0.391092               12             1                1   \n2                    1.517437               16             1                1   \n3                    0.985552                3             1                1   \n4                    1.110701                7             2                1   \n..                        ...              ...           ...              ...   \n775                  0.578283                4             2                2   \n776                  1.652238               11             3                1   \n777                  0.479149               10             1                1   \n778                  0.280880                6             1                1   \n779                  0.561761                8             2                1   \n\n     ... ngram_200y_mean  ngram_200y_max  ngram_400y_mean  ngram_400y_max  \\\n0    ...    1.380492e-08    5.067315e-08     6.919673e-09    5.067315e-08   \n1    ...    7.715051e-09    6.483798e-08     3.867145e-09    6.483798e-08   \n2    ...    1.237592e-09    1.499339e-08     6.203393e-10    1.499339e-08   \n3    ...    5.869817e-07    2.510665e-06     6.210211e-07    6.602901e-06   \n4    ...    1.451245e-08    3.507272e-08     9.018908e-09    2.260505e-07   \n..   ...             ...             ...              ...             ...   \n775  ...    1.531570e-07    8.004256e-07     1.136149e-07    8.004256e-07   \n776  ...    1.358353e-08    5.083992e-08     6.963715e-09    5.547362e-08   \n777  ...    1.393969e-08    1.103470e-07     6.987224e-09    1.103470e-07   \n778  ...    3.095668e-08    2.565946e-07     2.025520e-08    3.896998e-07   \n779  ...    2.835355e-07    1.126403e-06     1.440483e-07    1.126403e-06   \n\n     ngram_500y_mean  ngram_500y_max               norm   dis_min  dist_mean  \\\n0       5.336133e-09    5.067315e-08  adjustable_wrench  0.416576  45.038897   \n1       2.982164e-09    6.483798e-08       allen_wrench  0.549829  54.982889   \n2       4.783770e-10    1.499339e-08   alligator_wrench  0.431030  43.102965   \n3       5.069033e-07    6.602901e-06                awl  0.327994  32.799363   \n4       6.954965e-09    2.260505e-07            backsaw  0.290454  32.644600   \n..               ...             ...                ...       ...        ...   \n775     9.223624e-08    1.686392e-06       ballet_skirt  0.198830  23.115268   \n776     5.370096e-09    5.547362e-08        mess_jacket  0.543115  56.592911   \n777     5.388225e-09    1.103470e-07         long_johns  0.464427  46.442714   \n778     1.561987e-08    3.896998e-07             undies  0.501280  50.128013   \n779     1.351753e-07    8.808865e-06           lingerie  0.521421  52.142096   \n\n     dist_max  \n0    0.484202  \n1    0.549829  \n2    0.431030  \n3    0.327994  \n4    0.362438  \n..        ...  \n775  0.263475  \n776  0.582620  \n777  0.464427  \n778  0.501280  \n779  0.521421  \n\n[780 rows x 33 columns]",
      "text/html": "<div>\n<style scoped>\n    .dataframe tbody tr th:only-of-type {\n        vertical-align: middle;\n    }\n\n    .dataframe tbody tr th {\n        vertical-align: top;\n    }\n\n    .dataframe thead th {\n        text-align: right;\n    }\n</style>\n<table border=\"1\" class=\"dataframe\">\n  <thead>\n    <tr style=\"text-align: right;\">\n      <th></th>\n      <th>Synsets</th>\n      <th>domain_x</th>\n      <th>nrdirhypers_x</th>\n      <th>nrhypos_x</th>\n      <th>nrpartrels_normalised_x</th>\n      <th>depthfromtopsynset_normalised_x</th>\n      <th>glosslength_normalised_x</th>\n      <th>minwordlength_x</th>\n      <th>nroflemmas_x</th>\n      <th>polyscore_max_x</th>\n      <th>...</th>\n      <th>ngram_200y_mean</th>\n      <th>ngram_200y_max</th>\n      <th>ngram_400y_mean</th>\n      <th>ngram_400y_max</th>\n      <th>ngram_500y_mean</th>\n      <th>ngram_500y_max</th>\n      <th>norm</th>\n      <th>dis_min</th>\n      <th>dist_mean</th>\n      <th>dist_max</th>\n    </tr>\n  </thead>\n  <tbody>\n    <tr>\n      <th>0</th>\n      <td>Synset('adjustable_wrench.n.01')</td>\n      <td>tool</td>\n      <td>1</td>\n      <td>7</td>\n      <td>0.0</td>\n      <td>1.012903</td>\n      <td>0.563173</td>\n      <td>17</td>\n      <td>2</td>\n      <td>1</td>\n      <td>...</td>\n      <td>1.380492e-08</td>\n      <td>5.067315e-08</td>\n      <td>6.919673e-09</td>\n      <td>5.067315e-08</td>\n      <td>5.336133e-09</td>\n      <td>5.067315e-08</td>\n      <td>adjustable_wrench</td>\n      <td>0.416576</td>\n      <td>45.038897</td>\n      <td>0.484202</td>\n    </tr>\n    <tr>\n      <th>1</th>\n      <td>Synset('allen_wrench.n.01')</td>\n      <td>tool</td>\n      <td>1</td>\n      <td>0</td>\n      <td>0.0</td>\n      <td>1.012903</td>\n      <td>0.391092</td>\n      <td>12</td>\n      <td>1</td>\n      <td>1</td>\n      <td>...</td>\n      <td>7.715051e-09</td>\n      <td>6.483798e-08</td>\n      <td>3.867145e-09</td>\n      <td>6.483798e-08</td>\n      <td>2.982164e-09</td>\n      <td>6.483798e-08</td>\n      <td>allen_wrench</td>\n      <td>0.549829</td>\n      <td>54.982889</td>\n      <td>0.549829</td>\n    </tr>\n    <tr>\n      <th>2</th>\n      <td>Synset('alligator_wrench.n.01')</td>\n      <td>tool</td>\n      <td>1</td>\n      <td>0</td>\n      <td>0.0</td>\n      <td>1.012903</td>\n      <td>1.517437</td>\n      <td>16</td>\n      <td>1</td>\n      <td>1</td>\n      <td>...</td>\n      <td>1.237592e-09</td>\n      <td>1.499339e-08</td>\n      <td>6.203393e-10</td>\n      <td>1.499339e-08</td>\n      <td>4.783770e-10</td>\n      <td>1.499339e-08</td>\n      <td>alligator_wrench</td>\n      <td>0.431030</td>\n      <td>43.102965</td>\n      <td>0.431030</td>\n    </tr>\n    <tr>\n      <th>3</th>\n      <td>Synset('awl.n.01')</td>\n      <td>tool</td>\n      <td>1</td>\n      <td>2</td>\n      <td>15.7</td>\n      <td>0.911613</td>\n      <td>0.985552</td>\n      <td>3</td>\n      <td>1</td>\n      <td>1</td>\n      <td>...</td>\n      <td>5.869817e-07</td>\n      <td>2.510665e-06</td>\n      <td>6.210211e-07</td>\n      <td>6.602901e-06</td>\n      <td>5.069033e-07</td>\n      <td>6.602901e-06</td>\n      <td>awl</td>\n      <td>0.327994</td>\n      <td>32.799363</td>\n      <td>0.327994</td>\n    </tr>\n    <tr>\n      <th>4</th>\n      <td>Synset('backsaw.n.01')</td>\n      <td>tool</td>\n      <td>1</td>\n      <td>0</td>\n      <td>0.0</td>\n      <td>1.114194</td>\n      <td>1.110701</td>\n      <td>7</td>\n      <td>2</td>\n      <td>1</td>\n      <td>...</td>\n      <td>1.451245e-08</td>\n      <td>3.507272e-08</td>\n      <td>9.018908e-09</td>\n      <td>2.260505e-07</td>\n      <td>6.954965e-09</td>\n      <td>2.260505e-07</td>\n      <td>backsaw</td>\n      <td>0.290454</td>\n      <td>32.644600</td>\n      <td>0.362438</td>\n    </tr>\n    <tr>\n      <th>...</th>\n      <td>...</td>\n      <td>...</td>\n      <td>...</td>\n      <td>...</td>\n      <td>...</td>\n      <td>...</td>\n      <td>...</td>\n      <td>...</td>\n      <td>...</td>\n      <td>...</td>\n      <td>...</td>\n      <td>...</td>\n      <td>...</td>\n      <td>...</td>\n      <td>...</td>\n      <td>...</td>\n      <td>...</td>\n      <td>...</td>\n      <td>...</td>\n      <td>...</td>\n      <td>...</td>\n    </tr>\n    <tr>\n      <th>775</th>\n      <td>Synset('ballet_skirt.n.01')</td>\n      <td>garm</td>\n      <td>1</td>\n      <td>0</td>\n      <td>0.0</td>\n      <td>0.947552</td>\n      <td>0.578283</td>\n      <td>4</td>\n      <td>2</td>\n      <td>2</td>\n      <td>...</td>\n      <td>1.531570e-07</td>\n      <td>8.004256e-07</td>\n      <td>1.136149e-07</td>\n      <td>8.004256e-07</td>\n      <td>9.223624e-08</td>\n      <td>1.686392e-06</td>\n      <td>ballet_skirt</td>\n      <td>0.198830</td>\n      <td>23.115268</td>\n      <td>0.263475</td>\n    </tr>\n    <tr>\n      <th>776</th>\n      <td>Synset('mess_jacket.n.01')</td>\n      <td>garm</td>\n      <td>1</td>\n      <td>0</td>\n      <td>0.0</td>\n      <td>1.158120</td>\n      <td>1.652238</td>\n      <td>11</td>\n      <td>3</td>\n      <td>1</td>\n      <td>...</td>\n      <td>1.358353e-08</td>\n      <td>5.083992e-08</td>\n      <td>6.963715e-09</td>\n      <td>5.547362e-08</td>\n      <td>5.370096e-09</td>\n      <td>5.547362e-08</td>\n      <td>mess_jacket</td>\n      <td>0.543115</td>\n      <td>56.592911</td>\n      <td>0.582620</td>\n    </tr>\n    <tr>\n      <th>777</th>\n      <td>Synset('long_johns.n.01')</td>\n      <td>garm</td>\n      <td>1</td>\n      <td>0</td>\n      <td>0.0</td>\n      <td>1.052836</td>\n      <td>0.479149</td>\n      <td>10</td>\n      <td>1</td>\n      <td>1</td>\n      <td>...</td>\n      <td>1.393969e-08</td>\n      <td>1.103470e-07</td>\n      <td>6.987224e-09</td>\n      <td>1.103470e-07</td>\n      <td>5.388225e-09</td>\n      <td>1.103470e-07</td>\n      <td>long_johns</td>\n      <td>0.464427</td>\n      <td>46.442714</td>\n      <td>0.464427</td>\n    </tr>\n    <tr>\n      <th>778</th>\n      <td>Synset('undies.n.01')</td>\n      <td>garm</td>\n      <td>1</td>\n      <td>0</td>\n      <td>0.0</td>\n      <td>1.158120</td>\n      <td>0.280880</td>\n      <td>6</td>\n      <td>1</td>\n      <td>1</td>\n      <td>...</td>\n      <td>3.095668e-08</td>\n      <td>2.565946e-07</td>\n      <td>2.025520e-08</td>\n      <td>3.896998e-07</td>\n      <td>1.561987e-08</td>\n      <td>3.896998e-07</td>\n      <td>undies</td>\n      <td>0.501280</td>\n      <td>50.128013</td>\n      <td>0.501280</td>\n    </tr>\n    <tr>\n      <th>779</th>\n      <td>Synset('lingerie.n.01')</td>\n      <td>garm</td>\n      <td>1</td>\n      <td>2</td>\n      <td>0.0</td>\n      <td>1.052836</td>\n      <td>0.561761</td>\n      <td>8</td>\n      <td>2</td>\n      <td>1</td>\n      <td>...</td>\n      <td>2.835355e-07</td>\n      <td>1.126403e-06</td>\n      <td>1.440483e-07</td>\n      <td>1.126403e-06</td>\n      <td>1.351753e-07</td>\n      <td>8.808865e-06</td>\n      <td>lingerie</td>\n      <td>0.521421</td>\n      <td>52.142096</td>\n      <td>0.521421</td>\n    </tr>\n  </tbody>\n</table>\n<p>780 rows × 33 columns</p>\n</div>"
     },
     "execution_count": 40,
     "metadata": {},
     "output_type": "execute_result"
    }
   ],
   "source": [
    "w2v_dataset"
   ],
   "metadata": {
    "collapsed": false,
    "pycharm": {
     "name": "#%%\n"
    }
   }
  },
  {
   "cell_type": "markdown",
   "source": [
    "### Vector based: SVM"
   ],
   "metadata": {
    "collapsed": false
   }
  },
  {
   "cell_type": "code",
   "execution_count": 18,
   "outputs": [],
   "source": [
    "# generate the local dataframe for different domains\n",
    "local_fruit = w2v_dataset.loc[w2v_dataset['domain_x']=='fruit']\n",
    "local_tool = w2v_dataset.loc[w2v_dataset['domain_x']=='tool']\n",
    "local_music = w2v_dataset.loc[w2v_dataset['domain_x']=='music']\n",
    "local_furniture = w2v_dataset.loc[w2v_dataset['domain_x']=='furn']\n",
    "local_garments = w2v_dataset.loc[w2v_dataset['domain_x']=='garm']\n",
    "\n",
    "local_list = [local_fruit, local_tool, local_music, local_furniture, local_garments]\n",
    "\n",
    "# average results of five domains\n",
    "def svm_local_model_test(dataset_list, feature, vec, target, cc, gamma_setting):\n",
    "    local_kappa_list = []\n",
    "    local_balancedAcc_list = []\n",
    "    for local_dataset in dataset_list:\n",
    "        result_list = svm_global_model_test(local_dataset, feature, vec, target, cc, gamma_setting)\n",
    "        local_kappa_list.append(result_list[0])\n",
    "        local_balancedAcc_list.append(result_list[1])\n",
    "\n",
    "    local_result_list = [np.mean(local_kappa_list), np.mean(local_balancedAcc_list)]\n",
    "    return local_result_list"
   ],
   "metadata": {
    "collapsed": false,
    "pycharm": {
     "name": "#%%\n"
    },
    "trusted": false
   }
  },
  {
   "cell_type": "code",
   "execution_count": 19,
   "outputs": [
    {
     "name": "stdout",
     "output_type": "stream",
     "text": "Best kappa = 0.560871366280561, best balanced accuracy = 0.7683412698412698, C = 198, gamma is scale\n"
    }
   ],
   "source": [
    "# grid search for SVM\n",
    "max_kappa = 0\n",
    "max_balanced_accuracy = 0\n",
    "best_C = 0\n",
    "besr_gamma = ''\n",
    "for gamma_setting in ['auto', 'scale']:\n",
    "    for cc in range(1, 201):\n",
    "        res = svm_local_model_test(local_list, features_base, vec_col+['ngram_100y_max', 'ngram_400y_mean'], target, cc, gamma_setting)\n",
    "        if res[0] > max_kappa:\n",
    "            max_kappa = res[0]\n",
    "            max_balanced_accuracy = res[1]\n",
    "            best_C = cc\n",
    "            besr_gamma = gamma_setting\n",
    "\n",
    "print('Best kappa = {0}, best balanced accuracy = {1}, C = {2}, gamma is {3}'.format(max_kappa, max_balanced_accuracy,best_C, besr_gamma))"
   ],
   "metadata": {
    "collapsed": false,
    "pycharm": {
     "name": "#%%\n"
    },
    "trusted": false
   }
  },
  {
   "cell_type": "markdown",
   "source": [
    "## TransferModel Test"
   ],
   "metadata": {
    "collapsed": false
   }
  },
  {
   "cell_type": "markdown",
   "source": [
    "### Benchmark: Random Forest"
   ],
   "metadata": {
    "collapsed": false,
    "pycharm": {
     "name": "#%% md\n"
    }
   }
  },
  {
   "cell_type": "code",
   "execution_count": 145,
   "outputs": [],
   "source": [
    "# generate the unseen(transfer) dataframe for different domains\n",
    "unseen_fruit = w2v_dataset.loc[w2v_dataset['domain_x']!='fruit']\n",
    "unseen_tool = w2v_dataset.loc[w2v_dataset['domain_x']!='tool']\n",
    "unseen_music = w2v_dataset.loc[w2v_dataset['domain_x']!='music']\n",
    "unseen_furniture = w2v_dataset.loc[w2v_dataset['domain_x']!='furn']\n",
    "unseen_garments = w2v_dataset.loc[w2v_dataset['domain_x']!='garm']\n",
    "\n",
    "unseen_list = [unseen_fruit, unseen_tool, unseen_music, unseen_furniture, unseen_garments]\n",
    "\n",
    "def transfer_model_test(train_list, test_list, feature, distance, target):\n",
    "    random_seed = 7 # R\n",
    "    transfer_kappa_list = []\n",
    "    transfer_balancedAcc_list = []\n",
    "    for counter in range(len(train_list)):\n",
    "        training_data = train_list[counter].reset_index()\n",
    "        testing_data = test_list[counter].reset_index()\n",
    "        feature_list = feature + distance\n",
    "        X_train = training_data[feature_list]\n",
    "        y_train = training_data[target]\n",
    "        X_test = testing_data[feature_list]\n",
    "        y_test = testing_data[target]\n",
    "\n",
    "        # SMOTE algorithm\n",
    "        smote = SMOTE(random_state=random_seed, k_neighbors=2)\n",
    "        X_train, y_train = smote.fit_resample(X_train, y_train)\n",
    "\n",
    "        # define random forest model\n",
    "        rf = RandomForestClassifier(random_state=random_seed, max_features='sqrt', n_estimators=1400, min_samples_split=2, min_samples_leaf=1, max_depth=50, oob_score=True, criterion='gini', bootstrap=True).fit(X_train, y_train)\n",
    "\n",
    "        # predict and make score\n",
    "        pipeline = make_pipeline(smote, rf)\n",
    "        y_pred = pipeline.predict(X_test)\n",
    "\n",
    "        kappa = cohen_kappa_score(y_test, y_pred)\n",
    "        balanced_accuracy = balanced_accuracy_score(y_test, y_pred)\n",
    "\n",
    "        transfer_kappa_list.append(kappa)\n",
    "        transfer_balancedAcc_list.append(balanced_accuracy)\n",
    "\n",
    "    transfer_results = [np.mean(transfer_kappa_list), np.mean(transfer_balancedAcc_list)]\n",
    "\n",
    "    return transfer_results"
   ],
   "metadata": {
    "collapsed": false,
    "pycharm": {
     "name": "#%%\n"
    },
    "trusted": false
   }
  },
  {
   "cell_type": "code",
   "execution_count": 146,
   "outputs": [
    {
     "data": {
      "text/plain": "[0.48615842665407644, 0.7813716087673764]"
     },
     "execution_count": 146,
     "metadata": {},
     "output_type": "execute_result"
    }
   ],
   "source": [
    "transfer_model_test(unseen_list, local_list, features_base, ['dist_std'], target)"
   ],
   "metadata": {
    "collapsed": false,
    "pycharm": {
     "name": "#%%\n"
    },
    "trusted": false
   }
  },
  {
   "cell_type": "code",
   "execution_count": 147,
   "outputs": [
    {
     "data": {
      "text/plain": "[0.5218030080210475, 0.8039889364200585]"
     },
     "execution_count": 147,
     "metadata": {},
     "output_type": "execute_result"
    }
   ],
   "source": [
    "transfer_model_test(unseen_list, local_list, features_base, ['dist_mean'], target)"
   ],
   "metadata": {
    "collapsed": false,
    "pycharm": {
     "name": "#%%\n"
    }
   }
  },
  {
   "cell_type": "code",
   "execution_count": 148,
   "outputs": [
    {
     "data": {
      "text/plain": "[0.5124772789121373, 0.7942018585070195]"
     },
     "execution_count": 148,
     "metadata": {},
     "output_type": "execute_result"
    }
   ],
   "source": [
    "transfer_model_test(unseen_list, local_list, features_base, ['dist_max'], target)"
   ],
   "metadata": {
    "collapsed": false,
    "pycharm": {
     "name": "#%%\n"
    }
   }
  },
  {
   "cell_type": "code",
   "execution_count": 149,
   "outputs": [
    {
     "data": {
      "text/plain": "[0.5314563733456981, 0.7914294081380764]"
     },
     "execution_count": 149,
     "metadata": {},
     "output_type": "execute_result"
    }
   ],
   "source": [
    "transfer_model_test(unseen_list, local_list, features_base, ['dist_min'], target)"
   ],
   "metadata": {
    "collapsed": false,
    "pycharm": {
     "name": "#%%\n"
    }
   }
  },
  {
   "cell_type": "code",
   "execution_count": 49,
   "outputs": [
    {
     "data": {
      "text/plain": "                              Synsets domain_x  nrdirhypers_x  nrhypos_x  \\\n0    Synset('adjustable_wrench.n.01')     tool              1          7   \n1         Synset('allen_wrench.n.01')     tool              1          0   \n2     Synset('alligator_wrench.n.01')     tool              1          0   \n3                  Synset('awl.n.01')     tool              1          2   \n4              Synset('backsaw.n.01')     tool              1          0   \n..                                ...      ...            ...        ...   \n775       Synset('ballet_skirt.n.01')     garm              1          0   \n776        Synset('mess_jacket.n.01')     garm              1          0   \n777         Synset('long_johns.n.01')     garm              1          0   \n778             Synset('undies.n.01')     garm              1          0   \n779           Synset('lingerie.n.01')     garm              1          2   \n\n     nrpartrels_normalised_x  depthfromtopsynset_normalised_x  \\\n0                        0.0                         1.012903   \n1                        0.0                         1.012903   \n2                        0.0                         1.012903   \n3                       15.7                         0.911613   \n4                        0.0                         1.114194   \n..                       ...                              ...   \n775                      0.0                         0.947552   \n776                      0.0                         1.158120   \n777                      0.0                         1.052836   \n778                      0.0                         1.158120   \n779                      0.0                         1.052836   \n\n     glosslength_normalised_x  minwordlength_x  nroflemmas_x  polyscore_max_x  \\\n0                    0.563173               17             2                1   \n1                    0.391092               12             1                1   \n2                    1.517437               16             1                1   \n3                    0.985552                3             1                1   \n4                    1.110701                7             2                1   \n..                        ...              ...           ...              ...   \n775                  0.578283                4             2                2   \n776                  1.652238               11             3                1   \n777                  0.479149               10             1                1   \n778                  0.280880                6             1                1   \n779                  0.561761                8             2                1   \n\n     ... ngram_200y_mean  ngram_200y_max  ngram_400y_mean  ngram_400y_max  \\\n0    ...    1.380492e-08    5.067315e-08     6.919673e-09    5.067315e-08   \n1    ...    7.715051e-09    6.483798e-08     3.867145e-09    6.483798e-08   \n2    ...    1.237592e-09    1.499339e-08     6.203393e-10    1.499339e-08   \n3    ...    5.869817e-07    2.510665e-06     6.210211e-07    6.602901e-06   \n4    ...    1.451245e-08    3.507272e-08     9.018908e-09    2.260505e-07   \n..   ...             ...             ...              ...             ...   \n775  ...    1.531570e-07    8.004256e-07     1.136149e-07    8.004256e-07   \n776  ...    1.358353e-08    5.083992e-08     6.963715e-09    5.547362e-08   \n777  ...    1.393969e-08    1.103470e-07     6.987224e-09    1.103470e-07   \n778  ...    3.095668e-08    2.565946e-07     2.025520e-08    3.896998e-07   \n779  ...    2.835355e-07    1.126403e-06     1.440483e-07    1.126403e-06   \n\n     ngram_500y_mean  ngram_500y_max               norm    dis_min  dist_mean  \\\n0       5.336133e-09    5.067315e-08  adjustable_wrench  41.657570  45.038897   \n1       2.982164e-09    6.483798e-08       allen_wrench  54.982889  54.982889   \n2       4.783770e-10    1.499339e-08   alligator_wrench  43.102965  43.102965   \n3       5.069033e-07    6.602901e-06                awl  32.799363  32.799363   \n4       6.954965e-09    2.260505e-07            backsaw  29.045403  32.644600   \n..               ...             ...                ...        ...        ...   \n775     9.223624e-08    1.686392e-06       ballet_skirt  19.883022  23.115268   \n776     5.370096e-09    5.547362e-08        mess_jacket  54.311496  56.592911   \n777     5.388225e-09    1.103470e-07         long_johns  46.442714  46.442714   \n778     1.561987e-08    3.896998e-07             undies  50.128013  50.128013   \n779     1.351753e-07    8.808865e-06           lingerie  52.142096  52.142096   \n\n      dist_max  \n0    48.420227  \n1    54.982889  \n2    43.102965  \n3    32.799363  \n4    36.243793  \n..         ...  \n775  26.347515  \n776  58.261991  \n777  46.442714  \n778  50.128013  \n779  52.142096  \n\n[780 rows x 33 columns]",
      "text/html": "<div>\n<style scoped>\n    .dataframe tbody tr th:only-of-type {\n        vertical-align: middle;\n    }\n\n    .dataframe tbody tr th {\n        vertical-align: top;\n    }\n\n    .dataframe thead th {\n        text-align: right;\n    }\n</style>\n<table border=\"1\" class=\"dataframe\">\n  <thead>\n    <tr style=\"text-align: right;\">\n      <th></th>\n      <th>Synsets</th>\n      <th>domain_x</th>\n      <th>nrdirhypers_x</th>\n      <th>nrhypos_x</th>\n      <th>nrpartrels_normalised_x</th>\n      <th>depthfromtopsynset_normalised_x</th>\n      <th>glosslength_normalised_x</th>\n      <th>minwordlength_x</th>\n      <th>nroflemmas_x</th>\n      <th>polyscore_max_x</th>\n      <th>...</th>\n      <th>ngram_200y_mean</th>\n      <th>ngram_200y_max</th>\n      <th>ngram_400y_mean</th>\n      <th>ngram_400y_max</th>\n      <th>ngram_500y_mean</th>\n      <th>ngram_500y_max</th>\n      <th>norm</th>\n      <th>dis_min</th>\n      <th>dist_mean</th>\n      <th>dist_max</th>\n    </tr>\n  </thead>\n  <tbody>\n    <tr>\n      <th>0</th>\n      <td>Synset('adjustable_wrench.n.01')</td>\n      <td>tool</td>\n      <td>1</td>\n      <td>7</td>\n      <td>0.0</td>\n      <td>1.012903</td>\n      <td>0.563173</td>\n      <td>17</td>\n      <td>2</td>\n      <td>1</td>\n      <td>...</td>\n      <td>1.380492e-08</td>\n      <td>5.067315e-08</td>\n      <td>6.919673e-09</td>\n      <td>5.067315e-08</td>\n      <td>5.336133e-09</td>\n      <td>5.067315e-08</td>\n      <td>adjustable_wrench</td>\n      <td>41.657570</td>\n      <td>45.038897</td>\n      <td>48.420227</td>\n    </tr>\n    <tr>\n      <th>1</th>\n      <td>Synset('allen_wrench.n.01')</td>\n      <td>tool</td>\n      <td>1</td>\n      <td>0</td>\n      <td>0.0</td>\n      <td>1.012903</td>\n      <td>0.391092</td>\n      <td>12</td>\n      <td>1</td>\n      <td>1</td>\n      <td>...</td>\n      <td>7.715051e-09</td>\n      <td>6.483798e-08</td>\n      <td>3.867145e-09</td>\n      <td>6.483798e-08</td>\n      <td>2.982164e-09</td>\n      <td>6.483798e-08</td>\n      <td>allen_wrench</td>\n      <td>54.982889</td>\n      <td>54.982889</td>\n      <td>54.982889</td>\n    </tr>\n    <tr>\n      <th>2</th>\n      <td>Synset('alligator_wrench.n.01')</td>\n      <td>tool</td>\n      <td>1</td>\n      <td>0</td>\n      <td>0.0</td>\n      <td>1.012903</td>\n      <td>1.517437</td>\n      <td>16</td>\n      <td>1</td>\n      <td>1</td>\n      <td>...</td>\n      <td>1.237592e-09</td>\n      <td>1.499339e-08</td>\n      <td>6.203393e-10</td>\n      <td>1.499339e-08</td>\n      <td>4.783770e-10</td>\n      <td>1.499339e-08</td>\n      <td>alligator_wrench</td>\n      <td>43.102965</td>\n      <td>43.102965</td>\n      <td>43.102965</td>\n    </tr>\n    <tr>\n      <th>3</th>\n      <td>Synset('awl.n.01')</td>\n      <td>tool</td>\n      <td>1</td>\n      <td>2</td>\n      <td>15.7</td>\n      <td>0.911613</td>\n      <td>0.985552</td>\n      <td>3</td>\n      <td>1</td>\n      <td>1</td>\n      <td>...</td>\n      <td>5.869817e-07</td>\n      <td>2.510665e-06</td>\n      <td>6.210211e-07</td>\n      <td>6.602901e-06</td>\n      <td>5.069033e-07</td>\n      <td>6.602901e-06</td>\n      <td>awl</td>\n      <td>32.799363</td>\n      <td>32.799363</td>\n      <td>32.799363</td>\n    </tr>\n    <tr>\n      <th>4</th>\n      <td>Synset('backsaw.n.01')</td>\n      <td>tool</td>\n      <td>1</td>\n      <td>0</td>\n      <td>0.0</td>\n      <td>1.114194</td>\n      <td>1.110701</td>\n      <td>7</td>\n      <td>2</td>\n      <td>1</td>\n      <td>...</td>\n      <td>1.451245e-08</td>\n      <td>3.507272e-08</td>\n      <td>9.018908e-09</td>\n      <td>2.260505e-07</td>\n      <td>6.954965e-09</td>\n      <td>2.260505e-07</td>\n      <td>backsaw</td>\n      <td>29.045403</td>\n      <td>32.644600</td>\n      <td>36.243793</td>\n    </tr>\n    <tr>\n      <th>...</th>\n      <td>...</td>\n      <td>...</td>\n      <td>...</td>\n      <td>...</td>\n      <td>...</td>\n      <td>...</td>\n      <td>...</td>\n      <td>...</td>\n      <td>...</td>\n      <td>...</td>\n      <td>...</td>\n      <td>...</td>\n      <td>...</td>\n      <td>...</td>\n      <td>...</td>\n      <td>...</td>\n      <td>...</td>\n      <td>...</td>\n      <td>...</td>\n      <td>...</td>\n      <td>...</td>\n    </tr>\n    <tr>\n      <th>775</th>\n      <td>Synset('ballet_skirt.n.01')</td>\n      <td>garm</td>\n      <td>1</td>\n      <td>0</td>\n      <td>0.0</td>\n      <td>0.947552</td>\n      <td>0.578283</td>\n      <td>4</td>\n      <td>2</td>\n      <td>2</td>\n      <td>...</td>\n      <td>1.531570e-07</td>\n      <td>8.004256e-07</td>\n      <td>1.136149e-07</td>\n      <td>8.004256e-07</td>\n      <td>9.223624e-08</td>\n      <td>1.686392e-06</td>\n      <td>ballet_skirt</td>\n      <td>19.883022</td>\n      <td>23.115268</td>\n      <td>26.347515</td>\n    </tr>\n    <tr>\n      <th>776</th>\n      <td>Synset('mess_jacket.n.01')</td>\n      <td>garm</td>\n      <td>1</td>\n      <td>0</td>\n      <td>0.0</td>\n      <td>1.158120</td>\n      <td>1.652238</td>\n      <td>11</td>\n      <td>3</td>\n      <td>1</td>\n      <td>...</td>\n      <td>1.358353e-08</td>\n      <td>5.083992e-08</td>\n      <td>6.963715e-09</td>\n      <td>5.547362e-08</td>\n      <td>5.370096e-09</td>\n      <td>5.547362e-08</td>\n      <td>mess_jacket</td>\n      <td>54.311496</td>\n      <td>56.592911</td>\n      <td>58.261991</td>\n    </tr>\n    <tr>\n      <th>777</th>\n      <td>Synset('long_johns.n.01')</td>\n      <td>garm</td>\n      <td>1</td>\n      <td>0</td>\n      <td>0.0</td>\n      <td>1.052836</td>\n      <td>0.479149</td>\n      <td>10</td>\n      <td>1</td>\n      <td>1</td>\n      <td>...</td>\n      <td>1.393969e-08</td>\n      <td>1.103470e-07</td>\n      <td>6.987224e-09</td>\n      <td>1.103470e-07</td>\n      <td>5.388225e-09</td>\n      <td>1.103470e-07</td>\n      <td>long_johns</td>\n      <td>46.442714</td>\n      <td>46.442714</td>\n      <td>46.442714</td>\n    </tr>\n    <tr>\n      <th>778</th>\n      <td>Synset('undies.n.01')</td>\n      <td>garm</td>\n      <td>1</td>\n      <td>0</td>\n      <td>0.0</td>\n      <td>1.158120</td>\n      <td>0.280880</td>\n      <td>6</td>\n      <td>1</td>\n      <td>1</td>\n      <td>...</td>\n      <td>3.095668e-08</td>\n      <td>2.565946e-07</td>\n      <td>2.025520e-08</td>\n      <td>3.896998e-07</td>\n      <td>1.561987e-08</td>\n      <td>3.896998e-07</td>\n      <td>undies</td>\n      <td>50.128013</td>\n      <td>50.128013</td>\n      <td>50.128013</td>\n    </tr>\n    <tr>\n      <th>779</th>\n      <td>Synset('lingerie.n.01')</td>\n      <td>garm</td>\n      <td>1</td>\n      <td>2</td>\n      <td>0.0</td>\n      <td>1.052836</td>\n      <td>0.561761</td>\n      <td>8</td>\n      <td>2</td>\n      <td>1</td>\n      <td>...</td>\n      <td>2.835355e-07</td>\n      <td>1.126403e-06</td>\n      <td>1.440483e-07</td>\n      <td>1.126403e-06</td>\n      <td>1.351753e-07</td>\n      <td>8.808865e-06</td>\n      <td>lingerie</td>\n      <td>52.142096</td>\n      <td>52.142096</td>\n      <td>52.142096</td>\n    </tr>\n  </tbody>\n</table>\n<p>780 rows × 33 columns</p>\n</div>"
     },
     "execution_count": 49,
     "metadata": {},
     "output_type": "execute_result"
    }
   ],
   "source": [
    "w2v_dataset"
   ],
   "metadata": {
    "collapsed": false,
    "pycharm": {
     "name": "#%%\n"
    }
   }
  },
  {
   "cell_type": "markdown",
   "source": [
    "### Vector based: SVM"
   ],
   "metadata": {
    "collapsed": false
   }
  },
  {
   "cell_type": "code",
   "execution_count": 20,
   "outputs": [],
   "source": [
    "# generate the unseen(transfer) dataframe for different domains\n",
    "unseen_fruit = w2v_dataset.loc[w2v_dataset['domain_x']!='fruit']\n",
    "unseen_tool = w2v_dataset.loc[w2v_dataset['domain_x']!='tool']\n",
    "unseen_music = w2v_dataset.loc[w2v_dataset['domain_x']!='music']\n",
    "unseen_furniture = w2v_dataset.loc[w2v_dataset['domain_x']!='furn']\n",
    "unseen_garments = w2v_dataset.loc[w2v_dataset['domain_x']!='garm']\n",
    "\n",
    "unseen_list = [unseen_fruit, unseen_tool, unseen_music, unseen_furniture, unseen_garments]\n",
    "\n",
    "def svm_transfer_model_test(train_list, test_list, feature, distance, target, cc, gamma_setting):\n",
    "    random_seed = 7 # R\n",
    "    transfer_kappa_list = []\n",
    "    transfer_balancedAcc_list = []\n",
    "    for counter in range(len(train_list)):\n",
    "        training_data = train_list[counter].reset_index()\n",
    "        testing_data = test_list[counter].reset_index()\n",
    "        feature_list = feature + distance\n",
    "        X_train = training_data[feature_list]\n",
    "        y_train = training_data[target]\n",
    "        X_test = testing_data[feature_list]\n",
    "        y_test = testing_data[target]\n",
    "\n",
    "        # SVM\n",
    "        svm_classifier = svm.SVC(C=cc, kernel='rbf', gamma=gamma_setting)\n",
    "\n",
    "        # fit data\n",
    "        svm_classifier.fit(X_train, y_train)\n",
    "\n",
    "        # predict and make score\n",
    "        y_pred = svm_classifier.predict(X_test)\n",
    "\n",
    "        kappa = cohen_kappa_score(y_test, y_pred)\n",
    "        balanced_accuracy = balanced_accuracy_score(y_test, y_pred)\n",
    "\n",
    "        transfer_kappa_list.append(kappa)\n",
    "        transfer_balancedAcc_list.append(balanced_accuracy)\n",
    "\n",
    "    transfer_results = [np.mean(transfer_kappa_list), np.mean(transfer_balancedAcc_list)]\n",
    "\n",
    "    return transfer_results"
   ],
   "metadata": {
    "collapsed": false,
    "pycharm": {
     "name": "#%%\n"
    },
    "trusted": false
   }
  },
  {
   "cell_type": "code",
   "execution_count": 21,
   "outputs": [
    {
     "name": "stdout",
     "output_type": "stream",
     "text": "Best kappa = 0.40680554548890785, best balanced accuracy = 0.6903773148027202, C = 66, gamma is scale\n"
    }
   ],
   "source": [
    "# grid search for SVM\n",
    "max_kappa = 0\n",
    "max_balanced_accuracy = 0\n",
    "best_C = 0\n",
    "besr_gamma = ''\n",
    "for gamma_setting in ['auto', 'scale']:\n",
    "    for cc in range(1, 201):\n",
    "        res = svm_transfer_model_test(unseen_list, local_list, features_base, vec_col+['ngram_5y_mean', 'ngram_50y_mean', 'ngram_100y_mean', 'ngram_200y_max', 'ngram_500y_max'], target, cc, gamma_setting)\n",
    "        if res[0] > max_kappa:\n",
    "            max_kappa = res[0]\n",
    "            max_balanced_accuracy = res[1]\n",
    "            best_C = cc\n",
    "            besr_gamma = gamma_setting\n",
    "\n",
    "print('Best kappa = {0}, best balanced accuracy = {1}, C = {2}, gamma is {3}'.format(max_kappa, max_balanced_accuracy,best_C, besr_gamma))"
   ],
   "metadata": {
    "collapsed": false,
    "pycharm": {
     "name": "#%%\n"
    },
    "trusted": false
   }
  },
  {
   "cell_type": "code",
   "execution_count": null,
   "outputs": [],
   "source": [
    "np.mean([0.862, 0.761, 0.562, 0.5695, 0.4001])"
   ],
   "metadata": {
    "collapsed": false,
    "pycharm": {
     "name": "#%%\n"
    }
   }
  }
 ],
 "metadata": {
  "kernelspec": {
   "display_name": "Python 3",
   "language": "python",
   "name": "python3"
  },
  "language_info": {
   "codemirror_mode": {
    "name": "ipython",
    "version": 2
   },
   "file_extension": ".py",
   "mimetype": "text/x-python",
   "name": "python",
   "nbconvert_exporter": "python",
   "pygments_lexer": "ipython2",
   "version": "2.7.6"
  }
 },
 "nbformat": 4,
 "nbformat_minor": 0
}